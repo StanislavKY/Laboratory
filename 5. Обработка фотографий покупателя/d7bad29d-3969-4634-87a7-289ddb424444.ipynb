{
 "cells": [
  {
   "cell_type": "markdown",
   "metadata": {},
   "source": [
    "<div class=\"alert alert-info\">\n",
    "<font size=\"5\"><b>Комментарий ревьюера</b></font>\n",
    "\n",
    "Привет Станислав! Меня зовут Марат, и я буду твоим ревьюером. Спешу сообщить что все ключевые этапы в работе выполнены,  с задачей тебе удалось справиться. По поводу обращения - в IT сфере принято общаться на «ты» :) Но, если привычней на «вы», дай знать. Как ревьюера моя задача помочь тебе в развитии, дав хорошие советы. Я внимательно посмотрю твой код, ознакомлюсь с твоими выводами и оставлю комментарии. Где то могу предложить небольшие исправление в коде, но ненавязчиво. Где потребуются уточнения, я оставлю много наводящих вопросов. Они помогут тебя с поиском верного решения.\n",
    "\n",
    "Все мои комментарии размечены по цветам, для лучшего восприятия. \n",
    "    \n",
    "<div class=\"alert alert-success\">Зеленым цветом и словом «Успех» отмечены особо удачные и элегантные решения, которыми ты можешь гордиться. </div>\n",
    "        \n",
    "<div class=\"alert alert-warning\">Желтым и значком словом «Совет», помечены решения у которых есть альтернативные решения, более оптимальные. Ты можешь найти их сразу и доработать проект, или отложить это на потом, для будущих проектах. Проект будет принят и без их доработки. </div>\n",
    "        \n",
    "<div class=\"alert alert-danger\"> Красным цветом и значком словом «Ошибка» помечу твои решения, на которые стоит обратить внимание прежде всего. После их доработки проект будет принят. </div>\n",
    "        \n",
    "Залог успеха - работа сообща, взаимное уважение и работа в диалоге. Поэтому, помечай свои ответные комментарии на мои реплики заметным цветом или курсивом, так мне будет легче их отслеживать. Пожалуйста, не изменяй и не удаляй мои комментарии. Все это поможет выполнить повторную проверку быстрей.\n",
    "\n",
    "</div>"
   ]
  },
  {
   "cell_type": "markdown",
   "metadata": {},
   "source": [
    "# Рекомендация тарифов"
   ]
  },
  {
   "cell_type": "markdown",
   "metadata": {},
   "source": [
    "В вашем распоряжении данные о поведении клиентов, которые уже перешли на эти тарифы (из проекта курса «Статистический анализ данных»). Нужно построить модель для задачи классификации, которая выберет подходящий тариф. Предобработка данных не понадобится — вы её уже сделали.\n",
    "\n",
    "Постройте модель с максимально большим значением *accuracy*. Чтобы сдать проект успешно, нужно довести долю правильных ответов по крайней мере до 0.75. Проверьте *accuracy* на тестовой выборке самостоятельно."
   ]
  },
  {
   "cell_type": "markdown",
   "metadata": {},
   "source": [
    "<div class=\"alert alert-success\">\n",
    "<font size=\"5\"><b>Комментарий ревьюера</b></font>\n",
    "\n",
    "Успех:\n",
    "\n",
    "\n",
    "Вступление в работу очень важно, так человек, который смотрит твой проект (и на работе в том числе) будет сразу введен в курс дела.\n",
    "\n",
    "\n",
    "\n",
    "\n",
    "\n",
    "</div>"
   ]
  },
  {
   "cell_type": "markdown",
   "metadata": {},
   "source": [
    "## Откройте и изучите файл"
   ]
  },
  {
   "cell_type": "code",
   "execution_count": 19,
   "metadata": {
    "scrolled": true
   },
   "outputs": [],
   "source": [
    "import pandas as pd \n",
    "\n",
    "from sklearn.tree import DecisionTreeClassifier\n",
    "from sklearn.linear_model import LogisticRegression\n",
    "from sklearn.ensemble import RandomForestClassifier\n",
    "from sklearn.metrics import mean_squared_error\n",
    "from sklearn.model_selection import train_test_split\n",
    "\n",
    "from tqdm import tqdm"
   ]
  },
  {
   "cell_type": "markdown",
   "metadata": {},
   "source": [
    " <div class=\"alert alert-info\">  Добавил from tqdm import tqdm (но что-то нигде не отображается) "
   ]
  },
  {
   "cell_type": "markdown",
   "metadata": {},
   "source": [
    "<div class=\"alert alert-warning\">\n",
    "<font size=\"5\"><b>Комментарий ревьюераV2</b></font>\n",
    "\n",
    "\n",
    "\n",
    "Совет 🤔:\n",
    "\n",
    "\n",
    "Привет Станислав!\n",
    "    \n",
    "    \n",
    "\n",
    "Потому что не дописал:\n",
    "    \n",
    "    \n",
    "    for depth in range (1, 11):  -----> for depth in tqdm(range (1, 11)):    \n"
   ]
  },
  {
   "cell_type": "code",
   "execution_count": 55,
   "metadata": {},
   "outputs": [
    {
     "name": "stdout",
     "output_type": "stream",
     "text": [
      "   calls  minutes  messages   mb_used  is_ultra\n",
      "0   40.0   311.90      83.0  19915.42         0\n",
      "1   85.0   516.75      56.0  22696.96         0\n",
      "2   77.0   467.66      86.0  21060.45         0\n",
      "3  106.0   745.53      81.0   8437.39         1\n",
      "4   66.0   418.74       1.0  14502.75         0\n"
     ]
    }
   ],
   "source": [
    "df = pd.read_csv('/datasets/users_behavior.csv')\n",
    "\n",
    "print(df.head(5))"
   ]
  },
  {
   "cell_type": "markdown",
   "metadata": {},
   "source": [
    "<div class=\"alert alert-success\">\n",
    "<font size=\"5\"><b>Комментарий ревьюера</b></font>\n",
    "\n",
    "Успех:\n",
    "\n",
    "Собираем все импорты в верхней части, чтобы легче было ориентироваться и добавлять новые по необходимости. \n",
    "\n",
    "\n",
    "\n",
    "<div class=\"alert alert-warning\">\n",
    "\n",
    "Совет:     \n",
    "    \n",
    "\n",
    "\n",
    "- Станислав, все-таки стоит импорт библиотек и выгрузку данных разнести в разные ячейки, так стилистически более правильно.\n",
    "\n",
    "\n",
    "- кстати есть рекомендации PEP-8 при написании кода, в том числе и для импортов. Если интересно можешь почитать [тут](https://pythonworld.ru/osnovy/pep-8-rukovodstvo-po-napisaniyu-koda-na-python.html), в будущем пригодится )  \n",
    "\n",
    "\n",
    "\n",
    "<div>"
   ]
  },
  {
   "cell_type": "markdown",
   "metadata": {},
   "source": [
    " <div class=\"alert alert-info\">  V2 Сделал"
   ]
  },
  {
   "cell_type": "markdown",
   "metadata": {},
   "source": [
    "<div class=\"alert alert-success\">\n",
    "<font size=\"5\"><b>Комментарий ревьюераV2</b></font>\n",
    "\n",
    "\n",
    "\n",
    "Успех 👍:\n",
    "\n",
    "\n",
    "\n",
    "👍\n",
    "\n",
    "\n",
    "\n",
    "\n",
    "<div class=\"alert alert-warning\">\n",
    "\n",
    "\n",
    "\n",
    "Совет 🤔:\n",
    "\n",
    "print не всегда нужен, вывод часто произойдет и так, а когда нужен, вместо print лучше использовать display, будет красивей\n",
    "\n",
    "\n",
    "\n"
   ]
  },
  {
   "cell_type": "code",
   "execution_count": 56,
   "metadata": {
    "scrolled": false
   },
   "outputs": [
    {
     "name": "stdout",
     "output_type": "stream",
     "text": [
      "<class 'pandas.core.frame.DataFrame'>\n",
      "RangeIndex: 3214 entries, 0 to 3213\n",
      "Data columns (total 5 columns):\n",
      " #   Column    Non-Null Count  Dtype  \n",
      "---  ------    --------------  -----  \n",
      " 0   calls     3214 non-null   float64\n",
      " 1   minutes   3214 non-null   float64\n",
      " 2   messages  3214 non-null   float64\n",
      " 3   mb_used   3214 non-null   float64\n",
      " 4   is_ultra  3214 non-null   int64  \n",
      "dtypes: float64(4), int64(1)\n",
      "memory usage: 125.7 KB\n"
     ]
    }
   ],
   "source": [
    "df.info() #Общая информация\n",
    "# В задании указано что данные обработаны и предобработка данных не понадобится "
   ]
  },
  {
   "cell_type": "markdown",
   "metadata": {},
   "source": [
    "<div class=\"alert alert-info\"> Данные представлены в виде датасета о Звонках, Длительностью в Минутах, Количестве сообщений, Израсходованного трафика, Отношение к Тарифу Ультра. "
   ]
  },
  {
   "cell_type": "code",
   "execution_count": 57,
   "metadata": {
    "scrolled": true
   },
   "outputs": [
    {
     "name": "stdout",
     "output_type": "stream",
     "text": [
      "   calls  minutes  messages   mb_used  is_ultra\n",
      "0   40.0   311.90        83  19915.42         0\n",
      "1   85.0   516.75        56  22696.96         0\n",
      "2   77.0   467.66        86  21060.45         0\n",
      "3  106.0   745.53        81   8437.39         1\n",
      "4   66.0   418.74         1  14502.75         0\n"
     ]
    }
   ],
   "source": [
    "df['messages'] = df['messages'].astype('int') #Для наглядности меняем тип данных \n",
    "print(df.head(5))"
   ]
  },
  {
   "cell_type": "code",
   "execution_count": 58,
   "metadata": {},
   "outputs": [
    {
     "data": {
      "text/html": [
       "<div>\n",
       "<style scoped>\n",
       "    .dataframe tbody tr th:only-of-type {\n",
       "        vertical-align: middle;\n",
       "    }\n",
       "\n",
       "    .dataframe tbody tr th {\n",
       "        vertical-align: top;\n",
       "    }\n",
       "\n",
       "    .dataframe thead th {\n",
       "        text-align: right;\n",
       "    }\n",
       "</style>\n",
       "<table border=\"1\" class=\"dataframe\">\n",
       "  <thead>\n",
       "    <tr style=\"text-align: right;\">\n",
       "      <th></th>\n",
       "      <th>calls</th>\n",
       "      <th>minutes</th>\n",
       "      <th>messages</th>\n",
       "      <th>mb_used</th>\n",
       "      <th>is_ultra</th>\n",
       "    </tr>\n",
       "  </thead>\n",
       "  <tbody>\n",
       "    <tr>\n",
       "      <th>count</th>\n",
       "      <td>3214.000000</td>\n",
       "      <td>3214.000000</td>\n",
       "      <td>3214.000000</td>\n",
       "      <td>3214.000000</td>\n",
       "      <td>3214.000000</td>\n",
       "    </tr>\n",
       "    <tr>\n",
       "      <th>mean</th>\n",
       "      <td>63.038892</td>\n",
       "      <td>438.208787</td>\n",
       "      <td>38.281269</td>\n",
       "      <td>17207.673836</td>\n",
       "      <td>0.306472</td>\n",
       "    </tr>\n",
       "    <tr>\n",
       "      <th>std</th>\n",
       "      <td>33.236368</td>\n",
       "      <td>234.569872</td>\n",
       "      <td>36.148326</td>\n",
       "      <td>7570.968246</td>\n",
       "      <td>0.461100</td>\n",
       "    </tr>\n",
       "    <tr>\n",
       "      <th>min</th>\n",
       "      <td>0.000000</td>\n",
       "      <td>0.000000</td>\n",
       "      <td>0.000000</td>\n",
       "      <td>0.000000</td>\n",
       "      <td>0.000000</td>\n",
       "    </tr>\n",
       "    <tr>\n",
       "      <th>25%</th>\n",
       "      <td>40.000000</td>\n",
       "      <td>274.575000</td>\n",
       "      <td>9.000000</td>\n",
       "      <td>12491.902500</td>\n",
       "      <td>0.000000</td>\n",
       "    </tr>\n",
       "    <tr>\n",
       "      <th>50%</th>\n",
       "      <td>62.000000</td>\n",
       "      <td>430.600000</td>\n",
       "      <td>30.000000</td>\n",
       "      <td>16943.235000</td>\n",
       "      <td>0.000000</td>\n",
       "    </tr>\n",
       "    <tr>\n",
       "      <th>75%</th>\n",
       "      <td>82.000000</td>\n",
       "      <td>571.927500</td>\n",
       "      <td>57.000000</td>\n",
       "      <td>21424.700000</td>\n",
       "      <td>1.000000</td>\n",
       "    </tr>\n",
       "    <tr>\n",
       "      <th>max</th>\n",
       "      <td>244.000000</td>\n",
       "      <td>1632.060000</td>\n",
       "      <td>224.000000</td>\n",
       "      <td>49745.730000</td>\n",
       "      <td>1.000000</td>\n",
       "    </tr>\n",
       "  </tbody>\n",
       "</table>\n",
       "</div>"
      ],
      "text/plain": [
       "             calls      minutes     messages       mb_used     is_ultra\n",
       "count  3214.000000  3214.000000  3214.000000   3214.000000  3214.000000\n",
       "mean     63.038892   438.208787    38.281269  17207.673836     0.306472\n",
       "std      33.236368   234.569872    36.148326   7570.968246     0.461100\n",
       "min       0.000000     0.000000     0.000000      0.000000     0.000000\n",
       "25%      40.000000   274.575000     9.000000  12491.902500     0.000000\n",
       "50%      62.000000   430.600000    30.000000  16943.235000     0.000000\n",
       "75%      82.000000   571.927500    57.000000  21424.700000     1.000000\n",
       "max     244.000000  1632.060000   224.000000  49745.730000     1.000000"
      ]
     },
     "execution_count": 58,
     "metadata": {},
     "output_type": "execute_result"
    }
   ],
   "source": [
    "df.describe()"
   ]
  },
  {
   "cell_type": "markdown",
   "metadata": {},
   "source": [
    "<div class=\"alert alert-success\">\n",
    "<font size=\"5\"><b>Комментарий ревьюера</b></font>\n",
    "\n",
    "Успех:\n",
    "\n",
    "👍 Данные изучены.\n",
    "\n",
    "\n",
    "\n",
    "<div class=\"alert alert-warning\">\n",
    "\n",
    "\n",
    "\n",
    "Совет: \n",
    "\n",
    "\n",
    "- .info (дает тебе информацию о пропусках и типах данных), а .describe (медианы, квантили, max, min итд) это такой джентльменский набор при первичной разведке данных (EDA).  \n",
    "\n",
    "\n",
    "\n",
    "- Можно еще отдельно проверить датасет на сбалансированность классов в таргете. Это помогло бы решить бонусное задание сразу (Только не надо балансировать данные, это тема следующего проекта).\n",
    "\n",
    "\n",
    "\n",
    "\n",
    "- Можно посмотреть корреляцию признаков. Знаешь что такое мультиколлинеарность, какие два типа проблем возникает, для каких моделей и какие варианты решения?\n",
    "\n",
    "\n",
    "\n",
    "\n",
    "</div>\n"
   ]
  },
  {
   "cell_type": "markdown",
   "metadata": {},
   "source": [
    "<div class=\"alert alert-info\"> \n",
    "    \n",
    "-1) сделал\n",
    "    \n",
    "-2) Не знаю, такого не проходил, возьму на заметку\n",
    "    \n",
    "-3) Тоже не знаю, в курсе этого не было. Я пока только по обучению, на остальное пока времени нет :( Основная работа есть к соажлению ("
   ]
  },
  {
   "cell_type": "markdown",
   "metadata": {},
   "source": [
    "\n",
    "<div class=\"alert alert-warning\">\n",
    "<font size=\"5\"><b>Комментарий ревьюераV2</b></font>\n",
    "\n",
    "\n",
    "Совет 🤔:\n",
    "\n",
    "  \n",
    "    \n",
    "\n",
    "\n",
    "\n",
    "- Дисбаланс - это тема следующего проекта.  Смысл очень простой, просто смотрим долю нулей и единичек в таргете. Как видишь нулей у нас 69% - это сразу решение бонусного задания. Именно accuracy 0,69 наша модель должна превзойти чтобы быть признанной адекватной\n",
    "\n",
    "\n",
    "\n",
    "\n",
    "\n",
    "\n",
    "- Мультиколлинеарность. Если своими словами то Мультиколлинеарность - это высокая корреляция между признаками (у нас это calls-minutes) \n",
    "\n",
    "\n",
    "Она вызывает ряд проблем, и от неё можно избавиться, а можно не избавляться, потому что    \n",
    "\n",
    "\n",
    "- Первый момент: мультиколлинеарность проблема линейных моделей - могут переобучаться.... теоретически. Но в логистической, и в линейной регрессиях реализована регуляризация, которая решает проблему мультиколлинеарности признаков. \"Деревянные\" модели (RF, DT) устойчивы к мультиколлинеарности, а кластеризация тоже почти не зависит от линейных зависимостей. Получается, избавляться от мультиколлинеарности чтобы не переобучаться не обязательно )) \n",
    "    \n",
    "    \n",
    "- Второй момент: интерпретируемость линейной модели (мы по коеффициентам судим как признаки влияют на таргет), тут  мультиколлинеарность надо убирать.\n",
    "\n",
    "\n",
    "Так что получается что в нашем случае убирать мультиколлинеарность имеет смысл только если мы захотим посмотреть как конкретно признаки влияют на Таргет\n",
    "\n",
    "   \n",
    "И да, один их способов убрать  мультиколлинеарность это убрать один признак из каждой пары высокореллированных признаков.    \n"
   ]
  },
  {
   "cell_type": "markdown",
   "metadata": {},
   "source": [
    "## Разбейте данные на выборки"
   ]
  },
  {
   "cell_type": "code",
   "execution_count": 11,
   "metadata": {},
   "outputs": [],
   "source": [
    "df_train, df_valid_test = train_test_split(df, test_size=0.4, random_state=12345)\n",
    "\n",
    "#Разбиваем на обучающую и валидо-тестовую V2"
   ]
  },
  {
   "cell_type": "code",
   "execution_count": 12,
   "metadata": {},
   "outputs": [],
   "source": [
    "df_valid, df_test = train_test_split(df_valid_test, test_size=0.5, random_state=12345)\n",
    "#Разбиваем на валидоционную и тестовую выборки пополам v2"
   ]
  },
  {
   "cell_type": "code",
   "execution_count": 38,
   "metadata": {},
   "outputs": [],
   "source": [
    "train_features = df_train.drop(['is_ultra'], axis=1)\n",
    "train_target = df_train['is_ultra']\n",
    "valid_features = df_valid.drop(['is_ultra'], axis=1)\n",
    "valid_target = df_valid['is_ultra']\n",
    "test_features = df_test.drop(['is_ultra'], axis=1)\n",
    "test_target = df_test['is_ultra']\n",
    "#выделяем признаки и цель V2"
   ]
  },
  {
   "cell_type": "markdown",
   "metadata": {},
   "source": [
    "<div class=\"alert alert-danger\">\n",
    "<font size=\"5\"><b>Комментарий ревьюера</b></font>\n",
    "\n",
    "Ошибка:\n",
    "\n",
    "Информация в выборках не должна пересекаться, а ты два сплита сделал от df, в итоге получил явно завышенную метрику на валидации\n",
    "\n",
    "<div class=\"alert alert-warning\">\n",
    "\n",
    "\n",
    "\n",
    "Совет: \n",
    "\n",
    "\n",
    "- Обрати внимание на аргумент stratify, он позволит сохранить изначальное распределение таргетов во всех новых датасетах.  Существующий дисбаланс никуда не денется, но в каждом датасете он будет одинаковым. [Почитать](https://pythonru.com/baza-znanij/sklearn-train-test-split) можно тут\n",
    "\n",
    "\n",
    "- После разбиения лучше перестраховаться и использовать .shape, для контроля за корректностью разбиения\n",
    "\n",
    "\n"
   ]
  },
  {
   "cell_type": "markdown",
   "metadata": {},
   "source": [
    "<div class=\"alert alert-info\"> V2 Исправил, понял. Спасибо! \n",
    "     аргумент stratify пока не применял, пока сложно для внедрения\n",
    "    "
   ]
  },
  {
   "cell_type": "markdown",
   "metadata": {},
   "source": [
    "<div class=\"alert alert-success\">\n",
    "<font size=\"5\"><b>Комментарий ревьюераV2</b></font>\n",
    "\n",
    "\n",
    "\n",
    "Успех 👍:\n",
    "\n",
    "\n",
    "\n",
    "👍\n",
    "\n",
    "\n",
    "\n",
    "\n",
    "Для первого сплита стратификацию можно было сделать так \n",
    "    \n",
    "    \n",
    "    stratify = df['is_ultra']\n",
    "    \n",
    "    \n",
    "Для второго Догадайся сам )"
   ]
  },
  {
   "cell_type": "code",
   "execution_count": 41,
   "metadata": {},
   "outputs": [
    {
     "data": {
      "text/plain": [
       "(3214, 5)"
      ]
     },
     "execution_count": 41,
     "metadata": {},
     "output_type": "execute_result"
    }
   ],
   "source": [
    "df.shape"
   ]
  },
  {
   "cell_type": "code",
   "execution_count": 42,
   "metadata": {},
   "outputs": [
    {
     "data": {
      "text/plain": [
       "(1928, 5)"
      ]
     },
     "execution_count": 42,
     "metadata": {},
     "output_type": "execute_result"
    }
   ],
   "source": [
    "df_train.shape #60% от изначального фрейма\n"
   ]
  },
  {
   "cell_type": "code",
   "execution_count": 43,
   "metadata": {},
   "outputs": [
    {
     "data": {
      "text/plain": [
       "(1286, 5)"
      ]
     },
     "execution_count": 43,
     "metadata": {},
     "output_type": "execute_result"
    }
   ],
   "source": [
    "df_valid_test.shape  #40% от изначального фрейма и делим его пополам далее"
   ]
  },
  {
   "cell_type": "code",
   "execution_count": 44,
   "metadata": {},
   "outputs": [
    {
     "data": {
      "text/plain": [
       "(643, 5)"
      ]
     },
     "execution_count": 44,
     "metadata": {},
     "output_type": "execute_result"
    }
   ],
   "source": [
    "df_valid.shape # OK!"
   ]
  },
  {
   "cell_type": "markdown",
   "metadata": {},
   "source": [
    "## Исследуйте модели"
   ]
  },
  {
   "cell_type": "markdown",
   "metadata": {},
   "source": [
    "Модель RandomForestRegressor"
   ]
  },
  {
   "cell_type": "code",
   "execution_count": 21,
   "metadata": {
    "scrolled": true
   },
   "outputs": [
    {
     "name": "stdout",
     "output_type": "stream",
     "text": [
      "Количество деревьев: 35 Максимальная глубина: 6 мин. объектов в узле: 2\n",
      "Качество 0.8087091757387247\n",
      "CPU times: user 18.9 s, sys: 91.5 ms, total: 19 s\n",
      "Wall time: 19 s\n"
     ]
    }
   ],
   "source": [
    "%%time\n",
    "\n",
    "best_accuracy = 0 \n",
    "best_depth = 0 \n",
    "\n",
    "for depth in range (1, 11):\n",
    "    for est in range(5, 51, 5):\n",
    "        for sample in range(2,5):\n",
    "            model = RandomForestClassifier(random_state=12345,n_estimators=est, max_depth=depth, min_samples_leaf=sample) \n",
    "            model.fit(train_features, train_target)\n",
    "            accuracy = model.score(valid_features, valid_target)\n",
    "            if accuracy > best_accuracy: \n",
    "                best_accuracy = accuracy\n",
    "                best_depth = depth\n",
    "                best_est = est\n",
    "                best_sample = sample\n",
    "                           \n",
    "\n",
    "print('Количество деревьев:', best_est, 'Максимальная глубина:', best_depth, 'мин. объектов в узле:', best_sample )\n",
    "print('Качество', best_accuracy)"
   ]
  },
  {
   "cell_type": "markdown",
   "metadata": {},
   "source": [
    "\n",
    "\n",
    "<div class=\"alert alert-success\">\n",
    "<font size=\"5\"><b>Комментарий ревьюера</b></font>\n",
    "\n",
    "Успех:\n",
    "   \n",
    "\n",
    "\n",
    " \n",
    "По большему числу гиперпараметров перебор -   тем лучше метрика. Случайный лес мощная модель и по ней действительно стоит поперебирать несколько гиперпораметров. Здорово   \n",
    "\n",
    "\n",
    "\n",
    "\n",
    "<div class=\"alert alert-warning\">\n",
    "\n",
    "\n",
    "Совет: \n",
    "\n",
    "\n",
    "\n",
    "\n",
    "- Когда что то долго крутиться, можно использовать  %%time - ставишь на самый вверх ячейки с кодом, время выполнения которого хочешь замерить, может не знаешь.  Быстрее не станет, но все будут видеть стоит ли ждать не отходя от ПК или можно сходить чаек поставить )) \n",
    "    \n",
    "    Или tqdm, это ещё лучше, потому что он показывает интерактивно, на каком этапе расчетов мы находимся\n",
    "\n",
    "    \n",
    "    from tqdm import tqdm\n",
    "\n",
    "\n",
    "    for n_estimators in tqdm(range(3,58)):\n",
    "\n",
    "        ..........\n",
    "\n",
    "\n",
    "\n",
    "(дальше мы будем уходить от неэффективных в питоне циклов к apply.  Там тоже есть аналог прогресс-баров:  .progress_apply)\n",
    "    \n",
    "И будет красиво )   \n",
    " \n",
    "\n"
   ]
  },
  {
   "cell_type": "markdown",
   "metadata": {},
   "source": [
    "<div class=\"alert alert-info\"> V2 вставил наверху from tqdm import tqdm  , но вроде не отображается"
   ]
  },
  {
   "cell_type": "markdown",
   "metadata": {},
   "source": [
    "<div class=\"alert alert-warning\">\n",
    "<font size=\"5\"><b>Комментарий ревьюераV2</b></font>\n",
    "\n",
    "\n",
    "\n",
    "Совет 🤔:\n",
    "\n",
    "\n",
    "\n",
    "Выше объяснил\n"
   ]
  },
  {
   "cell_type": "markdown",
   "metadata": {},
   "source": [
    "Модель DecisionTreeClassifier"
   ]
  },
  {
   "cell_type": "code",
   "execution_count": 52,
   "metadata": {
    "scrolled": true
   },
   "outputs": [
    {
     "name": "stdout",
     "output_type": "stream",
     "text": [
      "Глубина дерева: 3\n",
      "Качество 0.7853810264385692\n",
      "CPU times: user 95.1 ms, sys: 72 µs, total: 95.2 ms\n",
      "Wall time: 93.2 ms\n"
     ]
    }
   ],
   "source": [
    "%%time\n",
    "best_accuracy = 0 \n",
    "best_depth = 0 \n",
    "\n",
    "for depth in range(1,15):\n",
    "    model = DecisionTreeClassifier(max_depth=depth, random_state=12345)\n",
    "    model.fit(train_features, train_target)\n",
    "    accuracy= model.score(valid_features, valid_target)\n",
    "    if accuracy > best_accuracy: \n",
    "        best_accuracy = accuracy\n",
    "        best_depth = depth       \n",
    "               \n",
    "    \n",
    "print('Глубина дерева:', best_depth)\n",
    "print('Качество', best_accuracy)"
   ]
  },
  {
   "cell_type": "markdown",
   "metadata": {},
   "source": [
    "<div class=\"alert alert-success\">\n",
    "<font size=\"5\"><b>Комментарий ревьюера</b></font>\n",
    "\n",
    "Успех:\n",
    " \n",
    "Работа выполнена в соответствии с критериями: \n",
    "\n",
    "\n",
    "\n",
    " - модель обучена на обучающем наборе\n",
    " - получена оценка качества на валидационном наборе\n",
    " - перебор гиперпараметров осуществляется в цикле\n",
    "\n",
    "\n",
    "\n",
    "\n",
    "\n",
    "<div class=\"alert alert-warning\">\n",
    "\n",
    "\n",
    "Совет: \n",
    "\n",
    "\n",
    "- Можно добавить график, хорошо оформленный график украсит проект. Тут на графике можно посмотреть как при изменении max_depth меняется точность на train и validation датасете (для этого собираем наши метрики на валидации и train в списки, а затем по ним обычный plt.plot()) Такой способ используют чтобы лучше отследить переобучение, но для этого стоит взять пернебор по max_depth поглубже\n",
    "\n",
    "\n",
    "- tree_plot можно построить, с max_depth равной 3 или 4 (глубже уже будет громоздко) - глянуть как DT сплиты делает, будет понимание как модель принимает решения: какие признаки  использует, на каких значениях делает разбиение вправо - влево \n",
    "\n",
    "\n",
    "\n",
    "\n",
    "</div>\n",
    "\n"
   ]
  },
  {
   "cell_type": "markdown",
   "metadata": {},
   "source": [
    "<div class=\"alert alert-info\">V2 Не совсем понял, Марат. Что за график? Можешь более развернуто написать вкратце, прям сейчас наверное не буду делать, но посмотрю дополнительно. "
   ]
  },
  {
   "cell_type": "markdown",
   "metadata": {},
   "source": [
    "\n",
    "\n",
    "<div class=\"alert alert-warning\">\n",
    "<font size=\"5\"><b>Комментарий ревьюераV2</b></font>\n",
    "\n",
    "Совет:\n",
    "\n",
    "1. tree_plot\n",
    "    \n",
    "(схема)\n",
    "    \n",
    "    from sklearn import tree\n",
    "    import matplotlib.pyplot as plt\n",
    "    fig = plt.figure(figsize=(35,20))\n",
    "    _ = tree.plot_tree(best_model_tree, \n",
    "                   feature_names=features.columns.values, \n",
    "                   class_names=['Smart','Ultra'],\n",
    "                   filled=True,\n",
    "                   fontsize = 15,\n",
    "                   max_depth = 3     # Это чтобы прорисовывало 3 уровня, не глубже\n",
    "                      )\n",
    "    \n",
    "    \n",
    "    \n",
    "2. График метрики  \n",
    "    \n",
    "    \n",
    "Добавляешь (схема):\n",
    "    \n",
    "    \n",
    "    predictions_train = model.predict(features_train)\n",
    "    result_train = accuracy_score(target_train, predictions_train)\n",
    "\n",
    "    \n",
    "а теперь собираешь в цикле  result_train и result в списки (с помощью .append()), и по очереди подаешь эти списки в plt.plot()    \n",
    "    \n",
    "  \n"
   ]
  },
  {
   "cell_type": "markdown",
   "metadata": {},
   "source": [
    "Модель LogisticRegression"
   ]
  },
  {
   "cell_type": "code",
   "execution_count": 46,
   "metadata": {},
   "outputs": [
    {
     "name": "stdout",
     "output_type": "stream",
     "text": [
      "Качество 0.7107309486780715\n",
      "CPU times: user 21.6 ms, sys: 24 µs, total: 21.6 ms\n",
      "Wall time: 20.1 ms\n"
     ]
    }
   ],
   "source": [
    "%%time\n",
    "model = LogisticRegression(solver='lbfgs')    \n",
    "model.fit(train_features, train_target)  \n",
    "accuracy = model.score(valid_features, valid_target)\n",
    "\n",
    "print('Качество', accuracy)"
   ]
  },
  {
   "cell_type": "markdown",
   "metadata": {},
   "source": [
    "\n",
    "<div class=\"alert alert-warning\">\n",
    "<font size=\"5\"><b>Комментарий ревьюера</b></font>\n",
    "\n",
    "Совет: \n",
    "\n",
    "Если есть желание можешь ответить на вопросики ))    \n",
    "\n",
    "\n",
    "\n",
    "- Как назвать ситуацию, когда на валидации при увеличении глубины дерева (модель DT), метрика качества стала снижаться? Как по твоему в это же время вела себя эта же метрика на train?\n",
    "\n",
    "\n",
    "- Насколько знаю вы еще под капот моделям не заглядывали, но может знаешь почему обычно RF показывает более высокие результаты из выбранных?\n",
    "\n",
    "\n",
    "- Мы решаем задачу классификации (а еще есть задача регрессии), а в названии модели с помощью которой мы решаем задачу \"классификации\" (Логистическая регрессия) есть слово \"регрессия\".  Нет ли тут парадокса? )\n",
    "    \n",
    "\n",
    "- Почему логистическая регрессия показывать на много более худшие результаты?  \n",
    "\n",
    "\n",
    "</div>\n",
    "\n",
    "\n",
    "\n"
   ]
  },
  {
   "cell_type": "markdown",
   "metadata": {},
   "source": [
    "<div class=\"alert alert-info\">V2 1) Думаю ты про переобучении модели. На тренировочном наборе модель показывает себя хорошо, а на валидацинном плохо - значит модель переобучилась и лукавит на новых данных. \n",
    "    \n",
    "2) Было вскольз в теории практикума - потому что RandomForest а) Это совокупность и среднее \"голосование\" деревьев\" за результат б) использование randomstate= позволяет искать разные способы алгоритмов, добавляя случайности в последовательность алгоритмо, чтобы избежать переобучения\n",
    "    \n",
    "3) Навазание регрессия в данном случае ознает анализ и поиск зависимостей между данными\n",
    "    \n",
    "4) Логистическая регрессия хорошо подходит для задач когда имеется линейная разделимость классов. Но, если классы имеют сложную структуру и не могут быть разделены линейно, то логистическая регрессия может показать худшие результаты."
   ]
  },
  {
   "cell_type": "markdown",
   "metadata": {},
   "source": [
    "<div class=\"alert alert-success\">\n",
    "<font size=\"5\"><b>Комментарий ревьюераV2</b></font>\n",
    "\n",
    "\n",
    "Успех:\n",
    "\n",
    "\n",
    "Дополню чуть\n",
    "\n",
    "1. Верно, переобучение. На train точность растет вплоть до 100%. \n",
    "    \n",
    "    \n",
    "2. Да, в RF обучается несколько деревьев, а решение принимается путем голосования. Каждое дерево в RF учится на своем датасете (используется техника бутстрап), таким образом достигается \"независимость\" этих самых деревьев, в итоге ошибка разброса снижается.\n",
    "\n",
    "    \n",
    "3. \"Регрессия\", потому что внутри нее скалярное произведение (как и в линейной регрессии), дающее на выходе вещественное число (от + бесконечности до - бесконечности), на это число вешают сигмойду, логарифм и получают значение от 0 до 1 (вероятность класса).   \n",
    "    \n",
    "    \n",
    "4. Правильно. Логистическая регрессия плоха (и хороша с другой стороны) тем что это линейный классификатор: обьекты на классы разделяем гиперплоскостью (прямой если на плоскости), а в данном датасете видимо более сложные, нелинейные связи между признаками и таргетом.   А RF с DT с этим справляются. На других данных  LR могла оказаться лучше, например потому что RF не может экстраполировать. \n",
    "\n",
    "\n",
    "</div>"
   ]
  },
  {
   "cell_type": "markdown",
   "metadata": {},
   "source": [
    "<div class=\"alert alert-info\"> V2 Проверил три модели - RandomForest, DecisionTree и LogisticRegression. Лучшая по  accuracy = model.score(valid_features, valid_target) - стала RandomForest 0.808"
   ]
  },
  {
   "cell_type": "markdown",
   "metadata": {},
   "source": [
    "## Проверьте модель на тестовой выборке"
   ]
  },
  {
   "cell_type": "code",
   "execution_count": 53,
   "metadata": {},
   "outputs": [
    {
     "name": "stdout",
     "output_type": "stream",
     "text": [
      "Качество: 0.7962674961119751\n"
     ]
    }
   ],
   "source": [
    "model = RandomForestClassifier(n_estimators=35, max_depth=6, min_samples_leaf=2, random_state=12345 )\n",
    "model.fit(train_features, train_target)\n",
    "accuracy = model.score(test_features, test_target)\n",
    "print('Качество:', accuracy)"
   ]
  },
  {
   "cell_type": "markdown",
   "metadata": {},
   "source": [
    "<div class=\"alert alert-info\">V2  На тестовой выборке accuracy 0.79 , RandomForest при вычесленных параметрах выше n_estimators=35, max_depth=6, min_samples_leaf=2, random_state=12345 . То есть лучшая рекомендация тарифа для клиентов будет у этой модели.  "
   ]
  },
  {
   "cell_type": "markdown",
   "metadata": {},
   "source": [
    "\n",
    "\n",
    "<div class=\"alert alert-success\">\n",
    "<font size=\"5\"><b>Комментарий ревьюераV2</b></font>\n",
    "\n",
    "Успех:\n",
    "\n",
    "Если студент получил на тесте accuraсy  выше 0,78, это считается отличным результатом. Тобой подбиралась лучшая комбинация не по одному гиперпараметру и вот он результат!\n",
    "\n",
    "\n",
    "\n",
    "\n",
    "\n",
    "\n",
    "</div>"
   ]
  },
  {
   "cell_type": "markdown",
   "metadata": {},
   "source": [
    "\n",
    "<div class=\"alert alert-danger\">\n",
    "<font size=\"5\"><b>Комментарий ревьюера</b></font>\n",
    "\n",
    "\n",
    "\n",
    "\n",
    "Ошибка:\n",
    "\n",
    "\n",
    "\n",
    "\n",
    "К данному этапу мы должны подойти с одной выбранной моделью. Станислав, о логике использования датасетов:\n",
    "    \n",
    "\n",
    "\n",
    "\n",
    "\n",
    "1. На train мы обучаем\n",
    "2. По валидации смотрим на результаты обучения (следим чтобы не было переобучения и/или делаем подбор гиперпараметров).  И выбираем лучшую модель. \n",
    "3. Тестовая (out-of_sample) у нас для финальной проверки, когда определена модель с конкретными гиперпараметрами. Использование тестовой выборки, чтобы еще раз посмотреть на модели - это нарушение логической цепочки моделирования. \n",
    "\n",
    "А в таком виде, может сложиться впечатление что мы на тестовой по прежнему что то выбираем, но выбор сделан, и если лучшая на валидации покажет на test результат хуже требуемого, мы начнем процесс моделирования сначала.\n",
    "    \n",
    " [Вот](https://towardsdatascience.com/why-do-we-need-a-validation-set-in-addition-to-training-and-test-sets-5cf4a65550e0   ) тут можно дополнительно почитать.\n",
    "\n",
    "<div class=\"alert alert-warning\">\n",
    "   \n",
    "Совет: \n",
    "\n",
    "- Как попробовать улучшить результат, не мучаясь с кодом?! Смотри - мы сформировали train выборку на которой обучаем модель, а валидационную используем для поиска лучших значений гиперпараметров. Оке, нашли их. Так почему бы теперь модель с выбранными гиперпараметрами не обучить на тренировочной + валидационной выборке (только не нужно делать новые сплиты, используй pd.concat(), к примеру)?! Чем больше данных, тем лучше модель может обучиться. И эту дообученную модель проверим на тесте. Гаранитий что станет лучше нет, но ML это постоянные эксперименты.\n",
    "</div>\n",
    "\n"
   ]
  },
  {
   "cell_type": "code",
   "execution_count": 50,
   "metadata": {},
   "outputs": [
    {
     "name": "stdout",
     "output_type": "stream",
     "text": [
      "Качество: 0.7916018662519441\n"
     ]
    }
   ],
   "source": [
    "model = RandomForestClassifier(n_estimators=35, max_depth=6, min_samples_leaf=2, random_state=12345 )\n",
    "train_valid_df = pd.concat([df_train, df_valid], ignore_index=True)\n",
    "train_valid_features = train_valid_df.drop(['is_ultra'], axis=1)\n",
    "train_valid_target = train_valid_df['is_ultra']\n",
    "model.fit(train_valid_features, train_valid_target)\n",
    "accuracy = model.score(test_features, test_target)\n",
    "print('Качество:', accuracy)"
   ]
  },
  {
   "cell_type": "markdown",
   "metadata": {},
   "source": [
    "<div class=\"alert alert-info\">V2 на модели без объеденения было - Качество: 0.7962674961119751 , стало Качество: 0.7916018662519441\n",
    "    Лучше не стало, но логику понял! Спасибо! \n",
    "    \n",
    "    Лишние модели в проверке удалил, тоже понял почему :) "
   ]
  },
  {
   "cell_type": "markdown",
   "metadata": {},
   "source": [
    "<div class=\"alert alert-warning\">\n",
    "<font size=\"5\"><b>Комментарий ревьюераV2</b></font>\n",
    "\n",
    "\n",
    "\n",
    "Совет 🤔:\n",
    "\n",
    "\n",
    "\n",
    "Тут всегда присутствует Рандом, на этой тестовой выборке ухудшение, на десяти других будет улучшение.  Поэтому дообучать стоит, особенно если у нас такой маленький датасет как тут\n"
   ]
  },
  {
   "cell_type": "markdown",
   "metadata": {},
   "source": [
    "## (бонус) Проверьте модели на адекватность"
   ]
  },
  {
   "cell_type": "markdown",
   "metadata": {},
   "source": [
    "Добрый день! А где про это почитать на курсе? Самому изучить? Может попозже вернусь к этому, если сейчас не обязательно. Надо нагнать "
   ]
  },
  {
   "cell_type": "markdown",
   "metadata": {},
   "source": [
    "\n",
    "\n",
    "<div class=\"alert alert-warning\">\n",
    "<font size=\"5\"><b>Комментарий ревьюера</b></font>\n",
    "\n",
    "Совет:\n",
    "\n",
    "\n",
    "Это если что может объяснить ревьюер )\n",
    "    \n",
    "    \n",
    "Станислав, бонусное на то и бонусное, но можешь попробовать его решить с моей подсказкой.    \n",
    "\n",
    "Ключевое это помнить  что у нас дисбаланс в таргете (нулей гораздно больше чем единиц) и четко понимать как считается accuracy.\n",
    "В чем смысл проверки модели на адекватность  при дисбалансе? Вот смотри - обучили мы какую то модель, которая на test показывает 90% accuraсy. Шикарная модель скажем мы. А если в датасете у нас в метках таргета единичек 99,9% (допустим тренируем на данных где 1 это \"кирпич упал на голову человеку когда он вышел из дома\"), а нулей 0,1% (\"не упал\")?! Все также утверждаем что наша модель шикарная?! Нет, потому что всегда можно предсказывать что не упадает (единички) и accuracy будет равна 99,9%\n",
    "\n",
    "Вот и тут мы сравниваем нашу обученную модель с примитивным прогнозом самого частого таргета. Какой у нас самый частый класс? Нули. Так посмотри accuracy_score target_test и ряда из одних нулей. Сколько будет?. \n",
    "\n",
    "\n",
    "    \n",
    "    \n",
    "\n",
    "При проверке на адекватность модели, рекомендую ознакомиться с [Dummy Models](https://scikit-learn.org/stable/modules/generated/sklearn.dummy.DummyClassifier.html), это удобная обертка для константных моделей и сделает тоже самое что я описал на словах\n",
    "\n",
    "</div>"
   ]
  },
  {
   "cell_type": "markdown",
   "metadata": {},
   "source": [
    "<div class=\"alert alert-warning\">\n",
    "<font size=\"5\"><b>Комментарий ревьюераV2</b></font>\n",
    "\n",
    "Совет:\n",
    "\n",
    "\n",
    "Тут логика такая - у нас есть данные и мы видим что доля нулей в таргете около 69%, это значит что мы не проводя никакого анализа, моделирования итп итд, можем постоянно предсказывать 0 и получить точность около 69%. Вот эту accuracy в 69% мы и должны побить, иначе окажется что наша модель не лучше наивного прогноза самого частого класса.\n",
    "      \n",
    "    \n",
    "С   DummyClassifier это выглядит  так:\n",
    "    \n",
    "    DummyClassifier(strategy='most_frequent', random_state=1)  \n",
    "задаем константную модель, которая будет предсказывать по most_frequent - самый частый класс\n",
    "    \n",
    "    .fit(features_train, target_train)\n",
    "тут модель смотри на самый частый класс в  target_train - типо \"обучение\"\n",
    "    \n",
    "    .predict(features_test)\n",
    "    .score(features_test, target_test)\n",
    "проогнозирует везде самый частый класс в features_test и считает score\n",
    "    \n",
    "Получаем тот же результат: acc около 69%.    \n",
    "\n",
    "\n",
    "\n",
    "Сравниваем с accuracy нашей модели и делаем вывод\n"
   ]
  },
  {
   "cell_type": "markdown",
   "metadata": {},
   "source": [
    "\n",
    "<div class=\"alert alert-info\">\n",
    "<font size=\"5\"><b>Комментарий ревьюера</b></font>\n",
    "\n",
    "\n",
    "\n",
    "\n",
    "Станислав, у тебя старательно выполненная работа, все четко, осмысленно. \n",
    "    \n",
    "    \n",
    "    \n",
    "\n",
    "\n",
    "Я оставил небольшие советы и вопросики (если есть время и желание можешь воспользоваться/ответить): \n",
    "\n",
    "\n",
    "\n",
    "\n",
    "- обрати внимание на проверку сбалансированность классов в таргете в разделе EDA\n",
    "- использовать stratify\n",
    "- добавить график метрики    \n",
    "- как можно улучшить результаты \n",
    "\n",
    "\n",
    "\n",
    "Замечания на будущее:\n",
    "    \n",
    "\n",
    "\n",
    "- Было бы замечательно, в выводе немножко о данных, работе с ними (пусть даже никакой работы и не было), моделировании и полученных результатах. Это важно потому что когда проект захочет посмотреть будущий работодатель (или начальник), у него может не быть времени на подробный разбор кода. Вероятнее всего он бегло просмотрит код, а из общего вывода захочет получить представление о всей работе.\n",
    "\n",
    " \n",
    "    \n",
    "Обязательное к исправлению:\n",
    "\n",
    "\n",
    "\n",
    "- выборки не должны у нас пересекаться, иначе сразу нарушается логика моделирования\n",
    "\n",
    "    \n",
    "    \n",
    "- к моменту проверки качества прогноза на тесте, приходим с уже одной выбранной моделью с лучшими гиперпараметрами выбранными на валидации\n",
    "\n",
    "    \n",
    "    \n",
    "    \n",
    "Жду исправлений, для принятия проекта. Если какие то вопросы, то сразу спрашивай ) \n",
    "\n",
    "\n",
    "\n",
    "\n",
    "\n",
    "</div>"
   ]
  },
  {
   "cell_type": "markdown",
   "metadata": {},
   "source": [
    "<div class=\"alert alert-info\"> Вывод о работе с данными: \n",
    "    В ходе анализа и работы с данными были применены три модели обучения с вычисляющмися в цикле гиперпараметрами моделей. RandomForest показал наилучшую эффективность accuracy 0.796 на тестовой выборке. LogisticRegression, DecisionTreeClassifier показали результаты хуже - 0.68 и 0.76 соответственно на тестовых выборках. Чтобы улучшать модели возможно потребуются более расширенные значения гиперпараметров и добавление новых признаков по клиентам. \n"
   ]
  },
  {
   "cell_type": "markdown",
   "metadata": {},
   "source": [
    "<div class=\"alert alert-success\">\n",
    "<font size=\"5\"><b>Комментарий ревьюераV2</b></font>\n",
    "\n",
    "Успех 👍:\n",
    "\n",
    "Общий вывод добавил"
   ]
  },
  {
   "cell_type": "markdown",
   "metadata": {},
   "source": [
    "<div class=\"alert alert-info\"> V2 Исправил выборки и подправил модели. Дописал вывод по работе с данными.\n",
    "    \n",
    "    \n",
    "-использовать stratify\n",
    "    \n",
    "-добавить график метрики - пока тяжеловато для внедрения в работу. Отправляю пока так, позже постараюсь вернутся. "
   ]
  },
  {
   "cell_type": "markdown",
   "metadata": {},
   "source": [
    "\n",
    "<div class=\"alert alert-info\">\n",
    "<font size=\"5\"><b>Комментарий ревьюераV2</b></font>\n",
    "\n",
    "    \n",
    "    \n",
    "Значит остальные жёлтые советы используешь позже )  \n",
    "    \n",
    "    \n",
    "Спасибо за работу!  \n",
    "\n",
    "    \n",
    "Красное исправлено,  желтые советы использованы, на  вопросы есть ответы  (это все было по желанию), значит стремишься развиваться, а желание и интерес это главное. Надеюсь мои советы и вопросики были полезны и в копилочку знаний упало что то новое, а проект стал лучше, и симпатичней.\n",
    "\n",
    "\n",
    "\n",
    "Отличная работа Станислав. Желаю успехов в дальнейшей учебе!\n",
    "\n"
   ]
  },
  {
   "cell_type": "markdown",
   "metadata": {},
   "source": [
    "## Чек-лист готовности проекта"
   ]
  },
  {
   "cell_type": "markdown",
   "metadata": {},
   "source": [
    "Поставьте 'x' в выполненных пунктах. Далее нажмите Shift+Enter."
   ]
  },
  {
   "cell_type": "markdown",
   "metadata": {},
   "source": [
    "- [x] Jupyter Notebook открыт\n",
    "- [ ] Весь код исполняется без ошибок\n",
    "- [ ] Ячейки с кодом расположены в порядке исполнения\n",
    "- [ ] Выполнено задание 1: данные загружены и изучены\n",
    "- [ ] Выполнено задание 2: данные разбиты на три выборки\n",
    "- [ ] Выполнено задание 3: проведено исследование моделей\n",
    "    - [ ] Рассмотрено больше одной модели\n",
    "    - [ ] Рассмотрено хотя бы 3 значения гипепараметров для какой-нибудь модели\n",
    "    - [ ] Написаны выводы по результатам исследования\n",
    "- [ ] Выполнено задание 3: Проведено тестирование\n",
    "- [ ] Удалось достичь accuracy не меньше 0.75\n"
   ]
  },
  {
   "cell_type": "code",
   "execution_count": null,
   "metadata": {},
   "outputs": [],
   "source": []
  }
 ],
 "metadata": {
  "ExecuteTimeLog": [
   {
    "duration": 493,
    "start_time": "2023-04-06T11:58:00.913Z"
   },
   {
    "duration": 69,
    "start_time": "2023-04-06T12:00:33.622Z"
   },
   {
    "duration": 755,
    "start_time": "2023-04-06T12:00:45.021Z"
   },
   {
    "duration": 7,
    "start_time": "2023-04-06T12:00:47.864Z"
   },
   {
    "duration": 29,
    "start_time": "2023-04-06T12:01:57.883Z"
   },
   {
    "duration": 43,
    "start_time": "2023-04-06T12:02:28.404Z"
   },
   {
    "duration": 73,
    "start_time": "2023-04-06T12:02:46.345Z"
   },
   {
    "duration": 8,
    "start_time": "2023-04-06T12:02:46.765Z"
   },
   {
    "duration": 4310,
    "start_time": "2023-04-06T12:02:49.676Z"
   },
   {
    "duration": 15,
    "start_time": "2023-04-06T12:04:17.655Z"
   },
   {
    "duration": 30,
    "start_time": "2023-04-06T12:04:27.475Z"
   },
   {
    "duration": 30,
    "start_time": "2023-04-06T12:04:28.842Z"
   },
   {
    "duration": 8,
    "start_time": "2023-04-06T12:04:29.140Z"
   },
   {
    "duration": 4426,
    "start_time": "2023-04-06T12:04:29.586Z"
   },
   {
    "duration": 12,
    "start_time": "2023-04-06T12:04:34.015Z"
   },
   {
    "duration": 3042,
    "start_time": "2023-04-06T12:05:43.060Z"
   },
   {
    "duration": 874,
    "start_time": "2023-04-06T12:05:56.048Z"
   },
   {
    "duration": 4949,
    "start_time": "2023-04-06T12:06:04.039Z"
   },
   {
    "duration": 2530,
    "start_time": "2023-04-06T12:06:14.787Z"
   },
   {
    "duration": 13,
    "start_time": "2023-04-06T12:10:49.870Z"
   },
   {
    "duration": 922,
    "start_time": "2023-04-06T12:11:39.271Z"
   },
   {
    "duration": 30,
    "start_time": "2023-04-06T12:11:46.775Z"
   },
   {
    "duration": 11,
    "start_time": "2023-04-06T12:11:47.256Z"
   },
   {
    "duration": 790,
    "start_time": "2023-04-06T12:11:47.447Z"
   },
   {
    "duration": 3,
    "start_time": "2023-04-06T12:12:01.963Z"
   },
   {
    "duration": 6,
    "start_time": "2023-04-06T12:12:10.970Z"
   },
   {
    "duration": 7,
    "start_time": "2023-04-06T12:13:30.704Z"
   },
   {
    "duration": 6,
    "start_time": "2023-04-06T12:13:45.301Z"
   },
   {
    "duration": 2617,
    "start_time": "2023-04-06T12:13:46.756Z"
   },
   {
    "duration": 9,
    "start_time": "2023-04-06T12:13:51.075Z"
   },
   {
    "duration": 10,
    "start_time": "2023-04-06T12:15:31.089Z"
   },
   {
    "duration": 2603,
    "start_time": "2023-04-06T12:15:32.112Z"
   },
   {
    "duration": 11,
    "start_time": "2023-04-06T12:15:34.717Z"
   },
   {
    "duration": 3029,
    "start_time": "2023-04-06T12:15:53.152Z"
   },
   {
    "duration": 5,
    "start_time": "2023-04-06T12:17:20.324Z"
   },
   {
    "duration": 5,
    "start_time": "2023-04-06T12:17:22.760Z"
   },
   {
    "duration": 3539,
    "start_time": "2023-04-06T12:17:25.076Z"
   },
   {
    "duration": 23,
    "start_time": "2023-04-06T12:17:31.038Z"
   },
   {
    "duration": 11,
    "start_time": "2023-04-06T12:19:12.172Z"
   },
   {
    "duration": 10,
    "start_time": "2023-04-06T12:19:33.260Z"
   },
   {
    "duration": 12,
    "start_time": "2023-04-06T12:20:27.653Z"
   },
   {
    "duration": 12,
    "start_time": "2023-04-06T12:20:52.681Z"
   },
   {
    "duration": 11,
    "start_time": "2023-04-06T12:21:22.585Z"
   },
   {
    "duration": 10,
    "start_time": "2023-04-06T12:21:40.581Z"
   },
   {
    "duration": 30,
    "start_time": "2023-04-06T12:21:57.009Z"
   },
   {
    "duration": 13,
    "start_time": "2023-04-06T12:21:57.998Z"
   },
   {
    "duration": 31,
    "start_time": "2023-04-06T12:21:58.168Z"
   },
   {
    "duration": 13,
    "start_time": "2023-04-06T12:21:58.349Z"
   },
   {
    "duration": 13,
    "start_time": "2023-04-06T12:21:58.499Z"
   },
   {
    "duration": 33,
    "start_time": "2023-04-06T12:22:00.336Z"
   },
   {
    "duration": 12,
    "start_time": "2023-04-06T12:22:00.472Z"
   },
   {
    "duration": 7,
    "start_time": "2023-04-06T12:22:00.626Z"
   },
   {
    "duration": 9,
    "start_time": "2023-04-06T12:22:00.909Z"
   },
   {
    "duration": 5,
    "start_time": "2023-04-06T12:22:01.046Z"
   },
   {
    "duration": 3472,
    "start_time": "2023-04-06T12:22:01.762Z"
   },
   {
    "duration": 29,
    "start_time": "2023-04-06T12:22:05.236Z"
   },
   {
    "duration": 304,
    "start_time": "2023-04-06T12:22:05.267Z"
   },
   {
    "duration": 100,
    "start_time": "2023-04-06T12:22:05.663Z"
   },
   {
    "duration": 3587,
    "start_time": "2023-04-06T12:22:39.036Z"
   },
   {
    "duration": 3436,
    "start_time": "2023-04-06T12:22:49.853Z"
   },
   {
    "duration": 11239,
    "start_time": "2023-04-06T12:29:38.130Z"
   },
   {
    "duration": 10481,
    "start_time": "2023-04-06T12:31:16.675Z"
   },
   {
    "duration": 10493,
    "start_time": "2023-04-06T12:31:35.152Z"
   },
   {
    "duration": 9706,
    "start_time": "2023-04-06T12:32:01.271Z"
   },
   {
    "duration": 13,
    "start_time": "2023-04-06T12:35:07.612Z"
   },
   {
    "duration": 30,
    "start_time": "2023-04-06T12:35:27.355Z"
   },
   {
    "duration": 12,
    "start_time": "2023-04-06T12:35:27.844Z"
   },
   {
    "duration": 8,
    "start_time": "2023-04-06T12:35:27.998Z"
   },
   {
    "duration": 8,
    "start_time": "2023-04-06T12:35:28.300Z"
   },
   {
    "duration": 4,
    "start_time": "2023-04-06T12:35:28.438Z"
   },
   {
    "duration": 10217,
    "start_time": "2023-04-06T12:35:28.884Z"
   },
   {
    "duration": 157,
    "start_time": "2023-04-06T12:35:39.104Z"
   },
   {
    "duration": 198,
    "start_time": "2023-04-06T12:35:39.264Z"
   },
   {
    "duration": 996,
    "start_time": "2023-04-06T12:35:39.465Z"
   },
   {
    "duration": 138,
    "start_time": "2023-04-06T12:36:11.993Z"
   },
   {
    "duration": 29703,
    "start_time": "2023-04-06T12:40:41.740Z"
   },
   {
    "duration": 49,
    "start_time": "2023-04-06T12:43:46.009Z"
   },
   {
    "duration": 129,
    "start_time": "2023-04-06T12:43:48.411Z"
   },
   {
    "duration": 28100,
    "start_time": "2023-04-06T12:44:01.879Z"
   },
   {
    "duration": 27636,
    "start_time": "2023-04-06T12:45:56.101Z"
   },
   {
    "duration": 8,
    "start_time": "2023-04-06T12:48:30.324Z"
   },
   {
    "duration": 16,
    "start_time": "2023-04-06T12:48:44.561Z"
   },
   {
    "duration": 9,
    "start_time": "2023-04-06T12:48:58.907Z"
   },
   {
    "duration": 34,
    "start_time": "2023-04-06T12:49:01.040Z"
   },
   {
    "duration": 40,
    "start_time": "2023-04-06T12:49:01.077Z"
   },
   {
    "duration": 84,
    "start_time": "2023-04-06T12:49:01.119Z"
   },
   {
    "duration": 71,
    "start_time": "2023-04-06T12:49:01.205Z"
   },
   {
    "duration": 35,
    "start_time": "2023-04-06T12:49:01.278Z"
   },
   {
    "duration": 83,
    "start_time": "2023-04-06T12:49:01.315Z"
   },
   {
    "duration": 0,
    "start_time": "2023-04-06T12:49:01.400Z"
   },
   {
    "duration": 0,
    "start_time": "2023-04-06T12:49:01.401Z"
   },
   {
    "duration": 0,
    "start_time": "2023-04-06T12:49:01.402Z"
   },
   {
    "duration": 24,
    "start_time": "2023-04-06T12:49:15.699Z"
   },
   {
    "duration": 17,
    "start_time": "2023-04-06T12:49:59.038Z"
   },
   {
    "duration": 22548,
    "start_time": "2023-04-06T12:51:10.431Z"
   },
   {
    "duration": 22,
    "start_time": "2023-04-06T12:54:24.634Z"
   },
   {
    "duration": 29,
    "start_time": "2023-04-06T12:54:33.961Z"
   },
   {
    "duration": 24387,
    "start_time": "2023-04-06T12:54:42.132Z"
   },
   {
    "duration": 24575,
    "start_time": "2023-04-06T12:56:08.633Z"
   },
   {
    "duration": 46,
    "start_time": "2023-04-06T12:58:17.061Z"
   },
   {
    "duration": 111,
    "start_time": "2023-04-06T12:58:27.255Z"
   },
   {
    "duration": 39,
    "start_time": "2023-04-06T12:58:44.642Z"
   },
   {
    "duration": 41,
    "start_time": "2023-04-06T12:58:51.232Z"
   },
   {
    "duration": 27,
    "start_time": "2023-04-06T12:58:59.371Z"
   },
   {
    "duration": 24644,
    "start_time": "2023-04-06T13:00:35.680Z"
   },
   {
    "duration": 9,
    "start_time": "2023-04-06T13:01:33.832Z"
   },
   {
    "duration": 9,
    "start_time": "2023-04-06T13:01:42.693Z"
   },
   {
    "duration": 6,
    "start_time": "2023-04-06T13:02:29.889Z"
   },
   {
    "duration": 4,
    "start_time": "2023-04-06T13:02:53.950Z"
   },
   {
    "duration": 24258,
    "start_time": "2023-04-06T13:02:58.689Z"
   },
   {
    "duration": 24744,
    "start_time": "2023-04-06T13:03:35.023Z"
   },
   {
    "duration": 115,
    "start_time": "2023-04-06T13:06:00.213Z"
   },
   {
    "duration": 11,
    "start_time": "2023-04-06T13:06:01.746Z"
   },
   {
    "duration": 29,
    "start_time": "2023-04-06T13:06:04.935Z"
   },
   {
    "duration": 27,
    "start_time": "2023-04-06T13:06:11.552Z"
   },
   {
    "duration": 14,
    "start_time": "2023-04-06T13:06:13.980Z"
   },
   {
    "duration": 28,
    "start_time": "2023-04-06T13:07:12.376Z"
   },
   {
    "duration": 14,
    "start_time": "2023-04-06T13:07:14.022Z"
   },
   {
    "duration": 110,
    "start_time": "2023-04-06T13:07:15.415Z"
   },
   {
    "duration": 13,
    "start_time": "2023-04-06T13:07:59.212Z"
   },
   {
    "duration": 11,
    "start_time": "2023-04-06T13:08:30.513Z"
   },
   {
    "duration": 30,
    "start_time": "2023-04-06T13:09:43.303Z"
   },
   {
    "duration": 12,
    "start_time": "2023-04-06T13:09:43.621Z"
   },
   {
    "duration": 8,
    "start_time": "2023-04-06T13:09:43.852Z"
   },
   {
    "duration": 6,
    "start_time": "2023-04-06T13:09:44.185Z"
   },
   {
    "duration": 6,
    "start_time": "2023-04-06T13:09:44.338Z"
   },
   {
    "duration": 7,
    "start_time": "2023-04-06T13:09:44.516Z"
   },
   {
    "duration": 22626,
    "start_time": "2023-04-06T13:10:09.775Z"
   },
   {
    "duration": 118,
    "start_time": "2023-04-06T13:11:01.494Z"
   },
   {
    "duration": 127,
    "start_time": "2023-04-06T13:11:23.201Z"
   },
   {
    "duration": 115,
    "start_time": "2023-04-06T13:11:26.454Z"
   },
   {
    "duration": 30,
    "start_time": "2023-04-06T13:12:01.318Z"
   },
   {
    "duration": 27,
    "start_time": "2023-04-06T13:12:07.228Z"
   },
   {
    "duration": 29,
    "start_time": "2023-04-06T13:12:19.982Z"
   },
   {
    "duration": 28,
    "start_time": "2023-04-06T13:12:28.645Z"
   },
   {
    "duration": 28,
    "start_time": "2023-04-06T13:12:41.280Z"
   },
   {
    "duration": 26,
    "start_time": "2023-04-06T13:12:47.779Z"
   },
   {
    "duration": 34,
    "start_time": "2023-04-06T13:12:57.054Z"
   },
   {
    "duration": 27,
    "start_time": "2023-04-06T13:12:59.186Z"
   },
   {
    "duration": 121,
    "start_time": "2023-04-06T13:13:19.649Z"
   },
   {
    "duration": 116,
    "start_time": "2023-04-06T13:13:22.708Z"
   },
   {
    "duration": 39,
    "start_time": "2023-04-06T13:16:10.477Z"
   },
   {
    "duration": 37,
    "start_time": "2023-04-06T13:16:32.527Z"
   },
   {
    "duration": 27,
    "start_time": "2023-04-06T13:16:47.823Z"
   },
   {
    "duration": 33,
    "start_time": "2023-04-06T13:17:02.042Z"
   },
   {
    "duration": 26,
    "start_time": "2023-04-06T13:17:06.783Z"
   },
   {
    "duration": 31,
    "start_time": "2023-04-06T13:17:24.691Z"
   },
   {
    "duration": 27,
    "start_time": "2023-04-06T13:17:31.026Z"
   },
   {
    "duration": 35,
    "start_time": "2023-04-06T13:17:37.142Z"
   },
   {
    "duration": 42,
    "start_time": "2023-04-06T13:17:49.111Z"
   },
   {
    "duration": 27,
    "start_time": "2023-04-06T13:18:29.989Z"
   },
   {
    "duration": 29,
    "start_time": "2023-04-06T13:18:39.898Z"
   },
   {
    "duration": 3,
    "start_time": "2023-04-06T13:19:55.660Z"
   },
   {
    "duration": 133,
    "start_time": "2023-04-06T13:20:19.785Z"
   },
   {
    "duration": 123,
    "start_time": "2023-04-06T13:20:45.644Z"
   },
   {
    "duration": 119,
    "start_time": "2023-04-06T13:20:55.117Z"
   },
   {
    "duration": 10,
    "start_time": "2023-04-06T13:22:31.947Z"
   },
   {
    "duration": 19,
    "start_time": "2023-04-06T13:22:35.084Z"
   },
   {
    "duration": 18,
    "start_time": "2023-04-06T13:23:00.644Z"
   },
   {
    "duration": 30,
    "start_time": "2023-04-06T13:24:11.483Z"
   },
   {
    "duration": 31,
    "start_time": "2023-04-06T13:24:12.543Z"
   },
   {
    "duration": 13,
    "start_time": "2023-04-06T13:24:12.576Z"
   },
   {
    "duration": 7,
    "start_time": "2023-04-06T13:24:12.591Z"
   },
   {
    "duration": 7,
    "start_time": "2023-04-06T13:24:12.600Z"
   },
   {
    "duration": 7,
    "start_time": "2023-04-06T13:24:12.608Z"
   },
   {
    "duration": 7,
    "start_time": "2023-04-06T13:24:12.617Z"
   },
   {
    "duration": 21821,
    "start_time": "2023-04-06T13:24:12.626Z"
   },
   {
    "duration": 119,
    "start_time": "2023-04-06T13:24:34.449Z"
   },
   {
    "duration": 25,
    "start_time": "2023-04-06T13:24:34.569Z"
   },
   {
    "duration": 144,
    "start_time": "2023-04-06T13:24:34.597Z"
   },
   {
    "duration": 23,
    "start_time": "2023-04-06T13:24:34.743Z"
   },
   {
    "duration": 26,
    "start_time": "2023-04-06T13:24:34.768Z"
   },
   {
    "duration": 31,
    "start_time": "2023-04-06T13:35:55.657Z"
   },
   {
    "duration": 6,
    "start_time": "2023-04-06T13:42:18.347Z"
   },
   {
    "duration": 5,
    "start_time": "2023-04-06T13:42:18.978Z"
   },
   {
    "duration": 5,
    "start_time": "2023-04-06T13:42:19.410Z"
   },
   {
    "duration": 25215,
    "start_time": "2023-04-06T13:42:20.806Z"
   },
   {
    "duration": 132,
    "start_time": "2023-04-06T13:42:46.023Z"
   },
   {
    "duration": 205,
    "start_time": "2023-04-06T13:42:46.157Z"
   },
   {
    "duration": 253,
    "start_time": "2023-04-06T13:42:46.368Z"
   },
   {
    "duration": 19,
    "start_time": "2023-04-06T13:42:46.622Z"
   },
   {
    "duration": 219,
    "start_time": "2023-04-06T13:42:46.643Z"
   },
   {
    "duration": 24137,
    "start_time": "2023-04-06T13:43:52.424Z"
   },
   {
    "duration": 71,
    "start_time": "2023-04-06T13:44:22.064Z"
   },
   {
    "duration": 67,
    "start_time": "2023-04-06T13:44:55.302Z"
   },
   {
    "duration": 18,
    "start_time": "2023-04-06T13:44:55.643Z"
   },
   {
    "duration": 139,
    "start_time": "2023-04-06T13:44:56.023Z"
   },
   {
    "duration": 7,
    "start_time": "2023-04-06T13:45:48.727Z"
   },
   {
    "duration": 5,
    "start_time": "2023-04-06T13:45:49.255Z"
   },
   {
    "duration": 5,
    "start_time": "2023-04-06T13:45:52.757Z"
   },
   {
    "duration": 21404,
    "start_time": "2023-04-06T13:45:53.998Z"
   },
   {
    "duration": 109,
    "start_time": "2023-04-06T13:46:15.404Z"
   },
   {
    "duration": 24,
    "start_time": "2023-04-06T13:46:15.514Z"
   },
   {
    "duration": 70,
    "start_time": "2023-04-06T13:46:15.540Z"
   },
   {
    "duration": 15,
    "start_time": "2023-04-06T13:46:15.612Z"
   },
   {
    "duration": 39,
    "start_time": "2023-04-06T13:46:15.628Z"
   },
   {
    "duration": 7,
    "start_time": "2023-04-06T13:49:17.704Z"
   },
   {
    "duration": 5,
    "start_time": "2023-04-06T13:49:18.059Z"
   },
   {
    "duration": 4,
    "start_time": "2023-04-06T13:49:18.352Z"
   },
   {
    "duration": 22032,
    "start_time": "2023-04-06T13:49:19.701Z"
   },
   {
    "duration": 114,
    "start_time": "2023-04-06T13:49:41.736Z"
   },
   {
    "duration": 32,
    "start_time": "2023-04-06T13:49:41.852Z"
   },
   {
    "duration": 136,
    "start_time": "2023-04-06T13:49:41.886Z"
   },
   {
    "duration": 17,
    "start_time": "2023-04-06T13:49:42.024Z"
   },
   {
    "duration": 42,
    "start_time": "2023-04-06T13:49:42.042Z"
   },
   {
    "duration": 2481,
    "start_time": "2023-04-06T15:38:01.577Z"
   },
   {
    "duration": 11,
    "start_time": "2023-04-06T15:38:04.060Z"
   },
   {
    "duration": 45,
    "start_time": "2023-04-06T15:38:04.072Z"
   },
   {
    "duration": 15,
    "start_time": "2023-04-06T15:38:04.119Z"
   },
   {
    "duration": 15,
    "start_time": "2023-04-06T15:38:04.135Z"
   },
   {
    "duration": 7,
    "start_time": "2023-04-06T15:38:04.151Z"
   },
   {
    "duration": 21157,
    "start_time": "2023-04-06T15:38:04.159Z"
   },
   {
    "duration": 116,
    "start_time": "2023-04-06T15:38:25.317Z"
   },
   {
    "duration": 26,
    "start_time": "2023-04-06T15:38:25.435Z"
   },
   {
    "duration": 128,
    "start_time": "2023-04-06T15:38:25.463Z"
   },
   {
    "duration": 15,
    "start_time": "2023-04-06T15:38:25.593Z"
   },
   {
    "duration": 20,
    "start_time": "2023-04-06T15:38:25.609Z"
   },
   {
    "duration": 1043,
    "start_time": "2023-04-06T15:44:11.786Z"
   },
   {
    "duration": 130,
    "start_time": "2023-04-06T15:44:12.832Z"
   },
   {
    "duration": 32,
    "start_time": "2023-04-06T15:45:15.863Z"
   },
   {
    "duration": 106,
    "start_time": "2023-04-06T16:24:10.199Z"
   },
   {
    "duration": 10,
    "start_time": "2023-04-06T16:24:13.794Z"
   },
   {
    "duration": 32,
    "start_time": "2023-04-06T16:24:34.027Z"
   },
   {
    "duration": 11,
    "start_time": "2023-04-06T16:24:36.429Z"
   },
   {
    "duration": 7,
    "start_time": "2023-04-06T16:24:38.734Z"
   },
   {
    "duration": 11,
    "start_time": "2023-04-06T16:24:44.006Z"
   },
   {
    "duration": 4,
    "start_time": "2023-04-06T16:25:29.978Z"
   },
   {
    "duration": 5,
    "start_time": "2023-04-06T16:25:33.069Z"
   },
   {
    "duration": 5,
    "start_time": "2023-04-06T16:25:33.412Z"
   },
   {
    "duration": 6,
    "start_time": "2023-04-06T16:25:33.968Z"
   },
   {
    "duration": 7,
    "start_time": "2023-04-06T16:25:54.448Z"
   },
   {
    "duration": 107,
    "start_time": "2023-04-06T16:26:27.605Z"
   },
   {
    "duration": 10,
    "start_time": "2023-04-06T16:26:48.096Z"
   },
   {
    "duration": 24,
    "start_time": "2023-04-06T16:27:30.150Z"
   },
   {
    "duration": 19814,
    "start_time": "2023-04-06T16:27:45.415Z"
   },
   {
    "duration": 6,
    "start_time": "2023-04-06T16:28:42.019Z"
   },
   {
    "duration": 19693,
    "start_time": "2023-04-06T16:31:05.339Z"
   },
   {
    "duration": 18998,
    "start_time": "2023-04-06T16:32:40.375Z"
   },
   {
    "duration": 11,
    "start_time": "2023-04-06T16:42:49.141Z"
   },
   {
    "duration": 13,
    "start_time": "2023-04-06T16:43:18.130Z"
   },
   {
    "duration": 98,
    "start_time": "2023-04-06T16:44:03.699Z"
   },
   {
    "duration": 9,
    "start_time": "2023-04-06T16:44:27.170Z"
   },
   {
    "duration": 26,
    "start_time": "2023-04-06T16:44:43.112Z"
   },
   {
    "duration": 25,
    "start_time": "2023-04-06T16:45:00.704Z"
   },
   {
    "duration": 10,
    "start_time": "2023-04-06T16:48:37.333Z"
   },
   {
    "duration": 104,
    "start_time": "2023-04-06T16:48:58.054Z"
   },
   {
    "duration": 9,
    "start_time": "2023-04-06T16:49:21.530Z"
   },
   {
    "duration": 26,
    "start_time": "2023-04-06T16:49:43.871Z"
   },
   {
    "duration": 24,
    "start_time": "2023-04-06T16:50:03.384Z"
   },
   {
    "duration": 9,
    "start_time": "2023-04-06T16:50:09.390Z"
   },
   {
    "duration": 9,
    "start_time": "2023-04-06T16:50:15.602Z"
   },
   {
    "duration": 16,
    "start_time": "2023-04-06T16:50:22.604Z"
   },
   {
    "duration": 119,
    "start_time": "2023-04-06T16:50:37.175Z"
   },
   {
    "duration": 110,
    "start_time": "2023-04-06T16:51:25.045Z"
   },
   {
    "duration": 5,
    "start_time": "2023-04-06T16:53:39.535Z"
   },
   {
    "duration": 8,
    "start_time": "2023-04-06T16:54:01.317Z"
   },
   {
    "duration": 8,
    "start_time": "2023-04-06T16:54:11.365Z"
   },
   {
    "duration": 7,
    "start_time": "2023-04-06T16:54:37.773Z"
   },
   {
    "duration": 4,
    "start_time": "2023-04-06T16:55:02.925Z"
   },
   {
    "duration": 4,
    "start_time": "2023-04-06T16:55:14.341Z"
   },
   {
    "duration": 4,
    "start_time": "2023-04-06T17:16:58.530Z"
   },
   {
    "duration": 22,
    "start_time": "2023-04-06T17:25:57.241Z"
   },
   {
    "duration": 24,
    "start_time": "2023-04-06T17:27:54.786Z"
   },
   {
    "duration": 10,
    "start_time": "2023-04-06T18:12:18.647Z"
   },
   {
    "duration": 35,
    "start_time": "2023-04-06T18:12:58.905Z"
   },
   {
    "duration": 561,
    "start_time": "2023-04-06T18:13:09.183Z"
   },
   {
    "duration": 118,
    "start_time": "2023-04-06T18:13:46.276Z"
   },
   {
    "duration": 69,
    "start_time": "2023-04-06T18:19:27.886Z"
   },
   {
    "duration": 97,
    "start_time": "2023-04-06T18:21:11.150Z"
   },
   {
    "duration": 88,
    "start_time": "2023-04-06T18:35:01.037Z"
   },
   {
    "duration": 91,
    "start_time": "2023-04-06T18:35:42.635Z"
   },
   {
    "duration": 32,
    "start_time": "2023-04-06T18:37:19.110Z"
   },
   {
    "duration": 12,
    "start_time": "2023-04-06T18:37:23.810Z"
   },
   {
    "duration": 10,
    "start_time": "2023-04-06T18:37:24.665Z"
   },
   {
    "duration": 35,
    "start_time": "2023-04-06T18:37:24.894Z"
   }
  ],
  "kernelspec": {
   "display_name": "Python 3 (ipykernel)",
   "language": "python",
   "name": "python3"
  },
  "language_info": {
   "codemirror_mode": {
    "name": "ipython",
    "version": 3
   },
   "file_extension": ".py",
   "mimetype": "text/x-python",
   "name": "python",
   "nbconvert_exporter": "python",
   "pygments_lexer": "ipython3",
   "version": "3.9.5"
  },
  "toc": {
   "base_numbering": 1,
   "nav_menu": {},
   "number_sections": true,
   "sideBar": true,
   "skip_h1_title": true,
   "title_cell": "Table of Contents",
   "title_sidebar": "Contents",
   "toc_cell": false,
   "toc_position": {},
   "toc_section_display": true,
   "toc_window_display": false
  }
 },
 "nbformat": 4,
 "nbformat_minor": 2
}
