{
 "cells": [
  {
   "cell_type": "markdown",
   "id": "b13a8525",
   "metadata": {
    "deletable": false,
    "editable": false,
    "id": "c81daeeb"
   },
   "source": [
    "# Исследование надежности заемщиков\n"
   ]
  },
  {
   "cell_type": "markdown",
   "id": "218f83ce",
   "metadata": {
    "deletable": false,
    "editable": false,
    "id": "827c20bf"
   },
   "source": [
    "Во второй части проекта вы выполните шаги 3 и 4. Их вручную проверит ревьюер.\n",
    "Чтобы вам не пришлось писать код заново для шагов 1 и 2, мы добавили авторские решения в ячейки с кодом. \n",
    "\n"
   ]
  },
  {
   "cell_type": "markdown",
   "id": "639b4a85",
   "metadata": {
    "deletable": false,
    "editable": false,
    "id": "744d7639"
   },
   "source": [
    "## Откройте таблицу и изучите общую информацию о данных"
   ]
  },
  {
   "cell_type": "markdown",
   "id": "cc1bf9f1",
   "metadata": {
    "deletable": false,
    "editable": false,
    "id": "e7a14c31"
   },
   "source": [
    "**Задание 1. Импортируйте библиотеку pandas. Считайте данные из csv-файла в датафрейм и сохраните в переменную `data`. Путь к файлу:**\n",
    "\n",
    "`/datasets/data.csv`"
   ]
  },
  {
   "cell_type": "code",
   "execution_count": 55,
   "id": "2a5b9c75",
   "metadata": {
    "deletable": false,
    "id": "7bcf75c9"
   },
   "outputs": [],
   "source": [
    "import pandas as pd\n",
    "\n",
    "try:\n",
    "    data = pd.read_csv('/datasets/data.csv')\n",
    "except:\n",
    "    data = pd.read_csv('https://code.s3.yandex.net/datasets/data.csv')"
   ]
  },
  {
   "cell_type": "markdown",
   "id": "9b740c42",
   "metadata": {
    "deletable": false,
    "editable": false,
    "id": "b8038fe3"
   },
   "source": [
    "**Задание 2. Выведите первые 20 строчек датафрейма `data` на экран.**"
   ]
  },
  {
   "cell_type": "code",
   "execution_count": 56,
   "id": "8566ab33",
   "metadata": {
    "deletable": false,
    "id": "2a7cab99",
    "outputId": "1a8f3ef2-d323-4ec2-ddf7-89670b5944c4"
   },
   "outputs": [
    {
     "data": {
      "text/html": [
       "<div>\n",
       "<style scoped>\n",
       "    .dataframe tbody tr th:only-of-type {\n",
       "        vertical-align: middle;\n",
       "    }\n",
       "\n",
       "    .dataframe tbody tr th {\n",
       "        vertical-align: top;\n",
       "    }\n",
       "\n",
       "    .dataframe thead th {\n",
       "        text-align: right;\n",
       "    }\n",
       "</style>\n",
       "<table border=\"1\" class=\"dataframe\">\n",
       "  <thead>\n",
       "    <tr style=\"text-align: right;\">\n",
       "      <th></th>\n",
       "      <th>children</th>\n",
       "      <th>days_employed</th>\n",
       "      <th>dob_years</th>\n",
       "      <th>education</th>\n",
       "      <th>education_id</th>\n",
       "      <th>family_status</th>\n",
       "      <th>family_status_id</th>\n",
       "      <th>gender</th>\n",
       "      <th>income_type</th>\n",
       "      <th>debt</th>\n",
       "      <th>total_income</th>\n",
       "      <th>purpose</th>\n",
       "    </tr>\n",
       "  </thead>\n",
       "  <tbody>\n",
       "    <tr>\n",
       "      <th>0</th>\n",
       "      <td>1</td>\n",
       "      <td>-8437.673028</td>\n",
       "      <td>42</td>\n",
       "      <td>высшее</td>\n",
       "      <td>0</td>\n",
       "      <td>женат / замужем</td>\n",
       "      <td>0</td>\n",
       "      <td>F</td>\n",
       "      <td>сотрудник</td>\n",
       "      <td>0</td>\n",
       "      <td>253875.639453</td>\n",
       "      <td>покупка жилья</td>\n",
       "    </tr>\n",
       "    <tr>\n",
       "      <th>1</th>\n",
       "      <td>1</td>\n",
       "      <td>-4024.803754</td>\n",
       "      <td>36</td>\n",
       "      <td>среднее</td>\n",
       "      <td>1</td>\n",
       "      <td>женат / замужем</td>\n",
       "      <td>0</td>\n",
       "      <td>F</td>\n",
       "      <td>сотрудник</td>\n",
       "      <td>0</td>\n",
       "      <td>112080.014102</td>\n",
       "      <td>приобретение автомобиля</td>\n",
       "    </tr>\n",
       "    <tr>\n",
       "      <th>2</th>\n",
       "      <td>0</td>\n",
       "      <td>-5623.422610</td>\n",
       "      <td>33</td>\n",
       "      <td>Среднее</td>\n",
       "      <td>1</td>\n",
       "      <td>женат / замужем</td>\n",
       "      <td>0</td>\n",
       "      <td>M</td>\n",
       "      <td>сотрудник</td>\n",
       "      <td>0</td>\n",
       "      <td>145885.952297</td>\n",
       "      <td>покупка жилья</td>\n",
       "    </tr>\n",
       "    <tr>\n",
       "      <th>3</th>\n",
       "      <td>3</td>\n",
       "      <td>-4124.747207</td>\n",
       "      <td>32</td>\n",
       "      <td>среднее</td>\n",
       "      <td>1</td>\n",
       "      <td>женат / замужем</td>\n",
       "      <td>0</td>\n",
       "      <td>M</td>\n",
       "      <td>сотрудник</td>\n",
       "      <td>0</td>\n",
       "      <td>267628.550329</td>\n",
       "      <td>дополнительное образование</td>\n",
       "    </tr>\n",
       "    <tr>\n",
       "      <th>4</th>\n",
       "      <td>0</td>\n",
       "      <td>340266.072047</td>\n",
       "      <td>53</td>\n",
       "      <td>среднее</td>\n",
       "      <td>1</td>\n",
       "      <td>гражданский брак</td>\n",
       "      <td>1</td>\n",
       "      <td>F</td>\n",
       "      <td>пенсионер</td>\n",
       "      <td>0</td>\n",
       "      <td>158616.077870</td>\n",
       "      <td>сыграть свадьбу</td>\n",
       "    </tr>\n",
       "    <tr>\n",
       "      <th>5</th>\n",
       "      <td>0</td>\n",
       "      <td>-926.185831</td>\n",
       "      <td>27</td>\n",
       "      <td>высшее</td>\n",
       "      <td>0</td>\n",
       "      <td>гражданский брак</td>\n",
       "      <td>1</td>\n",
       "      <td>M</td>\n",
       "      <td>компаньон</td>\n",
       "      <td>0</td>\n",
       "      <td>255763.565419</td>\n",
       "      <td>покупка жилья</td>\n",
       "    </tr>\n",
       "    <tr>\n",
       "      <th>6</th>\n",
       "      <td>0</td>\n",
       "      <td>-2879.202052</td>\n",
       "      <td>43</td>\n",
       "      <td>высшее</td>\n",
       "      <td>0</td>\n",
       "      <td>женат / замужем</td>\n",
       "      <td>0</td>\n",
       "      <td>F</td>\n",
       "      <td>компаньон</td>\n",
       "      <td>0</td>\n",
       "      <td>240525.971920</td>\n",
       "      <td>операции с жильем</td>\n",
       "    </tr>\n",
       "    <tr>\n",
       "      <th>7</th>\n",
       "      <td>0</td>\n",
       "      <td>-152.779569</td>\n",
       "      <td>50</td>\n",
       "      <td>СРЕДНЕЕ</td>\n",
       "      <td>1</td>\n",
       "      <td>женат / замужем</td>\n",
       "      <td>0</td>\n",
       "      <td>M</td>\n",
       "      <td>сотрудник</td>\n",
       "      <td>0</td>\n",
       "      <td>135823.934197</td>\n",
       "      <td>образование</td>\n",
       "    </tr>\n",
       "    <tr>\n",
       "      <th>8</th>\n",
       "      <td>2</td>\n",
       "      <td>-6929.865299</td>\n",
       "      <td>35</td>\n",
       "      <td>ВЫСШЕЕ</td>\n",
       "      <td>0</td>\n",
       "      <td>гражданский брак</td>\n",
       "      <td>1</td>\n",
       "      <td>F</td>\n",
       "      <td>сотрудник</td>\n",
       "      <td>0</td>\n",
       "      <td>95856.832424</td>\n",
       "      <td>на проведение свадьбы</td>\n",
       "    </tr>\n",
       "    <tr>\n",
       "      <th>9</th>\n",
       "      <td>0</td>\n",
       "      <td>-2188.756445</td>\n",
       "      <td>41</td>\n",
       "      <td>среднее</td>\n",
       "      <td>1</td>\n",
       "      <td>женат / замужем</td>\n",
       "      <td>0</td>\n",
       "      <td>M</td>\n",
       "      <td>сотрудник</td>\n",
       "      <td>0</td>\n",
       "      <td>144425.938277</td>\n",
       "      <td>покупка жилья для семьи</td>\n",
       "    </tr>\n",
       "    <tr>\n",
       "      <th>10</th>\n",
       "      <td>2</td>\n",
       "      <td>-4171.483647</td>\n",
       "      <td>36</td>\n",
       "      <td>высшее</td>\n",
       "      <td>0</td>\n",
       "      <td>женат / замужем</td>\n",
       "      <td>0</td>\n",
       "      <td>M</td>\n",
       "      <td>компаньон</td>\n",
       "      <td>0</td>\n",
       "      <td>113943.491460</td>\n",
       "      <td>покупка недвижимости</td>\n",
       "    </tr>\n",
       "    <tr>\n",
       "      <th>11</th>\n",
       "      <td>0</td>\n",
       "      <td>-792.701887</td>\n",
       "      <td>40</td>\n",
       "      <td>среднее</td>\n",
       "      <td>1</td>\n",
       "      <td>женат / замужем</td>\n",
       "      <td>0</td>\n",
       "      <td>F</td>\n",
       "      <td>сотрудник</td>\n",
       "      <td>0</td>\n",
       "      <td>77069.234271</td>\n",
       "      <td>покупка коммерческой недвижимости</td>\n",
       "    </tr>\n",
       "    <tr>\n",
       "      <th>12</th>\n",
       "      <td>0</td>\n",
       "      <td>NaN</td>\n",
       "      <td>65</td>\n",
       "      <td>среднее</td>\n",
       "      <td>1</td>\n",
       "      <td>гражданский брак</td>\n",
       "      <td>1</td>\n",
       "      <td>M</td>\n",
       "      <td>пенсионер</td>\n",
       "      <td>0</td>\n",
       "      <td>NaN</td>\n",
       "      <td>сыграть свадьбу</td>\n",
       "    </tr>\n",
       "    <tr>\n",
       "      <th>13</th>\n",
       "      <td>0</td>\n",
       "      <td>-1846.641941</td>\n",
       "      <td>54</td>\n",
       "      <td>неоконченное высшее</td>\n",
       "      <td>2</td>\n",
       "      <td>женат / замужем</td>\n",
       "      <td>0</td>\n",
       "      <td>F</td>\n",
       "      <td>сотрудник</td>\n",
       "      <td>0</td>\n",
       "      <td>130458.228857</td>\n",
       "      <td>приобретение автомобиля</td>\n",
       "    </tr>\n",
       "    <tr>\n",
       "      <th>14</th>\n",
       "      <td>0</td>\n",
       "      <td>-1844.956182</td>\n",
       "      <td>56</td>\n",
       "      <td>высшее</td>\n",
       "      <td>0</td>\n",
       "      <td>гражданский брак</td>\n",
       "      <td>1</td>\n",
       "      <td>F</td>\n",
       "      <td>компаньон</td>\n",
       "      <td>1</td>\n",
       "      <td>165127.911772</td>\n",
       "      <td>покупка жилой недвижимости</td>\n",
       "    </tr>\n",
       "    <tr>\n",
       "      <th>15</th>\n",
       "      <td>1</td>\n",
       "      <td>-972.364419</td>\n",
       "      <td>26</td>\n",
       "      <td>среднее</td>\n",
       "      <td>1</td>\n",
       "      <td>женат / замужем</td>\n",
       "      <td>0</td>\n",
       "      <td>F</td>\n",
       "      <td>сотрудник</td>\n",
       "      <td>0</td>\n",
       "      <td>116820.904450</td>\n",
       "      <td>строительство собственной недвижимости</td>\n",
       "    </tr>\n",
       "    <tr>\n",
       "      <th>16</th>\n",
       "      <td>0</td>\n",
       "      <td>-1719.934226</td>\n",
       "      <td>35</td>\n",
       "      <td>среднее</td>\n",
       "      <td>1</td>\n",
       "      <td>женат / замужем</td>\n",
       "      <td>0</td>\n",
       "      <td>F</td>\n",
       "      <td>сотрудник</td>\n",
       "      <td>0</td>\n",
       "      <td>289202.704229</td>\n",
       "      <td>недвижимость</td>\n",
       "    </tr>\n",
       "    <tr>\n",
       "      <th>17</th>\n",
       "      <td>0</td>\n",
       "      <td>-2369.999720</td>\n",
       "      <td>33</td>\n",
       "      <td>высшее</td>\n",
       "      <td>0</td>\n",
       "      <td>гражданский брак</td>\n",
       "      <td>1</td>\n",
       "      <td>M</td>\n",
       "      <td>сотрудник</td>\n",
       "      <td>0</td>\n",
       "      <td>90410.586745</td>\n",
       "      <td>строительство недвижимости</td>\n",
       "    </tr>\n",
       "    <tr>\n",
       "      <th>18</th>\n",
       "      <td>0</td>\n",
       "      <td>400281.136913</td>\n",
       "      <td>53</td>\n",
       "      <td>среднее</td>\n",
       "      <td>1</td>\n",
       "      <td>вдовец / вдова</td>\n",
       "      <td>2</td>\n",
       "      <td>F</td>\n",
       "      <td>пенсионер</td>\n",
       "      <td>0</td>\n",
       "      <td>56823.777243</td>\n",
       "      <td>на покупку подержанного автомобиля</td>\n",
       "    </tr>\n",
       "    <tr>\n",
       "      <th>19</th>\n",
       "      <td>0</td>\n",
       "      <td>-10038.818549</td>\n",
       "      <td>48</td>\n",
       "      <td>СРЕДНЕЕ</td>\n",
       "      <td>1</td>\n",
       "      <td>в разводе</td>\n",
       "      <td>3</td>\n",
       "      <td>F</td>\n",
       "      <td>сотрудник</td>\n",
       "      <td>0</td>\n",
       "      <td>242831.107982</td>\n",
       "      <td>на покупку своего автомобиля</td>\n",
       "    </tr>\n",
       "  </tbody>\n",
       "</table>\n",
       "</div>"
      ],
      "text/plain": [
       "    children  days_employed  dob_years            education  education_id  \\\n",
       "0          1   -8437.673028         42               высшее             0   \n",
       "1          1   -4024.803754         36              среднее             1   \n",
       "2          0   -5623.422610         33              Среднее             1   \n",
       "3          3   -4124.747207         32              среднее             1   \n",
       "4          0  340266.072047         53              среднее             1   \n",
       "5          0    -926.185831         27               высшее             0   \n",
       "6          0   -2879.202052         43               высшее             0   \n",
       "7          0    -152.779569         50              СРЕДНЕЕ             1   \n",
       "8          2   -6929.865299         35               ВЫСШЕЕ             0   \n",
       "9          0   -2188.756445         41              среднее             1   \n",
       "10         2   -4171.483647         36               высшее             0   \n",
       "11         0    -792.701887         40              среднее             1   \n",
       "12         0            NaN         65              среднее             1   \n",
       "13         0   -1846.641941         54  неоконченное высшее             2   \n",
       "14         0   -1844.956182         56               высшее             0   \n",
       "15         1    -972.364419         26              среднее             1   \n",
       "16         0   -1719.934226         35              среднее             1   \n",
       "17         0   -2369.999720         33               высшее             0   \n",
       "18         0  400281.136913         53              среднее             1   \n",
       "19         0  -10038.818549         48              СРЕДНЕЕ             1   \n",
       "\n",
       "       family_status  family_status_id gender income_type  debt  \\\n",
       "0    женат / замужем                 0      F   сотрудник     0   \n",
       "1    женат / замужем                 0      F   сотрудник     0   \n",
       "2    женат / замужем                 0      M   сотрудник     0   \n",
       "3    женат / замужем                 0      M   сотрудник     0   \n",
       "4   гражданский брак                 1      F   пенсионер     0   \n",
       "5   гражданский брак                 1      M   компаньон     0   \n",
       "6    женат / замужем                 0      F   компаньон     0   \n",
       "7    женат / замужем                 0      M   сотрудник     0   \n",
       "8   гражданский брак                 1      F   сотрудник     0   \n",
       "9    женат / замужем                 0      M   сотрудник     0   \n",
       "10   женат / замужем                 0      M   компаньон     0   \n",
       "11   женат / замужем                 0      F   сотрудник     0   \n",
       "12  гражданский брак                 1      M   пенсионер     0   \n",
       "13   женат / замужем                 0      F   сотрудник     0   \n",
       "14  гражданский брак                 1      F   компаньон     1   \n",
       "15   женат / замужем                 0      F   сотрудник     0   \n",
       "16   женат / замужем                 0      F   сотрудник     0   \n",
       "17  гражданский брак                 1      M   сотрудник     0   \n",
       "18    вдовец / вдова                 2      F   пенсионер     0   \n",
       "19         в разводе                 3      F   сотрудник     0   \n",
       "\n",
       "     total_income                                 purpose  \n",
       "0   253875.639453                           покупка жилья  \n",
       "1   112080.014102                 приобретение автомобиля  \n",
       "2   145885.952297                           покупка жилья  \n",
       "3   267628.550329              дополнительное образование  \n",
       "4   158616.077870                         сыграть свадьбу  \n",
       "5   255763.565419                           покупка жилья  \n",
       "6   240525.971920                       операции с жильем  \n",
       "7   135823.934197                             образование  \n",
       "8    95856.832424                   на проведение свадьбы  \n",
       "9   144425.938277                 покупка жилья для семьи  \n",
       "10  113943.491460                    покупка недвижимости  \n",
       "11   77069.234271       покупка коммерческой недвижимости  \n",
       "12            NaN                         сыграть свадьбу  \n",
       "13  130458.228857                 приобретение автомобиля  \n",
       "14  165127.911772              покупка жилой недвижимости  \n",
       "15  116820.904450  строительство собственной недвижимости  \n",
       "16  289202.704229                            недвижимость  \n",
       "17   90410.586745              строительство недвижимости  \n",
       "18   56823.777243      на покупку подержанного автомобиля  \n",
       "19  242831.107982            на покупку своего автомобиля  "
      ]
     },
     "execution_count": 56,
     "metadata": {},
     "output_type": "execute_result"
    }
   ],
   "source": [
    "data.head(20)\n"
   ]
  },
  {
   "cell_type": "markdown",
   "id": "3f160115",
   "metadata": {
    "deletable": false,
    "editable": false,
    "id": "1c12e233"
   },
   "source": [
    "**Задание 3. Выведите основную информацию о датафрейме с помощью метода `info()`.**"
   ]
  },
  {
   "cell_type": "code",
   "execution_count": 57,
   "id": "4f4a818c",
   "metadata": {
    "deletable": false,
    "id": "2b757bca",
    "outputId": "15376089-8dad-46c9-b520-c05248d43158"
   },
   "outputs": [
    {
     "name": "stdout",
     "output_type": "stream",
     "text": [
      "<class 'pandas.core.frame.DataFrame'>\n",
      "RangeIndex: 21525 entries, 0 to 21524\n",
      "Data columns (total 12 columns):\n",
      " #   Column            Non-Null Count  Dtype  \n",
      "---  ------            --------------  -----  \n",
      " 0   children          21525 non-null  int64  \n",
      " 1   days_employed     19351 non-null  float64\n",
      " 2   dob_years         21525 non-null  int64  \n",
      " 3   education         21525 non-null  object \n",
      " 4   education_id      21525 non-null  int64  \n",
      " 5   family_status     21525 non-null  object \n",
      " 6   family_status_id  21525 non-null  int64  \n",
      " 7   gender            21525 non-null  object \n",
      " 8   income_type       21525 non-null  object \n",
      " 9   debt              21525 non-null  int64  \n",
      " 10  total_income      19351 non-null  float64\n",
      " 11  purpose           21525 non-null  object \n",
      "dtypes: float64(2), int64(5), object(5)\n",
      "memory usage: 2.0+ MB\n"
     ]
    }
   ],
   "source": [
    "data.info()"
   ]
  },
  {
   "cell_type": "markdown",
   "id": "ab89397e",
   "metadata": {
    "deletable": false,
    "editable": false,
    "id": "333ec665"
   },
   "source": [
    "## Предобработка данных"
   ]
  },
  {
   "cell_type": "markdown",
   "id": "259d4554",
   "metadata": {
    "deletable": false,
    "editable": false,
    "id": "02d92d53"
   },
   "source": [
    "### Удаление пропусков"
   ]
  },
  {
   "cell_type": "markdown",
   "id": "699092cc",
   "metadata": {
    "deletable": false,
    "editable": false,
    "id": "cd84967c"
   },
   "source": [
    "**Задание 4. Выведите количество пропущенных значений для каждого столбца. Используйте комбинацию двух методов.**"
   ]
  },
  {
   "cell_type": "code",
   "execution_count": 58,
   "id": "52359870",
   "metadata": {
    "deletable": false,
    "id": "7f9b2309",
    "outputId": "81f4d817-781c-465c-ed15-91ce4446810d"
   },
   "outputs": [
    {
     "data": {
      "text/plain": [
       "children               0\n",
       "days_employed       2174\n",
       "dob_years              0\n",
       "education              0\n",
       "education_id           0\n",
       "family_status          0\n",
       "family_status_id       0\n",
       "gender                 0\n",
       "income_type            0\n",
       "debt                   0\n",
       "total_income        2174\n",
       "purpose                0\n",
       "dtype: int64"
      ]
     },
     "execution_count": 58,
     "metadata": {},
     "output_type": "execute_result"
    }
   ],
   "source": [
    "data.isna().sum()"
   ]
  },
  {
   "cell_type": "markdown",
   "id": "eb54c886",
   "metadata": {
    "deletable": false,
    "editable": false,
    "id": "db86e27b"
   },
   "source": [
    "**Задание 5. В двух столбцах есть пропущенные значения. Один из них — `days_employed`. Пропуски в этом столбце вы обработаете на следующем этапе. Другой столбец с пропущенными значениями — `total_income` — хранит данные о доходах. На сумму дохода сильнее всего влияет тип занятости, поэтому заполнить пропуски в этом столбце нужно медианным значением по каждому типу из столбца `income_type`. Например, у человека с типом занятости `сотрудник` пропуск в столбце `total_income` должен быть заполнен медианным доходом среди всех записей с тем же типом.**"
   ]
  },
  {
   "cell_type": "code",
   "execution_count": 59,
   "id": "dc40af1a",
   "metadata": {
    "deletable": false,
    "id": "42006a93"
   },
   "outputs": [],
   "source": [
    "for t in data['income_type'].unique():\n",
    "    data.loc[(data['income_type'] == t) & (data['total_income'].isna()), 'total_income'] = \\\n",
    "    data.loc[(data['income_type'] == t), 'total_income'].median()"
   ]
  },
  {
   "cell_type": "markdown",
   "id": "a6f276b3",
   "metadata": {
    "deletable": false,
    "editable": false,
    "id": "89da5ece"
   },
   "source": [
    "### Обработка аномальных значений"
   ]
  },
  {
   "cell_type": "markdown",
   "id": "9e661c6e",
   "metadata": {
    "deletable": false,
    "editable": false,
    "id": "57964554"
   },
   "source": [
    "**Задание 6. В данных могут встречаться артефакты (аномалии) — значения, которые не отражают действительность и появились по какой-то ошибке. таким артефактом будет отрицательное количество дней трудового стажа в столбце `days_employed`. Для реальных данных это нормально. Обработайте значения в этом столбце: замените все отрицательные значения положительными с помощью метода `abs()`.**"
   ]
  },
  {
   "cell_type": "code",
   "execution_count": 60,
   "id": "87639a23",
   "metadata": {
    "deletable": false,
    "id": "f6f055bf"
   },
   "outputs": [],
   "source": [
    "data['days_employed'] = data['days_employed'].abs()"
   ]
  },
  {
   "cell_type": "markdown",
   "id": "63028a5e",
   "metadata": {
    "deletable": false,
    "editable": false,
    "id": "6107dd2f"
   },
   "source": [
    "**Задание 7. Для каждого типа занятости выведите медианное значение трудового стажа `days_employed` в днях.**"
   ]
  },
  {
   "cell_type": "code",
   "execution_count": 61,
   "id": "8709cd71",
   "metadata": {
    "deletable": false,
    "id": "85a5faf6",
    "outputId": "801ef80e-522b-4668-f34e-565af7432bcf"
   },
   "outputs": [
    {
     "data": {
      "text/plain": [
       "income_type\n",
       "безработный        366413.652744\n",
       "в декрете            3296.759962\n",
       "госслужащий          2689.368353\n",
       "компаньон            1547.382223\n",
       "пенсионер          365213.306266\n",
       "предприниматель       520.848083\n",
       "сотрудник            1574.202821\n",
       "студент               578.751554\n",
       "Name: days_employed, dtype: float64"
      ]
     },
     "execution_count": 61,
     "metadata": {},
     "output_type": "execute_result"
    }
   ],
   "source": [
    "data.groupby('income_type')['days_employed'].agg('median')"
   ]
  },
  {
   "cell_type": "markdown",
   "id": "1d6a94db",
   "metadata": {
    "deletable": false,
    "editable": false,
    "id": "38d1a030"
   },
   "source": [
    "У двух типов (безработные и пенсионеры) получатся аномально большие значения. Исправить такие значения сложно, поэтому оставьте их как есть. Тем более этот столбец не понадобится вам для исследования."
   ]
  },
  {
   "cell_type": "markdown",
   "id": "b547753f",
   "metadata": {
    "deletable": false,
    "editable": false,
    "id": "d8a9f147"
   },
   "source": [
    "**Задание 8. Выведите перечень уникальных значений столбца `children`.**"
   ]
  },
  {
   "cell_type": "code",
   "execution_count": 62,
   "id": "2b39210a",
   "metadata": {
    "deletable": false,
    "id": "ef5056eb",
    "outputId": "6975b15c-7f95-4697-d16d-a0c79b657b03"
   },
   "outputs": [
    {
     "data": {
      "text/plain": [
       "array([ 1,  0,  3,  2, -1,  4, 20,  5], dtype=int64)"
      ]
     },
     "execution_count": 62,
     "metadata": {},
     "output_type": "execute_result"
    }
   ],
   "source": [
    "data['children'].unique()"
   ]
  },
  {
   "cell_type": "markdown",
   "id": "9a8da1ae",
   "metadata": {
    "deletable": false,
    "editable": false,
    "id": "40b9ebf2"
   },
   "source": [
    "**Задание 9. В столбце `children` есть два аномальных значения. Удалите строки, в которых встречаются такие аномальные значения из датафрейма `data`.**"
   ]
  },
  {
   "cell_type": "code",
   "execution_count": 63,
   "id": "267d8354",
   "metadata": {
    "deletable": false,
    "id": "3ff9801d"
   },
   "outputs": [],
   "source": [
    "data = data[(data['children'] != -1) & (data['children'] != 20)]"
   ]
  },
  {
   "cell_type": "markdown",
   "id": "0fa62234",
   "metadata": {
    "deletable": false,
    "editable": false,
    "id": "bbc4d0ce"
   },
   "source": [
    "**Задание 10. Ещё раз выведите перечень уникальных значений столбца `children`, чтобы убедиться, что артефакты удалены.**"
   ]
  },
  {
   "cell_type": "code",
   "execution_count": 64,
   "id": "546272dc",
   "metadata": {
    "deletable": false,
    "id": "ad4fa8b7",
    "outputId": "b2097101-d49d-44d9-901b-32a65c9463d1"
   },
   "outputs": [
    {
     "data": {
      "text/plain": [
       "array([1, 0, 3, 2, 4, 5], dtype=int64)"
      ]
     },
     "execution_count": 64,
     "metadata": {},
     "output_type": "execute_result"
    }
   ],
   "source": [
    "data['children'].unique()"
   ]
  },
  {
   "cell_type": "markdown",
   "id": "a276395d",
   "metadata": {
    "deletable": false,
    "editable": false,
    "id": "75440b63"
   },
   "source": [
    "### Удаление пропусков (продолжение)"
   ]
  },
  {
   "cell_type": "markdown",
   "id": "31b5a93d",
   "metadata": {
    "deletable": false,
    "editable": false,
    "id": "f4ea573f"
   },
   "source": [
    "**Задание 11. Заполните пропуски в столбце `days_employed` медианными значениями по каждого типа занятости `income_type`.**"
   ]
  },
  {
   "cell_type": "code",
   "execution_count": 65,
   "id": "08ff7b56",
   "metadata": {
    "deletable": false,
    "id": "af6b1a7e"
   },
   "outputs": [],
   "source": [
    "for t in data['income_type'].unique():\n",
    "    data.loc[(data['income_type'] == t) & (data['days_employed'].isna()), 'days_employed'] = \\\n",
    "    data.loc[(data['income_type'] == t), 'days_employed'].median()"
   ]
  },
  {
   "cell_type": "markdown",
   "id": "b6c3d0fd",
   "metadata": {
    "deletable": false,
    "editable": false,
    "id": "2753f40d"
   },
   "source": [
    "**Задание 12. Убедитесь, что все пропуски заполнены. Проверьте себя и ещё раз выведите количество пропущенных значений для каждого столбца с помощью двух методов.**"
   ]
  },
  {
   "cell_type": "code",
   "execution_count": 66,
   "id": "73f89f12",
   "metadata": {
    "deletable": false,
    "id": "55f78bc2",
    "outputId": "8da1e4e1-358e-4e87-98c9-f261bce0a7b2"
   },
   "outputs": [
    {
     "data": {
      "text/plain": [
       "children            0\n",
       "days_employed       0\n",
       "dob_years           0\n",
       "education           0\n",
       "education_id        0\n",
       "family_status       0\n",
       "family_status_id    0\n",
       "gender              0\n",
       "income_type         0\n",
       "debt                0\n",
       "total_income        0\n",
       "purpose             0\n",
       "dtype: int64"
      ]
     },
     "execution_count": 66,
     "metadata": {},
     "output_type": "execute_result"
    }
   ],
   "source": [
    "data.isna().sum()"
   ]
  },
  {
   "cell_type": "markdown",
   "id": "98a8b372",
   "metadata": {
    "deletable": false,
    "editable": false,
    "id": "ddc81e43"
   },
   "source": [
    "### Изменение типов данных"
   ]
  },
  {
   "cell_type": "markdown",
   "id": "ae0ffc17",
   "metadata": {
    "deletable": false,
    "editable": false,
    "id": "42d19d24"
   },
   "source": [
    "**Задание 13. Замените вещественный тип данных в столбце `total_income` на целочисленный с помощью метода `astype()`.**"
   ]
  },
  {
   "cell_type": "code",
   "execution_count": 67,
   "id": "25fc5111",
   "metadata": {
    "deletable": false,
    "id": "920b65ad"
   },
   "outputs": [],
   "source": [
    "data['total_income'] = data['total_income'].astype(int)"
   ]
  },
  {
   "cell_type": "markdown",
   "id": "cc409547",
   "metadata": {
    "deletable": false,
    "editable": false,
    "id": "80c420ba"
   },
   "source": [
    "### Обработка дубликатов"
   ]
  },
  {
   "cell_type": "markdown",
   "id": "0d18094b",
   "metadata": {
    "deletable": false,
    "editable": false
   },
   "source": [
    "**Задание 14. Обработайте неявные дубликаты в столбце `education`. В этом столбце есть одни и те же значения, но записанные по-разному: с использованием заглавных и строчных букв. Приведите их к нижнему регистру. Проверьте остальные столбцы.**"
   ]
  },
  {
   "cell_type": "code",
   "execution_count": 68,
   "id": "dfd4d34f",
   "metadata": {
    "deletable": false
   },
   "outputs": [],
   "source": [
    "data['education'] = data['education'].str.lower()"
   ]
  },
  {
   "cell_type": "markdown",
   "id": "5cfe96a2",
   "metadata": {
    "deletable": false,
    "editable": false,
    "id": "dc587695"
   },
   "source": [
    "**Задание 15. Выведите на экран количество строк-дубликатов в данных. Если такие строки присутствуют, удалите их.**"
   ]
  },
  {
   "cell_type": "code",
   "execution_count": 69,
   "id": "ce07f4f7",
   "metadata": {
    "deletable": false,
    "id": "3ee445e4",
    "outputId": "9684deba-1934-42d1-99e1-cda61740f822"
   },
   "outputs": [
    {
     "data": {
      "text/plain": [
       "71"
      ]
     },
     "execution_count": 69,
     "metadata": {},
     "output_type": "execute_result"
    }
   ],
   "source": [
    "data.duplicated().sum()"
   ]
  },
  {
   "cell_type": "code",
   "execution_count": 70,
   "id": "e8eac520",
   "metadata": {
    "deletable": false,
    "id": "8575fe05"
   },
   "outputs": [],
   "source": [
    "data = data.drop_duplicates()"
   ]
  },
  {
   "cell_type": "markdown",
   "id": "3efbaa6a",
   "metadata": {
    "deletable": false,
    "editable": false,
    "id": "9904cf55"
   },
   "source": [
    "### Категоризация данных"
   ]
  },
  {
   "cell_type": "markdown",
   "id": "8509816b",
   "metadata": {
    "deletable": false,
    "editable": false,
    "id": "72fcc8a2"
   },
   "source": [
    "**Задание 16. На основании диапазонов, указанных ниже, создайте в датафрейме `data` столбец `total_income_category` с категориями:**\n",
    "\n",
    "- 0–30000 — `'E'`;\n",
    "- 30001–50000 — `'D'`;\n",
    "- 50001–200000 — `'C'`;\n",
    "- 200001–1000000 — `'B'`;\n",
    "- 1000001 и выше — `'A'`.\n",
    "\n",
    "\n",
    "**Например, кредитополучателю с доходом 25000 нужно назначить категорию `'E'`, а клиенту, получающему 235000, — `'B'`. Используйте собственную функцию с именем `categorize_income()` и метод `apply()`.**"
   ]
  },
  {
   "cell_type": "code",
   "execution_count": 71,
   "id": "fe418682",
   "metadata": {
    "deletable": false,
    "id": "e1771346"
   },
   "outputs": [],
   "source": [
    "def categorize_income(income):\n",
    "    try:\n",
    "        if 0 <= income <= 30000:\n",
    "            return 'E'\n",
    "        elif 30001 <= income <= 50000:\n",
    "            return 'D'\n",
    "        elif 50001 <= income <= 200000:\n",
    "            return 'C'\n",
    "        elif 200001 <= income <= 1000000:\n",
    "            return 'B'\n",
    "        elif income >= 1000001:\n",
    "            return 'A'\n",
    "    except:\n",
    "        pass"
   ]
  },
  {
   "cell_type": "code",
   "execution_count": 72,
   "id": "73e15b0c",
   "metadata": {
    "deletable": false,
    "id": "d5f3586d"
   },
   "outputs": [],
   "source": [
    "data['total_income_category'] = data['total_income'].apply(categorize_income)"
   ]
  },
  {
   "cell_type": "markdown",
   "id": "93803552",
   "metadata": {
    "deletable": false,
    "editable": false,
    "id": "dde49b5c"
   },
   "source": [
    "**Задание 17. Выведите на экран перечень уникальных целей взятия кредита из столбца `purpose`.**"
   ]
  },
  {
   "cell_type": "code",
   "execution_count": 73,
   "id": "94f04a8c",
   "metadata": {
    "deletable": false,
    "id": "f67ce9b3",
    "outputId": "673c12d9-7d7e-4ae0-9812-c622c89dd244"
   },
   "outputs": [
    {
     "data": {
      "text/plain": [
       "array(['покупка жилья', 'приобретение автомобиля',\n",
       "       'дополнительное образование', 'сыграть свадьбу',\n",
       "       'операции с жильем', 'образование', 'на проведение свадьбы',\n",
       "       'покупка жилья для семьи', 'покупка недвижимости',\n",
       "       'покупка коммерческой недвижимости', 'покупка жилой недвижимости',\n",
       "       'строительство собственной недвижимости', 'недвижимость',\n",
       "       'строительство недвижимости', 'на покупку подержанного автомобиля',\n",
       "       'на покупку своего автомобиля',\n",
       "       'операции с коммерческой недвижимостью',\n",
       "       'строительство жилой недвижимости', 'жилье',\n",
       "       'операции со своей недвижимостью', 'автомобили',\n",
       "       'заняться образованием', 'сделка с подержанным автомобилем',\n",
       "       'получение образования', 'автомобиль', 'свадьба',\n",
       "       'получение дополнительного образования', 'покупка своего жилья',\n",
       "       'операции с недвижимостью', 'получение высшего образования',\n",
       "       'свой автомобиль', 'сделка с автомобилем',\n",
       "       'профильное образование', 'высшее образование',\n",
       "       'покупка жилья для сдачи', 'на покупку автомобиля', 'ремонт жилью',\n",
       "       'заняться высшим образованием'], dtype=object)"
      ]
     },
     "execution_count": 73,
     "metadata": {},
     "output_type": "execute_result"
    }
   ],
   "source": [
    "data['purpose'].unique()"
   ]
  },
  {
   "cell_type": "markdown",
   "id": "bde4aa91",
   "metadata": {
    "deletable": false,
    "editable": false,
    "id": "85d0aef0"
   },
   "source": [
    "**Задание 18. Создайте функцию, которая на основании данных из столбца `purpose` сформирует новый столбец `purpose_category`, в который войдут следующие категории:**\n",
    "\n",
    "- `'операции с автомобилем'`,\n",
    "- `'операции с недвижимостью'`,\n",
    "- `'проведение свадьбы'`,\n",
    "- `'получение образования'`.\n",
    "\n",
    "**Например, если в столбце `purpose` находится подстрока `'на покупку автомобиля'`, то в столбце `purpose_category` должна появиться строка `'операции с автомобилем'`.**\n",
    "\n",
    "**Используйте собственную функцию с именем `categorize_purpose()` и метод `apply()`. Изучите данные в столбце `purpose` и определите, какие подстроки помогут вам правильно определить категорию.**"
   ]
  },
  {
   "cell_type": "code",
   "execution_count": 74,
   "id": "6a651863",
   "metadata": {
    "deletable": false,
    "id": "e149fab4"
   },
   "outputs": [],
   "source": [
    "def categorize_purpose(row):\n",
    "    try:\n",
    "        if 'автом' in row:\n",
    "            return 'операции с автомобилем'\n",
    "        elif 'жил' in row or 'недвиж' in row:\n",
    "            return 'операции с недвижимостью'\n",
    "        elif 'свад' in row:\n",
    "            return 'проведение свадьбы'\n",
    "        elif 'образов' in row:\n",
    "            return 'получение образования'\n",
    "    except:\n",
    "        return 'нет категории'"
   ]
  },
  {
   "cell_type": "code",
   "execution_count": 75,
   "id": "690cac46",
   "metadata": {
    "deletable": false,
    "id": "bf36e69b"
   },
   "outputs": [],
   "source": [
    "data['purpose_category'] = data['purpose'].apply(categorize_purpose)"
   ]
  },
  {
   "cell_type": "markdown",
   "id": "7495cded",
   "metadata": {
    "deletable": false,
    "editable": false,
    "id": "09b242bf"
   },
   "source": [
    "### Шаг 3. Исследуйте данные и ответьте на вопросы"
   ]
  },
  {
   "cell_type": "markdown",
   "id": "a9fc61e6",
   "metadata": {
    "deletable": false,
    "editable": false,
    "id": "c5d66278"
   },
   "source": [
    "#### 3.1 Есть ли зависимость между количеством детей и возвратом кредита в срок?"
   ]
  },
  {
   "cell_type": "code",
   "execution_count": 76,
   "id": "fed95c4e",
   "metadata": {
    "deletable": false,
    "id": "2cacfc4a"
   },
   "outputs": [
    {
     "data": {
      "text/html": [
       "<div>\n",
       "<style scoped>\n",
       "    .dataframe tbody tr th:only-of-type {\n",
       "        vertical-align: middle;\n",
       "    }\n",
       "\n",
       "    .dataframe tbody tr th {\n",
       "        vertical-align: top;\n",
       "    }\n",
       "\n",
       "    .dataframe thead th {\n",
       "        text-align: right;\n",
       "    }\n",
       "</style>\n",
       "<table border=\"1\" class=\"dataframe\">\n",
       "  <thead>\n",
       "    <tr style=\"text-align: right;\">\n",
       "      <th></th>\n",
       "      <th>Доля должников</th>\n",
       "      <th>Всего должников</th>\n",
       "      <th>Количество заемщиков</th>\n",
       "    </tr>\n",
       "    <tr>\n",
       "      <th>Количество детей</th>\n",
       "      <th></th>\n",
       "      <th></th>\n",
       "      <th></th>\n",
       "    </tr>\n",
       "  </thead>\n",
       "  <tbody>\n",
       "    <tr>\n",
       "      <th>4</th>\n",
       "      <td>0.097561</td>\n",
       "      <td>4</td>\n",
       "      <td>41</td>\n",
       "    </tr>\n",
       "    <tr>\n",
       "      <th>2</th>\n",
       "      <td>0.094542</td>\n",
       "      <td>194</td>\n",
       "      <td>2052</td>\n",
       "    </tr>\n",
       "    <tr>\n",
       "      <th>1</th>\n",
       "      <td>0.092346</td>\n",
       "      <td>444</td>\n",
       "      <td>4808</td>\n",
       "    </tr>\n",
       "    <tr>\n",
       "      <th>3</th>\n",
       "      <td>0.081818</td>\n",
       "      <td>27</td>\n",
       "      <td>330</td>\n",
       "    </tr>\n",
       "    <tr>\n",
       "      <th>0</th>\n",
       "      <td>0.075438</td>\n",
       "      <td>1063</td>\n",
       "      <td>14091</td>\n",
       "    </tr>\n",
       "    <tr>\n",
       "      <th>5</th>\n",
       "      <td>0.000000</td>\n",
       "      <td>0</td>\n",
       "      <td>9</td>\n",
       "    </tr>\n",
       "  </tbody>\n",
       "</table>\n",
       "</div>"
      ],
      "text/plain": [
       "                  Доля должников  Всего должников  Количество заемщиков\n",
       "Количество детей                                                       \n",
       "4                       0.097561                4                    41\n",
       "2                       0.094542              194                  2052\n",
       "1                       0.092346              444                  4808\n",
       "3                       0.081818               27                   330\n",
       "0                       0.075438             1063                 14091\n",
       "5                       0.000000                0                     9"
      ]
     },
     "execution_count": 76,
     "metadata": {},
     "output_type": "execute_result"
    }
   ],
   "source": [
    "import numpy as np\n",
    "data_pivot = pd.pivot_table(data, values='debt', index='children', aggfunc={np.mean, np.sum,})#сводная таблица \n",
    "data_pivot['Количество заемщиков'] = data.groupby('children')['debt'].count() #подсчет количества заемщиков\n",
    "data_pivot.rename(columns={'mean': 'Доля должников', 'sum': 'Всего должников'}, inplace=True) #изменяем колонки\n",
    "data_pivot.index.rename('Количество детей', inplace=True )\n",
    "data_pivot.sort_values(by='Доля должников', ascending = False) #Добавил ascending = False\n"
   ]
  },
  {
   "cell_type": "code",
   "execution_count": 77,
   "id": "f4ad513e",
   "metadata": {},
   "outputs": [
    {
     "data": {
      "text/html": [
       "<div>\n",
       "<style scoped>\n",
       "    .dataframe tbody tr th:only-of-type {\n",
       "        vertical-align: middle;\n",
       "    }\n",
       "\n",
       "    .dataframe tbody tr th {\n",
       "        vertical-align: top;\n",
       "    }\n",
       "\n",
       "    .dataframe thead tr th {\n",
       "        text-align: left;\n",
       "    }\n",
       "\n",
       "    .dataframe thead tr:last-of-type th {\n",
       "        text-align: right;\n",
       "    }\n",
       "</style>\n",
       "<table border=\"1\" class=\"dataframe\">\n",
       "  <thead>\n",
       "    <tr>\n",
       "      <th></th>\n",
       "      <th>count</th>\n",
       "      <th>sum</th>\n",
       "      <th>mean</th>\n",
       "    </tr>\n",
       "    <tr>\n",
       "      <th></th>\n",
       "      <th>debt</th>\n",
       "      <th>debt</th>\n",
       "      <th>debt</th>\n",
       "    </tr>\n",
       "    <tr>\n",
       "      <th>children</th>\n",
       "      <th></th>\n",
       "      <th></th>\n",
       "      <th></th>\n",
       "    </tr>\n",
       "  </thead>\n",
       "  <tbody>\n",
       "    <tr>\n",
       "      <th>4</th>\n",
       "      <td>41</td>\n",
       "      <td>4</td>\n",
       "      <td>0.097561</td>\n",
       "    </tr>\n",
       "    <tr>\n",
       "      <th>2</th>\n",
       "      <td>2052</td>\n",
       "      <td>194</td>\n",
       "      <td>0.094542</td>\n",
       "    </tr>\n",
       "    <tr>\n",
       "      <th>1</th>\n",
       "      <td>4808</td>\n",
       "      <td>444</td>\n",
       "      <td>0.092346</td>\n",
       "    </tr>\n",
       "    <tr>\n",
       "      <th>3</th>\n",
       "      <td>330</td>\n",
       "      <td>27</td>\n",
       "      <td>0.081818</td>\n",
       "    </tr>\n",
       "    <tr>\n",
       "      <th>0</th>\n",
       "      <td>14091</td>\n",
       "      <td>1063</td>\n",
       "      <td>0.075438</td>\n",
       "    </tr>\n",
       "    <tr>\n",
       "      <th>5</th>\n",
       "      <td>9</td>\n",
       "      <td>0</td>\n",
       "      <td>0.000000</td>\n",
       "    </tr>\n",
       "  </tbody>\n",
       "</table>\n",
       "</div>"
      ],
      "text/plain": [
       "          count   sum      mean\n",
       "           debt  debt      debt\n",
       "children                       \n",
       "4            41     4  0.097561\n",
       "2          2052   194  0.094542\n",
       "1          4808   444  0.092346\n",
       "3           330    27  0.081818\n",
       "0         14091  1063  0.075438\n",
       "5             9     0  0.000000"
      ]
     },
     "execution_count": 77,
     "metadata": {},
     "output_type": "execute_result"
    }
   ],
   "source": [
    "data.pivot_table(index = 'children', values = 'debt', aggfunc = ['count', 'sum', 'mean'])\\\n",
    "    .sort_values(by = ('mean', 'debt'), ascending = False)"
   ]
  },
  {
   "cell_type": "markdown",
   "id": "6005a85b",
   "metadata": {
    "deletable": false,
    "id": "3a6b99ec"
   },
   "source": [
    " **Вывод:** Из приведенных данных следует, что клиенты Банка с 5 детьми не имеют просрочек. Наименьшая доля просрочек у клиентов без детей. А клиенты имеющие 1,2,3,4 детей допускают основную долю просрочки. Думаю, что статистика обсуловлена денежной нагрузкой на данную категорию клиентов, в силу больших расходов на содержание семьи. А клиенты с 5 детьми достаточно обеспечены для содеражния семьи и оплаты кредитов. Чем больше детей, тем выше риски.  \n",
    "\n",
    "Новое: Сравнив категории клиентов с 0,1,2 детьми, составляющие бóльшую часть выборки, можно сказать, что самая большая категория клиентов без детей (14 091!) реже всех совершают просрочки, т.е. является самой низкорисковой и надежной категорией клиентов для банка. А клиенты с 1 или 2 детьми допускают просрочки чаще чем остальные категории клиентов. \n",
    "Возможно, банку-заказчику стоит ввести более строгие требования к одобрению кредита и при рассмотрении заявки."
   ]
  },
  {
   "cell_type": "markdown",
   "id": "4a718b86",
   "metadata": {
    "deletable": false,
    "editable": false,
    "id": "97be82ca"
   },
   "source": [
    "#### 3.2 Есть ли зависимость между семейным положением и возвратом кредита в срок?"
   ]
  },
  {
   "cell_type": "code",
   "execution_count": 78,
   "id": "d340ef63",
   "metadata": {
    "deletable": false,
    "id": "dc3f7ee8"
   },
   "outputs": [
    {
     "data": {
      "text/html": [
       "<div>\n",
       "<style scoped>\n",
       "    .dataframe tbody tr th:only-of-type {\n",
       "        vertical-align: middle;\n",
       "    }\n",
       "\n",
       "    .dataframe tbody tr th {\n",
       "        vertical-align: top;\n",
       "    }\n",
       "\n",
       "    .dataframe thead th {\n",
       "        text-align: right;\n",
       "    }\n",
       "</style>\n",
       "<table border=\"1\" class=\"dataframe\">\n",
       "  <thead>\n",
       "    <tr style=\"text-align: right;\">\n",
       "      <th></th>\n",
       "      <th>Доля должников</th>\n",
       "      <th>Всего должников</th>\n",
       "    </tr>\n",
       "    <tr>\n",
       "      <th>Семейное положение</th>\n",
       "      <th></th>\n",
       "      <th></th>\n",
       "    </tr>\n",
       "  </thead>\n",
       "  <tbody>\n",
       "    <tr>\n",
       "      <th>вдовец / вдова</th>\n",
       "      <td>0.066246</td>\n",
       "      <td>63</td>\n",
       "    </tr>\n",
       "    <tr>\n",
       "      <th>в разводе</th>\n",
       "      <td>0.070648</td>\n",
       "      <td>84</td>\n",
       "    </tr>\n",
       "    <tr>\n",
       "      <th>женат / замужем</th>\n",
       "      <td>0.075606</td>\n",
       "      <td>927</td>\n",
       "    </tr>\n",
       "    <tr>\n",
       "      <th>гражданский брак</th>\n",
       "      <td>0.093130</td>\n",
       "      <td>385</td>\n",
       "    </tr>\n",
       "    <tr>\n",
       "      <th>Не женат / не замужем</th>\n",
       "      <td>0.097639</td>\n",
       "      <td>273</td>\n",
       "    </tr>\n",
       "  </tbody>\n",
       "</table>\n",
       "</div>"
      ],
      "text/plain": [
       "                       Доля должников  Всего должников\n",
       "Семейное положение                                    \n",
       "вдовец / вдова               0.066246               63\n",
       "в разводе                    0.070648               84\n",
       "женат / замужем              0.075606              927\n",
       "гражданский брак             0.093130              385\n",
       "Не женат / не замужем        0.097639              273"
      ]
     },
     "execution_count": 78,
     "metadata": {},
     "output_type": "execute_result"
    }
   ],
   "source": [
    "data_pivot2 = pd.pivot_table(data, values='debt', index=['family_status'], aggfunc={np.mean, np.sum,}) #сводная таблица по данным\n",
    "data_pivot2.rename(columns={'sum': 'Всего должников', 'mean' : 'Доля должников'}, inplace=True) #изменяем колонки\n",
    "data_pivot2.index.rename('Семейное положение', inplace=True )\n",
    "data_pivot2.sort_values(by='Доля должников') #сортировка для наглядности"
   ]
  },
  {
   "cell_type": "markdown",
   "id": "f13344f3",
   "metadata": {
    "deletable": false,
    "id": "1cef7837"
   },
   "source": [
    "**Вывод:** Клиенты имеющие семейные отошения  чаще всего совершают просрочки. Возможно это напрямую связано с образом жизни и наличием дополнительных трат. А те, кто кто овдовел или находится в разводе - почти всегда стараются платить вовремя и на это у них хватает денежных средств. Больше всего допускают просрочки холостые клиенты и \"неофициальные семьи\" (т.е. живущие в гражданском браке)"
   ]
  },
  {
   "cell_type": "markdown",
   "id": "d3ba3a4e",
   "metadata": {
    "deletable": false,
    "editable": false,
    "id": "1e8b2fca"
   },
   "source": [
    "#### 3.3 Есть ли зависимость между уровнем дохода и возвратом кредита в срок?"
   ]
  },
  {
   "cell_type": "code",
   "execution_count": 79,
   "id": "20c1a5d4",
   "metadata": {
    "deletable": false,
    "id": "cd7e3720"
   },
   "outputs": [
    {
     "data": {
      "text/html": [
       "<div>\n",
       "<style scoped>\n",
       "    .dataframe tbody tr th:only-of-type {\n",
       "        vertical-align: middle;\n",
       "    }\n",
       "\n",
       "    .dataframe tbody tr th {\n",
       "        vertical-align: top;\n",
       "    }\n",
       "\n",
       "    .dataframe thead th {\n",
       "        text-align: right;\n",
       "    }\n",
       "</style>\n",
       "<table border=\"1\" class=\"dataframe\">\n",
       "  <thead>\n",
       "    <tr style=\"text-align: right;\">\n",
       "      <th></th>\n",
       "      <th>Доля должников</th>\n",
       "      <th>Всего должников</th>\n",
       "      <th>Количество заемщиков</th>\n",
       "    </tr>\n",
       "    <tr>\n",
       "      <th>Уровень дохода</th>\n",
       "      <th></th>\n",
       "      <th></th>\n",
       "      <th></th>\n",
       "    </tr>\n",
       "  </thead>\n",
       "  <tbody>\n",
       "    <tr>\n",
       "      <th>D</th>\n",
       "      <td>0.060172</td>\n",
       "      <td>21</td>\n",
       "      <td>349</td>\n",
       "    </tr>\n",
       "    <tr>\n",
       "      <th>B</th>\n",
       "      <td>0.070602</td>\n",
       "      <td>354</td>\n",
       "      <td>5014</td>\n",
       "    </tr>\n",
       "    <tr>\n",
       "      <th>A</th>\n",
       "      <td>0.080000</td>\n",
       "      <td>2</td>\n",
       "      <td>25</td>\n",
       "    </tr>\n",
       "    <tr>\n",
       "      <th>C</th>\n",
       "      <td>0.084982</td>\n",
       "      <td>1353</td>\n",
       "      <td>15921</td>\n",
       "    </tr>\n",
       "    <tr>\n",
       "      <th>E</th>\n",
       "      <td>0.090909</td>\n",
       "      <td>2</td>\n",
       "      <td>22</td>\n",
       "    </tr>\n",
       "  </tbody>\n",
       "</table>\n",
       "</div>"
      ],
      "text/plain": [
       "                Доля должников  Всего должников  Количество заемщиков\n",
       "Уровень дохода                                                       \n",
       "D                     0.060172               21                   349\n",
       "B                     0.070602              354                  5014\n",
       "A                     0.080000                2                    25\n",
       "C                     0.084982             1353                 15921\n",
       "E                     0.090909                2                    22"
      ]
     },
     "execution_count": 79,
     "metadata": {},
     "output_type": "execute_result"
    }
   ],
   "source": [
    "data_pivot3 = pd.pivot_table(data, values='debt', index=['total_income_category',  ], aggfunc={np.mean, np.sum,}) \n",
    "data_pivot3['Количество заемщиков'] = data.groupby('total_income_category')['debt'].count()\n",
    "data_pivot3.rename(columns={'sum': 'Всего должников', 'mean' : 'Доля должников'}, inplace=True)\n",
    "data_pivot3.index.rename('Уровень дохода', inplace=True )\n",
    "data_pivot3.sort_values(by='Доля должников')  #сортировка для наглядности\n",
    "\n",
    " "
   ]
  },
  {
   "cell_type": "markdown",
   "id": "80a0f845",
   "metadata": {
    "deletable": false,
    "id": "e8593def"
   },
   "source": [
    "**Вывод:** Самая высокая доля у низкооплачиваемых клиентов(E,C). С уровнем зарплаты доля сильно уменьшается, но прямой связи нет. Скорее это больше связано со спецификой работы, т.е. сферой работы и прочими внешними факторами. Стаж, профиль, работы, надежность бизнеса. Самая низкая доля просрочек у людей со средним доходом (D,B). А большие зарплаты тоже равно большие риски. \n",
    "\n",
    "Новое: По самым многочисленным выборкам можно сделать вывод, что клиенты с высоким доходом до 1 млн рублей, реже совершают просрочки, чем клиенты со средним доходом от 50-200 тыс. Доля должников почти на 15% меньше. Банку следует пересмотреть политику к категории клиентов с доходом до 200 тыс, либо ввести дополнительные требования, влияющие на одобрение кредита. "
   ]
  },
  {
   "cell_type": "markdown",
   "id": "0303955f",
   "metadata": {
    "deletable": false,
    "editable": false,
    "id": "99ecbd1f"
   },
   "source": [
    "#### 3.4 Как разные цели кредита влияют на его возврат в срок?"
   ]
  },
  {
   "cell_type": "code",
   "execution_count": 80,
   "id": "879f2c19",
   "metadata": {
    "deletable": false,
    "id": "2b687290"
   },
   "outputs": [
    {
     "data": {
      "text/html": [
       "<div>\n",
       "<style scoped>\n",
       "    .dataframe tbody tr th:only-of-type {\n",
       "        vertical-align: middle;\n",
       "    }\n",
       "\n",
       "    .dataframe tbody tr th {\n",
       "        vertical-align: top;\n",
       "    }\n",
       "\n",
       "    .dataframe thead th {\n",
       "        text-align: right;\n",
       "    }\n",
       "</style>\n",
       "<table border=\"1\" class=\"dataframe\">\n",
       "  <thead>\n",
       "    <tr style=\"text-align: right;\">\n",
       "      <th></th>\n",
       "      <th>Доля должников</th>\n",
       "      <th>Всего должников</th>\n",
       "      <th>Количество заемщиков</th>\n",
       "    </tr>\n",
       "    <tr>\n",
       "      <th>Категория ссуды</th>\n",
       "      <th></th>\n",
       "      <th></th>\n",
       "      <th></th>\n",
       "    </tr>\n",
       "  </thead>\n",
       "  <tbody>\n",
       "    <tr>\n",
       "      <th>операции с недвижимостью</th>\n",
       "      <td>0.072551</td>\n",
       "      <td>780</td>\n",
       "      <td>10751</td>\n",
       "    </tr>\n",
       "    <tr>\n",
       "      <th>проведение свадьбы</th>\n",
       "      <td>0.079118</td>\n",
       "      <td>183</td>\n",
       "      <td>2313</td>\n",
       "    </tr>\n",
       "    <tr>\n",
       "      <th>получение образования</th>\n",
       "      <td>0.092528</td>\n",
       "      <td>369</td>\n",
       "      <td>3988</td>\n",
       "    </tr>\n",
       "    <tr>\n",
       "      <th>операции с автомобилем</th>\n",
       "      <td>0.093480</td>\n",
       "      <td>400</td>\n",
       "      <td>4279</td>\n",
       "    </tr>\n",
       "  </tbody>\n",
       "</table>\n",
       "</div>"
      ],
      "text/plain": [
       "                          Доля должников  Всего должников  \\\n",
       "Категория ссуды                                             \n",
       "операции с недвижимостью        0.072551              780   \n",
       "проведение свадьбы              0.079118              183   \n",
       "получение образования           0.092528              369   \n",
       "операции с автомобилем          0.093480              400   \n",
       "\n",
       "                          Количество заемщиков  \n",
       "Категория ссуды                                 \n",
       "операции с недвижимостью                 10751  \n",
       "проведение свадьбы                        2313  \n",
       "получение образования                     3988  \n",
       "операции с автомобилем                    4279  "
      ]
     },
     "execution_count": 80,
     "metadata": {},
     "output_type": "execute_result"
    }
   ],
   "source": [
    "data_pivot4 = pd.pivot_table(data, values='debt', index=['purpose_category'], aggfunc={np.mean, np.sum,}) \n",
    "data_pivot4['Количество заемщиков'] = data.groupby('purpose_category')['debt'].count()\n",
    "data_pivot4.rename(columns={'sum': 'Всего должников', 'mean' : 'Доля должников'}, inplace=True)\n",
    "data_pivot4.index.rename('Категория ссуды', inplace=True )\n",
    "data_pivot4.sort_values(by='Доля должников') #сортировка для наглядности\n",
    " "
   ]
  },
  {
   "cell_type": "markdown",
   "id": "e583128b",
   "metadata": {
    "deletable": false,
    "id": "b4bb2ce6"
   },
   "source": [
    "**Вывод:** Клиенты, бравшие кредит на покупку недвижимости, меньше всего имели с возвратом кредитов, все таки жилищный вопрос - главный. На автомобиль и образование клиенты, бравшие кредит, чаще других допускают просрочки. т.е. такие ссуды - высокорисковые. На проведение свадеб тоже низкий процент просрочек как и у ипотеки.\n"
   ]
  },
  {
   "cell_type": "markdown",
   "id": "f4973bcb",
   "metadata": {
    "deletable": false,
    "editable": false,
    "id": "09c3ac4c"
   },
   "source": [
    "#### 3.5 Приведите возможные причины появления пропусков в исходных данных."
   ]
  },
  {
   "cell_type": "markdown",
   "id": "66a79d39",
   "metadata": {
    "deletable": false,
    "id": "9da2ceda"
   },
   "source": [
    "*Ответ:* Клиенты при заполнение анкет часто не знают среднего дохода (с учетом премий, отпускных итд) и точного количества отработанных дней. Оставляют данные пустыми, чтобы потом сообщить в банк при подаче документов. Рабочие дни со знаком минус - вероятно программа считает дни от устройства на работу до даты подачи заявки в банк. "
   ]
  },
  {
   "cell_type": "markdown",
   "id": "1ba2d297",
   "metadata": {
    "deletable": false,
    "editable": false,
    "id": "7b0487d6"
   },
   "source": [
    "#### 3.6 Объясните, почему заполнить пропуски медианным значением — лучшее решение для количественных переменных."
   ]
  },
  {
   "cell_type": "markdown",
   "id": "1e2fa1d2",
   "metadata": {
    "deletable": false,
    "id": "7ecf2b8e"
   },
   "source": [
    "*Ответ:* Медианное значение дает более точное представление по категории или по масиву данных. Среднее значение может сильно исказить результаты и выводы могут получится не точными."
   ]
  },
  {
   "cell_type": "markdown",
   "id": "9c7cd60b",
   "metadata": {
    "deletable": false,
    "editable": false,
    "id": "6db5255a"
   },
   "source": [
    "### Шаг 4: общий вывод."
   ]
  },
  {
   "cell_type": "markdown",
   "id": "14a57e11",
   "metadata": {
    "deletable": false,
    "id": "bad65432"
   },
   "source": [
    "В Банке самый популярный продукт - Ипотека ( сделки с недвижимостью). Далее автокредит, образование и кредиты на свадьбы. Доля невозвратов по ипотечным кредитам самая низкая. В основном покупают квартиры холостые люди, семьи меньше. Процент невозвратов до 8-10%. Банк может пересмотреть политику выдачи кредитов для наращивания более качественного портфеля и улучшения показателей. \n",
    "\n",
    "Новое: Просмотрев сводные таблице по количеству просрочек можно сделать выводы о разных категорях клиентов. Портрет самой рискованной категории клиентов можно описать так, это Клиент, не в официальном браке или в разводе, имеющий 1-2 детей, со средним доходом 50-200 тыс, берущий кредит на автомобиль или образование. \n",
    "Идеальный замещик для банка - Клиент, который официально замужем / женат или в разводе, с высоким доходом до 1 млн руб, без детей. И берущий кредит на квартиру (ипотеку). \n",
    "Можно сказать, что установлены зависимости просрочек от нескольких факторов, таких как - доход, семейное положение, наличие детей, сама цель кредита.\n",
    "\n",
    "Чтобы улучшить качество данных и не требовалась их доработка на этапе предобработки данных, при подаче документов запретить (программно в ПО) отправку заявки по кредиту с пустыми полями (Особенно в части дохода и дней работы) . В столбце с количеством дней - можно включить \"модуль\" к данным, чтобы минус просто убирался, как мы и сделали выше в задании. В столбце с образование , сделать для менеджеров выпадающих список, чтобы можно было выбрать один из нескольких вариантов. Судя по записям, менеджеры печатают эти  данные, то с КАПСОМ, то просто с разным рЕГИСТРом. :)\n",
    "\n",
    "Систему скоринга можно расширить по клиентам, чтобы решение по клиентам и данные были более объективными, и отражало их благонадежность для Банка. Например, наличие уже купленной недвижимости, автомобилей (учитывая их рыночную стоимость и состояние). Касательно рассмотрения места работы потенциальных заемщиков, ввести дополнительные требования к подаче сведений о них. Справки с места работы, наличие официального дохода, документально подтвержденного. Возможно также улучшить систему проверки сведений - улучшение работы отдела безопасности Банка: выезды для проверки места работы или работодателя. Введение более сложных моделей повысит качество портфеля Банка и улучшит показатели по просрочкам клиентов. Но здесь главное соблюдать баланс между строгой и мягкой политикой, чтобы не обвалить показатели."
   ]
  }
 ],
 "metadata": {
  "ExecuteTimeLog": [
   {
    "duration": 494,
    "start_time": "2023-01-26T16:06:14.350Z"
   },
   {
    "duration": 66,
    "start_time": "2023-01-26T16:06:25.804Z"
   },
   {
    "duration": 20,
    "start_time": "2023-01-26T16:06:29.815Z"
   },
   {
    "duration": 10,
    "start_time": "2023-01-26T16:43:14.817Z"
   },
   {
    "duration": 7,
    "start_time": "2023-01-26T16:43:24.765Z"
   },
   {
    "duration": 65,
    "start_time": "2023-01-26T16:43:38.057Z"
   },
   {
    "duration": 13,
    "start_time": "2023-01-26T16:43:38.124Z"
   },
   {
    "duration": 24,
    "start_time": "2023-01-26T16:43:38.138Z"
   },
   {
    "duration": 9,
    "start_time": "2023-01-26T16:43:38.163Z"
   },
   {
    "duration": 30,
    "start_time": "2023-01-26T16:43:38.174Z"
   },
   {
    "duration": 3,
    "start_time": "2023-01-26T16:43:38.206Z"
   },
   {
    "duration": 9,
    "start_time": "2023-01-26T16:43:38.210Z"
   },
   {
    "duration": 23,
    "start_time": "2023-01-26T16:43:38.221Z"
   },
   {
    "duration": 32,
    "start_time": "2023-01-26T16:43:38.245Z"
   },
   {
    "duration": 4,
    "start_time": "2023-01-26T16:43:38.278Z"
   },
   {
    "duration": 36,
    "start_time": "2023-01-26T16:43:38.283Z"
   },
   {
    "duration": 9,
    "start_time": "2023-01-26T16:43:38.320Z"
   },
   {
    "duration": 4,
    "start_time": "2023-01-26T16:43:38.330Z"
   },
   {
    "duration": 15,
    "start_time": "2023-01-26T16:43:38.336Z"
   },
   {
    "duration": 21,
    "start_time": "2023-01-26T16:43:38.356Z"
   },
   {
    "duration": 14,
    "start_time": "2023-01-26T16:43:38.379Z"
   },
   {
    "duration": 4,
    "start_time": "2023-01-26T16:43:38.394Z"
   },
   {
    "duration": 11,
    "start_time": "2023-01-26T16:43:38.399Z"
   },
   {
    "duration": 5,
    "start_time": "2023-01-26T16:43:38.411Z"
   },
   {
    "duration": 16,
    "start_time": "2023-01-26T16:43:38.417Z"
   },
   {
    "duration": 31,
    "start_time": "2023-01-26T16:43:38.434Z"
   },
   {
    "duration": 8,
    "start_time": "2023-01-26T16:43:42.669Z"
   },
   {
    "duration": 15,
    "start_time": "2023-01-26T16:52:32.489Z"
   },
   {
    "duration": 31,
    "start_time": "2023-01-26T17:01:16.556Z"
   },
   {
    "duration": 35,
    "start_time": "2023-01-26T17:01:41.133Z"
   },
   {
    "duration": 34,
    "start_time": "2023-01-26T17:02:03.886Z"
   },
   {
    "duration": 3,
    "start_time": "2023-01-26T17:04:03.960Z"
   },
   {
    "duration": 3,
    "start_time": "2023-01-26T17:04:12.768Z"
   },
   {
    "duration": 30,
    "start_time": "2023-01-26T17:04:16.679Z"
   },
   {
    "duration": 42,
    "start_time": "2023-01-26T17:04:31.843Z"
   },
   {
    "duration": 73,
    "start_time": "2023-01-26T17:05:18.233Z"
   },
   {
    "duration": 94,
    "start_time": "2023-01-26T17:06:33.741Z"
   },
   {
    "duration": 83,
    "start_time": "2023-01-26T17:06:52.786Z"
   },
   {
    "duration": 15,
    "start_time": "2023-01-26T17:10:46.250Z"
   },
   {
    "duration": 83,
    "start_time": "2023-01-26T17:11:31.122Z"
   },
   {
    "duration": 78,
    "start_time": "2023-01-26T17:12:16.688Z"
   },
   {
    "duration": 106,
    "start_time": "2023-01-26T17:13:03.272Z"
   },
   {
    "duration": 11,
    "start_time": "2023-01-26T17:13:08.266Z"
   },
   {
    "duration": 11,
    "start_time": "2023-01-26T17:14:42.162Z"
   },
   {
    "duration": 16,
    "start_time": "2023-01-26T17:14:53.744Z"
   },
   {
    "duration": 12,
    "start_time": "2023-01-26T17:15:02.717Z"
   },
   {
    "duration": 10,
    "start_time": "2023-01-26T17:15:28.028Z"
   },
   {
    "duration": 12,
    "start_time": "2023-01-26T17:15:36.160Z"
   },
   {
    "duration": 17,
    "start_time": "2023-01-26T17:15:44.670Z"
   },
   {
    "duration": 9,
    "start_time": "2023-01-26T17:17:00.114Z"
   },
   {
    "duration": 7,
    "start_time": "2023-01-26T17:17:08.030Z"
   },
   {
    "duration": 8,
    "start_time": "2023-01-26T17:17:24.522Z"
   },
   {
    "duration": 8,
    "start_time": "2023-01-26T17:17:28.106Z"
   },
   {
    "duration": 16,
    "start_time": "2023-01-26T17:17:30.543Z"
   },
   {
    "duration": 19,
    "start_time": "2023-01-26T17:17:40.749Z"
   },
   {
    "duration": 17,
    "start_time": "2023-01-26T17:17:51.118Z"
   },
   {
    "duration": 11,
    "start_time": "2023-01-26T17:17:56.046Z"
   },
   {
    "duration": 12,
    "start_time": "2023-01-26T17:18:00.064Z"
   },
   {
    "duration": 25,
    "start_time": "2023-01-26T17:18:28.772Z"
   },
   {
    "duration": 108,
    "start_time": "2023-01-26T17:19:03.574Z"
   },
   {
    "duration": 17,
    "start_time": "2023-01-26T17:19:20.156Z"
   },
   {
    "duration": 12,
    "start_time": "2023-01-26T17:20:13.396Z"
   },
   {
    "duration": 19,
    "start_time": "2023-01-26T17:20:33.744Z"
   },
   {
    "duration": 26,
    "start_time": "2023-01-26T17:20:46.455Z"
   },
   {
    "duration": 25,
    "start_time": "2023-01-26T17:21:17.646Z"
   },
   {
    "duration": 17,
    "start_time": "2023-01-26T17:21:58.403Z"
   },
   {
    "duration": 13,
    "start_time": "2023-01-26T17:23:17.510Z"
   },
   {
    "duration": 17,
    "start_time": "2023-01-26T17:23:35.576Z"
   },
   {
    "duration": 22,
    "start_time": "2023-01-26T17:24:39.161Z"
   },
   {
    "duration": 13,
    "start_time": "2023-01-26T17:25:14.112Z"
   },
   {
    "duration": 24,
    "start_time": "2023-01-26T17:26:23.752Z"
   },
   {
    "duration": 13,
    "start_time": "2023-01-26T17:27:04.305Z"
   },
   {
    "duration": 24,
    "start_time": "2023-01-26T17:27:39.140Z"
   },
   {
    "duration": 6,
    "start_time": "2023-01-26T18:03:32.891Z"
   },
   {
    "duration": 16,
    "start_time": "2023-01-26T18:04:27.381Z"
   },
   {
    "duration": 13,
    "start_time": "2023-01-26T18:05:43.412Z"
   },
   {
    "duration": 12,
    "start_time": "2023-01-26T18:06:04.862Z"
   },
   {
    "duration": 63,
    "start_time": "2023-01-26T19:11:43.677Z"
   },
   {
    "duration": 12,
    "start_time": "2023-01-26T19:11:51.341Z"
   },
   {
    "duration": 11,
    "start_time": "2023-01-26T19:12:11.481Z"
   },
   {
    "duration": 12,
    "start_time": "2023-01-26T19:16:51.093Z"
   },
   {
    "duration": 13,
    "start_time": "2023-01-26T19:17:25.416Z"
   },
   {
    "duration": 73,
    "start_time": "2023-01-26T19:17:40.689Z"
   },
   {
    "duration": 7,
    "start_time": "2023-01-26T19:17:45.581Z"
   },
   {
    "duration": 13,
    "start_time": "2023-01-26T19:17:53.340Z"
   },
   {
    "duration": 12,
    "start_time": "2023-01-26T19:17:58.643Z"
   },
   {
    "duration": 72,
    "start_time": "2023-01-26T19:19:07.119Z"
   },
   {
    "duration": 79,
    "start_time": "2023-01-26T19:19:22.570Z"
   },
   {
    "duration": 13,
    "start_time": "2023-01-26T19:25:23.090Z"
   },
   {
    "duration": 12,
    "start_time": "2023-01-26T19:26:03.447Z"
   },
   {
    "duration": 11,
    "start_time": "2023-01-26T19:26:14.163Z"
   },
   {
    "duration": 14,
    "start_time": "2023-01-26T19:31:21.941Z"
   },
   {
    "duration": 16,
    "start_time": "2023-01-26T19:31:32.218Z"
   },
   {
    "duration": 18,
    "start_time": "2023-01-26T19:31:40.536Z"
   },
   {
    "duration": 19,
    "start_time": "2023-01-26T19:34:26.176Z"
   },
   {
    "duration": 19,
    "start_time": "2023-01-26T19:35:15.666Z"
   },
   {
    "duration": 71,
    "start_time": "2023-01-26T19:35:29.809Z"
   },
   {
    "duration": 67,
    "start_time": "2023-01-26T19:35:39.174Z"
   },
   {
    "duration": 16,
    "start_time": "2023-01-26T19:35:44.077Z"
   },
   {
    "duration": 18,
    "start_time": "2023-01-26T19:35:58.452Z"
   },
   {
    "duration": 21,
    "start_time": "2023-01-26T19:36:43.443Z"
   },
   {
    "duration": 19,
    "start_time": "2023-01-26T19:36:53.862Z"
   },
   {
    "duration": 20,
    "start_time": "2023-01-26T19:37:13.720Z"
   },
   {
    "duration": 5,
    "start_time": "2023-01-26T19:37:31.508Z"
   },
   {
    "duration": 5,
    "start_time": "2023-01-26T19:37:40.712Z"
   },
   {
    "duration": 19,
    "start_time": "2023-01-26T19:38:07.701Z"
   },
   {
    "duration": 13,
    "start_time": "2023-01-26T19:40:07.922Z"
   },
   {
    "duration": 9,
    "start_time": "2023-01-26T19:40:14.430Z"
   },
   {
    "duration": 20,
    "start_time": "2023-01-26T19:40:26.420Z"
   },
   {
    "duration": 65,
    "start_time": "2023-01-26T19:41:06.688Z"
   },
   {
    "duration": 75,
    "start_time": "2023-01-26T19:41:22.446Z"
   },
   {
    "duration": 8,
    "start_time": "2023-01-26T19:41:42.195Z"
   },
   {
    "duration": 18,
    "start_time": "2023-01-26T19:43:02.772Z"
   },
   {
    "duration": 1230,
    "start_time": "2023-01-26T19:43:21.232Z"
   },
   {
    "duration": 18,
    "start_time": "2023-01-26T19:43:33.450Z"
   },
   {
    "duration": 22,
    "start_time": "2023-01-26T19:47:14.729Z"
   },
   {
    "duration": 17,
    "start_time": "2023-01-26T19:47:52.844Z"
   },
   {
    "duration": 19,
    "start_time": "2023-01-26T19:47:56.589Z"
   },
   {
    "duration": 18,
    "start_time": "2023-01-26T19:48:54.819Z"
   },
   {
    "duration": 21,
    "start_time": "2023-01-26T19:49:03.112Z"
   },
   {
    "duration": 18,
    "start_time": "2023-01-26T19:49:11.045Z"
   },
   {
    "duration": 4,
    "start_time": "2023-01-26T19:50:16.185Z"
   },
   {
    "duration": 23,
    "start_time": "2023-01-26T19:50:21.680Z"
   },
   {
    "duration": 20,
    "start_time": "2023-01-26T19:50:41.773Z"
   },
   {
    "duration": 1079,
    "start_time": "2023-01-26T19:51:13.054Z"
   },
   {
    "duration": 24,
    "start_time": "2023-01-26T19:51:27.477Z"
   },
   {
    "duration": 20,
    "start_time": "2023-01-26T19:51:47.787Z"
   },
   {
    "duration": 24,
    "start_time": "2023-01-26T19:52:03.376Z"
   },
   {
    "duration": 4,
    "start_time": "2023-01-26T19:52:32.841Z"
   },
   {
    "duration": 20,
    "start_time": "2023-01-26T19:52:36.028Z"
   },
   {
    "duration": 20,
    "start_time": "2023-01-26T19:54:38.391Z"
   },
   {
    "duration": 22,
    "start_time": "2023-01-26T19:55:05.951Z"
   },
   {
    "duration": 18,
    "start_time": "2023-01-26T19:55:10.236Z"
   },
   {
    "duration": 21,
    "start_time": "2023-01-26T19:56:06.600Z"
   },
   {
    "duration": 24,
    "start_time": "2023-01-26T19:57:55.682Z"
   },
   {
    "duration": 1213,
    "start_time": "2023-01-26T19:58:03.404Z"
   },
   {
    "duration": 20,
    "start_time": "2023-01-26T19:59:17.405Z"
   },
   {
    "duration": 18,
    "start_time": "2023-01-26T19:59:31.443Z"
   },
   {
    "duration": 68,
    "start_time": "2023-01-26T20:06:21.077Z"
   },
   {
    "duration": 836,
    "start_time": "2023-01-26T20:06:30.674Z"
   },
   {
    "duration": 874,
    "start_time": "2023-01-26T20:07:06.996Z"
   },
   {
    "duration": 23,
    "start_time": "2023-01-26T20:07:24.896Z"
   },
   {
    "duration": 18,
    "start_time": "2023-01-26T20:08:25.122Z"
   },
   {
    "duration": 20,
    "start_time": "2023-01-26T20:08:40.680Z"
   },
   {
    "duration": 70,
    "start_time": "2023-01-26T20:12:04.181Z"
   },
   {
    "duration": 13,
    "start_time": "2023-01-26T20:12:04.253Z"
   },
   {
    "duration": 17,
    "start_time": "2023-01-26T20:12:04.268Z"
   },
   {
    "duration": 8,
    "start_time": "2023-01-26T20:12:04.287Z"
   },
   {
    "duration": 31,
    "start_time": "2023-01-26T20:12:04.297Z"
   },
   {
    "duration": 4,
    "start_time": "2023-01-26T20:12:04.343Z"
   },
   {
    "duration": 13,
    "start_time": "2023-01-26T20:12:04.348Z"
   },
   {
    "duration": 4,
    "start_time": "2023-01-26T20:12:04.362Z"
   },
   {
    "duration": 10,
    "start_time": "2023-01-26T20:12:04.367Z"
   },
   {
    "duration": 6,
    "start_time": "2023-01-26T20:12:04.379Z"
   },
   {
    "duration": 36,
    "start_time": "2023-01-26T20:12:04.387Z"
   },
   {
    "duration": 22,
    "start_time": "2023-01-26T20:12:04.425Z"
   },
   {
    "duration": 5,
    "start_time": "2023-01-26T20:12:04.449Z"
   },
   {
    "duration": 16,
    "start_time": "2023-01-26T20:12:04.455Z"
   },
   {
    "duration": 19,
    "start_time": "2023-01-26T20:12:04.472Z"
   },
   {
    "duration": 17,
    "start_time": "2023-01-26T20:12:04.492Z"
   },
   {
    "duration": 3,
    "start_time": "2023-01-26T20:12:04.510Z"
   },
   {
    "duration": 30,
    "start_time": "2023-01-26T20:12:04.514Z"
   },
   {
    "duration": 5,
    "start_time": "2023-01-26T20:12:04.545Z"
   },
   {
    "duration": 4,
    "start_time": "2023-01-26T20:12:04.552Z"
   },
   {
    "duration": 10,
    "start_time": "2023-01-26T20:12:04.557Z"
   },
   {
    "duration": 23,
    "start_time": "2023-01-26T20:12:04.568Z"
   },
   {
    "duration": 20,
    "start_time": "2023-01-26T20:12:04.593Z"
   },
   {
    "duration": 21,
    "start_time": "2023-01-26T20:12:04.643Z"
   },
   {
    "duration": 16,
    "start_time": "2023-01-26T20:12:04.666Z"
   },
   {
    "duration": 19,
    "start_time": "2023-01-26T20:13:16.245Z"
   },
   {
    "duration": 21,
    "start_time": "2023-01-26T20:13:27.282Z"
   },
   {
    "duration": 18,
    "start_time": "2023-01-26T20:13:59.446Z"
   },
   {
    "duration": 26,
    "start_time": "2023-01-26T20:14:04.714Z"
   },
   {
    "duration": 19,
    "start_time": "2023-01-26T20:14:10.200Z"
   },
   {
    "duration": 19,
    "start_time": "2023-01-26T20:14:25.457Z"
   },
   {
    "duration": 26,
    "start_time": "2023-01-26T20:15:20.820Z"
   },
   {
    "duration": 20,
    "start_time": "2023-01-26T20:15:45.809Z"
   },
   {
    "duration": 18,
    "start_time": "2023-01-26T20:15:54.898Z"
   },
   {
    "duration": 18,
    "start_time": "2023-01-26T20:16:14.102Z"
   },
   {
    "duration": 20,
    "start_time": "2023-01-26T20:16:20.962Z"
   },
   {
    "duration": 66,
    "start_time": "2023-01-26T20:16:29.262Z"
   },
   {
    "duration": 14,
    "start_time": "2023-01-26T20:16:29.330Z"
   },
   {
    "duration": 17,
    "start_time": "2023-01-26T20:16:29.345Z"
   },
   {
    "duration": 8,
    "start_time": "2023-01-26T20:16:29.364Z"
   },
   {
    "duration": 31,
    "start_time": "2023-01-26T20:16:29.373Z"
   },
   {
    "duration": 2,
    "start_time": "2023-01-26T20:16:29.406Z"
   },
   {
    "duration": 12,
    "start_time": "2023-01-26T20:16:29.410Z"
   },
   {
    "duration": 21,
    "start_time": "2023-01-26T20:16:29.423Z"
   },
   {
    "duration": 4,
    "start_time": "2023-01-26T20:16:29.446Z"
   },
   {
    "duration": 4,
    "start_time": "2023-01-26T20:16:29.452Z"
   },
   {
    "duration": 66,
    "start_time": "2023-01-26T20:16:29.457Z"
   },
   {
    "duration": 21,
    "start_time": "2023-01-26T20:16:29.525Z"
   },
   {
    "duration": 3,
    "start_time": "2023-01-26T20:16:29.547Z"
   },
   {
    "duration": 12,
    "start_time": "2023-01-26T20:16:29.552Z"
   },
   {
    "duration": 18,
    "start_time": "2023-01-26T20:16:29.565Z"
   },
   {
    "duration": 15,
    "start_time": "2023-01-26T20:16:29.584Z"
   },
   {
    "duration": 3,
    "start_time": "2023-01-26T20:16:29.600Z"
   },
   {
    "duration": 12,
    "start_time": "2023-01-26T20:16:29.604Z"
   },
   {
    "duration": 28,
    "start_time": "2023-01-26T20:16:29.617Z"
   },
   {
    "duration": 3,
    "start_time": "2023-01-26T20:16:29.647Z"
   },
   {
    "duration": 9,
    "start_time": "2023-01-26T20:16:29.651Z"
   },
   {
    "duration": 22,
    "start_time": "2023-01-26T20:16:29.662Z"
   },
   {
    "duration": 15,
    "start_time": "2023-01-26T20:16:29.685Z"
   },
   {
    "duration": 45,
    "start_time": "2023-01-26T20:16:29.701Z"
   },
   {
    "duration": 13,
    "start_time": "2023-01-26T20:16:29.747Z"
   },
   {
    "duration": 70,
    "start_time": "2023-01-26T20:17:16.625Z"
   },
   {
    "duration": 25,
    "start_time": "2023-01-26T20:17:30.280Z"
   },
   {
    "duration": 21,
    "start_time": "2023-01-26T20:17:36.615Z"
   },
   {
    "duration": 19,
    "start_time": "2023-01-26T20:17:59.287Z"
   },
   {
    "duration": 22,
    "start_time": "2023-01-26T20:18:23.570Z"
   },
   {
    "duration": 19,
    "start_time": "2023-01-26T20:18:27.626Z"
   },
   {
    "duration": 18,
    "start_time": "2023-01-26T20:18:48.418Z"
   },
   {
    "duration": 18,
    "start_time": "2023-01-26T20:18:57.045Z"
   },
   {
    "duration": 19,
    "start_time": "2023-01-26T20:19:21.649Z"
   },
   {
    "duration": 19,
    "start_time": "2023-01-26T20:19:27.570Z"
   },
   {
    "duration": 22,
    "start_time": "2023-01-26T20:29:37.782Z"
   },
   {
    "duration": 24,
    "start_time": "2023-01-26T20:31:10.830Z"
   },
   {
    "duration": 24,
    "start_time": "2023-01-26T20:31:20.647Z"
   },
   {
    "duration": 23,
    "start_time": "2023-01-26T20:31:24.797Z"
   },
   {
    "duration": 78,
    "start_time": "2023-01-26T20:31:45.969Z"
   },
   {
    "duration": 15,
    "start_time": "2023-01-26T20:31:46.049Z"
   },
   {
    "duration": 20,
    "start_time": "2023-01-26T20:31:46.066Z"
   },
   {
    "duration": 10,
    "start_time": "2023-01-26T20:31:46.088Z"
   },
   {
    "duration": 47,
    "start_time": "2023-01-26T20:31:46.100Z"
   },
   {
    "duration": 3,
    "start_time": "2023-01-26T20:31:46.148Z"
   },
   {
    "duration": 10,
    "start_time": "2023-01-26T20:31:46.152Z"
   },
   {
    "duration": 8,
    "start_time": "2023-01-26T20:31:46.163Z"
   },
   {
    "duration": 10,
    "start_time": "2023-01-26T20:31:46.172Z"
   },
   {
    "duration": 4,
    "start_time": "2023-01-26T20:31:46.184Z"
   },
   {
    "duration": 36,
    "start_time": "2023-01-26T20:31:46.189Z"
   },
   {
    "duration": 21,
    "start_time": "2023-01-26T20:31:46.226Z"
   },
   {
    "duration": 3,
    "start_time": "2023-01-26T20:31:46.249Z"
   },
   {
    "duration": 22,
    "start_time": "2023-01-26T20:31:46.253Z"
   },
   {
    "duration": 16,
    "start_time": "2023-01-26T20:31:46.276Z"
   },
   {
    "duration": 15,
    "start_time": "2023-01-26T20:31:46.293Z"
   },
   {
    "duration": 3,
    "start_time": "2023-01-26T20:31:46.310Z"
   },
   {
    "duration": 11,
    "start_time": "2023-01-26T20:31:46.314Z"
   },
   {
    "duration": 18,
    "start_time": "2023-01-26T20:31:46.327Z"
   },
   {
    "duration": 3,
    "start_time": "2023-01-26T20:31:46.346Z"
   },
   {
    "duration": 11,
    "start_time": "2023-01-26T20:31:46.351Z"
   },
   {
    "duration": 19,
    "start_time": "2023-01-26T20:31:46.363Z"
   },
   {
    "duration": 21,
    "start_time": "2023-01-26T20:31:46.384Z"
   },
   {
    "duration": 45,
    "start_time": "2023-01-26T20:31:46.406Z"
   },
   {
    "duration": 13,
    "start_time": "2023-01-26T20:31:46.452Z"
   },
   {
    "duration": 23,
    "start_time": "2023-01-26T20:31:59.287Z"
   },
   {
    "duration": 23,
    "start_time": "2023-01-26T20:32:19.551Z"
   },
   {
    "duration": 23,
    "start_time": "2023-01-26T20:32:34.526Z"
   },
   {
    "duration": 70,
    "start_time": "2023-01-26T20:33:37.315Z"
   },
   {
    "duration": 68,
    "start_time": "2023-01-26T20:33:48.111Z"
   },
   {
    "duration": 21,
    "start_time": "2023-01-26T20:33:58.469Z"
   },
   {
    "duration": 22,
    "start_time": "2023-01-26T20:34:37.095Z"
   },
   {
    "duration": 24,
    "start_time": "2023-01-26T20:34:57.675Z"
   },
   {
    "duration": 23,
    "start_time": "2023-01-26T20:35:07.384Z"
   },
   {
    "duration": 21,
    "start_time": "2023-01-26T20:35:33.168Z"
   },
   {
    "duration": 21,
    "start_time": "2023-01-26T20:35:46.077Z"
   },
   {
    "duration": 21,
    "start_time": "2023-01-26T20:35:52.729Z"
   },
   {
    "duration": 18,
    "start_time": "2023-01-26T20:36:57.560Z"
   },
   {
    "duration": 19,
    "start_time": "2023-01-26T20:37:04.966Z"
   },
   {
    "duration": 19,
    "start_time": "2023-01-26T20:37:25.983Z"
   },
   {
    "duration": 22,
    "start_time": "2023-01-26T20:37:38.373Z"
   },
   {
    "duration": 19,
    "start_time": "2023-01-26T20:38:09.816Z"
   },
   {
    "duration": 4,
    "start_time": "2023-01-26T20:38:18.719Z"
   },
   {
    "duration": 4,
    "start_time": "2023-01-26T20:38:33.845Z"
   },
   {
    "duration": 21,
    "start_time": "2023-01-26T20:39:14.068Z"
   },
   {
    "duration": 21,
    "start_time": "2023-01-26T20:40:42.443Z"
   },
   {
    "duration": 26,
    "start_time": "2023-01-26T20:41:07.119Z"
   },
   {
    "duration": 20,
    "start_time": "2023-01-26T20:42:10.317Z"
   },
   {
    "duration": 21,
    "start_time": "2023-01-26T20:42:12.273Z"
   },
   {
    "duration": 16,
    "start_time": "2023-01-26T20:42:27.373Z"
   },
   {
    "duration": 13,
    "start_time": "2023-01-26T20:43:12.689Z"
   },
   {
    "duration": 19,
    "start_time": "2023-01-26T20:43:36.100Z"
   },
   {
    "duration": 22,
    "start_time": "2023-01-26T20:44:57.165Z"
   },
   {
    "duration": 24,
    "start_time": "2023-01-26T20:45:24.093Z"
   },
   {
    "duration": 23,
    "start_time": "2023-01-26T20:45:43.827Z"
   },
   {
    "duration": 1142,
    "start_time": "2023-01-26T20:49:33.446Z"
   },
   {
    "duration": 1112,
    "start_time": "2023-01-26T20:49:53.430Z"
   },
   {
    "duration": 1148,
    "start_time": "2023-01-26T20:50:36.604Z"
   },
   {
    "duration": 1210,
    "start_time": "2023-01-26T20:53:04.678Z"
   },
   {
    "duration": 0,
    "start_time": "2023-01-26T20:57:15.390Z"
   },
   {
    "duration": 0,
    "start_time": "2023-01-26T20:57:15.391Z"
   },
   {
    "duration": 0,
    "start_time": "2023-01-26T20:57:15.392Z"
   },
   {
    "duration": 0,
    "start_time": "2023-01-26T20:57:15.393Z"
   },
   {
    "duration": 0,
    "start_time": "2023-01-26T20:57:15.394Z"
   },
   {
    "duration": 0,
    "start_time": "2023-01-26T20:57:15.395Z"
   },
   {
    "duration": 0,
    "start_time": "2023-01-26T20:57:15.396Z"
   },
   {
    "duration": 0,
    "start_time": "2023-01-26T20:57:15.397Z"
   },
   {
    "duration": 0,
    "start_time": "2023-01-26T20:57:15.398Z"
   },
   {
    "duration": 0,
    "start_time": "2023-01-26T20:57:15.399Z"
   },
   {
    "duration": 0,
    "start_time": "2023-01-26T20:57:15.400Z"
   },
   {
    "duration": 0,
    "start_time": "2023-01-26T20:57:15.401Z"
   },
   {
    "duration": 0,
    "start_time": "2023-01-26T20:57:15.402Z"
   },
   {
    "duration": 0,
    "start_time": "2023-01-26T20:57:15.403Z"
   },
   {
    "duration": 0,
    "start_time": "2023-01-26T20:57:15.404Z"
   },
   {
    "duration": 0,
    "start_time": "2023-01-26T20:57:15.405Z"
   },
   {
    "duration": 0,
    "start_time": "2023-01-26T20:57:15.406Z"
   },
   {
    "duration": 0,
    "start_time": "2023-01-26T20:57:15.407Z"
   },
   {
    "duration": 0,
    "start_time": "2023-01-26T20:57:15.409Z"
   },
   {
    "duration": 0,
    "start_time": "2023-01-26T20:57:15.411Z"
   },
   {
    "duration": 0,
    "start_time": "2023-01-26T20:57:15.412Z"
   },
   {
    "duration": 0,
    "start_time": "2023-01-26T20:57:15.413Z"
   },
   {
    "duration": 0,
    "start_time": "2023-01-26T20:57:15.414Z"
   },
   {
    "duration": 0,
    "start_time": "2023-01-26T20:57:15.415Z"
   },
   {
    "duration": 0,
    "start_time": "2023-01-26T20:57:15.416Z"
   },
   {
    "duration": 0,
    "start_time": "2023-01-26T20:57:15.417Z"
   },
   {
    "duration": 21,
    "start_time": "2023-01-26T20:57:24.251Z"
   },
   {
    "duration": 67,
    "start_time": "2023-01-26T20:57:27.017Z"
   },
   {
    "duration": 13,
    "start_time": "2023-01-26T20:57:27.086Z"
   },
   {
    "duration": 18,
    "start_time": "2023-01-26T20:57:27.100Z"
   },
   {
    "duration": 9,
    "start_time": "2023-01-26T20:57:27.119Z"
   },
   {
    "duration": 63,
    "start_time": "2023-01-26T20:57:27.129Z"
   },
   {
    "duration": 2,
    "start_time": "2023-01-26T20:57:27.194Z"
   },
   {
    "duration": 12,
    "start_time": "2023-01-26T20:57:27.198Z"
   },
   {
    "duration": 8,
    "start_time": "2023-01-26T20:57:27.212Z"
   },
   {
    "duration": 24,
    "start_time": "2023-01-26T20:57:27.221Z"
   },
   {
    "duration": 20,
    "start_time": "2023-01-26T20:57:27.246Z"
   },
   {
    "duration": 45,
    "start_time": "2023-01-26T20:57:27.268Z"
   },
   {
    "duration": 14,
    "start_time": "2023-01-26T20:57:27.314Z"
   },
   {
    "duration": 17,
    "start_time": "2023-01-26T20:57:27.330Z"
   },
   {
    "duration": 16,
    "start_time": "2023-01-26T20:57:27.350Z"
   },
   {
    "duration": 16,
    "start_time": "2023-01-26T20:57:27.367Z"
   },
   {
    "duration": 16,
    "start_time": "2023-01-26T20:57:27.384Z"
   },
   {
    "duration": 4,
    "start_time": "2023-01-26T20:57:27.401Z"
   },
   {
    "duration": 14,
    "start_time": "2023-01-26T20:57:27.406Z"
   },
   {
    "duration": 12,
    "start_time": "2023-01-26T20:57:27.422Z"
   },
   {
    "duration": 22,
    "start_time": "2023-01-26T20:57:27.435Z"
   },
   {
    "duration": 14,
    "start_time": "2023-01-26T20:57:27.459Z"
   },
   {
    "duration": 23,
    "start_time": "2023-01-26T20:57:27.474Z"
   },
   {
    "duration": 66,
    "start_time": "2023-01-26T20:57:27.498Z"
   },
   {
    "duration": 0,
    "start_time": "2023-01-26T20:57:27.566Z"
   },
   {
    "duration": 0,
    "start_time": "2023-01-26T20:57:27.567Z"
   },
   {
    "duration": 0,
    "start_time": "2023-01-26T20:57:27.568Z"
   },
   {
    "duration": 20,
    "start_time": "2023-01-26T20:57:35.282Z"
   },
   {
    "duration": 22,
    "start_time": "2023-01-26T20:57:38.841Z"
   },
   {
    "duration": 1177,
    "start_time": "2023-01-26T20:57:42.745Z"
   },
   {
    "duration": 1097,
    "start_time": "2023-01-26T20:57:56.514Z"
   },
   {
    "duration": 21,
    "start_time": "2023-01-26T20:58:02.477Z"
   },
   {
    "duration": 1351,
    "start_time": "2023-01-26T21:02:04.569Z"
   },
   {
    "duration": 1173,
    "start_time": "2023-01-26T21:02:33.786Z"
   },
   {
    "duration": 1176,
    "start_time": "2023-01-26T21:02:38.996Z"
   },
   {
    "duration": 1143,
    "start_time": "2023-01-26T21:02:58.350Z"
   },
   {
    "duration": 1112,
    "start_time": "2023-01-26T21:03:15.763Z"
   },
   {
    "duration": 1128,
    "start_time": "2023-01-26T21:04:54.061Z"
   },
   {
    "duration": 23,
    "start_time": "2023-01-26T21:05:05.684Z"
   },
   {
    "duration": 22,
    "start_time": "2023-01-26T21:06:43.679Z"
   },
   {
    "duration": 22,
    "start_time": "2023-01-26T21:07:02.145Z"
   },
   {
    "duration": 22,
    "start_time": "2023-01-26T21:07:07.518Z"
   },
   {
    "duration": 24,
    "start_time": "2023-01-26T21:07:11.615Z"
   },
   {
    "duration": 24,
    "start_time": "2023-01-26T21:07:33.211Z"
   },
   {
    "duration": 88,
    "start_time": "2023-01-26T21:07:38.227Z"
   },
   {
    "duration": 25,
    "start_time": "2023-01-26T21:07:43.325Z"
   },
   {
    "duration": 22,
    "start_time": "2023-01-26T21:07:53.130Z"
   },
   {
    "duration": 24,
    "start_time": "2023-01-26T21:08:03.865Z"
   },
   {
    "duration": 24,
    "start_time": "2023-01-26T21:08:13.854Z"
   },
   {
    "duration": 23,
    "start_time": "2023-01-26T21:08:17.897Z"
   },
   {
    "duration": 1222,
    "start_time": "2023-01-26T21:08:35.489Z"
   },
   {
    "duration": 23,
    "start_time": "2023-01-26T21:08:40.512Z"
   },
   {
    "duration": 22,
    "start_time": "2023-01-26T21:09:27.494Z"
   },
   {
    "duration": 1444,
    "start_time": "2023-01-26T21:09:34.188Z"
   },
   {
    "duration": 23,
    "start_time": "2023-01-26T21:10:14.024Z"
   },
   {
    "duration": 18,
    "start_time": "2023-01-26T21:10:44.581Z"
   },
   {
    "duration": 20,
    "start_time": "2023-01-26T21:10:56.771Z"
   },
   {
    "duration": 23,
    "start_time": "2023-01-26T21:11:14.044Z"
   },
   {
    "duration": 24,
    "start_time": "2023-01-26T21:11:20.419Z"
   },
   {
    "duration": 25,
    "start_time": "2023-01-26T21:11:32.852Z"
   },
   {
    "duration": 66,
    "start_time": "2023-01-26T21:11:39.428Z"
   },
   {
    "duration": 14,
    "start_time": "2023-01-26T21:11:39.496Z"
   },
   {
    "duration": 14,
    "start_time": "2023-01-26T21:11:39.511Z"
   },
   {
    "duration": 21,
    "start_time": "2023-01-26T21:11:39.528Z"
   },
   {
    "duration": 34,
    "start_time": "2023-01-26T21:11:39.550Z"
   },
   {
    "duration": 3,
    "start_time": "2023-01-26T21:11:39.586Z"
   },
   {
    "duration": 9,
    "start_time": "2023-01-26T21:11:39.591Z"
   },
   {
    "duration": 3,
    "start_time": "2023-01-26T21:11:39.602Z"
   },
   {
    "duration": 16,
    "start_time": "2023-01-26T21:11:39.606Z"
   },
   {
    "duration": 9,
    "start_time": "2023-01-26T21:11:39.624Z"
   },
   {
    "duration": 42,
    "start_time": "2023-01-26T21:11:39.635Z"
   },
   {
    "duration": 9,
    "start_time": "2023-01-26T21:11:39.678Z"
   },
   {
    "duration": 9,
    "start_time": "2023-01-26T21:11:39.688Z"
   },
   {
    "duration": 12,
    "start_time": "2023-01-26T21:11:39.698Z"
   },
   {
    "duration": 16,
    "start_time": "2023-01-26T21:11:39.711Z"
   },
   {
    "duration": 29,
    "start_time": "2023-01-26T21:11:39.728Z"
   },
   {
    "duration": 3,
    "start_time": "2023-01-26T21:11:39.758Z"
   },
   {
    "duration": 20,
    "start_time": "2023-01-26T21:11:39.762Z"
   },
   {
    "duration": 6,
    "start_time": "2023-01-26T21:11:39.783Z"
   },
   {
    "duration": 4,
    "start_time": "2023-01-26T21:11:39.790Z"
   },
   {
    "duration": 11,
    "start_time": "2023-01-26T21:11:39.795Z"
   },
   {
    "duration": 24,
    "start_time": "2023-01-26T21:11:39.807Z"
   },
   {
    "duration": 71,
    "start_time": "2023-01-26T21:11:39.844Z"
   },
   {
    "duration": 0,
    "start_time": "2023-01-26T21:11:39.917Z"
   },
   {
    "duration": 0,
    "start_time": "2023-01-26T21:11:39.917Z"
   },
   {
    "duration": 0,
    "start_time": "2023-01-26T21:11:39.918Z"
   },
   {
    "duration": 21,
    "start_time": "2023-01-26T21:11:51.747Z"
   },
   {
    "duration": 22,
    "start_time": "2023-01-26T21:12:00.673Z"
   },
   {
    "duration": 23,
    "start_time": "2023-01-26T21:12:13.565Z"
   },
   {
    "duration": 22,
    "start_time": "2023-01-26T21:12:19.281Z"
   },
   {
    "duration": 22,
    "start_time": "2023-01-26T21:12:27.362Z"
   },
   {
    "duration": 23,
    "start_time": "2023-01-26T21:12:37.700Z"
   },
   {
    "duration": 22,
    "start_time": "2023-01-26T21:12:46.832Z"
   },
   {
    "duration": 16,
    "start_time": "2023-01-26T21:12:55.118Z"
   },
   {
    "duration": 21,
    "start_time": "2023-01-26T21:12:57.720Z"
   },
   {
    "duration": 19,
    "start_time": "2023-01-26T21:13:30.824Z"
   },
   {
    "duration": 23,
    "start_time": "2023-01-26T21:14:06.546Z"
   },
   {
    "duration": 23,
    "start_time": "2023-01-26T21:14:33.839Z"
   },
   {
    "duration": 24,
    "start_time": "2023-01-26T21:14:54.453Z"
   },
   {
    "duration": 24,
    "start_time": "2023-01-26T21:15:19.411Z"
   },
   {
    "duration": 24,
    "start_time": "2023-01-26T21:16:57.011Z"
   },
   {
    "duration": 25,
    "start_time": "2023-01-26T21:31:42.077Z"
   },
   {
    "duration": 22,
    "start_time": "2023-01-26T21:31:45.514Z"
   },
   {
    "duration": 27,
    "start_time": "2023-01-26T21:32:00.424Z"
   },
   {
    "duration": 22,
    "start_time": "2023-01-26T21:32:07.820Z"
   },
   {
    "duration": 3,
    "start_time": "2023-01-26T21:45:47.716Z"
   },
   {
    "duration": 425,
    "start_time": "2023-01-27T16:41:13.828Z"
   },
   {
    "duration": 28,
    "start_time": "2023-01-27T16:41:14.255Z"
   },
   {
    "duration": 14,
    "start_time": "2023-01-27T16:41:14.285Z"
   },
   {
    "duration": 9,
    "start_time": "2023-01-27T16:41:14.302Z"
   },
   {
    "duration": 47,
    "start_time": "2023-01-27T16:41:14.313Z"
   },
   {
    "duration": 4,
    "start_time": "2023-01-27T16:41:14.361Z"
   },
   {
    "duration": 14,
    "start_time": "2023-01-27T16:41:14.366Z"
   },
   {
    "duration": 4,
    "start_time": "2023-01-27T16:41:14.392Z"
   },
   {
    "duration": 10,
    "start_time": "2023-01-27T16:41:14.398Z"
   },
   {
    "duration": 5,
    "start_time": "2023-01-27T16:41:14.412Z"
   },
   {
    "duration": 59,
    "start_time": "2023-01-27T16:41:14.419Z"
   },
   {
    "duration": 14,
    "start_time": "2023-01-27T16:41:14.479Z"
   },
   {
    "duration": 5,
    "start_time": "2023-01-27T16:41:14.495Z"
   },
   {
    "duration": 14,
    "start_time": "2023-01-27T16:41:14.502Z"
   },
   {
    "duration": 18,
    "start_time": "2023-01-27T16:41:14.518Z"
   },
   {
    "duration": 18,
    "start_time": "2023-01-27T16:41:14.537Z"
   },
   {
    "duration": 3,
    "start_time": "2023-01-27T16:41:14.557Z"
   },
   {
    "duration": 41,
    "start_time": "2023-01-27T16:41:14.562Z"
   },
   {
    "duration": 7,
    "start_time": "2023-01-27T16:41:14.605Z"
   },
   {
    "duration": 10,
    "start_time": "2023-01-27T16:41:14.613Z"
   },
   {
    "duration": 14,
    "start_time": "2023-01-27T16:41:14.625Z"
   },
   {
    "duration": 52,
    "start_time": "2023-01-27T16:41:14.640Z"
   },
   {
    "duration": 28,
    "start_time": "2023-01-27T16:41:14.694Z"
   },
   {
    "duration": 31,
    "start_time": "2023-01-27T16:41:14.724Z"
   },
   {
    "duration": 69,
    "start_time": "2023-01-27T16:41:14.757Z"
   },
   {
    "duration": 26,
    "start_time": "2023-01-27T16:43:06.161Z"
   },
   {
    "duration": 400,
    "start_time": "2023-01-28T14:04:04.476Z"
   },
   {
    "duration": 612,
    "start_time": "2023-01-28T14:04:11.986Z"
   },
   {
    "duration": 33,
    "start_time": "2023-01-28T14:04:12.600Z"
   },
   {
    "duration": 55,
    "start_time": "2023-01-28T14:04:12.635Z"
   },
   {
    "duration": 18,
    "start_time": "2023-01-28T14:04:12.693Z"
   },
   {
    "duration": 87,
    "start_time": "2023-01-28T14:04:12.713Z"
   },
   {
    "duration": 5,
    "start_time": "2023-01-28T14:04:12.803Z"
   },
   {
    "duration": 67,
    "start_time": "2023-01-28T14:04:12.812Z"
   },
   {
    "duration": 89,
    "start_time": "2023-01-28T14:04:12.881Z"
   },
   {
    "duration": 74,
    "start_time": "2023-01-28T14:04:12.972Z"
   },
   {
    "duration": 9,
    "start_time": "2023-01-28T14:04:13.052Z"
   },
   {
    "duration": 70,
    "start_time": "2023-01-28T14:04:13.063Z"
   },
   {
    "duration": 15,
    "start_time": "2023-01-28T14:04:13.139Z"
   },
   {
    "duration": 38,
    "start_time": "2023-01-28T14:04:13.156Z"
   },
   {
    "duration": 61,
    "start_time": "2023-01-28T14:04:13.197Z"
   },
   {
    "duration": 25,
    "start_time": "2023-01-28T14:04:13.260Z"
   },
   {
    "duration": 42,
    "start_time": "2023-01-28T14:04:13.287Z"
   },
   {
    "duration": 33,
    "start_time": "2023-01-28T14:04:13.331Z"
   },
   {
    "duration": 62,
    "start_time": "2023-01-28T14:04:13.367Z"
   },
   {
    "duration": 76,
    "start_time": "2023-01-28T14:04:13.430Z"
   },
   {
    "duration": 62,
    "start_time": "2023-01-28T14:04:13.508Z"
   },
   {
    "duration": 60,
    "start_time": "2023-01-28T14:04:13.573Z"
   },
   {
    "duration": 50,
    "start_time": "2023-01-28T14:04:13.640Z"
   },
   {
    "duration": 36,
    "start_time": "2023-01-28T14:04:13.692Z"
   },
   {
    "duration": 59,
    "start_time": "2023-01-28T14:04:13.729Z"
   },
   {
    "duration": 42,
    "start_time": "2023-01-28T14:04:13.790Z"
   },
   {
    "duration": 48,
    "start_time": "2023-01-28T14:04:13.838Z"
   },
   {
    "duration": 73,
    "start_time": "2023-01-28T14:52:02.780Z"
   },
   {
    "duration": 120,
    "start_time": "2023-01-29T07:39:28.658Z"
   }
  ],
  "colab": {
   "name": "dpp_template_part2.ipynb",
   "provenance": []
  },
  "kernelspec": {
   "display_name": "Python 3 (ipykernel)",
   "language": "python",
   "name": "python3"
  },
  "language_info": {
   "codemirror_mode": {
    "name": "ipython",
    "version": 3
   },
   "file_extension": ".py",
   "mimetype": "text/x-python",
   "name": "python",
   "nbconvert_exporter": "python",
   "pygments_lexer": "ipython3",
   "version": "3.10.9"
  },
  "toc": {
   "base_numbering": 1,
   "nav_menu": {},
   "number_sections": true,
   "sideBar": true,
   "skip_h1_title": true,
   "title_cell": "Table of Contents",
   "title_sidebar": "Contents",
   "toc_cell": false,
   "toc_position": {},
   "toc_section_display": true,
   "toc_window_display": false
  }
 },
 "nbformat": 4,
 "nbformat_minor": 5
}
