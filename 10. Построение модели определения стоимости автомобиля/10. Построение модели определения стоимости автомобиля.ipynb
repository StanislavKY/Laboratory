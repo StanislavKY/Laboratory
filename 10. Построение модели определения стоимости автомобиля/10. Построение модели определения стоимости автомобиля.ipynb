{
 "cells": [
  {
   "cell_type": "markdown",
   "metadata": {},
   "source": [
    "# Определение стоимости автомобилей"
   ]
  },
  {
   "cell_type": "markdown",
   "metadata": {},
   "source": [
    "Сервис по продаже автомобилей с пробегом «Не бит, не крашен» разрабатывает приложение для привлечения новых клиентов. В нём можно быстро узнать рыночную стоимость своего автомобиля. В вашем распоряжении исторические данные: технические характеристики, комплектации и цены автомобилей. Вам нужно построить модель для определения стоимости. \n",
    "\n",
    "Заказчику важны:\n",
    "\n",
    "- качество предсказания;\n",
    "- скорость предсказания;\n",
    "- время обучения."
   ]
  },
  {
   "cell_type": "markdown",
   "metadata": {},
   "source": [
    "## Подготовка данных"
   ]
  },
  {
   "cell_type": "code",
   "execution_count": 4,
   "metadata": {},
   "outputs": [
    {
     "name": "stdout",
     "output_type": "stream",
     "text": [
      "Requirement already satisfied: category_encoders in c:\\users\\qwe\\anaconda3\\lib\\site-packages (2.6.3)\n",
      "Requirement already satisfied: scikit-learn>=0.20.0 in c:\\users\\qwe\\anaconda3\\lib\\site-packages (from category_encoders) (1.2.1)\n",
      "Requirement already satisfied: statsmodels>=0.9.0 in c:\\users\\qwe\\anaconda3\\lib\\site-packages (from category_encoders) (0.13.5)\n",
      "Requirement already satisfied: numpy>=1.14.0 in c:\\users\\qwe\\anaconda3\\lib\\site-packages (from category_encoders) (1.23.5)\n",
      "Requirement already satisfied: scipy>=1.0.0 in c:\\users\\qwe\\anaconda3\\lib\\site-packages (from category_encoders) (1.10.0)\n",
      "Requirement already satisfied: patsy>=0.5.1 in c:\\users\\qwe\\anaconda3\\lib\\site-packages (from category_encoders) (0.5.3)\n",
      "Requirement already satisfied: pandas>=1.0.5 in c:\\users\\qwe\\anaconda3\\lib\\site-packages (from category_encoders) (2.0.3)\n",
      "Requirement already satisfied: tzdata>=2022.1 in c:\\users\\qwe\\anaconda3\\lib\\site-packages (from pandas>=1.0.5->category_encoders) (2023.3)\n",
      "Requirement already satisfied: pytz>=2020.1 in c:\\users\\qwe\\anaconda3\\lib\\site-packages (from pandas>=1.0.5->category_encoders) (2022.7)\n",
      "Requirement already satisfied: python-dateutil>=2.8.2 in c:\\users\\qwe\\anaconda3\\lib\\site-packages (from pandas>=1.0.5->category_encoders) (2.8.2)\n",
      "Requirement already satisfied: six in c:\\users\\qwe\\anaconda3\\lib\\site-packages (from patsy>=0.5.1->category_encoders) (1.16.0)\n",
      "Requirement already satisfied: joblib>=1.1.1 in c:\\users\\qwe\\anaconda3\\lib\\site-packages (from scikit-learn>=0.20.0->category_encoders) (1.1.1)\n",
      "Requirement already satisfied: threadpoolctl>=2.0.0 in c:\\users\\qwe\\anaconda3\\lib\\site-packages (from scikit-learn>=0.20.0->category_encoders) (2.2.0)\n",
      "Requirement already satisfied: packaging>=21.3 in c:\\users\\qwe\\anaconda3\\lib\\site-packages (from statsmodels>=0.9.0->category_encoders) (22.0)\n"
     ]
    }
   ],
   "source": [
    "import pandas as pd\n",
    "from sklearn.linear_model import LinearRegression\n",
    "from sklearn.model_selection import train_test_split\n",
    "from sklearn.model_selection import cross_val_score\n",
    "from sklearn.preprocessing import RobustScaler, StandardScaler\n",
    "from sklearn.pipeline import Pipeline\n",
    "from sklearn.tree import DecisionTreeRegressor\n",
    "from sklearn.model_selection import GridSearchCV\n",
    "from catboost import Pool, CatBoostRegressor, cv\n",
    "from lightgbm import LGBMRegressor\n",
    "from sklearn.metrics import mean_squared_error\n",
    "import numpy as np\n",
    "!pip install category_encoders\n",
    "from category_encoders import TargetEncoder\n",
    "from category_encoders.target_encoder import TargetEncoder\n",
    "from sklearn.preprocessing import OneHotEncoder\n",
    "import warnings\n",
    "warnings.filterwarnings(\"ignore\")"
   ]
  },
  {
   "cell_type": "code",
   "execution_count": 5,
   "metadata": {},
   "outputs": [],
   "source": [
    "try: \n",
    "    auto_df = pd.read_csv('/datasets/autos.csv')\n",
    "except: \n",
    "    auto_df = pd.read_csv(r\"C:\\Users\\QWE\\Documents\\Проекты для GitHub\\10. Построение модели определения стоимости автомобиля\\autos.csv\")"
   ]
  },
  {
   "cell_type": "code",
   "execution_count": 6,
   "metadata": {
    "scrolled": false
   },
   "outputs": [
    {
     "data": {
      "text/html": [
       "<div>\n",
       "<style scoped>\n",
       "    .dataframe tbody tr th:only-of-type {\n",
       "        vertical-align: middle;\n",
       "    }\n",
       "\n",
       "    .dataframe tbody tr th {\n",
       "        vertical-align: top;\n",
       "    }\n",
       "\n",
       "    .dataframe thead th {\n",
       "        text-align: right;\n",
       "    }\n",
       "</style>\n",
       "<table border=\"1\" class=\"dataframe\">\n",
       "  <thead>\n",
       "    <tr style=\"text-align: right;\">\n",
       "      <th></th>\n",
       "      <th>DateCrawled</th>\n",
       "      <th>Price</th>\n",
       "      <th>VehicleType</th>\n",
       "      <th>RegistrationYear</th>\n",
       "      <th>Gearbox</th>\n",
       "      <th>Power</th>\n",
       "      <th>Model</th>\n",
       "      <th>Kilometer</th>\n",
       "      <th>RegistrationMonth</th>\n",
       "      <th>FuelType</th>\n",
       "      <th>Brand</th>\n",
       "      <th>Repaired</th>\n",
       "      <th>DateCreated</th>\n",
       "      <th>NumberOfPictures</th>\n",
       "      <th>PostalCode</th>\n",
       "      <th>LastSeen</th>\n",
       "    </tr>\n",
       "  </thead>\n",
       "  <tbody>\n",
       "    <tr>\n",
       "      <th>0</th>\n",
       "      <td>2016-03-24 11:52:17</td>\n",
       "      <td>480</td>\n",
       "      <td>NaN</td>\n",
       "      <td>1993</td>\n",
       "      <td>manual</td>\n",
       "      <td>0</td>\n",
       "      <td>golf</td>\n",
       "      <td>150000</td>\n",
       "      <td>0</td>\n",
       "      <td>petrol</td>\n",
       "      <td>volkswagen</td>\n",
       "      <td>NaN</td>\n",
       "      <td>2016-03-24 00:00:00</td>\n",
       "      <td>0</td>\n",
       "      <td>70435</td>\n",
       "      <td>2016-04-07 03:16:57</td>\n",
       "    </tr>\n",
       "    <tr>\n",
       "      <th>1</th>\n",
       "      <td>2016-03-24 10:58:45</td>\n",
       "      <td>18300</td>\n",
       "      <td>coupe</td>\n",
       "      <td>2011</td>\n",
       "      <td>manual</td>\n",
       "      <td>190</td>\n",
       "      <td>NaN</td>\n",
       "      <td>125000</td>\n",
       "      <td>5</td>\n",
       "      <td>gasoline</td>\n",
       "      <td>audi</td>\n",
       "      <td>yes</td>\n",
       "      <td>2016-03-24 00:00:00</td>\n",
       "      <td>0</td>\n",
       "      <td>66954</td>\n",
       "      <td>2016-04-07 01:46:50</td>\n",
       "    </tr>\n",
       "    <tr>\n",
       "      <th>2</th>\n",
       "      <td>2016-03-14 12:52:21</td>\n",
       "      <td>9800</td>\n",
       "      <td>suv</td>\n",
       "      <td>2004</td>\n",
       "      <td>auto</td>\n",
       "      <td>163</td>\n",
       "      <td>grand</td>\n",
       "      <td>125000</td>\n",
       "      <td>8</td>\n",
       "      <td>gasoline</td>\n",
       "      <td>jeep</td>\n",
       "      <td>NaN</td>\n",
       "      <td>2016-03-14 00:00:00</td>\n",
       "      <td>0</td>\n",
       "      <td>90480</td>\n",
       "      <td>2016-04-05 12:47:46</td>\n",
       "    </tr>\n",
       "    <tr>\n",
       "      <th>3</th>\n",
       "      <td>2016-03-17 16:54:04</td>\n",
       "      <td>1500</td>\n",
       "      <td>small</td>\n",
       "      <td>2001</td>\n",
       "      <td>manual</td>\n",
       "      <td>75</td>\n",
       "      <td>golf</td>\n",
       "      <td>150000</td>\n",
       "      <td>6</td>\n",
       "      <td>petrol</td>\n",
       "      <td>volkswagen</td>\n",
       "      <td>no</td>\n",
       "      <td>2016-03-17 00:00:00</td>\n",
       "      <td>0</td>\n",
       "      <td>91074</td>\n",
       "      <td>2016-03-17 17:40:17</td>\n",
       "    </tr>\n",
       "    <tr>\n",
       "      <th>4</th>\n",
       "      <td>2016-03-31 17:25:20</td>\n",
       "      <td>3600</td>\n",
       "      <td>small</td>\n",
       "      <td>2008</td>\n",
       "      <td>manual</td>\n",
       "      <td>69</td>\n",
       "      <td>fabia</td>\n",
       "      <td>90000</td>\n",
       "      <td>7</td>\n",
       "      <td>gasoline</td>\n",
       "      <td>skoda</td>\n",
       "      <td>no</td>\n",
       "      <td>2016-03-31 00:00:00</td>\n",
       "      <td>0</td>\n",
       "      <td>60437</td>\n",
       "      <td>2016-04-06 10:17:21</td>\n",
       "    </tr>\n",
       "    <tr>\n",
       "      <th>5</th>\n",
       "      <td>2016-04-04 17:36:23</td>\n",
       "      <td>650</td>\n",
       "      <td>sedan</td>\n",
       "      <td>1995</td>\n",
       "      <td>manual</td>\n",
       "      <td>102</td>\n",
       "      <td>3er</td>\n",
       "      <td>150000</td>\n",
       "      <td>10</td>\n",
       "      <td>petrol</td>\n",
       "      <td>bmw</td>\n",
       "      <td>yes</td>\n",
       "      <td>2016-04-04 00:00:00</td>\n",
       "      <td>0</td>\n",
       "      <td>33775</td>\n",
       "      <td>2016-04-06 19:17:07</td>\n",
       "    </tr>\n",
       "    <tr>\n",
       "      <th>6</th>\n",
       "      <td>2016-04-01 20:48:51</td>\n",
       "      <td>2200</td>\n",
       "      <td>convertible</td>\n",
       "      <td>2004</td>\n",
       "      <td>manual</td>\n",
       "      <td>109</td>\n",
       "      <td>2_reihe</td>\n",
       "      <td>150000</td>\n",
       "      <td>8</td>\n",
       "      <td>petrol</td>\n",
       "      <td>peugeot</td>\n",
       "      <td>no</td>\n",
       "      <td>2016-04-01 00:00:00</td>\n",
       "      <td>0</td>\n",
       "      <td>67112</td>\n",
       "      <td>2016-04-05 18:18:39</td>\n",
       "    </tr>\n",
       "    <tr>\n",
       "      <th>7</th>\n",
       "      <td>2016-03-21 18:54:38</td>\n",
       "      <td>0</td>\n",
       "      <td>sedan</td>\n",
       "      <td>1980</td>\n",
       "      <td>manual</td>\n",
       "      <td>50</td>\n",
       "      <td>other</td>\n",
       "      <td>40000</td>\n",
       "      <td>7</td>\n",
       "      <td>petrol</td>\n",
       "      <td>volkswagen</td>\n",
       "      <td>no</td>\n",
       "      <td>2016-03-21 00:00:00</td>\n",
       "      <td>0</td>\n",
       "      <td>19348</td>\n",
       "      <td>2016-03-25 16:47:58</td>\n",
       "    </tr>\n",
       "    <tr>\n",
       "      <th>8</th>\n",
       "      <td>2016-04-04 23:42:13</td>\n",
       "      <td>14500</td>\n",
       "      <td>bus</td>\n",
       "      <td>2014</td>\n",
       "      <td>manual</td>\n",
       "      <td>125</td>\n",
       "      <td>c_max</td>\n",
       "      <td>30000</td>\n",
       "      <td>8</td>\n",
       "      <td>petrol</td>\n",
       "      <td>ford</td>\n",
       "      <td>NaN</td>\n",
       "      <td>2016-04-04 00:00:00</td>\n",
       "      <td>0</td>\n",
       "      <td>94505</td>\n",
       "      <td>2016-04-04 23:42:13</td>\n",
       "    </tr>\n",
       "    <tr>\n",
       "      <th>9</th>\n",
       "      <td>2016-03-17 10:53:50</td>\n",
       "      <td>999</td>\n",
       "      <td>small</td>\n",
       "      <td>1998</td>\n",
       "      <td>manual</td>\n",
       "      <td>101</td>\n",
       "      <td>golf</td>\n",
       "      <td>150000</td>\n",
       "      <td>0</td>\n",
       "      <td>NaN</td>\n",
       "      <td>volkswagen</td>\n",
       "      <td>NaN</td>\n",
       "      <td>2016-03-17 00:00:00</td>\n",
       "      <td>0</td>\n",
       "      <td>27472</td>\n",
       "      <td>2016-03-31 17:17:06</td>\n",
       "    </tr>\n",
       "  </tbody>\n",
       "</table>\n",
       "</div>"
      ],
      "text/plain": [
       "           DateCrawled  Price  VehicleType  RegistrationYear Gearbox  Power  \\\n",
       "0  2016-03-24 11:52:17    480          NaN              1993  manual      0   \n",
       "1  2016-03-24 10:58:45  18300        coupe              2011  manual    190   \n",
       "2  2016-03-14 12:52:21   9800          suv              2004    auto    163   \n",
       "3  2016-03-17 16:54:04   1500        small              2001  manual     75   \n",
       "4  2016-03-31 17:25:20   3600        small              2008  manual     69   \n",
       "5  2016-04-04 17:36:23    650        sedan              1995  manual    102   \n",
       "6  2016-04-01 20:48:51   2200  convertible              2004  manual    109   \n",
       "7  2016-03-21 18:54:38      0        sedan              1980  manual     50   \n",
       "8  2016-04-04 23:42:13  14500          bus              2014  manual    125   \n",
       "9  2016-03-17 10:53:50    999        small              1998  manual    101   \n",
       "\n",
       "     Model  Kilometer  RegistrationMonth  FuelType       Brand Repaired  \\\n",
       "0     golf     150000                  0    petrol  volkswagen      NaN   \n",
       "1      NaN     125000                  5  gasoline        audi      yes   \n",
       "2    grand     125000                  8  gasoline        jeep      NaN   \n",
       "3     golf     150000                  6    petrol  volkswagen       no   \n",
       "4    fabia      90000                  7  gasoline       skoda       no   \n",
       "5      3er     150000                 10    petrol         bmw      yes   \n",
       "6  2_reihe     150000                  8    petrol     peugeot       no   \n",
       "7    other      40000                  7    petrol  volkswagen       no   \n",
       "8    c_max      30000                  8    petrol        ford      NaN   \n",
       "9     golf     150000                  0       NaN  volkswagen      NaN   \n",
       "\n",
       "           DateCreated  NumberOfPictures  PostalCode             LastSeen  \n",
       "0  2016-03-24 00:00:00                 0       70435  2016-04-07 03:16:57  \n",
       "1  2016-03-24 00:00:00                 0       66954  2016-04-07 01:46:50  \n",
       "2  2016-03-14 00:00:00                 0       90480  2016-04-05 12:47:46  \n",
       "3  2016-03-17 00:00:00                 0       91074  2016-03-17 17:40:17  \n",
       "4  2016-03-31 00:00:00                 0       60437  2016-04-06 10:17:21  \n",
       "5  2016-04-04 00:00:00                 0       33775  2016-04-06 19:17:07  \n",
       "6  2016-04-01 00:00:00                 0       67112  2016-04-05 18:18:39  \n",
       "7  2016-03-21 00:00:00                 0       19348  2016-03-25 16:47:58  \n",
       "8  2016-04-04 00:00:00                 0       94505  2016-04-04 23:42:13  \n",
       "9  2016-03-17 00:00:00                 0       27472  2016-03-31 17:17:06  "
      ]
     },
     "metadata": {},
     "output_type": "display_data"
    }
   ],
   "source": [
    "display(auto_df.head(10))"
   ]
  },
  {
   "cell_type": "code",
   "execution_count": 7,
   "metadata": {},
   "outputs": [
    {
     "name": "stdout",
     "output_type": "stream",
     "text": [
      "<class 'pandas.core.frame.DataFrame'>\n",
      "RangeIndex: 354369 entries, 0 to 354368\n",
      "Data columns (total 16 columns):\n",
      " #   Column             Non-Null Count   Dtype \n",
      "---  ------             --------------   ----- \n",
      " 0   DateCrawled        354369 non-null  object\n",
      " 1   Price              354369 non-null  int64 \n",
      " 2   VehicleType        316879 non-null  object\n",
      " 3   RegistrationYear   354369 non-null  int64 \n",
      " 4   Gearbox            334536 non-null  object\n",
      " 5   Power              354369 non-null  int64 \n",
      " 6   Model              334664 non-null  object\n",
      " 7   Kilometer          354369 non-null  int64 \n",
      " 8   RegistrationMonth  354369 non-null  int64 \n",
      " 9   FuelType           321474 non-null  object\n",
      " 10  Brand              354369 non-null  object\n",
      " 11  Repaired           283215 non-null  object\n",
      " 12  DateCreated        354369 non-null  object\n",
      " 13  NumberOfPictures   354369 non-null  int64 \n",
      " 14  PostalCode         354369 non-null  int64 \n",
      " 15  LastSeen           354369 non-null  object\n",
      "dtypes: int64(7), object(9)\n",
      "memory usage: 43.3+ MB\n",
      "None\n"
     ]
    }
   ],
   "source": [
    "print(auto_df.info())"
   ]
  },
  {
   "cell_type": "code",
   "execution_count": 8,
   "metadata": {},
   "outputs": [
    {
     "name": "stdout",
     "output_type": "stream",
     "text": [
      "Количество дубликатов: 4\n"
     ]
    }
   ],
   "source": [
    "print('Количество дубликатов:', sum(auto_df.duplicated()))"
   ]
  },
  {
   "cell_type": "code",
   "execution_count": 9,
   "metadata": {
    "scrolled": true
   },
   "outputs": [
    {
     "name": "stdout",
     "output_type": "stream",
     "text": [
      "Количество пропусков DateCrawled              0\n",
      "Price                    0\n",
      "VehicleType          37490\n",
      "RegistrationYear         0\n",
      "Gearbox              19833\n",
      "Power                    0\n",
      "Model                19705\n",
      "Kilometer                0\n",
      "RegistrationMonth        0\n",
      "FuelType             32895\n",
      "Brand                    0\n",
      "Repaired             71154\n",
      "DateCreated              0\n",
      "NumberOfPictures         0\n",
      "PostalCode               0\n",
      "LastSeen                 0\n",
      "dtype: int64\n"
     ]
    }
   ],
   "source": [
    "print('Количество пропусков', auto_df.isna().sum())"
   ]
  },
  {
   "cell_type": "code",
   "execution_count": 10,
   "metadata": {
    "scrolled": false
   },
   "outputs": [
    {
     "data": {
      "text/html": [
       "<div>\n",
       "<style scoped>\n",
       "    .dataframe tbody tr th:only-of-type {\n",
       "        vertical-align: middle;\n",
       "    }\n",
       "\n",
       "    .dataframe tbody tr th {\n",
       "        vertical-align: top;\n",
       "    }\n",
       "\n",
       "    .dataframe thead th {\n",
       "        text-align: right;\n",
       "    }\n",
       "</style>\n",
       "<table border=\"1\" class=\"dataframe\">\n",
       "  <thead>\n",
       "    <tr style=\"text-align: right;\">\n",
       "      <th></th>\n",
       "      <th>Price</th>\n",
       "      <th>RegistrationYear</th>\n",
       "      <th>Power</th>\n",
       "      <th>Kilometer</th>\n",
       "      <th>RegistrationMonth</th>\n",
       "      <th>NumberOfPictures</th>\n",
       "      <th>PostalCode</th>\n",
       "    </tr>\n",
       "  </thead>\n",
       "  <tbody>\n",
       "    <tr>\n",
       "      <th>count</th>\n",
       "      <td>354369.000000</td>\n",
       "      <td>354369.000000</td>\n",
       "      <td>354369.000000</td>\n",
       "      <td>354369.000000</td>\n",
       "      <td>354369.000000</td>\n",
       "      <td>354369.0</td>\n",
       "      <td>354369.000000</td>\n",
       "    </tr>\n",
       "    <tr>\n",
       "      <th>mean</th>\n",
       "      <td>4416.656776</td>\n",
       "      <td>2004.234448</td>\n",
       "      <td>110.094337</td>\n",
       "      <td>128211.172535</td>\n",
       "      <td>5.714645</td>\n",
       "      <td>0.0</td>\n",
       "      <td>50508.689087</td>\n",
       "    </tr>\n",
       "    <tr>\n",
       "      <th>std</th>\n",
       "      <td>4514.158514</td>\n",
       "      <td>90.227958</td>\n",
       "      <td>189.850405</td>\n",
       "      <td>37905.341530</td>\n",
       "      <td>3.726421</td>\n",
       "      <td>0.0</td>\n",
       "      <td>25783.096248</td>\n",
       "    </tr>\n",
       "    <tr>\n",
       "      <th>min</th>\n",
       "      <td>0.000000</td>\n",
       "      <td>1000.000000</td>\n",
       "      <td>0.000000</td>\n",
       "      <td>5000.000000</td>\n",
       "      <td>0.000000</td>\n",
       "      <td>0.0</td>\n",
       "      <td>1067.000000</td>\n",
       "    </tr>\n",
       "    <tr>\n",
       "      <th>25%</th>\n",
       "      <td>1050.000000</td>\n",
       "      <td>1999.000000</td>\n",
       "      <td>69.000000</td>\n",
       "      <td>125000.000000</td>\n",
       "      <td>3.000000</td>\n",
       "      <td>0.0</td>\n",
       "      <td>30165.000000</td>\n",
       "    </tr>\n",
       "    <tr>\n",
       "      <th>50%</th>\n",
       "      <td>2700.000000</td>\n",
       "      <td>2003.000000</td>\n",
       "      <td>105.000000</td>\n",
       "      <td>150000.000000</td>\n",
       "      <td>6.000000</td>\n",
       "      <td>0.0</td>\n",
       "      <td>49413.000000</td>\n",
       "    </tr>\n",
       "    <tr>\n",
       "      <th>75%</th>\n",
       "      <td>6400.000000</td>\n",
       "      <td>2008.000000</td>\n",
       "      <td>143.000000</td>\n",
       "      <td>150000.000000</td>\n",
       "      <td>9.000000</td>\n",
       "      <td>0.0</td>\n",
       "      <td>71083.000000</td>\n",
       "    </tr>\n",
       "    <tr>\n",
       "      <th>max</th>\n",
       "      <td>20000.000000</td>\n",
       "      <td>9999.000000</td>\n",
       "      <td>20000.000000</td>\n",
       "      <td>150000.000000</td>\n",
       "      <td>12.000000</td>\n",
       "      <td>0.0</td>\n",
       "      <td>99998.000000</td>\n",
       "    </tr>\n",
       "  </tbody>\n",
       "</table>\n",
       "</div>"
      ],
      "text/plain": [
       "               Price  RegistrationYear          Power      Kilometer  \\\n",
       "count  354369.000000     354369.000000  354369.000000  354369.000000   \n",
       "mean     4416.656776       2004.234448     110.094337  128211.172535   \n",
       "std      4514.158514         90.227958     189.850405   37905.341530   \n",
       "min         0.000000       1000.000000       0.000000    5000.000000   \n",
       "25%      1050.000000       1999.000000      69.000000  125000.000000   \n",
       "50%      2700.000000       2003.000000     105.000000  150000.000000   \n",
       "75%      6400.000000       2008.000000     143.000000  150000.000000   \n",
       "max     20000.000000       9999.000000   20000.000000  150000.000000   \n",
       "\n",
       "       RegistrationMonth  NumberOfPictures     PostalCode  \n",
       "count      354369.000000          354369.0  354369.000000  \n",
       "mean            5.714645               0.0   50508.689087  \n",
       "std             3.726421               0.0   25783.096248  \n",
       "min             0.000000               0.0    1067.000000  \n",
       "25%             3.000000               0.0   30165.000000  \n",
       "50%             6.000000               0.0   49413.000000  \n",
       "75%             9.000000               0.0   71083.000000  \n",
       "max            12.000000               0.0   99998.000000  "
      ]
     },
     "execution_count": 10,
     "metadata": {},
     "output_type": "execute_result"
    }
   ],
   "source": [
    "auto_df.describe()"
   ]
  },
  {
   "cell_type": "markdown",
   "metadata": {},
   "source": [
    "<div class=\"alert alert-block alert-warning\"> Анализ данных:\n",
    "\n",
    "1. Столбец \"Цена\" содержит записи с минимальной ценой 0, что может указывать на отсутствие или ошибку в данных.\n",
    "\n",
    "2. В столбце \"RegistrationYear\" присутствуют некорректные значения года регистрации.\n",
    "\n",
    "3. Столбец \"Power\" содержит некорректные значения мощности двигателя.\n",
    "\n",
    "4. Более 50% значений в столбце \"Kilometer\" равны 150000, что может быть ограничением в заявке. Однако, разница между 150000 и 300000 существенна и должна влиять на стоимость автомобиля.\n",
    "\n",
    "5. В столбце \"RegistrationMonth\" отсутствуют значения месяца регистрации.\n",
    "\n",
    "Признаки, значимые для модели:\n",
    "\n",
    "- \"VehicleType\": тип машины, который определяет ее функциональность и возможности. \n",
    "- \"RegistrationYear\": год регистрации машины, который определяет ее \"свежесть\". Чем старше автомобиль, тем ниже его цена.\n",
    "\n",
    "- \"Gearbox\": наличие автоматической коробки передач повышает стоимость машины из-за сложности конструкции.\n",
    "\n",
    "- \"Power\": мощность двигателя в лошадиных силах, которая напрямую влияет на цену автомобиля.\n",
    "\n",
    "- \"Model\": в совокупности с типом машины и брендом может влиять на популярность у потенциальных покупателей.\n",
    "\n",
    "- \"Kilometer\": пробег автомобиля, чем больше пробег, тем ниже его надежность и, соответственно, цена.\n",
    "\n",
    "- \"FuelType\": тип топлива, который определяет конструкцию двигателя внутреннего сгорания.\n",
    "\n",
    "- \"Brand\": компания-производитель автомобиля, которая отражает его качество и надежность.\n",
    "\n",
    "- \"Repaired\": указывает, была ли машина в аварии. Если машина побывала в ДТП, ее конструкция могла быть изменена, что снижает надежность и влияет на цену. </div>"
   ]
  },
  {
   "cell_type": "markdown",
   "metadata": {},
   "source": [
    "<div class=\"alert alert-block alert-warning\"> Создадим новый набор данных на основе вывода"
   ]
  },
  {
   "cell_type": "code",
   "execution_count": 11,
   "metadata": {
    "scrolled": true
   },
   "outputs": [
    {
     "name": "stdout",
     "output_type": "stream",
     "text": [
      "<class 'pandas.core.frame.DataFrame'>\n",
      "RangeIndex: 354369 entries, 0 to 354368\n",
      "Data columns (total 10 columns):\n",
      " #   Column            Non-Null Count   Dtype \n",
      "---  ------            --------------   ----- \n",
      " 0   VehicleType       316879 non-null  object\n",
      " 1   RegistrationYear  354369 non-null  int64 \n",
      " 2   Gearbox           334536 non-null  object\n",
      " 3   Power             354369 non-null  int64 \n",
      " 4   Model             334664 non-null  object\n",
      " 5   Kilometer         354369 non-null  int64 \n",
      " 6   FuelType          321474 non-null  object\n",
      " 7   Brand             354369 non-null  object\n",
      " 8   Repaired          283215 non-null  object\n",
      " 9   Price             354369 non-null  int64 \n",
      "dtypes: int64(4), object(6)\n",
      "memory usage: 27.0+ MB\n"
     ]
    }
   ],
   "source": [
    "filtred_auto_df = auto_df[['VehicleType', \n",
    "                         'RegistrationYear',\n",
    "                         'Gearbox', \n",
    "                         'Power',\n",
    "                         'Model',\n",
    "                         'Kilometer',\n",
    "                         'FuelType',\n",
    "                         'Brand',\n",
    "                         'Repaired',\n",
    "                         'Price']]\n",
    "filtred_auto_df.info()"
   ]
  },
  {
   "cell_type": "code",
   "execution_count": 12,
   "metadata": {},
   "outputs": [
    {
     "data": {
      "text/plain": [
       "45040"
      ]
     },
     "execution_count": 12,
     "metadata": {},
     "output_type": "execute_result"
    }
   ],
   "source": [
    "filtred_auto_df.duplicated().sum()"
   ]
  },
  {
   "cell_type": "code",
   "execution_count": 13,
   "metadata": {
    "scrolled": true
   },
   "outputs": [
    {
     "data": {
      "text/plain": [
       "0"
      ]
     },
     "execution_count": 13,
     "metadata": {},
     "output_type": "execute_result"
    }
   ],
   "source": [
    "filtred_auto_df = filtred_auto_df.drop_duplicates()\n",
    "filtred_auto_df.duplicated().sum()"
   ]
  },
  {
   "cell_type": "markdown",
   "metadata": {},
   "source": [
    "<div class=\"alert alert-block alert-warning\"> Построим гистограмму по столбцу Price </div>"
   ]
  },
  {
   "cell_type": "code",
   "execution_count": 14,
   "metadata": {},
   "outputs": [
    {
     "data": {
      "text/plain": [
       "<Axes: >"
      ]
     },
     "execution_count": 14,
     "metadata": {},
     "output_type": "execute_result"
    },
    {
     "data": {
      "image/png": "[encoded data removed]",
      "text/plain": [
       "<Figure size 1200x900 with 1 Axes>"
      ]
     },
     "metadata": {},
     "output_type": "display_data"
    }
   ],
   "source": [
    "filtred_auto_df['Price'].hist(bins=80, figsize=(12,9))"
   ]
  },
  {
   "cell_type": "code",
   "execution_count": 15,
   "metadata": {},
   "outputs": [
    {
     "data": {
      "text/plain": [
       "Price\n",
       "0        8904\n",
       "500      4650\n",
       "1500     4533\n",
       "1000     3875\n",
       "1200     3799\n",
       "         ... \n",
       "477         1\n",
       "12560       1\n",
       "15445       1\n",
       "132         1\n",
       "10985       1\n",
       "Name: count, Length: 3731, dtype: int64"
      ]
     },
     "execution_count": 15,
     "metadata": {},
     "output_type": "execute_result"
    }
   ],
   "source": [
    "filtred_auto_df['Price'].value_counts()"
   ]
  },
  {
   "cell_type": "code",
   "execution_count": 16,
   "metadata": {},
   "outputs": [
    {
     "data": {
      "text/plain": [
       "count    300425.000000\n",
       "mean       4619.921098\n",
       "std        4565.205287\n",
       "min           1.000000\n",
       "25%        1200.000000\n",
       "50%        2900.000000\n",
       "75%        6650.000000\n",
       "max       20000.000000\n",
       "Name: Price, dtype: float64"
      ]
     },
     "execution_count": 16,
     "metadata": {},
     "output_type": "execute_result"
    },
    {
     "data": {
      "image/png": "[encoded data removed]",
      "text/plain": [
       "<Figure size 1200x900 with 1 Axes>"
      ]
     },
     "metadata": {},
     "output_type": "display_data"
    }
   ],
   "source": [
    "filtred_auto_df = filtred_auto_df.query('Price > 0')\n",
    "filtred_auto_df['Price'].hist(bins=100, figsize=(12,9))\n",
    "filtred_auto_df['Price'].describe()"
   ]
  },
  {
   "cell_type": "code",
   "execution_count": 17,
   "metadata": {
    "scrolled": true
   },
   "outputs": [
    {
     "data": {
      "text/plain": [
       "0.20      990.0\n",
       "0.88    10750.0\n",
       "Name: Price, dtype: float64"
      ]
     },
     "execution_count": 17,
     "metadata": {},
     "output_type": "execute_result"
    }
   ],
   "source": [
    "filtred_auto_df['Price'].quantile([0.2, 0.88])"
   ]
  },
  {
   "cell_type": "markdown",
   "metadata": {},
   "source": [
    "<div class=\"alert alert-block alert-warning\"> Цена в размере 990 евро примерно эквивалентна 80000 рублей. За такую сумму обычно можно приобрести автомобиль. Выбор 88-го процентиля обоснован наличием значительных выбросов после отметки в 10000 евро. Гистограмма показывает, что значения после этой отметки не сильно отличаются друг от друга. </div>"
   ]
  },
  {
   "cell_type": "markdown",
   "metadata": {},
   "source": [
    "<div class=\"alert alert-warning\">\n",
    "<b>Комментарий 👉</b>\n",
    "\n",
    "(Отвлечение ... что-то менять не надо) Мне это напомнило один известный фильм, где автомобиль за 500 долларов был способен доехать до Сан-Франциско и обратно ))))\n",
    "</div>"
   ]
  },
  {
   "cell_type": "code",
   "execution_count": 18,
   "metadata": {
    "scrolled": true
   },
   "outputs": [
    {
     "name": "stdout",
     "output_type": "stream",
     "text": [
      "<class 'pandas.core.frame.DataFrame'>\n",
      "Index: 204267 entries, 2 to 354368\n",
      "Data columns (total 10 columns):\n",
      " #   Column            Non-Null Count   Dtype \n",
      "---  ------            --------------   ----- \n",
      " 0   VehicleType       185868 non-null  object\n",
      " 1   RegistrationYear  204267 non-null  int64 \n",
      " 2   Gearbox           195894 non-null  object\n",
      " 3   Power             204267 non-null  int64 \n",
      " 4   Model             194352 non-null  object\n",
      " 5   Kilometer         204267 non-null  int64 \n",
      " 6   FuelType          188344 non-null  object\n",
      " 7   Brand             204267 non-null  object\n",
      " 8   Repaired          167863 non-null  object\n",
      " 9   Price             204267 non-null  int64 \n",
      "dtypes: int64(4), object(6)\n",
      "memory usage: 17.1+ MB\n"
     ]
    }
   ],
   "source": [
    "filtred_auto_df = filtred_auto_df.query('990 <= Price <= 10500')\n",
    "filtred_auto_df.info()"
   ]
  },
  {
   "cell_type": "markdown",
   "metadata": {},
   "source": [
    "<div class=\"alert alert-block alert-warning\"> Рассмотрим год регистрации авто RegistrationYear </div> "
   ]
  },
  {
   "cell_type": "code",
   "execution_count": 19,
   "metadata": {
    "scrolled": false
   },
   "outputs": [
    {
     "data": {
      "text/plain": [
       "count    204267.000000\n",
       "mean       2003.978322\n",
       "std          58.632683\n",
       "min        1000.000000\n",
       "25%        2000.000000\n",
       "50%        2004.000000\n",
       "75%        2007.000000\n",
       "max        9999.000000\n",
       "Name: RegistrationYear, dtype: float64"
      ]
     },
     "execution_count": 19,
     "metadata": {},
     "output_type": "execute_result"
    },
    {
     "data": {
      "image/png": "[encoded data removed]",
      "text/plain": [
       "<Figure size 1000x800 with 1 Axes>"
      ]
     },
     "metadata": {},
     "output_type": "display_data"
    }
   ],
   "source": [
    "filtred_auto_df['RegistrationYear'].hist(bins=90, figsize=(10,8))\n",
    "filtred_auto_df['RegistrationYear'].describe()"
   ]
  },
  {
   "cell_type": "code",
   "execution_count": 20,
   "metadata": {},
   "outputs": [
    {
     "data": {
      "text/plain": [
       "Timestamp('2016-04-07 14:36:58')"
      ]
     },
     "execution_count": 20,
     "metadata": {},
     "output_type": "execute_result"
    }
   ],
   "source": [
    "car_date_max = pd.to_datetime(auto_df['DateCrawled'])\n",
    "car_date_max.max()"
   ]
  },
  {
   "cell_type": "code",
   "execution_count": 21,
   "metadata": {},
   "outputs": [
    {
     "data": {
      "text/plain": [
       "Timestamp('1970-01-01 00:00:00.000001')"
      ]
     },
     "execution_count": 21,
     "metadata": {},
     "output_type": "execute_result"
    }
   ],
   "source": [
    "car_date_min = pd.to_datetime(auto_df['RegistrationYear'])\n",
    "car_date_min.min()"
   ]
  },
  {
   "cell_type": "code",
   "execution_count": 22,
   "metadata": {
    "scrolled": false
   },
   "outputs": [
    {
     "data": {
      "text/plain": [
       "count    194020.000000\n",
       "mean       2002.891434\n",
       "std           5.903556\n",
       "min        1971.000000\n",
       "25%        2000.000000\n",
       "50%        2003.000000\n",
       "75%        2006.000000\n",
       "max        2016.000000\n",
       "Name: RegistrationYear, dtype: float64"
      ]
     },
     "execution_count": 22,
     "metadata": {},
     "output_type": "execute_result"
    },
    {
     "data": {
      "image/png": "[encoded data removed]",
      "text/plain": [
       "<Figure size 1200x900 with 1 Axes>"
      ]
     },
     "metadata": {},
     "output_type": "display_data"
    }
   ],
   "source": [
    "filtred_auto_df = filtred_auto_df.query('1970 < RegistrationYear < 2017')\n",
    "filtred_auto_df['RegistrationYear'].hist(bins=100, figsize=(12,9))\n",
    "filtred_auto_df['RegistrationYear'].describe()"
   ]
  },
  {
   "cell_type": "markdown",
   "metadata": {},
   "source": [
    "<div class=\"alert alert-block alert-warning\"> Некорректными являются даты регистрации, которые находятся после 2016 года и до 1970 года. Мы исключим эти неправильные годы и построим график.\n",
    "\n",
    "Затем займемся заменой данных в столбцах \"Gearbox\", \"Repaired\" и \"Model\"."
   ]
  },
  {
   "cell_type": "code",
   "execution_count": 23,
   "metadata": {},
   "outputs": [
    {
     "data": {
      "text/plain": [
       "VehicleType         0.045428\n",
       "RegistrationYear    0.000000\n",
       "Gearbox             0.000000\n",
       "Power               0.000000\n",
       "Model               0.000000\n",
       "Kilometer           0.000000\n",
       "FuelType            0.062524\n",
       "Brand               0.000000\n",
       "Repaired            0.000000\n",
       "Price               0.000000\n",
       "dtype: float64"
      ]
     },
     "execution_count": 23,
     "metadata": {},
     "output_type": "execute_result"
    }
   ],
   "source": [
    "filtred_auto_df.fillna({'Gearbox':'manual', 'Repaired':'yes', 'Model':'unknown'},\n",
    "                          inplace=True)\n",
    "filtred_auto_df.isna().mean()"
   ]
  },
  {
   "cell_type": "code",
   "execution_count": 24,
   "metadata": {},
   "outputs": [
    {
     "data": {
      "text/plain": [
       "VehicleType\n",
       "sedan          53800\n",
       "small          43058\n",
       "wagon          38566\n",
       "bus            19914\n",
       "convertible    12706\n",
       "coupe           8966\n",
       "suv             6169\n",
       "other           2027\n",
       "Name: count, dtype: int64"
      ]
     },
     "metadata": {},
     "output_type": "display_data"
    },
    {
     "data": {
      "text/plain": [
       "8814"
      ]
     },
     "metadata": {},
     "output_type": "display_data"
    }
   ],
   "source": [
    "# Давайте проанализируем количество пропущенных значений в столбце \"VehicleType\" относительно общего числа значений в этом столбце.\n",
    "display(filtred_auto_df['VehicleType'].value_counts())\n",
    "display(filtred_auto_df['VehicleType'].isna().sum())"
   ]
  },
  {
   "cell_type": "code",
   "execution_count": 25,
   "metadata": {},
   "outputs": [
    {
     "data": {
      "text/html": [
       "<div>\n",
       "<style scoped>\n",
       "    .dataframe tbody tr th:only-of-type {\n",
       "        vertical-align: middle;\n",
       "    }\n",
       "\n",
       "    .dataframe tbody tr th {\n",
       "        vertical-align: top;\n",
       "    }\n",
       "\n",
       "    .dataframe thead tr th {\n",
       "        text-align: left;\n",
       "    }\n",
       "\n",
       "    .dataframe thead tr:last-of-type th {\n",
       "        text-align: right;\n",
       "    }\n",
       "</style>\n",
       "<table border=\"1\" class=\"dataframe\">\n",
       "  <thead>\n",
       "    <tr>\n",
       "      <th></th>\n",
       "      <th colspan=\"21\" halign=\"left\">count</th>\n",
       "    </tr>\n",
       "    <tr>\n",
       "      <th></th>\n",
       "      <th colspan=\"21\" halign=\"left\">Price</th>\n",
       "    </tr>\n",
       "    <tr>\n",
       "      <th>Brand</th>\n",
       "      <th>alfa_romeo</th>\n",
       "      <th>audi</th>\n",
       "      <th>bmw</th>\n",
       "      <th>chevrolet</th>\n",
       "      <th>chrysler</th>\n",
       "      <th>citroen</th>\n",
       "      <th>dacia</th>\n",
       "      <th>daewoo</th>\n",
       "      <th>daihatsu</th>\n",
       "      <th>fiat</th>\n",
       "      <th>...</th>\n",
       "      <th>seat</th>\n",
       "      <th>skoda</th>\n",
       "      <th>smart</th>\n",
       "      <th>sonstige_autos</th>\n",
       "      <th>subaru</th>\n",
       "      <th>suzuki</th>\n",
       "      <th>toyota</th>\n",
       "      <th>trabant</th>\n",
       "      <th>volkswagen</th>\n",
       "      <th>volvo</th>\n",
       "    </tr>\n",
       "    <tr>\n",
       "      <th>VehicleType</th>\n",
       "      <th></th>\n",
       "      <th></th>\n",
       "      <th></th>\n",
       "      <th></th>\n",
       "      <th></th>\n",
       "      <th></th>\n",
       "      <th></th>\n",
       "      <th></th>\n",
       "      <th></th>\n",
       "      <th></th>\n",
       "      <th></th>\n",
       "      <th></th>\n",
       "      <th></th>\n",
       "      <th></th>\n",
       "      <th></th>\n",
       "      <th></th>\n",
       "      <th></th>\n",
       "      <th></th>\n",
       "      <th></th>\n",
       "      <th></th>\n",
       "      <th></th>\n",
       "    </tr>\n",
       "  </thead>\n",
       "  <tbody>\n",
       "    <tr>\n",
       "      <th>bus</th>\n",
       "      <td>NaN</td>\n",
       "      <td>10.0</td>\n",
       "      <td>5.0</td>\n",
       "      <td>98.0</td>\n",
       "      <td>269.0</td>\n",
       "      <td>994.0</td>\n",
       "      <td>33.0</td>\n",
       "      <td>18.0</td>\n",
       "      <td>19.0</td>\n",
       "      <td>623.0</td>\n",
       "      <td>...</td>\n",
       "      <td>466.0</td>\n",
       "      <td>183.0</td>\n",
       "      <td>1.0</td>\n",
       "      <td>145.0</td>\n",
       "      <td>12.0</td>\n",
       "      <td>19.0</td>\n",
       "      <td>373.0</td>\n",
       "      <td>NaN</td>\n",
       "      <td>6123.0</td>\n",
       "      <td>NaN</td>\n",
       "    </tr>\n",
       "    <tr>\n",
       "      <th>convertible</th>\n",
       "      <td>119.0</td>\n",
       "      <td>885.0</td>\n",
       "      <td>1915.0</td>\n",
       "      <td>8.0</td>\n",
       "      <td>170.0</td>\n",
       "      <td>93.0</td>\n",
       "      <td>NaN</td>\n",
       "      <td>NaN</td>\n",
       "      <td>15.0</td>\n",
       "      <td>291.0</td>\n",
       "      <td>...</td>\n",
       "      <td>NaN</td>\n",
       "      <td>2.0</td>\n",
       "      <td>988.0</td>\n",
       "      <td>180.0</td>\n",
       "      <td>1.0</td>\n",
       "      <td>28.0</td>\n",
       "      <td>55.0</td>\n",
       "      <td>28.0</td>\n",
       "      <td>1822.0</td>\n",
       "      <td>36.0</td>\n",
       "    </tr>\n",
       "    <tr>\n",
       "      <th>coupe</th>\n",
       "      <td>174.0</td>\n",
       "      <td>658.0</td>\n",
       "      <td>2036.0</td>\n",
       "      <td>49.0</td>\n",
       "      <td>30.0</td>\n",
       "      <td>102.0</td>\n",
       "      <td>NaN</td>\n",
       "      <td>1.0</td>\n",
       "      <td>NaN</td>\n",
       "      <td>119.0</td>\n",
       "      <td>...</td>\n",
       "      <td>48.0</td>\n",
       "      <td>5.0</td>\n",
       "      <td>284.0</td>\n",
       "      <td>74.0</td>\n",
       "      <td>3.0</td>\n",
       "      <td>NaN</td>\n",
       "      <td>146.0</td>\n",
       "      <td>2.0</td>\n",
       "      <td>705.0</td>\n",
       "      <td>42.0</td>\n",
       "    </tr>\n",
       "    <tr>\n",
       "      <th>other</th>\n",
       "      <td>5.0</td>\n",
       "      <td>67.0</td>\n",
       "      <td>139.0</td>\n",
       "      <td>21.0</td>\n",
       "      <td>6.0</td>\n",
       "      <td>75.0</td>\n",
       "      <td>5.0</td>\n",
       "      <td>3.0</td>\n",
       "      <td>5.0</td>\n",
       "      <td>123.0</td>\n",
       "      <td>...</td>\n",
       "      <td>32.0</td>\n",
       "      <td>19.0</td>\n",
       "      <td>7.0</td>\n",
       "      <td>131.0</td>\n",
       "      <td>4.0</td>\n",
       "      <td>10.0</td>\n",
       "      <td>13.0</td>\n",
       "      <td>5.0</td>\n",
       "      <td>503.0</td>\n",
       "      <td>2.0</td>\n",
       "    </tr>\n",
       "    <tr>\n",
       "      <th>sedan</th>\n",
       "      <td>571.0</td>\n",
       "      <td>6253.0</td>\n",
       "      <td>10324.0</td>\n",
       "      <td>166.0</td>\n",
       "      <td>158.0</td>\n",
       "      <td>448.0</td>\n",
       "      <td>88.0</td>\n",
       "      <td>44.0</td>\n",
       "      <td>31.0</td>\n",
       "      <td>541.0</td>\n",
       "      <td>...</td>\n",
       "      <td>1142.0</td>\n",
       "      <td>654.0</td>\n",
       "      <td>24.0</td>\n",
       "      <td>231.0</td>\n",
       "      <td>94.0</td>\n",
       "      <td>99.0</td>\n",
       "      <td>696.0</td>\n",
       "      <td>91.0</td>\n",
       "      <td>11009.0</td>\n",
       "      <td>410.0</td>\n",
       "    </tr>\n",
       "    <tr>\n",
       "      <th>small</th>\n",
       "      <td>177.0</td>\n",
       "      <td>750.0</td>\n",
       "      <td>251.0</td>\n",
       "      <td>505.0</td>\n",
       "      <td>8.0</td>\n",
       "      <td>1105.0</td>\n",
       "      <td>190.0</td>\n",
       "      <td>139.0</td>\n",
       "      <td>245.0</td>\n",
       "      <td>2842.0</td>\n",
       "      <td>...</td>\n",
       "      <td>1874.0</td>\n",
       "      <td>856.0</td>\n",
       "      <td>2687.0</td>\n",
       "      <td>136.0</td>\n",
       "      <td>52.0</td>\n",
       "      <td>610.0</td>\n",
       "      <td>1254.0</td>\n",
       "      <td>28.0</td>\n",
       "      <td>9352.0</td>\n",
       "      <td>7.0</td>\n",
       "    </tr>\n",
       "    <tr>\n",
       "      <th>suv</th>\n",
       "      <td>NaN</td>\n",
       "      <td>14.0</td>\n",
       "      <td>315.0</td>\n",
       "      <td>231.0</td>\n",
       "      <td>13.0</td>\n",
       "      <td>10.0</td>\n",
       "      <td>142.0</td>\n",
       "      <td>1.0</td>\n",
       "      <td>29.0</td>\n",
       "      <td>17.0</td>\n",
       "      <td>...</td>\n",
       "      <td>3.0</td>\n",
       "      <td>22.0</td>\n",
       "      <td>NaN</td>\n",
       "      <td>223.0</td>\n",
       "      <td>42.0</td>\n",
       "      <td>586.0</td>\n",
       "      <td>318.0</td>\n",
       "      <td>NaN</td>\n",
       "      <td>367.0</td>\n",
       "      <td>65.0</td>\n",
       "    </tr>\n",
       "    <tr>\n",
       "      <th>wagon</th>\n",
       "      <td>305.0</td>\n",
       "      <td>6262.0</td>\n",
       "      <td>4726.0</td>\n",
       "      <td>82.0</td>\n",
       "      <td>174.0</td>\n",
       "      <td>385.0</td>\n",
       "      <td>221.0</td>\n",
       "      <td>19.0</td>\n",
       "      <td>14.0</td>\n",
       "      <td>232.0</td>\n",
       "      <td>...</td>\n",
       "      <td>183.0</td>\n",
       "      <td>1807.0</td>\n",
       "      <td>1.0</td>\n",
       "      <td>90.0</td>\n",
       "      <td>175.0</td>\n",
       "      <td>53.0</td>\n",
       "      <td>430.0</td>\n",
       "      <td>40.0</td>\n",
       "      <td>7532.0</td>\n",
       "      <td>1158.0</td>\n",
       "    </tr>\n",
       "  </tbody>\n",
       "</table>\n",
       "<p>8 rows × 40 columns</p>\n",
       "</div>"
      ],
      "text/plain": [
       "                 count                                                     \\\n",
       "                 Price                                                      \n",
       "Brand       alfa_romeo    audi      bmw chevrolet chrysler citroen  dacia   \n",
       "VehicleType                                                                 \n",
       "bus                NaN    10.0      5.0      98.0    269.0   994.0   33.0   \n",
       "convertible      119.0   885.0   1915.0       8.0    170.0    93.0    NaN   \n",
       "coupe            174.0   658.0   2036.0      49.0     30.0   102.0    NaN   \n",
       "other              5.0    67.0    139.0      21.0      6.0    75.0    5.0   \n",
       "sedan            571.0  6253.0  10324.0     166.0    158.0   448.0   88.0   \n",
       "small            177.0   750.0    251.0     505.0      8.0  1105.0  190.0   \n",
       "suv                NaN    14.0    315.0     231.0     13.0    10.0  142.0   \n",
       "wagon            305.0  6262.0   4726.0      82.0    174.0   385.0  221.0   \n",
       "\n",
       "                                     ...                          \\\n",
       "                                     ...                           \n",
       "Brand       daewoo daihatsu    fiat  ...    seat   skoda   smart   \n",
       "VehicleType                          ...                           \n",
       "bus           18.0     19.0   623.0  ...   466.0   183.0     1.0   \n",
       "convertible    NaN     15.0   291.0  ...     NaN     2.0   988.0   \n",
       "coupe          1.0      NaN   119.0  ...    48.0     5.0   284.0   \n",
       "other          3.0      5.0   123.0  ...    32.0    19.0     7.0   \n",
       "sedan         44.0     31.0   541.0  ...  1142.0   654.0    24.0   \n",
       "small        139.0    245.0  2842.0  ...  1874.0   856.0  2687.0   \n",
       "suv            1.0     29.0    17.0  ...     3.0    22.0     NaN   \n",
       "wagon         19.0     14.0   232.0  ...   183.0  1807.0     1.0   \n",
       "\n",
       "                                                                             \n",
       "                                                                             \n",
       "Brand       sonstige_autos subaru suzuki  toyota trabant volkswagen   volvo  \n",
       "VehicleType                                                                  \n",
       "bus                  145.0   12.0   19.0   373.0     NaN     6123.0     NaN  \n",
       "convertible          180.0    1.0   28.0    55.0    28.0     1822.0    36.0  \n",
       "coupe                 74.0    3.0    NaN   146.0     2.0      705.0    42.0  \n",
       "other                131.0    4.0   10.0    13.0     5.0      503.0     2.0  \n",
       "sedan                231.0   94.0   99.0   696.0    91.0    11009.0   410.0  \n",
       "small                136.0   52.0  610.0  1254.0    28.0     9352.0     7.0  \n",
       "suv                  223.0   42.0  586.0   318.0     NaN      367.0    65.0  \n",
       "wagon                 90.0  175.0   53.0   430.0    40.0     7532.0  1158.0  \n",
       "\n",
       "[8 rows x 40 columns]"
      ]
     },
     "metadata": {},
     "output_type": "display_data"
    }
   ],
   "source": [
    "#Для наглядного представления количества марок, моделей и типов кузова, \n",
    "#построим сводную таблицу, которая позволит нам увидеть разбиение по этим категориям и количество автомобилей, \n",
    "#соответствующих каждой комбинации марки, модели и типа кузова.\n",
    "vehicle_type_pvt = filtred_auto_df.pivot_table(index=['VehicleType'], \n",
    "                                                    columns=['Brand'],\n",
    "                                                    values=['Price'],\n",
    "                                                    aggfunc=['count'])\n",
    "display(vehicle_type_pvt)"
   ]
  },
  {
   "cell_type": "code",
   "execution_count": 26,
   "metadata": {},
   "outputs": [
    {
     "data": {
      "text/html": [
       "<div>\n",
       "<style scoped>\n",
       "    .dataframe tbody tr th:only-of-type {\n",
       "        vertical-align: middle;\n",
       "    }\n",
       "\n",
       "    .dataframe tbody tr th {\n",
       "        vertical-align: top;\n",
       "    }\n",
       "\n",
       "    .dataframe thead th {\n",
       "        text-align: right;\n",
       "    }\n",
       "</style>\n",
       "<table border=\"1\" class=\"dataframe\">\n",
       "  <thead>\n",
       "    <tr style=\"text-align: right;\">\n",
       "      <th>Brand</th>\n",
       "      <th>alfa_romeo</th>\n",
       "      <th>audi</th>\n",
       "      <th>bmw</th>\n",
       "      <th>chevrolet</th>\n",
       "      <th>chrysler</th>\n",
       "      <th>citroen</th>\n",
       "      <th>dacia</th>\n",
       "      <th>daewoo</th>\n",
       "      <th>daihatsu</th>\n",
       "      <th>fiat</th>\n",
       "      <th>...</th>\n",
       "      <th>seat</th>\n",
       "      <th>skoda</th>\n",
       "      <th>smart</th>\n",
       "      <th>sonstige_autos</th>\n",
       "      <th>subaru</th>\n",
       "      <th>suzuki</th>\n",
       "      <th>toyota</th>\n",
       "      <th>trabant</th>\n",
       "      <th>volkswagen</th>\n",
       "      <th>volvo</th>\n",
       "    </tr>\n",
       "    <tr>\n",
       "      <th>VehicleType</th>\n",
       "      <th></th>\n",
       "      <th></th>\n",
       "      <th></th>\n",
       "      <th></th>\n",
       "      <th></th>\n",
       "      <th></th>\n",
       "      <th></th>\n",
       "      <th></th>\n",
       "      <th></th>\n",
       "      <th></th>\n",
       "      <th></th>\n",
       "      <th></th>\n",
       "      <th></th>\n",
       "      <th></th>\n",
       "      <th></th>\n",
       "      <th></th>\n",
       "      <th></th>\n",
       "      <th></th>\n",
       "      <th></th>\n",
       "      <th></th>\n",
       "      <th></th>\n",
       "    </tr>\n",
       "  </thead>\n",
       "  <tbody>\n",
       "    <tr>\n",
       "      <th>bus</th>\n",
       "      <td>NaN</td>\n",
       "      <td>10.0</td>\n",
       "      <td>5.0</td>\n",
       "      <td>98.0</td>\n",
       "      <td>269.0</td>\n",
       "      <td>994.0</td>\n",
       "      <td>33.0</td>\n",
       "      <td>18.0</td>\n",
       "      <td>19.0</td>\n",
       "      <td>623.0</td>\n",
       "      <td>...</td>\n",
       "      <td>466.0</td>\n",
       "      <td>183.0</td>\n",
       "      <td>1.0</td>\n",
       "      <td>145.0</td>\n",
       "      <td>12.0</td>\n",
       "      <td>19.0</td>\n",
       "      <td>373.0</td>\n",
       "      <td>NaN</td>\n",
       "      <td>6123.0</td>\n",
       "      <td>NaN</td>\n",
       "    </tr>\n",
       "    <tr>\n",
       "      <th>convertible</th>\n",
       "      <td>119.0</td>\n",
       "      <td>885.0</td>\n",
       "      <td>1915.0</td>\n",
       "      <td>8.0</td>\n",
       "      <td>170.0</td>\n",
       "      <td>93.0</td>\n",
       "      <td>NaN</td>\n",
       "      <td>NaN</td>\n",
       "      <td>15.0</td>\n",
       "      <td>291.0</td>\n",
       "      <td>...</td>\n",
       "      <td>NaN</td>\n",
       "      <td>2.0</td>\n",
       "      <td>988.0</td>\n",
       "      <td>180.0</td>\n",
       "      <td>1.0</td>\n",
       "      <td>28.0</td>\n",
       "      <td>55.0</td>\n",
       "      <td>28.0</td>\n",
       "      <td>1822.0</td>\n",
       "      <td>36.0</td>\n",
       "    </tr>\n",
       "    <tr>\n",
       "      <th>coupe</th>\n",
       "      <td>174.0</td>\n",
       "      <td>658.0</td>\n",
       "      <td>2036.0</td>\n",
       "      <td>49.0</td>\n",
       "      <td>30.0</td>\n",
       "      <td>102.0</td>\n",
       "      <td>NaN</td>\n",
       "      <td>1.0</td>\n",
       "      <td>NaN</td>\n",
       "      <td>119.0</td>\n",
       "      <td>...</td>\n",
       "      <td>48.0</td>\n",
       "      <td>5.0</td>\n",
       "      <td>284.0</td>\n",
       "      <td>74.0</td>\n",
       "      <td>3.0</td>\n",
       "      <td>NaN</td>\n",
       "      <td>146.0</td>\n",
       "      <td>2.0</td>\n",
       "      <td>705.0</td>\n",
       "      <td>42.0</td>\n",
       "    </tr>\n",
       "    <tr>\n",
       "      <th>other</th>\n",
       "      <td>5.0</td>\n",
       "      <td>67.0</td>\n",
       "      <td>139.0</td>\n",
       "      <td>21.0</td>\n",
       "      <td>6.0</td>\n",
       "      <td>75.0</td>\n",
       "      <td>5.0</td>\n",
       "      <td>3.0</td>\n",
       "      <td>5.0</td>\n",
       "      <td>123.0</td>\n",
       "      <td>...</td>\n",
       "      <td>32.0</td>\n",
       "      <td>19.0</td>\n",
       "      <td>7.0</td>\n",
       "      <td>131.0</td>\n",
       "      <td>4.0</td>\n",
       "      <td>10.0</td>\n",
       "      <td>13.0</td>\n",
       "      <td>5.0</td>\n",
       "      <td>503.0</td>\n",
       "      <td>2.0</td>\n",
       "    </tr>\n",
       "    <tr>\n",
       "      <th>sedan</th>\n",
       "      <td>571.0</td>\n",
       "      <td>6253.0</td>\n",
       "      <td>10324.0</td>\n",
       "      <td>166.0</td>\n",
       "      <td>158.0</td>\n",
       "      <td>448.0</td>\n",
       "      <td>88.0</td>\n",
       "      <td>44.0</td>\n",
       "      <td>31.0</td>\n",
       "      <td>541.0</td>\n",
       "      <td>...</td>\n",
       "      <td>1142.0</td>\n",
       "      <td>654.0</td>\n",
       "      <td>24.0</td>\n",
       "      <td>231.0</td>\n",
       "      <td>94.0</td>\n",
       "      <td>99.0</td>\n",
       "      <td>696.0</td>\n",
       "      <td>91.0</td>\n",
       "      <td>11009.0</td>\n",
       "      <td>410.0</td>\n",
       "    </tr>\n",
       "    <tr>\n",
       "      <th>small</th>\n",
       "      <td>177.0</td>\n",
       "      <td>750.0</td>\n",
       "      <td>251.0</td>\n",
       "      <td>505.0</td>\n",
       "      <td>8.0</td>\n",
       "      <td>1105.0</td>\n",
       "      <td>190.0</td>\n",
       "      <td>139.0</td>\n",
       "      <td>245.0</td>\n",
       "      <td>2842.0</td>\n",
       "      <td>...</td>\n",
       "      <td>1874.0</td>\n",
       "      <td>856.0</td>\n",
       "      <td>2687.0</td>\n",
       "      <td>136.0</td>\n",
       "      <td>52.0</td>\n",
       "      <td>610.0</td>\n",
       "      <td>1254.0</td>\n",
       "      <td>28.0</td>\n",
       "      <td>9352.0</td>\n",
       "      <td>7.0</td>\n",
       "    </tr>\n",
       "    <tr>\n",
       "      <th>suv</th>\n",
       "      <td>NaN</td>\n",
       "      <td>14.0</td>\n",
       "      <td>315.0</td>\n",
       "      <td>231.0</td>\n",
       "      <td>13.0</td>\n",
       "      <td>10.0</td>\n",
       "      <td>142.0</td>\n",
       "      <td>1.0</td>\n",
       "      <td>29.0</td>\n",
       "      <td>17.0</td>\n",
       "      <td>...</td>\n",
       "      <td>3.0</td>\n",
       "      <td>22.0</td>\n",
       "      <td>NaN</td>\n",
       "      <td>223.0</td>\n",
       "      <td>42.0</td>\n",
       "      <td>586.0</td>\n",
       "      <td>318.0</td>\n",
       "      <td>NaN</td>\n",
       "      <td>367.0</td>\n",
       "      <td>65.0</td>\n",
       "    </tr>\n",
       "    <tr>\n",
       "      <th>wagon</th>\n",
       "      <td>305.0</td>\n",
       "      <td>6262.0</td>\n",
       "      <td>4726.0</td>\n",
       "      <td>82.0</td>\n",
       "      <td>174.0</td>\n",
       "      <td>385.0</td>\n",
       "      <td>221.0</td>\n",
       "      <td>19.0</td>\n",
       "      <td>14.0</td>\n",
       "      <td>232.0</td>\n",
       "      <td>...</td>\n",
       "      <td>183.0</td>\n",
       "      <td>1807.0</td>\n",
       "      <td>1.0</td>\n",
       "      <td>90.0</td>\n",
       "      <td>175.0</td>\n",
       "      <td>53.0</td>\n",
       "      <td>430.0</td>\n",
       "      <td>40.0</td>\n",
       "      <td>7532.0</td>\n",
       "      <td>1158.0</td>\n",
       "    </tr>\n",
       "  </tbody>\n",
       "</table>\n",
       "<p>8 rows × 40 columns</p>\n",
       "</div>"
      ],
      "text/plain": [
       "Brand        alfa_romeo    audi      bmw  chevrolet  chrysler  citroen  dacia  \\\n",
       "VehicleType                                                                     \n",
       "bus                 NaN    10.0      5.0       98.0     269.0    994.0   33.0   \n",
       "convertible       119.0   885.0   1915.0        8.0     170.0     93.0    NaN   \n",
       "coupe             174.0   658.0   2036.0       49.0      30.0    102.0    NaN   \n",
       "other               5.0    67.0    139.0       21.0       6.0     75.0    5.0   \n",
       "sedan             571.0  6253.0  10324.0      166.0     158.0    448.0   88.0   \n",
       "small             177.0   750.0    251.0      505.0       8.0   1105.0  190.0   \n",
       "suv                 NaN    14.0    315.0      231.0      13.0     10.0  142.0   \n",
       "wagon             305.0  6262.0   4726.0       82.0     174.0    385.0  221.0   \n",
       "\n",
       "Brand        daewoo  daihatsu    fiat  ...    seat   skoda   smart  \\\n",
       "VehicleType                            ...                           \n",
       "bus            18.0      19.0   623.0  ...   466.0   183.0     1.0   \n",
       "convertible     NaN      15.0   291.0  ...     NaN     2.0   988.0   \n",
       "coupe           1.0       NaN   119.0  ...    48.0     5.0   284.0   \n",
       "other           3.0       5.0   123.0  ...    32.0    19.0     7.0   \n",
       "sedan          44.0      31.0   541.0  ...  1142.0   654.0    24.0   \n",
       "small         139.0     245.0  2842.0  ...  1874.0   856.0  2687.0   \n",
       "suv             1.0      29.0    17.0  ...     3.0    22.0     NaN   \n",
       "wagon          19.0      14.0   232.0  ...   183.0  1807.0     1.0   \n",
       "\n",
       "Brand        sonstige_autos  subaru  suzuki  toyota  trabant  volkswagen  \\\n",
       "VehicleType                                                                \n",
       "bus                   145.0    12.0    19.0   373.0      NaN      6123.0   \n",
       "convertible           180.0     1.0    28.0    55.0     28.0      1822.0   \n",
       "coupe                  74.0     3.0     NaN   146.0      2.0       705.0   \n",
       "other                 131.0     4.0    10.0    13.0      5.0       503.0   \n",
       "sedan                 231.0    94.0    99.0   696.0     91.0     11009.0   \n",
       "small                 136.0    52.0   610.0  1254.0     28.0      9352.0   \n",
       "suv                   223.0    42.0   586.0   318.0      NaN       367.0   \n",
       "wagon                  90.0   175.0    53.0   430.0     40.0      7532.0   \n",
       "\n",
       "Brand         volvo  \n",
       "VehicleType          \n",
       "bus             NaN  \n",
       "convertible    36.0  \n",
       "coupe          42.0  \n",
       "other           2.0  \n",
       "sedan         410.0  \n",
       "small           7.0  \n",
       "suv            65.0  \n",
       "wagon        1158.0  \n",
       "\n",
       "[8 rows x 40 columns]"
      ]
     },
     "execution_count": 26,
     "metadata": {},
     "output_type": "execute_result"
    }
   ],
   "source": [
    "vehicle_type_pvt = vehicle_type_pvt['count']['Price']\n",
    "vehicle_type_pvt"
   ]
  },
  {
   "cell_type": "code",
   "execution_count": 27,
   "metadata": {},
   "outputs": [],
   "source": [
    "filtred_auto_df['VehicleType'] = filtred_auto_df['VehicleType'].fillna(filtred_auto_df.groupby(by=['Brand', 'Model'])['VehicleType'].transform(lambda x: x.value_counts().idxmax()))\n"
   ]
  },
  {
   "cell_type": "markdown",
   "metadata": {},
   "source": [
    "**V4** Обновил! Спасибо!  "
   ]
  },
  {
   "cell_type": "code",
   "execution_count": 28,
   "metadata": {},
   "outputs": [
    {
     "data": {
      "text/html": [
       "<div>\n",
       "<style scoped>\n",
       "    .dataframe tbody tr th:only-of-type {\n",
       "        vertical-align: middle;\n",
       "    }\n",
       "\n",
       "    .dataframe tbody tr th {\n",
       "        vertical-align: top;\n",
       "    }\n",
       "\n",
       "    .dataframe thead th {\n",
       "        text-align: right;\n",
       "    }\n",
       "</style>\n",
       "<table border=\"1\" class=\"dataframe\">\n",
       "  <thead>\n",
       "    <tr style=\"text-align: right;\">\n",
       "      <th></th>\n",
       "      <th>VehicleType</th>\n",
       "      <th>RegistrationYear</th>\n",
       "      <th>Gearbox</th>\n",
       "      <th>Power</th>\n",
       "      <th>Model</th>\n",
       "      <th>Kilometer</th>\n",
       "      <th>FuelType</th>\n",
       "      <th>Brand</th>\n",
       "      <th>Repaired</th>\n",
       "      <th>Price</th>\n",
       "    </tr>\n",
       "  </thead>\n",
       "  <tbody>\n",
       "    <tr>\n",
       "      <th>2</th>\n",
       "      <td>suv</td>\n",
       "      <td>2004</td>\n",
       "      <td>auto</td>\n",
       "      <td>163</td>\n",
       "      <td>grand</td>\n",
       "      <td>125000</td>\n",
       "      <td>gasoline</td>\n",
       "      <td>jeep</td>\n",
       "      <td>yes</td>\n",
       "      <td>9800</td>\n",
       "    </tr>\n",
       "    <tr>\n",
       "      <th>3</th>\n",
       "      <td>small</td>\n",
       "      <td>2001</td>\n",
       "      <td>manual</td>\n",
       "      <td>75</td>\n",
       "      <td>golf</td>\n",
       "      <td>150000</td>\n",
       "      <td>petrol</td>\n",
       "      <td>volkswagen</td>\n",
       "      <td>no</td>\n",
       "      <td>1500</td>\n",
       "    </tr>\n",
       "    <tr>\n",
       "      <th>4</th>\n",
       "      <td>small</td>\n",
       "      <td>2008</td>\n",
       "      <td>manual</td>\n",
       "      <td>69</td>\n",
       "      <td>fabia</td>\n",
       "      <td>90000</td>\n",
       "      <td>gasoline</td>\n",
       "      <td>skoda</td>\n",
       "      <td>no</td>\n",
       "      <td>3600</td>\n",
       "    </tr>\n",
       "    <tr>\n",
       "      <th>6</th>\n",
       "      <td>convertible</td>\n",
       "      <td>2004</td>\n",
       "      <td>manual</td>\n",
       "      <td>109</td>\n",
       "      <td>2_reihe</td>\n",
       "      <td>150000</td>\n",
       "      <td>petrol</td>\n",
       "      <td>peugeot</td>\n",
       "      <td>no</td>\n",
       "      <td>2200</td>\n",
       "    </tr>\n",
       "    <tr>\n",
       "      <th>9</th>\n",
       "      <td>small</td>\n",
       "      <td>1998</td>\n",
       "      <td>manual</td>\n",
       "      <td>101</td>\n",
       "      <td>golf</td>\n",
       "      <td>150000</td>\n",
       "      <td>NaN</td>\n",
       "      <td>volkswagen</td>\n",
       "      <td>yes</td>\n",
       "      <td>999</td>\n",
       "    </tr>\n",
       "  </tbody>\n",
       "</table>\n",
       "</div>"
      ],
      "text/plain": [
       "   VehicleType  RegistrationYear Gearbox  Power    Model  Kilometer  FuelType  \\\n",
       "2          suv              2004    auto    163    grand     125000  gasoline   \n",
       "3        small              2001  manual     75     golf     150000    petrol   \n",
       "4        small              2008  manual     69    fabia      90000  gasoline   \n",
       "6  convertible              2004  manual    109  2_reihe     150000    petrol   \n",
       "9        small              1998  manual    101     golf     150000       NaN   \n",
       "\n",
       "        Brand Repaired  Price  \n",
       "2        jeep      yes   9800  \n",
       "3  volkswagen       no   1500  \n",
       "4       skoda       no   3600  \n",
       "6     peugeot       no   2200  \n",
       "9  volkswagen      yes    999  "
      ]
     },
     "execution_count": 28,
     "metadata": {},
     "output_type": "execute_result"
    }
   ],
   "source": [
    "filtred_auto_df.head()"
   ]
  },
  {
   "cell_type": "code",
   "execution_count": 29,
   "metadata": {
    "scrolled": true
   },
   "outputs": [
    {
     "data": {
      "text/plain": [
       "0"
      ]
     },
     "metadata": {},
     "output_type": "display_data"
    },
    {
     "data": {
      "text/plain": [
       "FuelType\n",
       "petrol      130346\n",
       "gasoline     59233\n",
       "lpg           3794\n",
       "cng            426\n",
       "hybrid          91\n",
       "other           72\n",
       "electric        58\n",
       "Name: count, dtype: int64"
      ]
     },
     "execution_count": 29,
     "metadata": {},
     "output_type": "execute_result"
    }
   ],
   "source": [
    "# Заполним пустые значения нулями для всех столбцов\n",
    "filtred_auto_df.fillna(0, inplace=True)\n",
    "\n",
    "# Создадим функцию, которая будет заменять пропущенные значения в столбце типа топлива\n",
    "# на наиболее распространенный тип для каждой марки автомобиля.\n",
    "def fillna_by_brand(row, fuel_type_pvt):\n",
    "    brand = row['Brand']\n",
    "    fill_value = row['FuelType']\n",
    "    if fill_value == 0 and brand in fuel_type_pvt.index:\n",
    "        fill_value = fuel_type_pvt.loc[brand].idxmax()\n",
    "    return fill_value\n",
    "\n",
    "# Получим таблицу сводной для типа топлива\n",
    "fuel_type_pvt = filtred_auto_df.pivot_table(index='Brand',\n",
    "                                            columns='FuelType',\n",
    "                                            values='Price',\n",
    "                                            aggfunc='count')\n",
    "\n",
    "# Применим функцию\n",
    "filtred_auto_df['FuelType'] = filtred_auto_df.apply(\n",
    "    lambda row: fillna_by_brand(row, fuel_type_pvt),\n",
    "    axis=1\n",
    ")\n",
    "\n",
    "# Проверим, сколько осталось пропущенных значений\n",
    "display(filtred_auto_df['FuelType'].isna().sum())\n",
    "\n",
    "# Выведем количество значений для каждого типа топлива\n",
    "filtred_auto_df['FuelType'].value_counts()\n"
   ]
  },
  {
   "cell_type": "code",
   "execution_count": 30,
   "metadata": {},
   "outputs": [
    {
     "data": {
      "text/plain": [
       "0"
      ]
     },
     "metadata": {},
     "output_type": "display_data"
    },
    {
     "data": {
      "text/plain": [
       "FuelType\n",
       "petrol      130346\n",
       "gasoline     59233\n",
       "lpg           3794\n",
       "cng            426\n",
       "hybrid          91\n",
       "other           72\n",
       "electric        58\n",
       "Name: count, dtype: int64"
      ]
     },
     "execution_count": 30,
     "metadata": {},
     "output_type": "execute_result"
    }
   ],
   "source": [
    "display(filtred_auto_df['FuelType'].isna().sum())\n",
    "filtred_auto_df['FuelType'].value_counts()"
   ]
  },
  {
   "cell_type": "code",
   "execution_count": 31,
   "metadata": {},
   "outputs": [
    {
     "data": {
      "text/plain": [
       "VehicleType         0.0\n",
       "RegistrationYear    0.0\n",
       "Gearbox             0.0\n",
       "Power               0.0\n",
       "Model               0.0\n",
       "Kilometer           0.0\n",
       "FuelType            0.0\n",
       "Brand               0.0\n",
       "Repaired            0.0\n",
       "Price               0.0\n",
       "dtype: float64"
      ]
     },
     "execution_count": 31,
     "metadata": {},
     "output_type": "execute_result"
    }
   ],
   "source": [
    "filtred_auto_df.isna().mean()"
   ]
  },
  {
   "cell_type": "code",
   "execution_count": 32,
   "metadata": {
    "scrolled": false
   },
   "outputs": [
    {
     "data": {
      "text/plain": [
       "count    194020.000000\n",
       "mean        113.953031\n",
       "std         194.775691\n",
       "min           0.000000\n",
       "25%          75.000000\n",
       "50%         109.000000\n",
       "75%         143.000000\n",
       "max       20000.000000\n",
       "Name: Power, dtype: float64"
      ]
     },
     "execution_count": 32,
     "metadata": {},
     "output_type": "execute_result"
    },
    {
     "data": {
      "image/png": "[encoded data removed]",
      "text/plain": [
       "<Figure size 1200x900 with 1 Axes>"
      ]
     },
     "metadata": {},
     "output_type": "display_data"
    }
   ],
   "source": [
    "filtred_auto_df['Power'].hist(bins=100, figsize=(12,9))\n",
    "filtred_auto_df['Power'].describe()"
   ]
  },
  {
   "cell_type": "code",
   "execution_count": 33,
   "metadata": {
    "scrolled": false
   },
   "outputs": [
    {
     "data": {
      "text/plain": [
       "count    193845.000000\n",
       "mean        110.338121\n",
       "std          57.304278\n",
       "min           0.000000\n",
       "25%          75.000000\n",
       "50%         109.000000\n",
       "75%         143.000000\n",
       "max        1000.000000\n",
       "Name: Power, dtype: float64"
      ]
     },
     "execution_count": 33,
     "metadata": {},
     "output_type": "execute_result"
    },
    {
     "data": {
      "image/png": "[encoded data removed]",
      "text/plain": [
       "<Figure size 1200x900 with 1 Axes>"
      ]
     },
     "metadata": {},
     "output_type": "display_data"
    }
   ],
   "source": [
    "filtred_auto_df = filtred_auto_df.query('Power < 1001')\n",
    "filtred_auto_df['Power'].hist(bins=100, figsize=(12,9))\n",
    "filtred_auto_df['Power'].describe()"
   ]
  },
  {
   "cell_type": "code",
   "execution_count": 34,
   "metadata": {},
   "outputs": [
    {
     "data": {
      "text/plain": [
       "count    178144.000000\n",
       "mean        119.800386\n",
       "std          47.916850\n",
       "min           1.000000\n",
       "25%          83.000000\n",
       "50%         114.000000\n",
       "75%         146.000000\n",
       "max         449.000000\n",
       "Name: Power, dtype: float64"
      ]
     },
     "execution_count": 34,
     "metadata": {},
     "output_type": "execute_result"
    },
    {
     "data": {
      "image/png": "[encoded data removed]",
      "text/plain": [
       "<Figure size 1200x900 with 1 Axes>"
      ]
     },
     "metadata": {},
     "output_type": "display_data"
    }
   ],
   "source": [
    "# Справа подобрали значение в 450 л.с.\n",
    "filtred_auto_df = filtred_auto_df.query('0 < Power < 450')\n",
    "filtred_auto_df['Power'].hist(bins=100, figsize=(12,9))\n",
    "filtred_auto_df['Power'].describe()"
   ]
  },
  {
   "cell_type": "code",
   "execution_count": 35,
   "metadata": {},
   "outputs": [
    {
     "name": "stdout",
     "output_type": "stream",
     "text": [
      "<class 'pandas.core.frame.DataFrame'>\n",
      "Index: 178144 entries, 2 to 354368\n",
      "Data columns (total 10 columns):\n",
      " #   Column            Non-Null Count   Dtype \n",
      "---  ------            --------------   ----- \n",
      " 0   VehicleType       178144 non-null  object\n",
      " 1   RegistrationYear  178144 non-null  int64 \n",
      " 2   Gearbox           178144 non-null  object\n",
      " 3   Power             178144 non-null  int64 \n",
      " 4   Model             178144 non-null  object\n",
      " 5   Kilometer         178144 non-null  int64 \n",
      " 6   FuelType          178144 non-null  object\n",
      " 7   Brand             178144 non-null  object\n",
      " 8   Repaired          178144 non-null  object\n",
      " 9   Price             178144 non-null  int64 \n",
      "dtypes: int64(4), object(6)\n",
      "memory usage: 15.0+ MB\n"
     ]
    }
   ],
   "source": [
    "good_auto_df = filtred_auto_df\n",
    "good_auto_df.info()"
   ]
  },
  {
   "cell_type": "code",
   "execution_count": 36,
   "metadata": {},
   "outputs": [
    {
     "data": {
      "text/plain": [
       "Is_manual_gearbox\n",
       "1    143491\n",
       "0     34653\n",
       "Name: count, dtype: int64"
      ]
     },
     "metadata": {},
     "output_type": "display_data"
    },
    {
     "data": {
      "text/plain": [
       "Gearbox\n",
       "manual    143491\n",
       "auto       34653\n",
       "Name: count, dtype: int64"
      ]
     },
     "execution_count": 36,
     "metadata": {},
     "output_type": "execute_result"
    }
   ],
   "source": [
    "# Добавим столбец 'Is_manual_gearbox', где 1 - это manual, 0 - это auto\n",
    "good_auto_df['Is_manual_gearbox'] = 0\n",
    "good_auto_df.loc[good_auto_df['Gearbox'] == 'manual', 'Is_manual_gearbox'] = 1\n",
    "display(good_auto_df['Is_manual_gearbox'].value_counts())\n",
    "good_auto_df['Gearbox'].value_counts()"
   ]
  },
  {
   "cell_type": "code",
   "execution_count": 37,
   "metadata": {},
   "outputs": [
    {
     "data": {
      "text/plain": [
       "Was_not_repaired\n",
       "0    139318\n",
       "1     38826\n",
       "Name: count, dtype: int64"
      ]
     },
     "metadata": {},
     "output_type": "display_data"
    },
    {
     "data": {
      "text/plain": [
       "Repaired\n",
       "no     139318\n",
       "yes     38826\n",
       "Name: count, dtype: int64"
      ]
     },
     "execution_count": 37,
     "metadata": {},
     "output_type": "execute_result"
    }
   ],
   "source": [
    "# Добавим столбец 'Was_not_repaired', где 1 - это машина не ремонтировалась, 0 - машина с ремонтом\n",
    "good_auto_df['Was_not_repaired'] = 0\n",
    "good_auto_df.loc[good_auto_df['Repaired'] == 'yes', 'Was_not_repaired'] = 1\n",
    "display(good_auto_df['Was_not_repaired'].value_counts())\n",
    "good_auto_df['Repaired'].value_counts()"
   ]
  },
  {
   "cell_type": "code",
   "execution_count": 38,
   "metadata": {},
   "outputs": [
    {
     "name": "stdout",
     "output_type": "stream",
     "text": [
      "<class 'pandas.core.frame.DataFrame'>\n",
      "Index: 178144 entries, 2 to 354368\n",
      "Data columns (total 10 columns):\n",
      " #   Column             Non-Null Count   Dtype \n",
      "---  ------             --------------   ----- \n",
      " 0   VehicleType        178144 non-null  object\n",
      " 1   RegistrationYear   178144 non-null  int16 \n",
      " 2   Power              178144 non-null  int16 \n",
      " 3   Model              178144 non-null  object\n",
      " 4   Kilometer          178144 non-null  int32 \n",
      " 5   FuelType           178144 non-null  object\n",
      " 6   Brand              178144 non-null  object\n",
      " 7   Price              178144 non-null  int16 \n",
      " 8   Is_manual_gearbox  178144 non-null  int8  \n",
      " 9   Was_not_repaired   178144 non-null  int8  \n",
      "dtypes: int16(3), int32(1), int8(2), object(4)\n",
      "memory usage: 8.8+ MB\n"
     ]
    }
   ],
   "source": [
    "good_auto_df.drop(['Repaired','Gearbox'], inplace=True, axis=1)\n",
    "good_auto_df['Was_not_repaired'] = pd.to_numeric(good_auto_df['Was_not_repaired'], downcast='integer')\n",
    "good_auto_df['Is_manual_gearbox'] = pd.to_numeric(good_auto_df['Is_manual_gearbox'], downcast='integer')\n",
    "good_auto_df['RegistrationYear'] = pd.to_numeric(good_auto_df['RegistrationYear'], downcast='integer')\n",
    "good_auto_df['Power'] = pd.to_numeric(good_auto_df['Power'], downcast='integer')\n",
    "good_auto_df['Kilometer'] = pd.to_numeric(good_auto_df['Kilometer'], downcast='integer')\n",
    "good_auto_df['Price'] = pd.to_numeric(good_auto_df['Price'], downcast='integer')\n",
    "good_auto_df.info()"
   ]
  },
  {
   "cell_type": "code",
   "execution_count": 39,
   "metadata": {},
   "outputs": [
    {
     "name": "stdout",
     "output_type": "stream",
     "text": [
      "Уменьшение использования памяти на 76.44%\n"
     ]
    }
   ],
   "source": [
    "print('Уменьшение использования памяти на {:.2%}'.format(1 - 10.2/43.3))"
   ]
  },
  {
   "cell_type": "markdown",
   "metadata": {},
   "source": [
    "<div class=\"alert alert-block alert-warning\">  В результате анализа данных были выполнены следующие действия:\n",
    "\n",
    "1. Обработаны пропущенные значения, аномалии и некорректные значения в данных.\n",
    "\n",
    "2. Определены необходимые столбцы, которые будут использоваться для обучения модели.\n",
    "\n",
    "3. Произведена замена категориальных признаков на числовые, чтобы они могли быть использованы в модели.\n",
    "\n",
    "4. Была проведена оптимизация датафрейма, что привело к сокращению потребления памяти на 76%.\n",
    "\n",
    "Таким образом, данные были подготовлены для дальнейшего анализа и обучения модели с использованием оптимизированного датафрейма. </div> "
   ]
  },
  {
   "cell_type": "markdown",
   "metadata": {},
   "source": [
    "## Обучение моделей"
   ]
  },
  {
   "cell_type": "markdown",
   "metadata": {},
   "source": [
    "<div class=\"alert alert-block alert-warning\">  Для проведения кросс-валидации подготовим три типа признаков:\n",
    "\n",
    "1. Неизмененные признаки, которые останутся в исходном виде. Они будут называться \"original_features\".\n",
    "\n",
    "2. Признаки, закодированные с использованием метода One-Hot Encoding (OHE), где каждая категория будет преобразована в бинарные столбцы. Эти признаки будут называться \"ohe_features\".\n",
    "\n",
    "3. Признаки, закодированные с использованием метода Ordinal Encoding (OE), где каждая категория будет преобразована в числовое значение. Эти признаки будут называться \"ordinal_features\".\n",
    "\n",
    "Таким образом, мы создадим три набора признаков, которые будут использоваться для кросс-валидации и обучения модели.</div> "
   ]
  },
  {
   "cell_type": "code",
   "execution_count": 41,
   "metadata": {},
   "outputs": [],
   "source": [
    "original_features = good_auto_df.drop('Price', axis=1)\n",
    "\n",
    "#Целевой признак\n",
    "target = good_auto_df['Price']"
   ]
  },
  {
   "cell_type": "code",
   "execution_count": 42,
   "metadata": {
    "scrolled": false
   },
   "outputs": [
    {
     "data": {
      "text/plain": [
       "(178144, 10)"
      ]
     },
     "execution_count": 42,
     "metadata": {},
     "output_type": "execute_result"
    }
   ],
   "source": [
    "good_auto_df.shape"
   ]
  },
  {
   "cell_type": "code",
   "execution_count": 43,
   "metadata": {},
   "outputs": [
    {
     "data": {
      "text/html": [
       "<div>\n",
       "<style scoped>\n",
       "    .dataframe tbody tr th:only-of-type {\n",
       "        vertical-align: middle;\n",
       "    }\n",
       "\n",
       "    .dataframe tbody tr th {\n",
       "        vertical-align: top;\n",
       "    }\n",
       "\n",
       "    .dataframe thead th {\n",
       "        text-align: right;\n",
       "    }\n",
       "</style>\n",
       "<table border=\"1\" class=\"dataframe\">\n",
       "  <thead>\n",
       "    <tr style=\"text-align: right;\">\n",
       "      <th></th>\n",
       "      <th>VehicleType</th>\n",
       "      <th>RegistrationYear</th>\n",
       "      <th>Power</th>\n",
       "      <th>Model</th>\n",
       "      <th>Kilometer</th>\n",
       "      <th>FuelType</th>\n",
       "      <th>Brand</th>\n",
       "      <th>Price</th>\n",
       "      <th>Is_manual_gearbox</th>\n",
       "      <th>Was_not_repaired</th>\n",
       "    </tr>\n",
       "  </thead>\n",
       "  <tbody>\n",
       "    <tr>\n",
       "      <th>2</th>\n",
       "      <td>suv</td>\n",
       "      <td>2004</td>\n",
       "      <td>163</td>\n",
       "      <td>grand</td>\n",
       "      <td>125000</td>\n",
       "      <td>gasoline</td>\n",
       "      <td>jeep</td>\n",
       "      <td>9800</td>\n",
       "      <td>0</td>\n",
       "      <td>1</td>\n",
       "    </tr>\n",
       "    <tr>\n",
       "      <th>3</th>\n",
       "      <td>small</td>\n",
       "      <td>2001</td>\n",
       "      <td>75</td>\n",
       "      <td>golf</td>\n",
       "      <td>150000</td>\n",
       "      <td>petrol</td>\n",
       "      <td>volkswagen</td>\n",
       "      <td>1500</td>\n",
       "      <td>1</td>\n",
       "      <td>0</td>\n",
       "    </tr>\n",
       "    <tr>\n",
       "      <th>4</th>\n",
       "      <td>small</td>\n",
       "      <td>2008</td>\n",
       "      <td>69</td>\n",
       "      <td>fabia</td>\n",
       "      <td>90000</td>\n",
       "      <td>gasoline</td>\n",
       "      <td>skoda</td>\n",
       "      <td>3600</td>\n",
       "      <td>1</td>\n",
       "      <td>0</td>\n",
       "    </tr>\n",
       "    <tr>\n",
       "      <th>6</th>\n",
       "      <td>convertible</td>\n",
       "      <td>2004</td>\n",
       "      <td>109</td>\n",
       "      <td>2_reihe</td>\n",
       "      <td>150000</td>\n",
       "      <td>petrol</td>\n",
       "      <td>peugeot</td>\n",
       "      <td>2200</td>\n",
       "      <td>1</td>\n",
       "      <td>0</td>\n",
       "    </tr>\n",
       "    <tr>\n",
       "      <th>9</th>\n",
       "      <td>small</td>\n",
       "      <td>1998</td>\n",
       "      <td>101</td>\n",
       "      <td>golf</td>\n",
       "      <td>150000</td>\n",
       "      <td>petrol</td>\n",
       "      <td>volkswagen</td>\n",
       "      <td>999</td>\n",
       "      <td>1</td>\n",
       "      <td>1</td>\n",
       "    </tr>\n",
       "  </tbody>\n",
       "</table>\n",
       "</div>"
      ],
      "text/plain": [
       "   VehicleType  RegistrationYear  Power    Model  Kilometer  FuelType  \\\n",
       "2          suv              2004    163    grand     125000  gasoline   \n",
       "3        small              2001     75     golf     150000    petrol   \n",
       "4        small              2008     69    fabia      90000  gasoline   \n",
       "6  convertible              2004    109  2_reihe     150000    petrol   \n",
       "9        small              1998    101     golf     150000    petrol   \n",
       "\n",
       "        Brand  Price  Is_manual_gearbox  Was_not_repaired  \n",
       "2        jeep   9800                  0                 1  \n",
       "3  volkswagen   1500                  1                 0  \n",
       "4       skoda   3600                  1                 0  \n",
       "6     peugeot   2200                  1                 0  \n",
       "9  volkswagen    999                  1                 1  "
      ]
     },
     "execution_count": 43,
     "metadata": {},
     "output_type": "execute_result"
    }
   ],
   "source": [
    "good_auto_df.head(5)"
   ]
  },
  {
   "cell_type": "code",
   "execution_count": 44,
   "metadata": {},
   "outputs": [],
   "source": [
    "original_features_train, original_features_test, target_train, target_test = train_test_split(\n",
    "    original_features, target, test_size=0.25, random_state=1515)"
   ]
  },
  {
   "cell_type": "code",
   "execution_count": 45,
   "metadata": {
    "scrolled": true
   },
   "outputs": [
    {
     "data": {
      "text/plain": [
       "['VehicleType',\n",
       " 'RegistrationYear',\n",
       " 'Power',\n",
       " 'Model',\n",
       " 'Kilometer',\n",
       " 'FuelType',\n",
       " 'Brand',\n",
       " 'Price',\n",
       " 'Is_manual_gearbox',\n",
       " 'Was_not_repaired']"
      ]
     },
     "execution_count": 45,
     "metadata": {},
     "output_type": "execute_result"
    }
   ],
   "source": [
    "good_auto_df.columns.values.tolist ()"
   ]
  },
  {
   "cell_type": "code",
   "execution_count": 46,
   "metadata": {
    "scrolled": true
   },
   "outputs": [
    {
     "data": {
      "text/plain": [
       "VehicleType          object\n",
       "RegistrationYear      int16\n",
       "Power                 int16\n",
       "Model                object\n",
       "Kilometer             int32\n",
       "FuelType             object\n",
       "Brand                object\n",
       "Price                 int16\n",
       "Is_manual_gearbox      int8\n",
       "Was_not_repaired       int8\n",
       "dtype: object"
      ]
     },
     "execution_count": 46,
     "metadata": {},
     "output_type": "execute_result"
    }
   ],
   "source": [
    "good_auto_df.dtypes"
   ]
  },
  {
   "cell_type": "code",
   "execution_count": 47,
   "metadata": {},
   "outputs": [
    {
     "data": {
      "text/plain": [
       "DateCrawled          object\n",
       "Price                 int64\n",
       "VehicleType          object\n",
       "RegistrationYear      int64\n",
       "Gearbox              object\n",
       "Power                 int64\n",
       "Model                object\n",
       "Kilometer             int64\n",
       "RegistrationMonth     int64\n",
       "FuelType             object\n",
       "Brand                object\n",
       "Repaired             object\n",
       "DateCreated          object\n",
       "NumberOfPictures      int64\n",
       "PostalCode            int64\n",
       "LastSeen             object\n",
       "dtype: object"
      ]
     },
     "execution_count": 47,
     "metadata": {},
     "output_type": "execute_result"
    }
   ],
   "source": [
    "auto_df.dtypes"
   ]
  },
  {
   "cell_type": "code",
   "execution_count": 48,
   "metadata": {
    "scrolled": false
   },
   "outputs": [
    {
     "name": "stdout",
     "output_type": "stream",
     "text": [
      "(133608, 15)\n",
      "(44536, 15)\n"
     ]
    }
   ],
   "source": [
    "encoder = TargetEncoder(cols=['Brand','Model'])  \n",
    "\n",
    "features_train_encoded = encoder.fit_transform(original_features_train, target_train)\n",
    "features_test_encoded = encoder.transform(original_features_test)\n",
    "\n",
    "#OHE к категориальным признакам  \n",
    "ohe = OneHotEncoder(sparse=False, handle_unknown='ignore')\n",
    "\n",
    "ohe_features_train = ohe.fit_transform(features_train_encoded.select_dtypes(include='object'))\n",
    "ohe_features_test = ohe.transform(features_test_encoded.select_dtypes(include='object'))\n",
    "\n",
    "features_train_final = np.concatenate([ohe_features_train, original_features_train.select_dtypes(include='int')], axis=1)\n",
    "features_test_final = np.concatenate([ohe_features_test, original_features_test.select_dtypes(include='int')], axis=1)\n",
    "\n",
    "print(features_train_final.shape)\n",
    "print(features_test_final.shape)"
   ]
  },
  {
   "cell_type": "code",
   "execution_count": 49,
   "metadata": {
    "scrolled": true
   },
   "outputs": [
    {
     "data": {
      "text/html": [
       "<div>\n",
       "<style scoped>\n",
       "    .dataframe tbody tr th:only-of-type {\n",
       "        vertical-align: middle;\n",
       "    }\n",
       "\n",
       "    .dataframe tbody tr th {\n",
       "        vertical-align: top;\n",
       "    }\n",
       "\n",
       "    .dataframe thead th {\n",
       "        text-align: right;\n",
       "    }\n",
       "</style>\n",
       "<table border=\"1\" class=\"dataframe\">\n",
       "  <thead>\n",
       "    <tr style=\"text-align: right;\">\n",
       "      <th></th>\n",
       "      <th>VehicleType</th>\n",
       "      <th>RegistrationYear</th>\n",
       "      <th>Power</th>\n",
       "      <th>Model</th>\n",
       "      <th>Kilometer</th>\n",
       "      <th>FuelType</th>\n",
       "      <th>Brand</th>\n",
       "      <th>Is_manual_gearbox</th>\n",
       "      <th>Was_not_repaired</th>\n",
       "    </tr>\n",
       "  </thead>\n",
       "  <tbody>\n",
       "    <tr>\n",
       "      <th>289043</th>\n",
       "      <td>sedan</td>\n",
       "      <td>2004</td>\n",
       "      <td>192</td>\n",
       "      <td>4748.965037</td>\n",
       "      <td>150000</td>\n",
       "      <td>petrol</td>\n",
       "      <td>4848.798739</td>\n",
       "      <td>1</td>\n",
       "      <td>0</td>\n",
       "    </tr>\n",
       "    <tr>\n",
       "      <th>22368</th>\n",
       "      <td>bus</td>\n",
       "      <td>2004</td>\n",
       "      <td>75</td>\n",
       "      <td>3559.867876</td>\n",
       "      <td>150000</td>\n",
       "      <td>petrol</td>\n",
       "      <td>3801.388220</td>\n",
       "      <td>1</td>\n",
       "      <td>1</td>\n",
       "    </tr>\n",
       "    <tr>\n",
       "      <th>57682</th>\n",
       "      <td>bus</td>\n",
       "      <td>2006</td>\n",
       "      <td>105</td>\n",
       "      <td>5800.155853</td>\n",
       "      <td>150000</td>\n",
       "      <td>gasoline</td>\n",
       "      <td>4243.797164</td>\n",
       "      <td>1</td>\n",
       "      <td>0</td>\n",
       "    </tr>\n",
       "    <tr>\n",
       "      <th>7804</th>\n",
       "      <td>sedan</td>\n",
       "      <td>2007</td>\n",
       "      <td>105</td>\n",
       "      <td>4148.616761</td>\n",
       "      <td>150000</td>\n",
       "      <td>gasoline</td>\n",
       "      <td>4243.797164</td>\n",
       "      <td>1</td>\n",
       "      <td>0</td>\n",
       "    </tr>\n",
       "    <tr>\n",
       "      <th>190381</th>\n",
       "      <td>sedan</td>\n",
       "      <td>1991</td>\n",
       "      <td>179</td>\n",
       "      <td>5199.078873</td>\n",
       "      <td>150000</td>\n",
       "      <td>petrol</td>\n",
       "      <td>4458.007935</td>\n",
       "      <td>0</td>\n",
       "      <td>0</td>\n",
       "    </tr>\n",
       "  </tbody>\n",
       "</table>\n",
       "</div>"
      ],
      "text/plain": [
       "       VehicleType  RegistrationYear  Power        Model  Kilometer  FuelType  \\\n",
       "289043       sedan              2004    192  4748.965037     150000    petrol   \n",
       "22368          bus              2004     75  3559.867876     150000    petrol   \n",
       "57682          bus              2006    105  5800.155853     150000  gasoline   \n",
       "7804         sedan              2007    105  4148.616761     150000  gasoline   \n",
       "190381       sedan              1991    179  5199.078873     150000    petrol   \n",
       "\n",
       "              Brand  Is_manual_gearbox  Was_not_repaired  \n",
       "289043  4848.798739                  1                 0  \n",
       "22368   3801.388220                  1                 1  \n",
       "57682   4243.797164                  1                 0  \n",
       "7804    4243.797164                  1                 0  \n",
       "190381  4458.007935                  0                 0  "
      ]
     },
     "metadata": {},
     "output_type": "display_data"
    }
   ],
   "source": [
    "display(features_train_encoded.head(5))"
   ]
  },
  {
   "cell_type": "code",
   "execution_count": 50,
   "metadata": {},
   "outputs": [
    {
     "data": {
      "text/html": [
       "<div>\n",
       "<style scoped>\n",
       "    .dataframe tbody tr th:only-of-type {\n",
       "        vertical-align: middle;\n",
       "    }\n",
       "\n",
       "    .dataframe tbody tr th {\n",
       "        vertical-align: top;\n",
       "    }\n",
       "\n",
       "    .dataframe thead th {\n",
       "        text-align: right;\n",
       "    }\n",
       "</style>\n",
       "<table border=\"1\" class=\"dataframe\">\n",
       "  <thead>\n",
       "    <tr style=\"text-align: right;\">\n",
       "      <th></th>\n",
       "      <th>VehicleType</th>\n",
       "      <th>RegistrationYear</th>\n",
       "      <th>Power</th>\n",
       "      <th>Model</th>\n",
       "      <th>Kilometer</th>\n",
       "      <th>FuelType</th>\n",
       "      <th>Brand</th>\n",
       "      <th>Is_manual_gearbox</th>\n",
       "      <th>Was_not_repaired</th>\n",
       "    </tr>\n",
       "  </thead>\n",
       "  <tbody>\n",
       "    <tr>\n",
       "      <th>151485</th>\n",
       "      <td>coupe</td>\n",
       "      <td>2002</td>\n",
       "      <td>116</td>\n",
       "      <td>6695.494460</td>\n",
       "      <td>150000</td>\n",
       "      <td>petrol</td>\n",
       "      <td>6552.178103</td>\n",
       "      <td>1</td>\n",
       "      <td>0</td>\n",
       "    </tr>\n",
       "    <tr>\n",
       "      <th>31142</th>\n",
       "      <td>bus</td>\n",
       "      <td>2003</td>\n",
       "      <td>180</td>\n",
       "      <td>3634.741949</td>\n",
       "      <td>150000</td>\n",
       "      <td>gasoline</td>\n",
       "      <td>4243.797164</td>\n",
       "      <td>1</td>\n",
       "      <td>1</td>\n",
       "    </tr>\n",
       "    <tr>\n",
       "      <th>65028</th>\n",
       "      <td>sedan</td>\n",
       "      <td>2006</td>\n",
       "      <td>122</td>\n",
       "      <td>4512.061720</td>\n",
       "      <td>150000</td>\n",
       "      <td>gasoline</td>\n",
       "      <td>4458.007935</td>\n",
       "      <td>1</td>\n",
       "      <td>0</td>\n",
       "    </tr>\n",
       "    <tr>\n",
       "      <th>224740</th>\n",
       "      <td>sedan</td>\n",
       "      <td>2006</td>\n",
       "      <td>115</td>\n",
       "      <td>4204.321341</td>\n",
       "      <td>125000</td>\n",
       "      <td>petrol</td>\n",
       "      <td>4243.797164</td>\n",
       "      <td>0</td>\n",
       "      <td>0</td>\n",
       "    </tr>\n",
       "    <tr>\n",
       "      <th>85714</th>\n",
       "      <td>convertible</td>\n",
       "      <td>2009</td>\n",
       "      <td>120</td>\n",
       "      <td>3511.126827</td>\n",
       "      <td>60000</td>\n",
       "      <td>petrol</td>\n",
       "      <td>3518.942656</td>\n",
       "      <td>0</td>\n",
       "      <td>0</td>\n",
       "    </tr>\n",
       "  </tbody>\n",
       "</table>\n",
       "</div>"
      ],
      "text/plain": [
       "        VehicleType  RegistrationYear  Power        Model  Kilometer  \\\n",
       "151485        coupe              2002    116  6695.494460     150000   \n",
       "31142           bus              2003    180  3634.741949     150000   \n",
       "65028         sedan              2006    122  4512.061720     150000   \n",
       "224740        sedan              2006    115  4204.321341     125000   \n",
       "85714   convertible              2009    120  3511.126827      60000   \n",
       "\n",
       "        FuelType        Brand  Is_manual_gearbox  Was_not_repaired  \n",
       "151485    petrol  6552.178103                  1                 0  \n",
       "31142   gasoline  4243.797164                  1                 1  \n",
       "65028   gasoline  4458.007935                  1                 0  \n",
       "224740    petrol  4243.797164                  0                 0  \n",
       "85714     petrol  3518.942656                  0                 0  "
      ]
     },
     "metadata": {},
     "output_type": "display_data"
    }
   ],
   "source": [
    "display(features_test_encoded.head(5))"
   ]
  },
  {
   "cell_type": "code",
   "execution_count": 51,
   "metadata": {
    "scrolled": false
   },
   "outputs": [
    {
     "data": {
      "text/html": [
       "<div>\n",
       "<style scoped>\n",
       "    .dataframe tbody tr th:only-of-type {\n",
       "        vertical-align: middle;\n",
       "    }\n",
       "\n",
       "    .dataframe tbody tr th {\n",
       "        vertical-align: top;\n",
       "    }\n",
       "\n",
       "    .dataframe thead th {\n",
       "        text-align: right;\n",
       "    }\n",
       "</style>\n",
       "<table border=\"1\" class=\"dataframe\">\n",
       "  <thead>\n",
       "    <tr style=\"text-align: right;\">\n",
       "      <th></th>\n",
       "      <th>VehicleType</th>\n",
       "      <th>RegistrationYear</th>\n",
       "      <th>Power</th>\n",
       "      <th>Model</th>\n",
       "      <th>Kilometer</th>\n",
       "      <th>FuelType</th>\n",
       "      <th>Brand</th>\n",
       "      <th>Price</th>\n",
       "      <th>Is_manual_gearbox</th>\n",
       "      <th>Was_not_repaired</th>\n",
       "    </tr>\n",
       "  </thead>\n",
       "  <tbody>\n",
       "    <tr>\n",
       "      <th>2</th>\n",
       "      <td>suv</td>\n",
       "      <td>2004</td>\n",
       "      <td>163</td>\n",
       "      <td>grand</td>\n",
       "      <td>125000</td>\n",
       "      <td>gasoline</td>\n",
       "      <td>jeep</td>\n",
       "      <td>9800</td>\n",
       "      <td>0</td>\n",
       "      <td>1</td>\n",
       "    </tr>\n",
       "    <tr>\n",
       "      <th>3</th>\n",
       "      <td>small</td>\n",
       "      <td>2001</td>\n",
       "      <td>75</td>\n",
       "      <td>golf</td>\n",
       "      <td>150000</td>\n",
       "      <td>petrol</td>\n",
       "      <td>volkswagen</td>\n",
       "      <td>1500</td>\n",
       "      <td>1</td>\n",
       "      <td>0</td>\n",
       "    </tr>\n",
       "    <tr>\n",
       "      <th>4</th>\n",
       "      <td>small</td>\n",
       "      <td>2008</td>\n",
       "      <td>69</td>\n",
       "      <td>fabia</td>\n",
       "      <td>90000</td>\n",
       "      <td>gasoline</td>\n",
       "      <td>skoda</td>\n",
       "      <td>3600</td>\n",
       "      <td>1</td>\n",
       "      <td>0</td>\n",
       "    </tr>\n",
       "    <tr>\n",
       "      <th>6</th>\n",
       "      <td>convertible</td>\n",
       "      <td>2004</td>\n",
       "      <td>109</td>\n",
       "      <td>2_reihe</td>\n",
       "      <td>150000</td>\n",
       "      <td>petrol</td>\n",
       "      <td>peugeot</td>\n",
       "      <td>2200</td>\n",
       "      <td>1</td>\n",
       "      <td>0</td>\n",
       "    </tr>\n",
       "    <tr>\n",
       "      <th>9</th>\n",
       "      <td>small</td>\n",
       "      <td>1998</td>\n",
       "      <td>101</td>\n",
       "      <td>golf</td>\n",
       "      <td>150000</td>\n",
       "      <td>petrol</td>\n",
       "      <td>volkswagen</td>\n",
       "      <td>999</td>\n",
       "      <td>1</td>\n",
       "      <td>1</td>\n",
       "    </tr>\n",
       "  </tbody>\n",
       "</table>\n",
       "</div>"
      ],
      "text/plain": [
       "   VehicleType  RegistrationYear  Power    Model  Kilometer  FuelType  \\\n",
       "2          suv              2004    163    grand     125000  gasoline   \n",
       "3        small              2001     75     golf     150000    petrol   \n",
       "4        small              2008     69    fabia      90000  gasoline   \n",
       "6  convertible              2004    109  2_reihe     150000    petrol   \n",
       "9        small              1998    101     golf     150000    petrol   \n",
       "\n",
       "        Brand  Price  Is_manual_gearbox  Was_not_repaired  \n",
       "2        jeep   9800                  0                 1  \n",
       "3  volkswagen   1500                  1                 0  \n",
       "4       skoda   3600                  1                 0  \n",
       "6     peugeot   2200                  1                 0  \n",
       "9  volkswagen    999                  1                 1  "
      ]
     },
     "execution_count": 51,
     "metadata": {},
     "output_type": "execute_result"
    }
   ],
   "source": [
    "good_auto_df.head(5)"
   ]
  },
  {
   "cell_type": "markdown",
   "metadata": {},
   "source": [
    "**V4** Масштабирование признаков "
   ]
  },
  {
   "cell_type": "code",
   "execution_count": 52,
   "metadata": {},
   "outputs": [],
   "source": [
    "\n",
    "# Создание StandardScaler\n",
    "scaler = StandardScaler()\n",
    "\n",
    "# Масштабирование признаков\n",
    "scaled_features_train = scaler.fit_transform(features_train_final)\n",
    "scaled_features_test = scaler.transform(features_test_final)\n",
    "\n"
   ]
  },
  {
   "cell_type": "markdown",
   "metadata": {},
   "source": [
    "**Линейная регрессия**"
   ]
  },
  {
   "cell_type": "code",
   "execution_count": 53,
   "metadata": {
    "scrolled": true
   },
   "outputs": [
    {
     "name": "stdout",
     "output_type": "stream",
     "text": [
      "# Train for root_mean_squared_error\n",
      "\n",
      "Mean RMSE from CV of LinearRegression = 2508.8179721404786\n",
      "CPU times: total: 750 ms\n",
      "Wall time: 202 ms\n"
     ]
    }
   ],
   "source": [
    "%%time\n",
    "\n",
    "regressor = LinearRegression()\n",
    "print('# Train for root_mean_squared_error')\n",
    "print()\n",
    "cv_RMSE_LR = (cross_val_score(regressor, \n",
    "                             scaled_features_train , \n",
    "                             target_train, \n",
    "                             cv=5, \n",
    "                             scoring='neg_mean_squared_error').mean() * -1) ** 0.5\n",
    "print('Mean RMSE from CV of LinearRegression =', cv_RMSE_LR)"
   ]
  },
  {
   "cell_type": "markdown",
   "metadata": {},
   "source": [
    "**v2** Добавил выше"
   ]
  },
  {
   "cell_type": "markdown",
   "metadata": {},
   "source": [
    "**V4** Исправил"
   ]
  },
  {
   "cell_type": "code",
   "execution_count": 54,
   "metadata": {},
   "outputs": [
    {
     "name": "stdout",
     "output_type": "stream",
     "text": [
      "# Train for root_mean_squared_error\n",
      "\n",
      "Mean RMSE from CV of LinearRegression = 2508.8476302091776\n",
      "CPU times: total: 1.52 s\n",
      "Wall time: 319 ms\n"
     ]
    }
   ],
   "source": [
    "%%time\n",
    "\n",
    "# Попробуем с масштабируемыми признаками StandardScaler\n",
    "regressor = LinearRegression()\n",
    "scaller = StandardScaler()\n",
    "pipeline = Pipeline([(\"standard_scaller\", scaller),(\"linear_regression\", regressor)])\n",
    "print('# Train for root_mean_squared_error')\n",
    "print()\n",
    "cv_RMSE_LR_S = (cross_val_score(pipeline,\n",
    "                                scaled_features_train, \n",
    "                                target_train, \n",
    "                                cv=5, \n",
    "                                scoring='neg_mean_squared_error').mean() * -1) ** 0.5\n",
    "print('Mean RMSE from CV of LinearRegression =', cv_RMSE_LR_S)"
   ]
  },
  {
   "cell_type": "code",
   "execution_count": 86,
   "metadata": {
    "scrolled": true
   },
   "outputs": [
    {
     "name": "stdout",
     "output_type": "stream",
     "text": [
      "# Train for root_mean_squared_error\n",
      "\n",
      "Mean RMSE from CV of LinearRegression = 2508.7986390839797\n",
      "CPU times: total: 1.66 s\n",
      "Wall time: 394 ms\n"
     ]
    }
   ],
   "source": [
    "%%time\n",
    "\n",
    "# Попробуем с масштабируемыми признаками RobustScaler\n",
    "regressor = LinearRegression()\n",
    "scaller = RobustScaler()\n",
    "pipeline = Pipeline([(\"robust_scaller\", scaller),(\"linear_regression\", regressor)])\n",
    "print('# Train for root_mean_squared_error')\n",
    "print()\n",
    "cv_RMSE_LR_S = (cross_val_score(pipeline,\n",
    "                                scaled_features_train, \n",
    "                                target_train, \n",
    "                                cv=5, \n",
    "                                scoring='neg_mean_squared_error').mean() * -1) ** 0.5\n",
    "print('Mean RMSE from CV of LinearRegression =', cv_RMSE_LR_S)"
   ]
  },
  {
   "cell_type": "markdown",
   "metadata": {},
   "source": [
    "<div class=\"alert alert-block alert-warning\"> \n",
    "Вывод: При применении масштабирования к признакам модель показывает результаты хуже. </div>"
   ]
  },
  {
   "cell_type": "markdown",
   "metadata": {},
   "source": [
    "**DecisionTree регрессия**"
   ]
  },
  {
   "cell_type": "code",
   "execution_count": 87,
   "metadata": {
    "scrolled": true
   },
   "outputs": [
    {
     "name": "stdout",
     "output_type": "stream",
     "text": [
      "# Tuning hyper-parameters for root_mean_squared_error\n",
      "\n"
     ]
    },
    {
     "ename": "ValueError",
     "evalue": "\nAll the 40 fits failed.\nIt is very likely that your model is misconfigured.\nYou can try to debug the error by setting error_score='raise'.\n\nBelow are more details about the failures:\n--------------------------------------------------------------------------------\n40 fits failed with the following error:\nTraceback (most recent call last):\n  File \"C:\\Users\\QWE\\anaconda3\\lib\\site-packages\\sklearn\\model_selection\\_validation.py\", line 686, in _fit_and_score\n    estimator.fit(X_train, y_train, **fit_params)\n  File \"C:\\Users\\QWE\\anaconda3\\lib\\site-packages\\sklearn\\tree\\_classes.py\", line 1247, in fit\n    super().fit(\n  File \"C:\\Users\\QWE\\anaconda3\\lib\\site-packages\\sklearn\\tree\\_classes.py\", line 177, in fit\n    self._validate_params()\n  File \"C:\\Users\\QWE\\anaconda3\\lib\\site-packages\\sklearn\\base.py\", line 581, in _validate_params\n    validate_parameter_constraints(\n  File \"C:\\Users\\QWE\\anaconda3\\lib\\site-packages\\sklearn\\utils\\_param_validation.py\", line 97, in validate_parameter_constraints\n    raise InvalidParameterError(\nsklearn.utils._param_validation.InvalidParameterError: The 'criterion' parameter of DecisionTreeRegressor must be a str among {'friedman_mse', 'squared_error', 'poisson', 'absolute_error'}. Got 'mse' instead.\n",
     "output_type": "error",
     "traceback": [
      "\u001b[1;31m---------------------------------------------------------------------------\u001b[0m",
      "\u001b[1;31mValueError\u001b[0m                                Traceback (most recent call last)",
      "File \u001b[1;32m<timed exec>:13\u001b[0m\n",
      "File \u001b[1;32m~\\anaconda3\\lib\\site-packages\\sklearn\\model_selection\\_search.py:874\u001b[0m, in \u001b[0;36mBaseSearchCV.fit\u001b[1;34m(self, X, y, groups, **fit_params)\u001b[0m\n\u001b[0;32m    868\u001b[0m     results \u001b[38;5;241m=\u001b[39m \u001b[38;5;28mself\u001b[39m\u001b[38;5;241m.\u001b[39m_format_results(\n\u001b[0;32m    869\u001b[0m         all_candidate_params, n_splits, all_out, all_more_results\n\u001b[0;32m    870\u001b[0m     )\n\u001b[0;32m    872\u001b[0m     \u001b[38;5;28;01mreturn\u001b[39;00m results\n\u001b[1;32m--> 874\u001b[0m \u001b[38;5;28;43mself\u001b[39;49m\u001b[38;5;241;43m.\u001b[39;49m\u001b[43m_run_search\u001b[49m\u001b[43m(\u001b[49m\u001b[43mevaluate_candidates\u001b[49m\u001b[43m)\u001b[49m\n\u001b[0;32m    876\u001b[0m \u001b[38;5;66;03m# multimetric is determined here because in the case of a callable\u001b[39;00m\n\u001b[0;32m    877\u001b[0m \u001b[38;5;66;03m# self.scoring the return type is only known after calling\u001b[39;00m\n\u001b[0;32m    878\u001b[0m first_test_score \u001b[38;5;241m=\u001b[39m all_out[\u001b[38;5;241m0\u001b[39m][\u001b[38;5;124m\"\u001b[39m\u001b[38;5;124mtest_scores\u001b[39m\u001b[38;5;124m\"\u001b[39m]\n",
      "File \u001b[1;32m~\\anaconda3\\lib\\site-packages\\sklearn\\model_selection\\_search.py:1388\u001b[0m, in \u001b[0;36mGridSearchCV._run_search\u001b[1;34m(self, evaluate_candidates)\u001b[0m\n\u001b[0;32m   1386\u001b[0m \u001b[38;5;28;01mdef\u001b[39;00m \u001b[38;5;21m_run_search\u001b[39m(\u001b[38;5;28mself\u001b[39m, evaluate_candidates):\n\u001b[0;32m   1387\u001b[0m     \u001b[38;5;124;03m\"\"\"Search all candidates in param_grid\"\"\"\u001b[39;00m\n\u001b[1;32m-> 1388\u001b[0m     \u001b[43mevaluate_candidates\u001b[49m\u001b[43m(\u001b[49m\u001b[43mParameterGrid\u001b[49m\u001b[43m(\u001b[49m\u001b[38;5;28;43mself\u001b[39;49m\u001b[38;5;241;43m.\u001b[39;49m\u001b[43mparam_grid\u001b[49m\u001b[43m)\u001b[49m\u001b[43m)\u001b[49m\n",
      "File \u001b[1;32m~\\anaconda3\\lib\\site-packages\\sklearn\\model_selection\\_search.py:851\u001b[0m, in \u001b[0;36mBaseSearchCV.fit.<locals>.evaluate_candidates\u001b[1;34m(candidate_params, cv, more_results)\u001b[0m\n\u001b[0;32m    844\u001b[0m \u001b[38;5;28;01melif\u001b[39;00m \u001b[38;5;28mlen\u001b[39m(out) \u001b[38;5;241m!=\u001b[39m n_candidates \u001b[38;5;241m*\u001b[39m n_splits:\n\u001b[0;32m    845\u001b[0m     \u001b[38;5;28;01mraise\u001b[39;00m \u001b[38;5;167;01mValueError\u001b[39;00m(\n\u001b[0;32m    846\u001b[0m         \u001b[38;5;124m\"\u001b[39m\u001b[38;5;124mcv.split and cv.get_n_splits returned \u001b[39m\u001b[38;5;124m\"\u001b[39m\n\u001b[0;32m    847\u001b[0m         \u001b[38;5;124m\"\u001b[39m\u001b[38;5;124minconsistent results. Expected \u001b[39m\u001b[38;5;132;01m{}\u001b[39;00m\u001b[38;5;124m \u001b[39m\u001b[38;5;124m\"\u001b[39m\n\u001b[0;32m    848\u001b[0m         \u001b[38;5;124m\"\u001b[39m\u001b[38;5;124msplits, got \u001b[39m\u001b[38;5;132;01m{}\u001b[39;00m\u001b[38;5;124m\"\u001b[39m\u001b[38;5;241m.\u001b[39mformat(n_splits, \u001b[38;5;28mlen\u001b[39m(out) \u001b[38;5;241m/\u001b[39m\u001b[38;5;241m/\u001b[39m n_candidates)\n\u001b[0;32m    849\u001b[0m     )\n\u001b[1;32m--> 851\u001b[0m \u001b[43m_warn_or_raise_about_fit_failures\u001b[49m\u001b[43m(\u001b[49m\u001b[43mout\u001b[49m\u001b[43m,\u001b[49m\u001b[43m \u001b[49m\u001b[38;5;28;43mself\u001b[39;49m\u001b[38;5;241;43m.\u001b[39;49m\u001b[43merror_score\u001b[49m\u001b[43m)\u001b[49m\n\u001b[0;32m    853\u001b[0m \u001b[38;5;66;03m# For callable self.scoring, the return type is only know after\u001b[39;00m\n\u001b[0;32m    854\u001b[0m \u001b[38;5;66;03m# calling. If the return type is a dictionary, the error scores\u001b[39;00m\n\u001b[0;32m    855\u001b[0m \u001b[38;5;66;03m# can now be inserted with the correct key. The type checking\u001b[39;00m\n\u001b[0;32m    856\u001b[0m \u001b[38;5;66;03m# of out will be done in `_insert_error_scores`.\u001b[39;00m\n\u001b[0;32m    857\u001b[0m \u001b[38;5;28;01mif\u001b[39;00m callable(\u001b[38;5;28mself\u001b[39m\u001b[38;5;241m.\u001b[39mscoring):\n",
      "File \u001b[1;32m~\\anaconda3\\lib\\site-packages\\sklearn\\model_selection\\_validation.py:367\u001b[0m, in \u001b[0;36m_warn_or_raise_about_fit_failures\u001b[1;34m(results, error_score)\u001b[0m\n\u001b[0;32m    360\u001b[0m \u001b[38;5;28;01mif\u001b[39;00m num_failed_fits \u001b[38;5;241m==\u001b[39m num_fits:\n\u001b[0;32m    361\u001b[0m     all_fits_failed_message \u001b[38;5;241m=\u001b[39m (\n\u001b[0;32m    362\u001b[0m         \u001b[38;5;124mf\u001b[39m\u001b[38;5;124m\"\u001b[39m\u001b[38;5;130;01m\\n\u001b[39;00m\u001b[38;5;124mAll the \u001b[39m\u001b[38;5;132;01m{\u001b[39;00mnum_fits\u001b[38;5;132;01m}\u001b[39;00m\u001b[38;5;124m fits failed.\u001b[39m\u001b[38;5;130;01m\\n\u001b[39;00m\u001b[38;5;124m\"\u001b[39m\n\u001b[0;32m    363\u001b[0m         \u001b[38;5;124m\"\u001b[39m\u001b[38;5;124mIt is very likely that your model is misconfigured.\u001b[39m\u001b[38;5;130;01m\\n\u001b[39;00m\u001b[38;5;124m\"\u001b[39m\n\u001b[0;32m    364\u001b[0m         \u001b[38;5;124m\"\u001b[39m\u001b[38;5;124mYou can try to debug the error by setting error_score=\u001b[39m\u001b[38;5;124m'\u001b[39m\u001b[38;5;124mraise\u001b[39m\u001b[38;5;124m'\u001b[39m\u001b[38;5;124m.\u001b[39m\u001b[38;5;130;01m\\n\u001b[39;00m\u001b[38;5;130;01m\\n\u001b[39;00m\u001b[38;5;124m\"\u001b[39m\n\u001b[0;32m    365\u001b[0m         \u001b[38;5;124mf\u001b[39m\u001b[38;5;124m\"\u001b[39m\u001b[38;5;124mBelow are more details about the failures:\u001b[39m\u001b[38;5;130;01m\\n\u001b[39;00m\u001b[38;5;132;01m{\u001b[39;00mfit_errors_summary\u001b[38;5;132;01m}\u001b[39;00m\u001b[38;5;124m\"\u001b[39m\n\u001b[0;32m    366\u001b[0m     )\n\u001b[1;32m--> 367\u001b[0m     \u001b[38;5;28;01mraise\u001b[39;00m \u001b[38;5;167;01mValueError\u001b[39;00m(all_fits_failed_message)\n\u001b[0;32m    369\u001b[0m \u001b[38;5;28;01melse\u001b[39;00m:\n\u001b[0;32m    370\u001b[0m     some_fits_failed_message \u001b[38;5;241m=\u001b[39m (\n\u001b[0;32m    371\u001b[0m         \u001b[38;5;124mf\u001b[39m\u001b[38;5;124m\"\u001b[39m\u001b[38;5;130;01m\\n\u001b[39;00m\u001b[38;5;132;01m{\u001b[39;00mnum_failed_fits\u001b[38;5;132;01m}\u001b[39;00m\u001b[38;5;124m fits failed out of a total of \u001b[39m\u001b[38;5;132;01m{\u001b[39;00mnum_fits\u001b[38;5;132;01m}\u001b[39;00m\u001b[38;5;124m.\u001b[39m\u001b[38;5;130;01m\\n\u001b[39;00m\u001b[38;5;124m\"\u001b[39m\n\u001b[0;32m    372\u001b[0m         \u001b[38;5;124m\"\u001b[39m\u001b[38;5;124mThe score on these train-test partitions for these parameters\u001b[39m\u001b[38;5;124m\"\u001b[39m\n\u001b[1;32m   (...)\u001b[0m\n\u001b[0;32m    376\u001b[0m         \u001b[38;5;124mf\u001b[39m\u001b[38;5;124m\"\u001b[39m\u001b[38;5;124mBelow are more details about the failures:\u001b[39m\u001b[38;5;130;01m\\n\u001b[39;00m\u001b[38;5;132;01m{\u001b[39;00mfit_errors_summary\u001b[38;5;132;01m}\u001b[39;00m\u001b[38;5;124m\"\u001b[39m\n\u001b[0;32m    377\u001b[0m     )\n",
      "\u001b[1;31mValueError\u001b[0m: \nAll the 40 fits failed.\nIt is very likely that your model is misconfigured.\nYou can try to debug the error by setting error_score='raise'.\n\nBelow are more details about the failures:\n--------------------------------------------------------------------------------\n40 fits failed with the following error:\nTraceback (most recent call last):\n  File \"C:\\Users\\QWE\\anaconda3\\lib\\site-packages\\sklearn\\model_selection\\_validation.py\", line 686, in _fit_and_score\n    estimator.fit(X_train, y_train, **fit_params)\n  File \"C:\\Users\\QWE\\anaconda3\\lib\\site-packages\\sklearn\\tree\\_classes.py\", line 1247, in fit\n    super().fit(\n  File \"C:\\Users\\QWE\\anaconda3\\lib\\site-packages\\sklearn\\tree\\_classes.py\", line 177, in fit\n    self._validate_params()\n  File \"C:\\Users\\QWE\\anaconda3\\lib\\site-packages\\sklearn\\base.py\", line 581, in _validate_params\n    validate_parameter_constraints(\n  File \"C:\\Users\\QWE\\anaconda3\\lib\\site-packages\\sklearn\\utils\\_param_validation.py\", line 97, in validate_parameter_constraints\n    raise InvalidParameterError(\nsklearn.utils._param_validation.InvalidParameterError: The 'criterion' parameter of DecisionTreeRegressor must be a str among {'friedman_mse', 'squared_error', 'poisson', 'absolute_error'}. Got 'mse' instead.\n"
     ]
    }
   ],
   "source": [
    "%%time\n",
    "\n",
    "# Модель на масштабированных признаках \n",
    "\n",
    "\n",
    "regressor = DecisionTreeRegressor() \n",
    "max_depth_list = [x for x in range(2, 10)]\n",
    "hyperparams = [{'criterion':['mse'], \n",
    "                'max_depth':max_depth_list, \n",
    "                'random_state':[1515]}]\n",
    "\n",
    "print('# Tuning hyper-parameters for root_mean_squared_error')\n",
    "print()\n",
    "clf = GridSearchCV(regressor, hyperparams, scoring='neg_mean_squared_error')\n",
    "clf.fit(scaled_features_train, target_train)\n",
    "print(\"Best parameters set found on development set:\")\n",
    "print()\n",
    "print(clf.best_params_)\n",
    "print()\n",
    "print(\"Grid scores on development set:\")\n",
    "print()\n",
    "means = clf.cv_results_['mean_test_score']\n",
    "stds = clf.cv_results_['std_test_score']\n",
    "for mean, std, params in zip(means, stds, clf.cv_results_['params']):\n",
    "    print(\"%0.6f for %r\"% ((mean*-1)** 0.5, params))\n",
    "print()\n",
    "\n",
    "cv_RMSE_DTR_scaled = (max(means)*-1) ** 0.5"
   ]
  },
  {
   "cell_type": "markdown",
   "metadata": {},
   "source": [
    "<div class=\"alert alert-success\">\n",
    "<b>КОММЕНТАРИЙ V3</b> \t\n",
    "\n",
    "Здесь данные в которых всего 3 столбца (сравни rmse с rmse ниже).\n",
    "</div>"
   ]
  },
  {
   "cell_type": "code",
   "execution_count": 57,
   "metadata": {
    "scrolled": true
   },
   "outputs": [
    {
     "name": "stdout",
     "output_type": "stream",
     "text": [
      "# Tuning hyper-parameters for root_mean_squared_error\n",
      "\n"
     ]
    },
    {
     "ename": "ValueError",
     "evalue": "\nAll the 40 fits failed.\nIt is very likely that your model is misconfigured.\nYou can try to debug the error by setting error_score='raise'.\n\nBelow are more details about the failures:\n--------------------------------------------------------------------------------\n40 fits failed with the following error:\nTraceback (most recent call last):\n  File \"C:\\Users\\QWE\\anaconda3\\lib\\site-packages\\sklearn\\model_selection\\_validation.py\", line 686, in _fit_and_score\n    estimator.fit(X_train, y_train, **fit_params)\n  File \"C:\\Users\\QWE\\anaconda3\\lib\\site-packages\\sklearn\\tree\\_classes.py\", line 1247, in fit\n    super().fit(\n  File \"C:\\Users\\QWE\\anaconda3\\lib\\site-packages\\sklearn\\tree\\_classes.py\", line 177, in fit\n    self._validate_params()\n  File \"C:\\Users\\QWE\\anaconda3\\lib\\site-packages\\sklearn\\base.py\", line 581, in _validate_params\n    validate_parameter_constraints(\n  File \"C:\\Users\\QWE\\anaconda3\\lib\\site-packages\\sklearn\\utils\\_param_validation.py\", line 97, in validate_parameter_constraints\n    raise InvalidParameterError(\nsklearn.utils._param_validation.InvalidParameterError: The 'criterion' parameter of DecisionTreeRegressor must be a str among {'friedman_mse', 'squared_error', 'poisson', 'absolute_error'}. Got 'mse' instead.\n",
     "output_type": "error",
     "traceback": [
      "\u001b[1;31m---------------------------------------------------------------------------\u001b[0m",
      "\u001b[1;31mValueError\u001b[0m                                Traceback (most recent call last)",
      "File \u001b[1;32m<timed exec>:13\u001b[0m\n",
      "File \u001b[1;32m~\\anaconda3\\lib\\site-packages\\sklearn\\model_selection\\_search.py:874\u001b[0m, in \u001b[0;36mBaseSearchCV.fit\u001b[1;34m(self, X, y, groups, **fit_params)\u001b[0m\n\u001b[0;32m    868\u001b[0m     results \u001b[38;5;241m=\u001b[39m \u001b[38;5;28mself\u001b[39m\u001b[38;5;241m.\u001b[39m_format_results(\n\u001b[0;32m    869\u001b[0m         all_candidate_params, n_splits, all_out, all_more_results\n\u001b[0;32m    870\u001b[0m     )\n\u001b[0;32m    872\u001b[0m     \u001b[38;5;28;01mreturn\u001b[39;00m results\n\u001b[1;32m--> 874\u001b[0m \u001b[38;5;28;43mself\u001b[39;49m\u001b[38;5;241;43m.\u001b[39;49m\u001b[43m_run_search\u001b[49m\u001b[43m(\u001b[49m\u001b[43mevaluate_candidates\u001b[49m\u001b[43m)\u001b[49m\n\u001b[0;32m    876\u001b[0m \u001b[38;5;66;03m# multimetric is determined here because in the case of a callable\u001b[39;00m\n\u001b[0;32m    877\u001b[0m \u001b[38;5;66;03m# self.scoring the return type is only known after calling\u001b[39;00m\n\u001b[0;32m    878\u001b[0m first_test_score \u001b[38;5;241m=\u001b[39m all_out[\u001b[38;5;241m0\u001b[39m][\u001b[38;5;124m\"\u001b[39m\u001b[38;5;124mtest_scores\u001b[39m\u001b[38;5;124m\"\u001b[39m]\n",
      "File \u001b[1;32m~\\anaconda3\\lib\\site-packages\\sklearn\\model_selection\\_search.py:1388\u001b[0m, in \u001b[0;36mGridSearchCV._run_search\u001b[1;34m(self, evaluate_candidates)\u001b[0m\n\u001b[0;32m   1386\u001b[0m \u001b[38;5;28;01mdef\u001b[39;00m \u001b[38;5;21m_run_search\u001b[39m(\u001b[38;5;28mself\u001b[39m, evaluate_candidates):\n\u001b[0;32m   1387\u001b[0m     \u001b[38;5;124;03m\"\"\"Search all candidates in param_grid\"\"\"\u001b[39;00m\n\u001b[1;32m-> 1388\u001b[0m     \u001b[43mevaluate_candidates\u001b[49m\u001b[43m(\u001b[49m\u001b[43mParameterGrid\u001b[49m\u001b[43m(\u001b[49m\u001b[38;5;28;43mself\u001b[39;49m\u001b[38;5;241;43m.\u001b[39;49m\u001b[43mparam_grid\u001b[49m\u001b[43m)\u001b[49m\u001b[43m)\u001b[49m\n",
      "File \u001b[1;32m~\\anaconda3\\lib\\site-packages\\sklearn\\model_selection\\_search.py:851\u001b[0m, in \u001b[0;36mBaseSearchCV.fit.<locals>.evaluate_candidates\u001b[1;34m(candidate_params, cv, more_results)\u001b[0m\n\u001b[0;32m    844\u001b[0m \u001b[38;5;28;01melif\u001b[39;00m \u001b[38;5;28mlen\u001b[39m(out) \u001b[38;5;241m!=\u001b[39m n_candidates \u001b[38;5;241m*\u001b[39m n_splits:\n\u001b[0;32m    845\u001b[0m     \u001b[38;5;28;01mraise\u001b[39;00m \u001b[38;5;167;01mValueError\u001b[39;00m(\n\u001b[0;32m    846\u001b[0m         \u001b[38;5;124m\"\u001b[39m\u001b[38;5;124mcv.split and cv.get_n_splits returned \u001b[39m\u001b[38;5;124m\"\u001b[39m\n\u001b[0;32m    847\u001b[0m         \u001b[38;5;124m\"\u001b[39m\u001b[38;5;124minconsistent results. Expected \u001b[39m\u001b[38;5;132;01m{}\u001b[39;00m\u001b[38;5;124m \u001b[39m\u001b[38;5;124m\"\u001b[39m\n\u001b[0;32m    848\u001b[0m         \u001b[38;5;124m\"\u001b[39m\u001b[38;5;124msplits, got \u001b[39m\u001b[38;5;132;01m{}\u001b[39;00m\u001b[38;5;124m\"\u001b[39m\u001b[38;5;241m.\u001b[39mformat(n_splits, \u001b[38;5;28mlen\u001b[39m(out) \u001b[38;5;241m/\u001b[39m\u001b[38;5;241m/\u001b[39m n_candidates)\n\u001b[0;32m    849\u001b[0m     )\n\u001b[1;32m--> 851\u001b[0m \u001b[43m_warn_or_raise_about_fit_failures\u001b[49m\u001b[43m(\u001b[49m\u001b[43mout\u001b[49m\u001b[43m,\u001b[49m\u001b[43m \u001b[49m\u001b[38;5;28;43mself\u001b[39;49m\u001b[38;5;241;43m.\u001b[39;49m\u001b[43merror_score\u001b[49m\u001b[43m)\u001b[49m\n\u001b[0;32m    853\u001b[0m \u001b[38;5;66;03m# For callable self.scoring, the return type is only know after\u001b[39;00m\n\u001b[0;32m    854\u001b[0m \u001b[38;5;66;03m# calling. If the return type is a dictionary, the error scores\u001b[39;00m\n\u001b[0;32m    855\u001b[0m \u001b[38;5;66;03m# can now be inserted with the correct key. The type checking\u001b[39;00m\n\u001b[0;32m    856\u001b[0m \u001b[38;5;66;03m# of out will be done in `_insert_error_scores`.\u001b[39;00m\n\u001b[0;32m    857\u001b[0m \u001b[38;5;28;01mif\u001b[39;00m callable(\u001b[38;5;28mself\u001b[39m\u001b[38;5;241m.\u001b[39mscoring):\n",
      "File \u001b[1;32m~\\anaconda3\\lib\\site-packages\\sklearn\\model_selection\\_validation.py:367\u001b[0m, in \u001b[0;36m_warn_or_raise_about_fit_failures\u001b[1;34m(results, error_score)\u001b[0m\n\u001b[0;32m    360\u001b[0m \u001b[38;5;28;01mif\u001b[39;00m num_failed_fits \u001b[38;5;241m==\u001b[39m num_fits:\n\u001b[0;32m    361\u001b[0m     all_fits_failed_message \u001b[38;5;241m=\u001b[39m (\n\u001b[0;32m    362\u001b[0m         \u001b[38;5;124mf\u001b[39m\u001b[38;5;124m\"\u001b[39m\u001b[38;5;130;01m\\n\u001b[39;00m\u001b[38;5;124mAll the \u001b[39m\u001b[38;5;132;01m{\u001b[39;00mnum_fits\u001b[38;5;132;01m}\u001b[39;00m\u001b[38;5;124m fits failed.\u001b[39m\u001b[38;5;130;01m\\n\u001b[39;00m\u001b[38;5;124m\"\u001b[39m\n\u001b[0;32m    363\u001b[0m         \u001b[38;5;124m\"\u001b[39m\u001b[38;5;124mIt is very likely that your model is misconfigured.\u001b[39m\u001b[38;5;130;01m\\n\u001b[39;00m\u001b[38;5;124m\"\u001b[39m\n\u001b[0;32m    364\u001b[0m         \u001b[38;5;124m\"\u001b[39m\u001b[38;5;124mYou can try to debug the error by setting error_score=\u001b[39m\u001b[38;5;124m'\u001b[39m\u001b[38;5;124mraise\u001b[39m\u001b[38;5;124m'\u001b[39m\u001b[38;5;124m.\u001b[39m\u001b[38;5;130;01m\\n\u001b[39;00m\u001b[38;5;130;01m\\n\u001b[39;00m\u001b[38;5;124m\"\u001b[39m\n\u001b[0;32m    365\u001b[0m         \u001b[38;5;124mf\u001b[39m\u001b[38;5;124m\"\u001b[39m\u001b[38;5;124mBelow are more details about the failures:\u001b[39m\u001b[38;5;130;01m\\n\u001b[39;00m\u001b[38;5;132;01m{\u001b[39;00mfit_errors_summary\u001b[38;5;132;01m}\u001b[39;00m\u001b[38;5;124m\"\u001b[39m\n\u001b[0;32m    366\u001b[0m     )\n\u001b[1;32m--> 367\u001b[0m     \u001b[38;5;28;01mraise\u001b[39;00m \u001b[38;5;167;01mValueError\u001b[39;00m(all_fits_failed_message)\n\u001b[0;32m    369\u001b[0m \u001b[38;5;28;01melse\u001b[39;00m:\n\u001b[0;32m    370\u001b[0m     some_fits_failed_message \u001b[38;5;241m=\u001b[39m (\n\u001b[0;32m    371\u001b[0m         \u001b[38;5;124mf\u001b[39m\u001b[38;5;124m\"\u001b[39m\u001b[38;5;130;01m\\n\u001b[39;00m\u001b[38;5;132;01m{\u001b[39;00mnum_failed_fits\u001b[38;5;132;01m}\u001b[39;00m\u001b[38;5;124m fits failed out of a total of \u001b[39m\u001b[38;5;132;01m{\u001b[39;00mnum_fits\u001b[38;5;132;01m}\u001b[39;00m\u001b[38;5;124m.\u001b[39m\u001b[38;5;130;01m\\n\u001b[39;00m\u001b[38;5;124m\"\u001b[39m\n\u001b[0;32m    372\u001b[0m         \u001b[38;5;124m\"\u001b[39m\u001b[38;5;124mThe score on these train-test partitions for these parameters\u001b[39m\u001b[38;5;124m\"\u001b[39m\n\u001b[1;32m   (...)\u001b[0m\n\u001b[0;32m    376\u001b[0m         \u001b[38;5;124mf\u001b[39m\u001b[38;5;124m\"\u001b[39m\u001b[38;5;124mBelow are more details about the failures:\u001b[39m\u001b[38;5;130;01m\\n\u001b[39;00m\u001b[38;5;132;01m{\u001b[39;00mfit_errors_summary\u001b[38;5;132;01m}\u001b[39;00m\u001b[38;5;124m\"\u001b[39m\n\u001b[0;32m    377\u001b[0m     )\n",
      "\u001b[1;31mValueError\u001b[0m: \nAll the 40 fits failed.\nIt is very likely that your model is misconfigured.\nYou can try to debug the error by setting error_score='raise'.\n\nBelow are more details about the failures:\n--------------------------------------------------------------------------------\n40 fits failed with the following error:\nTraceback (most recent call last):\n  File \"C:\\Users\\QWE\\anaconda3\\lib\\site-packages\\sklearn\\model_selection\\_validation.py\", line 686, in _fit_and_score\n    estimator.fit(X_train, y_train, **fit_params)\n  File \"C:\\Users\\QWE\\anaconda3\\lib\\site-packages\\sklearn\\tree\\_classes.py\", line 1247, in fit\n    super().fit(\n  File \"C:\\Users\\QWE\\anaconda3\\lib\\site-packages\\sklearn\\tree\\_classes.py\", line 177, in fit\n    self._validate_params()\n  File \"C:\\Users\\QWE\\anaconda3\\lib\\site-packages\\sklearn\\base.py\", line 581, in _validate_params\n    validate_parameter_constraints(\n  File \"C:\\Users\\QWE\\anaconda3\\lib\\site-packages\\sklearn\\utils\\_param_validation.py\", line 97, in validate_parameter_constraints\n    raise InvalidParameterError(\nsklearn.utils._param_validation.InvalidParameterError: The 'criterion' parameter of DecisionTreeRegressor must be a str among {'friedman_mse', 'squared_error', 'poisson', 'absolute_error'}. Got 'mse' instead.\n"
     ]
    }
   ],
   "source": [
    "%%time\n",
    "\n",
    "# Модель на закодированных признаках \n",
    "\n",
    "\n",
    "regressor = DecisionTreeRegressor() \n",
    "max_depth_list = [x for x in range(2, 10)]\n",
    "hyperparams = [{'criterion':['mse'], \n",
    "                'max_depth':max_depth_list, \n",
    "                'random_state':[1515]}]\n",
    "\n",
    "print('# Tuning hyper-parameters for root_mean_squared_error')\n",
    "print()\n",
    "clf = GridSearchCV(regressor, hyperparams, scoring='neg_mean_squared_error')\n",
    "clf.fit(features_train_final, target_train)\n",
    "print(\"Best parameters set found on development set:\")\n",
    "print()\n",
    "print(clf.best_params_)\n",
    "print()\n",
    "print(\"Grid scores on development set:\")\n",
    "print()\n",
    "means = clf.cv_results_['mean_test_score']\n",
    "stds = clf.cv_results_['std_test_score']\n",
    "for mean, std, params in zip(means, stds, clf.cv_results_['params']):\n",
    "    print(\"%0.6f for %r\"% ((mean*-1)** 0.5, params))\n",
    "print()\n",
    "\n",
    "cv_RMSE_DTR_TE = (max(means)*-1) ** 0.5"
   ]
  },
  {
   "cell_type": "markdown",
   "metadata": {},
   "source": [
    "Регрессия CatBoostRegressor"
   ]
  },
  {
   "cell_type": "code",
   "execution_count": 88,
   "metadata": {
    "scrolled": true
   },
   "outputs": [
    {
     "name": "stdout",
     "output_type": "stream",
     "text": [
      "# Tuning hyper-parameters for root_mean_squared_error\n",
      "\n"
     ]
    },
    {
     "ename": "KeyboardInterrupt",
     "evalue": "",
     "output_type": "error",
     "traceback": [
      "\u001b[1;31m---------------------------------------------------------------------------\u001b[0m",
      "\u001b[1;31mKeyboardInterrupt\u001b[0m                         Traceback (most recent call last)",
      "File \u001b[1;32m<timed exec>:11\u001b[0m\n",
      "File \u001b[1;32m~\\anaconda3\\lib\\site-packages\\sklearn\\model_selection\\_search.py:874\u001b[0m, in \u001b[0;36mBaseSearchCV.fit\u001b[1;34m(self, X, y, groups, **fit_params)\u001b[0m\n\u001b[0;32m    868\u001b[0m     results \u001b[38;5;241m=\u001b[39m \u001b[38;5;28mself\u001b[39m\u001b[38;5;241m.\u001b[39m_format_results(\n\u001b[0;32m    869\u001b[0m         all_candidate_params, n_splits, all_out, all_more_results\n\u001b[0;32m    870\u001b[0m     )\n\u001b[0;32m    872\u001b[0m     \u001b[38;5;28;01mreturn\u001b[39;00m results\n\u001b[1;32m--> 874\u001b[0m \u001b[38;5;28;43mself\u001b[39;49m\u001b[38;5;241;43m.\u001b[39;49m\u001b[43m_run_search\u001b[49m\u001b[43m(\u001b[49m\u001b[43mevaluate_candidates\u001b[49m\u001b[43m)\u001b[49m\n\u001b[0;32m    876\u001b[0m \u001b[38;5;66;03m# multimetric is determined here because in the case of a callable\u001b[39;00m\n\u001b[0;32m    877\u001b[0m \u001b[38;5;66;03m# self.scoring the return type is only known after calling\u001b[39;00m\n\u001b[0;32m    878\u001b[0m first_test_score \u001b[38;5;241m=\u001b[39m all_out[\u001b[38;5;241m0\u001b[39m][\u001b[38;5;124m\"\u001b[39m\u001b[38;5;124mtest_scores\u001b[39m\u001b[38;5;124m\"\u001b[39m]\n",
      "File \u001b[1;32m~\\anaconda3\\lib\\site-packages\\sklearn\\model_selection\\_search.py:1388\u001b[0m, in \u001b[0;36mGridSearchCV._run_search\u001b[1;34m(self, evaluate_candidates)\u001b[0m\n\u001b[0;32m   1386\u001b[0m \u001b[38;5;28;01mdef\u001b[39;00m \u001b[38;5;21m_run_search\u001b[39m(\u001b[38;5;28mself\u001b[39m, evaluate_candidates):\n\u001b[0;32m   1387\u001b[0m     \u001b[38;5;124;03m\"\"\"Search all candidates in param_grid\"\"\"\u001b[39;00m\n\u001b[1;32m-> 1388\u001b[0m     \u001b[43mevaluate_candidates\u001b[49m\u001b[43m(\u001b[49m\u001b[43mParameterGrid\u001b[49m\u001b[43m(\u001b[49m\u001b[38;5;28;43mself\u001b[39;49m\u001b[38;5;241;43m.\u001b[39;49m\u001b[43mparam_grid\u001b[49m\u001b[43m)\u001b[49m\u001b[43m)\u001b[49m\n",
      "File \u001b[1;32m~\\anaconda3\\lib\\site-packages\\sklearn\\model_selection\\_search.py:821\u001b[0m, in \u001b[0;36mBaseSearchCV.fit.<locals>.evaluate_candidates\u001b[1;34m(candidate_params, cv, more_results)\u001b[0m\n\u001b[0;32m    813\u001b[0m \u001b[38;5;28;01mif\u001b[39;00m \u001b[38;5;28mself\u001b[39m\u001b[38;5;241m.\u001b[39mverbose \u001b[38;5;241m>\u001b[39m \u001b[38;5;241m0\u001b[39m:\n\u001b[0;32m    814\u001b[0m     \u001b[38;5;28mprint\u001b[39m(\n\u001b[0;32m    815\u001b[0m         \u001b[38;5;124m\"\u001b[39m\u001b[38;5;124mFitting \u001b[39m\u001b[38;5;132;01m{0}\u001b[39;00m\u001b[38;5;124m folds for each of \u001b[39m\u001b[38;5;132;01m{1}\u001b[39;00m\u001b[38;5;124m candidates,\u001b[39m\u001b[38;5;124m\"\u001b[39m\n\u001b[0;32m    816\u001b[0m         \u001b[38;5;124m\"\u001b[39m\u001b[38;5;124m totalling \u001b[39m\u001b[38;5;132;01m{2}\u001b[39;00m\u001b[38;5;124m fits\u001b[39m\u001b[38;5;124m\"\u001b[39m\u001b[38;5;241m.\u001b[39mformat(\n\u001b[0;32m    817\u001b[0m             n_splits, n_candidates, n_candidates \u001b[38;5;241m*\u001b[39m n_splits\n\u001b[0;32m    818\u001b[0m         )\n\u001b[0;32m    819\u001b[0m     )\n\u001b[1;32m--> 821\u001b[0m out \u001b[38;5;241m=\u001b[39m \u001b[43mparallel\u001b[49m\u001b[43m(\u001b[49m\n\u001b[0;32m    822\u001b[0m \u001b[43m    \u001b[49m\u001b[43mdelayed\u001b[49m\u001b[43m(\u001b[49m\u001b[43m_fit_and_score\u001b[49m\u001b[43m)\u001b[49m\u001b[43m(\u001b[49m\n\u001b[0;32m    823\u001b[0m \u001b[43m        \u001b[49m\u001b[43mclone\u001b[49m\u001b[43m(\u001b[49m\u001b[43mbase_estimator\u001b[49m\u001b[43m)\u001b[49m\u001b[43m,\u001b[49m\n\u001b[0;32m    824\u001b[0m \u001b[43m        \u001b[49m\u001b[43mX\u001b[49m\u001b[43m,\u001b[49m\n\u001b[0;32m    825\u001b[0m \u001b[43m        \u001b[49m\u001b[43my\u001b[49m\u001b[43m,\u001b[49m\n\u001b[0;32m    826\u001b[0m \u001b[43m        \u001b[49m\u001b[43mtrain\u001b[49m\u001b[38;5;241;43m=\u001b[39;49m\u001b[43mtrain\u001b[49m\u001b[43m,\u001b[49m\n\u001b[0;32m    827\u001b[0m \u001b[43m        \u001b[49m\u001b[43mtest\u001b[49m\u001b[38;5;241;43m=\u001b[39;49m\u001b[43mtest\u001b[49m\u001b[43m,\u001b[49m\n\u001b[0;32m    828\u001b[0m \u001b[43m        \u001b[49m\u001b[43mparameters\u001b[49m\u001b[38;5;241;43m=\u001b[39;49m\u001b[43mparameters\u001b[49m\u001b[43m,\u001b[49m\n\u001b[0;32m    829\u001b[0m \u001b[43m        \u001b[49m\u001b[43msplit_progress\u001b[49m\u001b[38;5;241;43m=\u001b[39;49m\u001b[43m(\u001b[49m\u001b[43msplit_idx\u001b[49m\u001b[43m,\u001b[49m\u001b[43m \u001b[49m\u001b[43mn_splits\u001b[49m\u001b[43m)\u001b[49m\u001b[43m,\u001b[49m\n\u001b[0;32m    830\u001b[0m \u001b[43m        \u001b[49m\u001b[43mcandidate_progress\u001b[49m\u001b[38;5;241;43m=\u001b[39;49m\u001b[43m(\u001b[49m\u001b[43mcand_idx\u001b[49m\u001b[43m,\u001b[49m\u001b[43m \u001b[49m\u001b[43mn_candidates\u001b[49m\u001b[43m)\u001b[49m\u001b[43m,\u001b[49m\n\u001b[0;32m    831\u001b[0m \u001b[43m        \u001b[49m\u001b[38;5;241;43m*\u001b[39;49m\u001b[38;5;241;43m*\u001b[39;49m\u001b[43mfit_and_score_kwargs\u001b[49m\u001b[43m,\u001b[49m\n\u001b[0;32m    832\u001b[0m \u001b[43m    \u001b[49m\u001b[43m)\u001b[49m\n\u001b[0;32m    833\u001b[0m \u001b[43m    \u001b[49m\u001b[38;5;28;43;01mfor\u001b[39;49;00m\u001b[43m \u001b[49m\u001b[43m(\u001b[49m\u001b[43mcand_idx\u001b[49m\u001b[43m,\u001b[49m\u001b[43m \u001b[49m\u001b[43mparameters\u001b[49m\u001b[43m)\u001b[49m\u001b[43m,\u001b[49m\u001b[43m \u001b[49m\u001b[43m(\u001b[49m\u001b[43msplit_idx\u001b[49m\u001b[43m,\u001b[49m\u001b[43m \u001b[49m\u001b[43m(\u001b[49m\u001b[43mtrain\u001b[49m\u001b[43m,\u001b[49m\u001b[43m \u001b[49m\u001b[43mtest\u001b[49m\u001b[43m)\u001b[49m\u001b[43m)\u001b[49m\u001b[43m \u001b[49m\u001b[38;5;129;43;01min\u001b[39;49;00m\u001b[43m \u001b[49m\u001b[43mproduct\u001b[49m\u001b[43m(\u001b[49m\n\u001b[0;32m    834\u001b[0m \u001b[43m        \u001b[49m\u001b[38;5;28;43menumerate\u001b[39;49m\u001b[43m(\u001b[49m\u001b[43mcandidate_params\u001b[49m\u001b[43m)\u001b[49m\u001b[43m,\u001b[49m\u001b[43m \u001b[49m\u001b[38;5;28;43menumerate\u001b[39;49m\u001b[43m(\u001b[49m\u001b[43mcv\u001b[49m\u001b[38;5;241;43m.\u001b[39;49m\u001b[43msplit\u001b[49m\u001b[43m(\u001b[49m\u001b[43mX\u001b[49m\u001b[43m,\u001b[49m\u001b[43m \u001b[49m\u001b[43my\u001b[49m\u001b[43m,\u001b[49m\u001b[43m \u001b[49m\u001b[43mgroups\u001b[49m\u001b[43m)\u001b[49m\u001b[43m)\u001b[49m\n\u001b[0;32m    835\u001b[0m \u001b[43m    \u001b[49m\u001b[43m)\u001b[49m\n\u001b[0;32m    836\u001b[0m \u001b[43m\u001b[49m\u001b[43m)\u001b[49m\n\u001b[0;32m    838\u001b[0m \u001b[38;5;28;01mif\u001b[39;00m \u001b[38;5;28mlen\u001b[39m(out) \u001b[38;5;241m<\u001b[39m \u001b[38;5;241m1\u001b[39m:\n\u001b[0;32m    839\u001b[0m     \u001b[38;5;28;01mraise\u001b[39;00m \u001b[38;5;167;01mValueError\u001b[39;00m(\n\u001b[0;32m    840\u001b[0m         \u001b[38;5;124m\"\u001b[39m\u001b[38;5;124mNo fits were performed. \u001b[39m\u001b[38;5;124m\"\u001b[39m\n\u001b[0;32m    841\u001b[0m         \u001b[38;5;124m\"\u001b[39m\u001b[38;5;124mWas the CV iterator empty? \u001b[39m\u001b[38;5;124m\"\u001b[39m\n\u001b[0;32m    842\u001b[0m         \u001b[38;5;124m\"\u001b[39m\u001b[38;5;124mWere there no candidates?\u001b[39m\u001b[38;5;124m\"\u001b[39m\n\u001b[0;32m    843\u001b[0m     )\n",
      "File \u001b[1;32m~\\anaconda3\\lib\\site-packages\\sklearn\\utils\\parallel.py:63\u001b[0m, in \u001b[0;36mParallel.__call__\u001b[1;34m(self, iterable)\u001b[0m\n\u001b[0;32m     58\u001b[0m config \u001b[38;5;241m=\u001b[39m get_config()\n\u001b[0;32m     59\u001b[0m iterable_with_config \u001b[38;5;241m=\u001b[39m (\n\u001b[0;32m     60\u001b[0m     (_with_config(delayed_func, config), args, kwargs)\n\u001b[0;32m     61\u001b[0m     \u001b[38;5;28;01mfor\u001b[39;00m delayed_func, args, kwargs \u001b[38;5;129;01min\u001b[39;00m iterable\n\u001b[0;32m     62\u001b[0m )\n\u001b[1;32m---> 63\u001b[0m \u001b[38;5;28;01mreturn\u001b[39;00m \u001b[38;5;28;43msuper\u001b[39;49m\u001b[43m(\u001b[49m\u001b[43m)\u001b[49m\u001b[38;5;241;43m.\u001b[39;49m\u001b[38;5;21;43m__call__\u001b[39;49m\u001b[43m(\u001b[49m\u001b[43miterable_with_config\u001b[49m\u001b[43m)\u001b[49m\n",
      "File \u001b[1;32m~\\anaconda3\\lib\\site-packages\\joblib\\parallel.py:1051\u001b[0m, in \u001b[0;36mParallel.__call__\u001b[1;34m(self, iterable)\u001b[0m\n\u001b[0;32m   1048\u001b[0m \u001b[38;5;28;01mif\u001b[39;00m \u001b[38;5;28mself\u001b[39m\u001b[38;5;241m.\u001b[39mdispatch_one_batch(iterator):\n\u001b[0;32m   1049\u001b[0m     \u001b[38;5;28mself\u001b[39m\u001b[38;5;241m.\u001b[39m_iterating \u001b[38;5;241m=\u001b[39m \u001b[38;5;28mself\u001b[39m\u001b[38;5;241m.\u001b[39m_original_iterator \u001b[38;5;129;01mis\u001b[39;00m \u001b[38;5;129;01mnot\u001b[39;00m \u001b[38;5;28;01mNone\u001b[39;00m\n\u001b[1;32m-> 1051\u001b[0m \u001b[38;5;28;01mwhile\u001b[39;00m \u001b[38;5;28;43mself\u001b[39;49m\u001b[38;5;241;43m.\u001b[39;49m\u001b[43mdispatch_one_batch\u001b[49m\u001b[43m(\u001b[49m\u001b[43miterator\u001b[49m\u001b[43m)\u001b[49m:\n\u001b[0;32m   1052\u001b[0m     \u001b[38;5;28;01mpass\u001b[39;00m\n\u001b[0;32m   1054\u001b[0m \u001b[38;5;28;01mif\u001b[39;00m pre_dispatch \u001b[38;5;241m==\u001b[39m \u001b[38;5;124m\"\u001b[39m\u001b[38;5;124mall\u001b[39m\u001b[38;5;124m\"\u001b[39m \u001b[38;5;129;01mor\u001b[39;00m n_jobs \u001b[38;5;241m==\u001b[39m \u001b[38;5;241m1\u001b[39m:\n\u001b[0;32m   1055\u001b[0m     \u001b[38;5;66;03m# The iterable was consumed all at once by the above for loop.\u001b[39;00m\n\u001b[0;32m   1056\u001b[0m     \u001b[38;5;66;03m# No need to wait for async callbacks to trigger to\u001b[39;00m\n\u001b[0;32m   1057\u001b[0m     \u001b[38;5;66;03m# consumption.\u001b[39;00m\n",
      "File \u001b[1;32m~\\anaconda3\\lib\\site-packages\\joblib\\parallel.py:864\u001b[0m, in \u001b[0;36mParallel.dispatch_one_batch\u001b[1;34m(self, iterator)\u001b[0m\n\u001b[0;32m    862\u001b[0m     \u001b[38;5;28;01mreturn\u001b[39;00m \u001b[38;5;28;01mFalse\u001b[39;00m\n\u001b[0;32m    863\u001b[0m \u001b[38;5;28;01melse\u001b[39;00m:\n\u001b[1;32m--> 864\u001b[0m     \u001b[38;5;28;43mself\u001b[39;49m\u001b[38;5;241;43m.\u001b[39;49m\u001b[43m_dispatch\u001b[49m\u001b[43m(\u001b[49m\u001b[43mtasks\u001b[49m\u001b[43m)\u001b[49m\n\u001b[0;32m    865\u001b[0m     \u001b[38;5;28;01mreturn\u001b[39;00m \u001b[38;5;28;01mTrue\u001b[39;00m\n",
      "File \u001b[1;32m~\\anaconda3\\lib\\site-packages\\joblib\\parallel.py:782\u001b[0m, in \u001b[0;36mParallel._dispatch\u001b[1;34m(self, batch)\u001b[0m\n\u001b[0;32m    780\u001b[0m \u001b[38;5;28;01mwith\u001b[39;00m \u001b[38;5;28mself\u001b[39m\u001b[38;5;241m.\u001b[39m_lock:\n\u001b[0;32m    781\u001b[0m     job_idx \u001b[38;5;241m=\u001b[39m \u001b[38;5;28mlen\u001b[39m(\u001b[38;5;28mself\u001b[39m\u001b[38;5;241m.\u001b[39m_jobs)\n\u001b[1;32m--> 782\u001b[0m     job \u001b[38;5;241m=\u001b[39m \u001b[38;5;28;43mself\u001b[39;49m\u001b[38;5;241;43m.\u001b[39;49m\u001b[43m_backend\u001b[49m\u001b[38;5;241;43m.\u001b[39;49m\u001b[43mapply_async\u001b[49m\u001b[43m(\u001b[49m\u001b[43mbatch\u001b[49m\u001b[43m,\u001b[49m\u001b[43m \u001b[49m\u001b[43mcallback\u001b[49m\u001b[38;5;241;43m=\u001b[39;49m\u001b[43mcb\u001b[49m\u001b[43m)\u001b[49m\n\u001b[0;32m    783\u001b[0m     \u001b[38;5;66;03m# A job can complete so quickly than its callback is\u001b[39;00m\n\u001b[0;32m    784\u001b[0m     \u001b[38;5;66;03m# called before we get here, causing self._jobs to\u001b[39;00m\n\u001b[0;32m    785\u001b[0m     \u001b[38;5;66;03m# grow. To ensure correct results ordering, .insert is\u001b[39;00m\n\u001b[0;32m    786\u001b[0m     \u001b[38;5;66;03m# used (rather than .append) in the following line\u001b[39;00m\n\u001b[0;32m    787\u001b[0m     \u001b[38;5;28mself\u001b[39m\u001b[38;5;241m.\u001b[39m_jobs\u001b[38;5;241m.\u001b[39minsert(job_idx, job)\n",
      "File \u001b[1;32m~\\anaconda3\\lib\\site-packages\\joblib\\_parallel_backends.py:208\u001b[0m, in \u001b[0;36mSequentialBackend.apply_async\u001b[1;34m(self, func, callback)\u001b[0m\n\u001b[0;32m    206\u001b[0m \u001b[38;5;28;01mdef\u001b[39;00m \u001b[38;5;21mapply_async\u001b[39m(\u001b[38;5;28mself\u001b[39m, func, callback\u001b[38;5;241m=\u001b[39m\u001b[38;5;28;01mNone\u001b[39;00m):\n\u001b[0;32m    207\u001b[0m     \u001b[38;5;124;03m\"\"\"Schedule a func to be run\"\"\"\u001b[39;00m\n\u001b[1;32m--> 208\u001b[0m     result \u001b[38;5;241m=\u001b[39m \u001b[43mImmediateResult\u001b[49m\u001b[43m(\u001b[49m\u001b[43mfunc\u001b[49m\u001b[43m)\u001b[49m\n\u001b[0;32m    209\u001b[0m     \u001b[38;5;28;01mif\u001b[39;00m callback:\n\u001b[0;32m    210\u001b[0m         callback(result)\n",
      "File \u001b[1;32m~\\anaconda3\\lib\\site-packages\\joblib\\_parallel_backends.py:572\u001b[0m, in \u001b[0;36mImmediateResult.__init__\u001b[1;34m(self, batch)\u001b[0m\n\u001b[0;32m    569\u001b[0m \u001b[38;5;28;01mdef\u001b[39;00m \u001b[38;5;21m__init__\u001b[39m(\u001b[38;5;28mself\u001b[39m, batch):\n\u001b[0;32m    570\u001b[0m     \u001b[38;5;66;03m# Don't delay the application, to avoid keeping the input\u001b[39;00m\n\u001b[0;32m    571\u001b[0m     \u001b[38;5;66;03m# arguments in memory\u001b[39;00m\n\u001b[1;32m--> 572\u001b[0m     \u001b[38;5;28mself\u001b[39m\u001b[38;5;241m.\u001b[39mresults \u001b[38;5;241m=\u001b[39m \u001b[43mbatch\u001b[49m\u001b[43m(\u001b[49m\u001b[43m)\u001b[49m\n",
      "File \u001b[1;32m~\\anaconda3\\lib\\site-packages\\joblib\\parallel.py:263\u001b[0m, in \u001b[0;36mBatchedCalls.__call__\u001b[1;34m(self)\u001b[0m\n\u001b[0;32m    259\u001b[0m \u001b[38;5;28;01mdef\u001b[39;00m \u001b[38;5;21m__call__\u001b[39m(\u001b[38;5;28mself\u001b[39m):\n\u001b[0;32m    260\u001b[0m     \u001b[38;5;66;03m# Set the default nested backend to self._backend but do not set the\u001b[39;00m\n\u001b[0;32m    261\u001b[0m     \u001b[38;5;66;03m# change the default number of processes to -1\u001b[39;00m\n\u001b[0;32m    262\u001b[0m     \u001b[38;5;28;01mwith\u001b[39;00m parallel_backend(\u001b[38;5;28mself\u001b[39m\u001b[38;5;241m.\u001b[39m_backend, n_jobs\u001b[38;5;241m=\u001b[39m\u001b[38;5;28mself\u001b[39m\u001b[38;5;241m.\u001b[39m_n_jobs):\n\u001b[1;32m--> 263\u001b[0m         \u001b[38;5;28;01mreturn\u001b[39;00m [func(\u001b[38;5;241m*\u001b[39margs, \u001b[38;5;241m*\u001b[39m\u001b[38;5;241m*\u001b[39mkwargs)\n\u001b[0;32m    264\u001b[0m                 \u001b[38;5;28;01mfor\u001b[39;00m func, args, kwargs \u001b[38;5;129;01min\u001b[39;00m \u001b[38;5;28mself\u001b[39m\u001b[38;5;241m.\u001b[39mitems]\n",
      "File \u001b[1;32m~\\anaconda3\\lib\\site-packages\\joblib\\parallel.py:263\u001b[0m, in \u001b[0;36m<listcomp>\u001b[1;34m(.0)\u001b[0m\n\u001b[0;32m    259\u001b[0m \u001b[38;5;28;01mdef\u001b[39;00m \u001b[38;5;21m__call__\u001b[39m(\u001b[38;5;28mself\u001b[39m):\n\u001b[0;32m    260\u001b[0m     \u001b[38;5;66;03m# Set the default nested backend to self._backend but do not set the\u001b[39;00m\n\u001b[0;32m    261\u001b[0m     \u001b[38;5;66;03m# change the default number of processes to -1\u001b[39;00m\n\u001b[0;32m    262\u001b[0m     \u001b[38;5;28;01mwith\u001b[39;00m parallel_backend(\u001b[38;5;28mself\u001b[39m\u001b[38;5;241m.\u001b[39m_backend, n_jobs\u001b[38;5;241m=\u001b[39m\u001b[38;5;28mself\u001b[39m\u001b[38;5;241m.\u001b[39m_n_jobs):\n\u001b[1;32m--> 263\u001b[0m         \u001b[38;5;28;01mreturn\u001b[39;00m [func(\u001b[38;5;241m*\u001b[39margs, \u001b[38;5;241m*\u001b[39m\u001b[38;5;241m*\u001b[39mkwargs)\n\u001b[0;32m    264\u001b[0m                 \u001b[38;5;28;01mfor\u001b[39;00m func, args, kwargs \u001b[38;5;129;01min\u001b[39;00m \u001b[38;5;28mself\u001b[39m\u001b[38;5;241m.\u001b[39mitems]\n",
      "File \u001b[1;32m~\\anaconda3\\lib\\site-packages\\sklearn\\utils\\parallel.py:123\u001b[0m, in \u001b[0;36m_FuncWrapper.__call__\u001b[1;34m(self, *args, **kwargs)\u001b[0m\n\u001b[0;32m    121\u001b[0m     config \u001b[38;5;241m=\u001b[39m {}\n\u001b[0;32m    122\u001b[0m \u001b[38;5;28;01mwith\u001b[39;00m config_context(\u001b[38;5;241m*\u001b[39m\u001b[38;5;241m*\u001b[39mconfig):\n\u001b[1;32m--> 123\u001b[0m     \u001b[38;5;28;01mreturn\u001b[39;00m \u001b[38;5;28mself\u001b[39m\u001b[38;5;241m.\u001b[39mfunction(\u001b[38;5;241m*\u001b[39margs, \u001b[38;5;241m*\u001b[39m\u001b[38;5;241m*\u001b[39mkwargs)\n",
      "File \u001b[1;32m~\\anaconda3\\lib\\site-packages\\sklearn\\model_selection\\_validation.py:686\u001b[0m, in \u001b[0;36m_fit_and_score\u001b[1;34m(estimator, X, y, scorer, train, test, verbose, parameters, fit_params, return_train_score, return_parameters, return_n_test_samples, return_times, return_estimator, split_progress, candidate_progress, error_score)\u001b[0m\n\u001b[0;32m    684\u001b[0m         estimator\u001b[38;5;241m.\u001b[39mfit(X_train, \u001b[38;5;241m*\u001b[39m\u001b[38;5;241m*\u001b[39mfit_params)\n\u001b[0;32m    685\u001b[0m     \u001b[38;5;28;01melse\u001b[39;00m:\n\u001b[1;32m--> 686\u001b[0m         estimator\u001b[38;5;241m.\u001b[39mfit(X_train, y_train, \u001b[38;5;241m*\u001b[39m\u001b[38;5;241m*\u001b[39mfit_params)\n\u001b[0;32m    688\u001b[0m \u001b[38;5;28;01mexcept\u001b[39;00m \u001b[38;5;167;01mException\u001b[39;00m:\n\u001b[0;32m    689\u001b[0m     \u001b[38;5;66;03m# Note fit time as time until error\u001b[39;00m\n\u001b[0;32m    690\u001b[0m     fit_time \u001b[38;5;241m=\u001b[39m time\u001b[38;5;241m.\u001b[39mtime() \u001b[38;5;241m-\u001b[39m start_time\n",
      "File \u001b[1;32m~\\anaconda3\\lib\\site-packages\\catboost\\core.py:5734\u001b[0m, in \u001b[0;36mCatBoostRegressor.fit\u001b[1;34m(self, X, y, cat_features, text_features, embedding_features, sample_weight, baseline, use_best_model, eval_set, verbose, logging_level, plot, plot_file, column_description, verbose_eval, metric_period, silent, early_stopping_rounds, save_snapshot, snapshot_file, snapshot_interval, init_model, callbacks, log_cout, log_cerr)\u001b[0m\n\u001b[0;32m   5731\u001b[0m \u001b[38;5;28;01mif\u001b[39;00m \u001b[38;5;124m'\u001b[39m\u001b[38;5;124mloss_function\u001b[39m\u001b[38;5;124m'\u001b[39m \u001b[38;5;129;01min\u001b[39;00m params:\n\u001b[0;32m   5732\u001b[0m     CatBoostRegressor\u001b[38;5;241m.\u001b[39m_check_is_compatible_loss(params[\u001b[38;5;124m'\u001b[39m\u001b[38;5;124mloss_function\u001b[39m\u001b[38;5;124m'\u001b[39m])\n\u001b[1;32m-> 5734\u001b[0m \u001b[38;5;28;01mreturn\u001b[39;00m \u001b[38;5;28;43mself\u001b[39;49m\u001b[38;5;241;43m.\u001b[39;49m\u001b[43m_fit\u001b[49m\u001b[43m(\u001b[49m\u001b[43mX\u001b[49m\u001b[43m,\u001b[49m\u001b[43m \u001b[49m\u001b[43my\u001b[49m\u001b[43m,\u001b[49m\u001b[43m \u001b[49m\u001b[43mcat_features\u001b[49m\u001b[43m,\u001b[49m\u001b[43m \u001b[49m\u001b[43mtext_features\u001b[49m\u001b[43m,\u001b[49m\u001b[43m \u001b[49m\u001b[43membedding_features\u001b[49m\u001b[43m,\u001b[49m\u001b[43m \u001b[49m\u001b[38;5;28;43;01mNone\u001b[39;49;00m\u001b[43m,\u001b[49m\u001b[43m \u001b[49m\u001b[43msample_weight\u001b[49m\u001b[43m,\u001b[49m\u001b[43m \u001b[49m\u001b[38;5;28;43;01mNone\u001b[39;49;00m\u001b[43m,\u001b[49m\u001b[43m \u001b[49m\u001b[38;5;28;43;01mNone\u001b[39;49;00m\u001b[43m,\u001b[49m\u001b[43m \u001b[49m\u001b[38;5;28;43;01mNone\u001b[39;49;00m\u001b[43m,\u001b[49m\u001b[43m \u001b[49m\u001b[38;5;28;43;01mNone\u001b[39;49;00m\u001b[43m,\u001b[49m\u001b[43m \u001b[49m\u001b[43mbaseline\u001b[49m\u001b[43m,\u001b[49m\n\u001b[0;32m   5735\u001b[0m \u001b[43m                 \u001b[49m\u001b[43muse_best_model\u001b[49m\u001b[43m,\u001b[49m\u001b[43m \u001b[49m\u001b[43meval_set\u001b[49m\u001b[43m,\u001b[49m\u001b[43m \u001b[49m\u001b[43mverbose\u001b[49m\u001b[43m,\u001b[49m\u001b[43m \u001b[49m\u001b[43mlogging_level\u001b[49m\u001b[43m,\u001b[49m\u001b[43m \u001b[49m\u001b[43mplot\u001b[49m\u001b[43m,\u001b[49m\u001b[43m \u001b[49m\u001b[43mplot_file\u001b[49m\u001b[43m,\u001b[49m\u001b[43m \u001b[49m\u001b[43mcolumn_description\u001b[49m\u001b[43m,\u001b[49m\n\u001b[0;32m   5736\u001b[0m \u001b[43m                 \u001b[49m\u001b[43mverbose_eval\u001b[49m\u001b[43m,\u001b[49m\u001b[43m \u001b[49m\u001b[43mmetric_period\u001b[49m\u001b[43m,\u001b[49m\u001b[43m \u001b[49m\u001b[43msilent\u001b[49m\u001b[43m,\u001b[49m\u001b[43m \u001b[49m\u001b[43mearly_stopping_rounds\u001b[49m\u001b[43m,\u001b[49m\n\u001b[0;32m   5737\u001b[0m \u001b[43m                 \u001b[49m\u001b[43msave_snapshot\u001b[49m\u001b[43m,\u001b[49m\u001b[43m \u001b[49m\u001b[43msnapshot_file\u001b[49m\u001b[43m,\u001b[49m\u001b[43m \u001b[49m\u001b[43msnapshot_interval\u001b[49m\u001b[43m,\u001b[49m\u001b[43m \u001b[49m\u001b[43minit_model\u001b[49m\u001b[43m,\u001b[49m\u001b[43m \u001b[49m\u001b[43mcallbacks\u001b[49m\u001b[43m,\u001b[49m\u001b[43m \u001b[49m\u001b[43mlog_cout\u001b[49m\u001b[43m,\u001b[49m\u001b[43m \u001b[49m\u001b[43mlog_cerr\u001b[49m\u001b[43m)\u001b[49m\n",
      "File \u001b[1;32m~\\anaconda3\\lib\\site-packages\\catboost\\core.py:2357\u001b[0m, in \u001b[0;36mCatBoost._fit\u001b[1;34m(self, X, y, cat_features, text_features, embedding_features, pairs, sample_weight, group_id, group_weight, subgroup_id, pairs_weight, baseline, use_best_model, eval_set, verbose, logging_level, plot, plot_file, column_description, verbose_eval, metric_period, silent, early_stopping_rounds, save_snapshot, snapshot_file, snapshot_interval, init_model, callbacks, log_cout, log_cerr)\u001b[0m\n\u001b[0;32m   2353\u001b[0m allow_clear_pool \u001b[38;5;241m=\u001b[39m train_params[\u001b[38;5;124m\"\u001b[39m\u001b[38;5;124mallow_clear_pool\u001b[39m\u001b[38;5;124m\"\u001b[39m]\n\u001b[0;32m   2355\u001b[0m \u001b[38;5;28;01mwith\u001b[39;00m log_fixup(log_cout, log_cerr), \\\n\u001b[0;32m   2356\u001b[0m     plot_wrapper(plot, plot_file, \u001b[38;5;124m'\u001b[39m\u001b[38;5;124mTraining plots\u001b[39m\u001b[38;5;124m'\u001b[39m, [_get_train_dir(\u001b[38;5;28mself\u001b[39m\u001b[38;5;241m.\u001b[39mget_params())]):\n\u001b[1;32m-> 2357\u001b[0m     \u001b[38;5;28;43mself\u001b[39;49m\u001b[38;5;241;43m.\u001b[39;49m\u001b[43m_train\u001b[49m\u001b[43m(\u001b[49m\n\u001b[0;32m   2358\u001b[0m \u001b[43m        \u001b[49m\u001b[43mtrain_pool\u001b[49m\u001b[43m,\u001b[49m\n\u001b[0;32m   2359\u001b[0m \u001b[43m        \u001b[49m\u001b[43mtrain_params\u001b[49m\u001b[43m[\u001b[49m\u001b[38;5;124;43m\"\u001b[39;49m\u001b[38;5;124;43meval_sets\u001b[39;49m\u001b[38;5;124;43m\"\u001b[39;49m\u001b[43m]\u001b[49m\u001b[43m,\u001b[49m\n\u001b[0;32m   2360\u001b[0m \u001b[43m        \u001b[49m\u001b[43mparams\u001b[49m\u001b[43m,\u001b[49m\n\u001b[0;32m   2361\u001b[0m \u001b[43m        \u001b[49m\u001b[43mallow_clear_pool\u001b[49m\u001b[43m,\u001b[49m\n\u001b[0;32m   2362\u001b[0m \u001b[43m        \u001b[49m\u001b[43mtrain_params\u001b[49m\u001b[43m[\u001b[49m\u001b[38;5;124;43m\"\u001b[39;49m\u001b[38;5;124;43minit_model\u001b[39;49m\u001b[38;5;124;43m\"\u001b[39;49m\u001b[43m]\u001b[49m\n\u001b[0;32m   2363\u001b[0m \u001b[43m    \u001b[49m\u001b[43m)\u001b[49m\n\u001b[0;32m   2365\u001b[0m \u001b[38;5;66;03m# Have property feature_importance possibly set\u001b[39;00m\n\u001b[0;32m   2366\u001b[0m loss \u001b[38;5;241m=\u001b[39m \u001b[38;5;28mself\u001b[39m\u001b[38;5;241m.\u001b[39m_object\u001b[38;5;241m.\u001b[39m_get_loss_function_name()\n",
      "File \u001b[1;32m~\\anaconda3\\lib\\site-packages\\catboost\\core.py:1761\u001b[0m, in \u001b[0;36m_CatBoostBase._train\u001b[1;34m(self, train_pool, test_pool, params, allow_clear_pool, init_model)\u001b[0m\n\u001b[0;32m   1760\u001b[0m \u001b[38;5;28;01mdef\u001b[39;00m \u001b[38;5;21m_train\u001b[39m(\u001b[38;5;28mself\u001b[39m, train_pool, test_pool, params, allow_clear_pool, init_model):\n\u001b[1;32m-> 1761\u001b[0m     \u001b[38;5;28;43mself\u001b[39;49m\u001b[38;5;241;43m.\u001b[39;49m\u001b[43m_object\u001b[49m\u001b[38;5;241;43m.\u001b[39;49m\u001b[43m_train\u001b[49m\u001b[43m(\u001b[49m\u001b[43mtrain_pool\u001b[49m\u001b[43m,\u001b[49m\u001b[43m \u001b[49m\u001b[43mtest_pool\u001b[49m\u001b[43m,\u001b[49m\u001b[43m \u001b[49m\u001b[43mparams\u001b[49m\u001b[43m,\u001b[49m\u001b[43m \u001b[49m\u001b[43mallow_clear_pool\u001b[49m\u001b[43m,\u001b[49m\u001b[43m \u001b[49m\u001b[43minit_model\u001b[49m\u001b[38;5;241;43m.\u001b[39;49m\u001b[43m_object\u001b[49m\u001b[43m \u001b[49m\u001b[38;5;28;43;01mif\u001b[39;49;00m\u001b[43m \u001b[49m\u001b[43minit_model\u001b[49m\u001b[43m \u001b[49m\u001b[38;5;28;43;01melse\u001b[39;49;00m\u001b[43m \u001b[49m\u001b[38;5;28;43;01mNone\u001b[39;49;00m\u001b[43m)\u001b[49m\n\u001b[0;32m   1762\u001b[0m     \u001b[38;5;28mself\u001b[39m\u001b[38;5;241m.\u001b[39m_set_trained_model_attributes()\n",
      "File \u001b[1;32m_catboost.pyx:4624\u001b[0m, in \u001b[0;36m_catboost._CatBoost._train\u001b[1;34m()\u001b[0m\n",
      "File \u001b[1;32m_catboost.pyx:4673\u001b[0m, in \u001b[0;36m_catboost._CatBoost._train\u001b[1;34m()\u001b[0m\n",
      "\u001b[1;31mKeyboardInterrupt\u001b[0m: "
     ]
    }
   ],
   "source": [
    "%%time\n",
    "\n",
    "# Модель на закодированных данных \n",
    "\n",
    "regressor = CatBoostRegressor() \n",
    "hyperparams = [{'learning_rate':[0.1, 0.5, 0.8],\n",
    "                'random_state':[1515],\n",
    "                'verbose':[False]}]\n",
    "\n",
    "print('# Tuning hyper-parameters for root_mean_squared_error')\n",
    "print()\n",
    "clf = GridSearchCV(regressor, hyperparams, scoring='neg_mean_squared_error')\n",
    "clf.fit(features_train_final, target_train)\n",
    "print(\"Best parameters set found on development set:\")\n",
    "print()\n",
    "print(clf.best_params_)\n",
    "print()\n",
    "print(\"Grid scores on development set:\")\n",
    "print()\n",
    "means = clf.cv_results_['mean_test_score']\n",
    "stds = clf.cv_results_['std_test_score']\n",
    "for mean, std, params in zip(means, stds, clf.cv_results_['params']):\n",
    "    print(\"%0.6f for %r\"% ((mean*-1)** 0.5, params))\n",
    "print()\n",
    "\n",
    "cv_RMSE_CBR = (max(means)*-1) ** 0.5"
   ]
  },
  {
   "cell_type": "code",
   "execution_count": 59,
   "metadata": {
    "scrolled": false
   },
   "outputs": [
    {
     "name": "stdout",
     "output_type": "stream",
     "text": [
      "# Train for root_mean_squared_error\n",
      "\n",
      "Mean RMSE from CV of CatBoostRegressor = 1226.5132901671284\n",
      "CPU times: total: 20 s\n",
      "Wall time: 34.4 s\n"
     ]
    }
   ],
   "source": [
    "%%time\n",
    "\n",
    "# Модель на оригинальных данных с указанием категорий\n",
    "\n",
    "\n",
    "regressor = CatBoostRegressor(learning_rate=0.5,\n",
    "                              iterations = 100,\n",
    "                              random_state=1515, \n",
    "                              verbose=False, \n",
    "                              cat_features=['VehicleType','FuelType','Brand','Model']) \n",
    "print('# Train for root_mean_squared_error')\n",
    "print()\n",
    "cv_RMSE_CBR_original = (cross_val_score(regressor,\n",
    "                                original_features_train, \n",
    "                                target_train, \n",
    "                                cv=5, \n",
    "                                scoring='neg_mean_squared_error').mean() * -1) ** 0.5\n",
    "print('Mean RMSE from CV of CatBoostRegressor =', cv_RMSE_CBR_original)"
   ]
  },
  {
   "cell_type": "markdown",
   "metadata": {},
   "source": [
    "**V3 LGBM регрессия считалась последний раз 2.5 часа, я так и не понял что поошло не так, может Юпитер сбоил ночью**"
   ]
  },
  {
   "cell_type": "markdown",
   "metadata": {},
   "source": [
    "Регрессия LGBM"
   ]
  },
  {
   "cell_type": "code",
   "execution_count": 60,
   "metadata": {
    "scrolled": false
   },
   "outputs": [
    {
     "name": "stdout",
     "output_type": "stream",
     "text": [
      "# Tuning hyper-parameters for root_mean_squared_error\n",
      "\n",
      "[LightGBM] [Warning] Auto-choosing row-wise multi-threading, the overhead of testing was 0.002320 seconds.\n",
      "You can set `force_row_wise=true` to remove the overhead.\n",
      "And if memory is not enough, you can set `force_col_wise=true`.\n",
      "[LightGBM] [Info] Total Bins 30\n",
      "[LightGBM] [Info] Number of data points in the train set: 106886, number of used features: 15\n",
      "[LightGBM] [Info] Start training from score 4153.202562\n",
      "[LightGBM] [Warning] Auto-choosing row-wise multi-threading, the overhead of testing was 0.000311 seconds.\n",
      "You can set `force_row_wise=true` to remove the overhead.\n",
      "And if memory is not enough, you can set `force_col_wise=true`.\n",
      "[LightGBM] [Info] Total Bins 30\n",
      "[LightGBM] [Info] Number of data points in the train set: 106886, number of used features: 15\n",
      "[LightGBM] [Info] Start training from score 4152.860309\n",
      "[LightGBM] [Warning] Auto-choosing row-wise multi-threading, the overhead of testing was 0.000298 seconds.\n",
      "You can set `force_row_wise=true` to remove the overhead.\n",
      "And if memory is not enough, you can set `force_col_wise=true`.\n",
      "[LightGBM] [Info] Total Bins 30\n",
      "[LightGBM] [Info] Number of data points in the train set: 106886, number of used features: 15\n",
      "[LightGBM] [Info] Start training from score 4157.676234\n",
      "[LightGBM] [Warning] Auto-choosing row-wise multi-threading, the overhead of testing was 0.000251 seconds.\n",
      "You can set `force_row_wise=true` to remove the overhead.\n",
      "And if memory is not enough, you can set `force_col_wise=true`.\n",
      "[LightGBM] [Info] Total Bins 30\n",
      "[LightGBM] [Info] Number of data points in the train set: 106887, number of used features: 15\n",
      "[LightGBM] [Info] Start training from score 4159.043457\n",
      "[LightGBM] [Warning] Auto-choosing row-wise multi-threading, the overhead of testing was 0.000301 seconds.\n",
      "You can set `force_row_wise=true` to remove the overhead.\n",
      "And if memory is not enough, you can set `force_col_wise=true`.\n",
      "[LightGBM] [Info] Total Bins 30\n",
      "[LightGBM] [Info] Number of data points in the train set: 106887, number of used features: 15\n",
      "[LightGBM] [Info] Start training from score 4146.354487\n",
      "[LightGBM] [Warning] Auto-choosing row-wise multi-threading, the overhead of testing was 0.000251 seconds.\n",
      "You can set `force_row_wise=true` to remove the overhead.\n",
      "And if memory is not enough, you can set `force_col_wise=true`.\n",
      "[LightGBM] [Info] Total Bins 30\n",
      "[LightGBM] [Info] Number of data points in the train set: 106886, number of used features: 15\n",
      "[LightGBM] [Info] Start training from score 4153.202562\n",
      "[LightGBM] [Warning] No further splits with positive gain, best gain: -inf\n",
      "[LightGBM] [Warning] No further splits with positive gain, best gain: -inf\n",
      "[LightGBM] [Warning] No further splits with positive gain, best gain: -inf\n",
      "[LightGBM] [Warning] No further splits with positive gain, best gain: -inf\n",
      "[LightGBM] [Warning] No further splits with positive gain, best gain: -inf\n",
      "[LightGBM] [Warning] No further splits with positive gain, best gain: -inf\n",
      "[LightGBM] [Warning] No further splits with positive gain, best gain: -inf\n",
      "[LightGBM] [Warning] No further splits with positive gain, best gain: -inf\n",
      "[LightGBM] [Warning] No further splits with positive gain, best gain: -inf\n",
      "[LightGBM] [Warning] No further splits with positive gain, best gain: -inf\n",
      "[LightGBM] [Warning] No further splits with positive gain, best gain: -inf\n",
      "[LightGBM] [Warning] No further splits with positive gain, best gain: -inf\n",
      "[LightGBM] [Warning] No further splits with positive gain, best gain: -inf\n",
      "[LightGBM] [Warning] No further splits with positive gain, best gain: -inf\n",
      "[LightGBM] [Warning] No further splits with positive gain, best gain: -inf\n",
      "[LightGBM] [Warning] No further splits with positive gain, best gain: -inf\n",
      "[LightGBM] [Warning] No further splits with positive gain, best gain: -inf\n",
      "[LightGBM] [Warning] No further splits with positive gain, best gain: -inf\n",
      "[LightGBM] [Warning] No further splits with positive gain, best gain: -inf\n",
      "[LightGBM] [Warning] No further splits with positive gain, best gain: -inf\n",
      "[LightGBM] [Warning] No further splits with positive gain, best gain: -inf\n",
      "[LightGBM] [Warning] No further splits with positive gain, best gain: -inf\n",
      "[LightGBM] [Warning] No further splits with positive gain, best gain: -inf\n",
      "[LightGBM] [Warning] No further splits with positive gain, best gain: -inf\n",
      "[LightGBM] [Warning] No further splits with positive gain, best gain: -inf\n",
      "[LightGBM] [Warning] No further splits with positive gain, best gain: -inf\n",
      "[LightGBM] [Warning] No further splits with positive gain, best gain: -inf\n",
      "[LightGBM] [Warning] No further splits with positive gain, best gain: -inf\n",
      "[LightGBM] [Warning] No further splits with positive gain, best gain: -inf\n",
      "[LightGBM] [Warning] No further splits with positive gain, best gain: -inf\n",
      "[LightGBM] [Warning] No further splits with positive gain, best gain: -inf\n",
      "[LightGBM] [Warning] No further splits with positive gain, best gain: -inf\n",
      "[LightGBM] [Warning] No further splits with positive gain, best gain: -inf\n",
      "[LightGBM] [Warning] No further splits with positive gain, best gain: -inf\n",
      "[LightGBM] [Warning] No further splits with positive gain, best gain: -inf\n",
      "[LightGBM] [Warning] No further splits with positive gain, best gain: -inf\n",
      "[LightGBM] [Warning] No further splits with positive gain, best gain: -inf\n",
      "[LightGBM] [Warning] No further splits with positive gain, best gain: -inf\n",
      "[LightGBM] [Warning] No further splits with positive gain, best gain: -inf\n",
      "[LightGBM] [Warning] No further splits with positive gain, best gain: -inf\n",
      "[LightGBM] [Warning] No further splits with positive gain, best gain: -inf\n",
      "[LightGBM] [Warning] No further splits with positive gain, best gain: -inf\n",
      "[LightGBM] [Warning] No further splits with positive gain, best gain: -inf\n",
      "[LightGBM] [Warning] No further splits with positive gain, best gain: -inf\n",
      "[LightGBM] [Warning] No further splits with positive gain, best gain: -inf\n",
      "[LightGBM] [Warning] No further splits with positive gain, best gain: -inf\n",
      "[LightGBM] [Warning] No further splits with positive gain, best gain: -inf\n",
      "[LightGBM] [Warning] No further splits with positive gain, best gain: -inf\n",
      "[LightGBM] [Warning] No further splits with positive gain, best gain: -inf\n",
      "[LightGBM] [Warning] No further splits with positive gain, best gain: -inf\n",
      "[LightGBM] [Warning] No further splits with positive gain, best gain: -inf\n",
      "[LightGBM] [Warning] No further splits with positive gain, best gain: -inf\n",
      "[LightGBM] [Warning] No further splits with positive gain, best gain: -inf\n",
      "[LightGBM] [Warning] No further splits with positive gain, best gain: -inf\n",
      "[LightGBM] [Warning] No further splits with positive gain, best gain: -inf\n",
      "[LightGBM] [Warning] No further splits with positive gain, best gain: -inf\n",
      "[LightGBM] [Warning] No further splits with positive gain, best gain: -inf\n",
      "[LightGBM] [Warning] No further splits with positive gain, best gain: -inf\n",
      "[LightGBM] [Warning] No further splits with positive gain, best gain: -inf\n",
      "[LightGBM] [Warning] No further splits with positive gain, best gain: -inf\n",
      "[LightGBM] [Warning] No further splits with positive gain, best gain: -inf\n",
      "[LightGBM] [Warning] No further splits with positive gain, best gain: -inf\n",
      "[LightGBM] [Warning] No further splits with positive gain, best gain: -inf\n",
      "[LightGBM] [Warning] No further splits with positive gain, best gain: -inf\n",
      "[LightGBM] [Warning] No further splits with positive gain, best gain: -inf\n",
      "[LightGBM] [Warning] No further splits with positive gain, best gain: -inf\n",
      "[LightGBM] [Warning] No further splits with positive gain, best gain: -inf\n",
      "[LightGBM] [Warning] No further splits with positive gain, best gain: -inf\n",
      "[LightGBM] [Warning] No further splits with positive gain, best gain: -inf\n",
      "[LightGBM] [Warning] No further splits with positive gain, best gain: -inf\n",
      "[LightGBM] [Warning] No further splits with positive gain, best gain: -inf\n",
      "[LightGBM] [Warning] No further splits with positive gain, best gain: -inf\n",
      "[LightGBM] [Warning] No further splits with positive gain, best gain: -inf\n",
      "[LightGBM] [Warning] No further splits with positive gain, best gain: -inf\n",
      "[LightGBM] [Warning] No further splits with positive gain, best gain: -inf\n",
      "[LightGBM] [Warning] No further splits with positive gain, best gain: -inf\n",
      "[LightGBM] [Warning] No further splits with positive gain, best gain: -inf\n",
      "[LightGBM] [Warning] No further splits with positive gain, best gain: -inf\n",
      "[LightGBM] [Warning] No further splits with positive gain, best gain: -inf\n",
      "[LightGBM] [Warning] No further splits with positive gain, best gain: -inf\n",
      "[LightGBM] [Warning] No further splits with positive gain, best gain: -inf\n",
      "[LightGBM] [Warning] No further splits with positive gain, best gain: -inf\n",
      "[LightGBM] [Warning] No further splits with positive gain, best gain: -inf\n",
      "[LightGBM] [Warning] No further splits with positive gain, best gain: -inf\n",
      "[LightGBM] [Warning] No further splits with positive gain, best gain: -inf\n",
      "[LightGBM] [Warning] No further splits with positive gain, best gain: -inf\n",
      "[LightGBM] [Warning] No further splits with positive gain, best gain: -inf\n",
      "[LightGBM] [Warning] No further splits with positive gain, best gain: -inf\n",
      "[LightGBM] [Warning] No further splits with positive gain, best gain: -inf\n",
      "[LightGBM] [Warning] No further splits with positive gain, best gain: -inf\n",
      "[LightGBM] [Warning] No further splits with positive gain, best gain: -inf\n",
      "[LightGBM] [Warning] No further splits with positive gain, best gain: -inf\n",
      "[LightGBM] [Warning] No further splits with positive gain, best gain: -inf\n",
      "[LightGBM] [Warning] No further splits with positive gain, best gain: -inf\n",
      "[LightGBM] [Warning] No further splits with positive gain, best gain: -inf\n",
      "[LightGBM] [Warning] No further splits with positive gain, best gain: -inf\n",
      "[LightGBM] [Warning] No further splits with positive gain, best gain: -inf\n",
      "[LightGBM] [Warning] No further splits with positive gain, best gain: -inf\n",
      "[LightGBM] [Warning] No further splits with positive gain, best gain: -inf\n",
      "[LightGBM] [Warning] No further splits with positive gain, best gain: -inf\n",
      "[LightGBM] [Warning] Auto-choosing row-wise multi-threading, the overhead of testing was 0.000334 seconds.\n",
      "You can set `force_row_wise=true` to remove the overhead.\n",
      "And if memory is not enough, you can set `force_col_wise=true`.\n",
      "[LightGBM] [Info] Total Bins 30\n",
      "[LightGBM] [Info] Number of data points in the train set: 106886, number of used features: 15\n",
      "[LightGBM] [Info] Start training from score 4152.860309\n",
      "[LightGBM] [Warning] No further splits with positive gain, best gain: -inf\n",
      "[LightGBM] [Warning] No further splits with positive gain, best gain: -inf\n",
      "[LightGBM] [Warning] No further splits with positive gain, best gain: -inf\n",
      "[LightGBM] [Warning] No further splits with positive gain, best gain: -inf\n",
      "[LightGBM] [Warning] No further splits with positive gain, best gain: -inf\n",
      "[LightGBM] [Warning] No further splits with positive gain, best gain: -inf\n",
      "[LightGBM] [Warning] No further splits with positive gain, best gain: -inf\n",
      "[LightGBM] [Warning] No further splits with positive gain, best gain: -inf\n",
      "[LightGBM] [Warning] No further splits with positive gain, best gain: -inf\n",
      "[LightGBM] [Warning] No further splits with positive gain, best gain: -inf\n",
      "[LightGBM] [Warning] No further splits with positive gain, best gain: -inf\n",
      "[LightGBM] [Warning] No further splits with positive gain, best gain: -inf\n",
      "[LightGBM] [Warning] No further splits with positive gain, best gain: -inf\n",
      "[LightGBM] [Warning] No further splits with positive gain, best gain: -inf\n",
      "[LightGBM] [Warning] No further splits with positive gain, best gain: -inf\n",
      "[LightGBM] [Warning] No further splits with positive gain, best gain: -inf\n",
      "[LightGBM] [Warning] No further splits with positive gain, best gain: -inf\n",
      "[LightGBM] [Warning] No further splits with positive gain, best gain: -inf\n",
      "[LightGBM] [Warning] No further splits with positive gain, best gain: -inf\n",
      "[LightGBM] [Warning] No further splits with positive gain, best gain: -inf\n",
      "[LightGBM] [Warning] No further splits with positive gain, best gain: -inf\n",
      "[LightGBM] [Warning] No further splits with positive gain, best gain: -inf\n",
      "[LightGBM] [Warning] No further splits with positive gain, best gain: -inf\n",
      "[LightGBM] [Warning] No further splits with positive gain, best gain: -inf\n",
      "[LightGBM] [Warning] No further splits with positive gain, best gain: -inf\n",
      "[LightGBM] [Warning] No further splits with positive gain, best gain: -inf\n",
      "[LightGBM] [Warning] No further splits with positive gain, best gain: -inf\n"
     ]
    },
    {
     "name": "stdout",
     "output_type": "stream",
     "text": [
      "[LightGBM] [Warning] No further splits with positive gain, best gain: -inf\n",
      "[LightGBM] [Warning] No further splits with positive gain, best gain: -inf\n",
      "[LightGBM] [Warning] No further splits with positive gain, best gain: -inf\n",
      "[LightGBM] [Warning] No further splits with positive gain, best gain: -inf\n",
      "[LightGBM] [Warning] No further splits with positive gain, best gain: -inf\n",
      "[LightGBM] [Warning] No further splits with positive gain, best gain: -inf\n",
      "[LightGBM] [Warning] No further splits with positive gain, best gain: -inf\n",
      "[LightGBM] [Warning] No further splits with positive gain, best gain: -inf\n",
      "[LightGBM] [Warning] No further splits with positive gain, best gain: -inf\n",
      "[LightGBM] [Warning] No further splits with positive gain, best gain: -inf\n",
      "[LightGBM] [Warning] No further splits with positive gain, best gain: -inf\n",
      "[LightGBM] [Warning] No further splits with positive gain, best gain: -inf\n",
      "[LightGBM] [Warning] No further splits with positive gain, best gain: -inf\n",
      "[LightGBM] [Warning] No further splits with positive gain, best gain: -inf\n",
      "[LightGBM] [Warning] No further splits with positive gain, best gain: -inf\n",
      "[LightGBM] [Warning] No further splits with positive gain, best gain: -inf\n",
      "[LightGBM] [Warning] No further splits with positive gain, best gain: -inf\n",
      "[LightGBM] [Warning] No further splits with positive gain, best gain: -inf\n",
      "[LightGBM] [Warning] No further splits with positive gain, best gain: -inf\n",
      "[LightGBM] [Warning] No further splits with positive gain, best gain: -inf\n",
      "[LightGBM] [Warning] No further splits with positive gain, best gain: -inf\n",
      "[LightGBM] [Warning] No further splits with positive gain, best gain: -inf\n",
      "[LightGBM] [Warning] No further splits with positive gain, best gain: -inf\n",
      "[LightGBM] [Warning] No further splits with positive gain, best gain: -inf\n",
      "[LightGBM] [Warning] No further splits with positive gain, best gain: -inf\n",
      "[LightGBM] [Warning] No further splits with positive gain, best gain: -inf\n",
      "[LightGBM] [Warning] No further splits with positive gain, best gain: -inf\n",
      "[LightGBM] [Warning] No further splits with positive gain, best gain: -inf\n",
      "[LightGBM] [Warning] No further splits with positive gain, best gain: -inf\n",
      "[LightGBM] [Warning] No further splits with positive gain, best gain: -inf\n",
      "[LightGBM] [Warning] No further splits with positive gain, best gain: -inf\n",
      "[LightGBM] [Warning] No further splits with positive gain, best gain: -inf\n",
      "[LightGBM] [Warning] No further splits with positive gain, best gain: -inf\n",
      "[LightGBM] [Warning] No further splits with positive gain, best gain: -inf\n",
      "[LightGBM] [Warning] No further splits with positive gain, best gain: -inf\n",
      "[LightGBM] [Warning] No further splits with positive gain, best gain: -inf\n",
      "[LightGBM] [Warning] No further splits with positive gain, best gain: -inf\n",
      "[LightGBM] [Warning] No further splits with positive gain, best gain: -inf\n",
      "[LightGBM] [Warning] No further splits with positive gain, best gain: -inf\n",
      "[LightGBM] [Warning] No further splits with positive gain, best gain: -inf\n",
      "[LightGBM] [Warning] No further splits with positive gain, best gain: -inf\n",
      "[LightGBM] [Warning] No further splits with positive gain, best gain: -inf\n",
      "[LightGBM] [Warning] No further splits with positive gain, best gain: -inf\n",
      "[LightGBM] [Warning] No further splits with positive gain, best gain: -inf\n",
      "[LightGBM] [Warning] No further splits with positive gain, best gain: -inf\n",
      "[LightGBM] [Warning] No further splits with positive gain, best gain: -inf\n",
      "[LightGBM] [Warning] No further splits with positive gain, best gain: -inf\n",
      "[LightGBM] [Warning] No further splits with positive gain, best gain: -inf\n",
      "[LightGBM] [Warning] No further splits with positive gain, best gain: -inf\n",
      "[LightGBM] [Warning] No further splits with positive gain, best gain: -inf\n",
      "[LightGBM] [Warning] No further splits with positive gain, best gain: -inf\n",
      "[LightGBM] [Warning] No further splits with positive gain, best gain: -inf\n",
      "[LightGBM] [Warning] No further splits with positive gain, best gain: -inf\n",
      "[LightGBM] [Warning] No further splits with positive gain, best gain: -inf\n",
      "[LightGBM] [Warning] No further splits with positive gain, best gain: -inf\n",
      "[LightGBM] [Warning] No further splits with positive gain, best gain: -inf\n",
      "[LightGBM] [Warning] No further splits with positive gain, best gain: -inf\n",
      "[LightGBM] [Warning] No further splits with positive gain, best gain: -inf\n",
      "[LightGBM] [Warning] No further splits with positive gain, best gain: -inf\n",
      "[LightGBM] [Warning] No further splits with positive gain, best gain: -inf\n",
      "[LightGBM] [Warning] No further splits with positive gain, best gain: -inf\n",
      "[LightGBM] [Warning] No further splits with positive gain, best gain: -inf\n",
      "[LightGBM] [Warning] No further splits with positive gain, best gain: -inf\n",
      "[LightGBM] [Warning] No further splits with positive gain, best gain: -inf\n",
      "[LightGBM] [Warning] No further splits with positive gain, best gain: -inf\n",
      "[LightGBM] [Warning] No further splits with positive gain, best gain: -inf\n",
      "[LightGBM] [Warning] No further splits with positive gain, best gain: -inf\n",
      "[LightGBM] [Warning] No further splits with positive gain, best gain: -inf\n",
      "[LightGBM] [Warning] No further splits with positive gain, best gain: -inf\n",
      "[LightGBM] [Warning] No further splits with positive gain, best gain: -inf\n",
      "[LightGBM] [Warning] No further splits with positive gain, best gain: -inf\n",
      "[LightGBM] [Warning] No further splits with positive gain, best gain: -inf\n",
      "[LightGBM] [Warning] No further splits with positive gain, best gain: -inf\n",
      "[LightGBM] [Warning] Auto-choosing row-wise multi-threading, the overhead of testing was 0.000290 seconds.\n",
      "You can set `force_row_wise=true` to remove the overhead.\n",
      "And if memory is not enough, you can set `force_col_wise=true`.\n",
      "[LightGBM] [Info] Total Bins 30\n",
      "[LightGBM] [Info] Number of data points in the train set: 106886, number of used features: 15\n",
      "[LightGBM] [Info] Start training from score 4157.676234\n",
      "[LightGBM] [Warning] No further splits with positive gain, best gain: -inf\n",
      "[LightGBM] [Warning] No further splits with positive gain, best gain: -inf\n",
      "[LightGBM] [Warning] No further splits with positive gain, best gain: -inf\n",
      "[LightGBM] [Warning] No further splits with positive gain, best gain: -inf\n",
      "[LightGBM] [Warning] No further splits with positive gain, best gain: -inf\n",
      "[LightGBM] [Warning] No further splits with positive gain, best gain: -inf\n",
      "[LightGBM] [Warning] No further splits with positive gain, best gain: -inf\n",
      "[LightGBM] [Warning] No further splits with positive gain, best gain: -inf\n",
      "[LightGBM] [Warning] No further splits with positive gain, best gain: -inf\n",
      "[LightGBM] [Warning] No further splits with positive gain, best gain: -inf\n",
      "[LightGBM] [Warning] No further splits with positive gain, best gain: -inf\n",
      "[LightGBM] [Warning] No further splits with positive gain, best gain: -inf\n",
      "[LightGBM] [Warning] No further splits with positive gain, best gain: -inf\n",
      "[LightGBM] [Warning] No further splits with positive gain, best gain: -inf\n",
      "[LightGBM] [Warning] No further splits with positive gain, best gain: -inf\n",
      "[LightGBM] [Warning] No further splits with positive gain, best gain: -inf\n",
      "[LightGBM] [Warning] No further splits with positive gain, best gain: -inf\n",
      "[LightGBM] [Warning] No further splits with positive gain, best gain: -inf\n",
      "[LightGBM] [Warning] No further splits with positive gain, best gain: -inf\n",
      "[LightGBM] [Warning] No further splits with positive gain, best gain: -inf\n",
      "[LightGBM] [Warning] No further splits with positive gain, best gain: -inf\n",
      "[LightGBM] [Warning] No further splits with positive gain, best gain: -inf\n",
      "[LightGBM] [Warning] No further splits with positive gain, best gain: -inf\n",
      "[LightGBM] [Warning] No further splits with positive gain, best gain: -inf\n",
      "[LightGBM] [Warning] No further splits with positive gain, best gain: -inf\n",
      "[LightGBM] [Warning] No further splits with positive gain, best gain: -inf\n",
      "[LightGBM] [Warning] No further splits with positive gain, best gain: -inf\n",
      "[LightGBM] [Warning] No further splits with positive gain, best gain: -inf\n",
      "[LightGBM] [Warning] No further splits with positive gain, best gain: -inf\n",
      "[LightGBM] [Warning] No further splits with positive gain, best gain: -inf\n",
      "[LightGBM] [Warning] No further splits with positive gain, best gain: -inf\n",
      "[LightGBM] [Warning] No further splits with positive gain, best gain: -inf\n",
      "[LightGBM] [Warning] No further splits with positive gain, best gain: -inf\n",
      "[LightGBM] [Warning] No further splits with positive gain, best gain: -inf\n",
      "[LightGBM] [Warning] No further splits with positive gain, best gain: -inf\n",
      "[LightGBM] [Warning] No further splits with positive gain, best gain: -inf\n",
      "[LightGBM] [Warning] No further splits with positive gain, best gain: -inf\n",
      "[LightGBM] [Warning] No further splits with positive gain, best gain: -inf\n",
      "[LightGBM] [Warning] No further splits with positive gain, best gain: -inf\n",
      "[LightGBM] [Warning] No further splits with positive gain, best gain: -inf\n",
      "[LightGBM] [Warning] No further splits with positive gain, best gain: -inf\n",
      "[LightGBM] [Warning] No further splits with positive gain, best gain: -inf\n",
      "[LightGBM] [Warning] No further splits with positive gain, best gain: -inf\n",
      "[LightGBM] [Warning] No further splits with positive gain, best gain: -inf\n",
      "[LightGBM] [Warning] No further splits with positive gain, best gain: -inf\n",
      "[LightGBM] [Warning] No further splits with positive gain, best gain: -inf\n",
      "[LightGBM] [Warning] No further splits with positive gain, best gain: -inf\n",
      "[LightGBM] [Warning] No further splits with positive gain, best gain: -inf\n",
      "[LightGBM] [Warning] No further splits with positive gain, best gain: -inf\n",
      "[LightGBM] [Warning] No further splits with positive gain, best gain: -inf\n",
      "[LightGBM] [Warning] No further splits with positive gain, best gain: -inf\n",
      "[LightGBM] [Warning] No further splits with positive gain, best gain: -inf\n",
      "[LightGBM] [Warning] No further splits with positive gain, best gain: -inf\n",
      "[LightGBM] [Warning] No further splits with positive gain, best gain: -inf\n",
      "[LightGBM] [Warning] No further splits with positive gain, best gain: -inf\n",
      "[LightGBM] [Warning] No further splits with positive gain, best gain: -inf\n",
      "[LightGBM] [Warning] No further splits with positive gain, best gain: -inf\n",
      "[LightGBM] [Warning] No further splits with positive gain, best gain: -inf\n",
      "[LightGBM] [Warning] No further splits with positive gain, best gain: -inf\n",
      "[LightGBM] [Warning] No further splits with positive gain, best gain: -inf\n",
      "[LightGBM] [Warning] No further splits with positive gain, best gain: -inf\n"
     ]
    },
    {
     "name": "stdout",
     "output_type": "stream",
     "text": [
      "[LightGBM] [Warning] No further splits with positive gain, best gain: -inf\n",
      "[LightGBM] [Warning] No further splits with positive gain, best gain: -inf\n",
      "[LightGBM] [Warning] No further splits with positive gain, best gain: -inf\n",
      "[LightGBM] [Warning] No further splits with positive gain, best gain: -inf\n",
      "[LightGBM] [Warning] No further splits with positive gain, best gain: -inf\n",
      "[LightGBM] [Warning] No further splits with positive gain, best gain: -inf\n",
      "[LightGBM] [Warning] No further splits with positive gain, best gain: -inf\n",
      "[LightGBM] [Warning] No further splits with positive gain, best gain: -inf\n",
      "[LightGBM] [Warning] No further splits with positive gain, best gain: -inf\n",
      "[LightGBM] [Warning] No further splits with positive gain, best gain: -inf\n",
      "[LightGBM] [Warning] No further splits with positive gain, best gain: -inf\n",
      "[LightGBM] [Warning] No further splits with positive gain, best gain: -inf\n",
      "[LightGBM] [Warning] No further splits with positive gain, best gain: -inf\n",
      "[LightGBM] [Warning] No further splits with positive gain, best gain: -inf\n",
      "[LightGBM] [Warning] No further splits with positive gain, best gain: -inf\n",
      "[LightGBM] [Warning] No further splits with positive gain, best gain: -inf\n",
      "[LightGBM] [Warning] No further splits with positive gain, best gain: -inf\n",
      "[LightGBM] [Warning] No further splits with positive gain, best gain: -inf\n",
      "[LightGBM] [Warning] No further splits with positive gain, best gain: -inf\n",
      "[LightGBM] [Warning] No further splits with positive gain, best gain: -inf\n",
      "[LightGBM] [Warning] No further splits with positive gain, best gain: -inf\n",
      "[LightGBM] [Warning] No further splits with positive gain, best gain: -inf\n",
      "[LightGBM] [Warning] No further splits with positive gain, best gain: -inf\n",
      "[LightGBM] [Warning] No further splits with positive gain, best gain: -inf\n",
      "[LightGBM] [Warning] No further splits with positive gain, best gain: -inf\n",
      "[LightGBM] [Warning] No further splits with positive gain, best gain: -inf\n",
      "[LightGBM] [Warning] No further splits with positive gain, best gain: -inf\n",
      "[LightGBM] [Warning] No further splits with positive gain, best gain: -inf\n",
      "[LightGBM] [Warning] No further splits with positive gain, best gain: -inf\n",
      "[LightGBM] [Warning] No further splits with positive gain, best gain: -inf\n",
      "[LightGBM] [Warning] No further splits with positive gain, best gain: -inf\n",
      "[LightGBM] [Warning] No further splits with positive gain, best gain: -inf\n",
      "[LightGBM] [Warning] No further splits with positive gain, best gain: -inf\n",
      "[LightGBM] [Warning] No further splits with positive gain, best gain: -inf\n",
      "[LightGBM] [Warning] No further splits with positive gain, best gain: -inf\n",
      "[LightGBM] [Warning] No further splits with positive gain, best gain: -inf\n",
      "[LightGBM] [Warning] No further splits with positive gain, best gain: -inf\n",
      "[LightGBM] [Warning] No further splits with positive gain, best gain: -inf\n",
      "[LightGBM] [Warning] No further splits with positive gain, best gain: -inf\n",
      "[LightGBM] [Warning] Auto-choosing row-wise multi-threading, the overhead of testing was 0.000299 seconds.\n",
      "You can set `force_row_wise=true` to remove the overhead.\n",
      "And if memory is not enough, you can set `force_col_wise=true`.\n",
      "[LightGBM] [Info] Total Bins 30\n",
      "[LightGBM] [Info] Number of data points in the train set: 106887, number of used features: 15\n",
      "[LightGBM] [Info] Start training from score 4159.043457\n",
      "[LightGBM] [Warning] No further splits with positive gain, best gain: -inf\n",
      "[LightGBM] [Warning] No further splits with positive gain, best gain: -inf\n",
      "[LightGBM] [Warning] No further splits with positive gain, best gain: -inf\n",
      "[LightGBM] [Warning] No further splits with positive gain, best gain: -inf\n",
      "[LightGBM] [Warning] No further splits with positive gain, best gain: -inf\n",
      "[LightGBM] [Warning] No further splits with positive gain, best gain: -inf\n",
      "[LightGBM] [Warning] No further splits with positive gain, best gain: -inf\n",
      "[LightGBM] [Warning] No further splits with positive gain, best gain: -inf\n",
      "[LightGBM] [Warning] No further splits with positive gain, best gain: -inf\n",
      "[LightGBM] [Warning] No further splits with positive gain, best gain: -inf\n",
      "[LightGBM] [Warning] No further splits with positive gain, best gain: -inf\n",
      "[LightGBM] [Warning] No further splits with positive gain, best gain: -inf\n",
      "[LightGBM] [Warning] No further splits with positive gain, best gain: -inf\n",
      "[LightGBM] [Warning] No further splits with positive gain, best gain: -inf\n",
      "[LightGBM] [Warning] No further splits with positive gain, best gain: -inf\n",
      "[LightGBM] [Warning] No further splits with positive gain, best gain: -inf\n",
      "[LightGBM] [Warning] No further splits with positive gain, best gain: -inf\n",
      "[LightGBM] [Warning] No further splits with positive gain, best gain: -inf\n",
      "[LightGBM] [Warning] No further splits with positive gain, best gain: -inf\n",
      "[LightGBM] [Warning] No further splits with positive gain, best gain: -inf\n",
      "[LightGBM] [Warning] No further splits with positive gain, best gain: -inf\n",
      "[LightGBM] [Warning] No further splits with positive gain, best gain: -inf\n",
      "[LightGBM] [Warning] No further splits with positive gain, best gain: -inf\n",
      "[LightGBM] [Warning] No further splits with positive gain, best gain: -inf\n",
      "[LightGBM] [Warning] No further splits with positive gain, best gain: -inf\n",
      "[LightGBM] [Warning] No further splits with positive gain, best gain: -inf\n",
      "[LightGBM] [Warning] No further splits with positive gain, best gain: -inf\n",
      "[LightGBM] [Warning] No further splits with positive gain, best gain: -inf\n",
      "[LightGBM] [Warning] No further splits with positive gain, best gain: -inf\n",
      "[LightGBM] [Warning] No further splits with positive gain, best gain: -inf\n",
      "[LightGBM] [Warning] No further splits with positive gain, best gain: -inf\n",
      "[LightGBM] [Warning] No further splits with positive gain, best gain: -inf\n",
      "[LightGBM] [Warning] No further splits with positive gain, best gain: -inf\n",
      "[LightGBM] [Warning] No further splits with positive gain, best gain: -inf\n",
      "[LightGBM] [Warning] No further splits with positive gain, best gain: -inf\n",
      "[LightGBM] [Warning] No further splits with positive gain, best gain: -inf\n",
      "[LightGBM] [Warning] No further splits with positive gain, best gain: -inf\n",
      "[LightGBM] [Warning] No further splits with positive gain, best gain: -inf\n",
      "[LightGBM] [Warning] No further splits with positive gain, best gain: -inf\n",
      "[LightGBM] [Warning] No further splits with positive gain, best gain: -inf\n",
      "[LightGBM] [Warning] No further splits with positive gain, best gain: -inf\n",
      "[LightGBM] [Warning] No further splits with positive gain, best gain: -inf\n",
      "[LightGBM] [Warning] No further splits with positive gain, best gain: -inf\n",
      "[LightGBM] [Warning] No further splits with positive gain, best gain: -inf\n",
      "[LightGBM] [Warning] No further splits with positive gain, best gain: -inf\n",
      "[LightGBM] [Warning] No further splits with positive gain, best gain: -inf\n",
      "[LightGBM] [Warning] No further splits with positive gain, best gain: -inf\n",
      "[LightGBM] [Warning] No further splits with positive gain, best gain: -inf\n",
      "[LightGBM] [Warning] No further splits with positive gain, best gain: -inf\n",
      "[LightGBM] [Warning] No further splits with positive gain, best gain: -inf\n",
      "[LightGBM] [Warning] No further splits with positive gain, best gain: -inf\n",
      "[LightGBM] [Warning] No further splits with positive gain, best gain: -inf\n",
      "[LightGBM] [Warning] No further splits with positive gain, best gain: -inf\n",
      "[LightGBM] [Warning] No further splits with positive gain, best gain: -inf\n",
      "[LightGBM] [Warning] No further splits with positive gain, best gain: -inf\n",
      "[LightGBM] [Warning] No further splits with positive gain, best gain: -inf\n",
      "[LightGBM] [Warning] No further splits with positive gain, best gain: -inf\n",
      "[LightGBM] [Warning] No further splits with positive gain, best gain: -inf\n",
      "[LightGBM] [Warning] No further splits with positive gain, best gain: -inf\n",
      "[LightGBM] [Warning] No further splits with positive gain, best gain: -inf\n",
      "[LightGBM] [Warning] No further splits with positive gain, best gain: -inf\n",
      "[LightGBM] [Warning] No further splits with positive gain, best gain: -inf\n",
      "[LightGBM] [Warning] No further splits with positive gain, best gain: -inf\n",
      "[LightGBM] [Warning] No further splits with positive gain, best gain: -inf\n",
      "[LightGBM] [Warning] No further splits with positive gain, best gain: -inf\n",
      "[LightGBM] [Warning] No further splits with positive gain, best gain: -inf\n",
      "[LightGBM] [Warning] No further splits with positive gain, best gain: -inf\n",
      "[LightGBM] [Warning] No further splits with positive gain, best gain: -inf\n",
      "[LightGBM] [Warning] No further splits with positive gain, best gain: -inf\n",
      "[LightGBM] [Warning] No further splits with positive gain, best gain: -inf\n",
      "[LightGBM] [Warning] No further splits with positive gain, best gain: -inf\n",
      "[LightGBM] [Warning] No further splits with positive gain, best gain: -inf\n",
      "[LightGBM] [Warning] No further splits with positive gain, best gain: -inf\n",
      "[LightGBM] [Warning] No further splits with positive gain, best gain: -inf\n",
      "[LightGBM] [Warning] No further splits with positive gain, best gain: -inf\n",
      "[LightGBM] [Warning] No further splits with positive gain, best gain: -inf\n",
      "[LightGBM] [Warning] No further splits with positive gain, best gain: -inf\n",
      "[LightGBM] [Warning] No further splits with positive gain, best gain: -inf\n",
      "[LightGBM] [Warning] No further splits with positive gain, best gain: -inf\n",
      "[LightGBM] [Warning] No further splits with positive gain, best gain: -inf\n",
      "[LightGBM] [Warning] No further splits with positive gain, best gain: -inf\n",
      "[LightGBM] [Warning] No further splits with positive gain, best gain: -inf\n",
      "[LightGBM] [Warning] No further splits with positive gain, best gain: -inf\n",
      "[LightGBM] [Warning] No further splits with positive gain, best gain: -inf\n",
      "[LightGBM] [Warning] No further splits with positive gain, best gain: -inf\n",
      "[LightGBM] [Warning] No further splits with positive gain, best gain: -inf\n",
      "[LightGBM] [Warning] No further splits with positive gain, best gain: -inf\n",
      "[LightGBM] [Warning] No further splits with positive gain, best gain: -inf\n"
     ]
    },
    {
     "name": "stdout",
     "output_type": "stream",
     "text": [
      "[LightGBM] [Warning] No further splits with positive gain, best gain: -inf\n",
      "[LightGBM] [Warning] No further splits with positive gain, best gain: -inf\n",
      "[LightGBM] [Warning] No further splits with positive gain, best gain: -inf\n",
      "[LightGBM] [Warning] No further splits with positive gain, best gain: -inf\n",
      "[LightGBM] [Warning] No further splits with positive gain, best gain: -inf\n",
      "[LightGBM] [Warning] No further splits with positive gain, best gain: -inf\n",
      "[LightGBM] [Warning] No further splits with positive gain, best gain: -inf\n",
      "[LightGBM] [Warning] No further splits with positive gain, best gain: -inf\n",
      "[LightGBM] [Warning] No further splits with positive gain, best gain: -inf\n",
      "[LightGBM] [Warning] No further splits with positive gain, best gain: -inf\n",
      "[LightGBM] [Warning] No further splits with positive gain, best gain: -inf\n",
      "[LightGBM] [Warning] No further splits with positive gain, best gain: -inf\n",
      "[LightGBM] [Warning] Auto-choosing row-wise multi-threading, the overhead of testing was 0.000310 seconds.\n",
      "You can set `force_row_wise=true` to remove the overhead.\n",
      "And if memory is not enough, you can set `force_col_wise=true`.\n",
      "[LightGBM] [Info] Total Bins 30\n",
      "[LightGBM] [Info] Number of data points in the train set: 106887, number of used features: 15\n",
      "[LightGBM] [Info] Start training from score 4146.354487\n",
      "[LightGBM] [Warning] No further splits with positive gain, best gain: -inf\n",
      "[LightGBM] [Warning] No further splits with positive gain, best gain: -inf\n",
      "[LightGBM] [Warning] No further splits with positive gain, best gain: -inf\n",
      "[LightGBM] [Warning] No further splits with positive gain, best gain: -inf\n",
      "[LightGBM] [Warning] No further splits with positive gain, best gain: -inf\n",
      "[LightGBM] [Warning] No further splits with positive gain, best gain: -inf\n",
      "[LightGBM] [Warning] No further splits with positive gain, best gain: -inf\n",
      "[LightGBM] [Warning] No further splits with positive gain, best gain: -inf\n",
      "[LightGBM] [Warning] No further splits with positive gain, best gain: -inf\n",
      "[LightGBM] [Warning] No further splits with positive gain, best gain: -inf\n",
      "[LightGBM] [Warning] No further splits with positive gain, best gain: -inf\n",
      "[LightGBM] [Warning] No further splits with positive gain, best gain: -inf\n",
      "[LightGBM] [Warning] No further splits with positive gain, best gain: -inf\n",
      "[LightGBM] [Warning] No further splits with positive gain, best gain: -inf\n",
      "[LightGBM] [Warning] No further splits with positive gain, best gain: -inf\n",
      "[LightGBM] [Warning] No further splits with positive gain, best gain: -inf\n",
      "[LightGBM] [Warning] No further splits with positive gain, best gain: -inf\n",
      "[LightGBM] [Warning] No further splits with positive gain, best gain: -inf\n",
      "[LightGBM] [Warning] No further splits with positive gain, best gain: -inf\n",
      "[LightGBM] [Warning] No further splits with positive gain, best gain: -inf\n",
      "[LightGBM] [Warning] No further splits with positive gain, best gain: -inf\n",
      "[LightGBM] [Warning] No further splits with positive gain, best gain: -inf\n",
      "[LightGBM] [Warning] No further splits with positive gain, best gain: -inf\n",
      "[LightGBM] [Warning] No further splits with positive gain, best gain: -inf\n",
      "[LightGBM] [Warning] No further splits with positive gain, best gain: -inf\n",
      "[LightGBM] [Warning] No further splits with positive gain, best gain: -inf\n",
      "[LightGBM] [Warning] No further splits with positive gain, best gain: -inf\n",
      "[LightGBM] [Warning] No further splits with positive gain, best gain: -inf\n",
      "[LightGBM] [Warning] No further splits with positive gain, best gain: -inf\n",
      "[LightGBM] [Warning] No further splits with positive gain, best gain: -inf\n",
      "[LightGBM] [Warning] No further splits with positive gain, best gain: -inf\n",
      "[LightGBM] [Warning] No further splits with positive gain, best gain: -inf\n",
      "[LightGBM] [Warning] No further splits with positive gain, best gain: -inf\n",
      "[LightGBM] [Warning] No further splits with positive gain, best gain: -inf\n",
      "[LightGBM] [Warning] No further splits with positive gain, best gain: -inf\n",
      "[LightGBM] [Warning] No further splits with positive gain, best gain: -inf\n",
      "[LightGBM] [Warning] No further splits with positive gain, best gain: -inf\n",
      "[LightGBM] [Warning] No further splits with positive gain, best gain: -inf\n",
      "[LightGBM] [Warning] No further splits with positive gain, best gain: -inf\n",
      "[LightGBM] [Warning] No further splits with positive gain, best gain: -inf\n",
      "[LightGBM] [Warning] No further splits with positive gain, best gain: -inf\n",
      "[LightGBM] [Warning] No further splits with positive gain, best gain: -inf\n",
      "[LightGBM] [Warning] No further splits with positive gain, best gain: -inf\n",
      "[LightGBM] [Warning] No further splits with positive gain, best gain: -inf\n",
      "[LightGBM] [Warning] No further splits with positive gain, best gain: -inf\n",
      "[LightGBM] [Warning] No further splits with positive gain, best gain: -inf\n",
      "[LightGBM] [Warning] No further splits with positive gain, best gain: -inf\n",
      "[LightGBM] [Warning] No further splits with positive gain, best gain: -inf\n",
      "[LightGBM] [Warning] No further splits with positive gain, best gain: -inf\n",
      "[LightGBM] [Warning] No further splits with positive gain, best gain: -inf\n",
      "[LightGBM] [Warning] No further splits with positive gain, best gain: -inf\n",
      "[LightGBM] [Warning] No further splits with positive gain, best gain: -inf\n",
      "[LightGBM] [Warning] No further splits with positive gain, best gain: -inf\n",
      "[LightGBM] [Warning] No further splits with positive gain, best gain: -inf\n",
      "[LightGBM] [Warning] No further splits with positive gain, best gain: -inf\n",
      "[LightGBM] [Warning] No further splits with positive gain, best gain: -inf\n",
      "[LightGBM] [Warning] No further splits with positive gain, best gain: -inf\n",
      "[LightGBM] [Warning] No further splits with positive gain, best gain: -inf\n",
      "[LightGBM] [Warning] No further splits with positive gain, best gain: -inf\n",
      "[LightGBM] [Warning] No further splits with positive gain, best gain: -inf\n",
      "[LightGBM] [Warning] No further splits with positive gain, best gain: -inf\n",
      "[LightGBM] [Warning] No further splits with positive gain, best gain: -inf\n",
      "[LightGBM] [Warning] No further splits with positive gain, best gain: -inf\n",
      "[LightGBM] [Warning] No further splits with positive gain, best gain: -inf\n",
      "[LightGBM] [Warning] No further splits with positive gain, best gain: -inf\n",
      "[LightGBM] [Warning] No further splits with positive gain, best gain: -inf\n",
      "[LightGBM] [Warning] No further splits with positive gain, best gain: -inf\n",
      "[LightGBM] [Warning] No further splits with positive gain, best gain: -inf\n",
      "[LightGBM] [Warning] No further splits with positive gain, best gain: -inf\n",
      "[LightGBM] [Warning] No further splits with positive gain, best gain: -inf\n",
      "[LightGBM] [Warning] No further splits with positive gain, best gain: -inf\n",
      "[LightGBM] [Warning] No further splits with positive gain, best gain: -inf\n",
      "[LightGBM] [Warning] No further splits with positive gain, best gain: -inf\n",
      "[LightGBM] [Warning] No further splits with positive gain, best gain: -inf\n",
      "[LightGBM] [Warning] No further splits with positive gain, best gain: -inf\n",
      "[LightGBM] [Warning] No further splits with positive gain, best gain: -inf\n",
      "[LightGBM] [Warning] No further splits with positive gain, best gain: -inf\n",
      "[LightGBM] [Warning] No further splits with positive gain, best gain: -inf\n",
      "[LightGBM] [Warning] No further splits with positive gain, best gain: -inf\n",
      "[LightGBM] [Warning] No further splits with positive gain, best gain: -inf\n",
      "[LightGBM] [Warning] No further splits with positive gain, best gain: -inf\n",
      "[LightGBM] [Warning] No further splits with positive gain, best gain: -inf\n",
      "[LightGBM] [Warning] No further splits with positive gain, best gain: -inf\n",
      "[LightGBM] [Warning] No further splits with positive gain, best gain: -inf\n",
      "[LightGBM] [Warning] No further splits with positive gain, best gain: -inf\n",
      "[LightGBM] [Warning] No further splits with positive gain, best gain: -inf\n",
      "[LightGBM] [Warning] No further splits with positive gain, best gain: -inf\n",
      "[LightGBM] [Warning] No further splits with positive gain, best gain: -inf\n",
      "[LightGBM] [Warning] No further splits with positive gain, best gain: -inf\n",
      "[LightGBM] [Warning] No further splits with positive gain, best gain: -inf\n",
      "[LightGBM] [Warning] No further splits with positive gain, best gain: -inf\n",
      "[LightGBM] [Warning] No further splits with positive gain, best gain: -inf\n",
      "[LightGBM] [Warning] No further splits with positive gain, best gain: -inf\n",
      "[LightGBM] [Warning] No further splits with positive gain, best gain: -inf\n",
      "[LightGBM] [Warning] No further splits with positive gain, best gain: -inf\n",
      "[LightGBM] [Warning] No further splits with positive gain, best gain: -inf\n",
      "[LightGBM] [Warning] No further splits with positive gain, best gain: -inf\n",
      "[LightGBM] [Warning] No further splits with positive gain, best gain: -inf\n",
      "[LightGBM] [Warning] No further splits with positive gain, best gain: -inf\n",
      "[LightGBM] [Warning] No further splits with positive gain, best gain: -inf\n"
     ]
    },
    {
     "name": "stdout",
     "output_type": "stream",
     "text": [
      "[LightGBM] [Warning] Auto-choosing row-wise multi-threading, the overhead of testing was 0.000302 seconds.\n",
      "You can set `force_row_wise=true` to remove the overhead.\n",
      "And if memory is not enough, you can set `force_col_wise=true`.\n",
      "[LightGBM] [Info] Total Bins 30\n",
      "[LightGBM] [Info] Number of data points in the train set: 106886, number of used features: 15\n",
      "[LightGBM] [Info] Start training from score 4153.202562\n",
      "[LightGBM] [Warning] No further splits with positive gain, best gain: -inf\n",
      "[LightGBM] [Warning] No further splits with positive gain, best gain: -inf\n",
      "[LightGBM] [Warning] No further splits with positive gain, best gain: -inf\n",
      "[LightGBM] [Warning] No further splits with positive gain, best gain: -inf\n",
      "[LightGBM] [Warning] No further splits with positive gain, best gain: -inf\n",
      "[LightGBM] [Warning] No further splits with positive gain, best gain: -inf\n",
      "[LightGBM] [Warning] No further splits with positive gain, best gain: -inf\n",
      "[LightGBM] [Warning] No further splits with positive gain, best gain: -inf\n",
      "[LightGBM] [Warning] No further splits with positive gain, best gain: -inf\n",
      "[LightGBM] [Warning] No further splits with positive gain, best gain: -inf\n",
      "[LightGBM] [Warning] No further splits with positive gain, best gain: -inf\n",
      "[LightGBM] [Warning] No further splits with positive gain, best gain: -inf\n",
      "[LightGBM] [Warning] No further splits with positive gain, best gain: -inf\n",
      "[LightGBM] [Warning] No further splits with positive gain, best gain: -inf\n",
      "[LightGBM] [Warning] No further splits with positive gain, best gain: -inf\n",
      "[LightGBM] [Warning] No further splits with positive gain, best gain: -inf\n",
      "[LightGBM] [Warning] No further splits with positive gain, best gain: -inf\n",
      "[LightGBM] [Warning] No further splits with positive gain, best gain: -inf\n",
      "[LightGBM] [Warning] No further splits with positive gain, best gain: -inf\n",
      "[LightGBM] [Warning] No further splits with positive gain, best gain: -inf\n",
      "[LightGBM] [Warning] No further splits with positive gain, best gain: -inf\n",
      "[LightGBM] [Warning] No further splits with positive gain, best gain: -inf\n",
      "[LightGBM] [Warning] No further splits with positive gain, best gain: -inf\n",
      "[LightGBM] [Warning] No further splits with positive gain, best gain: -inf\n",
      "[LightGBM] [Warning] No further splits with positive gain, best gain: -inf\n",
      "[LightGBM] [Warning] No further splits with positive gain, best gain: -inf\n",
      "[LightGBM] [Warning] No further splits with positive gain, best gain: -inf\n",
      "[LightGBM] [Warning] No further splits with positive gain, best gain: -inf\n",
      "[LightGBM] [Warning] No further splits with positive gain, best gain: -inf\n",
      "[LightGBM] [Warning] No further splits with positive gain, best gain: -inf\n",
      "[LightGBM] [Warning] No further splits with positive gain, best gain: -inf\n",
      "[LightGBM] [Warning] No further splits with positive gain, best gain: -inf\n",
      "[LightGBM] [Warning] No further splits with positive gain, best gain: -inf\n",
      "[LightGBM] [Warning] No further splits with positive gain, best gain: -inf\n",
      "[LightGBM] [Warning] No further splits with positive gain, best gain: -inf\n",
      "[LightGBM] [Warning] No further splits with positive gain, best gain: -inf\n",
      "[LightGBM] [Warning] No further splits with positive gain, best gain: -inf\n",
      "[LightGBM] [Warning] No further splits with positive gain, best gain: -inf\n",
      "[LightGBM] [Warning] No further splits with positive gain, best gain: -inf\n",
      "[LightGBM] [Warning] No further splits with positive gain, best gain: -inf\n",
      "[LightGBM] [Warning] No further splits with positive gain, best gain: -inf\n",
      "[LightGBM] [Warning] No further splits with positive gain, best gain: -inf\n",
      "[LightGBM] [Warning] No further splits with positive gain, best gain: -inf\n",
      "[LightGBM] [Warning] No further splits with positive gain, best gain: -inf\n",
      "[LightGBM] [Warning] No further splits with positive gain, best gain: -inf\n",
      "[LightGBM] [Warning] No further splits with positive gain, best gain: -inf\n",
      "[LightGBM] [Warning] No further splits with positive gain, best gain: -inf\n",
      "[LightGBM] [Warning] No further splits with positive gain, best gain: -inf\n",
      "[LightGBM] [Warning] No further splits with positive gain, best gain: -inf\n",
      "[LightGBM] [Warning] No further splits with positive gain, best gain: -inf\n",
      "[LightGBM] [Warning] No further splits with positive gain, best gain: -inf\n",
      "[LightGBM] [Warning] No further splits with positive gain, best gain: -inf\n",
      "[LightGBM] [Warning] No further splits with positive gain, best gain: -inf\n",
      "[LightGBM] [Warning] No further splits with positive gain, best gain: -inf\n",
      "[LightGBM] [Warning] No further splits with positive gain, best gain: -inf\n",
      "[LightGBM] [Warning] No further splits with positive gain, best gain: -inf\n",
      "[LightGBM] [Warning] No further splits with positive gain, best gain: -inf\n",
      "[LightGBM] [Warning] No further splits with positive gain, best gain: -inf\n",
      "[LightGBM] [Warning] No further splits with positive gain, best gain: -inf\n",
      "[LightGBM] [Warning] No further splits with positive gain, best gain: -inf\n",
      "[LightGBM] [Warning] No further splits with positive gain, best gain: -inf\n",
      "[LightGBM] [Warning] No further splits with positive gain, best gain: -inf\n",
      "[LightGBM] [Warning] No further splits with positive gain, best gain: -inf\n",
      "[LightGBM] [Warning] No further splits with positive gain, best gain: -inf\n",
      "[LightGBM] [Warning] No further splits with positive gain, best gain: -inf\n",
      "[LightGBM] [Warning] No further splits with positive gain, best gain: -inf\n",
      "[LightGBM] [Warning] No further splits with positive gain, best gain: -inf\n",
      "[LightGBM] [Warning] No further splits with positive gain, best gain: -inf\n",
      "[LightGBM] [Warning] No further splits with positive gain, best gain: -inf\n",
      "[LightGBM] [Warning] No further splits with positive gain, best gain: -inf\n",
      "[LightGBM] [Warning] No further splits with positive gain, best gain: -inf\n",
      "[LightGBM] [Warning] No further splits with positive gain, best gain: -inf\n",
      "[LightGBM] [Warning] No further splits with positive gain, best gain: -inf\n",
      "[LightGBM] [Warning] No further splits with positive gain, best gain: -inf\n",
      "[LightGBM] [Warning] No further splits with positive gain, best gain: -inf\n",
      "[LightGBM] [Warning] No further splits with positive gain, best gain: -inf\n",
      "[LightGBM] [Warning] No further splits with positive gain, best gain: -inf\n",
      "[LightGBM] [Warning] No further splits with positive gain, best gain: -inf\n",
      "[LightGBM] [Warning] No further splits with positive gain, best gain: -inf\n",
      "[LightGBM] [Warning] No further splits with positive gain, best gain: -inf\n",
      "[LightGBM] [Warning] No further splits with positive gain, best gain: -inf\n",
      "[LightGBM] [Warning] No further splits with positive gain, best gain: -inf\n",
      "[LightGBM] [Warning] No further splits with positive gain, best gain: -inf\n",
      "[LightGBM] [Warning] No further splits with positive gain, best gain: -inf\n",
      "[LightGBM] [Warning] No further splits with positive gain, best gain: -inf\n",
      "[LightGBM] [Warning] No further splits with positive gain, best gain: -inf\n",
      "[LightGBM] [Warning] No further splits with positive gain, best gain: -inf\n",
      "[LightGBM] [Warning] No further splits with positive gain, best gain: -inf\n",
      "[LightGBM] [Warning] No further splits with positive gain, best gain: -inf\n",
      "[LightGBM] [Warning] No further splits with positive gain, best gain: -inf\n",
      "[LightGBM] [Warning] No further splits with positive gain, best gain: -inf\n",
      "[LightGBM] [Warning] No further splits with positive gain, best gain: -inf\n",
      "[LightGBM] [Warning] No further splits with positive gain, best gain: -inf\n",
      "[LightGBM] [Warning] No further splits with positive gain, best gain: -inf\n",
      "[LightGBM] [Warning] No further splits with positive gain, best gain: -inf\n",
      "[LightGBM] [Warning] No further splits with positive gain, best gain: -inf\n",
      "[LightGBM] [Warning] No further splits with positive gain, best gain: -inf\n",
      "[LightGBM] [Warning] No further splits with positive gain, best gain: -inf\n",
      "[LightGBM] [Warning] No further splits with positive gain, best gain: -inf\n",
      "[LightGBM] [Warning] No further splits with positive gain, best gain: -inf\n",
      "[LightGBM] [Warning] Auto-choosing row-wise multi-threading, the overhead of testing was 0.000313 seconds.\n",
      "You can set `force_row_wise=true` to remove the overhead.\n",
      "And if memory is not enough, you can set `force_col_wise=true`.\n",
      "[LightGBM] [Info] Total Bins 30\n",
      "[LightGBM] [Info] Number of data points in the train set: 106886, number of used features: 15\n",
      "[LightGBM] [Info] Start training from score 4152.860309\n",
      "[LightGBM] [Warning] No further splits with positive gain, best gain: -inf\n",
      "[LightGBM] [Warning] No further splits with positive gain, best gain: -inf\n",
      "[LightGBM] [Warning] No further splits with positive gain, best gain: -inf\n",
      "[LightGBM] [Warning] No further splits with positive gain, best gain: -inf\n",
      "[LightGBM] [Warning] No further splits with positive gain, best gain: -inf\n",
      "[LightGBM] [Warning] No further splits with positive gain, best gain: -inf\n",
      "[LightGBM] [Warning] No further splits with positive gain, best gain: -inf\n",
      "[LightGBM] [Warning] No further splits with positive gain, best gain: -inf\n",
      "[LightGBM] [Warning] No further splits with positive gain, best gain: -inf\n",
      "[LightGBM] [Warning] No further splits with positive gain, best gain: -inf\n",
      "[LightGBM] [Warning] No further splits with positive gain, best gain: -inf\n",
      "[LightGBM] [Warning] No further splits with positive gain, best gain: -inf\n",
      "[LightGBM] [Warning] No further splits with positive gain, best gain: -inf\n",
      "[LightGBM] [Warning] No further splits with positive gain, best gain: -inf\n",
      "[LightGBM] [Warning] No further splits with positive gain, best gain: -inf\n",
      "[LightGBM] [Warning] No further splits with positive gain, best gain: -inf\n",
      "[LightGBM] [Warning] No further splits with positive gain, best gain: -inf\n",
      "[LightGBM] [Warning] No further splits with positive gain, best gain: -inf\n",
      "[LightGBM] [Warning] No further splits with positive gain, best gain: -inf\n",
      "[LightGBM] [Warning] No further splits with positive gain, best gain: -inf\n",
      "[LightGBM] [Warning] No further splits with positive gain, best gain: -inf\n",
      "[LightGBM] [Warning] No further splits with positive gain, best gain: -inf\n",
      "[LightGBM] [Warning] No further splits with positive gain, best gain: -inf\n",
      "[LightGBM] [Warning] No further splits with positive gain, best gain: -inf\n",
      "[LightGBM] [Warning] No further splits with positive gain, best gain: -inf\n",
      "[LightGBM] [Warning] No further splits with positive gain, best gain: -inf\n",
      "[LightGBM] [Warning] No further splits with positive gain, best gain: -inf\n"
     ]
    },
    {
     "name": "stdout",
     "output_type": "stream",
     "text": [
      "[LightGBM] [Warning] No further splits with positive gain, best gain: -inf\n",
      "[LightGBM] [Warning] No further splits with positive gain, best gain: -inf\n",
      "[LightGBM] [Warning] No further splits with positive gain, best gain: -inf\n",
      "[LightGBM] [Warning] No further splits with positive gain, best gain: -inf\n",
      "[LightGBM] [Warning] No further splits with positive gain, best gain: -inf\n",
      "[LightGBM] [Warning] No further splits with positive gain, best gain: -inf\n",
      "[LightGBM] [Warning] No further splits with positive gain, best gain: -inf\n",
      "[LightGBM] [Warning] No further splits with positive gain, best gain: -inf\n",
      "[LightGBM] [Warning] No further splits with positive gain, best gain: -inf\n",
      "[LightGBM] [Warning] No further splits with positive gain, best gain: -inf\n",
      "[LightGBM] [Warning] No further splits with positive gain, best gain: -inf\n",
      "[LightGBM] [Warning] No further splits with positive gain, best gain: -inf\n",
      "[LightGBM] [Warning] No further splits with positive gain, best gain: -inf\n",
      "[LightGBM] [Warning] No further splits with positive gain, best gain: -inf\n",
      "[LightGBM] [Warning] No further splits with positive gain, best gain: -inf\n",
      "[LightGBM] [Warning] No further splits with positive gain, best gain: -inf\n",
      "[LightGBM] [Warning] No further splits with positive gain, best gain: -inf\n",
      "[LightGBM] [Warning] No further splits with positive gain, best gain: -inf\n",
      "[LightGBM] [Warning] No further splits with positive gain, best gain: -inf\n",
      "[LightGBM] [Warning] No further splits with positive gain, best gain: -inf\n",
      "[LightGBM] [Warning] No further splits with positive gain, best gain: -inf\n",
      "[LightGBM] [Warning] No further splits with positive gain, best gain: -inf\n",
      "[LightGBM] [Warning] No further splits with positive gain, best gain: -inf\n",
      "[LightGBM] [Warning] No further splits with positive gain, best gain: -inf\n",
      "[LightGBM] [Warning] No further splits with positive gain, best gain: -inf\n",
      "[LightGBM] [Warning] No further splits with positive gain, best gain: -inf\n",
      "[LightGBM] [Warning] No further splits with positive gain, best gain: -inf\n",
      "[LightGBM] [Warning] No further splits with positive gain, best gain: -inf\n",
      "[LightGBM] [Warning] No further splits with positive gain, best gain: -inf\n",
      "[LightGBM] [Warning] No further splits with positive gain, best gain: -inf\n",
      "[LightGBM] [Warning] No further splits with positive gain, best gain: -inf\n",
      "[LightGBM] [Warning] No further splits with positive gain, best gain: -inf\n",
      "[LightGBM] [Warning] No further splits with positive gain, best gain: -inf\n",
      "[LightGBM] [Warning] No further splits with positive gain, best gain: -inf\n",
      "[LightGBM] [Warning] No further splits with positive gain, best gain: -inf\n",
      "[LightGBM] [Warning] No further splits with positive gain, best gain: -inf\n",
      "[LightGBM] [Warning] No further splits with positive gain, best gain: -inf\n",
      "[LightGBM] [Warning] No further splits with positive gain, best gain: -inf\n",
      "[LightGBM] [Warning] No further splits with positive gain, best gain: -inf\n",
      "[LightGBM] [Warning] No further splits with positive gain, best gain: -inf\n",
      "[LightGBM] [Warning] No further splits with positive gain, best gain: -inf\n",
      "[LightGBM] [Warning] No further splits with positive gain, best gain: -inf\n",
      "[LightGBM] [Warning] No further splits with positive gain, best gain: -inf\n",
      "[LightGBM] [Warning] No further splits with positive gain, best gain: -inf\n",
      "[LightGBM] [Warning] No further splits with positive gain, best gain: -inf\n",
      "[LightGBM] [Warning] No further splits with positive gain, best gain: -inf\n",
      "[LightGBM] [Warning] No further splits with positive gain, best gain: -inf\n",
      "[LightGBM] [Warning] No further splits with positive gain, best gain: -inf\n",
      "[LightGBM] [Warning] No further splits with positive gain, best gain: -inf\n",
      "[LightGBM] [Warning] No further splits with positive gain, best gain: -inf\n",
      "[LightGBM] [Warning] No further splits with positive gain, best gain: -inf\n",
      "[LightGBM] [Warning] No further splits with positive gain, best gain: -inf\n",
      "[LightGBM] [Warning] No further splits with positive gain, best gain: -inf\n",
      "[LightGBM] [Warning] No further splits with positive gain, best gain: -inf\n",
      "[LightGBM] [Warning] No further splits with positive gain, best gain: -inf\n",
      "[LightGBM] [Warning] No further splits with positive gain, best gain: -inf\n",
      "[LightGBM] [Warning] No further splits with positive gain, best gain: -inf\n",
      "[LightGBM] [Warning] No further splits with positive gain, best gain: -inf\n",
      "[LightGBM] [Warning] No further splits with positive gain, best gain: -inf\n",
      "[LightGBM] [Warning] No further splits with positive gain, best gain: -inf\n",
      "[LightGBM] [Warning] No further splits with positive gain, best gain: -inf\n",
      "[LightGBM] [Warning] No further splits with positive gain, best gain: -inf\n",
      "[LightGBM] [Warning] No further splits with positive gain, best gain: -inf\n",
      "[LightGBM] [Warning] No further splits with positive gain, best gain: -inf\n",
      "[LightGBM] [Warning] No further splits with positive gain, best gain: -inf\n",
      "[LightGBM] [Warning] No further splits with positive gain, best gain: -inf\n",
      "[LightGBM] [Warning] No further splits with positive gain, best gain: -inf\n",
      "[LightGBM] [Warning] No further splits with positive gain, best gain: -inf\n",
      "[LightGBM] [Warning] No further splits with positive gain, best gain: -inf\n",
      "[LightGBM] [Warning] No further splits with positive gain, best gain: -inf\n",
      "[LightGBM] [Warning] No further splits with positive gain, best gain: -inf\n",
      "[LightGBM] [Warning] No further splits with positive gain, best gain: -inf\n",
      "[LightGBM] [Warning] No further splits with positive gain, best gain: -inf\n",
      "[LightGBM] [Warning] Auto-choosing row-wise multi-threading, the overhead of testing was 0.000343 seconds.\n",
      "You can set `force_row_wise=true` to remove the overhead.\n",
      "And if memory is not enough, you can set `force_col_wise=true`.\n",
      "[LightGBM] [Info] Total Bins 30\n",
      "[LightGBM] [Info] Number of data points in the train set: 106886, number of used features: 15\n",
      "[LightGBM] [Info] Start training from score 4157.676234\n",
      "[LightGBM] [Warning] No further splits with positive gain, best gain: -inf\n",
      "[LightGBM] [Warning] No further splits with positive gain, best gain: -inf\n",
      "[LightGBM] [Warning] No further splits with positive gain, best gain: -inf\n",
      "[LightGBM] [Warning] No further splits with positive gain, best gain: -inf\n",
      "[LightGBM] [Warning] No further splits with positive gain, best gain: -inf\n",
      "[LightGBM] [Warning] No further splits with positive gain, best gain: -inf\n",
      "[LightGBM] [Warning] No further splits with positive gain, best gain: -inf\n",
      "[LightGBM] [Warning] No further splits with positive gain, best gain: -inf\n",
      "[LightGBM] [Warning] No further splits with positive gain, best gain: -inf\n",
      "[LightGBM] [Warning] No further splits with positive gain, best gain: -inf\n",
      "[LightGBM] [Warning] No further splits with positive gain, best gain: -inf\n",
      "[LightGBM] [Warning] No further splits with positive gain, best gain: -inf\n",
      "[LightGBM] [Warning] No further splits with positive gain, best gain: -inf\n",
      "[LightGBM] [Warning] No further splits with positive gain, best gain: -inf\n",
      "[LightGBM] [Warning] No further splits with positive gain, best gain: -inf\n",
      "[LightGBM] [Warning] No further splits with positive gain, best gain: -inf\n",
      "[LightGBM] [Warning] No further splits with positive gain, best gain: -inf\n",
      "[LightGBM] [Warning] No further splits with positive gain, best gain: -inf\n",
      "[LightGBM] [Warning] No further splits with positive gain, best gain: -inf\n",
      "[LightGBM] [Warning] No further splits with positive gain, best gain: -inf\n",
      "[LightGBM] [Warning] No further splits with positive gain, best gain: -inf\n",
      "[LightGBM] [Warning] No further splits with positive gain, best gain: -inf\n",
      "[LightGBM] [Warning] No further splits with positive gain, best gain: -inf\n",
      "[LightGBM] [Warning] No further splits with positive gain, best gain: -inf\n",
      "[LightGBM] [Warning] No further splits with positive gain, best gain: -inf\n",
      "[LightGBM] [Warning] No further splits with positive gain, best gain: -inf\n",
      "[LightGBM] [Warning] No further splits with positive gain, best gain: -inf\n",
      "[LightGBM] [Warning] No further splits with positive gain, best gain: -inf\n",
      "[LightGBM] [Warning] No further splits with positive gain, best gain: -inf\n",
      "[LightGBM] [Warning] No further splits with positive gain, best gain: -inf\n",
      "[LightGBM] [Warning] No further splits with positive gain, best gain: -inf\n",
      "[LightGBM] [Warning] No further splits with positive gain, best gain: -inf\n",
      "[LightGBM] [Warning] No further splits with positive gain, best gain: -inf\n",
      "[LightGBM] [Warning] No further splits with positive gain, best gain: -inf\n",
      "[LightGBM] [Warning] No further splits with positive gain, best gain: -inf\n",
      "[LightGBM] [Warning] No further splits with positive gain, best gain: -inf\n",
      "[LightGBM] [Warning] No further splits with positive gain, best gain: -inf\n",
      "[LightGBM] [Warning] No further splits with positive gain, best gain: -inf\n",
      "[LightGBM] [Warning] No further splits with positive gain, best gain: -inf\n",
      "[LightGBM] [Warning] No further splits with positive gain, best gain: -inf\n",
      "[LightGBM] [Warning] No further splits with positive gain, best gain: -inf\n",
      "[LightGBM] [Warning] No further splits with positive gain, best gain: -inf\n",
      "[LightGBM] [Warning] No further splits with positive gain, best gain: -inf\n",
      "[LightGBM] [Warning] No further splits with positive gain, best gain: -inf\n",
      "[LightGBM] [Warning] No further splits with positive gain, best gain: -inf\n",
      "[LightGBM] [Warning] No further splits with positive gain, best gain: -inf\n",
      "[LightGBM] [Warning] No further splits with positive gain, best gain: -inf\n",
      "[LightGBM] [Warning] No further splits with positive gain, best gain: -inf\n",
      "[LightGBM] [Warning] No further splits with positive gain, best gain: -inf\n",
      "[LightGBM] [Warning] No further splits with positive gain, best gain: -inf\n",
      "[LightGBM] [Warning] No further splits with positive gain, best gain: -inf\n",
      "[LightGBM] [Warning] No further splits with positive gain, best gain: -inf\n"
     ]
    },
    {
     "name": "stdout",
     "output_type": "stream",
     "text": [
      "[LightGBM] [Warning] No further splits with positive gain, best gain: -inf\n",
      "[LightGBM] [Warning] No further splits with positive gain, best gain: -inf\n",
      "[LightGBM] [Warning] No further splits with positive gain, best gain: -inf\n",
      "[LightGBM] [Warning] No further splits with positive gain, best gain: -inf\n",
      "[LightGBM] [Warning] No further splits with positive gain, best gain: -inf\n",
      "[LightGBM] [Warning] No further splits with positive gain, best gain: -inf\n",
      "[LightGBM] [Warning] No further splits with positive gain, best gain: -inf\n",
      "[LightGBM] [Warning] No further splits with positive gain, best gain: -inf\n",
      "[LightGBM] [Warning] No further splits with positive gain, best gain: -inf\n",
      "[LightGBM] [Warning] No further splits with positive gain, best gain: -inf\n",
      "[LightGBM] [Warning] No further splits with positive gain, best gain: -inf\n",
      "[LightGBM] [Warning] No further splits with positive gain, best gain: -inf\n",
      "[LightGBM] [Warning] No further splits with positive gain, best gain: -inf\n",
      "[LightGBM] [Warning] No further splits with positive gain, best gain: -inf\n",
      "[LightGBM] [Warning] No further splits with positive gain, best gain: -inf\n",
      "[LightGBM] [Warning] No further splits with positive gain, best gain: -inf\n",
      "[LightGBM] [Warning] No further splits with positive gain, best gain: -inf\n",
      "[LightGBM] [Warning] No further splits with positive gain, best gain: -inf\n",
      "[LightGBM] [Warning] No further splits with positive gain, best gain: -inf\n",
      "[LightGBM] [Warning] No further splits with positive gain, best gain: -inf\n",
      "[LightGBM] [Warning] No further splits with positive gain, best gain: -inf\n",
      "[LightGBM] [Warning] No further splits with positive gain, best gain: -inf\n",
      "[LightGBM] [Warning] No further splits with positive gain, best gain: -inf\n",
      "[LightGBM] [Warning] No further splits with positive gain, best gain: -inf\n",
      "[LightGBM] [Warning] No further splits with positive gain, best gain: -inf\n",
      "[LightGBM] [Warning] No further splits with positive gain, best gain: -inf\n",
      "[LightGBM] [Warning] No further splits with positive gain, best gain: -inf\n",
      "[LightGBM] [Warning] No further splits with positive gain, best gain: -inf\n",
      "[LightGBM] [Warning] No further splits with positive gain, best gain: -inf\n",
      "[LightGBM] [Warning] No further splits with positive gain, best gain: -inf\n",
      "[LightGBM] [Warning] No further splits with positive gain, best gain: -inf\n",
      "[LightGBM] [Warning] No further splits with positive gain, best gain: -inf\n",
      "[LightGBM] [Warning] No further splits with positive gain, best gain: -inf\n",
      "[LightGBM] [Warning] No further splits with positive gain, best gain: -inf\n",
      "[LightGBM] [Warning] No further splits with positive gain, best gain: -inf\n",
      "[LightGBM] [Warning] No further splits with positive gain, best gain: -inf\n",
      "[LightGBM] [Warning] No further splits with positive gain, best gain: -inf\n",
      "[LightGBM] [Warning] No further splits with positive gain, best gain: -inf\n",
      "[LightGBM] [Warning] No further splits with positive gain, best gain: -inf\n",
      "[LightGBM] [Warning] No further splits with positive gain, best gain: -inf\n",
      "[LightGBM] [Warning] No further splits with positive gain, best gain: -inf\n",
      "[LightGBM] [Warning] No further splits with positive gain, best gain: -inf\n",
      "[LightGBM] [Warning] No further splits with positive gain, best gain: -inf\n",
      "[LightGBM] [Warning] No further splits with positive gain, best gain: -inf\n",
      "[LightGBM] [Warning] No further splits with positive gain, best gain: -inf\n",
      "[LightGBM] [Warning] No further splits with positive gain, best gain: -inf\n",
      "[LightGBM] [Warning] No further splits with positive gain, best gain: -inf\n",
      "[LightGBM] [Warning] No further splits with positive gain, best gain: -inf\n",
      "[LightGBM] [Warning] Auto-choosing row-wise multi-threading, the overhead of testing was 0.000319 seconds.\n",
      "You can set `force_row_wise=true` to remove the overhead.\n",
      "And if memory is not enough, you can set `force_col_wise=true`.\n",
      "[LightGBM] [Info] Total Bins 30\n",
      "[LightGBM] [Info] Number of data points in the train set: 106887, number of used features: 15\n",
      "[LightGBM] [Info] Start training from score 4159.043457\n",
      "[LightGBM] [Warning] No further splits with positive gain, best gain: -inf\n",
      "[LightGBM] [Warning] No further splits with positive gain, best gain: -inf\n",
      "[LightGBM] [Warning] No further splits with positive gain, best gain: -inf\n",
      "[LightGBM] [Warning] No further splits with positive gain, best gain: -inf\n",
      "[LightGBM] [Warning] No further splits with positive gain, best gain: -inf\n",
      "[LightGBM] [Warning] No further splits with positive gain, best gain: -inf\n",
      "[LightGBM] [Warning] No further splits with positive gain, best gain: -inf\n",
      "[LightGBM] [Warning] No further splits with positive gain, best gain: -inf\n",
      "[LightGBM] [Warning] No further splits with positive gain, best gain: -inf\n",
      "[LightGBM] [Warning] No further splits with positive gain, best gain: -inf\n",
      "[LightGBM] [Warning] No further splits with positive gain, best gain: -inf\n",
      "[LightGBM] [Warning] No further splits with positive gain, best gain: -inf\n",
      "[LightGBM] [Warning] No further splits with positive gain, best gain: -inf\n",
      "[LightGBM] [Warning] No further splits with positive gain, best gain: -inf\n",
      "[LightGBM] [Warning] No further splits with positive gain, best gain: -inf\n",
      "[LightGBM] [Warning] No further splits with positive gain, best gain: -inf\n",
      "[LightGBM] [Warning] No further splits with positive gain, best gain: -inf\n",
      "[LightGBM] [Warning] No further splits with positive gain, best gain: -inf\n",
      "[LightGBM] [Warning] No further splits with positive gain, best gain: -inf\n",
      "[LightGBM] [Warning] No further splits with positive gain, best gain: -inf\n",
      "[LightGBM] [Warning] No further splits with positive gain, best gain: -inf\n",
      "[LightGBM] [Warning] No further splits with positive gain, best gain: -inf\n",
      "[LightGBM] [Warning] No further splits with positive gain, best gain: -inf\n",
      "[LightGBM] [Warning] No further splits with positive gain, best gain: -inf\n",
      "[LightGBM] [Warning] No further splits with positive gain, best gain: -inf\n",
      "[LightGBM] [Warning] No further splits with positive gain, best gain: -inf\n",
      "[LightGBM] [Warning] No further splits with positive gain, best gain: -inf\n",
      "[LightGBM] [Warning] No further splits with positive gain, best gain: -inf\n",
      "[LightGBM] [Warning] No further splits with positive gain, best gain: -inf\n",
      "[LightGBM] [Warning] No further splits with positive gain, best gain: -inf\n",
      "[LightGBM] [Warning] No further splits with positive gain, best gain: -inf\n",
      "[LightGBM] [Warning] No further splits with positive gain, best gain: -inf\n",
      "[LightGBM] [Warning] No further splits with positive gain, best gain: -inf\n",
      "[LightGBM] [Warning] No further splits with positive gain, best gain: -inf\n",
      "[LightGBM] [Warning] No further splits with positive gain, best gain: -inf\n",
      "[LightGBM] [Warning] No further splits with positive gain, best gain: -inf\n",
      "[LightGBM] [Warning] No further splits with positive gain, best gain: -inf\n",
      "[LightGBM] [Warning] No further splits with positive gain, best gain: -inf\n",
      "[LightGBM] [Warning] No further splits with positive gain, best gain: -inf\n",
      "[LightGBM] [Warning] No further splits with positive gain, best gain: -inf\n",
      "[LightGBM] [Warning] No further splits with positive gain, best gain: -inf\n",
      "[LightGBM] [Warning] No further splits with positive gain, best gain: -inf\n",
      "[LightGBM] [Warning] No further splits with positive gain, best gain: -inf\n",
      "[LightGBM] [Warning] No further splits with positive gain, best gain: -inf\n",
      "[LightGBM] [Warning] No further splits with positive gain, best gain: -inf\n",
      "[LightGBM] [Warning] No further splits with positive gain, best gain: -inf\n",
      "[LightGBM] [Warning] No further splits with positive gain, best gain: -inf\n",
      "[LightGBM] [Warning] No further splits with positive gain, best gain: -inf\n",
      "[LightGBM] [Warning] No further splits with positive gain, best gain: -inf\n",
      "[LightGBM] [Warning] No further splits with positive gain, best gain: -inf\n",
      "[LightGBM] [Warning] No further splits with positive gain, best gain: -inf\n",
      "[LightGBM] [Warning] No further splits with positive gain, best gain: -inf\n",
      "[LightGBM] [Warning] No further splits with positive gain, best gain: -inf\n",
      "[LightGBM] [Warning] No further splits with positive gain, best gain: -inf\n",
      "[LightGBM] [Warning] No further splits with positive gain, best gain: -inf\n",
      "[LightGBM] [Warning] No further splits with positive gain, best gain: -inf\n",
      "[LightGBM] [Warning] No further splits with positive gain, best gain: -inf\n",
      "[LightGBM] [Warning] No further splits with positive gain, best gain: -inf\n",
      "[LightGBM] [Warning] No further splits with positive gain, best gain: -inf\n",
      "[LightGBM] [Warning] No further splits with positive gain, best gain: -inf\n",
      "[LightGBM] [Warning] No further splits with positive gain, best gain: -inf\n",
      "[LightGBM] [Warning] No further splits with positive gain, best gain: -inf\n",
      "[LightGBM] [Warning] No further splits with positive gain, best gain: -inf\n",
      "[LightGBM] [Warning] No further splits with positive gain, best gain: -inf\n",
      "[LightGBM] [Warning] No further splits with positive gain, best gain: -inf\n",
      "[LightGBM] [Warning] No further splits with positive gain, best gain: -inf\n",
      "[LightGBM] [Warning] No further splits with positive gain, best gain: -inf\n",
      "[LightGBM] [Warning] No further splits with positive gain, best gain: -inf\n",
      "[LightGBM] [Warning] No further splits with positive gain, best gain: -inf\n",
      "[LightGBM] [Warning] No further splits with positive gain, best gain: -inf\n",
      "[LightGBM] [Warning] No further splits with positive gain, best gain: -inf\n",
      "[LightGBM] [Warning] No further splits with positive gain, best gain: -inf\n",
      "[LightGBM] [Warning] No further splits with positive gain, best gain: -inf\n",
      "[LightGBM] [Warning] No further splits with positive gain, best gain: -inf\n",
      "[LightGBM] [Warning] No further splits with positive gain, best gain: -inf\n",
      "[LightGBM] [Warning] No further splits with positive gain, best gain: -inf\n",
      "[LightGBM] [Warning] No further splits with positive gain, best gain: -inf\n",
      "[LightGBM] [Warning] No further splits with positive gain, best gain: -inf\n",
      "[LightGBM] [Warning] No further splits with positive gain, best gain: -inf\n"
     ]
    },
    {
     "name": "stdout",
     "output_type": "stream",
     "text": [
      "[LightGBM] [Warning] No further splits with positive gain, best gain: -inf\n",
      "[LightGBM] [Warning] No further splits with positive gain, best gain: -inf\n",
      "[LightGBM] [Warning] No further splits with positive gain, best gain: -inf\n",
      "[LightGBM] [Warning] No further splits with positive gain, best gain: -inf\n",
      "[LightGBM] [Warning] No further splits with positive gain, best gain: -inf\n",
      "[LightGBM] [Warning] No further splits with positive gain, best gain: -inf\n",
      "[LightGBM] [Warning] No further splits with positive gain, best gain: -inf\n",
      "[LightGBM] [Warning] No further splits with positive gain, best gain: -inf\n",
      "[LightGBM] [Warning] No further splits with positive gain, best gain: -inf\n",
      "[LightGBM] [Warning] No further splits with positive gain, best gain: -inf\n",
      "[LightGBM] [Warning] No further splits with positive gain, best gain: -inf\n",
      "[LightGBM] [Warning] No further splits with positive gain, best gain: -inf\n",
      "[LightGBM] [Warning] No further splits with positive gain, best gain: -inf\n",
      "[LightGBM] [Warning] No further splits with positive gain, best gain: -inf\n",
      "[LightGBM] [Warning] No further splits with positive gain, best gain: -inf\n",
      "[LightGBM] [Warning] No further splits with positive gain, best gain: -inf\n",
      "[LightGBM] [Warning] No further splits with positive gain, best gain: -inf\n",
      "[LightGBM] [Warning] No further splits with positive gain, best gain: -inf\n",
      "[LightGBM] [Warning] No further splits with positive gain, best gain: -inf\n",
      "[LightGBM] [Warning] No further splits with positive gain, best gain: -inf\n",
      "[LightGBM] [Warning] No further splits with positive gain, best gain: -inf\n",
      "[LightGBM] [Warning] Auto-choosing row-wise multi-threading, the overhead of testing was 0.000232 seconds.\n",
      "You can set `force_row_wise=true` to remove the overhead.\n",
      "And if memory is not enough, you can set `force_col_wise=true`.\n",
      "[LightGBM] [Info] Total Bins 30\n",
      "[LightGBM] [Info] Number of data points in the train set: 106887, number of used features: 15\n",
      "[LightGBM] [Info] Start training from score 4146.354487\n",
      "[LightGBM] [Warning] No further splits with positive gain, best gain: -inf\n",
      "[LightGBM] [Warning] No further splits with positive gain, best gain: -inf\n",
      "[LightGBM] [Warning] No further splits with positive gain, best gain: -inf\n",
      "[LightGBM] [Warning] No further splits with positive gain, best gain: -inf\n",
      "[LightGBM] [Warning] No further splits with positive gain, best gain: -inf\n",
      "[LightGBM] [Warning] No further splits with positive gain, best gain: -inf\n",
      "[LightGBM] [Warning] No further splits with positive gain, best gain: -inf\n",
      "[LightGBM] [Warning] No further splits with positive gain, best gain: -inf\n",
      "[LightGBM] [Warning] No further splits with positive gain, best gain: -inf\n",
      "[LightGBM] [Warning] No further splits with positive gain, best gain: -inf\n",
      "[LightGBM] [Warning] No further splits with positive gain, best gain: -inf\n",
      "[LightGBM] [Warning] No further splits with positive gain, best gain: -inf\n",
      "[LightGBM] [Warning] No further splits with positive gain, best gain: -inf\n",
      "[LightGBM] [Warning] No further splits with positive gain, best gain: -inf\n",
      "[LightGBM] [Warning] No further splits with positive gain, best gain: -inf\n",
      "[LightGBM] [Warning] No further splits with positive gain, best gain: -inf\n",
      "[LightGBM] [Warning] No further splits with positive gain, best gain: -inf\n",
      "[LightGBM] [Warning] No further splits with positive gain, best gain: -inf\n",
      "[LightGBM] [Warning] No further splits with positive gain, best gain: -inf\n",
      "[LightGBM] [Warning] No further splits with positive gain, best gain: -inf\n",
      "[LightGBM] [Warning] No further splits with positive gain, best gain: -inf\n",
      "[LightGBM] [Warning] No further splits with positive gain, best gain: -inf\n",
      "[LightGBM] [Warning] No further splits with positive gain, best gain: -inf\n",
      "[LightGBM] [Warning] No further splits with positive gain, best gain: -inf\n",
      "[LightGBM] [Warning] No further splits with positive gain, best gain: -inf\n",
      "[LightGBM] [Warning] No further splits with positive gain, best gain: -inf\n",
      "[LightGBM] [Warning] No further splits with positive gain, best gain: -inf\n",
      "[LightGBM] [Warning] No further splits with positive gain, best gain: -inf\n",
      "[LightGBM] [Warning] No further splits with positive gain, best gain: -inf\n",
      "[LightGBM] [Warning] No further splits with positive gain, best gain: -inf\n",
      "[LightGBM] [Warning] No further splits with positive gain, best gain: -inf\n",
      "[LightGBM] [Warning] No further splits with positive gain, best gain: -inf\n",
      "[LightGBM] [Warning] No further splits with positive gain, best gain: -inf\n",
      "[LightGBM] [Warning] No further splits with positive gain, best gain: -inf\n",
      "[LightGBM] [Warning] No further splits with positive gain, best gain: -inf\n",
      "[LightGBM] [Warning] No further splits with positive gain, best gain: -inf\n",
      "[LightGBM] [Warning] No further splits with positive gain, best gain: -inf\n",
      "[LightGBM] [Warning] No further splits with positive gain, best gain: -inf\n",
      "[LightGBM] [Warning] No further splits with positive gain, best gain: -inf\n",
      "[LightGBM] [Warning] No further splits with positive gain, best gain: -inf\n",
      "[LightGBM] [Warning] No further splits with positive gain, best gain: -inf\n",
      "[LightGBM] [Warning] No further splits with positive gain, best gain: -inf\n",
      "[LightGBM] [Warning] No further splits with positive gain, best gain: -inf\n",
      "[LightGBM] [Warning] No further splits with positive gain, best gain: -inf\n",
      "[LightGBM] [Warning] No further splits with positive gain, best gain: -inf\n",
      "[LightGBM] [Warning] No further splits with positive gain, best gain: -inf\n",
      "[LightGBM] [Warning] No further splits with positive gain, best gain: -inf\n",
      "[LightGBM] [Warning] No further splits with positive gain, best gain: -inf\n",
      "[LightGBM] [Warning] No further splits with positive gain, best gain: -inf\n",
      "[LightGBM] [Warning] No further splits with positive gain, best gain: -inf\n",
      "[LightGBM] [Warning] No further splits with positive gain, best gain: -inf\n",
      "[LightGBM] [Warning] No further splits with positive gain, best gain: -inf\n",
      "[LightGBM] [Warning] No further splits with positive gain, best gain: -inf\n",
      "[LightGBM] [Warning] No further splits with positive gain, best gain: -inf\n",
      "[LightGBM] [Warning] No further splits with positive gain, best gain: -inf\n",
      "[LightGBM] [Warning] No further splits with positive gain, best gain: -inf\n",
      "[LightGBM] [Warning] No further splits with positive gain, best gain: -inf\n",
      "[LightGBM] [Warning] No further splits with positive gain, best gain: -inf\n",
      "[LightGBM] [Warning] No further splits with positive gain, best gain: -inf\n",
      "[LightGBM] [Warning] No further splits with positive gain, best gain: -inf\n",
      "[LightGBM] [Warning] No further splits with positive gain, best gain: -inf\n",
      "[LightGBM] [Warning] No further splits with positive gain, best gain: -inf\n",
      "[LightGBM] [Warning] No further splits with positive gain, best gain: -inf\n",
      "[LightGBM] [Warning] No further splits with positive gain, best gain: -inf\n",
      "[LightGBM] [Warning] No further splits with positive gain, best gain: -inf\n",
      "[LightGBM] [Warning] No further splits with positive gain, best gain: -inf\n",
      "[LightGBM] [Warning] No further splits with positive gain, best gain: -inf\n",
      "[LightGBM] [Warning] No further splits with positive gain, best gain: -inf\n",
      "[LightGBM] [Warning] No further splits with positive gain, best gain: -inf\n",
      "[LightGBM] [Warning] No further splits with positive gain, best gain: -inf\n",
      "[LightGBM] [Warning] No further splits with positive gain, best gain: -inf\n",
      "[LightGBM] [Warning] No further splits with positive gain, best gain: -inf\n",
      "[LightGBM] [Warning] No further splits with positive gain, best gain: -inf\n",
      "[LightGBM] [Warning] No further splits with positive gain, best gain: -inf\n",
      "[LightGBM] [Warning] No further splits with positive gain, best gain: -inf\n",
      "[LightGBM] [Warning] No further splits with positive gain, best gain: -inf\n",
      "[LightGBM] [Warning] No further splits with positive gain, best gain: -inf\n",
      "[LightGBM] [Warning] No further splits with positive gain, best gain: -inf\n",
      "[LightGBM] [Warning] No further splits with positive gain, best gain: -inf\n",
      "[LightGBM] [Warning] No further splits with positive gain, best gain: -inf\n",
      "[LightGBM] [Warning] No further splits with positive gain, best gain: -inf\n",
      "[LightGBM] [Warning] No further splits with positive gain, best gain: -inf\n",
      "[LightGBM] [Warning] No further splits with positive gain, best gain: -inf\n",
      "[LightGBM] [Warning] No further splits with positive gain, best gain: -inf\n",
      "[LightGBM] [Warning] No further splits with positive gain, best gain: -inf\n",
      "[LightGBM] [Warning] No further splits with positive gain, best gain: -inf\n",
      "[LightGBM] [Warning] No further splits with positive gain, best gain: -inf\n",
      "[LightGBM] [Warning] No further splits with positive gain, best gain: -inf\n",
      "[LightGBM] [Warning] No further splits with positive gain, best gain: -inf\n",
      "[LightGBM] [Warning] No further splits with positive gain, best gain: -inf\n",
      "[LightGBM] [Warning] No further splits with positive gain, best gain: -inf\n",
      "[LightGBM] [Warning] No further splits with positive gain, best gain: -inf\n",
      "[LightGBM] [Warning] No further splits with positive gain, best gain: -inf\n",
      "[LightGBM] [Warning] No further splits with positive gain, best gain: -inf\n",
      "[LightGBM] [Warning] No further splits with positive gain, best gain: -inf\n",
      "[LightGBM] [Warning] No further splits with positive gain, best gain: -inf\n",
      "[LightGBM] [Warning] No further splits with positive gain, best gain: -inf\n",
      "[LightGBM] [Warning] No further splits with positive gain, best gain: -inf\n",
      "[LightGBM] [Warning] No further splits with positive gain, best gain: -inf\n",
      "[LightGBM] [Warning] No further splits with positive gain, best gain: -inf\n"
     ]
    },
    {
     "name": "stdout",
     "output_type": "stream",
     "text": [
      "[LightGBM] [Warning] Auto-choosing row-wise multi-threading, the overhead of testing was 0.000338 seconds.\n",
      "You can set `force_row_wise=true` to remove the overhead.\n",
      "And if memory is not enough, you can set `force_col_wise=true`.\n",
      "[LightGBM] [Info] Total Bins 30\n",
      "[LightGBM] [Info] Number of data points in the train set: 133608, number of used features: 15\n",
      "[LightGBM] [Info] Start training from score 4153.827406\n",
      "Best parameters set found on development set:\n",
      "\n",
      "{'learning_rate': 0.3, 'num_leaves': 11, 'random_state': 1515}\n",
      "\n",
      "Grid scores on development set:\n",
      "\n",
      "2505.031710 for {'learning_rate': 0.3, 'num_leaves': 11, 'random_state': 1515}\n",
      "2505.095680 for {'learning_rate': 0.3, 'num_leaves': 50, 'random_state': 1515}\n",
      "2505.095680 for {'learning_rate': 0.3, 'num_leaves': 100, 'random_state': 1515}\n",
      "\n",
      "CPU times: total: 12.2 s\n",
      "Wall time: 2.46 s\n"
     ]
    }
   ],
   "source": [
    "%%time\n",
    "\n",
    "regressor = LGBMRegressor() \n",
    "hyperparams = [{'num_leaves':[11, 50, 100], \n",
    "                'learning_rate':[0.3],\n",
    "                'random_state':[1515]}]\n",
    "\n",
    "print('# Tuning hyper-parameters for root_mean_squared_error')\n",
    "print()\n",
    "clf = GridSearchCV(regressor, hyperparams, scoring='neg_mean_squared_error')\n",
    "clf.fit(features_train_final, target_train)\n",
    "print(\"Best parameters set found on development set:\")\n",
    "print()\n",
    "print(clf.best_params_)\n",
    "print()\n",
    "print(\"Grid scores on development set:\")\n",
    "print()\n",
    "means = clf.cv_results_['mean_test_score']\n",
    "stds = clf.cv_results_['std_test_score']\n",
    "for mean, std, params in zip(means, stds, clf.cv_results_['params']):\n",
    "    print(\"%0.6f for %r\"% ((mean*-1)** 0.5, params))\n",
    "print()\n",
    "\n",
    "cv_RMSE_LGBMR = (max(means)*-1) ** 0.5"
   ]
  },
  {
   "cell_type": "markdown",
   "metadata": {},
   "source": [
    "**V2** <div class=\"alert alert-warning\"> Обучение моделей происходит быстро после использование TargetEncoder. Самый лучший результат у Линейной Регрессии 0.9, у Catboosta 18 сек и самый долгий у LGBM 70 сек </div>"
   ]
  },
  {
   "cell_type": "markdown",
   "metadata": {},
   "source": [
    "**Предсказание на лучших параметрах**\n"
   ]
  },
  {
   "cell_type": "markdown",
   "metadata": {},
   "source": [
    "**Линейная регрессия**"
   ]
  },
  {
   "cell_type": "code",
   "execution_count": 61,
   "metadata": {},
   "outputs": [
    {
     "name": "stdout",
     "output_type": "stream",
     "text": [
      "CPU times: total: 203 ms\n",
      "Wall time: 48 ms\n"
     ]
    },
    {
     "data": {
      "text/html": [
       "<style>#sk-container-id-1 {color: black;background-color: white;}#sk-container-id-1 pre{padding: 0;}#sk-container-id-1 div.sk-toggleable {background-color: white;}#sk-container-id-1 label.sk-toggleable__label {cursor: pointer;display: block;width: 100%;margin-bottom: 0;padding: 0.3em;box-sizing: border-box;text-align: center;}#sk-container-id-1 label.sk-toggleable__label-arrow:before {content: \"▸\";float: left;margin-right: 0.25em;color: #696969;}#sk-container-id-1 label.sk-toggleable__label-arrow:hover:before {color: black;}#sk-container-id-1 div.sk-estimator:hover label.sk-toggleable__label-arrow:before {color: black;}#sk-container-id-1 div.sk-toggleable__content {max-height: 0;max-width: 0;overflow: hidden;text-align: left;background-color: #f0f8ff;}#sk-container-id-1 div.sk-toggleable__content pre {margin: 0.2em;color: black;border-radius: 0.25em;background-color: #f0f8ff;}#sk-container-id-1 input.sk-toggleable__control:checked~div.sk-toggleable__content {max-height: 200px;max-width: 100%;overflow: auto;}#sk-container-id-1 input.sk-toggleable__control:checked~label.sk-toggleable__label-arrow:before {content: \"▾\";}#sk-container-id-1 div.sk-estimator input.sk-toggleable__control:checked~label.sk-toggleable__label {background-color: #d4ebff;}#sk-container-id-1 div.sk-label input.sk-toggleable__control:checked~label.sk-toggleable__label {background-color: #d4ebff;}#sk-container-id-1 input.sk-hidden--visually {border: 0;clip: rect(1px 1px 1px 1px);clip: rect(1px, 1px, 1px, 1px);height: 1px;margin: -1px;overflow: hidden;padding: 0;position: absolute;width: 1px;}#sk-container-id-1 div.sk-estimator {font-family: monospace;background-color: #f0f8ff;border: 1px dotted black;border-radius: 0.25em;box-sizing: border-box;margin-bottom: 0.5em;}#sk-container-id-1 div.sk-estimator:hover {background-color: #d4ebff;}#sk-container-id-1 div.sk-parallel-item::after {content: \"\";width: 100%;border-bottom: 1px solid gray;flex-grow: 1;}#sk-container-id-1 div.sk-label:hover label.sk-toggleable__label {background-color: #d4ebff;}#sk-container-id-1 div.sk-serial::before {content: \"\";position: absolute;border-left: 1px solid gray;box-sizing: border-box;top: 0;bottom: 0;left: 50%;z-index: 0;}#sk-container-id-1 div.sk-serial {display: flex;flex-direction: column;align-items: center;background-color: white;padding-right: 0.2em;padding-left: 0.2em;position: relative;}#sk-container-id-1 div.sk-item {position: relative;z-index: 1;}#sk-container-id-1 div.sk-parallel {display: flex;align-items: stretch;justify-content: center;background-color: white;position: relative;}#sk-container-id-1 div.sk-item::before, #sk-container-id-1 div.sk-parallel-item::before {content: \"\";position: absolute;border-left: 1px solid gray;box-sizing: border-box;top: 0;bottom: 0;left: 50%;z-index: -1;}#sk-container-id-1 div.sk-parallel-item {display: flex;flex-direction: column;z-index: 1;position: relative;background-color: white;}#sk-container-id-1 div.sk-parallel-item:first-child::after {align-self: flex-end;width: 50%;}#sk-container-id-1 div.sk-parallel-item:last-child::after {align-self: flex-start;width: 50%;}#sk-container-id-1 div.sk-parallel-item:only-child::after {width: 0;}#sk-container-id-1 div.sk-dashed-wrapped {border: 1px dashed gray;margin: 0 0.4em 0.5em 0.4em;box-sizing: border-box;padding-bottom: 0.4em;background-color: white;}#sk-container-id-1 div.sk-label label {font-family: monospace;font-weight: bold;display: inline-block;line-height: 1.2em;}#sk-container-id-1 div.sk-label-container {text-align: center;}#sk-container-id-1 div.sk-container {/* jupyter's `normalize.less` sets `[hidden] { display: none; }` but bootstrap.min.css set `[hidden] { display: none !important; }` so we also need the `!important` here to be able to override the default hidden behavior on the sphinx rendered scikit-learn.org. See: https://github.com/scikit-learn/scikit-learn/issues/21755 */display: inline-block !important;position: relative;}#sk-container-id-1 div.sk-text-repr-fallback {display: none;}</style><div id=\"sk-container-id-1\" class=\"sk-top-container\"><div class=\"sk-text-repr-fallback\"><pre>LinearRegression()</pre><b>In a Jupyter environment, please rerun this cell to show the HTML representation or trust the notebook. <br />On GitHub, the HTML representation is unable to render, please try loading this page with nbviewer.org.</b></div><div class=\"sk-container\" hidden><div class=\"sk-item\"><div class=\"sk-estimator sk-toggleable\"><input class=\"sk-toggleable__control sk-hidden--visually\" id=\"sk-estimator-id-1\" type=\"checkbox\" checked><label for=\"sk-estimator-id-1\" class=\"sk-toggleable__label sk-toggleable__label-arrow\">LinearRegression</label><div class=\"sk-toggleable__content\"><pre>LinearRegression()</pre></div></div></div></div></div>"
      ],
      "text/plain": [
       "LinearRegression()"
      ]
     },
     "execution_count": 61,
     "metadata": {},
     "output_type": "execute_result"
    }
   ],
   "source": [
    "%%time\n",
    "\n",
    "model = LinearRegression()\n",
    "model.fit(scaled_features_train, target_train)"
   ]
  },
  {
   "cell_type": "code",
   "execution_count": 62,
   "metadata": {},
   "outputs": [
    {
     "name": "stdout",
     "output_type": "stream",
     "text": [
      "CPU times: total: 15.6 ms\n",
      "Wall time: 2 ms\n"
     ]
    }
   ],
   "source": [
    "%%time\n",
    "\n",
    "target_predict = model.predict(scaled_features_test)\n",
    "final_RMSE_LR = mean_squared_error(target_test, target_predict) ** 0.5"
   ]
  },
  {
   "cell_type": "code",
   "execution_count": 63,
   "metadata": {},
   "outputs": [
    {
     "data": {
      "text/plain": [
       "2510.4335611634224"
      ]
     },
     "execution_count": 63,
     "metadata": {},
     "output_type": "execute_result"
    }
   ],
   "source": [
    "final_RMSE_LR"
   ]
  },
  {
   "cell_type": "markdown",
   "metadata": {},
   "source": [
    "**DecisionTree регрессия**"
   ]
  },
  {
   "cell_type": "code",
   "execution_count": 64,
   "metadata": {},
   "outputs": [
    {
     "ename": "InvalidParameterError",
     "evalue": "The 'criterion' parameter of DecisionTreeRegressor must be a str among {'friedman_mse', 'squared_error', 'poisson', 'absolute_error'}. Got 'mse' instead.",
     "output_type": "error",
     "traceback": [
      "\u001b[1;31m---------------------------------------------------------------------------\u001b[0m",
      "\u001b[1;31mInvalidParameterError\u001b[0m                     Traceback (most recent call last)",
      "File \u001b[1;32m<timed exec>:5\u001b[0m\n",
      "File \u001b[1;32m~\\anaconda3\\lib\\site-packages\\sklearn\\tree\\_classes.py:1247\u001b[0m, in \u001b[0;36mDecisionTreeRegressor.fit\u001b[1;34m(self, X, y, sample_weight, check_input)\u001b[0m\n\u001b[0;32m   1218\u001b[0m \u001b[38;5;28;01mdef\u001b[39;00m \u001b[38;5;21mfit\u001b[39m(\u001b[38;5;28mself\u001b[39m, X, y, sample_weight\u001b[38;5;241m=\u001b[39m\u001b[38;5;28;01mNone\u001b[39;00m, check_input\u001b[38;5;241m=\u001b[39m\u001b[38;5;28;01mTrue\u001b[39;00m):\n\u001b[0;32m   1219\u001b[0m     \u001b[38;5;124;03m\"\"\"Build a decision tree regressor from the training set (X, y).\u001b[39;00m\n\u001b[0;32m   1220\u001b[0m \n\u001b[0;32m   1221\u001b[0m \u001b[38;5;124;03m    Parameters\u001b[39;00m\n\u001b[1;32m   (...)\u001b[0m\n\u001b[0;32m   1244\u001b[0m \u001b[38;5;124;03m        Fitted estimator.\u001b[39;00m\n\u001b[0;32m   1245\u001b[0m \u001b[38;5;124;03m    \"\"\"\u001b[39;00m\n\u001b[1;32m-> 1247\u001b[0m     \u001b[38;5;28;43msuper\u001b[39;49m\u001b[43m(\u001b[49m\u001b[43m)\u001b[49m\u001b[38;5;241;43m.\u001b[39;49m\u001b[43mfit\u001b[49m\u001b[43m(\u001b[49m\n\u001b[0;32m   1248\u001b[0m \u001b[43m        \u001b[49m\u001b[43mX\u001b[49m\u001b[43m,\u001b[49m\n\u001b[0;32m   1249\u001b[0m \u001b[43m        \u001b[49m\u001b[43my\u001b[49m\u001b[43m,\u001b[49m\n\u001b[0;32m   1250\u001b[0m \u001b[43m        \u001b[49m\u001b[43msample_weight\u001b[49m\u001b[38;5;241;43m=\u001b[39;49m\u001b[43msample_weight\u001b[49m\u001b[43m,\u001b[49m\n\u001b[0;32m   1251\u001b[0m \u001b[43m        \u001b[49m\u001b[43mcheck_input\u001b[49m\u001b[38;5;241;43m=\u001b[39;49m\u001b[43mcheck_input\u001b[49m\u001b[43m,\u001b[49m\n\u001b[0;32m   1252\u001b[0m \u001b[43m    \u001b[49m\u001b[43m)\u001b[49m\n\u001b[0;32m   1253\u001b[0m     \u001b[38;5;28;01mreturn\u001b[39;00m \u001b[38;5;28mself\u001b[39m\n",
      "File \u001b[1;32m~\\anaconda3\\lib\\site-packages\\sklearn\\tree\\_classes.py:177\u001b[0m, in \u001b[0;36mBaseDecisionTree.fit\u001b[1;34m(self, X, y, sample_weight, check_input)\u001b[0m\n\u001b[0;32m    176\u001b[0m \u001b[38;5;28;01mdef\u001b[39;00m \u001b[38;5;21mfit\u001b[39m(\u001b[38;5;28mself\u001b[39m, X, y, sample_weight\u001b[38;5;241m=\u001b[39m\u001b[38;5;28;01mNone\u001b[39;00m, check_input\u001b[38;5;241m=\u001b[39m\u001b[38;5;28;01mTrue\u001b[39;00m):\n\u001b[1;32m--> 177\u001b[0m     \u001b[38;5;28;43mself\u001b[39;49m\u001b[38;5;241;43m.\u001b[39;49m\u001b[43m_validate_params\u001b[49m\u001b[43m(\u001b[49m\u001b[43m)\u001b[49m\n\u001b[0;32m    178\u001b[0m     random_state \u001b[38;5;241m=\u001b[39m check_random_state(\u001b[38;5;28mself\u001b[39m\u001b[38;5;241m.\u001b[39mrandom_state)\n\u001b[0;32m    180\u001b[0m     \u001b[38;5;28;01mif\u001b[39;00m check_input:\n\u001b[0;32m    181\u001b[0m         \u001b[38;5;66;03m# Need to validate separately here.\u001b[39;00m\n\u001b[0;32m    182\u001b[0m         \u001b[38;5;66;03m# We can't pass multi_output=True because that would allow y to be\u001b[39;00m\n\u001b[0;32m    183\u001b[0m         \u001b[38;5;66;03m# csr.\u001b[39;00m\n",
      "File \u001b[1;32m~\\anaconda3\\lib\\site-packages\\sklearn\\base.py:581\u001b[0m, in \u001b[0;36mBaseEstimator._validate_params\u001b[1;34m(self)\u001b[0m\n\u001b[0;32m    573\u001b[0m \u001b[38;5;28;01mdef\u001b[39;00m \u001b[38;5;21m_validate_params\u001b[39m(\u001b[38;5;28mself\u001b[39m):\n\u001b[0;32m    574\u001b[0m     \u001b[38;5;124;03m\"\"\"Validate types and values of constructor parameters\u001b[39;00m\n\u001b[0;32m    575\u001b[0m \n\u001b[0;32m    576\u001b[0m \u001b[38;5;124;03m    The expected type and values must be defined in the `_parameter_constraints`\u001b[39;00m\n\u001b[1;32m   (...)\u001b[0m\n\u001b[0;32m    579\u001b[0m \u001b[38;5;124;03m    accepted constraints.\u001b[39;00m\n\u001b[0;32m    580\u001b[0m \u001b[38;5;124;03m    \"\"\"\u001b[39;00m\n\u001b[1;32m--> 581\u001b[0m     \u001b[43mvalidate_parameter_constraints\u001b[49m\u001b[43m(\u001b[49m\n\u001b[0;32m    582\u001b[0m \u001b[43m        \u001b[49m\u001b[38;5;28;43mself\u001b[39;49m\u001b[38;5;241;43m.\u001b[39;49m\u001b[43m_parameter_constraints\u001b[49m\u001b[43m,\u001b[49m\n\u001b[0;32m    583\u001b[0m \u001b[43m        \u001b[49m\u001b[38;5;28;43mself\u001b[39;49m\u001b[38;5;241;43m.\u001b[39;49m\u001b[43mget_params\u001b[49m\u001b[43m(\u001b[49m\u001b[43mdeep\u001b[49m\u001b[38;5;241;43m=\u001b[39;49m\u001b[38;5;28;43;01mFalse\u001b[39;49;00m\u001b[43m)\u001b[49m\u001b[43m,\u001b[49m\n\u001b[0;32m    584\u001b[0m \u001b[43m        \u001b[49m\u001b[43mcaller_name\u001b[49m\u001b[38;5;241;43m=\u001b[39;49m\u001b[38;5;28;43mself\u001b[39;49m\u001b[38;5;241;43m.\u001b[39;49m\u001b[38;5;18;43m__class__\u001b[39;49m\u001b[38;5;241;43m.\u001b[39;49m\u001b[38;5;18;43m__name__\u001b[39;49m\u001b[43m,\u001b[49m\n\u001b[0;32m    585\u001b[0m \u001b[43m    \u001b[49m\u001b[43m)\u001b[49m\n",
      "File \u001b[1;32m~\\anaconda3\\lib\\site-packages\\sklearn\\utils\\_param_validation.py:97\u001b[0m, in \u001b[0;36mvalidate_parameter_constraints\u001b[1;34m(parameter_constraints, params, caller_name)\u001b[0m\n\u001b[0;32m     91\u001b[0m \u001b[38;5;28;01melse\u001b[39;00m:\n\u001b[0;32m     92\u001b[0m     constraints_str \u001b[38;5;241m=\u001b[39m (\n\u001b[0;32m     93\u001b[0m         \u001b[38;5;124mf\u001b[39m\u001b[38;5;124m\"\u001b[39m\u001b[38;5;132;01m{\u001b[39;00m\u001b[38;5;124m'\u001b[39m\u001b[38;5;124m, \u001b[39m\u001b[38;5;124m'\u001b[39m\u001b[38;5;241m.\u001b[39mjoin([\u001b[38;5;28mstr\u001b[39m(c) \u001b[38;5;28;01mfor\u001b[39;00m c \u001b[38;5;129;01min\u001b[39;00m constraints[:\u001b[38;5;241m-\u001b[39m\u001b[38;5;241m1\u001b[39m]])\u001b[38;5;132;01m}\u001b[39;00m\u001b[38;5;124m or\u001b[39m\u001b[38;5;124m\"\u001b[39m\n\u001b[0;32m     94\u001b[0m         \u001b[38;5;124mf\u001b[39m\u001b[38;5;124m\"\u001b[39m\u001b[38;5;124m \u001b[39m\u001b[38;5;132;01m{\u001b[39;00mconstraints[\u001b[38;5;241m-\u001b[39m\u001b[38;5;241m1\u001b[39m]\u001b[38;5;132;01m}\u001b[39;00m\u001b[38;5;124m\"\u001b[39m\n\u001b[0;32m     95\u001b[0m     )\n\u001b[1;32m---> 97\u001b[0m \u001b[38;5;28;01mraise\u001b[39;00m InvalidParameterError(\n\u001b[0;32m     98\u001b[0m     \u001b[38;5;124mf\u001b[39m\u001b[38;5;124m\"\u001b[39m\u001b[38;5;124mThe \u001b[39m\u001b[38;5;132;01m{\u001b[39;00mparam_name\u001b[38;5;132;01m!r}\u001b[39;00m\u001b[38;5;124m parameter of \u001b[39m\u001b[38;5;132;01m{\u001b[39;00mcaller_name\u001b[38;5;132;01m}\u001b[39;00m\u001b[38;5;124m must be\u001b[39m\u001b[38;5;124m\"\u001b[39m\n\u001b[0;32m     99\u001b[0m     \u001b[38;5;124mf\u001b[39m\u001b[38;5;124m\"\u001b[39m\u001b[38;5;124m \u001b[39m\u001b[38;5;132;01m{\u001b[39;00mconstraints_str\u001b[38;5;132;01m}\u001b[39;00m\u001b[38;5;124m. Got \u001b[39m\u001b[38;5;132;01m{\u001b[39;00mparam_val\u001b[38;5;132;01m!r}\u001b[39;00m\u001b[38;5;124m instead.\u001b[39m\u001b[38;5;124m\"\u001b[39m\n\u001b[0;32m    100\u001b[0m )\n",
      "\u001b[1;31mInvalidParameterError\u001b[0m: The 'criterion' parameter of DecisionTreeRegressor must be a str among {'friedman_mse', 'squared_error', 'poisson', 'absolute_error'}. Got 'mse' instead."
     ]
    }
   ],
   "source": [
    "%%time\n",
    "\n",
    "# Модель на признаках, закодированных по методу OHE\n",
    "model = DecisionTreeRegressor(criterion='mse', \n",
    "                              max_depth=15, \n",
    "                              random_state=1515) \n",
    "model.fit(scaled_features_train, target_train)"
   ]
  },
  {
   "cell_type": "code",
   "execution_count": 65,
   "metadata": {
    "scrolled": true
   },
   "outputs": [
    {
     "ename": "NotFittedError",
     "evalue": "This DecisionTreeRegressor instance is not fitted yet. Call 'fit' with appropriate arguments before using this estimator.",
     "output_type": "error",
     "traceback": [
      "\u001b[1;31m---------------------------------------------------------------------------\u001b[0m",
      "\u001b[1;31mNotFittedError\u001b[0m                            Traceback (most recent call last)",
      "File \u001b[1;32m<timed exec>:1\u001b[0m\n",
      "File \u001b[1;32m~\\anaconda3\\lib\\site-packages\\sklearn\\tree\\_classes.py:425\u001b[0m, in \u001b[0;36mBaseDecisionTree.predict\u001b[1;34m(self, X, check_input)\u001b[0m\n\u001b[0;32m    402\u001b[0m \u001b[38;5;28;01mdef\u001b[39;00m \u001b[38;5;21mpredict\u001b[39m(\u001b[38;5;28mself\u001b[39m, X, check_input\u001b[38;5;241m=\u001b[39m\u001b[38;5;28;01mTrue\u001b[39;00m):\n\u001b[0;32m    403\u001b[0m     \u001b[38;5;124;03m\"\"\"Predict class or regression value for X.\u001b[39;00m\n\u001b[0;32m    404\u001b[0m \n\u001b[0;32m    405\u001b[0m \u001b[38;5;124;03m    For a classification model, the predicted class for each sample in X is\u001b[39;00m\n\u001b[1;32m   (...)\u001b[0m\n\u001b[0;32m    423\u001b[0m \u001b[38;5;124;03m        The predicted classes, or the predict values.\u001b[39;00m\n\u001b[0;32m    424\u001b[0m \u001b[38;5;124;03m    \"\"\"\u001b[39;00m\n\u001b[1;32m--> 425\u001b[0m     \u001b[43mcheck_is_fitted\u001b[49m\u001b[43m(\u001b[49m\u001b[38;5;28;43mself\u001b[39;49m\u001b[43m)\u001b[49m\n\u001b[0;32m    426\u001b[0m     X \u001b[38;5;241m=\u001b[39m \u001b[38;5;28mself\u001b[39m\u001b[38;5;241m.\u001b[39m_validate_X_predict(X, check_input)\n\u001b[0;32m    427\u001b[0m     proba \u001b[38;5;241m=\u001b[39m \u001b[38;5;28mself\u001b[39m\u001b[38;5;241m.\u001b[39mtree_\u001b[38;5;241m.\u001b[39mpredict(X)\n",
      "File \u001b[1;32m~\\anaconda3\\lib\\site-packages\\sklearn\\utils\\validation.py:1390\u001b[0m, in \u001b[0;36mcheck_is_fitted\u001b[1;34m(estimator, attributes, msg, all_or_any)\u001b[0m\n\u001b[0;32m   1385\u001b[0m     fitted \u001b[38;5;241m=\u001b[39m [\n\u001b[0;32m   1386\u001b[0m         v \u001b[38;5;28;01mfor\u001b[39;00m v \u001b[38;5;129;01min\u001b[39;00m \u001b[38;5;28mvars\u001b[39m(estimator) \u001b[38;5;28;01mif\u001b[39;00m v\u001b[38;5;241m.\u001b[39mendswith(\u001b[38;5;124m\"\u001b[39m\u001b[38;5;124m_\u001b[39m\u001b[38;5;124m\"\u001b[39m) \u001b[38;5;129;01mand\u001b[39;00m \u001b[38;5;129;01mnot\u001b[39;00m v\u001b[38;5;241m.\u001b[39mstartswith(\u001b[38;5;124m\"\u001b[39m\u001b[38;5;124m__\u001b[39m\u001b[38;5;124m\"\u001b[39m)\n\u001b[0;32m   1387\u001b[0m     ]\n\u001b[0;32m   1389\u001b[0m \u001b[38;5;28;01mif\u001b[39;00m \u001b[38;5;129;01mnot\u001b[39;00m fitted:\n\u001b[1;32m-> 1390\u001b[0m     \u001b[38;5;28;01mraise\u001b[39;00m NotFittedError(msg \u001b[38;5;241m%\u001b[39m {\u001b[38;5;124m\"\u001b[39m\u001b[38;5;124mname\u001b[39m\u001b[38;5;124m\"\u001b[39m: \u001b[38;5;28mtype\u001b[39m(estimator)\u001b[38;5;241m.\u001b[39m\u001b[38;5;18m__name__\u001b[39m})\n",
      "\u001b[1;31mNotFittedError\u001b[0m: This DecisionTreeRegressor instance is not fitted yet. Call 'fit' with appropriate arguments before using this estimator."
     ]
    }
   ],
   "source": [
    "%%time\n",
    "target_predict = model.predict(scaled_features_test)"
   ]
  },
  {
   "cell_type": "code",
   "execution_count": 66,
   "metadata": {},
   "outputs": [],
   "source": [
    "final_RMSE_DTR_ohe = mean_squared_error(target_test, target_predict) ** 0.5 "
   ]
  },
  {
   "cell_type": "code",
   "execution_count": 67,
   "metadata": {},
   "outputs": [
    {
     "data": {
      "text/plain": [
       "2510.4335611634224"
      ]
     },
     "execution_count": 67,
     "metadata": {},
     "output_type": "execute_result"
    }
   ],
   "source": [
    "final_RMSE_DTR_ohe"
   ]
  },
  {
   "cell_type": "markdown",
   "metadata": {},
   "source": [
    "**DecisionTree регрессия**"
   ]
  },
  {
   "cell_type": "code",
   "execution_count": 68,
   "metadata": {},
   "outputs": [
    {
     "ename": "InvalidParameterError",
     "evalue": "The 'criterion' parameter of DecisionTreeRegressor must be a str among {'friedman_mse', 'squared_error', 'poisson', 'absolute_error'}. Got 'mse' instead.",
     "output_type": "error",
     "traceback": [
      "\u001b[1;31m---------------------------------------------------------------------------\u001b[0m",
      "\u001b[1;31mInvalidParameterError\u001b[0m                     Traceback (most recent call last)",
      "File \u001b[1;32m<timed exec>:5\u001b[0m\n",
      "File \u001b[1;32m~\\anaconda3\\lib\\site-packages\\sklearn\\tree\\_classes.py:1247\u001b[0m, in \u001b[0;36mDecisionTreeRegressor.fit\u001b[1;34m(self, X, y, sample_weight, check_input)\u001b[0m\n\u001b[0;32m   1218\u001b[0m \u001b[38;5;28;01mdef\u001b[39;00m \u001b[38;5;21mfit\u001b[39m(\u001b[38;5;28mself\u001b[39m, X, y, sample_weight\u001b[38;5;241m=\u001b[39m\u001b[38;5;28;01mNone\u001b[39;00m, check_input\u001b[38;5;241m=\u001b[39m\u001b[38;5;28;01mTrue\u001b[39;00m):\n\u001b[0;32m   1219\u001b[0m     \u001b[38;5;124;03m\"\"\"Build a decision tree regressor from the training set (X, y).\u001b[39;00m\n\u001b[0;32m   1220\u001b[0m \n\u001b[0;32m   1221\u001b[0m \u001b[38;5;124;03m    Parameters\u001b[39;00m\n\u001b[1;32m   (...)\u001b[0m\n\u001b[0;32m   1244\u001b[0m \u001b[38;5;124;03m        Fitted estimator.\u001b[39;00m\n\u001b[0;32m   1245\u001b[0m \u001b[38;5;124;03m    \"\"\"\u001b[39;00m\n\u001b[1;32m-> 1247\u001b[0m     \u001b[38;5;28;43msuper\u001b[39;49m\u001b[43m(\u001b[49m\u001b[43m)\u001b[49m\u001b[38;5;241;43m.\u001b[39;49m\u001b[43mfit\u001b[49m\u001b[43m(\u001b[49m\n\u001b[0;32m   1248\u001b[0m \u001b[43m        \u001b[49m\u001b[43mX\u001b[49m\u001b[43m,\u001b[49m\n\u001b[0;32m   1249\u001b[0m \u001b[43m        \u001b[49m\u001b[43my\u001b[49m\u001b[43m,\u001b[49m\n\u001b[0;32m   1250\u001b[0m \u001b[43m        \u001b[49m\u001b[43msample_weight\u001b[49m\u001b[38;5;241;43m=\u001b[39;49m\u001b[43msample_weight\u001b[49m\u001b[43m,\u001b[49m\n\u001b[0;32m   1251\u001b[0m \u001b[43m        \u001b[49m\u001b[43mcheck_input\u001b[49m\u001b[38;5;241;43m=\u001b[39;49m\u001b[43mcheck_input\u001b[49m\u001b[43m,\u001b[49m\n\u001b[0;32m   1252\u001b[0m \u001b[43m    \u001b[49m\u001b[43m)\u001b[49m\n\u001b[0;32m   1253\u001b[0m     \u001b[38;5;28;01mreturn\u001b[39;00m \u001b[38;5;28mself\u001b[39m\n",
      "File \u001b[1;32m~\\anaconda3\\lib\\site-packages\\sklearn\\tree\\_classes.py:177\u001b[0m, in \u001b[0;36mBaseDecisionTree.fit\u001b[1;34m(self, X, y, sample_weight, check_input)\u001b[0m\n\u001b[0;32m    176\u001b[0m \u001b[38;5;28;01mdef\u001b[39;00m \u001b[38;5;21mfit\u001b[39m(\u001b[38;5;28mself\u001b[39m, X, y, sample_weight\u001b[38;5;241m=\u001b[39m\u001b[38;5;28;01mNone\u001b[39;00m, check_input\u001b[38;5;241m=\u001b[39m\u001b[38;5;28;01mTrue\u001b[39;00m):\n\u001b[1;32m--> 177\u001b[0m     \u001b[38;5;28;43mself\u001b[39;49m\u001b[38;5;241;43m.\u001b[39;49m\u001b[43m_validate_params\u001b[49m\u001b[43m(\u001b[49m\u001b[43m)\u001b[49m\n\u001b[0;32m    178\u001b[0m     random_state \u001b[38;5;241m=\u001b[39m check_random_state(\u001b[38;5;28mself\u001b[39m\u001b[38;5;241m.\u001b[39mrandom_state)\n\u001b[0;32m    180\u001b[0m     \u001b[38;5;28;01mif\u001b[39;00m check_input:\n\u001b[0;32m    181\u001b[0m         \u001b[38;5;66;03m# Need to validate separately here.\u001b[39;00m\n\u001b[0;32m    182\u001b[0m         \u001b[38;5;66;03m# We can't pass multi_output=True because that would allow y to be\u001b[39;00m\n\u001b[0;32m    183\u001b[0m         \u001b[38;5;66;03m# csr.\u001b[39;00m\n",
      "File \u001b[1;32m~\\anaconda3\\lib\\site-packages\\sklearn\\base.py:581\u001b[0m, in \u001b[0;36mBaseEstimator._validate_params\u001b[1;34m(self)\u001b[0m\n\u001b[0;32m    573\u001b[0m \u001b[38;5;28;01mdef\u001b[39;00m \u001b[38;5;21m_validate_params\u001b[39m(\u001b[38;5;28mself\u001b[39m):\n\u001b[0;32m    574\u001b[0m     \u001b[38;5;124;03m\"\"\"Validate types and values of constructor parameters\u001b[39;00m\n\u001b[0;32m    575\u001b[0m \n\u001b[0;32m    576\u001b[0m \u001b[38;5;124;03m    The expected type and values must be defined in the `_parameter_constraints`\u001b[39;00m\n\u001b[1;32m   (...)\u001b[0m\n\u001b[0;32m    579\u001b[0m \u001b[38;5;124;03m    accepted constraints.\u001b[39;00m\n\u001b[0;32m    580\u001b[0m \u001b[38;5;124;03m    \"\"\"\u001b[39;00m\n\u001b[1;32m--> 581\u001b[0m     \u001b[43mvalidate_parameter_constraints\u001b[49m\u001b[43m(\u001b[49m\n\u001b[0;32m    582\u001b[0m \u001b[43m        \u001b[49m\u001b[38;5;28;43mself\u001b[39;49m\u001b[38;5;241;43m.\u001b[39;49m\u001b[43m_parameter_constraints\u001b[49m\u001b[43m,\u001b[49m\n\u001b[0;32m    583\u001b[0m \u001b[43m        \u001b[49m\u001b[38;5;28;43mself\u001b[39;49m\u001b[38;5;241;43m.\u001b[39;49m\u001b[43mget_params\u001b[49m\u001b[43m(\u001b[49m\u001b[43mdeep\u001b[49m\u001b[38;5;241;43m=\u001b[39;49m\u001b[38;5;28;43;01mFalse\u001b[39;49;00m\u001b[43m)\u001b[49m\u001b[43m,\u001b[49m\n\u001b[0;32m    584\u001b[0m \u001b[43m        \u001b[49m\u001b[43mcaller_name\u001b[49m\u001b[38;5;241;43m=\u001b[39;49m\u001b[38;5;28;43mself\u001b[39;49m\u001b[38;5;241;43m.\u001b[39;49m\u001b[38;5;18;43m__class__\u001b[39;49m\u001b[38;5;241;43m.\u001b[39;49m\u001b[38;5;18;43m__name__\u001b[39;49m\u001b[43m,\u001b[49m\n\u001b[0;32m    585\u001b[0m \u001b[43m    \u001b[49m\u001b[43m)\u001b[49m\n",
      "File \u001b[1;32m~\\anaconda3\\lib\\site-packages\\sklearn\\utils\\_param_validation.py:97\u001b[0m, in \u001b[0;36mvalidate_parameter_constraints\u001b[1;34m(parameter_constraints, params, caller_name)\u001b[0m\n\u001b[0;32m     91\u001b[0m \u001b[38;5;28;01melse\u001b[39;00m:\n\u001b[0;32m     92\u001b[0m     constraints_str \u001b[38;5;241m=\u001b[39m (\n\u001b[0;32m     93\u001b[0m         \u001b[38;5;124mf\u001b[39m\u001b[38;5;124m\"\u001b[39m\u001b[38;5;132;01m{\u001b[39;00m\u001b[38;5;124m'\u001b[39m\u001b[38;5;124m, \u001b[39m\u001b[38;5;124m'\u001b[39m\u001b[38;5;241m.\u001b[39mjoin([\u001b[38;5;28mstr\u001b[39m(c) \u001b[38;5;28;01mfor\u001b[39;00m c \u001b[38;5;129;01min\u001b[39;00m constraints[:\u001b[38;5;241m-\u001b[39m\u001b[38;5;241m1\u001b[39m]])\u001b[38;5;132;01m}\u001b[39;00m\u001b[38;5;124m or\u001b[39m\u001b[38;5;124m\"\u001b[39m\n\u001b[0;32m     94\u001b[0m         \u001b[38;5;124mf\u001b[39m\u001b[38;5;124m\"\u001b[39m\u001b[38;5;124m \u001b[39m\u001b[38;5;132;01m{\u001b[39;00mconstraints[\u001b[38;5;241m-\u001b[39m\u001b[38;5;241m1\u001b[39m]\u001b[38;5;132;01m}\u001b[39;00m\u001b[38;5;124m\"\u001b[39m\n\u001b[0;32m     95\u001b[0m     )\n\u001b[1;32m---> 97\u001b[0m \u001b[38;5;28;01mraise\u001b[39;00m InvalidParameterError(\n\u001b[0;32m     98\u001b[0m     \u001b[38;5;124mf\u001b[39m\u001b[38;5;124m\"\u001b[39m\u001b[38;5;124mThe \u001b[39m\u001b[38;5;132;01m{\u001b[39;00mparam_name\u001b[38;5;132;01m!r}\u001b[39;00m\u001b[38;5;124m parameter of \u001b[39m\u001b[38;5;132;01m{\u001b[39;00mcaller_name\u001b[38;5;132;01m}\u001b[39;00m\u001b[38;5;124m must be\u001b[39m\u001b[38;5;124m\"\u001b[39m\n\u001b[0;32m     99\u001b[0m     \u001b[38;5;124mf\u001b[39m\u001b[38;5;124m\"\u001b[39m\u001b[38;5;124m \u001b[39m\u001b[38;5;132;01m{\u001b[39;00mconstraints_str\u001b[38;5;132;01m}\u001b[39;00m\u001b[38;5;124m. Got \u001b[39m\u001b[38;5;132;01m{\u001b[39;00mparam_val\u001b[38;5;132;01m!r}\u001b[39;00m\u001b[38;5;124m instead.\u001b[39m\u001b[38;5;124m\"\u001b[39m\n\u001b[0;32m    100\u001b[0m )\n",
      "\u001b[1;31mInvalidParameterError\u001b[0m: The 'criterion' parameter of DecisionTreeRegressor must be a str among {'friedman_mse', 'squared_error', 'poisson', 'absolute_error'}. Got 'mse' instead."
     ]
    }
   ],
   "source": [
    "%%time\n",
    "\n",
    "# Модель на закодированных признаках  \n",
    "model = DecisionTreeRegressor(criterion='mse', \n",
    "                              max_depth=13, \n",
    "                              random_state=1515) \n",
    "model.fit(features_train_final, target_train)"
   ]
  },
  {
   "cell_type": "code",
   "execution_count": 69,
   "metadata": {},
   "outputs": [
    {
     "ename": "NotFittedError",
     "evalue": "This DecisionTreeRegressor instance is not fitted yet. Call 'fit' with appropriate arguments before using this estimator.",
     "output_type": "error",
     "traceback": [
      "\u001b[1;31m---------------------------------------------------------------------------\u001b[0m",
      "\u001b[1;31mNotFittedError\u001b[0m                            Traceback (most recent call last)",
      "File \u001b[1;32m<timed exec>:1\u001b[0m\n",
      "File \u001b[1;32m~\\anaconda3\\lib\\site-packages\\sklearn\\tree\\_classes.py:425\u001b[0m, in \u001b[0;36mBaseDecisionTree.predict\u001b[1;34m(self, X, check_input)\u001b[0m\n\u001b[0;32m    402\u001b[0m \u001b[38;5;28;01mdef\u001b[39;00m \u001b[38;5;21mpredict\u001b[39m(\u001b[38;5;28mself\u001b[39m, X, check_input\u001b[38;5;241m=\u001b[39m\u001b[38;5;28;01mTrue\u001b[39;00m):\n\u001b[0;32m    403\u001b[0m     \u001b[38;5;124;03m\"\"\"Predict class or regression value for X.\u001b[39;00m\n\u001b[0;32m    404\u001b[0m \n\u001b[0;32m    405\u001b[0m \u001b[38;5;124;03m    For a classification model, the predicted class for each sample in X is\u001b[39;00m\n\u001b[1;32m   (...)\u001b[0m\n\u001b[0;32m    423\u001b[0m \u001b[38;5;124;03m        The predicted classes, or the predict values.\u001b[39;00m\n\u001b[0;32m    424\u001b[0m \u001b[38;5;124;03m    \"\"\"\u001b[39;00m\n\u001b[1;32m--> 425\u001b[0m     \u001b[43mcheck_is_fitted\u001b[49m\u001b[43m(\u001b[49m\u001b[38;5;28;43mself\u001b[39;49m\u001b[43m)\u001b[49m\n\u001b[0;32m    426\u001b[0m     X \u001b[38;5;241m=\u001b[39m \u001b[38;5;28mself\u001b[39m\u001b[38;5;241m.\u001b[39m_validate_X_predict(X, check_input)\n\u001b[0;32m    427\u001b[0m     proba \u001b[38;5;241m=\u001b[39m \u001b[38;5;28mself\u001b[39m\u001b[38;5;241m.\u001b[39mtree_\u001b[38;5;241m.\u001b[39mpredict(X)\n",
      "File \u001b[1;32m~\\anaconda3\\lib\\site-packages\\sklearn\\utils\\validation.py:1390\u001b[0m, in \u001b[0;36mcheck_is_fitted\u001b[1;34m(estimator, attributes, msg, all_or_any)\u001b[0m\n\u001b[0;32m   1385\u001b[0m     fitted \u001b[38;5;241m=\u001b[39m [\n\u001b[0;32m   1386\u001b[0m         v \u001b[38;5;28;01mfor\u001b[39;00m v \u001b[38;5;129;01min\u001b[39;00m \u001b[38;5;28mvars\u001b[39m(estimator) \u001b[38;5;28;01mif\u001b[39;00m v\u001b[38;5;241m.\u001b[39mendswith(\u001b[38;5;124m\"\u001b[39m\u001b[38;5;124m_\u001b[39m\u001b[38;5;124m\"\u001b[39m) \u001b[38;5;129;01mand\u001b[39;00m \u001b[38;5;129;01mnot\u001b[39;00m v\u001b[38;5;241m.\u001b[39mstartswith(\u001b[38;5;124m\"\u001b[39m\u001b[38;5;124m__\u001b[39m\u001b[38;5;124m\"\u001b[39m)\n\u001b[0;32m   1387\u001b[0m     ]\n\u001b[0;32m   1389\u001b[0m \u001b[38;5;28;01mif\u001b[39;00m \u001b[38;5;129;01mnot\u001b[39;00m fitted:\n\u001b[1;32m-> 1390\u001b[0m     \u001b[38;5;28;01mraise\u001b[39;00m NotFittedError(msg \u001b[38;5;241m%\u001b[39m {\u001b[38;5;124m\"\u001b[39m\u001b[38;5;124mname\u001b[39m\u001b[38;5;124m\"\u001b[39m: \u001b[38;5;28mtype\u001b[39m(estimator)\u001b[38;5;241m.\u001b[39m\u001b[38;5;18m__name__\u001b[39m})\n",
      "\u001b[1;31mNotFittedError\u001b[0m: This DecisionTreeRegressor instance is not fitted yet. Call 'fit' with appropriate arguments before using this estimator."
     ]
    }
   ],
   "source": [
    "%%time\n",
    "\n",
    "target_predict = model.predict(scaled_features_test)"
   ]
  },
  {
   "cell_type": "code",
   "execution_count": 70,
   "metadata": {},
   "outputs": [],
   "source": [
    "final_RMSE_DTR = mean_squared_error(target_test, target_predict) ** 0.5  "
   ]
  },
  {
   "cell_type": "code",
   "execution_count": 71,
   "metadata": {},
   "outputs": [
    {
     "data": {
      "text/plain": [
       "2510.4335611634224"
      ]
     },
     "execution_count": 71,
     "metadata": {},
     "output_type": "execute_result"
    }
   ],
   "source": [
    "final_RMSE_DTR"
   ]
  },
  {
   "cell_type": "markdown",
   "metadata": {},
   "source": [
    "**CatBoost регрессия**"
   ]
  },
  {
   "cell_type": "code",
   "execution_count": 72,
   "metadata": {
    "scrolled": true
   },
   "outputs": [
    {
     "name": "stdout",
     "output_type": "stream",
     "text": [
      "CPU times: total: 4.36 s\n",
      "Wall time: 5.53 s\n"
     ]
    },
    {
     "data": {
      "text/plain": [
       "<catboost.core.CatBoostRegressor at 0x1b830dc3fd0>"
      ]
     },
     "execution_count": 72,
     "metadata": {},
     "output_type": "execute_result"
    }
   ],
   "source": [
    "%%time\n",
    "\n",
    "# Модель на данных, закодированных по методу OHE\n",
    "model = CatBoostRegressor(learning_rate=0.5, \n",
    "                          random_state=1515, \n",
    "                          verbose=False) \n",
    "model.fit(features_train_final, target_train)"
   ]
  },
  {
   "cell_type": "code",
   "execution_count": 73,
   "metadata": {
    "scrolled": true
   },
   "outputs": [
    {
     "name": "stdout",
     "output_type": "stream",
     "text": [
      "CPU times: total: 93.8 ms\n",
      "Wall time: 138 ms\n"
     ]
    }
   ],
   "source": [
    "%%time\n",
    "\n",
    "target_predict = model.predict(features_test_final)"
   ]
  },
  {
   "cell_type": "code",
   "execution_count": 74,
   "metadata": {},
   "outputs": [],
   "source": [
    "final_RMSE_CBR = mean_squared_error(target_test, target_predict) ** 0.5"
   ]
  },
  {
   "cell_type": "code",
   "execution_count": 75,
   "metadata": {},
   "outputs": [
    {
     "data": {
      "text/plain": [
       "2506.7100665415524"
      ]
     },
     "execution_count": 75,
     "metadata": {},
     "output_type": "execute_result"
    }
   ],
   "source": [
    "final_RMSE_CBR"
   ]
  },
  {
   "cell_type": "code",
   "execution_count": 76,
   "metadata": {},
   "outputs": [
    {
     "name": "stdout",
     "output_type": "stream",
     "text": [
      "CPU times: total: 4.09 s\n",
      "Wall time: 7.09 s\n"
     ]
    },
    {
     "data": {
      "text/plain": [
       "<catboost.core.CatBoostRegressor at 0x1b830dc8580>"
      ]
     },
     "execution_count": 76,
     "metadata": {},
     "output_type": "execute_result"
    }
   ],
   "source": [
    "%%time\n",
    "\n",
    "# Модель на оригинальных данных с указанием категорий\n",
    "model = CatBoostRegressor(learning_rate=0.5, \n",
    "                          iterations = 100, \n",
    "                          random_state=1551, \n",
    "                          verbose=False,\n",
    "                          cat_features=['VehicleType','FuelType','Brand','Model']) \n",
    "model.fit(original_features_train, target_train)"
   ]
  },
  {
   "cell_type": "code",
   "execution_count": 77,
   "metadata": {},
   "outputs": [
    {
     "name": "stdout",
     "output_type": "stream",
     "text": [
      "CPU times: total: 31.2 ms\n",
      "Wall time: 50 ms\n"
     ]
    }
   ],
   "source": [
    "%%time\n",
    "\n",
    "target_predict = model.predict(original_features_test)"
   ]
  },
  {
   "cell_type": "code",
   "execution_count": 78,
   "metadata": {},
   "outputs": [],
   "source": [
    "final_RMSE_CBR_original = mean_squared_error(target_test, target_predict) ** 0.5"
   ]
  },
  {
   "cell_type": "code",
   "execution_count": 79,
   "metadata": {},
   "outputs": [
    {
     "data": {
      "text/plain": [
       "1231.2354537437666"
      ]
     },
     "execution_count": 79,
     "metadata": {},
     "output_type": "execute_result"
    }
   ],
   "source": [
    "final_RMSE_CBR_original"
   ]
  },
  {
   "cell_type": "markdown",
   "metadata": {},
   "source": [
    "**LGBM регрессия**"
   ]
  },
  {
   "cell_type": "code",
   "execution_count": 80,
   "metadata": {},
   "outputs": [
    {
     "name": "stdout",
     "output_type": "stream",
     "text": [
      "[LightGBM] [Warning] Auto-choosing row-wise multi-threading, the overhead of testing was 0.000378 seconds.\n",
      "You can set `force_row_wise=true` to remove the overhead.\n",
      "And if memory is not enough, you can set `force_col_wise=true`.\n",
      "[LightGBM] [Info] Total Bins 30\n",
      "[LightGBM] [Info] Number of data points in the train set: 133608, number of used features: 15\n",
      "[LightGBM] [Info] Start training from score 4153.827406\n",
      "[LightGBM] [Warning] No further splits with positive gain, best gain: -inf\n",
      "[LightGBM] [Warning] No further splits with positive gain, best gain: -inf\n",
      "[LightGBM] [Warning] No further splits with positive gain, best gain: -inf\n",
      "[LightGBM] [Warning] No further splits with positive gain, best gain: -inf\n",
      "[LightGBM] [Warning] No further splits with positive gain, best gain: -inf\n",
      "[LightGBM] [Warning] No further splits with positive gain, best gain: -inf\n",
      "[LightGBM] [Warning] No further splits with positive gain, best gain: -inf\n",
      "[LightGBM] [Warning] No further splits with positive gain, best gain: -inf\n",
      "[LightGBM] [Warning] No further splits with positive gain, best gain: -inf\n",
      "[LightGBM] [Warning] No further splits with positive gain, best gain: -inf\n",
      "[LightGBM] [Warning] No further splits with positive gain, best gain: -inf\n",
      "[LightGBM] [Warning] No further splits with positive gain, best gain: -inf\n",
      "[LightGBM] [Warning] No further splits with positive gain, best gain: -inf\n",
      "[LightGBM] [Warning] No further splits with positive gain, best gain: -inf\n",
      "[LightGBM] [Warning] No further splits with positive gain, best gain: -inf\n",
      "[LightGBM] [Warning] No further splits with positive gain, best gain: -inf\n",
      "[LightGBM] [Warning] No further splits with positive gain, best gain: -inf\n",
      "[LightGBM] [Warning] No further splits with positive gain, best gain: -inf\n",
      "[LightGBM] [Warning] No further splits with positive gain, best gain: -inf\n",
      "[LightGBM] [Warning] No further splits with positive gain, best gain: -inf\n",
      "[LightGBM] [Warning] No further splits with positive gain, best gain: -inf\n",
      "[LightGBM] [Warning] No further splits with positive gain, best gain: -inf\n",
      "[LightGBM] [Warning] No further splits with positive gain, best gain: -inf\n",
      "[LightGBM] [Warning] No further splits with positive gain, best gain: -inf\n",
      "[LightGBM] [Warning] No further splits with positive gain, best gain: -inf\n",
      "[LightGBM] [Warning] No further splits with positive gain, best gain: -inf\n",
      "[LightGBM] [Warning] No further splits with positive gain, best gain: -inf\n",
      "[LightGBM] [Warning] No further splits with positive gain, best gain: -inf\n",
      "[LightGBM] [Warning] No further splits with positive gain, best gain: -inf\n",
      "[LightGBM] [Warning] No further splits with positive gain, best gain: -inf\n",
      "[LightGBM] [Warning] No further splits with positive gain, best gain: -inf\n",
      "[LightGBM] [Warning] No further splits with positive gain, best gain: -inf\n",
      "[LightGBM] [Warning] No further splits with positive gain, best gain: -inf\n",
      "[LightGBM] [Warning] No further splits with positive gain, best gain: -inf\n",
      "[LightGBM] [Warning] No further splits with positive gain, best gain: -inf\n",
      "[LightGBM] [Warning] No further splits with positive gain, best gain: -inf\n",
      "[LightGBM] [Warning] No further splits with positive gain, best gain: -inf\n",
      "[LightGBM] [Warning] No further splits with positive gain, best gain: -inf\n",
      "[LightGBM] [Warning] No further splits with positive gain, best gain: -inf\n",
      "[LightGBM] [Warning] No further splits with positive gain, best gain: -inf\n",
      "[LightGBM] [Warning] No further splits with positive gain, best gain: -inf\n",
      "[LightGBM] [Warning] No further splits with positive gain, best gain: -inf\n",
      "[LightGBM] [Warning] No further splits with positive gain, best gain: -inf\n",
      "[LightGBM] [Warning] No further splits with positive gain, best gain: -inf\n",
      "[LightGBM] [Warning] No further splits with positive gain, best gain: -inf\n",
      "[LightGBM] [Warning] No further splits with positive gain, best gain: -inf\n",
      "[LightGBM] [Warning] No further splits with positive gain, best gain: -inf\n",
      "[LightGBM] [Warning] No further splits with positive gain, best gain: -inf\n",
      "[LightGBM] [Warning] No further splits with positive gain, best gain: -inf\n",
      "[LightGBM] [Warning] No further splits with positive gain, best gain: -inf\n",
      "[LightGBM] [Warning] No further splits with positive gain, best gain: -inf\n",
      "[LightGBM] [Warning] No further splits with positive gain, best gain: -inf\n",
      "[LightGBM] [Warning] No further splits with positive gain, best gain: -inf\n",
      "[LightGBM] [Warning] No further splits with positive gain, best gain: -inf\n",
      "[LightGBM] [Warning] No further splits with positive gain, best gain: -inf\n",
      "[LightGBM] [Warning] No further splits with positive gain, best gain: -inf\n",
      "[LightGBM] [Warning] No further splits with positive gain, best gain: -inf\n",
      "[LightGBM] [Warning] No further splits with positive gain, best gain: -inf\n",
      "[LightGBM] [Warning] No further splits with positive gain, best gain: -inf\n",
      "[LightGBM] [Warning] No further splits with positive gain, best gain: -inf\n",
      "[LightGBM] [Warning] No further splits with positive gain, best gain: -inf\n",
      "[LightGBM] [Warning] No further splits with positive gain, best gain: -inf\n",
      "[LightGBM] [Warning] No further splits with positive gain, best gain: -inf\n",
      "[LightGBM] [Warning] No further splits with positive gain, best gain: -inf\n",
      "[LightGBM] [Warning] No further splits with positive gain, best gain: -inf\n",
      "[LightGBM] [Warning] No further splits with positive gain, best gain: -inf\n",
      "[LightGBM] [Warning] No further splits with positive gain, best gain: -inf\n",
      "[LightGBM] [Warning] No further splits with positive gain, best gain: -inf\n",
      "[LightGBM] [Warning] No further splits with positive gain, best gain: -inf\n",
      "[LightGBM] [Warning] No further splits with positive gain, best gain: -inf\n",
      "[LightGBM] [Warning] No further splits with positive gain, best gain: -inf\n",
      "[LightGBM] [Warning] No further splits with positive gain, best gain: -inf\n",
      "[LightGBM] [Warning] No further splits with positive gain, best gain: -inf\n",
      "[LightGBM] [Warning] No further splits with positive gain, best gain: -inf\n",
      "[LightGBM] [Warning] No further splits with positive gain, best gain: -inf\n",
      "[LightGBM] [Warning] No further splits with positive gain, best gain: -inf\n",
      "[LightGBM] [Warning] No further splits with positive gain, best gain: -inf\n",
      "[LightGBM] [Warning] No further splits with positive gain, best gain: -inf\n",
      "[LightGBM] [Warning] No further splits with positive gain, best gain: -inf\n",
      "[LightGBM] [Warning] No further splits with positive gain, best gain: -inf\n",
      "[LightGBM] [Warning] No further splits with positive gain, best gain: -inf\n",
      "[LightGBM] [Warning] No further splits with positive gain, best gain: -inf\n",
      "[LightGBM] [Warning] No further splits with positive gain, best gain: -inf\n",
      "[LightGBM] [Warning] No further splits with positive gain, best gain: -inf\n",
      "[LightGBM] [Warning] No further splits with positive gain, best gain: -inf\n",
      "[LightGBM] [Warning] No further splits with positive gain, best gain: -inf\n",
      "[LightGBM] [Warning] No further splits with positive gain, best gain: -inf\n",
      "[LightGBM] [Warning] No further splits with positive gain, best gain: -inf\n",
      "[LightGBM] [Warning] No further splits with positive gain, best gain: -inf\n",
      "[LightGBM] [Warning] No further splits with positive gain, best gain: -inf\n",
      "[LightGBM] [Warning] No further splits with positive gain, best gain: -inf\n",
      "[LightGBM] [Warning] No further splits with positive gain, best gain: -inf\n",
      "[LightGBM] [Warning] No further splits with positive gain, best gain: -inf\n",
      "[LightGBM] [Warning] No further splits with positive gain, best gain: -inf\n",
      "[LightGBM] [Warning] No further splits with positive gain, best gain: -inf\n",
      "[LightGBM] [Warning] No further splits with positive gain, best gain: -inf\n",
      "[LightGBM] [Warning] No further splits with positive gain, best gain: -inf\n",
      "[LightGBM] [Warning] No further splits with positive gain, best gain: -inf\n",
      "[LightGBM] [Warning] No further splits with positive gain, best gain: -inf\n",
      "[LightGBM] [Warning] No further splits with positive gain, best gain: -inf\n",
      "CPU times: total: 906 ms\n",
      "Wall time: 181 ms\n"
     ]
    }
   ],
   "source": [
    "%%time\n",
    "\n",
    "model = LGBMRegressor(learning_rate=0.1, \n",
    "                      num_leaves=100, \n",
    "                      random_state=1515)\n",
    "model.fit(features_train_final, target_train)\n",
    "target_predict = model.predict(features_test_final)\n",
    "final_RMSE_LGBMR = mean_squared_error(target_test, target_predict) ** 0.5"
   ]
  },
  {
   "cell_type": "code",
   "execution_count": 81,
   "metadata": {},
   "outputs": [
    {
     "name": "stdout",
     "output_type": "stream",
     "text": [
      "CPU times: total: 172 ms\n",
      "Wall time: 30 ms\n"
     ]
    }
   ],
   "source": [
    "%%time\n",
    "\n",
    "target_predict = model.predict(features_test_final)"
   ]
  },
  {
   "cell_type": "code",
   "execution_count": 82,
   "metadata": {},
   "outputs": [],
   "source": [
    "final_RMSE_LGBMR = mean_squared_error(target_test, target_predict) ** 0.5"
   ]
  },
  {
   "cell_type": "code",
   "execution_count": 83,
   "metadata": {},
   "outputs": [
    {
     "data": {
      "text/plain": [
       "2506.5253605452267"
      ]
     },
     "execution_count": 83,
     "metadata": {},
     "output_type": "execute_result"
    }
   ],
   "source": [
    "final_RMSE_LGBMR"
   ]
  },
  {
   "cell_type": "markdown",
   "metadata": {},
   "source": [
    "## Анализ моделей"
   ]
  },
  {
   "cell_type": "code",
   "execution_count": 84,
   "metadata": {
    "scrolled": true
   },
   "outputs": [
    {
     "ename": "NameError",
     "evalue": "name 'cv_RMSE_DTR_TE' is not defined",
     "output_type": "error",
     "traceback": [
      "\u001b[1;31m---------------------------------------------------------------------------\u001b[0m",
      "\u001b[1;31mNameError\u001b[0m                                 Traceback (most recent call last)",
      "Cell \u001b[1;32mIn[84], line 8\u001b[0m\n\u001b[0;32m      1\u001b[0m index \u001b[38;5;241m=\u001b[39m [\u001b[38;5;124m'\u001b[39m\u001b[38;5;124mLinearRegression\u001b[39m\u001b[38;5;124m'\u001b[39m,\n\u001b[0;32m      2\u001b[0m          \u001b[38;5;124m'\u001b[39m\u001b[38;5;124mDecisionTreeRegressor on OHE features\u001b[39m\u001b[38;5;124m'\u001b[39m,\n\u001b[0;32m      3\u001b[0m          \u001b[38;5;124m'\u001b[39m\u001b[38;5;124mDecisionTreeRegressor \u001b[39m\u001b[38;5;124m'\u001b[39m,\n\u001b[0;32m      4\u001b[0m          \u001b[38;5;124m'\u001b[39m\u001b[38;5;124mCatBoostRegressor on OHE features\u001b[39m\u001b[38;5;124m'\u001b[39m,\n\u001b[0;32m      5\u001b[0m          \u001b[38;5;124m'\u001b[39m\u001b[38;5;124mCatBoostRegressor on original features\u001b[39m\u001b[38;5;124m'\u001b[39m,\n\u001b[0;32m      6\u001b[0m          \u001b[38;5;124m'\u001b[39m\u001b[38;5;124mLGBMRegressor\u001b[39m\u001b[38;5;124m'\u001b[39m]\n\u001b[0;32m      7\u001b[0m data \u001b[38;5;241m=\u001b[39m {\u001b[38;5;124m'\u001b[39m\u001b[38;5;124mRMSE на CV\u001b[39m\u001b[38;5;124m'\u001b[39m:[cv_RMSE_LR,\n\u001b[1;32m----> 8\u001b[0m                             \u001b[43mcv_RMSE_DTR_TE\u001b[49m,\n\u001b[0;32m      9\u001b[0m                             cv_RMSE_DTR_scaled,\n\u001b[0;32m     10\u001b[0m                             cv_RMSE_CBR,\n\u001b[0;32m     11\u001b[0m                             cv_RMSE_CBR_original,\n\u001b[0;32m     12\u001b[0m                             cv_RMSE_LGBMR],\n\u001b[0;32m     13\u001b[0m         \u001b[38;5;124m'\u001b[39m\u001b[38;5;124mВремя обучения на CV, сек\u001b[39m\u001b[38;5;124m'\u001b[39m:[\u001b[38;5;241m1\u001b[39m,\n\u001b[0;32m     14\u001b[0m                                      \u001b[38;5;241m2\u001b[39m,\n\u001b[0;32m     15\u001b[0m                                      \u001b[38;5;241m180\u001b[39m,\n\u001b[0;32m     16\u001b[0m                                      \u001b[38;5;241m353\u001b[39m,\n\u001b[0;32m     17\u001b[0m                                      \u001b[38;5;241m21\u001b[39m,\n\u001b[0;32m     18\u001b[0m                                      \u001b[38;5;241m31\u001b[39m],\n\u001b[0;32m     19\u001b[0m         \u001b[38;5;124m'\u001b[39m\u001b[38;5;124mRMSE модели на тестовой выборке\u001b[39m\u001b[38;5;124m'\u001b[39m:[final_RMSE_LR,\n\u001b[0;32m     20\u001b[0m                                                 final_RMSE_DTR_ohe,\n\u001b[0;32m     21\u001b[0m                                                 final_RMSE_DTR,\n\u001b[0;32m     22\u001b[0m                                                 final_RMSE_CBR,\n\u001b[0;32m     23\u001b[0m                                                 final_RMSE_CBR_original,\n\u001b[0;32m     24\u001b[0m                                                 final_RMSE_LGBMR],\n\u001b[0;32m     25\u001b[0m         \u001b[38;5;124m'\u001b[39m\u001b[38;5;124mВремя обучения модели, сек\u001b[39m\u001b[38;5;124m'\u001b[39m:[\u001b[38;5;241m2\u001b[39m,\n\u001b[0;32m     26\u001b[0m                                       \u001b[38;5;241m4\u001b[39m,\n\u001b[0;32m     27\u001b[0m                                       \u001b[38;5;241m0.3\u001b[39m,\n\u001b[0;32m     28\u001b[0m                                       \u001b[38;5;241m15\u001b[39m,\n\u001b[0;32m     29\u001b[0m                                       \u001b[38;5;241m3\u001b[39m,\n\u001b[0;32m     30\u001b[0m                                       \u001b[38;5;241m31\u001b[39m],\n\u001b[0;32m     31\u001b[0m         \u001b[38;5;124m'\u001b[39m\u001b[38;5;124mВремя предсказания модели, сек\u001b[39m\u001b[38;5;124m'\u001b[39m:[\u001b[38;5;241m0.1\u001b[39m,\n\u001b[0;32m     32\u001b[0m                                           \u001b[38;5;241m0.11\u001b[39m,\n\u001b[0;32m     33\u001b[0m                                           \u001b[38;5;241m0.12\u001b[39m,\n\u001b[0;32m     34\u001b[0m                                           \u001b[38;5;241m0.046\u001b[39m,\n\u001b[0;32m     35\u001b[0m                                           \u001b[38;5;241m0.043\u001b[39m,\n\u001b[0;32m     36\u001b[0m                                           \u001b[38;5;241m0.3\u001b[39m]}\n\u001b[0;32m     38\u001b[0m scores_data \u001b[38;5;241m=\u001b[39m pd\u001b[38;5;241m.\u001b[39mDataFrame(data\u001b[38;5;241m=\u001b[39mdata, index\u001b[38;5;241m=\u001b[39mindex)\n\u001b[0;32m     39\u001b[0m scores_data[\u001b[38;5;124m'\u001b[39m\u001b[38;5;124mРейтинг RMSE\u001b[39m\u001b[38;5;124m'\u001b[39m] \u001b[38;5;241m=\u001b[39m (scores_data[\u001b[38;5;124m'\u001b[39m\u001b[38;5;124mRMSE на CV\u001b[39m\u001b[38;5;124m'\u001b[39m]\u001b[38;5;241m.\u001b[39mmin() \u001b[38;5;241m/\u001b[39m\n\u001b[0;32m     40\u001b[0m                               scores_data[\u001b[38;5;124m'\u001b[39m\u001b[38;5;124mRMSE на CV\u001b[39m\u001b[38;5;124m'\u001b[39m])\n",
      "\u001b[1;31mNameError\u001b[0m: name 'cv_RMSE_DTR_TE' is not defined"
     ]
    }
   ],
   "source": [
    "index = ['LinearRegression',\n",
    "         'DecisionTreeRegressor on OHE features',\n",
    "         'DecisionTreeRegressor ',\n",
    "         'CatBoostRegressor on OHE features',\n",
    "         'CatBoostRegressor on original features',\n",
    "         'LGBMRegressor']\n",
    "data = {'RMSE на CV':[cv_RMSE_LR,\n",
    "                            cv_RMSE_DTR_TE,\n",
    "                            cv_RMSE_DTR_scaled,\n",
    "                            cv_RMSE_CBR,\n",
    "                            cv_RMSE_CBR_original,\n",
    "                            cv_RMSE_LGBMR],\n",
    "        'Время обучения на CV, сек':[1,\n",
    "                                     2,\n",
    "                                     180,\n",
    "                                     353,\n",
    "                                     21,\n",
    "                                     31],\n",
    "        'RMSE модели на тестовой выборке':[final_RMSE_LR,\n",
    "                                                final_RMSE_DTR_ohe,\n",
    "                                                final_RMSE_DTR,\n",
    "                                                final_RMSE_CBR,\n",
    "                                                final_RMSE_CBR_original,\n",
    "                                                final_RMSE_LGBMR],\n",
    "        'Время обучения модели, сек':[2,\n",
    "                                      4,\n",
    "                                      0.3,\n",
    "                                      15,\n",
    "                                      3,\n",
    "                                      31],\n",
    "        'Время предсказания модели, сек':[0.1,\n",
    "                                          0.11,\n",
    "                                          0.12,\n",
    "                                          0.046,\n",
    "                                          0.043,\n",
    "                                          0.3]}\n",
    "\n",
    "scores_data = pd.DataFrame(data=data, index=index)\n",
    "scores_data['Рейтинг RMSE'] = (scores_data['RMSE на CV'].min() /\n",
    "                              scores_data['RMSE на CV'])\n",
    "scores_data['Рейтинг времени обучения'] = (scores_data['Время обучения модели, сек'].min() / \n",
    "                              scores_data['Время обучения модели, сек'])\n",
    "scores_data['Рейтинг времени предсказания'] = (scores_data['Время предсказания модели, сек'].min() / \n",
    "                              scores_data['Время предсказания модели, сек'])\n",
    "scores_data['Итоговый рейтинг'] = (scores_data['Рейтинг RMSE'] +\n",
    "                                   scores_data['Рейтинг времени обучения'] +\n",
    "                                   scores_data['Рейтинг времени предсказания'])\n",
    "scores_data\n"
   ]
  },
  {
   "cell_type": "markdown",
   "metadata": {},
   "source": [
    "<div class=\"alert alert-warning\">\n",
    "<b>Комментарий 👉</b>\n",
    "\n",
    "Стас, почему на очень хорошая практика - вписывать цифры в ячейки вручную?\n",
    "</div>\n"
   ]
  },
  {
   "cell_type": "markdown",
   "metadata": {},
   "source": [
    " <div class=\"alert alert-warning\"> \n",
    "    **V4** Код работает, данные и выводы обновил.\n",
    "    \n",
    "    1. Наименьшее значение RMSE на кросс-валидации наблюдается у модели CatBoostRegressor on original features (1226.528423), что указывает на лучшую предсказательную способность этой модели на обучающей выборке. На втором месте находится DecisionTreeRegressor (2505), а на третьем месте - CatBoostRegressor on OHE features (2505). LinearRegression и LGBMRegressor имеют более высокие значения RMSE.\n",
    "    \n",
    "    2. Время обучения на CV: Наименьшее время обучения на CV (в секундах) имеет модель DecisionTreeRegressor (180 секунд), за ней следуют модели CatBoostRegressor on original features (21 секунда) и LinearRegression (1 секунда). LGBMRegressor имеет наибольшее время обучения на CV (31 секунда).\n",
    "\n",
    "    3. RMSE модели на тестовой выборке: Наименьшее значение RMSE на тестовой выборке также наблюдается у модели CatBoostRegressor on original features (1228.701761), что подтверждает ее хорошую предсказательную способность на новых данных. На втором месте находится DecisionTreeRegressor (2506.808761), а на третьем месте - CatBoostRegressor on OHE features (2506).\n",
    "    \n",
    "    4. Время обучения модели: Модель с наименьшим временем обучения (в секундах) - DecisionTreeRegressor (0.3 секунды), за ним следует CatBoostRegressor on original features (3 секунды), а затем LinearRegression (2 секунды). LGBMRegressor имеет наибольшее время обучения (31 секунда).\n",
    "\n",
    "    5. Время предсказания модели: Наименьшее время предсказания модели (в секундах) наблюдается у модели LinearRegression (2 секунды), за ним следует CatBoostRegressor on OHE features (15 секунд), а на третьем месте - CatBoostRegressor on original features (4 секунды).\n",
    "\n",
    "    6. Рейтинг RMSE: Модель с наименьшим значением RMSE на CV имеет наивысший рейтинг RMSE. В данном случае модель CatBoostRegressor on original features имеет рейтинг 1.0, что указывает на лучшую предсказательную способность среди всех моделей.\n",
    "\n",
    "    7. Рейтинг времени обучения: Модель с наименьшим временем обучения на CV имеет наивысший рейтинг времени обучения. В данном случае модель LinearRegression имеет рейтинг 1.0, что указывает на наименьшее время обучения среди всех моделей.\n"
   ]
  }
 ],
 "metadata": {
  "ExecuteTimeLog": [
   {
    "duration": 1651,
    "start_time": "2023-06-09T09:57:05.974Z"
   },
   {
    "duration": 3850,
    "start_time": "2023-06-09T09:57:17.472Z"
   },
   {
    "duration": 753,
    "start_time": "2023-06-09T09:57:24.597Z"
   },
   {
    "duration": 172,
    "start_time": "2023-06-09T09:57:41.599Z"
   },
   {
    "duration": 538,
    "start_time": "2023-06-09T09:57:49.626Z"
   },
   {
    "duration": 18,
    "start_time": "2023-06-09T09:58:01.006Z"
   },
   {
    "duration": 148,
    "start_time": "2023-06-09T09:58:07.213Z"
   },
   {
    "duration": 191,
    "start_time": "2023-06-09T09:58:24.330Z"
   },
   {
    "duration": 146,
    "start_time": "2023-06-09T09:58:41.921Z"
   },
   {
    "duration": 116,
    "start_time": "2023-06-09T09:59:03.350Z"
   },
   {
    "duration": 143,
    "start_time": "2023-06-09T10:25:55.221Z"
   },
   {
    "duration": 144,
    "start_time": "2023-06-09T10:27:31.468Z"
   },
   {
    "duration": 323,
    "start_time": "2023-06-09T10:28:16.141Z"
   },
   {
    "duration": 479,
    "start_time": "2023-06-09T10:28:22.865Z"
   },
   {
    "duration": 855,
    "start_time": "2023-06-09T10:28:49.819Z"
   },
   {
    "duration": 39,
    "start_time": "2023-06-09T10:28:59.473Z"
   },
   {
    "duration": 460,
    "start_time": "2023-06-09T10:29:08.729Z"
   },
   {
    "duration": 12,
    "start_time": "2023-06-09T10:29:28.505Z"
   },
   {
    "duration": 78,
    "start_time": "2023-06-09T10:29:56.399Z"
   },
   {
    "duration": 328,
    "start_time": "2023-06-09T10:30:55.503Z"
   },
   {
    "duration": 114,
    "start_time": "2023-06-09T10:31:13.869Z"
   },
   {
    "duration": 21,
    "start_time": "2023-06-09T10:31:22.410Z"
   },
   {
    "duration": 370,
    "start_time": "2023-06-09T10:31:32.669Z"
   },
   {
    "duration": 89,
    "start_time": "2023-06-09T10:31:46.665Z"
   },
   {
    "duration": 57,
    "start_time": "2023-06-09T10:31:56.669Z"
   },
   {
    "duration": 91,
    "start_time": "2023-06-09T10:32:11.222Z"
   },
   {
    "duration": 43,
    "start_time": "2023-06-09T10:32:29.469Z"
   },
   {
    "duration": 1958,
    "start_time": "2023-06-09T10:32:43.857Z"
   },
   {
    "duration": 2023,
    "start_time": "2023-06-09T10:33:02.861Z"
   },
   {
    "duration": 1884,
    "start_time": "2023-06-09T10:33:15.600Z"
   },
   {
    "duration": 1923,
    "start_time": "2023-06-09T10:33:36.699Z"
   },
   {
    "duration": 49,
    "start_time": "2023-06-09T10:33:50.062Z"
   },
   {
    "duration": 1960,
    "start_time": "2023-06-09T10:33:53.795Z"
   },
   {
    "duration": 1979,
    "start_time": "2023-06-09T10:33:59.346Z"
   },
   {
    "duration": 48,
    "start_time": "2023-06-09T10:34:25.202Z"
   },
   {
    "duration": 368,
    "start_time": "2023-06-09T10:34:34.003Z"
   },
   {
    "duration": 319,
    "start_time": "2023-06-09T10:34:52.529Z"
   },
   {
    "duration": 362,
    "start_time": "2023-06-09T10:35:20.373Z"
   },
   {
    "duration": 72,
    "start_time": "2023-06-09T10:35:49.266Z"
   },
   {
    "duration": 37,
    "start_time": "2023-06-09T10:36:06.226Z"
   },
   {
    "duration": 827,
    "start_time": "2023-06-09T10:36:19.398Z"
   },
   {
    "duration": 840,
    "start_time": "2023-06-09T10:36:25.628Z"
   },
   {
    "duration": 55,
    "start_time": "2023-06-09T10:36:36.865Z"
   },
   {
    "duration": 21,
    "start_time": "2023-06-09T10:36:50.007Z"
   },
   {
    "duration": 221,
    "start_time": "2023-06-09T10:36:59.941Z"
   },
   {
    "duration": 3,
    "start_time": "2023-06-09T10:37:08.605Z"
   },
   {
    "duration": 738,
    "start_time": "2023-06-09T10:38:37.355Z"
   },
   {
    "duration": 435,
    "start_time": "2023-06-09T10:38:55.314Z"
   },
   {
    "duration": 1837,
    "start_time": "2023-06-09T10:49:04.110Z"
   },
   {
    "duration": 1101,
    "start_time": "2023-06-09T10:49:05.949Z"
   },
   {
    "duration": 29,
    "start_time": "2023-06-09T10:49:07.053Z"
   },
   {
    "duration": 247,
    "start_time": "2023-06-09T10:49:07.087Z"
   },
   {
    "duration": 701,
    "start_time": "2023-06-09T10:49:07.337Z"
   },
   {
    "duration": 199,
    "start_time": "2023-06-09T10:49:08.040Z"
   },
   {
    "duration": 122,
    "start_time": "2023-06-09T10:49:08.240Z"
   },
   {
    "duration": 153,
    "start_time": "2023-06-09T10:49:08.364Z"
   },
   {
    "duration": 243,
    "start_time": "2023-06-09T10:49:08.518Z"
   },
   {
    "duration": 481,
    "start_time": "2023-06-09T10:49:08.763Z"
   },
   {
    "duration": 573,
    "start_time": "2023-06-09T10:49:09.246Z"
   },
   {
    "duration": 10,
    "start_time": "2023-06-09T10:49:09.821Z"
   },
   {
    "duration": 415,
    "start_time": "2023-06-09T10:49:09.832Z"
   },
   {
    "duration": 11,
    "start_time": "2023-06-09T10:49:10.250Z"
   },
   {
    "duration": 101,
    "start_time": "2023-06-09T10:49:10.263Z"
   },
   {
    "duration": 449,
    "start_time": "2023-06-09T10:49:10.366Z"
   },
   {
    "duration": 96,
    "start_time": "2023-06-09T10:49:10.820Z"
   },
   {
    "duration": 11,
    "start_time": "2023-06-09T10:49:10.921Z"
   },
   {
    "duration": 347,
    "start_time": "2023-06-09T10:49:10.934Z"
   },
   {
    "duration": 95,
    "start_time": "2023-06-09T10:49:11.285Z"
   },
   {
    "duration": 51,
    "start_time": "2023-06-09T10:49:11.382Z"
   },
   {
    "duration": 105,
    "start_time": "2023-06-09T10:49:11.435Z"
   },
   {
    "duration": 53,
    "start_time": "2023-06-09T10:49:11.542Z"
   },
   {
    "duration": 3007,
    "start_time": "2023-06-09T10:49:11.597Z"
   },
   {
    "duration": 2533,
    "start_time": "2023-06-09T10:49:14.606Z"
   },
   {
    "duration": 61,
    "start_time": "2023-06-09T10:49:17.142Z"
   },
   {
    "duration": 78,
    "start_time": "2023-06-09T10:49:17.206Z"
   },
   {
    "duration": 382,
    "start_time": "2023-06-09T10:49:17.288Z"
   },
   {
    "duration": 394,
    "start_time": "2023-06-09T10:49:17.672Z"
   },
   {
    "duration": 401,
    "start_time": "2023-06-09T10:49:18.068Z"
   },
   {
    "duration": 91,
    "start_time": "2023-06-09T10:49:18.471Z"
   },
   {
    "duration": 73,
    "start_time": "2023-06-09T10:49:18.564Z"
   },
   {
    "duration": 54,
    "start_time": "2023-06-09T10:49:18.639Z"
   },
   {
    "duration": 129,
    "start_time": "2023-06-09T10:49:18.696Z"
   },
   {
    "duration": 6,
    "start_time": "2023-06-09T10:49:18.831Z"
   },
   {
    "duration": 1018,
    "start_time": "2023-06-09T10:49:18.839Z"
   },
   {
    "duration": 522,
    "start_time": "2023-06-09T10:49:19.858Z"
   },
   {
    "duration": 1468,
    "start_time": "2023-06-09T10:57:54.492Z"
   },
   {
    "duration": 1148,
    "start_time": "2023-06-09T10:57:55.963Z"
   },
   {
    "duration": 38,
    "start_time": "2023-06-09T10:57:57.123Z"
   },
   {
    "duration": 258,
    "start_time": "2023-06-09T10:57:57.163Z"
   },
   {
    "duration": 649,
    "start_time": "2023-06-09T10:57:57.431Z"
   },
   {
    "duration": 190,
    "start_time": "2023-06-09T10:57:58.082Z"
   },
   {
    "duration": 123,
    "start_time": "2023-06-09T10:57:58.274Z"
   },
   {
    "duration": 162,
    "start_time": "2023-06-09T10:57:58.398Z"
   },
   {
    "duration": 290,
    "start_time": "2023-06-09T10:57:58.562Z"
   },
   {
    "duration": 647,
    "start_time": "2023-06-09T10:57:58.854Z"
   },
   {
    "duration": 609,
    "start_time": "2023-06-09T10:57:59.510Z"
   },
   {
    "duration": 17,
    "start_time": "2023-06-09T10:58:00.126Z"
   },
   {
    "duration": 436,
    "start_time": "2023-06-09T10:58:00.144Z"
   },
   {
    "duration": 13,
    "start_time": "2023-06-09T10:58:00.583Z"
   },
   {
    "duration": 154,
    "start_time": "2023-06-09T10:58:00.598Z"
   },
   {
    "duration": 446,
    "start_time": "2023-06-09T10:58:00.754Z"
   },
   {
    "duration": 91,
    "start_time": "2023-06-09T10:58:01.211Z"
   },
   {
    "duration": 75,
    "start_time": "2023-06-09T10:58:01.307Z"
   },
   {
    "duration": 442,
    "start_time": "2023-06-09T10:58:01.388Z"
   },
   {
    "duration": 115,
    "start_time": "2023-06-09T10:58:01.835Z"
   },
   {
    "duration": 66,
    "start_time": "2023-06-09T10:58:01.952Z"
   },
   {
    "duration": 119,
    "start_time": "2023-06-09T10:58:02.029Z"
   },
   {
    "duration": 59,
    "start_time": "2023-06-09T10:58:02.150Z"
   },
   {
    "duration": 3006,
    "start_time": "2023-06-09T10:58:02.211Z"
   },
   {
    "duration": 2072,
    "start_time": "2023-06-09T10:58:05.220Z"
   },
   {
    "duration": 56,
    "start_time": "2023-06-09T10:58:07.294Z"
   },
   {
    "duration": 94,
    "start_time": "2023-06-09T10:58:07.352Z"
   },
   {
    "duration": 361,
    "start_time": "2023-06-09T10:58:07.448Z"
   },
   {
    "duration": 339,
    "start_time": "2023-06-09T10:58:07.816Z"
   },
   {
    "duration": 345,
    "start_time": "2023-06-09T10:58:08.156Z"
   },
   {
    "duration": 78,
    "start_time": "2023-06-09T10:58:08.503Z"
   },
   {
    "duration": 68,
    "start_time": "2023-06-09T10:58:08.583Z"
   },
   {
    "duration": 54,
    "start_time": "2023-06-09T10:58:08.652Z"
   },
   {
    "duration": 102,
    "start_time": "2023-06-09T10:58:08.708Z"
   },
   {
    "duration": 13,
    "start_time": "2023-06-09T10:58:08.816Z"
   },
   {
    "duration": 816,
    "start_time": "2023-06-09T10:58:08.833Z"
   },
   {
    "duration": 501,
    "start_time": "2023-06-09T10:58:09.651Z"
   },
   {
    "duration": 425843,
    "start_time": "2023-06-09T10:58:10.155Z"
   },
   {
    "duration": 21,
    "start_time": "2023-06-09T11:25:24.590Z"
   },
   {
    "duration": 445791,
    "start_time": "2023-06-09T11:38:36.899Z"
   },
   {
    "duration": 440243,
    "start_time": "2023-06-09T12:03:33.002Z"
   },
   {
    "duration": 106163,
    "start_time": "2023-06-09T12:55:04.842Z"
   },
   {
    "duration": 6075,
    "start_time": "2023-06-09T13:11:33.398Z"
   },
   {
    "duration": 274852,
    "start_time": "2023-06-09T13:19:49.658Z"
   },
   {
    "duration": 28324,
    "start_time": "2023-06-09T13:27:53.860Z"
   },
   {
    "duration": 1566552,
    "start_time": "2023-06-09T13:30:31.030Z"
   },
   {
    "duration": 187,
    "start_time": "2023-06-09T16:33:55.137Z"
   },
   {
    "duration": 1435,
    "start_time": "2023-06-09T16:34:12.126Z"
   },
   {
    "duration": 1039,
    "start_time": "2023-06-09T16:34:13.563Z"
   },
   {
    "duration": 19,
    "start_time": "2023-06-09T16:34:14.603Z"
   },
   {
    "duration": 124,
    "start_time": "2023-06-09T16:34:14.623Z"
   },
   {
    "duration": 423,
    "start_time": "2023-06-09T16:34:14.749Z"
   },
   {
    "duration": 115,
    "start_time": "2023-06-09T16:34:15.173Z"
   },
   {
    "duration": 137,
    "start_time": "2023-06-09T16:34:15.295Z"
   },
   {
    "duration": 105,
    "start_time": "2023-06-09T16:34:15.434Z"
   },
   {
    "duration": 185,
    "start_time": "2023-06-09T16:34:15.541Z"
   },
   {
    "duration": 361,
    "start_time": "2023-06-09T16:34:15.727Z"
   },
   {
    "duration": 622,
    "start_time": "2023-06-09T16:34:16.090Z"
   },
   {
    "duration": 10,
    "start_time": "2023-06-09T16:34:16.714Z"
   },
   {
    "duration": 382,
    "start_time": "2023-06-09T16:34:16.725Z"
   },
   {
    "duration": 10,
    "start_time": "2023-06-09T16:34:17.110Z"
   },
   {
    "duration": 76,
    "start_time": "2023-06-09T16:34:17.122Z"
   },
   {
    "duration": 237,
    "start_time": "2023-06-09T16:34:17.199Z"
   },
   {
    "duration": 75,
    "start_time": "2023-06-09T16:34:17.437Z"
   },
   {
    "duration": 11,
    "start_time": "2023-06-09T16:34:17.514Z"
   },
   {
    "duration": 275,
    "start_time": "2023-06-09T16:34:17.527Z"
   },
   {
    "duration": 54,
    "start_time": "2023-06-09T16:34:17.803Z"
   },
   {
    "duration": 46,
    "start_time": "2023-06-09T16:34:17.858Z"
   },
   {
    "duration": 62,
    "start_time": "2023-06-09T16:34:17.906Z"
   },
   {
    "duration": 44,
    "start_time": "2023-06-09T16:34:17.970Z"
   },
   {
    "duration": 2150,
    "start_time": "2023-06-09T16:34:18.015Z"
   },
   {
    "duration": 1679,
    "start_time": "2023-06-09T16:34:20.168Z"
   },
   {
    "duration": 24,
    "start_time": "2023-06-09T16:34:21.848Z"
   },
   {
    "duration": 98,
    "start_time": "2023-06-09T16:34:21.874Z"
   },
   {
    "duration": 272,
    "start_time": "2023-06-09T16:34:21.973Z"
   },
   {
    "duration": 268,
    "start_time": "2023-06-09T16:34:22.246Z"
   },
   {
    "duration": 267,
    "start_time": "2023-06-09T16:34:22.516Z"
   },
   {
    "duration": 50,
    "start_time": "2023-06-09T16:34:22.784Z"
   },
   {
    "duration": 29,
    "start_time": "2023-06-09T16:34:22.836Z"
   },
   {
    "duration": 54,
    "start_time": "2023-06-09T16:34:22.866Z"
   },
   {
    "duration": 166,
    "start_time": "2023-06-09T16:34:22.922Z"
   },
   {
    "duration": 8,
    "start_time": "2023-06-09T16:34:23.090Z"
   },
   {
    "duration": 801,
    "start_time": "2023-06-09T16:34:23.100Z"
   },
   {
    "duration": 521,
    "start_time": "2023-06-09T16:34:23.903Z"
   },
   {
    "duration": 95163,
    "start_time": "2023-06-09T16:34:24.426Z"
   },
   {
    "duration": 92815,
    "start_time": "2023-06-09T16:35:59.593Z"
   },
   {
    "duration": 93785,
    "start_time": "2023-06-09T16:37:32.412Z"
   },
   {
    "duration": 60185,
    "start_time": "2023-06-09T16:39:06.200Z"
   },
   {
    "duration": 5169,
    "start_time": "2023-06-09T16:40:06.386Z"
   },
   {
    "duration": 227436,
    "start_time": "2023-06-09T16:40:11.557Z"
   },
   {
    "duration": 18556,
    "start_time": "2023-06-09T16:43:58.994Z"
   },
   {
    "duration": 67738,
    "start_time": "2023-06-09T16:44:17.551Z"
   },
   {
    "duration": 106,
    "start_time": "2023-06-09T17:01:55.575Z"
   },
   {
    "duration": 185,
    "start_time": "2023-06-09T17:02:07.774Z"
   },
   {
    "duration": 143,
    "start_time": "2023-06-09T17:04:37.801Z"
   },
   {
    "duration": 81,
    "start_time": "2023-06-09T17:07:52.975Z"
   },
   {
    "duration": 31911,
    "start_time": "2023-06-09T17:08:57.184Z"
   },
   {
    "duration": 121,
    "start_time": "2023-06-09T17:09:49.772Z"
   },
   {
    "duration": 3713,
    "start_time": "2023-06-09T17:10:00.514Z"
   },
   {
    "duration": 85,
    "start_time": "2023-06-09T17:10:12.681Z"
   },
   {
    "duration": 3,
    "start_time": "2023-06-09T17:10:20.773Z"
   },
   {
    "duration": 310,
    "start_time": "2023-06-09T17:10:33.748Z"
   },
   {
    "duration": 15,
    "start_time": "2023-06-09T17:10:41.754Z"
   },
   {
    "duration": 3,
    "start_time": "2023-06-09T17:10:49.124Z"
   },
   {
    "duration": 17434,
    "start_time": "2023-06-09T17:11:07.171Z"
   },
   {
    "duration": 51,
    "start_time": "2023-06-09T17:11:30.545Z"
   },
   {
    "duration": 4,
    "start_time": "2023-06-09T17:11:38.978Z"
   },
   {
    "duration": 4887,
    "start_time": "2023-06-09T17:11:47.478Z"
   },
   {
    "duration": 64,
    "start_time": "2023-06-09T17:11:54.764Z"
   },
   {
    "duration": 4,
    "start_time": "2023-06-09T17:12:01.744Z"
   },
   {
    "duration": 61051,
    "start_time": "2023-06-09T17:12:16.961Z"
   },
   {
    "duration": 179226,
    "start_time": "2023-06-09T17:13:25.919Z"
   },
   {
    "duration": 94,
    "start_time": "2023-06-09T17:17:04.806Z"
   },
   {
    "duration": 1370,
    "start_time": "2023-06-09T17:18:40.945Z"
   },
   {
    "duration": 1042,
    "start_time": "2023-06-09T17:18:42.317Z"
   },
   {
    "duration": 31,
    "start_time": "2023-06-09T17:18:43.361Z"
   },
   {
    "duration": 139,
    "start_time": "2023-06-09T17:18:43.395Z"
   },
   {
    "duration": 400,
    "start_time": "2023-06-09T17:18:43.536Z"
   },
   {
    "duration": 106,
    "start_time": "2023-06-09T17:18:43.938Z"
   },
   {
    "duration": 99,
    "start_time": "2023-06-09T17:18:44.045Z"
   },
   {
    "duration": 104,
    "start_time": "2023-06-09T17:18:44.145Z"
   },
   {
    "duration": 189,
    "start_time": "2023-06-09T17:18:44.250Z"
   },
   {
    "duration": 323,
    "start_time": "2023-06-09T17:18:44.442Z"
   },
   {
    "duration": 384,
    "start_time": "2023-06-09T17:18:44.766Z"
   },
   {
    "duration": 8,
    "start_time": "2023-06-09T17:18:45.151Z"
   },
   {
    "duration": 277,
    "start_time": "2023-06-09T17:18:45.160Z"
   },
   {
    "duration": 11,
    "start_time": "2023-06-09T17:18:45.438Z"
   },
   {
    "duration": 83,
    "start_time": "2023-06-09T17:18:45.450Z"
   },
   {
    "duration": 297,
    "start_time": "2023-06-09T17:18:45.535Z"
   },
   {
    "duration": 65,
    "start_time": "2023-06-09T17:18:45.833Z"
   },
   {
    "duration": 31,
    "start_time": "2023-06-09T17:18:45.900Z"
   },
   {
    "duration": 416,
    "start_time": "2023-06-09T17:18:45.933Z"
   },
   {
    "duration": 80,
    "start_time": "2023-06-09T17:18:46.351Z"
   },
   {
    "duration": 42,
    "start_time": "2023-06-09T17:18:46.433Z"
   },
   {
    "duration": 87,
    "start_time": "2023-06-09T17:18:46.477Z"
   },
   {
    "duration": 39,
    "start_time": "2023-06-09T17:18:46.565Z"
   },
   {
    "duration": 2136,
    "start_time": "2023-06-09T17:18:46.606Z"
   },
   {
    "duration": 1640,
    "start_time": "2023-06-09T17:18:48.743Z"
   },
   {
    "duration": 42,
    "start_time": "2023-06-09T17:18:50.385Z"
   },
   {
    "duration": 43,
    "start_time": "2023-06-09T17:18:50.428Z"
   },
   {
    "duration": 264,
    "start_time": "2023-06-09T17:18:50.474Z"
   },
   {
    "duration": 253,
    "start_time": "2023-06-09T17:18:50.739Z"
   },
   {
    "duration": 242,
    "start_time": "2023-06-09T17:18:51.001Z"
   },
   {
    "duration": 58,
    "start_time": "2023-06-09T17:18:51.245Z"
   },
   {
    "duration": 41,
    "start_time": "2023-06-09T17:18:51.304Z"
   },
   {
    "duration": 60,
    "start_time": "2023-06-09T17:18:51.346Z"
   },
   {
    "duration": 97,
    "start_time": "2023-06-09T17:18:51.409Z"
   },
   {
    "duration": 4,
    "start_time": "2023-06-09T17:18:51.509Z"
   },
   {
    "duration": 618,
    "start_time": "2023-06-09T17:18:51.515Z"
   },
   {
    "duration": 389,
    "start_time": "2023-06-09T17:18:52.135Z"
   },
   {
    "duration": 311059,
    "start_time": "2023-06-09T17:18:52.526Z"
   },
   {
    "duration": 326415,
    "start_time": "2023-06-09T17:24:03.588Z"
   },
   {
    "duration": 345492,
    "start_time": "2023-06-09T17:29:30.092Z"
   },
   {
    "duration": 63793,
    "start_time": "2023-06-09T17:35:15.588Z"
   },
   {
    "duration": 5428,
    "start_time": "2023-06-09T17:36:19.383Z"
   },
   {
    "duration": 245321,
    "start_time": "2023-06-09T17:36:24.813Z"
   },
   {
    "duration": 20200,
    "start_time": "2023-06-09T17:40:30.135Z"
   },
   {
    "duration": 1256,
    "start_time": "2023-06-10T12:02:20.005Z"
   },
   {
    "duration": 2955,
    "start_time": "2023-06-10T12:02:21.266Z"
   },
   {
    "duration": 20,
    "start_time": "2023-06-10T12:02:24.223Z"
   },
   {
    "duration": 99,
    "start_time": "2023-06-10T12:02:24.245Z"
   },
   {
    "duration": 496,
    "start_time": "2023-06-10T12:02:24.346Z"
   },
   {
    "duration": 105,
    "start_time": "2023-06-10T12:02:24.844Z"
   },
   {
    "duration": 118,
    "start_time": "2023-06-10T12:02:24.956Z"
   },
   {
    "duration": 103,
    "start_time": "2023-06-10T12:02:25.076Z"
   },
   {
    "duration": 183,
    "start_time": "2023-06-10T12:02:25.181Z"
   },
   {
    "duration": 340,
    "start_time": "2023-06-10T12:02:25.366Z"
   },
   {
    "duration": 584,
    "start_time": "2023-06-10T12:02:25.708Z"
   },
   {
    "duration": 14,
    "start_time": "2023-06-10T12:02:26.294Z"
   },
   {
    "duration": 513,
    "start_time": "2023-06-10T12:02:26.310Z"
   },
   {
    "duration": 12,
    "start_time": "2023-06-10T12:02:26.827Z"
   },
   {
    "duration": 88,
    "start_time": "2023-06-10T12:02:26.841Z"
   },
   {
    "duration": 309,
    "start_time": "2023-06-10T12:02:26.931Z"
   },
   {
    "duration": 96,
    "start_time": "2023-06-10T12:02:27.242Z"
   },
   {
    "duration": 26,
    "start_time": "2023-06-10T12:02:27.340Z"
   },
   {
    "duration": 346,
    "start_time": "2023-06-10T12:02:27.368Z"
   },
   {
    "duration": 77,
    "start_time": "2023-06-10T12:02:27.716Z"
   },
   {
    "duration": 29,
    "start_time": "2023-06-10T12:02:27.795Z"
   },
   {
    "duration": 95,
    "start_time": "2023-06-10T12:02:27.825Z"
   },
   {
    "duration": 47,
    "start_time": "2023-06-10T12:02:27.922Z"
   },
   {
    "duration": 2593,
    "start_time": "2023-06-10T12:02:27.971Z"
   },
   {
    "duration": 1715,
    "start_time": "2023-06-10T12:02:30.566Z"
   },
   {
    "duration": 28,
    "start_time": "2023-06-10T12:02:32.283Z"
   },
   {
    "duration": 50,
    "start_time": "2023-06-10T12:02:32.313Z"
   },
   {
    "duration": 307,
    "start_time": "2023-06-10T12:02:32.365Z"
   },
   {
    "duration": 293,
    "start_time": "2023-06-10T12:02:32.674Z"
   },
   {
    "duration": 294,
    "start_time": "2023-06-10T12:02:32.969Z"
   },
   {
    "duration": 45,
    "start_time": "2023-06-10T12:02:33.265Z"
   },
   {
    "duration": 50,
    "start_time": "2023-06-10T12:02:33.311Z"
   },
   {
    "duration": 32,
    "start_time": "2023-06-10T12:02:33.363Z"
   },
   {
    "duration": 215,
    "start_time": "2023-06-10T12:02:33.397Z"
   },
   {
    "duration": 3,
    "start_time": "2023-06-10T12:02:33.614Z"
   },
   {
    "duration": 721,
    "start_time": "2023-06-10T12:02:33.619Z"
   },
   {
    "duration": 418,
    "start_time": "2023-06-10T12:02:34.341Z"
   },
   {
    "duration": 85599,
    "start_time": "2023-06-10T12:02:34.761Z"
   },
   {
    "duration": 88815,
    "start_time": "2023-06-10T12:04:00.362Z"
   },
   {
    "duration": 88400,
    "start_time": "2023-06-10T12:05:29.258Z"
   },
   {
    "duration": 80238,
    "start_time": "2023-06-10T12:06:57.664Z"
   },
   {
    "duration": 5054,
    "start_time": "2023-06-10T12:08:17.903Z"
   },
   {
    "duration": 239100,
    "start_time": "2023-06-10T12:08:22.959Z"
   },
   {
    "duration": 18764,
    "start_time": "2023-06-10T12:12:22.060Z"
   },
   {
    "duration": 52141,
    "start_time": "2023-06-10T12:12:40.826Z"
   },
   {
    "duration": 18899,
    "start_time": "2023-06-10T12:13:32.968Z"
   },
   {
    "duration": 506,
    "start_time": "2023-06-10T12:13:51.958Z"
   },
   {
    "duration": 4604,
    "start_time": "2023-06-10T12:13:52.465Z"
   },
   {
    "duration": 111,
    "start_time": "2023-06-10T12:13:57.071Z"
   },
   {
    "duration": 4,
    "start_time": "2023-06-10T12:13:57.183Z"
   },
   {
    "duration": 307,
    "start_time": "2023-06-10T12:13:57.188Z"
   },
   {
    "duration": 12,
    "start_time": "2023-06-10T12:13:57.497Z"
   },
   {
    "duration": 10,
    "start_time": "2023-06-10T12:13:57.510Z"
   },
   {
    "duration": 17789,
    "start_time": "2023-06-10T12:13:57.522Z"
   },
   {
    "duration": 47,
    "start_time": "2023-06-10T12:14:15.312Z"
   },
   {
    "duration": 3,
    "start_time": "2023-06-10T12:14:15.360Z"
   },
   {
    "duration": 4384,
    "start_time": "2023-06-10T12:14:15.365Z"
   },
   {
    "duration": 42,
    "start_time": "2023-06-10T12:14:19.750Z"
   },
   {
    "duration": 4,
    "start_time": "2023-06-10T12:14:19.793Z"
   },
   {
    "duration": 5881,
    "start_time": "2023-06-10T12:14:19.799Z"
   },
   {
    "duration": 487,
    "start_time": "2023-06-10T12:14:25.682Z"
   },
   {
    "duration": 4,
    "start_time": "2023-06-10T12:14:26.170Z"
   },
   {
    "duration": 28,
    "start_time": "2023-06-10T12:14:26.176Z"
   },
   {
    "duration": 65,
    "start_time": "2023-06-10T12:21:34.965Z"
   },
   {
    "duration": 64,
    "start_time": "2023-06-10T12:21:55.587Z"
   },
   {
    "duration": 20105,
    "start_time": "2023-06-10T12:22:04.361Z"
   },
   {
    "duration": 301,
    "start_time": "2023-06-10T12:22:24.558Z"
   },
   {
    "duration": 22,
    "start_time": "2023-06-10T12:24:23.541Z"
   },
   {
    "duration": 50,
    "start_time": "2023-06-10T12:32:28.313Z"
   },
   {
    "duration": 26,
    "start_time": "2023-06-10T12:46:34.106Z"
   },
   {
    "duration": 72,
    "start_time": "2023-06-10T12:47:03.784Z"
   },
   {
    "duration": 67,
    "start_time": "2023-06-10T12:47:24.516Z"
   },
   {
    "duration": 1400,
    "start_time": "2023-06-10T12:48:32.636Z"
   },
   {
    "duration": 22,
    "start_time": "2023-06-10T12:57:08.497Z"
   },
   {
    "duration": 24,
    "start_time": "2023-06-10T12:57:27.092Z"
   },
   {
    "duration": 11,
    "start_time": "2023-06-10T14:22:03.682Z"
   },
   {
    "duration": 4,
    "start_time": "2023-06-10T14:22:31.916Z"
   },
   {
    "duration": 864,
    "start_time": "2023-06-10T14:22:31.922Z"
   },
   {
    "duration": 14,
    "start_time": "2023-06-10T14:22:32.788Z"
   },
   {
    "duration": 132,
    "start_time": "2023-06-10T14:22:32.804Z"
   },
   {
    "duration": 487,
    "start_time": "2023-06-10T14:22:32.939Z"
   },
   {
    "duration": 101,
    "start_time": "2023-06-10T14:22:33.428Z"
   },
   {
    "duration": 99,
    "start_time": "2023-06-10T14:22:33.531Z"
   },
   {
    "duration": 97,
    "start_time": "2023-06-10T14:22:33.632Z"
   },
   {
    "duration": 168,
    "start_time": "2023-06-10T14:22:33.731Z"
   },
   {
    "duration": 352,
    "start_time": "2023-06-10T14:22:33.901Z"
   },
   {
    "duration": 269,
    "start_time": "2023-06-10T14:22:34.256Z"
   },
   {
    "duration": 9,
    "start_time": "2023-06-10T14:22:34.526Z"
   },
   {
    "duration": 343,
    "start_time": "2023-06-10T14:22:34.536Z"
   },
   {
    "duration": 13,
    "start_time": "2023-06-10T14:22:34.881Z"
   },
   {
    "duration": 91,
    "start_time": "2023-06-10T14:22:34.896Z"
   },
   {
    "duration": 285,
    "start_time": "2023-06-10T14:22:34.989Z"
   },
   {
    "duration": 69,
    "start_time": "2023-06-10T14:22:35.275Z"
   },
   {
    "duration": 13,
    "start_time": "2023-06-10T14:22:35.357Z"
   },
   {
    "duration": 331,
    "start_time": "2023-06-10T14:22:35.371Z"
   },
   {
    "duration": 70,
    "start_time": "2023-06-10T14:22:35.703Z"
   },
   {
    "duration": 28,
    "start_time": "2023-06-10T14:22:35.775Z"
   },
   {
    "duration": 97,
    "start_time": "2023-06-10T14:22:35.804Z"
   },
   {
    "duration": 32,
    "start_time": "2023-06-10T14:22:35.904Z"
   },
   {
    "duration": 2329,
    "start_time": "2023-06-10T14:22:35.938Z"
   },
   {
    "duration": 1549,
    "start_time": "2023-06-10T14:22:38.269Z"
   },
   {
    "duration": 40,
    "start_time": "2023-06-10T14:22:39.820Z"
   },
   {
    "duration": 40,
    "start_time": "2023-06-10T14:22:39.862Z"
   },
   {
    "duration": 310,
    "start_time": "2023-06-10T14:22:39.904Z"
   },
   {
    "duration": 403,
    "start_time": "2023-06-10T14:22:40.217Z"
   },
   {
    "duration": 300,
    "start_time": "2023-06-10T14:22:40.621Z"
   },
   {
    "duration": 42,
    "start_time": "2023-06-10T14:22:40.923Z"
   },
   {
    "duration": 33,
    "start_time": "2023-06-10T14:22:40.966Z"
   },
   {
    "duration": 32,
    "start_time": "2023-06-10T14:22:41.000Z"
   },
   {
    "duration": 72,
    "start_time": "2023-06-10T14:22:41.056Z"
   },
   {
    "duration": 3,
    "start_time": "2023-06-10T14:22:41.129Z"
   },
   {
    "duration": 786,
    "start_time": "2023-06-10T14:22:41.134Z"
   },
   {
    "duration": 414,
    "start_time": "2023-06-10T14:22:41.922Z"
   },
   {
    "duration": 11,
    "start_time": "2023-06-10T14:22:42.338Z"
   },
   {
    "duration": 86363,
    "start_time": "2023-06-10T14:24:13.893Z"
   },
   {
    "duration": 11,
    "start_time": "2023-06-10T14:25:43.211Z"
   },
   {
    "duration": 13,
    "start_time": "2023-06-10T14:29:17.484Z"
   },
   {
    "duration": 42,
    "start_time": "2023-06-10T14:51:05.771Z"
   },
   {
    "duration": 20,
    "start_time": "2023-06-10T14:51:17.206Z"
   },
   {
    "duration": 659,
    "start_time": "2023-06-10T14:52:04.849Z"
   },
   {
    "duration": 13,
    "start_time": "2023-06-10T14:52:07.856Z"
   },
   {
    "duration": 50,
    "start_time": "2023-06-10T14:53:15.564Z"
   },
   {
    "duration": 11,
    "start_time": "2023-06-10T14:53:20.755Z"
   },
   {
    "duration": 47,
    "start_time": "2023-06-10T14:54:38.112Z"
   },
   {
    "duration": 4,
    "start_time": "2023-06-10T14:56:18.008Z"
   },
   {
    "duration": 797,
    "start_time": "2023-06-10T14:56:18.014Z"
   },
   {
    "duration": 13,
    "start_time": "2023-06-10T14:56:18.813Z"
   },
   {
    "duration": 111,
    "start_time": "2023-06-10T14:56:18.828Z"
   },
   {
    "duration": 417,
    "start_time": "2023-06-10T14:56:18.941Z"
   },
   {
    "duration": 101,
    "start_time": "2023-06-10T14:56:19.360Z"
   },
   {
    "duration": 100,
    "start_time": "2023-06-10T14:56:19.463Z"
   },
   {
    "duration": 80,
    "start_time": "2023-06-10T14:56:19.565Z"
   },
   {
    "duration": 159,
    "start_time": "2023-06-10T14:56:19.647Z"
   },
   {
    "duration": 302,
    "start_time": "2023-06-10T14:56:19.807Z"
   },
   {
    "duration": 278,
    "start_time": "2023-06-10T14:56:20.110Z"
   },
   {
    "duration": 9,
    "start_time": "2023-06-10T14:56:20.390Z"
   },
   {
    "duration": 338,
    "start_time": "2023-06-10T14:56:20.400Z"
   },
   {
    "duration": 18,
    "start_time": "2023-06-10T14:56:20.741Z"
   },
   {
    "duration": 62,
    "start_time": "2023-06-10T14:56:20.761Z"
   },
   {
    "duration": 266,
    "start_time": "2023-06-10T14:56:20.825Z"
   },
   {
    "duration": 65,
    "start_time": "2023-06-10T14:56:21.093Z"
   },
   {
    "duration": 11,
    "start_time": "2023-06-10T14:56:21.159Z"
   },
   {
    "duration": 430,
    "start_time": "2023-06-10T14:56:21.172Z"
   },
   {
    "duration": 68,
    "start_time": "2023-06-10T14:56:21.604Z"
   },
   {
    "duration": 28,
    "start_time": "2023-06-10T14:56:21.674Z"
   },
   {
    "duration": 91,
    "start_time": "2023-06-10T14:56:21.704Z"
   },
   {
    "duration": 32,
    "start_time": "2023-06-10T14:56:21.796Z"
   },
   {
    "duration": 2239,
    "start_time": "2023-06-10T14:56:21.830Z"
   },
   {
    "duration": 1559,
    "start_time": "2023-06-10T14:56:24.070Z"
   },
   {
    "duration": 36,
    "start_time": "2023-06-10T14:56:25.631Z"
   },
   {
    "duration": 40,
    "start_time": "2023-06-10T14:56:25.669Z"
   },
   {
    "duration": 301,
    "start_time": "2023-06-10T14:56:25.711Z"
   },
   {
    "duration": 276,
    "start_time": "2023-06-10T14:56:26.014Z"
   },
   {
    "duration": 278,
    "start_time": "2023-06-10T14:56:26.292Z"
   },
   {
    "duration": 44,
    "start_time": "2023-06-10T14:56:26.572Z"
   },
   {
    "duration": 57,
    "start_time": "2023-06-10T14:56:26.618Z"
   },
   {
    "duration": 40,
    "start_time": "2023-06-10T14:56:26.677Z"
   },
   {
    "duration": 102,
    "start_time": "2023-06-10T14:56:26.719Z"
   },
   {
    "duration": 3,
    "start_time": "2023-06-10T14:56:26.823Z"
   },
   {
    "duration": 924,
    "start_time": "2023-06-10T14:56:26.828Z"
   },
   {
    "duration": 12,
    "start_time": "2023-06-10T14:56:45.197Z"
   },
   {
    "duration": 43,
    "start_time": "2023-06-10T14:56:50.996Z"
   },
   {
    "duration": 405,
    "start_time": "2023-06-10T14:57:01.063Z"
   },
   {
    "duration": 13,
    "start_time": "2023-06-10T15:11:25.551Z"
   },
   {
    "duration": 11,
    "start_time": "2023-06-10T15:11:57.236Z"
   },
   {
    "duration": 10,
    "start_time": "2023-06-10T15:12:25.120Z"
   },
   {
    "duration": 11,
    "start_time": "2023-06-10T15:15:53.620Z"
   },
   {
    "duration": 54,
    "start_time": "2023-06-10T15:16:44.246Z"
   },
   {
    "duration": 13,
    "start_time": "2023-06-10T15:17:35.289Z"
   },
   {
    "duration": 11,
    "start_time": "2023-06-10T15:17:47.170Z"
   },
   {
    "duration": 12,
    "start_time": "2023-06-10T15:17:52.315Z"
   },
   {
    "duration": 12,
    "start_time": "2023-06-10T15:18:28.221Z"
   },
   {
    "duration": 4,
    "start_time": "2023-06-10T15:18:33.995Z"
   },
   {
    "duration": 13,
    "start_time": "2023-06-10T15:30:27.048Z"
   },
   {
    "duration": 14,
    "start_time": "2023-06-10T15:32:30.873Z"
   },
   {
    "duration": 2873,
    "start_time": "2023-06-10T15:35:16.839Z"
   },
   {
    "duration": 2130,
    "start_time": "2023-06-10T15:35:33.862Z"
   },
   {
    "duration": 2067,
    "start_time": "2023-06-10T15:36:55.920Z"
   },
   {
    "duration": 294,
    "start_time": "2023-06-10T15:37:57.210Z"
   },
   {
    "duration": 2006,
    "start_time": "2023-06-10T15:38:05.293Z"
   },
   {
    "duration": 60,
    "start_time": "2023-06-10T15:43:32.644Z"
   },
   {
    "duration": 14,
    "start_time": "2023-06-10T15:43:37.458Z"
   },
   {
    "duration": 61,
    "start_time": "2023-06-10T15:44:32.820Z"
   },
   {
    "duration": 675,
    "start_time": "2023-06-10T15:45:02.437Z"
   },
   {
    "duration": 699,
    "start_time": "2023-06-10T15:45:51.680Z"
   },
   {
    "duration": 1994,
    "start_time": "2023-06-10T15:48:11.137Z"
   },
   {
    "duration": 2134,
    "start_time": "2023-06-10T15:48:25.633Z"
   },
   {
    "duration": 1957,
    "start_time": "2023-06-10T15:48:41.370Z"
   },
   {
    "duration": 724,
    "start_time": "2023-06-10T15:48:47.593Z"
   },
   {
    "duration": 17,
    "start_time": "2023-06-10T15:51:17.816Z"
   },
   {
    "duration": 17,
    "start_time": "2023-06-10T15:55:02.763Z"
   },
   {
    "duration": 710,
    "start_time": "2023-06-10T15:56:33.686Z"
   },
   {
    "duration": 9,
    "start_time": "2023-06-10T15:59:09.137Z"
   },
   {
    "duration": 4,
    "start_time": "2023-06-10T15:59:23.415Z"
   },
   {
    "duration": 4,
    "start_time": "2023-06-10T16:00:03.712Z"
   },
   {
    "duration": 3,
    "start_time": "2023-06-10T16:00:17.300Z"
   },
   {
    "duration": 643,
    "start_time": "2023-06-10T16:09:25.728Z"
   },
   {
    "duration": 23,
    "start_time": "2023-06-10T16:09:43.477Z"
   },
   {
    "duration": 668,
    "start_time": "2023-06-10T16:09:56.862Z"
   },
   {
    "duration": 11,
    "start_time": "2023-06-10T16:10:33.485Z"
   },
   {
    "duration": 16,
    "start_time": "2023-06-10T16:15:03.998Z"
   },
   {
    "duration": 46,
    "start_time": "2023-06-10T16:15:54.683Z"
   },
   {
    "duration": 49,
    "start_time": "2023-06-10T16:16:05.373Z"
   },
   {
    "duration": 13,
    "start_time": "2023-06-10T16:16:05.823Z"
   },
   {
    "duration": 61,
    "start_time": "2023-06-10T16:17:12.983Z"
   },
   {
    "duration": 675,
    "start_time": "2023-06-10T16:24:49.438Z"
   },
   {
    "duration": 34,
    "start_time": "2023-06-10T16:26:35.064Z"
   },
   {
    "duration": 44,
    "start_time": "2023-06-10T16:28:43.238Z"
   },
   {
    "duration": 3,
    "start_time": "2023-06-10T16:28:51.428Z"
   },
   {
    "duration": 15,
    "start_time": "2023-06-10T16:28:57.006Z"
   },
   {
    "duration": 3,
    "start_time": "2023-06-10T16:29:54.035Z"
   },
   {
    "duration": 95,
    "start_time": "2023-06-10T16:30:07.043Z"
   },
   {
    "duration": 87,
    "start_time": "2023-06-10T16:30:18.564Z"
   },
   {
    "duration": 20,
    "start_time": "2023-06-10T16:30:53.845Z"
   },
   {
    "duration": 34,
    "start_time": "2023-06-10T16:31:04.423Z"
   },
   {
    "duration": 29,
    "start_time": "2023-06-10T16:31:04.720Z"
   },
   {
    "duration": 16,
    "start_time": "2023-06-10T16:31:04.992Z"
   },
   {
    "duration": 667,
    "start_time": "2023-06-10T16:31:15.901Z"
   },
   {
    "duration": 34,
    "start_time": "2023-06-10T16:31:42.946Z"
   },
   {
    "duration": 16,
    "start_time": "2023-06-10T16:31:47.329Z"
   },
   {
    "duration": 34,
    "start_time": "2023-06-10T16:33:03.343Z"
   },
   {
    "duration": 15,
    "start_time": "2023-06-10T16:33:03.740Z"
   },
   {
    "duration": 30,
    "start_time": "2023-06-10T16:34:18.013Z"
   },
   {
    "duration": 35,
    "start_time": "2023-06-10T16:34:19.639Z"
   },
   {
    "duration": 18,
    "start_time": "2023-06-10T16:34:20.272Z"
   },
   {
    "duration": 634,
    "start_time": "2023-06-10T16:35:13.038Z"
   },
   {
    "duration": 1947,
    "start_time": "2023-06-10T16:35:44.726Z"
   },
   {
    "duration": 670,
    "start_time": "2023-06-10T16:35:58.907Z"
   },
   {
    "duration": 655,
    "start_time": "2023-06-10T16:36:46.092Z"
   },
   {
    "duration": 680,
    "start_time": "2023-06-10T16:36:55.628Z"
   },
   {
    "duration": 12,
    "start_time": "2023-06-10T16:37:35.459Z"
   },
   {
    "duration": 9,
    "start_time": "2023-06-10T16:37:44.430Z"
   },
   {
    "duration": 627,
    "start_time": "2023-06-10T16:37:53.119Z"
   },
   {
    "duration": 39,
    "start_time": "2023-06-10T16:55:06.786Z"
   },
   {
    "duration": 34,
    "start_time": "2023-06-10T16:55:13.413Z"
   },
   {
    "duration": 25,
    "start_time": "2023-06-10T16:55:14.220Z"
   },
   {
    "duration": 67,
    "start_time": "2023-06-10T16:55:15.769Z"
   },
   {
    "duration": 29,
    "start_time": "2023-06-10T16:55:17.286Z"
   },
   {
    "duration": 1478,
    "start_time": "2023-06-10T16:55:20.379Z"
   },
   {
    "duration": 1668,
    "start_time": "2023-06-10T16:55:35.165Z"
   },
   {
    "duration": 1899,
    "start_time": "2023-06-10T16:55:46.374Z"
   },
   {
    "duration": 786,
    "start_time": "2023-06-10T16:55:48.276Z"
   },
   {
    "duration": 15,
    "start_time": "2023-06-10T16:55:52.000Z"
   },
   {
    "duration": 99,
    "start_time": "2023-06-10T16:55:53.711Z"
   },
   {
    "duration": 421,
    "start_time": "2023-06-10T16:55:59.654Z"
   },
   {
    "duration": 95,
    "start_time": "2023-06-10T16:56:02.893Z"
   },
   {
    "duration": 87,
    "start_time": "2023-06-10T16:56:05.639Z"
   },
   {
    "duration": 80,
    "start_time": "2023-06-10T16:56:10.202Z"
   },
   {
    "duration": 139,
    "start_time": "2023-06-10T16:56:13.176Z"
   },
   {
    "duration": 312,
    "start_time": "2023-06-10T16:56:13.914Z"
   },
   {
    "duration": 252,
    "start_time": "2023-06-10T16:56:15.623Z"
   },
   {
    "duration": 8,
    "start_time": "2023-06-10T16:56:18.061Z"
   },
   {
    "duration": 424,
    "start_time": "2023-06-10T16:56:20.095Z"
   },
   {
    "duration": 13,
    "start_time": "2023-06-10T16:56:23.125Z"
   },
   {
    "duration": 82,
    "start_time": "2023-06-10T16:56:31.555Z"
   },
   {
    "duration": 280,
    "start_time": "2023-06-10T16:56:33.832Z"
   },
   {
    "duration": 65,
    "start_time": "2023-06-10T16:56:35.735Z"
   },
   {
    "duration": 12,
    "start_time": "2023-06-10T16:56:36.453Z"
   },
   {
    "duration": 303,
    "start_time": "2023-06-10T16:56:37.017Z"
   },
   {
    "duration": 62,
    "start_time": "2023-06-10T16:56:44.260Z"
   },
   {
    "duration": 24,
    "start_time": "2023-06-10T16:56:45.208Z"
   },
   {
    "duration": 67,
    "start_time": "2023-06-10T16:56:46.790Z"
   },
   {
    "duration": 33,
    "start_time": "2023-06-10T16:56:49.732Z"
   },
   {
    "duration": 2146,
    "start_time": "2023-06-10T16:56:53.214Z"
   },
   {
    "duration": 1609,
    "start_time": "2023-06-10T16:57:01.806Z"
   },
   {
    "duration": 31,
    "start_time": "2023-06-10T16:57:05.821Z"
   },
   {
    "duration": 38,
    "start_time": "2023-06-10T16:57:06.695Z"
   },
   {
    "duration": 283,
    "start_time": "2023-06-10T16:57:08.177Z"
   },
   {
    "duration": 259,
    "start_time": "2023-06-10T16:57:08.784Z"
   },
   {
    "duration": 408,
    "start_time": "2023-06-10T16:57:10.259Z"
   },
   {
    "duration": 41,
    "start_time": "2023-06-10T16:57:12.811Z"
   },
   {
    "duration": 31,
    "start_time": "2023-06-10T16:57:13.516Z"
   },
   {
    "duration": 32,
    "start_time": "2023-06-10T16:57:14.207Z"
   },
   {
    "duration": 72,
    "start_time": "2023-06-10T16:57:15.002Z"
   },
   {
    "duration": 4,
    "start_time": "2023-06-10T16:57:21.489Z"
   },
   {
    "duration": 824,
    "start_time": "2023-06-10T16:57:29.969Z"
   },
   {
    "duration": 53,
    "start_time": "2023-06-10T16:57:58.097Z"
   },
   {
    "duration": 54,
    "start_time": "2023-06-10T16:58:01.775Z"
   },
   {
    "duration": 50,
    "start_time": "2023-06-10T16:58:05.327Z"
   },
   {
    "duration": 3,
    "start_time": "2023-06-10T16:58:20.115Z"
   },
   {
    "duration": 35,
    "start_time": "2023-06-10T16:58:24.685Z"
   },
   {
    "duration": 691,
    "start_time": "2023-06-10T16:58:26.662Z"
   },
   {
    "duration": 7,
    "start_time": "2023-06-10T16:59:09.739Z"
   },
   {
    "duration": 10,
    "start_time": "2023-06-10T16:59:16.156Z"
   },
   {
    "duration": 83,
    "start_time": "2023-06-10T17:00:49.926Z"
   },
   {
    "duration": 76,
    "start_time": "2023-06-10T17:01:19.174Z"
   },
   {
    "duration": 64,
    "start_time": "2023-06-10T17:01:21.397Z"
   },
   {
    "duration": 87,
    "start_time": "2023-06-10T17:01:37.950Z"
   },
   {
    "duration": 80,
    "start_time": "2023-06-10T17:02:16.871Z"
   },
   {
    "duration": 88,
    "start_time": "2023-06-10T17:02:35.717Z"
   },
   {
    "duration": 77,
    "start_time": "2023-06-10T17:03:13.332Z"
   },
   {
    "duration": 2105,
    "start_time": "2023-06-10T17:04:39.691Z"
   },
   {
    "duration": 87,
    "start_time": "2023-06-10T17:04:45.728Z"
   },
   {
    "duration": 89,
    "start_time": "2023-06-10T17:05:11.327Z"
   },
   {
    "duration": 568,
    "start_time": "2023-06-10T17:07:47.593Z"
   },
   {
    "duration": 712,
    "start_time": "2023-06-10T17:08:30.248Z"
   },
   {
    "duration": 163,
    "start_time": "2023-06-10T17:08:50.940Z"
   },
   {
    "duration": 694,
    "start_time": "2023-06-10T17:08:56.466Z"
   },
   {
    "duration": 754,
    "start_time": "2023-06-10T17:09:02.507Z"
   },
   {
    "duration": 58,
    "start_time": "2023-06-10T17:09:51.998Z"
   },
   {
    "duration": 16,
    "start_time": "2023-06-10T17:10:40.003Z"
   },
   {
    "duration": 380,
    "start_time": "2023-06-10T17:10:46.284Z"
   },
   {
    "duration": 80607,
    "start_time": "2023-06-10T17:13:56.392Z"
   },
   {
    "duration": 678,
    "start_time": "2023-06-10T17:16:18.998Z"
   },
   {
    "duration": 626,
    "start_time": "2023-06-10T17:16:52.694Z"
   },
   {
    "duration": 697,
    "start_time": "2023-06-10T17:17:01.817Z"
   },
   {
    "duration": 766,
    "start_time": "2023-06-10T17:17:35.337Z"
   },
   {
    "duration": 140,
    "start_time": "2023-06-10T17:17:54.723Z"
   },
   {
    "duration": 677,
    "start_time": "2023-06-10T17:21:28.652Z"
   },
   {
    "duration": 2,
    "start_time": "2023-06-10T17:21:32.522Z"
   },
   {
    "duration": 13,
    "start_time": "2023-06-10T17:21:33.394Z"
   },
   {
    "duration": 77,
    "start_time": "2023-06-10T17:21:33.538Z"
   },
   {
    "duration": 437,
    "start_time": "2023-06-10T17:21:35.823Z"
   },
   {
    "duration": 710,
    "start_time": "2023-06-10T17:21:37.548Z"
   },
   {
    "duration": 904,
    "start_time": "2023-06-10T17:21:38.260Z"
   },
   {
    "duration": 130,
    "start_time": "2023-06-10T17:21:40.870Z"
   },
   {
    "duration": 140,
    "start_time": "2023-06-10T17:22:02.749Z"
   },
   {
    "duration": 137,
    "start_time": "2023-06-10T17:22:38.276Z"
   },
   {
    "duration": 56,
    "start_time": "2023-06-10T17:22:46.756Z"
   },
   {
    "duration": 17,
    "start_time": "2023-06-10T17:24:11.721Z"
   },
   {
    "duration": 37,
    "start_time": "2023-06-10T17:24:19.499Z"
   },
   {
    "duration": 766,
    "start_time": "2023-06-10T17:25:13.857Z"
   },
   {
    "duration": 34,
    "start_time": "2023-06-10T17:25:22.090Z"
   },
   {
    "duration": 34,
    "start_time": "2023-06-10T17:25:54.345Z"
   },
   {
    "duration": 55,
    "start_time": "2023-06-10T17:25:55.860Z"
   },
   {
    "duration": 626,
    "start_time": "2023-06-10T17:25:56.506Z"
   },
   {
    "duration": 3,
    "start_time": "2023-06-10T17:25:58.961Z"
   },
   {
    "duration": 11,
    "start_time": "2023-06-10T17:25:59.819Z"
   },
   {
    "duration": 85,
    "start_time": "2023-06-10T17:25:59.936Z"
   },
   {
    "duration": 345,
    "start_time": "2023-06-10T17:26:00.216Z"
   },
   {
    "duration": 801,
    "start_time": "2023-06-10T17:26:00.564Z"
   },
   {
    "duration": 896,
    "start_time": "2023-06-10T17:26:01.368Z"
   },
   {
    "duration": 131,
    "start_time": "2023-06-10T17:26:04.538Z"
   },
   {
    "duration": 5266,
    "start_time": "2023-06-10T17:26:04.683Z"
   },
   {
    "duration": 137,
    "start_time": "2023-06-10T17:26:38.416Z"
   },
   {
    "duration": 653,
    "start_time": "2023-06-10T17:30:52.821Z"
   },
   {
    "duration": 662,
    "start_time": "2023-06-10T17:31:13.591Z"
   },
   {
    "duration": 15,
    "start_time": "2023-06-10T17:33:55.006Z"
   },
   {
    "duration": 34,
    "start_time": "2023-06-10T17:33:59.325Z"
   },
   {
    "duration": 16,
    "start_time": "2023-06-10T17:33:59.848Z"
   },
   {
    "duration": 33,
    "start_time": "2023-06-10T17:35:13.380Z"
   },
   {
    "duration": 31,
    "start_time": "2023-06-10T17:35:20.064Z"
   },
   {
    "duration": 16,
    "start_time": "2023-06-10T17:35:20.431Z"
   },
   {
    "duration": 18,
    "start_time": "2023-06-10T17:35:32.227Z"
   },
   {
    "duration": 16,
    "start_time": "2023-06-10T17:35:32.564Z"
   },
   {
    "duration": 31,
    "start_time": "2023-06-10T17:35:40.011Z"
   },
   {
    "duration": 16,
    "start_time": "2023-06-10T17:35:43.287Z"
   },
   {
    "duration": 36,
    "start_time": "2023-06-10T17:35:58.212Z"
   },
   {
    "duration": 32,
    "start_time": "2023-06-10T17:35:59.606Z"
   },
   {
    "duration": 16,
    "start_time": "2023-06-10T17:36:00.042Z"
   },
   {
    "duration": 9,
    "start_time": "2023-06-10T17:39:22.533Z"
   },
   {
    "duration": 13,
    "start_time": "2023-06-10T17:39:33.565Z"
   },
   {
    "duration": 19,
    "start_time": "2023-06-10T17:39:43.966Z"
   },
   {
    "duration": 32,
    "start_time": "2023-06-10T17:39:48.945Z"
   },
   {
    "duration": 13,
    "start_time": "2023-06-10T17:40:36.402Z"
   },
   {
    "duration": 581,
    "start_time": "2023-06-10T17:41:05.325Z"
   },
   {
    "duration": 32,
    "start_time": "2023-06-10T17:47:47.538Z"
   },
   {
    "duration": 619,
    "start_time": "2023-06-10T17:47:50.231Z"
   },
   {
    "duration": 11,
    "start_time": "2023-06-10T17:48:54.600Z"
   },
   {
    "duration": 16,
    "start_time": "2023-06-10T17:50:43.944Z"
   },
   {
    "duration": 704,
    "start_time": "2023-06-10T17:52:25.640Z"
   },
   {
    "duration": 8,
    "start_time": "2023-06-10T18:01:16.092Z"
   },
   {
    "duration": 552,
    "start_time": "2023-06-10T18:01:28.415Z"
   },
   {
    "duration": 368,
    "start_time": "2023-06-10T18:02:00.292Z"
   },
   {
    "duration": 17,
    "start_time": "2023-06-10T18:02:20.396Z"
   },
   {
    "duration": 264,
    "start_time": "2023-06-10T18:04:15.952Z"
   },
   {
    "duration": 17,
    "start_time": "2023-06-10T18:04:27.274Z"
   },
   {
    "duration": 1020,
    "start_time": "2023-06-10T18:05:13.591Z"
   },
   {
    "duration": 1102,
    "start_time": "2023-06-10T18:09:29.593Z"
   },
   {
    "duration": 512,
    "start_time": "2023-06-10T18:12:04.027Z"
   },
   {
    "duration": 31,
    "start_time": "2023-06-10T18:12:43.495Z"
   },
   {
    "duration": 1043,
    "start_time": "2023-06-10T18:12:44.236Z"
   },
   {
    "duration": 960,
    "start_time": "2023-06-10T18:13:19.425Z"
   },
   {
    "duration": 1090,
    "start_time": "2023-06-10T18:13:26.738Z"
   },
   {
    "duration": 1017,
    "start_time": "2023-06-10T18:13:37.832Z"
   },
   {
    "duration": 11,
    "start_time": "2023-06-10T18:13:40.595Z"
   },
   {
    "duration": 86,
    "start_time": "2023-06-10T18:13:43.700Z"
   },
   {
    "duration": 503,
    "start_time": "2023-06-10T18:13:45.457Z"
   },
   {
    "duration": 5,
    "start_time": "2023-06-10T18:19:24.474Z"
   },
   {
    "duration": 4,
    "start_time": "2023-06-10T18:19:42.227Z"
   },
   {
    "duration": 5,
    "start_time": "2023-06-10T18:20:00.415Z"
   },
   {
    "duration": 18,
    "start_time": "2023-06-10T18:20:08.798Z"
   },
   {
    "duration": 11,
    "start_time": "2023-06-10T18:20:25.095Z"
   },
   {
    "duration": 11,
    "start_time": "2023-06-10T18:20:28.909Z"
   },
   {
    "duration": 11,
    "start_time": "2023-06-10T18:20:35.690Z"
   },
   {
    "duration": 1098,
    "start_time": "2023-06-10T18:21:35.685Z"
   },
   {
    "duration": 11,
    "start_time": "2023-06-10T18:21:36.785Z"
   },
   {
    "duration": 11,
    "start_time": "2023-06-10T18:21:36.888Z"
   },
   {
    "duration": 10,
    "start_time": "2023-06-10T18:21:40.071Z"
   },
   {
    "duration": 78,
    "start_time": "2023-06-10T18:21:42.441Z"
   },
   {
    "duration": 372,
    "start_time": "2023-06-10T18:21:43.194Z"
   },
   {
    "duration": 599,
    "start_time": "2023-06-10T18:22:09.266Z"
   },
   {
    "duration": 993,
    "start_time": "2023-06-10T18:22:09.867Z"
   },
   {
    "duration": 89225,
    "start_time": "2023-06-10T18:22:30.399Z"
   },
   {
    "duration": 89505,
    "start_time": "2023-06-10T18:23:59.626Z"
   },
   {
    "duration": 89752,
    "start_time": "2023-06-10T18:25:29.133Z"
   },
   {
    "duration": 89961,
    "start_time": "2023-06-10T18:28:07.851Z"
   },
   {
    "duration": 311161,
    "start_time": "2023-06-10T18:31:14.958Z"
   },
   {
    "duration": 17919,
    "start_time": "2023-06-10T18:37:08.020Z"
   },
   {
    "duration": 70764,
    "start_time": "2023-06-10T18:37:52.101Z"
   },
   {
    "duration": 64,
    "start_time": "2023-06-10T18:47:48.140Z"
   },
   {
    "duration": 8772,
    "start_time": "2023-06-10T18:48:17.391Z"
   },
   {
    "duration": 21,
    "start_time": "2023-06-10T18:48:27.409Z"
   },
   {
    "duration": 6194,
    "start_time": "2023-06-10T18:48:28.656Z"
   },
   {
    "duration": 29,
    "start_time": "2023-06-10T18:48:39.868Z"
   },
   {
    "duration": 3,
    "start_time": "2023-06-10T18:48:41.658Z"
   },
   {
    "duration": 5373,
    "start_time": "2023-06-10T18:49:06.970Z"
   },
   {
    "duration": 53,
    "start_time": "2023-06-10T18:49:12.345Z"
   },
   {
    "duration": 4,
    "start_time": "2023-06-10T18:49:12.399Z"
   },
   {
    "duration": 103,
    "start_time": "2023-06-10T18:49:16.784Z"
   },
   {
    "duration": 13,
    "start_time": "2023-06-10T18:49:20.639Z"
   },
   {
    "duration": 14,
    "start_time": "2023-06-10T18:49:28.176Z"
   },
   {
    "duration": 14,
    "start_time": "2023-06-10T18:50:17.331Z"
   },
   {
    "duration": 14,
    "start_time": "2023-06-10T18:50:53.438Z"
   },
   {
    "duration": 13,
    "start_time": "2023-06-10T18:52:08.739Z"
   },
   {
    "duration": 11,
    "start_time": "2023-06-10T18:52:31.648Z"
   },
   {
    "duration": 10,
    "start_time": "2023-06-10T18:52:37.464Z"
   },
   {
    "duration": 13,
    "start_time": "2023-06-10T18:52:44.656Z"
   },
   {
    "duration": 13,
    "start_time": "2023-06-10T18:53:10.604Z"
   },
   {
    "duration": 9916,
    "start_time": "2023-06-10T18:53:12.061Z"
   },
   {
    "duration": 22572,
    "start_time": "2023-06-10T18:53:26.087Z"
   },
   {
    "duration": 21521,
    "start_time": "2023-06-10T18:54:02.180Z"
   },
   {
    "duration": 22,
    "start_time": "2023-06-10T18:58:23.513Z"
   },
   {
    "duration": 24,
    "start_time": "2023-06-10T18:59:28.022Z"
   },
   {
    "duration": 13,
    "start_time": "2023-06-10T18:59:56.700Z"
   },
   {
    "duration": 12,
    "start_time": "2023-06-10T19:01:18.741Z"
   },
   {
    "duration": 34,
    "start_time": "2023-06-10T19:01:45.579Z"
   },
   {
    "duration": 13,
    "start_time": "2023-06-10T19:04:07.504Z"
   },
   {
    "duration": 83,
    "start_time": "2023-06-10T19:06:21.555Z"
   },
   {
    "duration": 5514,
    "start_time": "2023-06-10T19:06:28.837Z"
   },
   {
    "duration": 14,
    "start_time": "2023-06-10T19:09:05.524Z"
   },
   {
    "duration": 408,
    "start_time": "2023-06-10T19:09:39.941Z"
   },
   {
    "duration": 29,
    "start_time": "2023-06-10T19:09:50.264Z"
   },
   {
    "duration": 4,
    "start_time": "2023-06-10T19:09:52.087Z"
   },
   {
    "duration": 4,
    "start_time": "2023-06-10T19:09:58.050Z"
   },
   {
    "duration": 28,
    "start_time": "2023-06-10T19:10:12.709Z"
   },
   {
    "duration": 4,
    "start_time": "2023-06-10T19:10:16.045Z"
   },
   {
    "duration": 5403,
    "start_time": "2023-06-10T19:10:18.035Z"
   },
   {
    "duration": 59,
    "start_time": "2023-06-10T19:10:24.437Z"
   },
   {
    "duration": 4,
    "start_time": "2023-06-10T19:10:25.820Z"
   },
   {
    "duration": 27,
    "start_time": "2023-06-10T19:10:39.274Z"
   },
   {
    "duration": 3,
    "start_time": "2023-06-10T19:10:48.021Z"
   },
   {
    "duration": 4,
    "start_time": "2023-06-10T19:11:03.274Z"
   },
   {
    "duration": 21543,
    "start_time": "2023-06-10T19:11:04.326Z"
   },
   {
    "duration": 417,
    "start_time": "2023-06-10T19:11:53.901Z"
   },
   {
    "duration": 2523,
    "start_time": "2023-06-10T19:12:03.974Z"
   },
   {
    "duration": 4,
    "start_time": "2023-06-10T19:12:08.371Z"
   },
   {
    "duration": 4285,
    "start_time": "2023-06-10T19:12:09.143Z"
   },
   {
    "duration": 43,
    "start_time": "2023-06-10T19:12:14.865Z"
   },
   {
    "duration": 4,
    "start_time": "2023-06-10T19:12:17.237Z"
   },
   {
    "duration": 6232,
    "start_time": "2023-06-10T19:12:32.932Z"
   },
   {
    "duration": 408,
    "start_time": "2023-06-10T19:12:39.165Z"
   },
   {
    "duration": 84,
    "start_time": "2023-06-10T19:12:39.574Z"
   },
   {
    "duration": 23,
    "start_time": "2023-06-10T19:12:39.661Z"
   },
   {
    "duration": 58,
    "start_time": "2023-06-10T19:17:18.512Z"
   },
   {
    "duration": 3,
    "start_time": "2023-06-10T19:19:12.833Z"
   },
   {
    "duration": 83,
    "start_time": "2023-06-10T19:19:21.190Z"
   },
   {
    "duration": 4714,
    "start_time": "2023-06-10T19:19:27.271Z"
   },
   {
    "duration": 48,
    "start_time": "2023-06-10T19:19:39.145Z"
   },
   {
    "duration": 75,
    "start_time": "2023-06-10T19:19:44.061Z"
   },
   {
    "duration": 9225,
    "start_time": "2023-06-10T19:20:03.596Z"
   },
   {
    "duration": 2644,
    "start_time": "2023-06-10T19:20:31.241Z"
   },
   {
    "duration": 2630,
    "start_time": "2023-06-10T19:20:35.238Z"
   },
   {
    "duration": 4,
    "start_time": "2023-06-10T19:20:37.870Z"
   },
   {
    "duration": 76189,
    "start_time": "2023-06-10T19:20:53.970Z"
   },
   {
    "duration": 799,
    "start_time": "2023-06-10T19:22:23.388Z"
   },
   {
    "duration": 4,
    "start_time": "2023-06-10T19:22:33.174Z"
   },
   {
    "duration": 13,
    "start_time": "2023-06-10T19:24:16.339Z"
   },
   {
    "duration": 55020,
    "start_time": "2023-06-10T19:24:32.221Z"
   },
   {
    "duration": 90531,
    "start_time": "2023-06-10T19:25:31.242Z"
   },
   {
    "duration": 91071,
    "start_time": "2023-06-10T19:27:13.350Z"
   },
   {
    "duration": 14,
    "start_time": "2023-06-10T19:28:51.375Z"
   },
   {
    "duration": 14,
    "start_time": "2023-06-10T19:29:48.455Z"
   },
   {
    "duration": 14,
    "start_time": "2023-06-10T19:30:35.188Z"
   },
   {
    "duration": 317531,
    "start_time": "2023-06-10T19:31:38.417Z"
   },
   {
    "duration": 18706,
    "start_time": "2023-06-10T19:37:02.984Z"
   },
   {
    "duration": 13,
    "start_time": "2023-06-10T19:37:26.913Z"
   },
   {
    "duration": 4,
    "start_time": "2023-06-10T19:39:09.294Z"
   },
   {
    "duration": 20,
    "start_time": "2023-06-10T19:39:16.265Z"
   },
   {
    "duration": 74,
    "start_time": "2023-06-10T19:45:14.984Z"
   },
   {
    "duration": 43,
    "start_time": "2023-06-10T19:45:45.899Z"
   },
   {
    "duration": 3575,
    "start_time": "2023-06-11T13:16:58.702Z"
   },
   {
    "duration": 870,
    "start_time": "2023-06-11T13:17:02.280Z"
   },
   {
    "duration": 25,
    "start_time": "2023-06-11T13:17:03.152Z"
   },
   {
    "duration": 141,
    "start_time": "2023-06-11T13:17:03.179Z"
   },
   {
    "duration": 528,
    "start_time": "2023-06-11T13:17:03.322Z"
   },
   {
    "duration": 120,
    "start_time": "2023-06-11T13:17:03.856Z"
   },
   {
    "duration": 112,
    "start_time": "2023-06-11T13:17:03.978Z"
   },
   {
    "duration": 108,
    "start_time": "2023-06-11T13:17:04.092Z"
   },
   {
    "duration": 196,
    "start_time": "2023-06-11T13:17:04.203Z"
   },
   {
    "duration": 365,
    "start_time": "2023-06-11T13:17:04.403Z"
   },
   {
    "duration": 421,
    "start_time": "2023-06-11T13:17:04.770Z"
   },
   {
    "duration": 10,
    "start_time": "2023-06-11T13:17:05.193Z"
   },
   {
    "duration": 449,
    "start_time": "2023-06-11T13:17:05.204Z"
   },
   {
    "duration": 13,
    "start_time": "2023-06-11T13:17:05.655Z"
   },
   {
    "duration": 66,
    "start_time": "2023-06-11T13:17:05.670Z"
   },
   {
    "duration": 310,
    "start_time": "2023-06-11T13:17:05.737Z"
   },
   {
    "duration": 61,
    "start_time": "2023-06-11T13:17:06.057Z"
   },
   {
    "duration": 17,
    "start_time": "2023-06-11T13:17:06.121Z"
   },
   {
    "duration": 320,
    "start_time": "2023-06-11T13:17:06.140Z"
   },
   {
    "duration": 63,
    "start_time": "2023-06-11T13:17:06.462Z"
   },
   {
    "duration": 44,
    "start_time": "2023-06-11T13:17:06.526Z"
   },
   {
    "duration": 101,
    "start_time": "2023-06-11T13:17:06.572Z"
   },
   {
    "duration": 31,
    "start_time": "2023-06-11T13:17:06.675Z"
   },
   {
    "duration": 2499,
    "start_time": "2023-06-11T13:17:06.707Z"
   },
   {
    "duration": 1666,
    "start_time": "2023-06-11T13:17:09.208Z"
   },
   {
    "duration": 30,
    "start_time": "2023-06-11T13:17:10.876Z"
   },
   {
    "duration": 56,
    "start_time": "2023-06-11T13:17:10.908Z"
   },
   {
    "duration": 318,
    "start_time": "2023-06-11T13:17:10.968Z"
   },
   {
    "duration": 314,
    "start_time": "2023-06-11T13:17:11.288Z"
   },
   {
    "duration": 305,
    "start_time": "2023-06-11T13:17:11.604Z"
   },
   {
    "duration": 44,
    "start_time": "2023-06-11T13:17:11.912Z"
   },
   {
    "duration": 35,
    "start_time": "2023-06-11T13:17:11.959Z"
   },
   {
    "duration": 60,
    "start_time": "2023-06-11T13:17:11.997Z"
   },
   {
    "duration": 216,
    "start_time": "2023-06-11T13:17:12.060Z"
   },
   {
    "duration": 4,
    "start_time": "2023-06-11T13:17:12.277Z"
   },
   {
    "duration": 6,
    "start_time": "2023-06-11T13:17:12.282Z"
   },
   {
    "duration": 546,
    "start_time": "2023-06-11T13:17:12.289Z"
   },
   {
    "duration": 38,
    "start_time": "2023-06-11T13:17:12.837Z"
   },
   {
    "duration": 989,
    "start_time": "2023-06-11T13:17:12.877Z"
   },
   {
    "duration": 0,
    "start_time": "2023-06-11T13:17:13.868Z"
   },
   {
    "duration": 0,
    "start_time": "2023-06-11T13:17:13.870Z"
   },
   {
    "duration": 0,
    "start_time": "2023-06-11T13:17:13.872Z"
   },
   {
    "duration": 0,
    "start_time": "2023-06-11T13:17:13.873Z"
   },
   {
    "duration": 0,
    "start_time": "2023-06-11T13:17:13.875Z"
   },
   {
    "duration": 1,
    "start_time": "2023-06-11T13:17:13.876Z"
   },
   {
    "duration": 0,
    "start_time": "2023-06-11T13:17:13.878Z"
   },
   {
    "duration": 0,
    "start_time": "2023-06-11T13:17:13.879Z"
   },
   {
    "duration": 0,
    "start_time": "2023-06-11T13:17:13.880Z"
   },
   {
    "duration": 0,
    "start_time": "2023-06-11T13:17:13.881Z"
   },
   {
    "duration": 0,
    "start_time": "2023-06-11T13:17:13.882Z"
   },
   {
    "duration": 0,
    "start_time": "2023-06-11T13:17:13.883Z"
   },
   {
    "duration": 0,
    "start_time": "2023-06-11T13:17:13.885Z"
   },
   {
    "duration": 0,
    "start_time": "2023-06-11T13:17:13.886Z"
   },
   {
    "duration": 0,
    "start_time": "2023-06-11T13:17:13.888Z"
   },
   {
    "duration": 0,
    "start_time": "2023-06-11T13:17:13.890Z"
   },
   {
    "duration": 0,
    "start_time": "2023-06-11T13:17:13.891Z"
   },
   {
    "duration": 0,
    "start_time": "2023-06-11T13:17:13.892Z"
   },
   {
    "duration": 0,
    "start_time": "2023-06-11T13:17:13.893Z"
   },
   {
    "duration": 0,
    "start_time": "2023-06-11T13:17:13.895Z"
   },
   {
    "duration": 0,
    "start_time": "2023-06-11T13:17:13.896Z"
   },
   {
    "duration": 0,
    "start_time": "2023-06-11T13:17:13.897Z"
   },
   {
    "duration": 0,
    "start_time": "2023-06-11T13:17:13.899Z"
   },
   {
    "duration": 0,
    "start_time": "2023-06-11T13:17:13.900Z"
   },
   {
    "duration": 0,
    "start_time": "2023-06-11T13:17:13.901Z"
   },
   {
    "duration": 0,
    "start_time": "2023-06-11T13:17:13.902Z"
   },
   {
    "duration": 0,
    "start_time": "2023-06-11T13:17:13.956Z"
   },
   {
    "duration": 0,
    "start_time": "2023-06-11T13:17:13.958Z"
   },
   {
    "duration": 0,
    "start_time": "2023-06-11T13:17:13.960Z"
   },
   {
    "duration": 0,
    "start_time": "2023-06-11T13:17:13.961Z"
   },
   {
    "duration": 5286,
    "start_time": "2023-06-11T19:16:41.301Z"
   },
   {
    "duration": 1318,
    "start_time": "2023-06-11T19:16:46.589Z"
   },
   {
    "duration": 23,
    "start_time": "2023-06-11T19:16:47.909Z"
   },
   {
    "duration": 129,
    "start_time": "2023-06-11T19:16:47.934Z"
   },
   {
    "duration": 709,
    "start_time": "2023-06-11T19:16:48.066Z"
   },
   {
    "duration": 111,
    "start_time": "2023-06-11T19:16:48.777Z"
   },
   {
    "duration": 120,
    "start_time": "2023-06-11T19:16:48.890Z"
   },
   {
    "duration": 109,
    "start_time": "2023-06-11T19:16:49.011Z"
   },
   {
    "duration": 255,
    "start_time": "2023-06-11T19:16:49.122Z"
   },
   {
    "duration": 434,
    "start_time": "2023-06-11T19:16:49.381Z"
   },
   {
    "duration": 835,
    "start_time": "2023-06-11T19:16:49.817Z"
   },
   {
    "duration": 15,
    "start_time": "2023-06-11T19:16:50.654Z"
   },
   {
    "duration": 388,
    "start_time": "2023-06-11T19:16:50.671Z"
   },
   {
    "duration": 14,
    "start_time": "2023-06-11T19:16:51.062Z"
   },
   {
    "duration": 132,
    "start_time": "2023-06-11T19:16:51.078Z"
   },
   {
    "duration": 318,
    "start_time": "2023-06-11T19:16:51.212Z"
   },
   {
    "duration": 85,
    "start_time": "2023-06-11T19:16:51.532Z"
   },
   {
    "duration": 40,
    "start_time": "2023-06-11T19:16:51.620Z"
   },
   {
    "duration": 343,
    "start_time": "2023-06-11T19:16:51.662Z"
   },
   {
    "duration": 84,
    "start_time": "2023-06-11T19:16:52.007Z"
   },
   {
    "duration": 38,
    "start_time": "2023-06-11T19:16:52.093Z"
   },
   {
    "duration": 116,
    "start_time": "2023-06-11T19:16:52.142Z"
   },
   {
    "duration": 32,
    "start_time": "2023-06-11T19:16:52.263Z"
   },
   {
    "duration": 2582,
    "start_time": "2023-06-11T19:16:52.297Z"
   },
   {
    "duration": 1905,
    "start_time": "2023-06-11T19:16:54.881Z"
   },
   {
    "duration": 30,
    "start_time": "2023-06-11T19:16:56.788Z"
   },
   {
    "duration": 66,
    "start_time": "2023-06-11T19:16:56.820Z"
   },
   {
    "duration": 338,
    "start_time": "2023-06-11T19:16:56.892Z"
   },
   {
    "duration": 319,
    "start_time": "2023-06-11T19:16:57.232Z"
   },
   {
    "duration": 452,
    "start_time": "2023-06-11T19:16:57.553Z"
   },
   {
    "duration": 55,
    "start_time": "2023-06-11T19:16:58.007Z"
   },
   {
    "duration": 49,
    "start_time": "2023-06-11T19:16:58.064Z"
   },
   {
    "duration": 59,
    "start_time": "2023-06-11T19:16:58.115Z"
   },
   {
    "duration": 121,
    "start_time": "2023-06-11T19:16:58.176Z"
   },
   {
    "duration": 4,
    "start_time": "2023-06-11T19:16:58.299Z"
   },
   {
    "duration": 38,
    "start_time": "2023-06-11T19:16:58.305Z"
   },
   {
    "duration": 641,
    "start_time": "2023-06-11T19:16:58.348Z"
   },
   {
    "duration": 31,
    "start_time": "2023-06-11T19:16:58.991Z"
   },
   {
    "duration": 1229,
    "start_time": "2023-06-11T19:16:59.026Z"
   },
   {
    "duration": 0,
    "start_time": "2023-06-11T19:17:00.257Z"
   },
   {
    "duration": 0,
    "start_time": "2023-06-11T19:17:00.259Z"
   },
   {
    "duration": 0,
    "start_time": "2023-06-11T19:17:00.260Z"
   },
   {
    "duration": 0,
    "start_time": "2023-06-11T19:17:00.261Z"
   },
   {
    "duration": 0,
    "start_time": "2023-06-11T19:17:00.263Z"
   },
   {
    "duration": 0,
    "start_time": "2023-06-11T19:17:00.264Z"
   },
   {
    "duration": 0,
    "start_time": "2023-06-11T19:17:00.265Z"
   },
   {
    "duration": 0,
    "start_time": "2023-06-11T19:17:00.266Z"
   },
   {
    "duration": 0,
    "start_time": "2023-06-11T19:17:00.268Z"
   },
   {
    "duration": 0,
    "start_time": "2023-06-11T19:17:00.269Z"
   },
   {
    "duration": 0,
    "start_time": "2023-06-11T19:17:00.270Z"
   },
   {
    "duration": 0,
    "start_time": "2023-06-11T19:17:00.271Z"
   },
   {
    "duration": 0,
    "start_time": "2023-06-11T19:17:00.272Z"
   },
   {
    "duration": 0,
    "start_time": "2023-06-11T19:17:00.273Z"
   },
   {
    "duration": 0,
    "start_time": "2023-06-11T19:17:00.274Z"
   },
   {
    "duration": 0,
    "start_time": "2023-06-11T19:17:00.275Z"
   },
   {
    "duration": 0,
    "start_time": "2023-06-11T19:17:00.276Z"
   },
   {
    "duration": 0,
    "start_time": "2023-06-11T19:17:00.277Z"
   },
   {
    "duration": 0,
    "start_time": "2023-06-11T19:17:00.278Z"
   },
   {
    "duration": 0,
    "start_time": "2023-06-11T19:17:00.279Z"
   },
   {
    "duration": 0,
    "start_time": "2023-06-11T19:17:00.281Z"
   },
   {
    "duration": 0,
    "start_time": "2023-06-11T19:17:00.282Z"
   },
   {
    "duration": 0,
    "start_time": "2023-06-11T19:17:00.283Z"
   },
   {
    "duration": 0,
    "start_time": "2023-06-11T19:17:00.284Z"
   },
   {
    "duration": 0,
    "start_time": "2023-06-11T19:17:00.285Z"
   },
   {
    "duration": 0,
    "start_time": "2023-06-11T19:17:00.286Z"
   },
   {
    "duration": 0,
    "start_time": "2023-06-11T19:17:00.287Z"
   },
   {
    "duration": 0,
    "start_time": "2023-06-11T19:17:00.288Z"
   },
   {
    "duration": 0,
    "start_time": "2023-06-11T19:17:00.289Z"
   },
   {
    "duration": 0,
    "start_time": "2023-06-11T19:17:00.290Z"
   },
   {
    "duration": 1132,
    "start_time": "2023-06-11T19:18:12.536Z"
   },
   {
    "duration": 1287,
    "start_time": "2023-06-11T19:18:33.743Z"
   },
   {
    "duration": 2775,
    "start_time": "2023-06-11T19:18:38.009Z"
   },
   {
    "duration": 927,
    "start_time": "2023-06-11T19:18:40.787Z"
   },
   {
    "duration": 15,
    "start_time": "2023-06-11T19:18:41.716Z"
   },
   {
    "duration": 145,
    "start_time": "2023-06-11T19:18:41.733Z"
   },
   {
    "duration": 535,
    "start_time": "2023-06-11T19:18:41.881Z"
   },
   {
    "duration": 136,
    "start_time": "2023-06-11T19:18:42.418Z"
   },
   {
    "duration": 141,
    "start_time": "2023-06-11T19:18:42.557Z"
   },
   {
    "duration": 116,
    "start_time": "2023-06-11T19:18:42.700Z"
   },
   {
    "duration": 205,
    "start_time": "2023-06-11T19:18:42.818Z"
   },
   {
    "duration": 380,
    "start_time": "2023-06-11T19:18:43.026Z"
   },
   {
    "duration": 314,
    "start_time": "2023-06-11T19:18:43.408Z"
   },
   {
    "duration": 43,
    "start_time": "2023-06-11T19:18:43.724Z"
   },
   {
    "duration": 357,
    "start_time": "2023-06-11T19:18:43.771Z"
   },
   {
    "duration": 27,
    "start_time": "2023-06-11T19:18:44.135Z"
   },
   {
    "duration": 94,
    "start_time": "2023-06-11T19:18:44.165Z"
   },
   {
    "duration": 296,
    "start_time": "2023-06-11T19:18:44.262Z"
   },
   {
    "duration": 64,
    "start_time": "2023-06-11T19:18:44.563Z"
   },
   {
    "duration": 23,
    "start_time": "2023-06-11T19:18:44.629Z"
   },
   {
    "duration": 328,
    "start_time": "2023-06-11T19:18:44.654Z"
   },
   {
    "duration": 92,
    "start_time": "2023-06-11T19:18:44.984Z"
   },
   {
    "duration": 31,
    "start_time": "2023-06-11T19:18:45.078Z"
   },
   {
    "duration": 92,
    "start_time": "2023-06-11T19:18:45.111Z"
   },
   {
    "duration": 55,
    "start_time": "2023-06-11T19:18:45.204Z"
   },
   {
    "duration": 2559,
    "start_time": "2023-06-11T19:18:45.267Z"
   },
   {
    "duration": 1993,
    "start_time": "2023-06-11T19:18:47.829Z"
   },
   {
    "duration": 49,
    "start_time": "2023-06-11T19:18:49.824Z"
   },
   {
    "duration": 41,
    "start_time": "2023-06-11T19:18:49.875Z"
   },
   {
    "duration": 509,
    "start_time": "2023-06-11T19:18:49.922Z"
   },
   {
    "duration": 366,
    "start_time": "2023-06-11T19:18:50.433Z"
   },
   {
    "duration": 314,
    "start_time": "2023-06-11T19:18:50.801Z"
   },
   {
    "duration": 66,
    "start_time": "2023-06-11T19:18:51.117Z"
   },
   {
    "duration": 61,
    "start_time": "2023-06-11T19:18:51.186Z"
   },
   {
    "duration": 43,
    "start_time": "2023-06-11T19:18:51.251Z"
   },
   {
    "duration": 110,
    "start_time": "2023-06-11T19:18:51.296Z"
   },
   {
    "duration": 4,
    "start_time": "2023-06-11T19:18:51.408Z"
   },
   {
    "duration": 14,
    "start_time": "2023-06-11T19:18:51.413Z"
   },
   {
    "duration": 565,
    "start_time": "2023-06-11T19:18:51.429Z"
   },
   {
    "duration": 33,
    "start_time": "2023-06-11T19:18:51.996Z"
   },
   {
    "duration": 1268,
    "start_time": "2023-06-11T19:18:52.031Z"
   },
   {
    "duration": 11,
    "start_time": "2023-06-11T19:18:53.301Z"
   },
   {
    "duration": 13,
    "start_time": "2023-06-11T19:18:53.314Z"
   },
   {
    "duration": 38,
    "start_time": "2023-06-11T19:18:53.346Z"
   },
   {
    "duration": 17,
    "start_time": "2023-06-11T19:18:53.386Z"
   },
   {
    "duration": 0,
    "start_time": "2023-06-11T19:18:53.405Z"
   },
   {
    "duration": 1,
    "start_time": "2023-06-11T19:18:53.406Z"
   },
   {
    "duration": 0,
    "start_time": "2023-06-11T19:18:53.407Z"
   },
   {
    "duration": 0,
    "start_time": "2023-06-11T19:18:53.408Z"
   },
   {
    "duration": 0,
    "start_time": "2023-06-11T19:18:53.409Z"
   },
   {
    "duration": 0,
    "start_time": "2023-06-11T19:18:53.411Z"
   },
   {
    "duration": 0,
    "start_time": "2023-06-11T19:18:53.412Z"
   },
   {
    "duration": 0,
    "start_time": "2023-06-11T19:18:53.414Z"
   },
   {
    "duration": 0,
    "start_time": "2023-06-11T19:18:53.415Z"
   },
   {
    "duration": 1,
    "start_time": "2023-06-11T19:18:53.416Z"
   },
   {
    "duration": 0,
    "start_time": "2023-06-11T19:18:53.418Z"
   },
   {
    "duration": 0,
    "start_time": "2023-06-11T19:18:53.420Z"
   },
   {
    "duration": 0,
    "start_time": "2023-06-11T19:18:53.421Z"
   },
   {
    "duration": 0,
    "start_time": "2023-06-11T19:18:53.423Z"
   },
   {
    "duration": 0,
    "start_time": "2023-06-11T19:18:53.424Z"
   },
   {
    "duration": 0,
    "start_time": "2023-06-11T19:18:53.425Z"
   },
   {
    "duration": 0,
    "start_time": "2023-06-11T19:18:53.427Z"
   },
   {
    "duration": 0,
    "start_time": "2023-06-11T19:18:53.441Z"
   },
   {
    "duration": 0,
    "start_time": "2023-06-11T19:18:53.444Z"
   },
   {
    "duration": 0,
    "start_time": "2023-06-11T19:18:53.450Z"
   },
   {
    "duration": 0,
    "start_time": "2023-06-11T19:18:53.451Z"
   },
   {
    "duration": 0,
    "start_time": "2023-06-11T19:18:53.452Z"
   },
   {
    "duration": 0,
    "start_time": "2023-06-11T19:18:53.453Z"
   },
   {
    "duration": 1,
    "start_time": "2023-06-11T19:18:53.454Z"
   },
   {
    "duration": 0,
    "start_time": "2023-06-11T19:18:53.456Z"
   },
   {
    "duration": 0,
    "start_time": "2023-06-11T19:18:53.457Z"
   },
   {
    "duration": 30,
    "start_time": "2023-06-11T19:19:36.071Z"
   },
   {
    "duration": 25,
    "start_time": "2023-06-11T19:19:49.010Z"
   },
   {
    "duration": 54,
    "start_time": "2023-06-11T19:20:04.443Z"
   },
   {
    "duration": 25,
    "start_time": "2023-06-11T19:20:33.879Z"
   },
   {
    "duration": 26,
    "start_time": "2023-06-11T19:20:59.071Z"
   },
   {
    "duration": 24,
    "start_time": "2023-06-11T19:21:27.395Z"
   },
   {
    "duration": 44,
    "start_time": "2023-06-11T19:21:53.352Z"
   },
   {
    "duration": 2330,
    "start_time": "2023-06-11T19:22:54.522Z"
   },
   {
    "duration": 943,
    "start_time": "2023-06-11T19:22:56.854Z"
   },
   {
    "duration": 16,
    "start_time": "2023-06-11T19:22:57.799Z"
   },
   {
    "duration": 144,
    "start_time": "2023-06-11T19:22:57.817Z"
   },
   {
    "duration": 553,
    "start_time": "2023-06-11T19:22:57.963Z"
   },
   {
    "duration": 184,
    "start_time": "2023-06-11T19:22:58.519Z"
   },
   {
    "duration": 107,
    "start_time": "2023-06-11T19:22:58.705Z"
   },
   {
    "duration": 118,
    "start_time": "2023-06-11T19:22:58.814Z"
   },
   {
    "duration": 198,
    "start_time": "2023-06-11T19:22:58.934Z"
   },
   {
    "duration": 419,
    "start_time": "2023-06-11T19:22:59.134Z"
   },
   {
    "duration": 327,
    "start_time": "2023-06-11T19:22:59.554Z"
   },
   {
    "duration": 10,
    "start_time": "2023-06-11T19:22:59.882Z"
   },
   {
    "duration": 404,
    "start_time": "2023-06-11T19:22:59.894Z"
   },
   {
    "duration": 13,
    "start_time": "2023-06-11T19:23:00.302Z"
   },
   {
    "duration": 97,
    "start_time": "2023-06-11T19:23:00.317Z"
   },
   {
    "duration": 307,
    "start_time": "2023-06-11T19:23:00.416Z"
   },
   {
    "duration": 94,
    "start_time": "2023-06-11T19:23:00.726Z"
   },
   {
    "duration": 69,
    "start_time": "2023-06-11T19:23:00.822Z"
   },
   {
    "duration": 611,
    "start_time": "2023-06-11T19:23:00.893Z"
   },
   {
    "duration": 92,
    "start_time": "2023-06-11T19:23:01.506Z"
   },
   {
    "duration": 63,
    "start_time": "2023-06-11T19:23:01.600Z"
   },
   {
    "duration": 151,
    "start_time": "2023-06-11T19:23:01.665Z"
   },
   {
    "duration": 56,
    "start_time": "2023-06-11T19:23:01.818Z"
   },
   {
    "duration": 2714,
    "start_time": "2023-06-11T19:23:01.876Z"
   },
   {
    "duration": 1930,
    "start_time": "2023-06-11T19:23:04.592Z"
   },
   {
    "duration": 51,
    "start_time": "2023-06-11T19:23:06.524Z"
   },
   {
    "duration": 47,
    "start_time": "2023-06-11T19:23:06.577Z"
   },
   {
    "duration": 355,
    "start_time": "2023-06-11T19:23:06.626Z"
   },
   {
    "duration": 318,
    "start_time": "2023-06-11T19:23:06.983Z"
   },
   {
    "duration": 346,
    "start_time": "2023-06-11T19:23:07.302Z"
   },
   {
    "duration": 52,
    "start_time": "2023-06-11T19:23:07.655Z"
   },
   {
    "duration": 49,
    "start_time": "2023-06-11T19:23:07.709Z"
   },
   {
    "duration": 37,
    "start_time": "2023-06-11T19:23:07.763Z"
   },
   {
    "duration": 97,
    "start_time": "2023-06-11T19:23:07.802Z"
   },
   {
    "duration": 4,
    "start_time": "2023-06-11T19:23:07.901Z"
   },
   {
    "duration": 6,
    "start_time": "2023-06-11T19:23:07.906Z"
   },
   {
    "duration": 646,
    "start_time": "2023-06-11T19:23:07.914Z"
   },
   {
    "duration": 42,
    "start_time": "2023-06-11T19:23:08.565Z"
   },
   {
    "duration": 1236,
    "start_time": "2023-06-11T19:23:08.609Z"
   },
   {
    "duration": 13,
    "start_time": "2023-06-11T19:23:09.857Z"
   },
   {
    "duration": 11,
    "start_time": "2023-06-11T19:23:09.877Z"
   },
   {
    "duration": 35,
    "start_time": "2023-06-11T19:23:09.890Z"
   },
   {
    "duration": 41,
    "start_time": "2023-06-11T19:23:09.928Z"
   },
   {
    "duration": 0,
    "start_time": "2023-06-11T19:23:09.971Z"
   },
   {
    "duration": 0,
    "start_time": "2023-06-11T19:23:09.974Z"
   },
   {
    "duration": 0,
    "start_time": "2023-06-11T19:23:09.978Z"
   },
   {
    "duration": 0,
    "start_time": "2023-06-11T19:23:09.979Z"
   },
   {
    "duration": 0,
    "start_time": "2023-06-11T19:23:09.981Z"
   },
   {
    "duration": 0,
    "start_time": "2023-06-11T19:23:09.982Z"
   },
   {
    "duration": 0,
    "start_time": "2023-06-11T19:23:09.984Z"
   },
   {
    "duration": 0,
    "start_time": "2023-06-11T19:23:09.986Z"
   },
   {
    "duration": 0,
    "start_time": "2023-06-11T19:23:09.987Z"
   },
   {
    "duration": 0,
    "start_time": "2023-06-11T19:23:09.989Z"
   },
   {
    "duration": 0,
    "start_time": "2023-06-11T19:23:09.990Z"
   },
   {
    "duration": 1,
    "start_time": "2023-06-11T19:23:09.992Z"
   },
   {
    "duration": 0,
    "start_time": "2023-06-11T19:23:09.994Z"
   },
   {
    "duration": 0,
    "start_time": "2023-06-11T19:23:09.995Z"
   },
   {
    "duration": 0,
    "start_time": "2023-06-11T19:23:09.997Z"
   },
   {
    "duration": 0,
    "start_time": "2023-06-11T19:23:09.998Z"
   },
   {
    "duration": 0,
    "start_time": "2023-06-11T19:23:10.000Z"
   },
   {
    "duration": 0,
    "start_time": "2023-06-11T19:23:10.002Z"
   },
   {
    "duration": 0,
    "start_time": "2023-06-11T19:23:10.003Z"
   },
   {
    "duration": 0,
    "start_time": "2023-06-11T19:23:10.048Z"
   },
   {
    "duration": 0,
    "start_time": "2023-06-11T19:23:10.051Z"
   },
   {
    "duration": 0,
    "start_time": "2023-06-11T19:23:10.052Z"
   },
   {
    "duration": 0,
    "start_time": "2023-06-11T19:23:10.052Z"
   },
   {
    "duration": 0,
    "start_time": "2023-06-11T19:23:10.053Z"
   },
   {
    "duration": 0,
    "start_time": "2023-06-11T19:23:10.054Z"
   },
   {
    "duration": 0,
    "start_time": "2023-06-11T19:23:10.059Z"
   },
   {
    "duration": 39,
    "start_time": "2023-06-11T19:31:06.894Z"
   },
   {
    "duration": 26,
    "start_time": "2023-06-11T19:32:42.293Z"
   },
   {
    "duration": 1611,
    "start_time": "2023-06-11T19:33:18.164Z"
   },
   {
    "duration": 26,
    "start_time": "2023-06-11T19:33:31.697Z"
   },
   {
    "duration": 24,
    "start_time": "2023-06-11T19:34:51.989Z"
   },
   {
    "duration": 775,
    "start_time": "2023-06-11T19:35:17.329Z"
   },
   {
    "duration": 767,
    "start_time": "2023-06-11T19:35:46.121Z"
   },
   {
    "duration": 831,
    "start_time": "2023-06-11T19:36:09.528Z"
   },
   {
    "duration": 865,
    "start_time": "2023-06-11T19:36:48.508Z"
   },
   {
    "duration": 785,
    "start_time": "2023-06-11T19:37:28.490Z"
   },
   {
    "duration": 737,
    "start_time": "2023-06-11T19:38:37.292Z"
   },
   {
    "duration": 96,
    "start_time": "2023-06-11T19:38:38.068Z"
   },
   {
    "duration": 2298,
    "start_time": "2023-06-11T19:38:44.565Z"
   },
   {
    "duration": 926,
    "start_time": "2023-06-11T19:38:46.865Z"
   },
   {
    "duration": 16,
    "start_time": "2023-06-11T19:38:47.793Z"
   },
   {
    "duration": 151,
    "start_time": "2023-06-11T19:38:47.811Z"
   },
   {
    "duration": 539,
    "start_time": "2023-06-11T19:38:47.968Z"
   },
   {
    "duration": 155,
    "start_time": "2023-06-11T19:38:48.509Z"
   },
   {
    "duration": 129,
    "start_time": "2023-06-11T19:38:48.673Z"
   },
   {
    "duration": 109,
    "start_time": "2023-06-11T19:38:48.804Z"
   },
   {
    "duration": 207,
    "start_time": "2023-06-11T19:38:48.915Z"
   },
   {
    "duration": 398,
    "start_time": "2023-06-11T19:38:49.125Z"
   },
   {
    "duration": 329,
    "start_time": "2023-06-11T19:38:49.526Z"
   },
   {
    "duration": 17,
    "start_time": "2023-06-11T19:38:49.857Z"
   },
   {
    "duration": 543,
    "start_time": "2023-06-11T19:38:49.876Z"
   },
   {
    "duration": 23,
    "start_time": "2023-06-11T19:38:50.422Z"
   },
   {
    "duration": 90,
    "start_time": "2023-06-11T19:38:50.448Z"
   },
   {
    "duration": 315,
    "start_time": "2023-06-11T19:38:50.540Z"
   },
   {
    "duration": 66,
    "start_time": "2023-06-11T19:38:50.865Z"
   },
   {
    "duration": 16,
    "start_time": "2023-06-11T19:38:50.933Z"
   },
   {
    "duration": 352,
    "start_time": "2023-06-11T19:38:50.950Z"
   },
   {
    "duration": 85,
    "start_time": "2023-06-11T19:38:51.304Z"
   },
   {
    "duration": 27,
    "start_time": "2023-06-11T19:38:51.391Z"
   },
   {
    "duration": 105,
    "start_time": "2023-06-11T19:38:51.420Z"
   },
   {
    "duration": 60,
    "start_time": "2023-06-11T19:38:51.527Z"
   },
   {
    "duration": 2541,
    "start_time": "2023-06-11T19:38:51.589Z"
   },
   {
    "duration": 1864,
    "start_time": "2023-06-11T19:38:54.132Z"
   },
   {
    "duration": 31,
    "start_time": "2023-06-11T19:38:55.998Z"
   },
   {
    "duration": 75,
    "start_time": "2023-06-11T19:38:56.030Z"
   },
   {
    "duration": 379,
    "start_time": "2023-06-11T19:38:56.107Z"
   },
   {
    "duration": 330,
    "start_time": "2023-06-11T19:38:56.487Z"
   },
   {
    "duration": 349,
    "start_time": "2023-06-11T19:38:56.825Z"
   },
   {
    "duration": 43,
    "start_time": "2023-06-11T19:38:57.177Z"
   },
   {
    "duration": 57,
    "start_time": "2023-06-11T19:38:57.222Z"
   },
   {
    "duration": 32,
    "start_time": "2023-06-11T19:38:57.281Z"
   },
   {
    "duration": 285,
    "start_time": "2023-06-11T19:38:57.315Z"
   },
   {
    "duration": 4,
    "start_time": "2023-06-11T19:38:57.601Z"
   },
   {
    "duration": 23,
    "start_time": "2023-06-11T19:38:57.607Z"
   },
   {
    "duration": 678,
    "start_time": "2023-06-11T19:38:57.632Z"
   },
   {
    "duration": 47,
    "start_time": "2023-06-11T19:38:58.313Z"
   },
   {
    "duration": 1138,
    "start_time": "2023-06-11T19:38:58.372Z"
   },
   {
    "duration": 14,
    "start_time": "2023-06-11T19:38:59.512Z"
   },
   {
    "duration": 35,
    "start_time": "2023-06-11T19:38:59.542Z"
   },
   {
    "duration": 26,
    "start_time": "2023-06-11T19:38:59.580Z"
   },
   {
    "duration": 8,
    "start_time": "2023-06-11T19:38:59.608Z"
   },
   {
    "duration": 879,
    "start_time": "2023-06-11T19:38:59.618Z"
   },
   {
    "duration": 0,
    "start_time": "2023-06-11T19:39:00.499Z"
   },
   {
    "duration": 0,
    "start_time": "2023-06-11T19:39:00.501Z"
   },
   {
    "duration": 0,
    "start_time": "2023-06-11T19:39:00.502Z"
   },
   {
    "duration": 0,
    "start_time": "2023-06-11T19:39:00.504Z"
   },
   {
    "duration": 0,
    "start_time": "2023-06-11T19:39:00.505Z"
   },
   {
    "duration": 0,
    "start_time": "2023-06-11T19:39:00.507Z"
   },
   {
    "duration": 0,
    "start_time": "2023-06-11T19:39:00.508Z"
   },
   {
    "duration": 0,
    "start_time": "2023-06-11T19:39:00.509Z"
   },
   {
    "duration": 0,
    "start_time": "2023-06-11T19:39:00.511Z"
   },
   {
    "duration": 0,
    "start_time": "2023-06-11T19:39:00.512Z"
   },
   {
    "duration": 0,
    "start_time": "2023-06-11T19:39:00.513Z"
   },
   {
    "duration": 0,
    "start_time": "2023-06-11T19:39:00.514Z"
   },
   {
    "duration": 0,
    "start_time": "2023-06-11T19:39:00.515Z"
   },
   {
    "duration": 0,
    "start_time": "2023-06-11T19:39:00.516Z"
   },
   {
    "duration": 0,
    "start_time": "2023-06-11T19:39:00.517Z"
   },
   {
    "duration": 0,
    "start_time": "2023-06-11T19:39:00.518Z"
   },
   {
    "duration": 0,
    "start_time": "2023-06-11T19:39:00.519Z"
   },
   {
    "duration": 0,
    "start_time": "2023-06-11T19:39:00.521Z"
   },
   {
    "duration": 0,
    "start_time": "2023-06-11T19:39:00.521Z"
   },
   {
    "duration": 0,
    "start_time": "2023-06-11T19:39:00.523Z"
   },
   {
    "duration": 0,
    "start_time": "2023-06-11T19:39:00.524Z"
   },
   {
    "duration": 0,
    "start_time": "2023-06-11T19:39:00.525Z"
   },
   {
    "duration": 0,
    "start_time": "2023-06-11T19:39:00.526Z"
   },
   {
    "duration": 0,
    "start_time": "2023-06-11T19:39:00.527Z"
   },
   {
    "duration": 0,
    "start_time": "2023-06-11T19:39:00.528Z"
   },
   {
    "duration": 0,
    "start_time": "2023-06-11T19:39:00.529Z"
   },
   {
    "duration": 673,
    "start_time": "2023-06-11T19:47:37.957Z"
   },
   {
    "duration": 34,
    "start_time": "2023-06-11T19:47:49.966Z"
   },
   {
    "duration": 30,
    "start_time": "2023-06-11T19:48:11.483Z"
   },
   {
    "duration": 34,
    "start_time": "2023-06-11T19:48:31.308Z"
   },
   {
    "duration": 25,
    "start_time": "2023-06-11T19:50:00.649Z"
   },
   {
    "duration": 655,
    "start_time": "2023-06-11T19:50:40.597Z"
   },
   {
    "duration": 2163,
    "start_time": "2023-06-11T19:50:45.361Z"
   },
   {
    "duration": 932,
    "start_time": "2023-06-11T19:50:47.526Z"
   },
   {
    "duration": 21,
    "start_time": "2023-06-11T19:50:48.460Z"
   },
   {
    "duration": 170,
    "start_time": "2023-06-11T19:50:48.484Z"
   },
   {
    "duration": 476,
    "start_time": "2023-06-11T19:50:48.656Z"
   },
   {
    "duration": 132,
    "start_time": "2023-06-11T19:50:49.133Z"
   },
   {
    "duration": 115,
    "start_time": "2023-06-11T19:50:49.267Z"
   },
   {
    "duration": 100,
    "start_time": "2023-06-11T19:50:49.383Z"
   },
   {
    "duration": 182,
    "start_time": "2023-06-11T19:50:49.485Z"
   },
   {
    "duration": 367,
    "start_time": "2023-06-11T19:50:49.670Z"
   },
   {
    "duration": 316,
    "start_time": "2023-06-11T19:50:50.039Z"
   },
   {
    "duration": 9,
    "start_time": "2023-06-11T19:50:50.357Z"
   },
   {
    "duration": 343,
    "start_time": "2023-06-11T19:50:50.367Z"
   },
   {
    "duration": 12,
    "start_time": "2023-06-11T19:50:50.712Z"
   },
   {
    "duration": 83,
    "start_time": "2023-06-11T19:50:50.726Z"
   },
   {
    "duration": 287,
    "start_time": "2023-06-11T19:50:50.811Z"
   },
   {
    "duration": 69,
    "start_time": "2023-06-11T19:50:51.100Z"
   },
   {
    "duration": 13,
    "start_time": "2023-06-11T19:50:51.171Z"
   },
   {
    "duration": 334,
    "start_time": "2023-06-11T19:50:51.186Z"
   },
   {
    "duration": 76,
    "start_time": "2023-06-11T19:50:51.522Z"
   },
   {
    "duration": 26,
    "start_time": "2023-06-11T19:50:51.600Z"
   },
   {
    "duration": 94,
    "start_time": "2023-06-11T19:50:51.627Z"
   },
   {
    "duration": 48,
    "start_time": "2023-06-11T19:50:51.724Z"
   },
   {
    "duration": 2457,
    "start_time": "2023-06-11T19:50:51.774Z"
   },
   {
    "duration": 1705,
    "start_time": "2023-06-11T19:50:54.233Z"
   },
   {
    "duration": 31,
    "start_time": "2023-06-11T19:50:55.949Z"
   },
   {
    "duration": 117,
    "start_time": "2023-06-11T19:50:55.982Z"
   },
   {
    "duration": 355,
    "start_time": "2023-06-11T19:50:56.105Z"
   },
   {
    "duration": 456,
    "start_time": "2023-06-11T19:50:56.462Z"
   },
   {
    "duration": 337,
    "start_time": "2023-06-11T19:50:56.919Z"
   },
   {
    "duration": 45,
    "start_time": "2023-06-11T19:50:57.257Z"
   },
   {
    "duration": 51,
    "start_time": "2023-06-11T19:50:57.304Z"
   },
   {
    "duration": 35,
    "start_time": "2023-06-11T19:50:57.357Z"
   },
   {
    "duration": 112,
    "start_time": "2023-06-11T19:50:57.394Z"
   },
   {
    "duration": 4,
    "start_time": "2023-06-11T19:50:57.508Z"
   },
   {
    "duration": 22,
    "start_time": "2023-06-11T19:50:57.514Z"
   },
   {
    "duration": 678,
    "start_time": "2023-06-11T19:50:57.538Z"
   },
   {
    "duration": 44,
    "start_time": "2023-06-11T19:50:58.218Z"
   },
   {
    "duration": 1158,
    "start_time": "2023-06-11T19:50:58.264Z"
   },
   {
    "duration": 12,
    "start_time": "2023-06-11T19:50:59.424Z"
   },
   {
    "duration": 27,
    "start_time": "2023-06-11T19:50:59.437Z"
   },
   {
    "duration": 15,
    "start_time": "2023-06-11T19:50:59.466Z"
   },
   {
    "duration": 6,
    "start_time": "2023-06-11T19:50:59.483Z"
   },
   {
    "duration": 32,
    "start_time": "2023-06-11T19:50:59.491Z"
   },
   {
    "duration": 0,
    "start_time": "2023-06-11T19:50:59.525Z"
   },
   {
    "duration": 0,
    "start_time": "2023-06-11T19:50:59.526Z"
   },
   {
    "duration": 0,
    "start_time": "2023-06-11T19:50:59.527Z"
   },
   {
    "duration": 0,
    "start_time": "2023-06-11T19:50:59.528Z"
   },
   {
    "duration": 0,
    "start_time": "2023-06-11T19:50:59.529Z"
   },
   {
    "duration": 0,
    "start_time": "2023-06-11T19:50:59.530Z"
   },
   {
    "duration": 0,
    "start_time": "2023-06-11T19:50:59.553Z"
   },
   {
    "duration": 0,
    "start_time": "2023-06-11T19:50:59.554Z"
   },
   {
    "duration": 0,
    "start_time": "2023-06-11T19:50:59.555Z"
   },
   {
    "duration": 0,
    "start_time": "2023-06-11T19:50:59.556Z"
   },
   {
    "duration": 0,
    "start_time": "2023-06-11T19:50:59.558Z"
   },
   {
    "duration": 0,
    "start_time": "2023-06-11T19:50:59.559Z"
   },
   {
    "duration": 0,
    "start_time": "2023-06-11T19:50:59.560Z"
   },
   {
    "duration": 0,
    "start_time": "2023-06-11T19:50:59.561Z"
   },
   {
    "duration": 0,
    "start_time": "2023-06-11T19:50:59.562Z"
   },
   {
    "duration": 0,
    "start_time": "2023-06-11T19:50:59.563Z"
   },
   {
    "duration": 0,
    "start_time": "2023-06-11T19:50:59.564Z"
   },
   {
    "duration": 0,
    "start_time": "2023-06-11T19:50:59.565Z"
   },
   {
    "duration": 0,
    "start_time": "2023-06-11T19:50:59.567Z"
   },
   {
    "duration": 0,
    "start_time": "2023-06-11T19:50:59.568Z"
   },
   {
    "duration": 0,
    "start_time": "2023-06-11T19:50:59.569Z"
   },
   {
    "duration": 0,
    "start_time": "2023-06-11T19:50:59.570Z"
   },
   {
    "duration": 0,
    "start_time": "2023-06-11T19:50:59.571Z"
   },
   {
    "duration": 0,
    "start_time": "2023-06-11T19:50:59.572Z"
   },
   {
    "duration": 0,
    "start_time": "2023-06-11T19:50:59.573Z"
   },
   {
    "duration": 0,
    "start_time": "2023-06-11T19:50:59.574Z"
   },
   {
    "duration": 0,
    "start_time": "2023-06-11T19:50:59.575Z"
   },
   {
    "duration": 2218,
    "start_time": "2023-06-11T19:51:09.174Z"
   },
   {
    "duration": 868,
    "start_time": "2023-06-11T19:51:11.395Z"
   },
   {
    "duration": 15,
    "start_time": "2023-06-11T19:51:12.265Z"
   },
   {
    "duration": 135,
    "start_time": "2023-06-11T19:51:12.282Z"
   },
   {
    "duration": 486,
    "start_time": "2023-06-11T19:51:12.419Z"
   },
   {
    "duration": 120,
    "start_time": "2023-06-11T19:51:12.907Z"
   },
   {
    "duration": 99,
    "start_time": "2023-06-11T19:51:13.028Z"
   },
   {
    "duration": 96,
    "start_time": "2023-06-11T19:51:13.129Z"
   },
   {
    "duration": 172,
    "start_time": "2023-06-11T19:51:13.227Z"
   },
   {
    "duration": 365,
    "start_time": "2023-06-11T19:51:13.402Z"
   },
   {
    "duration": 309,
    "start_time": "2023-06-11T19:51:13.769Z"
   },
   {
    "duration": 10,
    "start_time": "2023-06-11T19:51:14.081Z"
   },
   {
    "duration": 381,
    "start_time": "2023-06-11T19:51:14.092Z"
   },
   {
    "duration": 12,
    "start_time": "2023-06-11T19:51:14.477Z"
   },
   {
    "duration": 82,
    "start_time": "2023-06-11T19:51:14.490Z"
   },
   {
    "duration": 283,
    "start_time": "2023-06-11T19:51:14.574Z"
   },
   {
    "duration": 61,
    "start_time": "2023-06-11T19:51:14.859Z"
   },
   {
    "duration": 11,
    "start_time": "2023-06-11T19:51:14.922Z"
   },
   {
    "duration": 323,
    "start_time": "2023-06-11T19:51:14.934Z"
   },
   {
    "duration": 65,
    "start_time": "2023-06-11T19:51:15.259Z"
   },
   {
    "duration": 36,
    "start_time": "2023-06-11T19:51:15.326Z"
   },
   {
    "duration": 89,
    "start_time": "2023-06-11T19:51:15.364Z"
   },
   {
    "duration": 29,
    "start_time": "2023-06-11T19:51:15.455Z"
   },
   {
    "duration": 2521,
    "start_time": "2023-06-11T19:51:15.486Z"
   },
   {
    "duration": 1947,
    "start_time": "2023-06-11T19:51:18.008Z"
   },
   {
    "duration": 31,
    "start_time": "2023-06-11T19:51:19.957Z"
   },
   {
    "duration": 62,
    "start_time": "2023-06-11T19:51:19.990Z"
   },
   {
    "duration": 376,
    "start_time": "2023-06-11T19:51:20.055Z"
   },
   {
    "duration": 336,
    "start_time": "2023-06-11T19:51:20.433Z"
   },
   {
    "duration": 330,
    "start_time": "2023-06-11T19:51:20.771Z"
   },
   {
    "duration": 56,
    "start_time": "2023-06-11T19:51:21.103Z"
   },
   {
    "duration": 35,
    "start_time": "2023-06-11T19:51:21.161Z"
   },
   {
    "duration": 55,
    "start_time": "2023-06-11T19:51:21.197Z"
   },
   {
    "duration": 76,
    "start_time": "2023-06-11T19:51:21.255Z"
   },
   {
    "duration": 10,
    "start_time": "2023-06-11T19:51:21.347Z"
   },
   {
    "duration": 7,
    "start_time": "2023-06-11T19:51:21.359Z"
   },
   {
    "duration": 706,
    "start_time": "2023-06-11T19:51:21.368Z"
   },
   {
    "duration": 32,
    "start_time": "2023-06-11T19:51:22.076Z"
   },
   {
    "duration": 1173,
    "start_time": "2023-06-11T19:51:22.111Z"
   },
   {
    "duration": 11,
    "start_time": "2023-06-11T19:51:23.286Z"
   },
   {
    "duration": 12,
    "start_time": "2023-06-11T19:51:23.301Z"
   },
   {
    "duration": 42,
    "start_time": "2023-06-11T19:51:23.315Z"
   },
   {
    "duration": 4,
    "start_time": "2023-06-11T19:51:23.360Z"
   },
   {
    "duration": 25,
    "start_time": "2023-06-11T19:51:23.365Z"
   },
   {
    "duration": 572,
    "start_time": "2023-06-11T19:51:23.392Z"
   },
   {
    "duration": 192,
    "start_time": "2023-06-11T19:51:23.967Z"
   },
   {
    "duration": 98,
    "start_time": "2023-06-11T19:51:24.161Z"
   },
   {
    "duration": 6900,
    "start_time": "2023-06-11T20:03:22.921Z"
   },
   {
    "duration": 1109,
    "start_time": "2023-06-11T20:03:29.824Z"
   },
   {
    "duration": 30,
    "start_time": "2023-06-11T20:03:30.935Z"
   },
   {
    "duration": 174,
    "start_time": "2023-06-11T20:03:30.968Z"
   },
   {
    "duration": 557,
    "start_time": "2023-06-11T20:03:31.144Z"
   },
   {
    "duration": 165,
    "start_time": "2023-06-11T20:03:31.703Z"
   },
   {
    "duration": 132,
    "start_time": "2023-06-11T20:03:31.869Z"
   },
   {
    "duration": 121,
    "start_time": "2023-06-11T20:03:32.004Z"
   },
   {
    "duration": 210,
    "start_time": "2023-06-11T20:03:32.128Z"
   },
   {
    "duration": 396,
    "start_time": "2023-06-11T20:03:32.342Z"
   },
   {
    "duration": 713,
    "start_time": "2023-06-11T20:03:32.743Z"
   },
   {
    "duration": 10,
    "start_time": "2023-06-11T20:03:33.457Z"
   },
   {
    "duration": 443,
    "start_time": "2023-06-11T20:03:33.469Z"
   },
   {
    "duration": 13,
    "start_time": "2023-06-11T20:03:33.915Z"
   },
   {
    "duration": 75,
    "start_time": "2023-06-11T20:03:33.930Z"
   },
   {
    "duration": 320,
    "start_time": "2023-06-11T20:03:34.008Z"
   },
   {
    "duration": 72,
    "start_time": "2023-06-11T20:03:34.330Z"
   },
   {
    "duration": 12,
    "start_time": "2023-06-11T20:03:34.404Z"
   },
   {
    "duration": 340,
    "start_time": "2023-06-11T20:03:34.417Z"
   },
   {
    "duration": 65,
    "start_time": "2023-06-11T20:03:34.759Z"
   },
   {
    "duration": 34,
    "start_time": "2023-06-11T20:03:34.826Z"
   },
   {
    "duration": 85,
    "start_time": "2023-06-11T20:03:34.862Z"
   },
   {
    "duration": 34,
    "start_time": "2023-06-11T20:03:34.952Z"
   },
   {
    "duration": 2397,
    "start_time": "2023-06-11T20:03:34.987Z"
   },
   {
    "duration": 1827,
    "start_time": "2023-06-11T20:03:37.385Z"
   },
   {
    "duration": 41,
    "start_time": "2023-06-11T20:03:39.214Z"
   },
   {
    "duration": 56,
    "start_time": "2023-06-11T20:03:39.257Z"
   },
   {
    "duration": 356,
    "start_time": "2023-06-11T20:03:39.315Z"
   },
   {
    "duration": 314,
    "start_time": "2023-06-11T20:03:39.673Z"
   },
   {
    "duration": 463,
    "start_time": "2023-06-11T20:03:39.989Z"
   },
   {
    "duration": 57,
    "start_time": "2023-06-11T20:03:40.457Z"
   },
   {
    "duration": 46,
    "start_time": "2023-06-11T20:03:40.515Z"
   },
   {
    "duration": 33,
    "start_time": "2023-06-11T20:03:40.563Z"
   },
   {
    "duration": 98,
    "start_time": "2023-06-11T20:03:40.598Z"
   },
   {
    "duration": 4,
    "start_time": "2023-06-11T20:03:40.698Z"
   },
   {
    "duration": 7,
    "start_time": "2023-06-11T20:03:40.704Z"
   },
   {
    "duration": 554,
    "start_time": "2023-06-11T20:03:40.713Z"
   },
   {
    "duration": 28,
    "start_time": "2023-06-11T20:03:41.268Z"
   },
   {
    "duration": 1113,
    "start_time": "2023-06-11T20:03:41.298Z"
   },
   {
    "duration": 11,
    "start_time": "2023-06-11T20:03:42.413Z"
   },
   {
    "duration": 579,
    "start_time": "2023-06-11T20:03:49.928Z"
   },
   {
    "duration": 48,
    "start_time": "2023-06-11T20:03:50.509Z"
   },
   {
    "duration": 1072,
    "start_time": "2023-06-11T20:03:50.785Z"
   },
   {
    "duration": 15,
    "start_time": "2023-06-11T20:03:52.149Z"
   },
   {
    "duration": 12,
    "start_time": "2023-06-11T20:03:52.718Z"
   },
   {
    "duration": 11,
    "start_time": "2023-06-11T20:03:58.115Z"
   },
   {
    "duration": 4,
    "start_time": "2023-06-11T20:03:58.484Z"
   },
   {
    "duration": 25,
    "start_time": "2023-06-11T20:03:58.969Z"
   },
   {
    "duration": 537,
    "start_time": "2023-06-11T20:04:20.518Z"
   },
   {
    "duration": 745,
    "start_time": "2023-06-11T20:05:02.520Z"
   },
   {
    "duration": 927,
    "start_time": "2023-06-11T20:05:12.714Z"
   },
   {
    "duration": 104599,
    "start_time": "2023-06-11T20:05:29.271Z"
   },
   {
    "duration": 102882,
    "start_time": "2023-06-11T20:07:25.773Z"
   },
   {
    "duration": 349760,
    "start_time": "2023-06-11T20:09:19.139Z"
   },
   {
    "duration": 21074,
    "start_time": "2023-06-11T20:16:16.084Z"
   },
   {
    "duration": 543522,
    "start_time": "2023-06-11T20:16:50.826Z"
   },
   {
    "duration": 20767,
    "start_time": "2023-06-11T20:26:26.490Z"
   },
   {
    "duration": 23,
    "start_time": "2023-06-11T20:26:50.404Z"
   },
   {
    "duration": 7656,
    "start_time": "2023-06-11T20:26:51.916Z"
   },
   {
    "duration": 44,
    "start_time": "2023-06-11T20:27:05.256Z"
   },
   {
    "duration": 4,
    "start_time": "2023-06-11T20:27:06.854Z"
   },
   {
    "duration": 6427,
    "start_time": "2023-06-11T20:27:10.854Z"
   },
   {
    "duration": 43,
    "start_time": "2023-06-11T20:27:20.090Z"
   },
   {
    "duration": 4,
    "start_time": "2023-06-11T20:27:21.120Z"
   },
   {
    "duration": 25340,
    "start_time": "2023-06-11T20:27:23.053Z"
   },
   {
    "duration": 2847,
    "start_time": "2023-06-11T20:27:50.653Z"
   },
   {
    "duration": 3,
    "start_time": "2023-06-11T20:27:53.503Z"
   },
   {
    "duration": 3201,
    "start_time": "2023-06-11T20:28:19.193Z"
   },
   {
    "duration": 90,
    "start_time": "2023-06-11T20:28:22.396Z"
   },
   {
    "duration": 10901,
    "start_time": "2023-06-11T20:28:33.200Z"
   },
   {
    "duration": 2577,
    "start_time": "2023-06-11T20:28:44.104Z"
   },
   {
    "duration": 22,
    "start_time": "2023-06-11T20:28:46.683Z"
   },
   {
    "duration": 30041,
    "start_time": "2023-06-11T20:28:47.616Z"
   },
   {
    "duration": 834,
    "start_time": "2023-06-11T20:29:33.120Z"
   },
   {
    "duration": 3,
    "start_time": "2023-06-11T20:29:34.900Z"
   },
   {
    "duration": 15,
    "start_time": "2023-06-11T20:29:36.423Z"
   },
   {
    "duration": 4,
    "start_time": "2023-06-11T20:33:00.596Z"
   },
   {
    "duration": 22,
    "start_time": "2023-06-11T20:33:04.812Z"
   },
   {
    "duration": 1613,
    "start_time": "2023-06-11T20:40:26.077Z"
   },
   {
    "duration": 22,
    "start_time": "2023-06-11T20:40:45.816Z"
   },
   {
    "duration": 1476,
    "start_time": "2023-06-11T20:41:16.668Z"
   },
   {
    "duration": 29,
    "start_time": "2023-06-11T20:41:28.485Z"
   },
   {
    "duration": 23,
    "start_time": "2023-06-11T20:41:41.292Z"
   },
   {
    "duration": 168,
    "start_time": "2023-06-11T20:43:31.261Z"
   },
   {
    "duration": 100,
    "start_time": "2023-06-11T20:43:49.558Z"
   },
   {
    "duration": 25,
    "start_time": "2023-06-11T20:43:53.912Z"
   },
   {
    "duration": 22,
    "start_time": "2023-06-11T20:44:06.008Z"
   },
   {
    "duration": 22,
    "start_time": "2023-06-11T20:46:06.167Z"
   },
   {
    "duration": 26,
    "start_time": "2023-06-11T20:46:49.872Z"
   },
   {
    "duration": 37,
    "start_time": "2023-06-11T20:47:08.882Z"
   },
   {
    "duration": 26,
    "start_time": "2023-06-11T20:47:46.284Z"
   },
   {
    "duration": 8514,
    "start_time": "2023-06-11T21:06:44.788Z"
   },
   {
    "duration": 353645,
    "start_time": "2023-06-11T21:07:14.576Z"
   },
   {
    "duration": 20,
    "start_time": "2023-06-11T21:14:17.697Z"
   },
   {
    "duration": 27,
    "start_time": "2023-06-11T21:14:27.284Z"
   },
   {
    "duration": 2145,
    "start_time": "2023-06-11T21:27:50.950Z"
   },
   {
    "duration": 843,
    "start_time": "2023-06-11T21:27:53.098Z"
   },
   {
    "duration": 17,
    "start_time": "2023-06-11T21:27:53.943Z"
   },
   {
    "duration": 135,
    "start_time": "2023-06-11T21:27:53.963Z"
   },
   {
    "duration": 478,
    "start_time": "2023-06-11T21:27:54.100Z"
   },
   {
    "duration": 115,
    "start_time": "2023-06-11T21:27:54.580Z"
   },
   {
    "duration": 115,
    "start_time": "2023-06-11T21:27:54.696Z"
   },
   {
    "duration": 101,
    "start_time": "2023-06-11T21:27:54.813Z"
   },
   {
    "duration": 179,
    "start_time": "2023-06-11T21:27:54.916Z"
   },
   {
    "duration": 335,
    "start_time": "2023-06-11T21:27:55.098Z"
   },
   {
    "duration": 306,
    "start_time": "2023-06-11T21:27:55.435Z"
   },
   {
    "duration": 9,
    "start_time": "2023-06-11T21:27:55.743Z"
   },
   {
    "duration": 348,
    "start_time": "2023-06-11T21:27:55.754Z"
   },
   {
    "duration": 13,
    "start_time": "2023-06-11T21:27:56.104Z"
   },
   {
    "duration": 101,
    "start_time": "2023-06-11T21:27:56.118Z"
   },
   {
    "duration": 259,
    "start_time": "2023-06-11T21:27:56.221Z"
   },
   {
    "duration": 65,
    "start_time": "2023-06-11T21:27:56.482Z"
   },
   {
    "duration": 33,
    "start_time": "2023-06-11T21:27:56.548Z"
   },
   {
    "duration": 296,
    "start_time": "2023-06-11T21:27:56.583Z"
   },
   {
    "duration": 72,
    "start_time": "2023-06-11T21:27:56.881Z"
   },
   {
    "duration": 27,
    "start_time": "2023-06-11T21:27:56.955Z"
   },
   {
    "duration": 87,
    "start_time": "2023-06-11T21:27:56.984Z"
   },
   {
    "duration": 34,
    "start_time": "2023-06-11T21:27:57.073Z"
   },
   {
    "duration": 2367,
    "start_time": "2023-06-11T21:27:57.109Z"
   },
   {
    "duration": 1720,
    "start_time": "2023-06-11T21:27:59.478Z"
   },
   {
    "duration": 29,
    "start_time": "2023-06-11T21:28:01.200Z"
   },
   {
    "duration": 53,
    "start_time": "2023-06-11T21:28:01.241Z"
   },
   {
    "duration": 497,
    "start_time": "2023-06-11T21:28:01.298Z"
   },
   {
    "duration": 314,
    "start_time": "2023-06-11T21:28:01.797Z"
   },
   {
    "duration": 319,
    "start_time": "2023-06-11T21:28:02.113Z"
   },
   {
    "duration": 57,
    "start_time": "2023-06-11T21:28:02.434Z"
   },
   {
    "duration": 54,
    "start_time": "2023-06-11T21:28:02.493Z"
   },
   {
    "duration": 50,
    "start_time": "2023-06-11T21:28:02.549Z"
   },
   {
    "duration": 100,
    "start_time": "2023-06-11T21:28:02.602Z"
   },
   {
    "duration": 4,
    "start_time": "2023-06-11T21:28:02.704Z"
   },
   {
    "duration": 21,
    "start_time": "2023-06-11T21:28:02.710Z"
   },
   {
    "duration": 603,
    "start_time": "2023-06-11T21:28:02.733Z"
   },
   {
    "duration": 38,
    "start_time": "2023-06-11T21:28:03.338Z"
   },
   {
    "duration": 1114,
    "start_time": "2023-06-11T21:28:03.379Z"
   },
   {
    "duration": 11,
    "start_time": "2023-06-11T21:28:04.495Z"
   },
   {
    "duration": 13,
    "start_time": "2023-06-11T21:28:04.508Z"
   },
   {
    "duration": 31,
    "start_time": "2023-06-11T21:28:04.523Z"
   },
   {
    "duration": 12,
    "start_time": "2023-06-11T21:28:04.556Z"
   },
   {
    "duration": 23,
    "start_time": "2023-06-11T21:28:04.570Z"
   },
   {
    "duration": 647,
    "start_time": "2023-06-11T21:28:04.595Z"
   },
   {
    "duration": 814,
    "start_time": "2023-06-11T21:28:05.244Z"
   },
   {
    "duration": 902,
    "start_time": "2023-06-11T21:28:06.064Z"
   },
   {
    "duration": 101045,
    "start_time": "2023-06-11T21:28:06.968Z"
   },
   {
    "duration": 99260,
    "start_time": "2023-06-11T21:29:48.014Z"
   },
   {
    "duration": 341936,
    "start_time": "2023-06-11T21:31:27.276Z"
   },
   {
    "duration": 20064,
    "start_time": "2023-06-11T21:37:09.214Z"
   },
   {
    "duration": 336168,
    "start_time": "2023-06-11T21:37:29.281Z"
   },
   {
    "duration": 9993,
    "start_time": "2023-06-11T21:43:05.450Z"
   },
   {
    "duration": 110,
    "start_time": "2023-06-11T21:43:15.445Z"
   },
   {
    "duration": 7044,
    "start_time": "2023-06-11T21:43:15.557Z"
   },
   {
    "duration": 59,
    "start_time": "2023-06-11T21:43:22.603Z"
   },
   {
    "duration": 4,
    "start_time": "2023-06-11T21:43:22.664Z"
   },
   {
    "duration": 5807,
    "start_time": "2023-06-11T21:43:22.670Z"
   },
   {
    "duration": 40,
    "start_time": "2023-06-11T21:43:28.479Z"
   },
   {
    "duration": 20,
    "start_time": "2023-06-11T21:43:28.522Z"
   },
   {
    "duration": 22510,
    "start_time": "2023-06-11T21:43:28.544Z"
   },
   {
    "duration": 2648,
    "start_time": "2023-06-11T21:43:51.056Z"
   },
   {
    "duration": 3,
    "start_time": "2023-06-11T21:43:53.706Z"
   },
   {
    "duration": 10576,
    "start_time": "2023-06-11T21:43:53.711Z"
   },
   {
    "duration": 2584,
    "start_time": "2023-06-11T21:44:04.288Z"
   },
   {
    "duration": 5,
    "start_time": "2023-06-11T21:44:06.874Z"
   },
   {
    "duration": 17792,
    "start_time": "2023-06-11T21:44:06.881Z"
   },
   {
    "duration": 972,
    "start_time": "2023-06-11T21:44:24.675Z"
   },
   {
    "duration": 5,
    "start_time": "2023-06-11T21:44:25.648Z"
   },
   {
    "duration": 22,
    "start_time": "2023-06-11T21:44:25.654Z"
   },
   {
    "duration": 26,
    "start_time": "2023-06-11T22:02:11.065Z"
   },
   {
    "duration": 551,
    "start_time": "2023-06-11T22:03:18.400Z"
   },
   {
    "duration": 33,
    "start_time": "2023-06-11T22:03:30.335Z"
   },
   {
    "duration": 2510,
    "start_time": "2023-06-11T22:05:50.269Z"
   },
   {
    "duration": 113,
    "start_time": "2023-06-11T22:08:04.830Z"
   },
   {
    "duration": 10,
    "start_time": "2023-06-11T22:08:05.968Z"
   },
   {
    "duration": 8,
    "start_time": "2023-06-11T22:08:10.438Z"
   },
   {
    "duration": 23,
    "start_time": "2023-06-11T22:08:14.480Z"
   },
   {
    "duration": 1583,
    "start_time": "2023-06-11T22:11:51.820Z"
   },
   {
    "duration": 133,
    "start_time": "2023-06-11T22:13:18.985Z"
   },
   {
    "duration": 106687,
    "start_time": "2023-06-11T22:14:01.800Z"
   },
   {
    "duration": 504,
    "start_time": "2023-06-11T22:16:58.011Z"
   },
   {
    "duration": 154,
    "start_time": "2023-06-11T22:17:07.330Z"
   },
   {
    "duration": 296,
    "start_time": "2023-06-11T22:17:14.991Z"
   },
   {
    "duration": 7394,
    "start_time": "2023-06-11T22:17:37.926Z"
   },
   {
    "duration": 61,
    "start_time": "2023-06-11T22:17:45.323Z"
   },
   {
    "duration": 4,
    "start_time": "2023-06-11T22:17:45.386Z"
   },
   {
    "duration": 152,
    "start_time": "2023-06-11T22:19:20.225Z"
   },
   {
    "duration": 7294,
    "start_time": "2023-06-11T22:19:26.189Z"
   },
   {
    "duration": 43,
    "start_time": "2023-06-11T22:19:33.485Z"
   },
   {
    "duration": 11,
    "start_time": "2023-06-11T22:19:33.541Z"
   },
   {
    "duration": 46,
    "start_time": "2023-06-11T22:23:01.373Z"
   },
   {
    "duration": 7162,
    "start_time": "2023-06-11T22:23:03.740Z"
   },
   {
    "duration": 69,
    "start_time": "2023-06-11T22:23:10.904Z"
   },
   {
    "duration": 4,
    "start_time": "2023-06-11T22:23:10.980Z"
   },
   {
    "duration": 114,
    "start_time": "2023-06-11T22:23:32.374Z"
   },
   {
    "duration": 26,
    "start_time": "2023-06-11T22:23:33.841Z"
   },
   {
    "duration": 6,
    "start_time": "2023-06-11T22:23:34.940Z"
   },
   {
    "duration": 35,
    "start_time": "2023-06-11T22:23:38.797Z"
   },
   {
    "duration": 189,
    "start_time": "2023-06-11T22:27:26.090Z"
   },
   {
    "duration": 158,
    "start_time": "2023-06-11T22:27:31.891Z"
   },
   {
    "duration": 11,
    "start_time": "2023-06-11T22:27:34.710Z"
   },
   {
    "duration": 38,
    "start_time": "2023-06-11T22:27:38.258Z"
   },
   {
    "duration": 1320,
    "start_time": "2023-06-11T22:29:27.879Z"
   },
   {
    "duration": 155,
    "start_time": "2023-06-11T22:30:33.131Z"
   },
   {
    "duration": 113614,
    "start_time": "2023-06-11T22:37:07.801Z"
   },
   {
    "duration": 7964,
    "start_time": "2023-06-11T22:39:28.936Z"
   },
   {
    "duration": 53,
    "start_time": "2023-06-11T22:39:45.572Z"
   },
   {
    "duration": 7,
    "start_time": "2023-06-11T22:39:50.782Z"
   },
   {
    "duration": 129,
    "start_time": "2023-06-11T22:39:58.000Z"
   },
   {
    "duration": 9,
    "start_time": "2023-06-11T22:39:58.820Z"
   },
   {
    "duration": 9,
    "start_time": "2023-06-11T22:40:06.186Z"
   },
   {
    "duration": 64,
    "start_time": "2023-06-11T22:40:13.834Z"
   },
   {
    "duration": 35,
    "start_time": "2023-06-11T22:40:43.428Z"
   },
   {
    "duration": 27,
    "start_time": "2023-06-11T22:43:04.217Z"
   },
   {
    "duration": 50,
    "start_time": "2023-06-11T22:43:17.027Z"
   },
   {
    "duration": 123,
    "start_time": "2023-06-11T22:45:23.210Z"
   },
   {
    "duration": 11,
    "start_time": "2023-06-11T22:45:23.692Z"
   },
   {
    "duration": 19,
    "start_time": "2023-06-11T22:45:24.138Z"
   },
   {
    "duration": 26,
    "start_time": "2023-06-11T22:45:29.707Z"
   },
   {
    "duration": 147,
    "start_time": "2023-06-11T22:51:28.770Z"
   },
   {
    "duration": 125,
    "start_time": "2023-06-11T22:51:47.092Z"
   },
   {
    "duration": 135,
    "start_time": "2023-06-11T22:52:23.270Z"
   },
   {
    "duration": 4833,
    "start_time": "2023-06-11T22:52:26.786Z"
   },
   {
    "duration": 148,
    "start_time": "2023-06-11T22:52:52.176Z"
   },
   {
    "duration": 7,
    "start_time": "2023-06-11T22:52:52.571Z"
   },
   {
    "duration": 14327,
    "start_time": "2023-06-11T22:53:01.227Z"
   },
   {
    "duration": 31953,
    "start_time": "2023-06-11T22:53:15.572Z"
   },
   {
    "duration": 3907,
    "start_time": "2023-06-11T22:53:47.527Z"
   },
   {
    "duration": 15,
    "start_time": "2023-06-11T22:53:51.436Z"
   },
   {
    "duration": 14361,
    "start_time": "2023-06-11T22:53:51.454Z"
   },
   {
    "duration": 3738,
    "start_time": "2023-06-11T22:54:05.817Z"
   },
   {
    "duration": 9,
    "start_time": "2023-06-11T22:54:09.562Z"
   },
   {
    "duration": 86,
    "start_time": "2023-06-11T22:54:09.576Z"
   },
   {
    "duration": 241287,
    "start_time": "2023-06-11T22:58:32.974Z"
   },
   {
    "duration": 515910,
    "start_time": "2023-06-11T23:02:41.409Z"
   },
   {
    "duration": 326325,
    "start_time": "2023-06-11T23:11:20.786Z"
   },
   {
    "duration": 348,
    "start_time": "2023-06-11T23:17:05.139Z"
   },
   {
    "duration": 663510,
    "start_time": "2023-06-11T23:17:25.792Z"
   },
   {
    "duration": 12530,
    "start_time": "2023-06-11T23:28:30.899Z"
   },
   {
    "duration": 3783,
    "start_time": "2023-06-11T23:28:55.679Z"
   },
   {
    "duration": 1015,
    "start_time": "2023-06-11T23:28:59.468Z"
   },
   {
    "duration": 26,
    "start_time": "2023-06-11T23:29:00.484Z"
   },
   {
    "duration": 147,
    "start_time": "2023-06-11T23:29:00.512Z"
   },
   {
    "duration": 632,
    "start_time": "2023-06-11T23:29:00.665Z"
   },
   {
    "duration": 128,
    "start_time": "2023-06-11T23:29:01.299Z"
   },
   {
    "duration": 163,
    "start_time": "2023-06-11T23:29:01.428Z"
   },
   {
    "duration": 119,
    "start_time": "2023-06-11T23:29:01.594Z"
   },
   {
    "duration": 264,
    "start_time": "2023-06-11T23:29:01.715Z"
   },
   {
    "duration": 457,
    "start_time": "2023-06-11T23:29:01.980Z"
   },
   {
    "duration": 507,
    "start_time": "2023-06-11T23:29:02.443Z"
   },
   {
    "duration": 13,
    "start_time": "2023-06-11T23:29:02.952Z"
   },
   {
    "duration": 516,
    "start_time": "2023-06-11T23:29:02.967Z"
   },
   {
    "duration": 14,
    "start_time": "2023-06-11T23:29:03.487Z"
   },
   {
    "duration": 90,
    "start_time": "2023-06-11T23:29:03.503Z"
   },
   {
    "duration": 319,
    "start_time": "2023-06-11T23:29:03.595Z"
   },
   {
    "duration": 89,
    "start_time": "2023-06-11T23:29:03.916Z"
   },
   {
    "duration": 29,
    "start_time": "2023-06-11T23:29:04.007Z"
   },
   {
    "duration": 414,
    "start_time": "2023-06-11T23:29:04.039Z"
   },
   {
    "duration": 84,
    "start_time": "2023-06-11T23:29:04.455Z"
   },
   {
    "duration": 60,
    "start_time": "2023-06-11T23:29:04.540Z"
   },
   {
    "duration": 101,
    "start_time": "2023-06-11T23:29:04.602Z"
   },
   {
    "duration": 30,
    "start_time": "2023-06-11T23:29:04.705Z"
   },
   {
    "duration": 2663,
    "start_time": "2023-06-11T23:29:04.736Z"
   },
   {
    "duration": 2031,
    "start_time": "2023-06-11T23:29:07.401Z"
   },
   {
    "duration": 59,
    "start_time": "2023-06-11T23:29:09.433Z"
   },
   {
    "duration": 49,
    "start_time": "2023-06-11T23:29:09.494Z"
   },
   {
    "duration": 353,
    "start_time": "2023-06-11T23:29:09.553Z"
   },
   {
    "duration": 365,
    "start_time": "2023-06-11T23:29:09.908Z"
   },
   {
    "duration": 447,
    "start_time": "2023-06-11T23:29:10.275Z"
   },
   {
    "duration": 63,
    "start_time": "2023-06-11T23:29:10.723Z"
   },
   {
    "duration": 45,
    "start_time": "2023-06-11T23:29:10.790Z"
   },
   {
    "duration": 56,
    "start_time": "2023-06-11T23:29:10.837Z"
   },
   {
    "duration": 95,
    "start_time": "2023-06-11T23:29:10.895Z"
   },
   {
    "duration": 3,
    "start_time": "2023-06-11T23:29:10.993Z"
   },
   {
    "duration": 20,
    "start_time": "2023-06-11T23:29:10.998Z"
   },
   {
    "duration": 570,
    "start_time": "2023-06-11T23:29:11.020Z"
   },
   {
    "duration": 37,
    "start_time": "2023-06-11T23:29:11.592Z"
   },
   {
    "duration": 1159,
    "start_time": "2023-06-11T23:29:11.630Z"
   },
   {
    "duration": 12,
    "start_time": "2023-06-11T23:29:12.791Z"
   },
   {
    "duration": 12,
    "start_time": "2023-06-11T23:29:12.808Z"
   },
   {
    "duration": 33,
    "start_time": "2023-06-11T23:29:12.821Z"
   },
   {
    "duration": 35,
    "start_time": "2023-06-11T23:29:12.860Z"
   },
   {
    "duration": 23,
    "start_time": "2023-06-11T23:29:12.897Z"
   },
   {
    "duration": 439,
    "start_time": "2023-06-11T23:29:12.922Z"
   },
   {
    "duration": 828,
    "start_time": "2023-06-11T23:29:13.368Z"
   },
   {
    "duration": 772,
    "start_time": "2023-06-11T23:29:14.203Z"
   },
   {
    "duration": 2442,
    "start_time": "2023-06-11T23:29:14.976Z"
   },
   {
    "duration": 106937,
    "start_time": "2023-06-11T23:29:17.420Z"
   },
   {
    "duration": 397045,
    "start_time": "2023-06-11T23:31:04.361Z"
   },
   {
    "duration": 23306,
    "start_time": "2023-06-11T23:37:41.409Z"
   },
   {
    "duration": 1934053,
    "start_time": "2023-06-11T23:38:04.717Z"
   },
   {
    "duration": 3781,
    "start_time": "2023-06-12T00:11:50.317Z"
   },
   {
    "duration": 906,
    "start_time": "2023-06-12T00:11:54.101Z"
   },
   {
    "duration": 23,
    "start_time": "2023-06-12T00:11:55.008Z"
   },
   {
    "duration": 133,
    "start_time": "2023-06-12T00:11:55.045Z"
   },
   {
    "duration": 549,
    "start_time": "2023-06-12T00:11:55.182Z"
   },
   {
    "duration": 170,
    "start_time": "2023-06-12T00:11:55.734Z"
   },
   {
    "duration": 104,
    "start_time": "2023-06-12T00:11:55.905Z"
   },
   {
    "duration": 117,
    "start_time": "2023-06-12T00:11:56.011Z"
   },
   {
    "duration": 221,
    "start_time": "2023-06-12T00:11:56.130Z"
   },
   {
    "duration": 417,
    "start_time": "2023-06-12T00:11:56.354Z"
   },
   {
    "duration": 439,
    "start_time": "2023-06-12T00:11:56.774Z"
   },
   {
    "duration": 11,
    "start_time": "2023-06-12T00:11:57.215Z"
   },
   {
    "duration": 468,
    "start_time": "2023-06-12T00:11:57.228Z"
   },
   {
    "duration": 13,
    "start_time": "2023-06-12T00:11:57.698Z"
   },
   {
    "duration": 99,
    "start_time": "2023-06-12T00:11:57.713Z"
   },
   {
    "duration": 293,
    "start_time": "2023-06-12T00:11:57.814Z"
   },
   {
    "duration": 111,
    "start_time": "2023-06-12T00:11:58.109Z"
   },
   {
    "duration": 37,
    "start_time": "2023-06-12T00:11:58.222Z"
   },
   {
    "duration": 380,
    "start_time": "2023-06-12T00:11:58.261Z"
   },
   {
    "duration": 73,
    "start_time": "2023-06-12T00:11:58.643Z"
   },
   {
    "duration": 45,
    "start_time": "2023-06-12T00:11:58.717Z"
   },
   {
    "duration": 133,
    "start_time": "2023-06-12T00:11:58.767Z"
   },
   {
    "duration": 59,
    "start_time": "2023-06-12T00:11:58.902Z"
   },
   {
    "duration": 2668,
    "start_time": "2023-06-12T00:11:58.974Z"
   },
   {
    "duration": 2033,
    "start_time": "2023-06-12T00:12:01.646Z"
   },
   {
    "duration": 38,
    "start_time": "2023-06-12T00:12:03.681Z"
   },
   {
    "duration": 76,
    "start_time": "2023-06-12T00:12:03.720Z"
   },
   {
    "duration": 360,
    "start_time": "2023-06-12T00:12:03.800Z"
   },
   {
    "duration": 322,
    "start_time": "2023-06-12T00:12:04.162Z"
   },
   {
    "duration": 448,
    "start_time": "2023-06-12T00:12:04.485Z"
   },
   {
    "duration": 65,
    "start_time": "2023-06-12T00:12:04.934Z"
   },
   {
    "duration": 58,
    "start_time": "2023-06-12T00:12:05.000Z"
   },
   {
    "duration": 47,
    "start_time": "2023-06-12T00:12:05.062Z"
   },
   {
    "duration": 88,
    "start_time": "2023-06-12T00:12:05.110Z"
   },
   {
    "duration": 5,
    "start_time": "2023-06-12T00:12:05.200Z"
   },
   {
    "duration": 7,
    "start_time": "2023-06-12T00:12:05.207Z"
   },
   {
    "duration": 585,
    "start_time": "2023-06-12T00:12:05.215Z"
   },
   {
    "duration": 41,
    "start_time": "2023-06-12T00:12:05.802Z"
   },
   {
    "duration": 1140,
    "start_time": "2023-06-12T00:12:05.845Z"
   },
   {
    "duration": 10,
    "start_time": "2023-06-12T00:12:06.987Z"
   },
   {
    "duration": 12,
    "start_time": "2023-06-12T00:12:06.999Z"
   },
   {
    "duration": 42,
    "start_time": "2023-06-12T00:12:07.013Z"
   },
   {
    "duration": 25,
    "start_time": "2023-06-12T00:12:07.057Z"
   },
   {
    "duration": 22,
    "start_time": "2023-06-12T00:12:07.084Z"
   },
   {
    "duration": 555,
    "start_time": "2023-06-12T00:12:07.107Z"
   },
   {
    "duration": 914,
    "start_time": "2023-06-12T00:12:07.667Z"
   },
   {
    "duration": 1001,
    "start_time": "2023-06-12T00:12:08.583Z"
   },
   {
    "duration": 2466,
    "start_time": "2023-06-12T00:12:09.589Z"
   },
   {
    "duration": 105398,
    "start_time": "2023-06-12T00:12:12.057Z"
   },
   {
    "duration": 391332,
    "start_time": "2023-06-12T00:13:57.463Z"
   },
   {
    "duration": 23334,
    "start_time": "2023-06-12T00:20:28.797Z"
   },
   {
    "duration": 9385133,
    "start_time": "2023-06-12T00:20:52.133Z"
   },
   {
    "duration": 18485,
    "start_time": "2023-06-12T02:57:17.268Z"
   },
   {
    "duration": 115,
    "start_time": "2023-06-12T02:57:35.755Z"
   },
   {
    "duration": 6941,
    "start_time": "2023-06-12T02:57:35.949Z"
   },
   {
    "duration": 57,
    "start_time": "2023-06-12T02:57:42.892Z"
   },
   {
    "duration": 4,
    "start_time": "2023-06-12T02:57:42.955Z"
   },
   {
    "duration": 113,
    "start_time": "2023-06-12T02:57:42.961Z"
   },
   {
    "duration": 10,
    "start_time": "2023-06-12T02:57:43.076Z"
   },
   {
    "duration": 29,
    "start_time": "2023-06-12T02:57:43.088Z"
   },
   {
    "duration": 24966,
    "start_time": "2023-06-12T02:57:43.118Z"
   },
   {
    "duration": 2739,
    "start_time": "2023-06-12T02:58:08.085Z"
   },
   {
    "duration": 4,
    "start_time": "2023-06-12T02:58:10.827Z"
   },
   {
    "duration": 11231,
    "start_time": "2023-06-12T02:58:10.841Z"
   },
   {
    "duration": 2825,
    "start_time": "2023-06-12T02:58:22.074Z"
   },
   {
    "duration": 4,
    "start_time": "2023-06-12T02:58:24.900Z"
   },
   {
    "duration": 946473,
    "start_time": "2023-06-12T02:58:24.905Z"
   },
   {
    "duration": 906,
    "start_time": "2023-06-12T03:14:11.380Z"
   },
   {
    "duration": 5,
    "start_time": "2023-06-12T03:14:12.357Z"
   },
   {
    "duration": 29,
    "start_time": "2023-06-12T03:14:12.364Z"
   },
   {
    "duration": 81,
    "start_time": "2023-06-12T06:08:08.700Z"
   },
   {
    "duration": 23,
    "start_time": "2023-06-12T06:11:03.353Z"
   },
   {
    "duration": 23,
    "start_time": "2023-06-12T06:11:36.616Z"
   },
   {
    "duration": 20,
    "start_time": "2023-06-12T06:11:46.402Z"
   },
   {
    "duration": 94,
    "start_time": "2023-06-12T06:12:53.494Z"
   },
   {
    "duration": 93,
    "start_time": "2023-06-12T06:19:17.091Z"
   },
   {
    "duration": 21,
    "start_time": "2023-06-12T06:22:17.532Z"
   },
   {
    "duration": 4782,
    "start_time": "2023-06-12T07:02:33.765Z"
   },
   {
    "duration": 720,
    "start_time": "2023-06-12T07:02:38.548Z"
   },
   {
    "duration": 23,
    "start_time": "2023-06-12T07:02:39.272Z"
   },
   {
    "duration": 121,
    "start_time": "2023-06-12T07:02:39.297Z"
   },
   {
    "duration": 439,
    "start_time": "2023-06-12T07:02:39.420Z"
   },
   {
    "duration": 117,
    "start_time": "2023-06-12T07:02:39.861Z"
   },
   {
    "duration": 85,
    "start_time": "2023-06-12T07:02:39.982Z"
   },
   {
    "duration": 101,
    "start_time": "2023-06-12T07:02:40.075Z"
   },
   {
    "duration": 196,
    "start_time": "2023-06-12T07:02:40.179Z"
   },
   {
    "duration": 367,
    "start_time": "2023-06-12T07:02:40.382Z"
   },
   {
    "duration": 392,
    "start_time": "2023-06-12T07:02:40.750Z"
   },
   {
    "duration": 8,
    "start_time": "2023-06-12T07:02:41.143Z"
   },
   {
    "duration": 399,
    "start_time": "2023-06-12T07:02:41.152Z"
   },
   {
    "duration": 10,
    "start_time": "2023-06-12T07:02:41.554Z"
   },
   {
    "duration": 63,
    "start_time": "2023-06-12T07:02:41.571Z"
   },
   {
    "duration": 295,
    "start_time": "2023-06-12T07:02:41.636Z"
   },
   {
    "duration": 66,
    "start_time": "2023-06-12T07:02:41.933Z"
   },
   {
    "duration": 12,
    "start_time": "2023-06-12T07:02:42.001Z"
   },
   {
    "duration": 285,
    "start_time": "2023-06-12T07:02:42.014Z"
   },
   {
    "duration": 55,
    "start_time": "2023-06-12T07:02:42.301Z"
   },
   {
    "duration": 30,
    "start_time": "2023-06-12T07:02:42.371Z"
   },
   {
    "duration": 84,
    "start_time": "2023-06-12T07:02:42.402Z"
   },
   {
    "duration": 31,
    "start_time": "2023-06-12T07:02:42.488Z"
   },
   {
    "duration": 2497,
    "start_time": "2023-06-12T07:02:42.521Z"
   },
   {
    "duration": 1719,
    "start_time": "2023-06-12T07:02:45.019Z"
   },
   {
    "duration": 44,
    "start_time": "2023-06-12T07:02:46.740Z"
   },
   {
    "duration": 35,
    "start_time": "2023-06-12T07:02:46.786Z"
   },
   {
    "duration": 278,
    "start_time": "2023-06-12T07:02:46.823Z"
   },
   {
    "duration": 279,
    "start_time": "2023-06-12T07:02:47.103Z"
   },
   {
    "duration": 361,
    "start_time": "2023-06-12T07:02:47.384Z"
   },
   {
    "duration": 56,
    "start_time": "2023-06-12T07:02:47.747Z"
   },
   {
    "duration": 32,
    "start_time": "2023-06-12T07:02:47.805Z"
   },
   {
    "duration": 57,
    "start_time": "2023-06-12T07:02:47.839Z"
   },
   {
    "duration": 79,
    "start_time": "2023-06-12T07:02:47.898Z"
   },
   {
    "duration": 4,
    "start_time": "2023-06-12T07:02:47.985Z"
   },
   {
    "duration": 5,
    "start_time": "2023-06-12T07:02:47.991Z"
   },
   {
    "duration": 495,
    "start_time": "2023-06-12T07:02:47.997Z"
   },
   {
    "duration": 26,
    "start_time": "2023-06-12T07:02:48.493Z"
   },
   {
    "duration": 958,
    "start_time": "2023-06-12T07:02:48.521Z"
   },
   {
    "duration": 10,
    "start_time": "2023-06-12T07:02:49.484Z"
   },
   {
    "duration": 9,
    "start_time": "2023-06-12T07:02:49.498Z"
   },
   {
    "duration": 11,
    "start_time": "2023-06-12T07:02:49.509Z"
   },
   {
    "duration": 8,
    "start_time": "2023-06-12T07:02:49.521Z"
   },
   {
    "duration": 33,
    "start_time": "2023-06-12T07:02:49.530Z"
   },
   {
    "duration": 333,
    "start_time": "2023-06-12T07:02:49.565Z"
   },
   {
    "duration": 805,
    "start_time": "2023-06-12T07:02:49.978Z"
   },
   {
    "duration": 690,
    "start_time": "2023-06-12T07:02:50.786Z"
   },
   {
    "duration": 2067,
    "start_time": "2023-06-12T07:02:51.478Z"
   },
   {
    "duration": 90200,
    "start_time": "2023-06-12T07:02:53.547Z"
   },
   {
    "duration": 332672,
    "start_time": "2023-06-12T07:04:23.748Z"
   },
   {
    "duration": 23001,
    "start_time": "2023-06-12T07:09:56.422Z"
   },
   {
    "duration": 1030263,
    "start_time": "2023-06-12T07:10:19.424Z"
   },
   {
    "duration": 11790,
    "start_time": "2023-06-12T07:27:29.689Z"
   },
   {
    "duration": 96,
    "start_time": "2023-06-12T07:27:41.480Z"
   },
   {
    "duration": 6568,
    "start_time": "2023-06-12T07:27:41.583Z"
   },
   {
    "duration": 52,
    "start_time": "2023-06-12T07:27:48.153Z"
   },
   {
    "duration": 4,
    "start_time": "2023-06-12T07:27:48.207Z"
   },
   {
    "duration": 118,
    "start_time": "2023-06-12T07:27:48.213Z"
   },
   {
    "duration": 9,
    "start_time": "2023-06-12T07:27:48.333Z"
   },
   {
    "duration": 4,
    "start_time": "2023-06-12T07:27:48.343Z"
   },
   {
    "duration": 25362,
    "start_time": "2023-06-12T07:27:48.348Z"
   },
   {
    "duration": 2909,
    "start_time": "2023-06-12T07:28:13.712Z"
   },
   {
    "duration": 3,
    "start_time": "2023-06-12T07:28:16.623Z"
   },
   {
    "duration": 10847,
    "start_time": "2023-06-12T07:28:16.628Z"
   },
   {
    "duration": 2835,
    "start_time": "2023-06-12T07:28:27.479Z"
   },
   {
    "duration": 22,
    "start_time": "2023-06-12T07:28:30.316Z"
   },
   {
    "duration": 154065,
    "start_time": "2023-06-12T07:28:30.340Z"
   },
   {
    "duration": 797,
    "start_time": "2023-06-12T07:31:04.407Z"
   },
   {
    "duration": 3,
    "start_time": "2023-06-12T07:31:05.207Z"
   },
   {
    "duration": 23,
    "start_time": "2023-06-12T07:31:05.212Z"
   },
   {
    "duration": 24,
    "start_time": "2023-06-12T08:28:55.357Z"
   },
   {
    "duration": 4,
    "start_time": "2023-06-12T08:32:59.661Z"
   },
   {
    "duration": 5,
    "start_time": "2023-06-12T08:33:29.297Z"
   },
   {
    "duration": 2450,
    "start_time": "2023-06-12T08:34:20.422Z"
   },
   {
    "duration": 762,
    "start_time": "2023-06-12T08:34:22.876Z"
   },
   {
    "duration": 14,
    "start_time": "2023-06-12T08:34:23.640Z"
   },
   {
    "duration": 126,
    "start_time": "2023-06-12T08:34:23.656Z"
   },
   {
    "duration": 409,
    "start_time": "2023-06-12T08:34:23.785Z"
   },
   {
    "duration": 99,
    "start_time": "2023-06-12T08:34:24.196Z"
   },
   {
    "duration": 93,
    "start_time": "2023-06-12T08:34:24.296Z"
   },
   {
    "duration": 94,
    "start_time": "2023-06-12T08:34:24.391Z"
   },
   {
    "duration": 147,
    "start_time": "2023-06-12T08:34:24.487Z"
   },
   {
    "duration": 290,
    "start_time": "2023-06-12T08:34:24.637Z"
   },
   {
    "duration": 263,
    "start_time": "2023-06-12T08:34:24.928Z"
   },
   {
    "duration": 8,
    "start_time": "2023-06-12T08:34:25.192Z"
   },
   {
    "duration": 300,
    "start_time": "2023-06-12T08:34:25.201Z"
   },
   {
    "duration": 10,
    "start_time": "2023-06-12T08:34:25.502Z"
   },
   {
    "duration": 77,
    "start_time": "2023-06-12T08:34:25.514Z"
   },
   {
    "duration": 239,
    "start_time": "2023-06-12T08:34:25.592Z"
   },
   {
    "duration": 70,
    "start_time": "2023-06-12T08:34:25.832Z"
   },
   {
    "duration": 11,
    "start_time": "2023-06-12T08:34:25.904Z"
   },
   {
    "duration": 298,
    "start_time": "2023-06-12T08:34:25.916Z"
   },
   {
    "duration": 69,
    "start_time": "2023-06-12T08:34:26.216Z"
   },
   {
    "duration": 22,
    "start_time": "2023-06-12T08:34:26.287Z"
   },
   {
    "duration": 82,
    "start_time": "2023-06-12T08:34:26.311Z"
   },
   {
    "duration": 26,
    "start_time": "2023-06-12T08:34:26.394Z"
   },
   {
    "duration": 2077,
    "start_time": "2023-06-12T08:34:26.422Z"
   },
   {
    "duration": 1573,
    "start_time": "2023-06-12T08:34:28.502Z"
   },
   {
    "duration": 28,
    "start_time": "2023-06-12T08:34:30.078Z"
   },
   {
    "duration": 52,
    "start_time": "2023-06-12T08:34:30.108Z"
   },
   {
    "duration": 464,
    "start_time": "2023-06-12T08:34:30.164Z"
   },
   {
    "duration": 297,
    "start_time": "2023-06-12T08:34:30.630Z"
   },
   {
    "duration": 268,
    "start_time": "2023-06-12T08:34:30.929Z"
   },
   {
    "duration": 41,
    "start_time": "2023-06-12T08:34:31.199Z"
   },
   {
    "duration": 74,
    "start_time": "2023-06-12T08:34:31.242Z"
   },
   {
    "duration": 33,
    "start_time": "2023-06-12T08:34:31.317Z"
   },
   {
    "duration": 73,
    "start_time": "2023-06-12T08:34:31.352Z"
   },
   {
    "duration": 3,
    "start_time": "2023-06-12T08:34:31.427Z"
   },
   {
    "duration": 61,
    "start_time": "2023-06-12T08:34:31.431Z"
   },
   {
    "duration": 498,
    "start_time": "2023-06-12T08:41:38.397Z"
   },
   {
    "duration": 25,
    "start_time": "2023-06-12T08:51:29.133Z"
   },
   {
    "duration": 1188,
    "start_time": "2023-06-12T08:51:30.316Z"
   },
   {
    "duration": 9,
    "start_time": "2023-06-12T08:53:39.908Z"
   },
   {
    "duration": 10,
    "start_time": "2023-06-12T08:53:41.540Z"
   },
   {
    "duration": 13,
    "start_time": "2023-06-12T08:53:44.480Z"
   },
   {
    "duration": 3,
    "start_time": "2023-06-12T08:53:46.119Z"
   },
   {
    "duration": 24,
    "start_time": "2023-06-12T08:53:47.864Z"
   },
   {
    "duration": 517,
    "start_time": "2023-06-12T08:53:57.188Z"
   },
   {
    "duration": 6,
    "start_time": "2023-06-12T08:54:54.696Z"
   },
   {
    "duration": 915,
    "start_time": "2023-06-12T08:56:31.861Z"
   },
   {
    "duration": 570,
    "start_time": "2023-06-12T08:56:35.809Z"
   },
   {
    "duration": 2276,
    "start_time": "2023-06-12T08:56:42.381Z"
   },
   {
    "duration": 89958,
    "start_time": "2023-06-12T08:57:02.857Z"
   },
   {
    "duration": 5,
    "start_time": "2023-06-12T08:58:57.949Z"
   },
   {
    "duration": 4,
    "start_time": "2023-06-12T08:59:06.049Z"
   },
   {
    "duration": 325271,
    "start_time": "2023-06-12T08:59:52.933Z"
   },
   {
    "duration": 19694,
    "start_time": "2023-06-12T09:06:01.243Z"
   },
   {
    "duration": 1953778,
    "start_time": "2023-06-12T09:07:47.421Z"
   },
   {
    "duration": 29136,
    "start_time": "2023-06-12T09:47:18.957Z"
   },
   {
    "duration": 18,
    "start_time": "2023-06-12T09:47:51.191Z"
   },
   {
    "duration": 4,
    "start_time": "2023-06-12T09:47:52.760Z"
   },
   {
    "duration": 6307,
    "start_time": "2023-06-12T09:48:00.532Z"
   },
   {
    "duration": 40,
    "start_time": "2023-06-12T09:48:08.424Z"
   },
   {
    "duration": 4,
    "start_time": "2023-06-12T09:48:10.264Z"
   },
   {
    "duration": 4,
    "start_time": "2023-06-12T09:48:11.631Z"
   },
   {
    "duration": 104,
    "start_time": "2023-06-12T09:48:14.554Z"
   },
   {
    "duration": 9,
    "start_time": "2023-06-12T09:48:16.454Z"
   },
   {
    "duration": 8,
    "start_time": "2023-06-12T09:48:17.772Z"
   },
   {
    "duration": 3,
    "start_time": "2023-06-12T09:48:19.100Z"
   },
   {
    "duration": 24288,
    "start_time": "2023-06-12T09:48:20.821Z"
   },
   {
    "duration": 3021,
    "start_time": "2023-06-12T09:48:47.568Z"
   },
   {
    "duration": 5,
    "start_time": "2023-06-12T09:49:03.272Z"
   },
   {
    "duration": 4,
    "start_time": "2023-06-12T09:49:04.352Z"
   },
   {
    "duration": 11252,
    "start_time": "2023-06-12T09:49:05.899Z"
   },
   {
    "duration": 3306,
    "start_time": "2023-06-12T09:49:17.153Z"
   },
   {
    "duration": 4,
    "start_time": "2023-06-12T09:49:21.660Z"
   },
   {
    "duration": 4,
    "start_time": "2023-06-12T09:49:22.597Z"
   },
   {
    "duration": 354135,
    "start_time": "2023-06-12T09:49:24.556Z"
   },
   {
    "duration": 797,
    "start_time": "2023-06-12T09:55:18.693Z"
   },
   {
    "duration": 5,
    "start_time": "2023-06-12T09:55:39.982Z"
   },
   {
    "duration": 4,
    "start_time": "2023-06-12T09:55:41.232Z"
   },
   {
    "duration": 4,
    "start_time": "2023-06-12T09:55:43.134Z"
   },
   {
    "duration": 27,
    "start_time": "2023-06-12T09:55:46.464Z"
   },
   {
    "duration": 58,
    "start_time": "2023-06-12T12:27:38.185Z"
   },
   {
    "duration": 4759,
    "start_time": "2023-06-12T12:28:03.796Z"
   },
   {
    "duration": 1316,
    "start_time": "2023-06-12T12:28:08.558Z"
   },
   {
    "duration": 22,
    "start_time": "2023-06-12T12:28:09.876Z"
   },
   {
    "duration": 157,
    "start_time": "2023-06-12T12:28:09.899Z"
   },
   {
    "duration": 542,
    "start_time": "2023-06-12T12:28:10.057Z"
   },
   {
    "duration": 167,
    "start_time": "2023-06-12T12:28:10.601Z"
   },
   {
    "duration": 124,
    "start_time": "2023-06-12T12:28:10.769Z"
   },
   {
    "duration": 152,
    "start_time": "2023-06-12T12:28:10.894Z"
   },
   {
    "duration": 253,
    "start_time": "2023-06-12T12:28:11.049Z"
   },
   {
    "duration": 457,
    "start_time": "2023-06-12T12:28:11.305Z"
   },
   {
    "duration": 696,
    "start_time": "2023-06-12T12:28:11.764Z"
   },
   {
    "duration": 13,
    "start_time": "2023-06-12T12:28:12.462Z"
   },
   {
    "duration": 488,
    "start_time": "2023-06-12T12:28:12.477Z"
   },
   {
    "duration": 12,
    "start_time": "2023-06-12T12:28:12.967Z"
   },
   {
    "duration": 201,
    "start_time": "2023-06-12T12:28:12.980Z"
   },
   {
    "duration": 383,
    "start_time": "2023-06-12T12:28:13.183Z"
   },
   {
    "duration": 91,
    "start_time": "2023-06-12T12:28:13.568Z"
   },
   {
    "duration": 13,
    "start_time": "2023-06-12T12:28:13.660Z"
   },
   {
    "duration": 370,
    "start_time": "2023-06-12T12:28:13.674Z"
   },
   {
    "duration": 87,
    "start_time": "2023-06-12T12:28:14.046Z"
   },
   {
    "duration": 48,
    "start_time": "2023-06-12T12:28:14.135Z"
   },
   {
    "duration": 97,
    "start_time": "2023-06-12T12:28:14.185Z"
   },
   {
    "duration": 46,
    "start_time": "2023-06-12T12:28:14.284Z"
   },
   {
    "duration": 2451,
    "start_time": "2023-06-12T12:28:14.331Z"
   },
   {
    "duration": 1788,
    "start_time": "2023-06-12T12:28:16.784Z"
   },
   {
    "duration": 31,
    "start_time": "2023-06-12T12:28:18.574Z"
   },
   {
    "duration": 75,
    "start_time": "2023-06-12T12:28:18.606Z"
   },
   {
    "duration": 324,
    "start_time": "2023-06-12T12:28:18.684Z"
   },
   {
    "duration": 304,
    "start_time": "2023-06-12T12:28:19.010Z"
   },
   {
    "duration": 447,
    "start_time": "2023-06-12T12:28:19.316Z"
   },
   {
    "duration": 49,
    "start_time": "2023-06-12T12:28:19.765Z"
   },
   {
    "duration": 55,
    "start_time": "2023-06-12T12:28:19.826Z"
   },
   {
    "duration": 68,
    "start_time": "2023-06-12T12:28:19.884Z"
   },
   {
    "duration": 100,
    "start_time": "2023-06-12T12:28:19.954Z"
   },
   {
    "duration": 5,
    "start_time": "2023-06-12T12:28:20.055Z"
   },
   {
    "duration": 28,
    "start_time": "2023-06-12T12:28:20.062Z"
   },
   {
    "duration": 12,
    "start_time": "2023-06-12T12:28:40.620Z"
   },
   {
    "duration": 39,
    "start_time": "2023-06-12T12:28:44.891Z"
   },
   {
    "duration": 12,
    "start_time": "2023-06-12T12:39:35.279Z"
   },
   {
    "duration": 30,
    "start_time": "2023-06-12T12:39:54.003Z"
   },
   {
    "duration": 1064,
    "start_time": "2023-06-12T12:39:56.107Z"
   },
   {
    "duration": 4,
    "start_time": "2023-06-12T12:40:32.157Z"
   },
   {
    "duration": 4,
    "start_time": "2023-06-12T12:42:00.475Z"
   },
   {
    "duration": 31,
    "start_time": "2023-06-12T12:42:01.666Z"
   },
   {
    "duration": 1075,
    "start_time": "2023-06-12T12:42:02.794Z"
   },
   {
    "duration": 88,
    "start_time": "2023-06-12T12:47:08.695Z"
   },
   {
    "duration": 87,
    "start_time": "2023-06-12T12:48:22.464Z"
   },
   {
    "duration": 12,
    "start_time": "2023-06-12T12:48:31.890Z"
   },
   {
    "duration": 1077,
    "start_time": "2023-06-12T12:48:35.785Z"
   },
   {
    "duration": 749,
    "start_time": "2023-06-12T12:48:44.449Z"
   },
   {
    "duration": 1042,
    "start_time": "2023-06-12T12:48:50.248Z"
   },
   {
    "duration": 5,
    "start_time": "2023-06-12T12:51:28.190Z"
   },
   {
    "duration": 4,
    "start_time": "2023-06-12T12:52:03.455Z"
   },
   {
    "duration": 10,
    "start_time": "2023-06-12T12:56:09.338Z"
   },
   {
    "duration": 12,
    "start_time": "2023-06-12T12:56:20.232Z"
   },
   {
    "duration": 2756,
    "start_time": "2023-06-12T12:56:43.301Z"
   },
   {
    "duration": 11,
    "start_time": "2023-06-12T12:59:21.242Z"
   },
   {
    "duration": 12,
    "start_time": "2023-06-12T12:59:22.071Z"
   },
   {
    "duration": 13,
    "start_time": "2023-06-12T12:59:29.396Z"
   },
   {
    "duration": 3,
    "start_time": "2023-06-12T12:59:31.375Z"
   },
   {
    "duration": 26,
    "start_time": "2023-06-12T12:59:33.590Z"
   },
   {
    "duration": 622,
    "start_time": "2023-06-12T12:59:36.413Z"
   },
   {
    "duration": 907,
    "start_time": "2023-06-12T13:00:18.022Z"
   },
   {
    "duration": 692,
    "start_time": "2023-06-12T13:00:19.956Z"
   },
   {
    "duration": 30809,
    "start_time": "2023-06-12T13:00:30.727Z"
   },
   {
    "duration": 27,
    "start_time": "2023-06-12T13:01:03.606Z"
   },
   {
    "duration": 4,
    "start_time": "2023-06-12T13:01:04.781Z"
   },
   {
    "duration": 13,
    "start_time": "2023-06-12T13:01:39.596Z"
   },
   {
    "duration": 2668,
    "start_time": "2023-06-12T13:01:55.651Z"
   },
   {
    "duration": 1030,
    "start_time": "2023-06-12T13:01:58.322Z"
   },
   {
    "duration": 26,
    "start_time": "2023-06-12T13:01:59.356Z"
   },
   {
    "duration": 196,
    "start_time": "2023-06-12T13:01:59.384Z"
   },
   {
    "duration": 736,
    "start_time": "2023-06-12T13:01:59.583Z"
   },
   {
    "duration": 180,
    "start_time": "2023-06-12T13:02:00.324Z"
   },
   {
    "duration": 296,
    "start_time": "2023-06-12T13:02:00.506Z"
   },
   {
    "duration": 192,
    "start_time": "2023-06-12T13:02:00.805Z"
   },
   {
    "duration": 506,
    "start_time": "2023-06-12T13:02:01.000Z"
   },
   {
    "duration": 448,
    "start_time": "2023-06-12T13:02:01.508Z"
   },
   {
    "duration": 326,
    "start_time": "2023-06-12T13:02:01.957Z"
   },
   {
    "duration": 8,
    "start_time": "2023-06-12T13:02:02.284Z"
   },
   {
    "duration": 389,
    "start_time": "2023-06-12T13:02:02.294Z"
   },
   {
    "duration": 16,
    "start_time": "2023-06-12T13:02:02.688Z"
   },
   {
    "duration": 195,
    "start_time": "2023-06-12T13:02:02.706Z"
   },
   {
    "duration": 441,
    "start_time": "2023-06-12T13:02:02.903Z"
   },
   {
    "duration": 117,
    "start_time": "2023-06-12T13:02:03.346Z"
   },
   {
    "duration": 51,
    "start_time": "2023-06-12T13:02:03.465Z"
   },
   {
    "duration": 472,
    "start_time": "2023-06-12T13:02:03.518Z"
   },
   {
    "duration": 165,
    "start_time": "2023-06-12T13:02:03.992Z"
   },
   {
    "duration": 59,
    "start_time": "2023-06-12T13:02:04.159Z"
   },
   {
    "duration": 111,
    "start_time": "2023-06-12T13:02:04.221Z"
   },
   {
    "duration": 88,
    "start_time": "2023-06-12T13:02:04.335Z"
   },
   {
    "duration": 3492,
    "start_time": "2023-06-12T13:02:04.425Z"
   },
   {
    "duration": 2097,
    "start_time": "2023-06-12T13:02:07.921Z"
   },
   {
    "duration": 55,
    "start_time": "2023-06-12T13:02:10.020Z"
   },
   {
    "duration": 96,
    "start_time": "2023-06-12T13:02:10.078Z"
   },
   {
    "duration": 484,
    "start_time": "2023-06-12T13:02:10.176Z"
   },
   {
    "duration": 485,
    "start_time": "2023-06-12T13:02:10.662Z"
   },
   {
    "duration": 430,
    "start_time": "2023-06-12T13:02:11.150Z"
   },
   {
    "duration": 113,
    "start_time": "2023-06-12T13:02:11.597Z"
   },
   {
    "duration": 99,
    "start_time": "2023-06-12T13:02:11.712Z"
   },
   {
    "duration": 59,
    "start_time": "2023-06-12T13:02:11.814Z"
   },
   {
    "duration": 163,
    "start_time": "2023-06-12T13:02:11.875Z"
   },
   {
    "duration": 13,
    "start_time": "2023-06-12T13:02:12.039Z"
   },
   {
    "duration": 13,
    "start_time": "2023-06-12T13:02:12.054Z"
   },
   {
    "duration": 27,
    "start_time": "2023-06-12T13:02:12.069Z"
   },
   {
    "duration": 6,
    "start_time": "2023-06-12T13:02:12.098Z"
   },
   {
    "duration": 56,
    "start_time": "2023-06-12T13:02:12.106Z"
   },
   {
    "duration": 9,
    "start_time": "2023-06-12T13:02:12.164Z"
   },
   {
    "duration": 3299,
    "start_time": "2023-06-12T13:02:12.180Z"
   },
   {
    "duration": 16,
    "start_time": "2023-06-12T13:02:15.482Z"
   },
   {
    "duration": 50,
    "start_time": "2023-06-12T13:02:15.499Z"
   },
   {
    "duration": 82,
    "start_time": "2023-06-12T13:02:15.553Z"
   },
   {
    "duration": 70,
    "start_time": "2023-06-12T13:02:15.638Z"
   },
   {
    "duration": 100,
    "start_time": "2023-06-12T13:02:15.710Z"
   },
   {
    "duration": 429,
    "start_time": "2023-06-12T13:02:15.812Z"
   },
   {
    "duration": 913,
    "start_time": "2023-06-12T13:02:16.247Z"
   },
   {
    "duration": 993,
    "start_time": "2023-06-12T13:02:17.168Z"
   },
   {
    "duration": 2653,
    "start_time": "2023-06-12T13:02:18.167Z"
   },
   {
    "duration": 115076,
    "start_time": "2023-06-12T13:02:20.826Z"
   },
   {
    "duration": 402714,
    "start_time": "2023-06-12T13:04:15.904Z"
   },
   {
    "duration": 23240,
    "start_time": "2023-06-12T13:10:58.621Z"
   },
   {
    "duration": 1475278,
    "start_time": "2023-06-12T13:11:21.863Z"
   },
   {
    "duration": 49005,
    "start_time": "2023-06-12T13:35:57.145Z"
   },
   {
    "duration": 177,
    "start_time": "2023-06-12T13:36:46.152Z"
   },
   {
    "duration": 68,
    "start_time": "2023-06-12T13:36:46.334Z"
   },
   {
    "duration": 7040,
    "start_time": "2023-06-12T13:36:46.404Z"
   },
   {
    "duration": 44,
    "start_time": "2023-06-12T13:36:53.446Z"
   },
   {
    "duration": 4,
    "start_time": "2023-06-12T13:36:53.492Z"
   },
   {
    "duration": 33,
    "start_time": "2023-06-12T13:36:53.497Z"
   },
   {
    "duration": 127,
    "start_time": "2023-06-12T13:36:53.535Z"
   },
   {
    "duration": 10,
    "start_time": "2023-06-12T13:36:53.663Z"
   },
   {
    "duration": 4,
    "start_time": "2023-06-12T13:36:53.674Z"
   },
   {
    "duration": 7,
    "start_time": "2023-06-12T13:36:53.679Z"
   },
   {
    "duration": 14428,
    "start_time": "2023-06-12T13:36:53.687Z"
   },
   {
    "duration": 141,
    "start_time": "2023-06-12T13:37:08.117Z"
   },
   {
    "duration": 4,
    "start_time": "2023-06-12T13:37:08.260Z"
   },
   {
    "duration": 21,
    "start_time": "2023-06-12T13:37:08.265Z"
   },
   {
    "duration": 13490,
    "start_time": "2023-06-12T13:37:08.287Z"
   },
   {
    "duration": 3809,
    "start_time": "2023-06-12T13:37:21.779Z"
   },
   {
    "duration": 11,
    "start_time": "2023-06-12T13:37:25.590Z"
   },
   {
    "duration": 22,
    "start_time": "2023-06-12T13:37:25.603Z"
   },
   {
    "duration": 3891,
    "start_time": "2023-06-12T13:37:48.588Z"
   },
   {
    "duration": 966,
    "start_time": "2023-06-12T13:37:52.482Z"
   },
   {
    "duration": 23,
    "start_time": "2023-06-12T13:37:53.453Z"
   },
   {
    "duration": 187,
    "start_time": "2023-06-12T13:37:53.479Z"
   },
   {
    "duration": 595,
    "start_time": "2023-06-12T13:37:53.669Z"
   },
   {
    "duration": 145,
    "start_time": "2023-06-12T13:37:54.269Z"
   },
   {
    "duration": 123,
    "start_time": "2023-06-12T13:37:54.415Z"
   },
   {
    "duration": 137,
    "start_time": "2023-06-12T13:37:54.552Z"
   },
   {
    "duration": 277,
    "start_time": "2023-06-12T13:37:54.690Z"
   },
   {
    "duration": 458,
    "start_time": "2023-06-12T13:37:54.971Z"
   },
   {
    "duration": 465,
    "start_time": "2023-06-12T13:37:55.430Z"
   },
   {
    "duration": 9,
    "start_time": "2023-06-12T13:37:55.896Z"
   },
   {
    "duration": 494,
    "start_time": "2023-06-12T13:37:55.906Z"
   },
   {
    "duration": 24,
    "start_time": "2023-06-12T13:37:56.402Z"
   },
   {
    "duration": 80,
    "start_time": "2023-06-12T13:37:56.427Z"
   },
   {
    "duration": 300,
    "start_time": "2023-06-12T13:37:56.509Z"
   },
   {
    "duration": 81,
    "start_time": "2023-06-12T13:37:56.811Z"
   },
   {
    "duration": 22,
    "start_time": "2023-06-12T13:37:56.893Z"
   },
   {
    "duration": 357,
    "start_time": "2023-06-12T13:37:56.926Z"
   },
   {
    "duration": 102,
    "start_time": "2023-06-12T13:37:57.285Z"
   },
   {
    "duration": 65,
    "start_time": "2023-06-12T13:37:57.389Z"
   },
   {
    "duration": 81,
    "start_time": "2023-06-12T13:37:57.458Z"
   },
   {
    "duration": 33,
    "start_time": "2023-06-12T13:37:57.541Z"
   },
   {
    "duration": 2435,
    "start_time": "2023-06-12T13:37:57.575Z"
   },
   {
    "duration": 1980,
    "start_time": "2023-06-12T13:38:00.012Z"
   },
   {
    "duration": 36,
    "start_time": "2023-06-12T13:38:01.994Z"
   },
   {
    "duration": 150,
    "start_time": "2023-06-12T13:38:02.031Z"
   },
   {
    "duration": 369,
    "start_time": "2023-06-12T13:38:02.184Z"
   },
   {
    "duration": 315,
    "start_time": "2023-06-12T13:38:02.555Z"
   },
   {
    "duration": 432,
    "start_time": "2023-06-12T13:38:02.871Z"
   },
   {
    "duration": 73,
    "start_time": "2023-06-12T13:38:03.306Z"
   },
   {
    "duration": 76,
    "start_time": "2023-06-12T13:38:03.381Z"
   },
   {
    "duration": 57,
    "start_time": "2023-06-12T13:38:03.459Z"
   },
   {
    "duration": 80,
    "start_time": "2023-06-12T13:38:03.518Z"
   },
   {
    "duration": 3,
    "start_time": "2023-06-12T13:38:03.600Z"
   },
   {
    "duration": 72,
    "start_time": "2023-06-12T13:38:03.604Z"
   },
   {
    "duration": 80,
    "start_time": "2023-06-12T13:38:03.677Z"
   },
   {
    "duration": 52,
    "start_time": "2023-06-12T13:38:03.759Z"
   },
   {
    "duration": 75,
    "start_time": "2023-06-12T13:38:03.812Z"
   },
   {
    "duration": 65,
    "start_time": "2023-06-12T13:38:03.889Z"
   },
   {
    "duration": 2661,
    "start_time": "2023-06-12T13:38:03.956Z"
   },
   {
    "duration": 0,
    "start_time": "2023-06-12T13:38:06.618Z"
   },
   {
    "duration": 4,
    "start_time": "2023-06-12T13:38:18.356Z"
   },
   {
    "duration": 4,
    "start_time": "2023-06-12T13:38:18.869Z"
   },
   {
    "duration": 2516,
    "start_time": "2023-06-12T13:38:31.759Z"
   },
   {
    "duration": 1158,
    "start_time": "2023-06-12T13:41:33.900Z"
   },
   {
    "duration": 110,
    "start_time": "2023-06-12T13:42:12.112Z"
   },
   {
    "duration": 418,
    "start_time": "2023-06-12T13:42:23.346Z"
   },
   {
    "duration": 426,
    "start_time": "2023-06-12T13:42:31.099Z"
   },
   {
    "duration": 400,
    "start_time": "2023-06-12T13:42:34.956Z"
   },
   {
    "duration": 1157,
    "start_time": "2023-06-12T13:43:03.552Z"
   },
   {
    "duration": 1125,
    "start_time": "2023-06-12T13:50:25.826Z"
   },
   {
    "duration": 10,
    "start_time": "2023-06-12T13:53:00.305Z"
   },
   {
    "duration": 5,
    "start_time": "2023-06-12T13:53:01.853Z"
   },
   {
    "duration": 28,
    "start_time": "2023-06-12T13:53:17.139Z"
   },
   {
    "duration": 4,
    "start_time": "2023-06-12T13:53:18.088Z"
   },
   {
    "duration": 1135,
    "start_time": "2023-06-12T13:54:57.409Z"
   },
   {
    "duration": 2395,
    "start_time": "2023-06-12T13:55:14.764Z"
   },
   {
    "duration": 31,
    "start_time": "2023-06-12T13:55:25.409Z"
   },
   {
    "duration": 4,
    "start_time": "2023-06-12T13:55:26.977Z"
   },
   {
    "duration": 2369,
    "start_time": "2023-06-12T13:55:28.584Z"
   },
   {
    "duration": 1125,
    "start_time": "2023-06-12T14:00:51.943Z"
   },
   {
    "duration": 1084,
    "start_time": "2023-06-12T14:14:50.643Z"
   },
   {
    "duration": 1048,
    "start_time": "2023-06-12T14:30:29.642Z"
   },
   {
    "duration": 6,
    "start_time": "2023-06-12T14:30:31.522Z"
   },
   {
    "duration": 4,
    "start_time": "2023-06-12T14:30:32.817Z"
   },
   {
    "duration": 648,
    "start_time": "2023-06-12T14:43:23.993Z"
   },
   {
    "duration": 1470,
    "start_time": "2023-06-12T14:44:19.876Z"
   },
   {
    "duration": 1061,
    "start_time": "2023-06-12T14:44:27.615Z"
   },
   {
    "duration": 11,
    "start_time": "2023-06-12T14:52:04.179Z"
   },
   {
    "duration": 3,
    "start_time": "2023-06-12T15:10:46.934Z"
   },
   {
    "duration": 2320,
    "start_time": "2023-06-12T15:10:59.148Z"
   },
   {
    "duration": 821,
    "start_time": "2023-06-12T15:11:01.471Z"
   },
   {
    "duration": 15,
    "start_time": "2023-06-12T15:11:02.294Z"
   },
   {
    "duration": 160,
    "start_time": "2023-06-12T15:11:02.311Z"
   },
   {
    "duration": 425,
    "start_time": "2023-06-12T15:11:02.473Z"
   },
   {
    "duration": 138,
    "start_time": "2023-06-12T15:11:02.899Z"
   },
   {
    "duration": 101,
    "start_time": "2023-06-12T15:11:03.039Z"
   },
   {
    "duration": 107,
    "start_time": "2023-06-12T15:11:03.142Z"
   },
   {
    "duration": 187,
    "start_time": "2023-06-12T15:11:03.251Z"
   },
   {
    "duration": 324,
    "start_time": "2023-06-12T15:11:03.441Z"
   },
   {
    "duration": 303,
    "start_time": "2023-06-12T15:11:03.767Z"
   },
   {
    "duration": 8,
    "start_time": "2023-06-12T15:11:04.072Z"
   },
   {
    "duration": 355,
    "start_time": "2023-06-12T15:11:04.082Z"
   },
   {
    "duration": 12,
    "start_time": "2023-06-12T15:11:04.439Z"
   },
   {
    "duration": 97,
    "start_time": "2023-06-12T15:11:04.452Z"
   },
   {
    "duration": 266,
    "start_time": "2023-06-12T15:11:04.550Z"
   },
   {
    "duration": 77,
    "start_time": "2023-06-12T15:11:04.817Z"
   },
   {
    "duration": 55,
    "start_time": "2023-06-12T15:11:04.896Z"
   },
   {
    "duration": 345,
    "start_time": "2023-06-12T15:11:04.953Z"
   },
   {
    "duration": 88,
    "start_time": "2023-06-12T15:11:05.300Z"
   },
   {
    "duration": 51,
    "start_time": "2023-06-12T15:11:05.390Z"
   },
   {
    "duration": 96,
    "start_time": "2023-06-12T15:11:05.442Z"
   },
   {
    "duration": 31,
    "start_time": "2023-06-12T15:11:05.540Z"
   },
   {
    "duration": 2363,
    "start_time": "2023-06-12T15:11:05.573Z"
   },
   {
    "duration": 1743,
    "start_time": "2023-06-12T15:11:07.939Z"
   },
   {
    "duration": 43,
    "start_time": "2023-06-12T15:11:09.684Z"
   },
   {
    "duration": 56,
    "start_time": "2023-06-12T15:11:09.729Z"
   },
   {
    "duration": 321,
    "start_time": "2023-06-12T15:11:09.789Z"
   },
   {
    "duration": 429,
    "start_time": "2023-06-12T15:11:10.112Z"
   },
   {
    "duration": 276,
    "start_time": "2023-06-12T15:11:10.543Z"
   },
   {
    "duration": 49,
    "start_time": "2023-06-12T15:11:10.833Z"
   },
   {
    "duration": 56,
    "start_time": "2023-06-12T15:11:10.884Z"
   },
   {
    "duration": 38,
    "start_time": "2023-06-12T15:11:10.941Z"
   },
   {
    "duration": 8,
    "start_time": "2023-06-12T15:11:10.982Z"
   },
   {
    "duration": 47,
    "start_time": "2023-06-12T15:11:10.992Z"
   },
   {
    "duration": 67,
    "start_time": "2023-06-12T15:11:11.041Z"
   },
   {
    "duration": 71,
    "start_time": "2023-06-12T15:11:11.111Z"
   },
   {
    "duration": 26,
    "start_time": "2023-06-12T15:11:11.184Z"
   },
   {
    "duration": 39,
    "start_time": "2023-06-12T15:11:11.213Z"
   },
   {
    "duration": 60,
    "start_time": "2023-06-12T15:11:11.254Z"
   },
   {
    "duration": 4,
    "start_time": "2023-06-12T15:11:11.316Z"
   },
   {
    "duration": 1132,
    "start_time": "2023-06-12T15:11:11.321Z"
   },
   {
    "duration": 65,
    "start_time": "2023-06-12T15:11:55.153Z"
   },
   {
    "duration": 3,
    "start_time": "2023-06-12T15:11:57.044Z"
   },
   {
    "duration": 7,
    "start_time": "2023-06-12T15:12:08.522Z"
   },
   {
    "duration": 14,
    "start_time": "2023-06-12T15:12:10.974Z"
   },
   {
    "duration": 4,
    "start_time": "2023-06-12T15:12:11.472Z"
   },
   {
    "duration": 7,
    "start_time": "2023-06-12T15:12:20.537Z"
   },
   {
    "duration": 9,
    "start_time": "2023-06-12T15:12:21.681Z"
   },
   {
    "duration": 11,
    "start_time": "2023-06-12T15:12:40.572Z"
   },
   {
    "duration": 13,
    "start_time": "2023-06-12T15:12:44.127Z"
   },
   {
    "duration": 9,
    "start_time": "2023-06-12T15:13:05.443Z"
   },
   {
    "duration": 27,
    "start_time": "2023-06-12T15:13:11.388Z"
   },
   {
    "duration": 4,
    "start_time": "2023-06-12T15:13:11.823Z"
   },
   {
    "duration": 1054,
    "start_time": "2023-06-12T15:13:12.609Z"
   },
   {
    "duration": 4,
    "start_time": "2023-06-12T15:13:15.408Z"
   },
   {
    "duration": 3,
    "start_time": "2023-06-12T15:13:15.599Z"
   },
   {
    "duration": 417,
    "start_time": "2023-06-12T15:22:35.466Z"
   },
   {
    "duration": 389,
    "start_time": "2023-06-12T15:23:23.856Z"
   },
   {
    "duration": 416,
    "start_time": "2023-06-12T15:23:41.103Z"
   },
   {
    "duration": 420,
    "start_time": "2023-06-12T15:23:57.242Z"
   },
   {
    "duration": 1123,
    "start_time": "2023-06-12T15:24:11.357Z"
   },
   {
    "duration": 1064,
    "start_time": "2023-06-12T15:24:26.884Z"
   },
   {
    "duration": 1104,
    "start_time": "2023-06-12T15:24:39.270Z"
   },
   {
    "duration": 1044,
    "start_time": "2023-06-12T15:25:45.138Z"
   },
   {
    "duration": 1652,
    "start_time": "2023-06-12T15:33:10.279Z"
   },
   {
    "duration": 998,
    "start_time": "2023-06-12T15:33:25.549Z"
   },
   {
    "duration": 9,
    "start_time": "2023-06-12T15:34:01.501Z"
   },
   {
    "duration": 10,
    "start_time": "2023-06-12T15:34:10.780Z"
   },
   {
    "duration": 4,
    "start_time": "2023-06-12T15:34:27.808Z"
   },
   {
    "duration": 4,
    "start_time": "2023-06-12T15:34:27.884Z"
   },
   {
    "duration": 11,
    "start_time": "2023-06-12T15:34:28.722Z"
   },
   {
    "duration": 10,
    "start_time": "2023-06-12T15:34:28.929Z"
   },
   {
    "duration": 6,
    "start_time": "2023-06-12T15:47:26.545Z"
   },
   {
    "duration": 324,
    "start_time": "2023-06-12T15:48:29.279Z"
   },
   {
    "duration": 361,
    "start_time": "2023-06-12T15:48:44.553Z"
   },
   {
    "duration": 376,
    "start_time": "2023-06-12T15:49:12.190Z"
   },
   {
    "duration": 1043,
    "start_time": "2023-06-12T15:49:39.632Z"
   },
   {
    "duration": 971,
    "start_time": "2023-06-12T16:05:27.655Z"
   },
   {
    "duration": 5,
    "start_time": "2023-06-12T16:19:24.084Z"
   },
   {
    "duration": 9,
    "start_time": "2023-06-12T16:19:39.600Z"
   },
   {
    "duration": 10,
    "start_time": "2023-06-12T16:19:47.584Z"
   },
   {
    "duration": 6,
    "start_time": "2023-06-12T16:19:52.547Z"
   },
   {
    "duration": 2380,
    "start_time": "2023-06-12T16:26:40.097Z"
   },
   {
    "duration": 2248,
    "start_time": "2023-06-12T16:26:57.603Z"
   },
   {
    "duration": 0,
    "start_time": "2023-06-12T16:26:59.855Z"
   },
   {
    "duration": 0,
    "start_time": "2023-06-12T16:26:59.857Z"
   },
   {
    "duration": 0,
    "start_time": "2023-06-12T16:26:59.858Z"
   },
   {
    "duration": 0,
    "start_time": "2023-06-12T16:26:59.859Z"
   },
   {
    "duration": 0,
    "start_time": "2023-06-12T16:26:59.860Z"
   },
   {
    "duration": 0,
    "start_time": "2023-06-12T16:26:59.861Z"
   },
   {
    "duration": 0,
    "start_time": "2023-06-12T16:26:59.862Z"
   },
   {
    "duration": 0,
    "start_time": "2023-06-12T16:26:59.863Z"
   },
   {
    "duration": 0,
    "start_time": "2023-06-12T16:26:59.864Z"
   },
   {
    "duration": 0,
    "start_time": "2023-06-12T16:26:59.865Z"
   },
   {
    "duration": 0,
    "start_time": "2023-06-12T16:26:59.866Z"
   },
   {
    "duration": 0,
    "start_time": "2023-06-12T16:26:59.867Z"
   },
   {
    "duration": 0,
    "start_time": "2023-06-12T16:26:59.869Z"
   },
   {
    "duration": 0,
    "start_time": "2023-06-12T16:26:59.870Z"
   },
   {
    "duration": 0,
    "start_time": "2023-06-12T16:26:59.871Z"
   },
   {
    "duration": 0,
    "start_time": "2023-06-12T16:26:59.872Z"
   },
   {
    "duration": 0,
    "start_time": "2023-06-12T16:26:59.874Z"
   },
   {
    "duration": 0,
    "start_time": "2023-06-12T16:26:59.875Z"
   },
   {
    "duration": 0,
    "start_time": "2023-06-12T16:26:59.876Z"
   },
   {
    "duration": 0,
    "start_time": "2023-06-12T16:26:59.877Z"
   },
   {
    "duration": 1,
    "start_time": "2023-06-12T16:26:59.878Z"
   },
   {
    "duration": 0,
    "start_time": "2023-06-12T16:26:59.879Z"
   },
   {
    "duration": 0,
    "start_time": "2023-06-12T16:26:59.881Z"
   },
   {
    "duration": 0,
    "start_time": "2023-06-12T16:26:59.882Z"
   },
   {
    "duration": 0,
    "start_time": "2023-06-12T16:26:59.883Z"
   },
   {
    "duration": 0,
    "start_time": "2023-06-12T16:26:59.884Z"
   },
   {
    "duration": 0,
    "start_time": "2023-06-12T16:26:59.885Z"
   },
   {
    "duration": 0,
    "start_time": "2023-06-12T16:26:59.886Z"
   },
   {
    "duration": 0,
    "start_time": "2023-06-12T16:26:59.926Z"
   },
   {
    "duration": 0,
    "start_time": "2023-06-12T16:26:59.928Z"
   },
   {
    "duration": 0,
    "start_time": "2023-06-12T16:26:59.929Z"
   },
   {
    "duration": 0,
    "start_time": "2023-06-12T16:26:59.930Z"
   },
   {
    "duration": 0,
    "start_time": "2023-06-12T16:26:59.931Z"
   },
   {
    "duration": 0,
    "start_time": "2023-06-12T16:26:59.932Z"
   },
   {
    "duration": 0,
    "start_time": "2023-06-12T16:26:59.934Z"
   },
   {
    "duration": 0,
    "start_time": "2023-06-12T16:26:59.935Z"
   },
   {
    "duration": 0,
    "start_time": "2023-06-12T16:26:59.936Z"
   },
   {
    "duration": 0,
    "start_time": "2023-06-12T16:26:59.937Z"
   },
   {
    "duration": 0,
    "start_time": "2023-06-12T16:26:59.938Z"
   },
   {
    "duration": 0,
    "start_time": "2023-06-12T16:26:59.940Z"
   },
   {
    "duration": 0,
    "start_time": "2023-06-12T16:26:59.941Z"
   },
   {
    "duration": 0,
    "start_time": "2023-06-12T16:26:59.942Z"
   },
   {
    "duration": 0,
    "start_time": "2023-06-12T16:26:59.943Z"
   },
   {
    "duration": 0,
    "start_time": "2023-06-12T16:26:59.945Z"
   },
   {
    "duration": 2450,
    "start_time": "2023-06-12T16:27:40.270Z"
   },
   {
    "duration": 0,
    "start_time": "2023-06-12T16:27:42.723Z"
   },
   {
    "duration": 1,
    "start_time": "2023-06-12T16:27:42.724Z"
   },
   {
    "duration": 0,
    "start_time": "2023-06-12T16:27:42.726Z"
   },
   {
    "duration": 0,
    "start_time": "2023-06-12T16:27:42.727Z"
   },
   {
    "duration": 0,
    "start_time": "2023-06-12T16:27:42.728Z"
   },
   {
    "duration": 0,
    "start_time": "2023-06-12T16:27:42.730Z"
   },
   {
    "duration": 0,
    "start_time": "2023-06-12T16:27:42.731Z"
   },
   {
    "duration": 0,
    "start_time": "2023-06-12T16:27:42.732Z"
   },
   {
    "duration": 0,
    "start_time": "2023-06-12T16:27:42.732Z"
   },
   {
    "duration": 0,
    "start_time": "2023-06-12T16:27:42.733Z"
   },
   {
    "duration": 0,
    "start_time": "2023-06-12T16:27:42.735Z"
   },
   {
    "duration": 0,
    "start_time": "2023-06-12T16:27:42.736Z"
   },
   {
    "duration": 0,
    "start_time": "2023-06-12T16:27:42.737Z"
   },
   {
    "duration": 0,
    "start_time": "2023-06-12T16:27:42.738Z"
   },
   {
    "duration": 0,
    "start_time": "2023-06-12T16:27:42.739Z"
   },
   {
    "duration": 0,
    "start_time": "2023-06-12T16:27:42.740Z"
   },
   {
    "duration": 0,
    "start_time": "2023-06-12T16:27:42.742Z"
   },
   {
    "duration": 0,
    "start_time": "2023-06-12T16:27:42.743Z"
   },
   {
    "duration": 0,
    "start_time": "2023-06-12T16:27:42.744Z"
   },
   {
    "duration": 0,
    "start_time": "2023-06-12T16:27:42.745Z"
   },
   {
    "duration": 0,
    "start_time": "2023-06-12T16:27:42.747Z"
   },
   {
    "duration": 0,
    "start_time": "2023-06-12T16:27:42.748Z"
   },
   {
    "duration": 0,
    "start_time": "2023-06-12T16:27:42.749Z"
   },
   {
    "duration": 0,
    "start_time": "2023-06-12T16:27:42.750Z"
   },
   {
    "duration": 0,
    "start_time": "2023-06-12T16:27:42.752Z"
   },
   {
    "duration": 0,
    "start_time": "2023-06-12T16:27:42.753Z"
   },
   {
    "duration": 0,
    "start_time": "2023-06-12T16:27:42.754Z"
   },
   {
    "duration": 0,
    "start_time": "2023-06-12T16:27:42.756Z"
   },
   {
    "duration": 0,
    "start_time": "2023-06-12T16:27:42.757Z"
   },
   {
    "duration": 0,
    "start_time": "2023-06-12T16:27:42.758Z"
   },
   {
    "duration": 0,
    "start_time": "2023-06-12T16:27:42.759Z"
   },
   {
    "duration": 0,
    "start_time": "2023-06-12T16:27:42.760Z"
   },
   {
    "duration": 0,
    "start_time": "2023-06-12T16:27:42.761Z"
   },
   {
    "duration": 0,
    "start_time": "2023-06-12T16:27:42.763Z"
   },
   {
    "duration": 0,
    "start_time": "2023-06-12T16:27:42.763Z"
   },
   {
    "duration": 0,
    "start_time": "2023-06-12T16:27:42.765Z"
   },
   {
    "duration": 0,
    "start_time": "2023-06-12T16:27:42.825Z"
   },
   {
    "duration": 0,
    "start_time": "2023-06-12T16:27:42.826Z"
   },
   {
    "duration": 0,
    "start_time": "2023-06-12T16:27:42.828Z"
   },
   {
    "duration": 0,
    "start_time": "2023-06-12T16:27:42.829Z"
   },
   {
    "duration": 0,
    "start_time": "2023-06-12T16:27:42.830Z"
   },
   {
    "duration": 0,
    "start_time": "2023-06-12T16:27:42.831Z"
   },
   {
    "duration": 0,
    "start_time": "2023-06-12T16:27:42.832Z"
   },
   {
    "duration": 2250,
    "start_time": "2023-06-12T16:29:01.803Z"
   },
   {
    "duration": 2397,
    "start_time": "2023-06-12T16:29:13.234Z"
   },
   {
    "duration": 827,
    "start_time": "2023-06-12T16:29:15.635Z"
   },
   {
    "duration": 16,
    "start_time": "2023-06-12T16:29:16.464Z"
   },
   {
    "duration": 144,
    "start_time": "2023-06-12T16:29:16.482Z"
   },
   {
    "duration": 420,
    "start_time": "2023-06-12T16:29:16.628Z"
   },
   {
    "duration": 134,
    "start_time": "2023-06-12T16:29:17.050Z"
   },
   {
    "duration": 105,
    "start_time": "2023-06-12T16:29:17.186Z"
   },
   {
    "duration": 116,
    "start_time": "2023-06-12T16:29:17.292Z"
   },
   {
    "duration": 175,
    "start_time": "2023-06-12T16:29:17.410Z"
   },
   {
    "duration": 334,
    "start_time": "2023-06-12T16:29:17.587Z"
   },
   {
    "duration": 283,
    "start_time": "2023-06-12T16:29:17.925Z"
   },
   {
    "duration": 15,
    "start_time": "2023-06-12T16:29:18.210Z"
   },
   {
    "duration": 331,
    "start_time": "2023-06-12T16:29:18.227Z"
   },
   {
    "duration": 11,
    "start_time": "2023-06-12T16:29:18.559Z"
   },
   {
    "duration": 92,
    "start_time": "2023-06-12T16:29:18.571Z"
   },
   {
    "duration": 262,
    "start_time": "2023-06-12T16:29:18.665Z"
   },
   {
    "duration": 65,
    "start_time": "2023-06-12T16:29:18.928Z"
   },
   {
    "duration": 12,
    "start_time": "2023-06-12T16:29:18.995Z"
   },
   {
    "duration": 418,
    "start_time": "2023-06-12T16:29:19.024Z"
   },
   {
    "duration": 81,
    "start_time": "2023-06-12T16:29:19.444Z"
   },
   {
    "duration": 27,
    "start_time": "2023-06-12T16:29:19.526Z"
   },
   {
    "duration": 90,
    "start_time": "2023-06-12T16:29:19.554Z"
   },
   {
    "duration": 26,
    "start_time": "2023-06-12T16:29:19.645Z"
   },
   {
    "duration": 2106,
    "start_time": "2023-06-12T16:29:19.673Z"
   },
   {
    "duration": 1580,
    "start_time": "2023-06-12T16:29:21.781Z"
   },
   {
    "duration": 32,
    "start_time": "2023-06-12T16:29:23.363Z"
   },
   {
    "duration": 58,
    "start_time": "2023-06-12T16:29:23.397Z"
   },
   {
    "duration": 290,
    "start_time": "2023-06-12T16:29:23.459Z"
   },
   {
    "duration": 262,
    "start_time": "2023-06-12T16:29:23.751Z"
   },
   {
    "duration": 261,
    "start_time": "2023-06-12T16:29:24.015Z"
   },
   {
    "duration": 55,
    "start_time": "2023-06-12T16:29:24.278Z"
   },
   {
    "duration": 41,
    "start_time": "2023-06-12T16:29:24.335Z"
   },
   {
    "duration": 48,
    "start_time": "2023-06-12T16:29:24.377Z"
   },
   {
    "duration": 68,
    "start_time": "2023-06-12T16:29:24.426Z"
   },
   {
    "duration": 3,
    "start_time": "2023-06-12T16:29:24.496Z"
   },
   {
    "duration": 23,
    "start_time": "2023-06-12T16:29:24.501Z"
   },
   {
    "duration": 18,
    "start_time": "2023-06-12T16:29:24.526Z"
   },
   {
    "duration": 9,
    "start_time": "2023-06-12T16:29:24.546Z"
   },
   {
    "duration": 20,
    "start_time": "2023-06-12T16:29:24.556Z"
   },
   {
    "duration": 46,
    "start_time": "2023-06-12T16:29:24.579Z"
   },
   {
    "duration": 6,
    "start_time": "2023-06-12T16:29:24.626Z"
   },
   {
    "duration": 28,
    "start_time": "2023-06-12T16:29:24.634Z"
   },
   {
    "duration": 12,
    "start_time": "2023-06-12T16:29:24.663Z"
   },
   {
    "duration": 1158,
    "start_time": "2023-06-12T16:29:24.677Z"
   },
   {
    "duration": 4,
    "start_time": "2023-06-12T16:29:25.837Z"
   },
   {
    "duration": 7,
    "start_time": "2023-06-12T16:29:25.842Z"
   },
   {
    "duration": 18,
    "start_time": "2023-06-12T16:29:25.850Z"
   },
   {
    "duration": 12,
    "start_time": "2023-06-12T16:29:25.869Z"
   },
   {
    "duration": 13,
    "start_time": "2023-06-12T16:29:25.883Z"
   },
   {
    "duration": 6,
    "start_time": "2023-06-12T16:29:25.897Z"
   },
   {
    "duration": 36,
    "start_time": "2023-06-12T16:29:25.904Z"
   },
   {
    "duration": 483,
    "start_time": "2023-06-12T16:29:25.942Z"
   },
   {
    "duration": 1046,
    "start_time": "2023-06-12T16:30:22.770Z"
   },
   {
    "duration": 9,
    "start_time": "2023-06-12T16:33:45.562Z"
   },
   {
    "duration": 1072,
    "start_time": "2023-06-12T16:39:35.049Z"
   },
   {
    "duration": 325,
    "start_time": "2023-06-12T16:39:44.472Z"
   },
   {
    "duration": 733,
    "start_time": "2023-06-12T16:39:45.702Z"
   },
   {
    "duration": 342,
    "start_time": "2023-06-12T16:43:19.776Z"
   },
   {
    "duration": 330,
    "start_time": "2023-06-12T16:43:20.230Z"
   },
   {
    "duration": 690,
    "start_time": "2023-06-12T16:43:21.901Z"
   },
   {
    "duration": 973,
    "start_time": "2023-06-12T16:43:36.174Z"
   },
   {
    "duration": 4,
    "start_time": "2023-06-12T16:43:40.254Z"
   },
   {
    "duration": 4,
    "start_time": "2023-06-12T16:43:40.370Z"
   },
   {
    "duration": 10,
    "start_time": "2023-06-12T16:50:20.494Z"
   },
   {
    "duration": 1196,
    "start_time": "2023-06-12T16:51:11.196Z"
   },
   {
    "duration": 1029,
    "start_time": "2023-06-12T16:57:38.293Z"
   },
   {
    "duration": 2525,
    "start_time": "2023-06-12T16:58:31.412Z"
   },
   {
    "duration": 726,
    "start_time": "2023-06-12T16:58:33.940Z"
   },
   {
    "duration": 15,
    "start_time": "2023-06-12T16:58:34.667Z"
   },
   {
    "duration": 219,
    "start_time": "2023-06-12T16:58:34.684Z"
   },
   {
    "duration": 456,
    "start_time": "2023-06-12T16:58:34.905Z"
   },
   {
    "duration": 118,
    "start_time": "2023-06-12T16:58:35.363Z"
   },
   {
    "duration": 92,
    "start_time": "2023-06-12T16:58:35.483Z"
   },
   {
    "duration": 108,
    "start_time": "2023-06-12T16:58:35.576Z"
   },
   {
    "duration": 201,
    "start_time": "2023-06-12T16:58:35.686Z"
   },
   {
    "duration": 339,
    "start_time": "2023-06-12T16:58:35.891Z"
   },
   {
    "duration": 260,
    "start_time": "2023-06-12T16:58:36.232Z"
   },
   {
    "duration": 9,
    "start_time": "2023-06-12T16:58:36.494Z"
   },
   {
    "duration": 436,
    "start_time": "2023-06-12T16:58:36.505Z"
   },
   {
    "duration": 12,
    "start_time": "2023-06-12T16:58:36.944Z"
   },
   {
    "duration": 84,
    "start_time": "2023-06-12T16:58:36.957Z"
   },
   {
    "duration": 275,
    "start_time": "2023-06-12T16:58:37.043Z"
   },
   {
    "duration": 62,
    "start_time": "2023-06-12T16:58:37.320Z"
   },
   {
    "duration": 11,
    "start_time": "2023-06-12T16:58:37.383Z"
   },
   {
    "duration": 296,
    "start_time": "2023-06-12T16:58:37.396Z"
   },
   {
    "duration": 80,
    "start_time": "2023-06-12T16:58:37.694Z"
   },
   {
    "duration": 30,
    "start_time": "2023-06-12T16:58:37.776Z"
   },
   {
    "duration": 167,
    "start_time": "2023-06-12T16:58:37.807Z"
   },
   {
    "duration": 49,
    "start_time": "2023-06-12T16:58:37.977Z"
   },
   {
    "duration": 2249,
    "start_time": "2023-06-12T16:58:38.028Z"
   },
   {
    "duration": 1714,
    "start_time": "2023-06-12T16:58:40.279Z"
   },
   {
    "duration": 34,
    "start_time": "2023-06-12T16:58:41.995Z"
   },
   {
    "duration": 48,
    "start_time": "2023-06-12T16:58:42.031Z"
   },
   {
    "duration": 288,
    "start_time": "2023-06-12T16:58:42.083Z"
   },
   {
    "duration": 282,
    "start_time": "2023-06-12T16:58:42.373Z"
   },
   {
    "duration": 283,
    "start_time": "2023-06-12T16:58:42.656Z"
   },
   {
    "duration": 48,
    "start_time": "2023-06-12T16:58:42.940Z"
   },
   {
    "duration": 52,
    "start_time": "2023-06-12T16:58:42.990Z"
   },
   {
    "duration": 46,
    "start_time": "2023-06-12T16:58:43.044Z"
   },
   {
    "duration": 3,
    "start_time": "2023-06-12T16:58:43.092Z"
   },
   {
    "duration": 25,
    "start_time": "2023-06-12T16:58:43.097Z"
   },
   {
    "duration": 33,
    "start_time": "2023-06-12T16:58:43.124Z"
   },
   {
    "duration": 41,
    "start_time": "2023-06-12T16:58:43.159Z"
   },
   {
    "duration": 4,
    "start_time": "2023-06-12T16:58:43.202Z"
   },
   {
    "duration": 18,
    "start_time": "2023-06-12T16:58:43.208Z"
   },
   {
    "duration": 31,
    "start_time": "2023-06-12T16:58:43.227Z"
   },
   {
    "duration": 5,
    "start_time": "2023-06-12T16:58:43.259Z"
   },
   {
    "duration": 23,
    "start_time": "2023-06-12T16:58:43.265Z"
   },
   {
    "duration": 23,
    "start_time": "2023-06-12T16:58:43.290Z"
   },
   {
    "duration": 1152,
    "start_time": "2023-06-12T16:58:43.314Z"
   },
   {
    "duration": 4,
    "start_time": "2023-06-12T16:58:44.467Z"
   },
   {
    "duration": 1009,
    "start_time": "2023-06-12T16:59:00.985Z"
   },
   {
    "duration": 63,
    "start_time": "2023-06-12T16:59:37.050Z"
   },
   {
    "duration": 4,
    "start_time": "2023-06-12T16:59:41.058Z"
   },
   {
    "duration": 3,
    "start_time": "2023-06-12T16:59:42.603Z"
   },
   {
    "duration": 12,
    "start_time": "2023-06-12T16:59:44.857Z"
   },
   {
    "duration": 4,
    "start_time": "2023-06-12T16:59:45.387Z"
   },
   {
    "duration": 10,
    "start_time": "2023-06-12T16:59:54.858Z"
   },
   {
    "duration": 8,
    "start_time": "2023-06-12T17:01:07.559Z"
   },
   {
    "duration": 4,
    "start_time": "2023-06-12T17:01:07.727Z"
   },
   {
    "duration": 11,
    "start_time": "2023-06-12T17:01:08.106Z"
   },
   {
    "duration": 28,
    "start_time": "2023-06-12T17:01:08.424Z"
   },
   {
    "duration": 4,
    "start_time": "2023-06-12T17:01:08.801Z"
   },
   {
    "duration": 6,
    "start_time": "2023-06-12T17:01:08.960Z"
   },
   {
    "duration": 6,
    "start_time": "2023-06-12T17:01:09.283Z"
   },
   {
    "duration": 1065,
    "start_time": "2023-06-12T17:01:18.538Z"
   },
   {
    "duration": 1054,
    "start_time": "2023-06-12T17:01:30.902Z"
   },
   {
    "duration": 1054,
    "start_time": "2023-06-12T17:02:37.700Z"
   },
   {
    "duration": 1038,
    "start_time": "2023-06-12T17:02:44.925Z"
   },
   {
    "duration": 425,
    "start_time": "2023-06-12T17:11:42.289Z"
   },
   {
    "duration": 1363,
    "start_time": "2023-06-12T17:11:55.992Z"
   },
   {
    "duration": 6,
    "start_time": "2023-06-12T17:12:17.127Z"
   },
   {
    "duration": 4,
    "start_time": "2023-06-12T17:12:19.304Z"
   },
   {
    "duration": 2277,
    "start_time": "2023-06-12T17:18:58.786Z"
   },
   {
    "duration": 6,
    "start_time": "2023-06-12T17:20:28.041Z"
   },
   {
    "duration": 4,
    "start_time": "2023-06-12T17:20:59.398Z"
   },
   {
    "duration": 876,
    "start_time": "2023-06-12T17:20:59.404Z"
   },
   {
    "duration": 22,
    "start_time": "2023-06-12T17:21:00.283Z"
   },
   {
    "duration": 197,
    "start_time": "2023-06-12T17:21:00.307Z"
   },
   {
    "duration": 472,
    "start_time": "2023-06-12T17:21:00.505Z"
   },
   {
    "duration": 166,
    "start_time": "2023-06-12T17:21:00.980Z"
   },
   {
    "duration": 144,
    "start_time": "2023-06-12T17:21:01.148Z"
   },
   {
    "duration": 111,
    "start_time": "2023-06-12T17:21:01.294Z"
   },
   {
    "duration": 188,
    "start_time": "2023-06-12T17:21:01.406Z"
   },
   {
    "duration": 388,
    "start_time": "2023-06-12T17:21:01.595Z"
   },
   {
    "duration": 321,
    "start_time": "2023-06-12T17:21:01.986Z"
   },
   {
    "duration": 28,
    "start_time": "2023-06-12T17:21:02.309Z"
   },
   {
    "duration": 365,
    "start_time": "2023-06-12T17:21:02.339Z"
   },
   {
    "duration": 27,
    "start_time": "2023-06-12T17:21:02.705Z"
   },
   {
    "duration": 73,
    "start_time": "2023-06-12T17:21:02.735Z"
   },
   {
    "duration": 295,
    "start_time": "2023-06-12T17:21:02.829Z"
   },
   {
    "duration": 71,
    "start_time": "2023-06-12T17:21:03.127Z"
   },
   {
    "duration": 41,
    "start_time": "2023-06-12T17:21:03.199Z"
   },
   {
    "duration": 345,
    "start_time": "2023-06-12T17:21:03.243Z"
   },
   {
    "duration": 92,
    "start_time": "2023-06-12T17:21:03.590Z"
   },
   {
    "duration": 29,
    "start_time": "2023-06-12T17:21:03.683Z"
   },
   {
    "duration": 78,
    "start_time": "2023-06-12T17:21:03.728Z"
   },
   {
    "duration": 57,
    "start_time": "2023-06-12T17:21:03.808Z"
   },
   {
    "duration": 2554,
    "start_time": "2023-06-12T17:21:03.866Z"
   },
   {
    "duration": 1940,
    "start_time": "2023-06-12T17:21:06.425Z"
   },
   {
    "duration": 32,
    "start_time": "2023-06-12T17:21:08.366Z"
   },
   {
    "duration": 76,
    "start_time": "2023-06-12T17:21:08.400Z"
   },
   {
    "duration": 347,
    "start_time": "2023-06-12T17:21:08.477Z"
   },
   {
    "duration": 430,
    "start_time": "2023-06-12T17:21:08.829Z"
   },
   {
    "duration": 320,
    "start_time": "2023-06-12T17:21:09.261Z"
   },
   {
    "duration": 61,
    "start_time": "2023-06-12T17:21:09.582Z"
   },
   {
    "duration": 53,
    "start_time": "2023-06-12T17:21:09.648Z"
   },
   {
    "duration": 49,
    "start_time": "2023-06-12T17:21:09.729Z"
   },
   {
    "duration": 93,
    "start_time": "2023-06-12T17:21:09.780Z"
   },
   {
    "duration": 3,
    "start_time": "2023-06-12T17:21:09.875Z"
   },
   {
    "duration": 10,
    "start_time": "2023-06-12T17:21:09.880Z"
   },
   {
    "duration": 17,
    "start_time": "2023-06-12T17:21:09.892Z"
   },
   {
    "duration": 14,
    "start_time": "2023-06-12T17:21:09.911Z"
   },
   {
    "duration": 19,
    "start_time": "2023-06-12T17:21:09.926Z"
   },
   {
    "duration": 34,
    "start_time": "2023-06-12T17:21:09.947Z"
   },
   {
    "duration": 4,
    "start_time": "2023-06-12T17:21:09.983Z"
   },
   {
    "duration": 18,
    "start_time": "2023-06-12T17:21:09.989Z"
   },
   {
    "duration": 16,
    "start_time": "2023-06-12T17:21:10.009Z"
   },
   {
    "duration": 1558,
    "start_time": "2023-06-12T17:21:10.027Z"
   },
   {
    "duration": 7,
    "start_time": "2023-06-12T17:21:14.246Z"
   },
   {
    "duration": 5,
    "start_time": "2023-06-12T17:21:14.850Z"
   },
   {
    "duration": 1424,
    "start_time": "2023-06-12T17:24:03.486Z"
   },
   {
    "duration": 1489,
    "start_time": "2023-06-12T17:24:09.291Z"
   },
   {
    "duration": 2694,
    "start_time": "2023-06-12T17:31:46.989Z"
   },
   {
    "duration": 2881,
    "start_time": "2023-06-12T17:32:00.315Z"
   },
   {
    "duration": 1116,
    "start_time": "2023-06-12T17:32:50.256Z"
   },
   {
    "duration": 385,
    "start_time": "2023-06-12T17:33:26.952Z"
   },
   {
    "duration": 1172,
    "start_time": "2023-06-12T17:33:35.955Z"
   },
   {
    "duration": 373,
    "start_time": "2023-06-12T17:34:00.288Z"
   },
   {
    "duration": 419,
    "start_time": "2023-06-12T17:34:08.425Z"
   },
   {
    "duration": 398,
    "start_time": "2023-06-12T17:34:13.388Z"
   },
   {
    "duration": 1044,
    "start_time": "2023-06-12T17:34:20.947Z"
   },
   {
    "duration": 356,
    "start_time": "2023-06-12T17:35:47.594Z"
   },
   {
    "duration": 328,
    "start_time": "2023-06-12T17:35:56.681Z"
   },
   {
    "duration": 1034,
    "start_time": "2023-06-12T17:36:30.091Z"
   },
   {
    "duration": 3,
    "start_time": "2023-06-12T17:46:23.543Z"
   },
   {
    "duration": 41,
    "start_time": "2023-06-12T17:46:55.395Z"
   },
   {
    "duration": 12,
    "start_time": "2023-06-12T17:47:37.850Z"
   },
   {
    "duration": 45,
    "start_time": "2023-06-12T18:31:34.200Z"
   },
   {
    "duration": 1406,
    "start_time": "2023-06-12T18:32:00.911Z"
   },
   {
    "duration": 0,
    "start_time": "2023-06-12T18:32:02.319Z"
   },
   {
    "duration": 0,
    "start_time": "2023-06-12T18:32:02.321Z"
   },
   {
    "duration": 0,
    "start_time": "2023-06-12T18:32:02.321Z"
   },
   {
    "duration": 0,
    "start_time": "2023-06-12T18:32:02.322Z"
   },
   {
    "duration": 0,
    "start_time": "2023-06-12T18:32:02.324Z"
   },
   {
    "duration": 0,
    "start_time": "2023-06-12T18:32:02.325Z"
   },
   {
    "duration": 0,
    "start_time": "2023-06-12T18:32:02.326Z"
   },
   {
    "duration": 0,
    "start_time": "2023-06-12T18:32:02.327Z"
   },
   {
    "duration": 0,
    "start_time": "2023-06-12T18:32:02.328Z"
   },
   {
    "duration": 0,
    "start_time": "2023-06-12T18:32:02.329Z"
   },
   {
    "duration": 0,
    "start_time": "2023-06-12T18:32:02.330Z"
   },
   {
    "duration": 0,
    "start_time": "2023-06-12T18:32:02.331Z"
   },
   {
    "duration": 0,
    "start_time": "2023-06-12T18:32:02.332Z"
   },
   {
    "duration": 0,
    "start_time": "2023-06-12T18:32:02.333Z"
   },
   {
    "duration": 0,
    "start_time": "2023-06-12T18:32:02.334Z"
   },
   {
    "duration": 0,
    "start_time": "2023-06-12T18:32:02.335Z"
   },
   {
    "duration": 0,
    "start_time": "2023-06-12T18:32:02.335Z"
   },
   {
    "duration": 0,
    "start_time": "2023-06-12T18:32:02.336Z"
   },
   {
    "duration": 0,
    "start_time": "2023-06-12T18:32:02.337Z"
   },
   {
    "duration": 0,
    "start_time": "2023-06-12T18:32:02.338Z"
   },
   {
    "duration": 0,
    "start_time": "2023-06-12T18:32:02.339Z"
   },
   {
    "duration": 0,
    "start_time": "2023-06-12T18:32:02.340Z"
   },
   {
    "duration": 0,
    "start_time": "2023-06-12T18:32:02.341Z"
   },
   {
    "duration": 0,
    "start_time": "2023-06-12T18:32:02.342Z"
   },
   {
    "duration": 0,
    "start_time": "2023-06-12T18:32:02.343Z"
   },
   {
    "duration": 0,
    "start_time": "2023-06-12T18:32:02.344Z"
   },
   {
    "duration": 0,
    "start_time": "2023-06-12T18:32:02.345Z"
   },
   {
    "duration": 0,
    "start_time": "2023-06-12T18:32:02.346Z"
   },
   {
    "duration": 0,
    "start_time": "2023-06-12T18:32:02.347Z"
   },
   {
    "duration": 0,
    "start_time": "2023-06-12T18:32:02.348Z"
   },
   {
    "duration": 0,
    "start_time": "2023-06-12T18:32:02.349Z"
   },
   {
    "duration": 0,
    "start_time": "2023-06-12T18:32:02.350Z"
   },
   {
    "duration": 0,
    "start_time": "2023-06-12T18:32:02.351Z"
   },
   {
    "duration": 0,
    "start_time": "2023-06-12T18:32:02.352Z"
   },
   {
    "duration": 0,
    "start_time": "2023-06-12T18:32:02.353Z"
   },
   {
    "duration": 0,
    "start_time": "2023-06-12T18:32:02.354Z"
   },
   {
    "duration": 0,
    "start_time": "2023-06-12T18:32:02.355Z"
   },
   {
    "duration": 0,
    "start_time": "2023-06-12T18:32:02.356Z"
   },
   {
    "duration": 0,
    "start_time": "2023-06-12T18:32:02.357Z"
   },
   {
    "duration": 0,
    "start_time": "2023-06-12T18:32:02.358Z"
   },
   {
    "duration": 0,
    "start_time": "2023-06-12T18:32:02.359Z"
   },
   {
    "duration": 0,
    "start_time": "2023-06-12T18:32:02.360Z"
   },
   {
    "duration": 3266,
    "start_time": "2023-06-12T18:33:26.630Z"
   },
   {
    "duration": 2355,
    "start_time": "2023-06-12T18:33:37.000Z"
   },
   {
    "duration": 1120,
    "start_time": "2023-06-12T18:33:39.358Z"
   },
   {
    "duration": 22,
    "start_time": "2023-06-12T18:33:40.480Z"
   },
   {
    "duration": 140,
    "start_time": "2023-06-12T18:33:40.503Z"
   },
   {
    "duration": 492,
    "start_time": "2023-06-12T18:33:40.646Z"
   },
   {
    "duration": 152,
    "start_time": "2023-06-12T18:33:41.140Z"
   },
   {
    "duration": 99,
    "start_time": "2023-06-12T18:33:41.294Z"
   },
   {
    "duration": 120,
    "start_time": "2023-06-12T18:33:41.395Z"
   },
   {
    "duration": 212,
    "start_time": "2023-06-12T18:33:41.517Z"
   },
   {
    "duration": 375,
    "start_time": "2023-06-12T18:33:41.731Z"
   },
   {
    "duration": 672,
    "start_time": "2023-06-12T18:33:42.107Z"
   },
   {
    "duration": 11,
    "start_time": "2023-06-12T18:33:42.781Z"
   },
   {
    "duration": 344,
    "start_time": "2023-06-12T18:33:42.793Z"
   },
   {
    "duration": 12,
    "start_time": "2023-06-12T18:33:43.141Z"
   },
   {
    "duration": 94,
    "start_time": "2023-06-12T18:33:43.154Z"
   },
   {
    "duration": 268,
    "start_time": "2023-06-12T18:33:43.250Z"
   },
   {
    "duration": 77,
    "start_time": "2023-06-12T18:33:43.524Z"
   },
   {
    "duration": 22,
    "start_time": "2023-06-12T18:33:43.603Z"
   },
   {
    "duration": 289,
    "start_time": "2023-06-12T18:33:43.627Z"
   },
   {
    "duration": 72,
    "start_time": "2023-06-12T18:33:43.925Z"
   },
   {
    "duration": 38,
    "start_time": "2023-06-12T18:33:43.999Z"
   },
   {
    "duration": 93,
    "start_time": "2023-06-12T18:33:44.039Z"
   },
   {
    "duration": 41,
    "start_time": "2023-06-12T18:33:44.134Z"
   },
   {
    "duration": 2250,
    "start_time": "2023-06-12T18:33:44.176Z"
   },
   {
    "duration": 1498,
    "start_time": "2023-06-12T18:33:46.428Z"
   },
   {
    "duration": 30,
    "start_time": "2023-06-12T18:33:47.928Z"
   },
   {
    "duration": 43,
    "start_time": "2023-06-12T18:33:47.960Z"
   },
   {
    "duration": 289,
    "start_time": "2023-06-12T18:33:48.005Z"
   },
   {
    "duration": 277,
    "start_time": "2023-06-12T18:33:48.295Z"
   },
   {
    "duration": 363,
    "start_time": "2023-06-12T18:33:48.573Z"
   },
   {
    "duration": 57,
    "start_time": "2023-06-12T18:33:48.939Z"
   },
   {
    "duration": 53,
    "start_time": "2023-06-12T18:33:48.998Z"
   },
   {
    "duration": 34,
    "start_time": "2023-06-12T18:33:49.053Z"
   },
   {
    "duration": 91,
    "start_time": "2023-06-12T18:33:49.089Z"
   },
   {
    "duration": 3,
    "start_time": "2023-06-12T18:33:49.182Z"
   },
   {
    "duration": 6,
    "start_time": "2023-06-12T18:33:49.187Z"
   },
   {
    "duration": 11,
    "start_time": "2023-06-12T18:33:49.194Z"
   },
   {
    "duration": 20,
    "start_time": "2023-06-12T18:33:49.207Z"
   },
   {
    "duration": 19,
    "start_time": "2023-06-12T18:33:49.229Z"
   },
   {
    "duration": 39,
    "start_time": "2023-06-12T18:33:49.250Z"
   },
   {
    "duration": 0,
    "start_time": "2023-06-12T18:33:49.290Z"
   },
   {
    "duration": 0,
    "start_time": "2023-06-12T18:33:49.292Z"
   },
   {
    "duration": 0,
    "start_time": "2023-06-12T18:33:49.293Z"
   },
   {
    "duration": 0,
    "start_time": "2023-06-12T18:33:49.294Z"
   },
   {
    "duration": 0,
    "start_time": "2023-06-12T18:33:49.295Z"
   },
   {
    "duration": 12,
    "start_time": "2023-06-12T18:34:23.437Z"
   },
   {
    "duration": 5,
    "start_time": "2023-06-12T18:34:23.822Z"
   },
   {
    "duration": 9,
    "start_time": "2023-06-12T18:34:24.305Z"
   },
   {
    "duration": 10,
    "start_time": "2023-06-12T18:34:25.762Z"
   },
   {
    "duration": 7,
    "start_time": "2023-06-12T18:35:05.785Z"
   },
   {
    "duration": 4,
    "start_time": "2023-06-12T18:35:06.149Z"
   },
   {
    "duration": 9,
    "start_time": "2023-06-12T18:35:06.335Z"
   },
   {
    "duration": 28,
    "start_time": "2023-06-12T18:35:07.292Z"
   },
   {
    "duration": 5,
    "start_time": "2023-06-12T18:35:07.593Z"
   },
   {
    "duration": 5,
    "start_time": "2023-06-12T18:35:08.253Z"
   },
   {
    "duration": 5,
    "start_time": "2023-06-12T18:35:08.451Z"
   },
   {
    "duration": 1031,
    "start_time": "2023-06-12T18:35:08.602Z"
   },
   {
    "duration": 4,
    "start_time": "2023-06-12T18:35:10.805Z"
   },
   {
    "duration": 1412,
    "start_time": "2023-06-12T18:36:10.347Z"
   },
   {
    "duration": 26,
    "start_time": "2023-06-12T18:36:19.250Z"
   },
   {
    "duration": 31,
    "start_time": "2023-06-12T18:36:19.428Z"
   },
   {
    "duration": 246,
    "start_time": "2023-06-12T18:36:19.754Z"
   },
   {
    "duration": 248,
    "start_time": "2023-06-12T18:36:20.002Z"
   },
   {
    "duration": 255,
    "start_time": "2023-06-12T18:36:20.252Z"
   },
   {
    "duration": 35,
    "start_time": "2023-06-12T18:36:20.536Z"
   },
   {
    "duration": 1347,
    "start_time": "2023-06-12T18:36:20.915Z"
   },
   {
    "duration": 0,
    "start_time": "2023-06-12T18:36:22.264Z"
   },
   {
    "duration": 0,
    "start_time": "2023-06-12T18:36:22.265Z"
   },
   {
    "duration": 0,
    "start_time": "2023-06-12T18:36:22.266Z"
   },
   {
    "duration": 3,
    "start_time": "2023-06-12T18:36:23.981Z"
   },
   {
    "duration": 9,
    "start_time": "2023-06-12T18:36:25.164Z"
   },
   {
    "duration": 4,
    "start_time": "2023-06-12T18:36:25.364Z"
   },
   {
    "duration": 10,
    "start_time": "2023-06-12T18:36:26.204Z"
   },
   {
    "duration": 27,
    "start_time": "2023-06-12T18:36:36.175Z"
   },
   {
    "duration": 4,
    "start_time": "2023-06-12T18:36:36.338Z"
   },
   {
    "duration": 6,
    "start_time": "2023-06-12T18:36:36.659Z"
   },
   {
    "duration": 6,
    "start_time": "2023-06-12T18:36:36.824Z"
   },
   {
    "duration": 1051,
    "start_time": "2023-06-12T18:36:37.003Z"
   },
   {
    "duration": 4,
    "start_time": "2023-06-12T18:36:38.056Z"
   },
   {
    "duration": 18,
    "start_time": "2023-06-12T18:36:38.062Z"
   },
   {
    "duration": 1482,
    "start_time": "2023-06-12T18:38:12.056Z"
   },
   {
    "duration": 1452,
    "start_time": "2023-06-12T18:38:18.444Z"
   },
   {
    "duration": 1388,
    "start_time": "2023-06-12T18:38:21.496Z"
   },
   {
    "duration": 52,
    "start_time": "2023-06-12T18:38:22.886Z"
   },
   {
    "duration": 45,
    "start_time": "2023-06-12T18:38:22.940Z"
   },
   {
    "duration": 282,
    "start_time": "2023-06-12T18:38:22.987Z"
   },
   {
    "duration": 358,
    "start_time": "2023-06-12T18:38:23.271Z"
   },
   {
    "duration": 258,
    "start_time": "2023-06-12T18:38:23.631Z"
   },
   {
    "duration": 41,
    "start_time": "2023-06-12T18:38:23.892Z"
   },
   {
    "duration": 1418,
    "start_time": "2023-06-12T18:38:23.935Z"
   },
   {
    "duration": 0,
    "start_time": "2023-06-12T18:38:25.355Z"
   },
   {
    "duration": 0,
    "start_time": "2023-06-12T18:38:25.357Z"
   },
   {
    "duration": 0,
    "start_time": "2023-06-12T18:38:25.358Z"
   },
   {
    "duration": 2256,
    "start_time": "2023-06-12T18:39:08.197Z"
   },
   {
    "duration": 743,
    "start_time": "2023-06-12T18:39:10.455Z"
   },
   {
    "duration": 15,
    "start_time": "2023-06-12T18:39:11.200Z"
   },
   {
    "duration": 145,
    "start_time": "2023-06-12T18:39:11.224Z"
   },
   {
    "duration": 379,
    "start_time": "2023-06-12T18:39:11.371Z"
   },
   {
    "duration": 119,
    "start_time": "2023-06-12T18:39:11.753Z"
   },
   {
    "duration": 92,
    "start_time": "2023-06-12T18:39:11.873Z"
   },
   {
    "duration": 106,
    "start_time": "2023-06-12T18:39:11.967Z"
   },
   {
    "duration": 166,
    "start_time": "2023-06-12T18:39:12.075Z"
   },
   {
    "duration": 302,
    "start_time": "2023-06-12T18:39:12.242Z"
   },
   {
    "duration": 265,
    "start_time": "2023-06-12T18:39:12.545Z"
   },
   {
    "duration": 15,
    "start_time": "2023-06-12T18:39:12.812Z"
   },
   {
    "duration": 287,
    "start_time": "2023-06-12T18:39:12.828Z"
   },
   {
    "duration": 14,
    "start_time": "2023-06-12T18:39:13.117Z"
   },
   {
    "duration": 70,
    "start_time": "2023-06-12T18:39:13.133Z"
   },
   {
    "duration": 239,
    "start_time": "2023-06-12T18:39:13.205Z"
   },
   {
    "duration": 57,
    "start_time": "2023-06-12T18:39:13.445Z"
   },
   {
    "duration": 25,
    "start_time": "2023-06-12T18:39:13.504Z"
   },
   {
    "duration": 272,
    "start_time": "2023-06-12T18:39:13.530Z"
   },
   {
    "duration": 78,
    "start_time": "2023-06-12T18:39:13.804Z"
   },
   {
    "duration": 27,
    "start_time": "2023-06-12T18:39:13.884Z"
   },
   {
    "duration": 64,
    "start_time": "2023-06-12T18:39:13.924Z"
   },
   {
    "duration": 36,
    "start_time": "2023-06-12T18:39:13.989Z"
   },
   {
    "duration": 2291,
    "start_time": "2023-06-12T18:39:14.026Z"
   },
   {
    "duration": 1477,
    "start_time": "2023-06-12T18:39:16.319Z"
   },
   {
    "duration": 7,
    "start_time": "2023-06-12T18:39:17.798Z"
   },
   {
    "duration": 50,
    "start_time": "2023-06-12T18:39:17.807Z"
   },
   {
    "duration": 271,
    "start_time": "2023-06-12T18:39:17.858Z"
   },
   {
    "duration": 246,
    "start_time": "2023-06-12T18:39:18.131Z"
   },
   {
    "duration": 250,
    "start_time": "2023-06-12T18:39:18.378Z"
   },
   {
    "duration": 37,
    "start_time": "2023-06-12T18:39:18.630Z"
   },
   {
    "duration": 36,
    "start_time": "2023-06-12T18:39:18.668Z"
   },
   {
    "duration": 32,
    "start_time": "2023-06-12T18:39:27.856Z"
   },
   {
    "duration": 32,
    "start_time": "2023-06-12T18:39:28.032Z"
   },
   {
    "duration": 62,
    "start_time": "2023-06-12T18:39:28.186Z"
   },
   {
    "duration": 3,
    "start_time": "2023-06-12T18:39:28.348Z"
   },
   {
    "duration": 2,
    "start_time": "2023-06-12T18:39:32.509Z"
   },
   {
    "duration": 10,
    "start_time": "2023-06-12T18:39:33.613Z"
   },
   {
    "duration": 3,
    "start_time": "2023-06-12T18:39:34.032Z"
   },
   {
    "duration": 13,
    "start_time": "2023-06-12T18:39:34.924Z"
   },
   {
    "duration": 1343,
    "start_time": "2023-06-12T18:41:35.826Z"
   },
   {
    "duration": 1443,
    "start_time": "2023-06-12T18:41:49.164Z"
   },
   {
    "duration": 17,
    "start_time": "2023-06-12T18:41:50.610Z"
   },
   {
    "duration": 26,
    "start_time": "2023-06-12T18:42:05.902Z"
   },
   {
    "duration": 243,
    "start_time": "2023-06-12T18:42:06.115Z"
   },
   {
    "duration": 255,
    "start_time": "2023-06-12T18:42:06.361Z"
   },
   {
    "duration": 360,
    "start_time": "2023-06-12T18:42:06.839Z"
   },
   {
    "duration": 34,
    "start_time": "2023-06-12T18:42:08.380Z"
   },
   {
    "duration": 2106,
    "start_time": "2023-06-12T18:42:08.599Z"
   },
   {
    "duration": 0,
    "start_time": "2023-06-12T18:42:10.707Z"
   },
   {
    "duration": 18,
    "start_time": "2023-06-12T18:42:10.834Z"
   },
   {
    "duration": 2141,
    "start_time": "2023-06-12T18:42:19.079Z"
   },
   {
    "duration": 733,
    "start_time": "2023-06-12T18:42:21.222Z"
   },
   {
    "duration": 15,
    "start_time": "2023-06-12T18:42:21.957Z"
   },
   {
    "duration": 145,
    "start_time": "2023-06-12T18:42:21.974Z"
   },
   {
    "duration": 372,
    "start_time": "2023-06-12T18:42:22.125Z"
   },
   {
    "duration": 115,
    "start_time": "2023-06-12T18:42:22.498Z"
   },
   {
    "duration": 88,
    "start_time": "2023-06-12T18:42:22.615Z"
   },
   {
    "duration": 105,
    "start_time": "2023-06-12T18:42:22.704Z"
   },
   {
    "duration": 162,
    "start_time": "2023-06-12T18:42:22.811Z"
   },
   {
    "duration": 329,
    "start_time": "2023-06-12T18:42:22.974Z"
   },
   {
    "duration": 264,
    "start_time": "2023-06-12T18:42:23.305Z"
   },
   {
    "duration": 8,
    "start_time": "2023-06-12T18:42:23.570Z"
   },
   {
    "duration": 307,
    "start_time": "2023-06-12T18:42:23.580Z"
   },
   {
    "duration": 10,
    "start_time": "2023-06-12T18:42:23.890Z"
   },
   {
    "duration": 79,
    "start_time": "2023-06-12T18:42:23.902Z"
   },
   {
    "duration": 243,
    "start_time": "2023-06-12T18:42:23.983Z"
   },
   {
    "duration": 57,
    "start_time": "2023-06-12T18:42:24.228Z"
   },
   {
    "duration": 17,
    "start_time": "2023-06-12T18:42:24.286Z"
   },
   {
    "duration": 280,
    "start_time": "2023-06-12T18:42:24.305Z"
   },
   {
    "duration": 76,
    "start_time": "2023-06-12T18:42:24.586Z"
   },
   {
    "duration": 27,
    "start_time": "2023-06-12T18:42:24.664Z"
   },
   {
    "duration": 83,
    "start_time": "2023-06-12T18:42:24.693Z"
   },
   {
    "duration": 26,
    "start_time": "2023-06-12T18:42:24.777Z"
   },
   {
    "duration": 2321,
    "start_time": "2023-06-12T18:42:24.804Z"
   },
   {
    "duration": 1575,
    "start_time": "2023-06-12T18:42:27.127Z"
   },
   {
    "duration": 23,
    "start_time": "2023-06-12T18:42:28.704Z"
   },
   {
    "duration": 47,
    "start_time": "2023-06-12T18:42:28.729Z"
   },
   {
    "duration": 254,
    "start_time": "2023-06-12T18:42:28.778Z"
   },
   {
    "duration": 396,
    "start_time": "2023-06-12T18:42:29.034Z"
   },
   {
    "duration": 257,
    "start_time": "2023-06-12T18:42:29.432Z"
   },
   {
    "duration": 47,
    "start_time": "2023-06-12T18:42:29.690Z"
   },
   {
    "duration": 44,
    "start_time": "2023-06-12T18:42:29.738Z"
   },
   {
    "duration": 1418,
    "start_time": "2023-06-12T18:42:45.069Z"
   },
   {
    "duration": 1365,
    "start_time": "2023-06-12T18:42:47.108Z"
   },
   {
    "duration": 26,
    "start_time": "2023-06-12T18:42:48.475Z"
   },
   {
    "duration": 53,
    "start_time": "2023-06-12T18:42:48.503Z"
   },
   {
    "duration": 277,
    "start_time": "2023-06-12T18:42:48.558Z"
   },
   {
    "duration": 259,
    "start_time": "2023-06-12T18:42:48.837Z"
   },
   {
    "duration": 263,
    "start_time": "2023-06-12T18:42:49.097Z"
   },
   {
    "duration": 45,
    "start_time": "2023-06-12T18:42:49.362Z"
   },
   {
    "duration": 65,
    "start_time": "2023-06-12T18:42:49.408Z"
   },
   {
    "duration": 31,
    "start_time": "2023-06-12T18:42:49.474Z"
   },
   {
    "duration": 73,
    "start_time": "2023-06-12T18:42:49.506Z"
   },
   {
    "duration": 3,
    "start_time": "2023-06-12T18:42:49.580Z"
   },
   {
    "duration": 4,
    "start_time": "2023-06-12T18:42:54.197Z"
   },
   {
    "duration": 12,
    "start_time": "2023-06-12T18:42:55.311Z"
   },
   {
    "duration": 5,
    "start_time": "2023-06-12T18:42:55.455Z"
   },
   {
    "duration": 10,
    "start_time": "2023-06-12T18:42:55.937Z"
   },
   {
    "duration": 1434,
    "start_time": "2023-06-12T18:43:17.122Z"
   },
   {
    "duration": 3596,
    "start_time": "2023-06-12T18:43:51.374Z"
   },
   {
    "duration": 792,
    "start_time": "2023-06-12T18:43:54.974Z"
   },
   {
    "duration": 20,
    "start_time": "2023-06-12T18:43:55.768Z"
   },
   {
    "duration": 212,
    "start_time": "2023-06-12T18:43:55.789Z"
   },
   {
    "duration": 478,
    "start_time": "2023-06-12T18:44:02.977Z"
   },
   {
    "duration": 134,
    "start_time": "2023-06-12T18:44:03.972Z"
   },
   {
    "duration": 92,
    "start_time": "2023-06-12T18:44:04.478Z"
   },
   {
    "duration": 112,
    "start_time": "2023-06-12T18:44:05.779Z"
   },
   {
    "duration": 213,
    "start_time": "2023-06-12T18:44:06.672Z"
   },
   {
    "duration": 395,
    "start_time": "2023-06-12T18:44:06.888Z"
   },
   {
    "duration": 419,
    "start_time": "2023-06-12T18:44:07.619Z"
   },
   {
    "duration": 11,
    "start_time": "2023-06-12T18:44:08.061Z"
   },
   {
    "duration": 430,
    "start_time": "2023-06-12T18:44:08.334Z"
   },
   {
    "duration": 14,
    "start_time": "2023-06-12T18:44:08.766Z"
   },
   {
    "duration": 72,
    "start_time": "2023-06-12T18:44:09.824Z"
   },
   {
    "duration": 244,
    "start_time": "2023-06-12T18:44:10.196Z"
   },
   {
    "duration": 59,
    "start_time": "2023-06-12T18:44:10.614Z"
   },
   {
    "duration": 17,
    "start_time": "2023-06-12T18:44:10.973Z"
   },
   {
    "duration": 282,
    "start_time": "2023-06-12T18:44:11.606Z"
   },
   {
    "duration": 76,
    "start_time": "2023-06-12T18:44:12.970Z"
   },
   {
    "duration": 30,
    "start_time": "2023-06-12T18:44:15.580Z"
   },
   {
    "duration": 101,
    "start_time": "2023-06-12T18:44:16.029Z"
   },
   {
    "duration": 28,
    "start_time": "2023-06-12T18:44:25.817Z"
   },
   {
    "duration": 2049,
    "start_time": "2023-06-12T18:44:26.249Z"
   },
   {
    "duration": 1604,
    "start_time": "2023-06-12T18:45:58.672Z"
   },
   {
    "duration": 14,
    "start_time": "2023-06-12T18:46:31.086Z"
   },
   {
    "duration": 1455,
    "start_time": "2023-06-12T18:48:08.181Z"
   },
   {
    "duration": 3989,
    "start_time": "2023-06-12T18:48:47.606Z"
   },
   {
    "duration": 1761,
    "start_time": "2023-06-12T18:49:01.250Z"
   },
   {
    "duration": 34,
    "start_time": "2023-06-12T18:49:03.013Z"
   },
   {
    "duration": 60,
    "start_time": "2023-06-12T18:49:03.049Z"
   },
   {
    "duration": 285,
    "start_time": "2023-06-12T18:49:04.181Z"
   },
   {
    "duration": 288,
    "start_time": "2023-06-12T18:49:05.174Z"
   },
   {
    "duration": 376,
    "start_time": "2023-06-12T18:49:07.620Z"
   },
   {
    "duration": 54,
    "start_time": "2023-06-12T18:49:11.344Z"
   },
   {
    "duration": 39,
    "start_time": "2023-06-12T18:49:17.188Z"
   },
   {
    "duration": 35,
    "start_time": "2023-06-12T18:49:18.431Z"
   },
   {
    "duration": 70,
    "start_time": "2023-06-12T18:49:20.065Z"
   },
   {
    "duration": 3,
    "start_time": "2023-06-12T18:49:21.612Z"
   },
   {
    "duration": 3,
    "start_time": "2023-06-12T18:49:40.864Z"
   },
   {
    "duration": 10,
    "start_time": "2023-06-12T18:49:43.797Z"
   },
   {
    "duration": 4,
    "start_time": "2023-06-12T18:49:45.752Z"
   },
   {
    "duration": 10,
    "start_time": "2023-06-12T18:49:47.016Z"
   },
   {
    "duration": 24,
    "start_time": "2023-06-12T18:49:52.202Z"
   },
   {
    "duration": 4,
    "start_time": "2023-06-12T18:49:53.458Z"
   },
   {
    "duration": 5,
    "start_time": "2023-06-12T18:49:54.388Z"
   },
   {
    "duration": 6,
    "start_time": "2023-06-12T18:49:57.520Z"
   },
   {
    "duration": 6,
    "start_time": "2023-06-12T18:50:02.709Z"
   },
   {
    "duration": 454,
    "start_time": "2023-06-12T18:50:04.164Z"
   },
   {
    "duration": 10,
    "start_time": "2023-06-12T18:50:14.037Z"
   },
   {
    "duration": 10,
    "start_time": "2023-06-12T18:50:14.358Z"
   },
   {
    "duration": 10,
    "start_time": "2023-06-12T18:50:30.949Z"
   },
   {
    "duration": 49,
    "start_time": "2023-06-12T18:54:15.469Z"
   },
   {
    "duration": 72,
    "start_time": "2023-06-12T18:58:19.052Z"
   },
   {
    "duration": 1259,
    "start_time": "2023-06-12T18:59:11.568Z"
   },
   {
    "duration": 962,
    "start_time": "2023-06-12T18:59:23.371Z"
   },
   {
    "duration": 1418,
    "start_time": "2023-06-12T19:00:22.339Z"
   },
   {
    "duration": 1600,
    "start_time": "2023-06-12T19:00:28.242Z"
   },
   {
    "duration": 2613,
    "start_time": "2023-06-12T19:00:44.302Z"
   },
   {
    "duration": 2470,
    "start_time": "2023-06-12T19:01:47.768Z"
   },
   {
    "duration": 2572,
    "start_time": "2023-06-12T19:02:10.345Z"
   },
   {
    "duration": 2464,
    "start_time": "2023-06-12T19:02:13.906Z"
   },
   {
    "duration": 215453,
    "start_time": "2023-06-12T19:02:23.917Z"
   },
   {
    "duration": 23910,
    "start_time": "2023-06-12T19:27:34.971Z"
   },
   {
    "duration": 313470,
    "start_time": "2023-06-12T19:28:03.758Z"
   },
   {
    "duration": 103,
    "start_time": "2023-06-12T19:36:34.431Z"
   },
   {
    "duration": 91,
    "start_time": "2023-06-12T19:37:05.043Z"
   },
   {
    "duration": 12,
    "start_time": "2023-06-12T19:37:06.170Z"
   },
   {
    "duration": 3,
    "start_time": "2023-06-12T19:37:07.025Z"
   },
   {
    "duration": 292,
    "start_time": "2023-06-12T19:40:21.415Z"
   },
   {
    "duration": 180,
    "start_time": "2023-06-12T19:41:04.999Z"
   },
   {
    "duration": 99,
    "start_time": "2023-06-12T19:41:21.732Z"
   },
   {
    "duration": 10,
    "start_time": "2023-06-12T19:41:26.505Z"
   },
   {
    "duration": 10,
    "start_time": "2023-06-12T19:42:21.651Z"
   },
   {
    "duration": 5,
    "start_time": "2023-06-12T19:42:23.736Z"
   },
   {
    "duration": 97,
    "start_time": "2023-06-12T19:43:26.541Z"
   },
   {
    "duration": 6,
    "start_time": "2023-06-12T19:43:27.475Z"
   },
   {
    "duration": 5,
    "start_time": "2023-06-12T19:43:28.147Z"
   },
   {
    "duration": 3,
    "start_time": "2023-06-12T19:43:29.412Z"
   },
   {
    "duration": 156,
    "start_time": "2023-06-12T19:43:49.753Z"
   },
   {
    "duration": 95,
    "start_time": "2023-06-12T19:43:54.721Z"
   },
   {
    "duration": 90,
    "start_time": "2023-06-12T19:43:57.226Z"
   },
   {
    "duration": 6,
    "start_time": "2023-06-12T19:43:57.484Z"
   },
   {
    "duration": 3,
    "start_time": "2023-06-12T19:43:57.695Z"
   },
   {
    "duration": 4,
    "start_time": "2023-06-12T19:43:59.907Z"
   },
   {
    "duration": 15025,
    "start_time": "2023-06-12T19:44:30.122Z"
   },
   {
    "duration": 187,
    "start_time": "2023-06-12T19:44:45.149Z"
   },
   {
    "duration": 4,
    "start_time": "2023-06-12T19:44:45.338Z"
   },
   {
    "duration": 10,
    "start_time": "2023-06-12T19:44:45.344Z"
   },
   {
    "duration": 4017,
    "start_time": "2023-06-12T19:45:15.945Z"
   },
   {
    "duration": 2647,
    "start_time": "2023-06-12T19:45:30.256Z"
   },
   {
    "duration": 16878,
    "start_time": "2023-06-12T19:45:59.037Z"
   },
   {
    "duration": 188,
    "start_time": "2023-06-12T19:46:15.918Z"
   },
   {
    "duration": 4,
    "start_time": "2023-06-12T19:46:18.471Z"
   },
   {
    "duration": 5,
    "start_time": "2023-06-12T19:46:19.757Z"
   },
   {
    "duration": 3433,
    "start_time": "2023-06-12T19:46:45.847Z"
   },
   {
    "duration": 3412,
    "start_time": "2023-06-12T19:48:07.274Z"
   },
   {
    "duration": 92,
    "start_time": "2023-06-12T19:50:16.871Z"
   },
   {
    "duration": 88,
    "start_time": "2023-06-12T19:50:19.149Z"
   },
   {
    "duration": 4656,
    "start_time": "2023-06-12T19:50:57.126Z"
   },
   {
    "duration": 4795,
    "start_time": "2023-06-12T19:51:40.209Z"
   },
   {
    "duration": 53,
    "start_time": "2023-06-12T19:52:07.950Z"
   },
   {
    "duration": 42,
    "start_time": "2023-06-12T19:52:10.530Z"
   },
   {
    "duration": 4,
    "start_time": "2023-06-12T19:52:11.156Z"
   },
   {
    "duration": 3,
    "start_time": "2023-06-12T19:52:12.086Z"
   },
   {
    "duration": 44314,
    "start_time": "2023-06-12T19:52:24.123Z"
   },
   {
    "duration": 51276,
    "start_time": "2023-06-12T19:53:16.659Z"
   },
   {
    "duration": 298,
    "start_time": "2023-06-12T19:54:07.937Z"
   },
   {
    "duration": 5,
    "start_time": "2023-06-12T19:54:08.237Z"
   },
   {
    "duration": 17,
    "start_time": "2023-06-12T19:54:08.244Z"
   },
   {
    "duration": 33,
    "start_time": "2023-06-12T19:54:12.940Z"
   },
   {
    "duration": 2318,
    "start_time": "2023-06-12T19:55:48.527Z"
   },
   {
    "duration": 805,
    "start_time": "2023-06-12T19:55:50.847Z"
   },
   {
    "duration": 15,
    "start_time": "2023-06-12T19:55:51.654Z"
   },
   {
    "duration": 157,
    "start_time": "2023-06-12T19:55:51.670Z"
   },
   {
    "duration": 405,
    "start_time": "2023-06-12T19:55:51.829Z"
   },
   {
    "duration": 119,
    "start_time": "2023-06-12T19:55:52.235Z"
   },
   {
    "duration": 104,
    "start_time": "2023-06-12T19:55:52.356Z"
   },
   {
    "duration": 102,
    "start_time": "2023-06-12T19:55:52.461Z"
   },
   {
    "duration": 161,
    "start_time": "2023-06-12T19:55:52.564Z"
   },
   {
    "duration": 325,
    "start_time": "2023-06-12T19:55:52.727Z"
   },
   {
    "duration": 273,
    "start_time": "2023-06-12T19:55:53.053Z"
   },
   {
    "duration": 8,
    "start_time": "2023-06-12T19:55:53.328Z"
   },
   {
    "duration": 314,
    "start_time": "2023-06-12T19:55:53.338Z"
   },
   {
    "duration": 11,
    "start_time": "2023-06-12T19:55:53.655Z"
   },
   {
    "duration": 83,
    "start_time": "2023-06-12T19:55:53.667Z"
   },
   {
    "duration": 248,
    "start_time": "2023-06-12T19:55:53.752Z"
   },
   {
    "duration": 67,
    "start_time": "2023-06-12T19:55:54.002Z"
   },
   {
    "duration": 26,
    "start_time": "2023-06-12T19:55:54.071Z"
   },
   {
    "duration": 276,
    "start_time": "2023-06-12T19:55:54.099Z"
   },
   {
    "duration": 78,
    "start_time": "2023-06-12T19:55:54.377Z"
   },
   {
    "duration": 27,
    "start_time": "2023-06-12T19:55:54.457Z"
   },
   {
    "duration": 79,
    "start_time": "2023-06-12T19:55:54.486Z"
   },
   {
    "duration": 26,
    "start_time": "2023-06-12T19:55:54.567Z"
   },
   {
    "duration": 168,
    "start_time": "2023-06-12T19:55:54.595Z"
   },
   {
    "duration": 0,
    "start_time": "2023-06-12T19:55:54.766Z"
   },
   {
    "duration": 1,
    "start_time": "2023-06-12T19:55:54.767Z"
   },
   {
    "duration": 0,
    "start_time": "2023-06-12T19:55:54.769Z"
   },
   {
    "duration": 0,
    "start_time": "2023-06-12T19:55:54.770Z"
   },
   {
    "duration": 0,
    "start_time": "2023-06-12T19:55:54.771Z"
   },
   {
    "duration": 0,
    "start_time": "2023-06-12T19:55:54.773Z"
   },
   {
    "duration": 0,
    "start_time": "2023-06-12T19:55:54.774Z"
   },
   {
    "duration": 0,
    "start_time": "2023-06-12T19:55:54.775Z"
   },
   {
    "duration": 0,
    "start_time": "2023-06-12T19:55:54.776Z"
   },
   {
    "duration": 0,
    "start_time": "2023-06-12T19:55:54.777Z"
   },
   {
    "duration": 0,
    "start_time": "2023-06-12T19:55:54.778Z"
   },
   {
    "duration": 0,
    "start_time": "2023-06-12T19:55:54.779Z"
   },
   {
    "duration": 0,
    "start_time": "2023-06-12T19:55:54.780Z"
   },
   {
    "duration": 0,
    "start_time": "2023-06-12T19:55:54.781Z"
   },
   {
    "duration": 0,
    "start_time": "2023-06-12T19:55:54.782Z"
   },
   {
    "duration": 0,
    "start_time": "2023-06-12T19:55:54.783Z"
   },
   {
    "duration": 0,
    "start_time": "2023-06-12T19:55:54.784Z"
   },
   {
    "duration": 0,
    "start_time": "2023-06-12T19:55:54.786Z"
   },
   {
    "duration": 0,
    "start_time": "2023-06-12T19:55:54.787Z"
   },
   {
    "duration": 0,
    "start_time": "2023-06-12T19:55:54.788Z"
   },
   {
    "duration": 0,
    "start_time": "2023-06-12T19:55:54.825Z"
   },
   {
    "duration": 0,
    "start_time": "2023-06-12T19:55:54.827Z"
   },
   {
    "duration": 0,
    "start_time": "2023-06-12T19:55:54.828Z"
   },
   {
    "duration": 0,
    "start_time": "2023-06-12T19:55:54.830Z"
   },
   {
    "duration": 0,
    "start_time": "2023-06-12T19:55:54.832Z"
   },
   {
    "duration": 0,
    "start_time": "2023-06-12T19:55:54.833Z"
   },
   {
    "duration": 0,
    "start_time": "2023-06-12T19:55:54.834Z"
   },
   {
    "duration": 0,
    "start_time": "2023-06-12T19:55:54.836Z"
   },
   {
    "duration": 0,
    "start_time": "2023-06-12T19:55:54.837Z"
   },
   {
    "duration": 1,
    "start_time": "2023-06-12T19:55:54.838Z"
   },
   {
    "duration": 0,
    "start_time": "2023-06-12T19:55:54.840Z"
   },
   {
    "duration": 0,
    "start_time": "2023-06-12T19:55:54.842Z"
   },
   {
    "duration": 0,
    "start_time": "2023-06-12T19:55:54.843Z"
   },
   {
    "duration": 0,
    "start_time": "2023-06-12T19:55:54.844Z"
   },
   {
    "duration": 0,
    "start_time": "2023-06-12T19:55:54.846Z"
   },
   {
    "duration": 0,
    "start_time": "2023-06-12T19:55:54.847Z"
   },
   {
    "duration": 0,
    "start_time": "2023-06-12T19:55:54.849Z"
   },
   {
    "duration": 0,
    "start_time": "2023-06-12T19:55:54.852Z"
   },
   {
    "duration": 0,
    "start_time": "2023-06-12T19:55:54.854Z"
   },
   {
    "duration": 1,
    "start_time": "2023-06-12T19:55:54.855Z"
   },
   {
    "duration": 0,
    "start_time": "2023-06-12T19:55:54.857Z"
   },
   {
    "duration": 0,
    "start_time": "2023-06-12T19:55:54.859Z"
   },
   {
    "duration": 0,
    "start_time": "2023-06-12T19:55:54.860Z"
   },
   {
    "duration": 0,
    "start_time": "2023-06-12T19:55:54.862Z"
   },
   {
    "duration": 0,
    "start_time": "2023-06-12T19:55:54.863Z"
   },
   {
    "duration": 0,
    "start_time": "2023-06-12T19:55:54.864Z"
   },
   {
    "duration": 0,
    "start_time": "2023-06-12T19:55:54.865Z"
   },
   {
    "duration": 0,
    "start_time": "2023-06-12T19:55:54.866Z"
   },
   {
    "duration": 0,
    "start_time": "2023-06-12T19:55:54.866Z"
   },
   {
    "duration": 0,
    "start_time": "2023-06-12T19:55:54.867Z"
   },
   {
    "duration": 0,
    "start_time": "2023-06-12T19:55:54.924Z"
   },
   {
    "duration": 0,
    "start_time": "2023-06-12T19:55:54.926Z"
   },
   {
    "duration": 0,
    "start_time": "2023-06-12T19:55:54.927Z"
   },
   {
    "duration": 0,
    "start_time": "2023-06-12T19:55:54.929Z"
   },
   {
    "duration": 0,
    "start_time": "2023-06-12T19:55:54.930Z"
   },
   {
    "duration": 0,
    "start_time": "2023-06-12T19:55:54.932Z"
   },
   {
    "duration": 0,
    "start_time": "2023-06-12T19:55:54.934Z"
   },
   {
    "duration": 1689,
    "start_time": "2023-06-12T20:04:57.298Z"
   },
   {
    "duration": 2279,
    "start_time": "2023-06-12T20:05:08.418Z"
   },
   {
    "duration": 910,
    "start_time": "2023-06-12T20:05:10.700Z"
   },
   {
    "duration": 19,
    "start_time": "2023-06-12T20:05:11.612Z"
   },
   {
    "duration": 171,
    "start_time": "2023-06-12T20:05:11.633Z"
   },
   {
    "duration": 434,
    "start_time": "2023-06-12T20:05:11.806Z"
   },
   {
    "duration": 123,
    "start_time": "2023-06-12T20:05:12.242Z"
   },
   {
    "duration": 99,
    "start_time": "2023-06-12T20:05:12.366Z"
   },
   {
    "duration": 102,
    "start_time": "2023-06-12T20:05:12.472Z"
   },
   {
    "duration": 166,
    "start_time": "2023-06-12T20:05:12.576Z"
   },
   {
    "duration": 312,
    "start_time": "2023-06-12T20:05:12.744Z"
   },
   {
    "duration": 436,
    "start_time": "2023-06-12T20:05:13.057Z"
   },
   {
    "duration": 11,
    "start_time": "2023-06-12T20:05:13.495Z"
   },
   {
    "duration": 365,
    "start_time": "2023-06-12T20:05:13.507Z"
   },
   {
    "duration": 11,
    "start_time": "2023-06-12T20:05:13.876Z"
   },
   {
    "duration": 235,
    "start_time": "2023-06-12T20:05:13.889Z"
   },
   {
    "duration": 254,
    "start_time": "2023-06-12T20:05:14.126Z"
   },
   {
    "duration": 59,
    "start_time": "2023-06-12T20:05:14.381Z"
   },
   {
    "duration": 29,
    "start_time": "2023-06-12T20:05:14.442Z"
   },
   {
    "duration": 307,
    "start_time": "2023-06-12T20:05:14.473Z"
   },
   {
    "duration": 123,
    "start_time": "2023-06-12T20:05:14.782Z"
   },
   {
    "duration": 42,
    "start_time": "2023-06-12T20:05:14.907Z"
   },
   {
    "duration": 94,
    "start_time": "2023-06-12T20:05:14.952Z"
   },
   {
    "duration": 45,
    "start_time": "2023-06-12T20:05:15.048Z"
   },
   {
    "duration": 2347,
    "start_time": "2023-06-12T20:05:15.094Z"
   },
   {
    "duration": 0,
    "start_time": "2023-06-12T20:05:17.444Z"
   },
   {
    "duration": 0,
    "start_time": "2023-06-12T20:05:17.446Z"
   },
   {
    "duration": 0,
    "start_time": "2023-06-12T20:05:17.447Z"
   },
   {
    "duration": 0,
    "start_time": "2023-06-12T20:05:17.448Z"
   },
   {
    "duration": 0,
    "start_time": "2023-06-12T20:05:17.449Z"
   },
   {
    "duration": 0,
    "start_time": "2023-06-12T20:05:17.451Z"
   },
   {
    "duration": 0,
    "start_time": "2023-06-12T20:05:17.451Z"
   },
   {
    "duration": 0,
    "start_time": "2023-06-12T20:05:17.453Z"
   },
   {
    "duration": 0,
    "start_time": "2023-06-12T20:05:17.454Z"
   },
   {
    "duration": 0,
    "start_time": "2023-06-12T20:05:17.456Z"
   },
   {
    "duration": 0,
    "start_time": "2023-06-12T20:05:17.457Z"
   },
   {
    "duration": 0,
    "start_time": "2023-06-12T20:05:17.459Z"
   },
   {
    "duration": 0,
    "start_time": "2023-06-12T20:05:17.460Z"
   },
   {
    "duration": 0,
    "start_time": "2023-06-12T20:05:17.461Z"
   },
   {
    "duration": 0,
    "start_time": "2023-06-12T20:05:17.462Z"
   },
   {
    "duration": 0,
    "start_time": "2023-06-12T20:05:17.463Z"
   },
   {
    "duration": 0,
    "start_time": "2023-06-12T20:05:17.464Z"
   },
   {
    "duration": 0,
    "start_time": "2023-06-12T20:05:17.465Z"
   },
   {
    "duration": 0,
    "start_time": "2023-06-12T20:05:17.466Z"
   },
   {
    "duration": 0,
    "start_time": "2023-06-12T20:05:17.467Z"
   },
   {
    "duration": 1,
    "start_time": "2023-06-12T20:05:17.468Z"
   },
   {
    "duration": 0,
    "start_time": "2023-06-12T20:05:17.470Z"
   },
   {
    "duration": 0,
    "start_time": "2023-06-12T20:05:17.471Z"
   },
   {
    "duration": 0,
    "start_time": "2023-06-12T20:05:17.472Z"
   },
   {
    "duration": 0,
    "start_time": "2023-06-12T20:05:17.473Z"
   },
   {
    "duration": 0,
    "start_time": "2023-06-12T20:05:17.475Z"
   },
   {
    "duration": 0,
    "start_time": "2023-06-12T20:05:17.476Z"
   },
   {
    "duration": 0,
    "start_time": "2023-06-12T20:05:17.477Z"
   },
   {
    "duration": 0,
    "start_time": "2023-06-12T20:05:17.478Z"
   },
   {
    "duration": 0,
    "start_time": "2023-06-12T20:05:17.480Z"
   },
   {
    "duration": 0,
    "start_time": "2023-06-12T20:05:17.525Z"
   },
   {
    "duration": 0,
    "start_time": "2023-06-12T20:05:17.526Z"
   },
   {
    "duration": 0,
    "start_time": "2023-06-12T20:05:17.527Z"
   },
   {
    "duration": 0,
    "start_time": "2023-06-12T20:05:17.529Z"
   },
   {
    "duration": 0,
    "start_time": "2023-06-12T20:05:17.530Z"
   },
   {
    "duration": 0,
    "start_time": "2023-06-12T20:05:17.532Z"
   },
   {
    "duration": 0,
    "start_time": "2023-06-12T20:05:17.533Z"
   },
   {
    "duration": 0,
    "start_time": "2023-06-12T20:05:17.534Z"
   },
   {
    "duration": 0,
    "start_time": "2023-06-12T20:05:17.536Z"
   },
   {
    "duration": 0,
    "start_time": "2023-06-12T20:05:17.537Z"
   },
   {
    "duration": 0,
    "start_time": "2023-06-12T20:05:17.538Z"
   },
   {
    "duration": 0,
    "start_time": "2023-06-12T20:05:17.540Z"
   },
   {
    "duration": 0,
    "start_time": "2023-06-12T20:05:17.541Z"
   },
   {
    "duration": 0,
    "start_time": "2023-06-12T20:05:17.542Z"
   },
   {
    "duration": 0,
    "start_time": "2023-06-12T20:05:17.543Z"
   },
   {
    "duration": 0,
    "start_time": "2023-06-12T20:05:17.544Z"
   },
   {
    "duration": 0,
    "start_time": "2023-06-12T20:05:17.545Z"
   },
   {
    "duration": 0,
    "start_time": "2023-06-12T20:05:17.546Z"
   },
   {
    "duration": 0,
    "start_time": "2023-06-12T20:05:17.547Z"
   },
   {
    "duration": 0,
    "start_time": "2023-06-12T20:05:17.548Z"
   },
   {
    "duration": 0,
    "start_time": "2023-06-12T20:05:17.549Z"
   },
   {
    "duration": 0,
    "start_time": "2023-06-12T20:05:17.550Z"
   },
   {
    "duration": 0,
    "start_time": "2023-06-12T20:05:17.551Z"
   },
   {
    "duration": 0,
    "start_time": "2023-06-12T20:05:17.553Z"
   },
   {
    "duration": 0,
    "start_time": "2023-06-12T20:05:17.554Z"
   },
   {
    "duration": 0,
    "start_time": "2023-06-12T20:05:17.555Z"
   },
   {
    "duration": 0,
    "start_time": "2023-06-12T20:05:17.557Z"
   },
   {
    "duration": 1528,
    "start_time": "2023-06-12T20:06:23.241Z"
   },
   {
    "duration": 1687,
    "start_time": "2023-06-12T20:07:30.360Z"
   },
   {
    "duration": 1536,
    "start_time": "2023-06-12T20:08:21.075Z"
   },
   {
    "duration": 2090,
    "start_time": "2023-06-12T20:08:34.531Z"
   },
   {
    "duration": 750,
    "start_time": "2023-06-12T20:08:36.624Z"
   },
   {
    "duration": 15,
    "start_time": "2023-06-12T20:08:37.591Z"
   },
   {
    "duration": 116,
    "start_time": "2023-06-12T20:08:45.343Z"
   },
   {
    "duration": 369,
    "start_time": "2023-06-12T20:08:45.904Z"
   },
   {
    "duration": 141,
    "start_time": "2023-06-12T20:08:46.275Z"
   },
   {
    "duration": 107,
    "start_time": "2023-06-12T20:08:46.424Z"
   },
   {
    "duration": 91,
    "start_time": "2023-06-12T20:08:46.989Z"
   },
   {
    "duration": 146,
    "start_time": "2023-06-12T20:08:47.542Z"
   },
   {
    "duration": 284,
    "start_time": "2023-06-12T20:08:47.934Z"
   },
   {
    "duration": 243,
    "start_time": "2023-06-12T20:08:48.336Z"
   },
   {
    "duration": 8,
    "start_time": "2023-06-12T20:08:48.581Z"
   },
   {
    "duration": 276,
    "start_time": "2023-06-12T20:08:48.648Z"
   },
   {
    "duration": 10,
    "start_time": "2023-06-12T20:08:48.975Z"
   },
   {
    "duration": 64,
    "start_time": "2023-06-12T20:08:49.456Z"
   },
   {
    "duration": 360,
    "start_time": "2023-06-12T20:08:49.776Z"
   },
   {
    "duration": 60,
    "start_time": "2023-06-12T20:08:50.139Z"
   },
   {
    "duration": 11,
    "start_time": "2023-06-12T20:08:50.257Z"
   },
   {
    "duration": 262,
    "start_time": "2023-06-12T20:08:50.682Z"
   },
   {
    "duration": 83,
    "start_time": "2023-06-12T20:08:51.216Z"
   },
   {
    "duration": 28,
    "start_time": "2023-06-12T20:08:51.595Z"
   },
   {
    "duration": 69,
    "start_time": "2023-06-12T20:08:51.819Z"
   },
   {
    "duration": 26,
    "start_time": "2023-06-12T20:08:52.025Z"
   },
   {
    "duration": 12,
    "start_time": "2023-06-12T20:10:16.673Z"
   },
   {
    "duration": 256,
    "start_time": "2023-06-12T20:10:47.723Z"
   },
   {
    "duration": 241,
    "start_time": "2023-06-12T20:10:51.739Z"
   },
   {
    "duration": 10,
    "start_time": "2023-06-12T20:10:52.553Z"
   },
   {
    "duration": 2230,
    "start_time": "2023-06-12T20:11:07.972Z"
   },
   {
    "duration": 774,
    "start_time": "2023-06-12T20:11:10.205Z"
   },
   {
    "duration": 15,
    "start_time": "2023-06-12T20:11:10.981Z"
   },
   {
    "duration": 144,
    "start_time": "2023-06-12T20:11:10.999Z"
   },
   {
    "duration": 394,
    "start_time": "2023-06-12T20:11:11.146Z"
   },
   {
    "duration": 120,
    "start_time": "2023-06-12T20:11:11.542Z"
   },
   {
    "duration": 91,
    "start_time": "2023-06-12T20:11:11.663Z"
   },
   {
    "duration": 100,
    "start_time": "2023-06-12T20:11:11.755Z"
   },
   {
    "duration": 154,
    "start_time": "2023-06-12T20:11:11.857Z"
   },
   {
    "duration": 305,
    "start_time": "2023-06-12T20:11:12.012Z"
   },
   {
    "duration": 276,
    "start_time": "2023-06-12T20:11:12.319Z"
   },
   {
    "duration": 8,
    "start_time": "2023-06-12T20:11:12.597Z"
   },
   {
    "duration": 332,
    "start_time": "2023-06-12T20:11:12.607Z"
   },
   {
    "duration": 12,
    "start_time": "2023-06-12T20:11:12.942Z"
   },
   {
    "duration": 98,
    "start_time": "2023-06-12T20:11:12.955Z"
   },
   {
    "duration": 252,
    "start_time": "2023-06-12T20:11:13.055Z"
   },
   {
    "duration": 71,
    "start_time": "2023-06-12T20:11:13.309Z"
   },
   {
    "duration": 28,
    "start_time": "2023-06-12T20:11:13.382Z"
   },
   {
    "duration": 418,
    "start_time": "2023-06-12T20:11:13.412Z"
   },
   {
    "duration": 72,
    "start_time": "2023-06-12T20:11:13.831Z"
   },
   {
    "duration": 43,
    "start_time": "2023-06-12T20:11:13.904Z"
   },
   {
    "duration": 76,
    "start_time": "2023-06-12T20:11:13.949Z"
   },
   {
    "duration": 27,
    "start_time": "2023-06-12T20:11:14.026Z"
   },
   {
    "duration": 273,
    "start_time": "2023-06-12T20:11:14.055Z"
   },
   {
    "duration": 10,
    "start_time": "2023-06-12T20:11:14.329Z"
   },
   {
    "duration": 3512,
    "start_time": "2023-06-12T20:11:14.340Z"
   },
   {
    "duration": 27,
    "start_time": "2023-06-12T20:11:17.854Z"
   },
   {
    "duration": 61,
    "start_time": "2023-06-12T20:11:17.882Z"
   },
   {
    "duration": 253,
    "start_time": "2023-06-12T20:11:17.945Z"
   },
   {
    "duration": 241,
    "start_time": "2023-06-12T20:11:18.200Z"
   },
   {
    "duration": 259,
    "start_time": "2023-06-12T20:11:18.443Z"
   },
   {
    "duration": 48,
    "start_time": "2023-06-12T20:11:18.704Z"
   },
   {
    "duration": 32,
    "start_time": "2023-06-12T20:11:18.754Z"
   },
   {
    "duration": 47,
    "start_time": "2023-06-12T20:11:18.787Z"
   },
   {
    "duration": 64,
    "start_time": "2023-06-12T20:11:18.835Z"
   },
   {
    "duration": 3,
    "start_time": "2023-06-12T20:11:18.901Z"
   },
   {
    "duration": 19,
    "start_time": "2023-06-12T20:11:18.905Z"
   },
   {
    "duration": 9,
    "start_time": "2023-06-12T20:11:18.926Z"
   },
   {
    "duration": 4,
    "start_time": "2023-06-12T20:11:18.936Z"
   },
   {
    "duration": 10,
    "start_time": "2023-06-12T20:11:18.941Z"
   },
   {
    "duration": 24,
    "start_time": "2023-06-12T20:11:18.955Z"
   },
   {
    "duration": 4,
    "start_time": "2023-06-12T20:11:18.981Z"
   },
   {
    "duration": 7,
    "start_time": "2023-06-12T20:11:18.986Z"
   },
   {
    "duration": 37,
    "start_time": "2023-06-12T20:11:18.995Z"
   },
   {
    "duration": 409,
    "start_time": "2023-06-12T20:11:19.033Z"
   },
   {
    "duration": 9,
    "start_time": "2023-06-12T20:11:19.444Z"
   },
   {
    "duration": 12,
    "start_time": "2023-06-12T20:11:19.454Z"
   },
   {
    "duration": 13,
    "start_time": "2023-06-12T20:11:19.468Z"
   },
   {
    "duration": 67,
    "start_time": "2023-06-12T20:11:19.482Z"
   },
   {
    "duration": 1077,
    "start_time": "2023-06-12T20:11:19.550Z"
   },
   {
    "duration": 1297,
    "start_time": "2023-06-12T20:11:20.631Z"
   },
   {
    "duration": 1403,
    "start_time": "2023-06-12T20:11:21.930Z"
   },
   {
    "duration": 2303,
    "start_time": "2023-06-12T20:11:23.335Z"
   },
   {
    "duration": 2070,
    "start_time": "2023-06-12T20:11:25.639Z"
   },
   {
    "duration": 192761,
    "start_time": "2023-06-12T20:11:27.711Z"
   },
   {
    "duration": 19827,
    "start_time": "2023-06-12T20:14:40.473Z"
   },
   {
    "duration": 30830,
    "start_time": "2023-06-12T20:15:00.301Z"
   },
   {
    "duration": 112,
    "start_time": "2023-06-12T20:15:31.133Z"
   },
   {
    "duration": 8,
    "start_time": "2023-06-12T20:15:31.325Z"
   },
   {
    "duration": 201,
    "start_time": "2023-06-12T20:15:31.335Z"
   },
   {
    "duration": 114,
    "start_time": "2023-06-12T20:15:31.537Z"
   },
   {
    "duration": 6,
    "start_time": "2023-06-12T20:15:31.653Z"
   },
   {
    "duration": 23,
    "start_time": "2023-06-12T20:15:31.660Z"
   },
   {
    "duration": 21,
    "start_time": "2023-06-12T20:15:31.685Z"
   },
   {
    "duration": 117,
    "start_time": "2023-06-12T20:15:31.708Z"
   },
   {
    "duration": 6,
    "start_time": "2023-06-12T20:15:31.827Z"
   },
   {
    "duration": 28,
    "start_time": "2023-06-12T20:15:31.834Z"
   },
   {
    "duration": 19,
    "start_time": "2023-06-12T20:15:31.864Z"
   },
   {
    "duration": 15319,
    "start_time": "2023-06-12T20:15:31.884Z"
   },
   {
    "duration": 197,
    "start_time": "2023-06-12T20:15:47.205Z"
   },
   {
    "duration": 4,
    "start_time": "2023-06-12T20:15:47.403Z"
   },
   {
    "duration": 16,
    "start_time": "2023-06-12T20:15:47.409Z"
   },
   {
    "duration": 4503,
    "start_time": "2023-06-12T20:15:47.427Z"
   },
   {
    "duration": 40,
    "start_time": "2023-06-12T20:15:51.931Z"
   },
   {
    "duration": 17,
    "start_time": "2023-06-12T20:15:51.973Z"
   },
   {
    "duration": 23,
    "start_time": "2023-06-12T20:15:51.991Z"
   },
   {
    "duration": 2820,
    "start_time": "2023-06-12T20:15:52.016Z"
   },
   {
    "duration": 296,
    "start_time": "2023-06-12T20:15:54.839Z"
   },
   {
    "duration": 4,
    "start_time": "2023-06-12T20:15:55.137Z"
   },
   {
    "duration": 14,
    "start_time": "2023-06-12T20:15:55.142Z"
   },
   {
    "duration": 21,
    "start_time": "2023-06-12T20:15:55.225Z"
   },
   {
    "duration": 10,
    "start_time": "2023-06-12T20:17:21.781Z"
   },
   {
    "duration": 11,
    "start_time": "2023-06-12T20:17:24.771Z"
   },
   {
    "duration": 410,
    "start_time": "2023-06-12T20:17:40.284Z"
   },
   {
    "duration": 918,
    "start_time": "2023-06-12T20:21:27.008Z"
   },
   {
    "duration": 92,
    "start_time": "2023-06-12T20:27:00.081Z"
   },
   {
    "duration": 87,
    "start_time": "2023-06-12T20:27:55.535Z"
   },
   {
    "duration": 79,
    "start_time": "2023-06-12T20:29:18.041Z"
   },
   {
    "duration": 6,
    "start_time": "2023-06-12T20:29:19.068Z"
   },
   {
    "duration": 3,
    "start_time": "2023-06-12T20:29:20.024Z"
   },
   {
    "duration": 3,
    "start_time": "2023-06-12T20:29:20.825Z"
   },
   {
    "duration": 80,
    "start_time": "2023-06-12T20:29:23.791Z"
   },
   {
    "duration": 7,
    "start_time": "2023-06-12T20:29:24.866Z"
   },
   {
    "duration": 3,
    "start_time": "2023-06-12T20:29:26.999Z"
   },
   {
    "duration": 3,
    "start_time": "2023-06-12T20:29:27.879Z"
   },
   {
    "duration": 19,
    "start_time": "2023-06-12T20:30:00.707Z"
   },
   {
    "duration": 100,
    "start_time": "2023-06-12T20:30:52.802Z"
   },
   {
    "duration": 80,
    "start_time": "2023-06-12T20:33:47.467Z"
   },
   {
    "duration": 14,
    "start_time": "2023-06-12T20:37:42.950Z"
   },
   {
    "duration": 2058,
    "start_time": "2023-06-12T20:37:57.458Z"
   },
   {
    "duration": 2091,
    "start_time": "2023-06-12T20:38:01.691Z"
   },
   {
    "duration": 23,
    "start_time": "2023-06-12T20:38:10.336Z"
   },
   {
    "duration": 21,
    "start_time": "2023-06-12T20:43:41.139Z"
   },
   {
    "duration": 20,
    "start_time": "2023-06-12T20:45:03.956Z"
   },
   {
    "duration": 19,
    "start_time": "2023-06-12T20:47:48.938Z"
   },
   {
    "duration": 2041,
    "start_time": "2023-06-12T20:51:05.798Z"
   },
   {
    "duration": 731,
    "start_time": "2023-06-12T20:51:07.842Z"
   },
   {
    "duration": 15,
    "start_time": "2023-06-12T20:51:08.575Z"
   },
   {
    "duration": 145,
    "start_time": "2023-06-12T20:51:08.593Z"
   },
   {
    "duration": 396,
    "start_time": "2023-06-12T20:51:08.740Z"
   },
   {
    "duration": 123,
    "start_time": "2023-06-12T20:51:09.138Z"
   },
   {
    "duration": 87,
    "start_time": "2023-06-12T20:51:09.262Z"
   },
   {
    "duration": 99,
    "start_time": "2023-06-12T20:51:09.350Z"
   },
   {
    "duration": 156,
    "start_time": "2023-06-12T20:51:09.451Z"
   },
   {
    "duration": 294,
    "start_time": "2023-06-12T20:51:09.609Z"
   },
   {
    "duration": 376,
    "start_time": "2023-06-12T20:51:09.906Z"
   },
   {
    "duration": 8,
    "start_time": "2023-06-12T20:51:10.284Z"
   },
   {
    "duration": 304,
    "start_time": "2023-06-12T20:51:10.293Z"
   },
   {
    "duration": 11,
    "start_time": "2023-06-12T20:51:10.599Z"
   },
   {
    "duration": 79,
    "start_time": "2023-06-12T20:51:10.612Z"
   },
   {
    "duration": 260,
    "start_time": "2023-06-12T20:51:10.693Z"
   },
   {
    "duration": 72,
    "start_time": "2023-06-12T20:51:10.955Z"
   },
   {
    "duration": 12,
    "start_time": "2023-06-12T20:51:11.028Z"
   },
   {
    "duration": 340,
    "start_time": "2023-06-12T20:51:11.042Z"
   },
   {
    "duration": 83,
    "start_time": "2023-06-12T20:51:11.384Z"
   },
   {
    "duration": 29,
    "start_time": "2023-06-12T20:51:11.469Z"
   },
   {
    "duration": 86,
    "start_time": "2023-06-12T20:51:11.499Z"
   },
   {
    "duration": 27,
    "start_time": "2023-06-12T20:51:11.587Z"
   },
   {
    "duration": 269,
    "start_time": "2023-06-12T20:51:11.624Z"
   },
   {
    "duration": 11,
    "start_time": "2023-06-12T20:51:11.894Z"
   },
   {
    "duration": 3702,
    "start_time": "2023-06-12T20:51:11.906Z"
   },
   {
    "duration": 34,
    "start_time": "2023-06-12T20:51:15.609Z"
   },
   {
    "duration": 44,
    "start_time": "2023-06-12T20:51:15.647Z"
   },
   {
    "duration": 258,
    "start_time": "2023-06-12T20:51:15.693Z"
   },
   {
    "duration": 356,
    "start_time": "2023-06-12T20:51:15.953Z"
   },
   {
    "duration": 245,
    "start_time": "2023-06-12T20:51:16.311Z"
   },
   {
    "duration": 44,
    "start_time": "2023-06-12T20:51:16.557Z"
   },
   {
    "duration": 44,
    "start_time": "2023-06-12T20:51:16.603Z"
   },
   {
    "duration": 30,
    "start_time": "2023-06-12T20:51:16.648Z"
   },
   {
    "duration": 85,
    "start_time": "2023-06-12T20:51:16.680Z"
   },
   {
    "duration": 3,
    "start_time": "2023-06-12T20:51:16.766Z"
   },
   {
    "duration": 7,
    "start_time": "2023-06-12T20:51:16.771Z"
   },
   {
    "duration": 34,
    "start_time": "2023-06-12T20:51:16.779Z"
   },
   {
    "duration": 19,
    "start_time": "2023-06-12T20:51:16.814Z"
   },
   {
    "duration": 23,
    "start_time": "2023-06-12T20:51:16.834Z"
   },
   {
    "duration": 33,
    "start_time": "2023-06-12T20:51:16.858Z"
   },
   {
    "duration": 4,
    "start_time": "2023-06-12T20:51:16.892Z"
   },
   {
    "duration": 14,
    "start_time": "2023-06-12T20:51:16.897Z"
   },
   {
    "duration": 18,
    "start_time": "2023-06-12T20:51:16.912Z"
   },
   {
    "duration": 416,
    "start_time": "2023-06-12T20:51:16.931Z"
   },
   {
    "duration": 10,
    "start_time": "2023-06-12T20:51:17.348Z"
   },
   {
    "duration": 21,
    "start_time": "2023-06-12T20:51:17.359Z"
   },
   {
    "duration": 10,
    "start_time": "2023-06-12T20:51:17.381Z"
   },
   {
    "duration": 56,
    "start_time": "2023-06-12T20:51:17.393Z"
   },
   {
    "duration": 1095,
    "start_time": "2023-06-12T20:51:17.451Z"
   },
   {
    "duration": 1385,
    "start_time": "2023-06-12T20:51:18.548Z"
   },
   {
    "duration": 1415,
    "start_time": "2023-06-12T20:51:20.026Z"
   },
   {
    "duration": 2248,
    "start_time": "2023-06-12T20:51:21.443Z"
   },
   {
    "duration": 2092,
    "start_time": "2023-06-12T20:51:23.693Z"
   },
   {
    "duration": 191930,
    "start_time": "2023-06-12T20:51:25.786Z"
   },
   {
    "duration": 18699,
    "start_time": "2023-06-12T20:54:37.718Z"
   },
   {
    "duration": 56907,
    "start_time": "2023-06-12T20:54:56.419Z"
   },
   {
    "duration": 111,
    "start_time": "2023-06-12T20:55:53.328Z"
   },
   {
    "duration": 88,
    "start_time": "2023-06-12T20:55:53.442Z"
   },
   {
    "duration": 109,
    "start_time": "2023-06-12T20:55:53.532Z"
   },
   {
    "duration": 159,
    "start_time": "2023-06-12T20:55:53.643Z"
   },
   {
    "duration": 6,
    "start_time": "2023-06-12T20:55:53.804Z"
   },
   {
    "duration": 22,
    "start_time": "2023-06-12T20:55:53.811Z"
   },
   {
    "duration": 27,
    "start_time": "2023-06-12T20:55:53.835Z"
   },
   {
    "duration": 96,
    "start_time": "2023-06-12T20:55:53.863Z"
   },
   {
    "duration": 6,
    "start_time": "2023-06-12T20:55:53.961Z"
   },
   {
    "duration": 28,
    "start_time": "2023-06-12T20:55:53.968Z"
   },
   {
    "duration": 18,
    "start_time": "2023-06-12T20:55:53.997Z"
   },
   {
    "duration": 14678,
    "start_time": "2023-06-12T20:55:54.016Z"
   },
   {
    "duration": 189,
    "start_time": "2023-06-12T20:56:08.696Z"
   },
   {
    "duration": 3,
    "start_time": "2023-06-12T20:56:08.887Z"
   },
   {
    "duration": 9,
    "start_time": "2023-06-12T20:56:08.892Z"
   },
   {
    "duration": 5437,
    "start_time": "2023-06-12T20:56:08.902Z"
   },
   {
    "duration": 42,
    "start_time": "2023-06-12T20:56:14.340Z"
   },
   {
    "duration": 3,
    "start_time": "2023-06-12T20:56:14.384Z"
   },
   {
    "duration": 11,
    "start_time": "2023-06-12T20:56:14.389Z"
   },
   {
    "duration": 2424,
    "start_time": "2023-06-12T20:56:14.401Z"
   },
   {
    "duration": 207,
    "start_time": "2023-06-12T20:56:16.827Z"
   },
   {
    "duration": 4,
    "start_time": "2023-06-12T20:56:17.036Z"
   },
   {
    "duration": 4,
    "start_time": "2023-06-12T20:56:17.125Z"
   },
   {
    "duration": 20,
    "start_time": "2023-06-12T20:56:17.130Z"
   },
   {
    "duration": 17,
    "start_time": "2023-06-12T20:56:56.533Z"
   },
   {
    "duration": 5424,
    "start_time": "2023-06-13T05:29:01.878Z"
   },
   {
    "duration": 1079,
    "start_time": "2023-06-13T05:29:07.304Z"
   },
   {
    "duration": 80,
    "start_time": "2023-06-13T05:29:08.385Z"
   },
   {
    "duration": 296,
    "start_time": "2023-06-13T05:29:08.468Z"
   },
   {
    "duration": 1008,
    "start_time": "2023-06-13T05:29:08.766Z"
   },
   {
    "duration": 315,
    "start_time": "2023-06-13T05:29:09.776Z"
   },
   {
    "duration": 136,
    "start_time": "2023-06-13T05:29:10.092Z"
   },
   {
    "duration": 108,
    "start_time": "2023-06-13T05:29:10.230Z"
   },
   {
    "duration": 243,
    "start_time": "2023-06-13T05:29:10.339Z"
   },
   {
    "duration": 407,
    "start_time": "2023-06-13T05:29:10.583Z"
   },
   {
    "duration": 417,
    "start_time": "2023-06-13T05:29:10.991Z"
   },
   {
    "duration": 9,
    "start_time": "2023-06-13T05:29:11.410Z"
   },
   {
    "duration": 440,
    "start_time": "2023-06-13T05:29:11.421Z"
   },
   {
    "duration": 12,
    "start_time": "2023-06-13T05:29:11.864Z"
   },
   {
    "duration": 85,
    "start_time": "2023-06-13T05:29:11.878Z"
   },
   {
    "duration": 277,
    "start_time": "2023-06-13T05:29:11.965Z"
   },
   {
    "duration": 67,
    "start_time": "2023-06-13T05:29:12.244Z"
   },
   {
    "duration": 12,
    "start_time": "2023-06-13T05:29:12.313Z"
   },
   {
    "duration": 308,
    "start_time": "2023-06-13T05:29:12.327Z"
   },
   {
    "duration": 65,
    "start_time": "2023-06-13T05:29:12.637Z"
   },
   {
    "duration": 29,
    "start_time": "2023-06-13T05:29:12.704Z"
   },
   {
    "duration": 92,
    "start_time": "2023-06-13T05:29:12.735Z"
   },
   {
    "duration": 39,
    "start_time": "2023-06-13T05:29:12.829Z"
   },
   {
    "duration": 272,
    "start_time": "2023-06-13T05:29:12.870Z"
   },
   {
    "duration": 20,
    "start_time": "2023-06-13T05:29:13.143Z"
   },
   {
    "duration": 4519,
    "start_time": "2023-06-13T05:29:13.165Z"
   },
   {
    "duration": 25,
    "start_time": "2023-06-13T05:29:17.685Z"
   },
   {
    "duration": 56,
    "start_time": "2023-06-13T05:29:17.712Z"
   },
   {
    "duration": 311,
    "start_time": "2023-06-13T05:29:17.770Z"
   },
   {
    "duration": 287,
    "start_time": "2023-06-13T05:29:18.083Z"
   },
   {
    "duration": 411,
    "start_time": "2023-06-13T05:29:18.372Z"
   },
   {
    "duration": 55,
    "start_time": "2023-06-13T05:29:18.785Z"
   },
   {
    "duration": 52,
    "start_time": "2023-06-13T05:29:18.843Z"
   },
   {
    "duration": 61,
    "start_time": "2023-06-13T05:29:18.900Z"
   },
   {
    "duration": 105,
    "start_time": "2023-06-13T05:29:18.963Z"
   },
   {
    "duration": 4,
    "start_time": "2023-06-13T05:29:19.069Z"
   },
   {
    "duration": 13,
    "start_time": "2023-06-13T05:29:19.075Z"
   },
   {
    "duration": 17,
    "start_time": "2023-06-13T05:29:19.090Z"
   },
   {
    "duration": 5,
    "start_time": "2023-06-13T05:29:19.109Z"
   },
   {
    "duration": 11,
    "start_time": "2023-06-13T05:29:19.115Z"
   },
   {
    "duration": 56,
    "start_time": "2023-06-13T05:29:19.132Z"
   },
   {
    "duration": 4,
    "start_time": "2023-06-13T05:29:19.191Z"
   },
   {
    "duration": 11,
    "start_time": "2023-06-13T05:29:19.196Z"
   },
   {
    "duration": 15,
    "start_time": "2023-06-13T05:29:19.209Z"
   },
   {
    "duration": 463,
    "start_time": "2023-06-13T05:29:19.226Z"
   },
   {
    "duration": 11,
    "start_time": "2023-06-13T05:29:19.691Z"
   },
   {
    "duration": 11,
    "start_time": "2023-06-13T05:29:19.704Z"
   },
   {
    "duration": 11,
    "start_time": "2023-06-13T05:29:19.717Z"
   },
   {
    "duration": 67,
    "start_time": "2023-06-13T05:29:19.755Z"
   },
   {
    "duration": 1034,
    "start_time": "2023-06-13T05:29:19.823Z"
   },
   {
    "duration": 1602,
    "start_time": "2023-06-13T05:29:20.859Z"
   },
   {
    "duration": 1509,
    "start_time": "2023-06-13T05:29:22.555Z"
   },
   {
    "duration": 2324,
    "start_time": "2023-06-13T05:29:24.066Z"
   },
   {
    "duration": 2317,
    "start_time": "2023-06-13T05:29:26.392Z"
   },
   {
    "duration": 213551,
    "start_time": "2023-06-13T05:29:28.711Z"
   },
   {
    "duration": 20853,
    "start_time": "2023-06-13T05:33:02.264Z"
   },
   {
    "duration": 50445,
    "start_time": "2023-06-13T05:33:23.118Z"
   },
   {
    "duration": 194,
    "start_time": "2023-06-13T05:34:13.564Z"
   },
   {
    "duration": 101,
    "start_time": "2023-06-13T05:34:13.760Z"
   },
   {
    "duration": 94,
    "start_time": "2023-06-13T05:34:13.863Z"
   },
   {
    "duration": 108,
    "start_time": "2023-06-13T05:34:13.958Z"
   },
   {
    "duration": 7,
    "start_time": "2023-06-13T05:34:14.067Z"
   },
   {
    "duration": 8,
    "start_time": "2023-06-13T05:34:14.076Z"
   },
   {
    "duration": 17,
    "start_time": "2023-06-13T05:34:14.085Z"
   },
   {
    "duration": 100,
    "start_time": "2023-06-13T05:34:14.103Z"
   },
   {
    "duration": 7,
    "start_time": "2023-06-13T05:34:14.204Z"
   },
   {
    "duration": 4,
    "start_time": "2023-06-13T05:34:14.213Z"
   },
   {
    "duration": 6,
    "start_time": "2023-06-13T05:34:14.218Z"
   },
   {
    "duration": 16221,
    "start_time": "2023-06-13T05:34:14.226Z"
   },
   {
    "duration": 181,
    "start_time": "2023-06-13T05:34:30.449Z"
   },
   {
    "duration": 13,
    "start_time": "2023-06-13T05:34:30.632Z"
   },
   {
    "duration": 50,
    "start_time": "2023-06-13T05:34:30.647Z"
   },
   {
    "duration": 5022,
    "start_time": "2023-06-13T05:34:30.699Z"
   },
   {
    "duration": 48,
    "start_time": "2023-06-13T05:34:35.723Z"
   },
   {
    "duration": 8,
    "start_time": "2023-06-13T05:34:35.773Z"
   },
   {
    "duration": 20,
    "start_time": "2023-06-13T05:34:35.783Z"
   },
   {
    "duration": 10565,
    "start_time": "2023-06-13T05:34:35.805Z"
   },
   {
    "duration": 388,
    "start_time": "2023-06-13T05:34:46.371Z"
   },
   {
    "duration": 3,
    "start_time": "2023-06-13T05:34:46.761Z"
   },
   {
    "duration": 8,
    "start_time": "2023-06-13T05:34:46.766Z"
   },
   {
    "duration": 82,
    "start_time": "2023-06-13T05:34:46.775Z"
   }
  ],
  "kernelspec": {
   "display_name": "Python 3 (ipykernel)",
   "language": "python",
   "name": "python3"
  },
  "language_info": {
   "codemirror_mode": {
    "name": "ipython",
    "version": 3
   },
   "file_extension": ".py",
   "mimetype": "text/x-python",
   "name": "python",
   "nbconvert_exporter": "python",
   "pygments_lexer": "ipython3",
   "version": "3.10.9"
  },
  "toc": {
   "base_numbering": 1,
   "nav_menu": {},
   "number_sections": true,
   "sideBar": true,
   "skip_h1_title": true,
   "title_cell": "Table of Contents",
   "title_sidebar": "Contents",
   "toc_cell": false,
   "toc_position": {
    "height": "calc(100% - 180px)",
    "left": "10px",
    "top": "150px",
    "width": "328.188px"
   },
   "toc_section_display": true,
   "toc_window_display": true
  }
 },
 "nbformat": 4,
 "nbformat_minor": 2
}
