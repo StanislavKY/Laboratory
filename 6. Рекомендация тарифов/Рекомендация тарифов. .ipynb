{
 "cells": [
  {
   "cell_type": "markdown",
   "metadata": {},
   "source": [
    "# Рекомендация тарифов"
   ]
  },
  {
   "cell_type": "markdown",
   "metadata": {},
   "source": [
    "В вашем распоряжении данные о поведении клиентов, которые уже перешли на эти тарифы (из проекта курса «Статистический анализ данных»). Нужно построить модель для задачи классификации, которая выберет подходящий тариф. Предобработка данных не понадобится — вы её уже сделали.\n",
    "\n",
    "Постройте модель с максимально большим значением *accuracy*. Чтобы сдать проект успешно, нужно довести долю правильных ответов по крайней мере до 0.75. Проверьте *accuracy* на тестовой выборке самостоятельно."
   ]
  },
  {
   "cell_type": "markdown",
   "metadata": {},
   "source": [
    "## Откройте и изучите файл"
   ]
  },
  {
   "cell_type": "code",
   "execution_count": 8,
   "metadata": {
    "scrolled": true
   },
   "outputs": [],
   "source": [
    "import pandas as pd \n",
    "\n",
    "from sklearn.tree import DecisionTreeClassifier\n",
    "from sklearn.linear_model import LogisticRegression\n",
    "from sklearn.ensemble import RandomForestClassifier\n",
    "from sklearn.metrics import mean_squared_error\n",
    "from sklearn.model_selection import train_test_split\n",
    "\n",
    "from tqdm import tqdm"
   ]
  },
  {
   "cell_type": "code",
   "execution_count": 9,
   "metadata": {},
   "outputs": [
    {
     "name": "stdout",
     "output_type": "stream",
     "text": [
      "   calls  minutes  messages   mb_used  is_ultra\n",
      "0   40.0   311.90      83.0  19915.42         0\n",
      "1   85.0   516.75      56.0  22696.96         0\n",
      "2   77.0   467.66      86.0  21060.45         0\n",
      "3  106.0   745.53      81.0   8437.39         1\n",
      "4   66.0   418.74       1.0  14502.75         0\n"
     ]
    }
   ],
   "source": [
    "try: \n",
    "    df = pd.read_csv('/datasets/users_behavior.csv')\n",
    "except: \n",
    "    df = pd.read_csv(r'C:\\Users\\QWE\\Downloads\\users_behavior.csv')\n",
    "\n",
    "print(df.head(5))"
   ]
  },
  {
   "cell_type": "code",
   "execution_count": 10,
   "metadata": {
    "scrolled": false
   },
   "outputs": [
    {
     "name": "stdout",
     "output_type": "stream",
     "text": [
      "<class 'pandas.core.frame.DataFrame'>\n",
      "RangeIndex: 3214 entries, 0 to 3213\n",
      "Data columns (total 5 columns):\n",
      " #   Column    Non-Null Count  Dtype  \n",
      "---  ------    --------------  -----  \n",
      " 0   calls     3214 non-null   float64\n",
      " 1   minutes   3214 non-null   float64\n",
      " 2   messages  3214 non-null   float64\n",
      " 3   mb_used   3214 non-null   float64\n",
      " 4   is_ultra  3214 non-null   int64  \n",
      "dtypes: float64(4), int64(1)\n",
      "memory usage: 125.7 KB\n"
     ]
    }
   ],
   "source": [
    "df.info() #Общая информация\n",
    "# В задании указано что данные обработаны и предобработка данных не понадобится "
   ]
  },
  {
   "cell_type": "code",
   "execution_count": 11,
   "metadata": {
    "scrolled": true
   },
   "outputs": [
    {
     "name": "stdout",
     "output_type": "stream",
     "text": [
      "   calls  minutes  messages   mb_used  is_ultra\n",
      "0   40.0   311.90        83  19915.42         0\n",
      "1   85.0   516.75        56  22696.96         0\n",
      "2   77.0   467.66        86  21060.45         0\n",
      "3  106.0   745.53        81   8437.39         1\n",
      "4   66.0   418.74         1  14502.75         0\n"
     ]
    }
   ],
   "source": [
    "df['messages'] = df['messages'].astype('int') #Для наглядности меняем тип данных \n",
    "print(df.head(5))"
   ]
  },
  {
   "cell_type": "code",
   "execution_count": 12,
   "metadata": {},
   "outputs": [
    {
     "data": {
      "text/html": [
       "<div>\n",
       "<style scoped>\n",
       "    .dataframe tbody tr th:only-of-type {\n",
       "        vertical-align: middle;\n",
       "    }\n",
       "\n",
       "    .dataframe tbody tr th {\n",
       "        vertical-align: top;\n",
       "    }\n",
       "\n",
       "    .dataframe thead th {\n",
       "        text-align: right;\n",
       "    }\n",
       "</style>\n",
       "<table border=\"1\" class=\"dataframe\">\n",
       "  <thead>\n",
       "    <tr style=\"text-align: right;\">\n",
       "      <th></th>\n",
       "      <th>calls</th>\n",
       "      <th>minutes</th>\n",
       "      <th>messages</th>\n",
       "      <th>mb_used</th>\n",
       "      <th>is_ultra</th>\n",
       "    </tr>\n",
       "  </thead>\n",
       "  <tbody>\n",
       "    <tr>\n",
       "      <th>count</th>\n",
       "      <td>3214.000000</td>\n",
       "      <td>3214.000000</td>\n",
       "      <td>3214.000000</td>\n",
       "      <td>3214.000000</td>\n",
       "      <td>3214.000000</td>\n",
       "    </tr>\n",
       "    <tr>\n",
       "      <th>mean</th>\n",
       "      <td>63.038892</td>\n",
       "      <td>438.208787</td>\n",
       "      <td>38.281269</td>\n",
       "      <td>17207.673836</td>\n",
       "      <td>0.306472</td>\n",
       "    </tr>\n",
       "    <tr>\n",
       "      <th>std</th>\n",
       "      <td>33.236368</td>\n",
       "      <td>234.569872</td>\n",
       "      <td>36.148326</td>\n",
       "      <td>7570.968246</td>\n",
       "      <td>0.461100</td>\n",
       "    </tr>\n",
       "    <tr>\n",
       "      <th>min</th>\n",
       "      <td>0.000000</td>\n",
       "      <td>0.000000</td>\n",
       "      <td>0.000000</td>\n",
       "      <td>0.000000</td>\n",
       "      <td>0.000000</td>\n",
       "    </tr>\n",
       "    <tr>\n",
       "      <th>25%</th>\n",
       "      <td>40.000000</td>\n",
       "      <td>274.575000</td>\n",
       "      <td>9.000000</td>\n",
       "      <td>12491.902500</td>\n",
       "      <td>0.000000</td>\n",
       "    </tr>\n",
       "    <tr>\n",
       "      <th>50%</th>\n",
       "      <td>62.000000</td>\n",
       "      <td>430.600000</td>\n",
       "      <td>30.000000</td>\n",
       "      <td>16943.235000</td>\n",
       "      <td>0.000000</td>\n",
       "    </tr>\n",
       "    <tr>\n",
       "      <th>75%</th>\n",
       "      <td>82.000000</td>\n",
       "      <td>571.927500</td>\n",
       "      <td>57.000000</td>\n",
       "      <td>21424.700000</td>\n",
       "      <td>1.000000</td>\n",
       "    </tr>\n",
       "    <tr>\n",
       "      <th>max</th>\n",
       "      <td>244.000000</td>\n",
       "      <td>1632.060000</td>\n",
       "      <td>224.000000</td>\n",
       "      <td>49745.730000</td>\n",
       "      <td>1.000000</td>\n",
       "    </tr>\n",
       "  </tbody>\n",
       "</table>\n",
       "</div>"
      ],
      "text/plain": [
       "             calls      minutes     messages       mb_used     is_ultra\n",
       "count  3214.000000  3214.000000  3214.000000   3214.000000  3214.000000\n",
       "mean     63.038892   438.208787    38.281269  17207.673836     0.306472\n",
       "std      33.236368   234.569872    36.148326   7570.968246     0.461100\n",
       "min       0.000000     0.000000     0.000000      0.000000     0.000000\n",
       "25%      40.000000   274.575000     9.000000  12491.902500     0.000000\n",
       "50%      62.000000   430.600000    30.000000  16943.235000     0.000000\n",
       "75%      82.000000   571.927500    57.000000  21424.700000     1.000000\n",
       "max     244.000000  1632.060000   224.000000  49745.730000     1.000000"
      ]
     },
     "execution_count": 12,
     "metadata": {},
     "output_type": "execute_result"
    }
   ],
   "source": [
    "df.describe()"
   ]
  },
  {
   "cell_type": "markdown",
   "metadata": {},
   "source": [
    "## Разбейте данные на выборки"
   ]
  },
  {
   "cell_type": "code",
   "execution_count": 13,
   "metadata": {},
   "outputs": [],
   "source": [
    "df_train, df_valid_test = train_test_split(df, test_size=0.4, random_state=12345)\n",
    "\n",
    "#Разбиваем на обучающую и валидо-тестовую V2"
   ]
  },
  {
   "cell_type": "code",
   "execution_count": 14,
   "metadata": {},
   "outputs": [],
   "source": [
    "df_valid, df_test = train_test_split(df_valid_test, test_size=0.5, random_state=12345)\n",
    "#Разбиваем на валидоционную и тестовую выборки пополам v2"
   ]
  },
  {
   "cell_type": "code",
   "execution_count": 15,
   "metadata": {},
   "outputs": [],
   "source": [
    "train_features = df_train.drop(['is_ultra'], axis=1)\n",
    "train_target = df_train['is_ultra']\n",
    "valid_features = df_valid.drop(['is_ultra'], axis=1)\n",
    "valid_target = df_valid['is_ultra']\n",
    "test_features = df_test.drop(['is_ultra'], axis=1)\n",
    "test_target = df_test['is_ultra']\n",
    "#выделяем признаки и цель V2"
   ]
  },
  {
   "cell_type": "code",
   "execution_count": 16,
   "metadata": {},
   "outputs": [
    {
     "data": {
      "text/plain": [
       "(3214, 5)"
      ]
     },
     "execution_count": 16,
     "metadata": {},
     "output_type": "execute_result"
    }
   ],
   "source": [
    "df.shape"
   ]
  },
  {
   "cell_type": "code",
   "execution_count": 17,
   "metadata": {},
   "outputs": [
    {
     "data": {
      "text/plain": [
       "(1928, 5)"
      ]
     },
     "execution_count": 17,
     "metadata": {},
     "output_type": "execute_result"
    }
   ],
   "source": [
    "df_train.shape #60% от изначального фрейма\n"
   ]
  },
  {
   "cell_type": "code",
   "execution_count": 18,
   "metadata": {},
   "outputs": [
    {
     "data": {
      "text/plain": [
       "(1286, 5)"
      ]
     },
     "execution_count": 18,
     "metadata": {},
     "output_type": "execute_result"
    }
   ],
   "source": [
    "df_valid_test.shape  #40% от изначального фрейма и делим его пополам далее"
   ]
  },
  {
   "cell_type": "code",
   "execution_count": 19,
   "metadata": {},
   "outputs": [
    {
     "data": {
      "text/plain": [
       "(643, 5)"
      ]
     },
     "execution_count": 19,
     "metadata": {},
     "output_type": "execute_result"
    }
   ],
   "source": [
    "df_valid.shape # OK!"
   ]
  },
  {
   "cell_type": "markdown",
   "metadata": {},
   "source": [
    "## Исследуйте модели"
   ]
  },
  {
   "cell_type": "markdown",
   "metadata": {},
   "source": [
    "Модель RandomForestRegressor"
   ]
  },
  {
   "cell_type": "code",
   "execution_count": 20,
   "metadata": {
    "scrolled": true
   },
   "outputs": [
    {
     "name": "stdout",
     "output_type": "stream",
     "text": [
      "Количество деревьев: 35 Максимальная глубина: 6 мин. объектов в узле: 2\n",
      "Качество 0.8087091757387247\n",
      "CPU times: total: 17.1 s\n",
      "Wall time: 19.2 s\n"
     ]
    }
   ],
   "source": [
    "%%time\n",
    "\n",
    "best_accuracy = 0 \n",
    "best_depth = 0 \n",
    "\n",
    "for depth in range (1, 11):\n",
    "    for est in range(5, 51, 5):\n",
    "        for sample in range(2,5):\n",
    "            model = RandomForestClassifier(random_state=12345,n_estimators=est, max_depth=depth, min_samples_leaf=sample) \n",
    "            model.fit(train_features, train_target)\n",
    "            accuracy = model.score(valid_features, valid_target)\n",
    "            if accuracy > best_accuracy: \n",
    "                best_accuracy = accuracy\n",
    "                best_depth = depth\n",
    "                best_est = est\n",
    "                best_sample = sample\n",
    "                           \n",
    "\n",
    "print('Количество деревьев:', best_est, 'Максимальная глубина:', best_depth, 'мин. объектов в узле:', best_sample )\n",
    "print('Качество', best_accuracy)"
   ]
  },
  {
   "cell_type": "markdown",
   "metadata": {},
   "source": [
    "<b> Модель DecisionTreeClassifier </b>"
   ]
  },
  {
   "cell_type": "code",
   "execution_count": 21,
   "metadata": {
    "scrolled": true
   },
   "outputs": [
    {
     "name": "stdout",
     "output_type": "stream",
     "text": [
      "Глубина дерева: 3\n",
      "Качество 0.7853810264385692\n",
      "CPU times: total: 62.5 ms\n",
      "Wall time: 74 ms\n"
     ]
    }
   ],
   "source": [
    "%%time\n",
    "best_accuracy = 0 \n",
    "best_depth = 0 \n",
    "\n",
    "for depth in range(1,15):\n",
    "    model = DecisionTreeClassifier(max_depth=depth, random_state=12345)\n",
    "    model.fit(train_features, train_target)\n",
    "    accuracy= model.score(valid_features, valid_target)\n",
    "    if accuracy > best_accuracy: \n",
    "        best_accuracy = accuracy\n",
    "        best_depth = depth       \n",
    "               \n",
    "    \n",
    "print('Глубина дерева:', best_depth)\n",
    "print('Качество', best_accuracy)"
   ]
  },
  {
   "cell_type": "markdown",
   "metadata": {},
   "source": [
    "<b> Модель LogisticRegression</b>"
   ]
  },
  {
   "cell_type": "code",
   "execution_count": 22,
   "metadata": {},
   "outputs": [
    {
     "name": "stdout",
     "output_type": "stream",
     "text": [
      "Качество 0.7107309486780715\n",
      "CPU times: total: 15.6 ms\n",
      "Wall time: 30.9 ms\n"
     ]
    }
   ],
   "source": [
    "%%time\n",
    "model = LogisticRegression(solver='lbfgs')    \n",
    "model.fit(train_features, train_target)  \n",
    "accuracy = model.score(valid_features, valid_target)\n",
    "\n",
    "print('Качество', accuracy)"
   ]
  },
  {
   "cell_type": "markdown",
   "metadata": {},
   "source": [
    "## Проверьте модель на тестовой выборке"
   ]
  },
  {
   "cell_type": "code",
   "execution_count": 23,
   "metadata": {},
   "outputs": [
    {
     "name": "stdout",
     "output_type": "stream",
     "text": [
      "Качество: 0.7962674961119751\n"
     ]
    }
   ],
   "source": [
    "model = RandomForestClassifier(n_estimators=35, max_depth=6, min_samples_leaf=2, random_state=12345 )\n",
    "model.fit(train_features, train_target)\n",
    "accuracy = model.score(test_features, test_target)\n",
    "print('Качество:', accuracy)"
   ]
  },
  {
   "cell_type": "code",
   "execution_count": 24,
   "metadata": {
    "scrolled": false
   },
   "outputs": [
    {
     "name": "stdout",
     "output_type": "stream",
     "text": [
      "Качество: 0.7916018662519441\n"
     ]
    }
   ],
   "source": [
    "model = RandomForestClassifier(n_estimators=35, max_depth=6, min_samples_leaf=2, random_state=12345 )\n",
    "train_valid_df = pd.concat([df_train, df_valid], ignore_index=True)\n",
    "train_valid_features = train_valid_df.drop(['is_ultra'], axis=1)\n",
    "train_valid_target = train_valid_df['is_ultra']\n",
    "model.fit(train_valid_features, train_valid_target)\n",
    "accuracy = model.score(test_features, test_target)\n",
    "print('Качество:', accuracy)"
   ]
  },
  {
   "cell_type": "markdown",
   "metadata": {},
   "source": [
    "Вывод о работе с данными: В ходе анализа и работы с данными были применены три модели обучения с вычисляющмися в цикле гиперпараметрами моделей. RandomForest показал наилучшую эффективность accuracy 0.796 на тестовой выборке. LogisticRegression, DecisionTreeClassifier показали результаты хуже - 0.68 и 0.76 соответственно на тестовых выборках. Чтобы улучшать модели возможно потребуются более расширенные значения гиперпараметров и добавление новых признаков по клиентам."
   ]
  },
  {
   "cell_type": "code",
   "execution_count": null,
   "metadata": {},
   "outputs": [],
   "source": []
  }
 ],
 "metadata": {
  "ExecuteTimeLog": [
   {
    "duration": 493,
    "start_time": "2023-04-06T11:58:00.913Z"
   },
   {
    "duration": 69,
    "start_time": "2023-04-06T12:00:33.622Z"
   },
   {
    "duration": 755,
    "start_time": "2023-04-06T12:00:45.021Z"
   },
   {
    "duration": 7,
    "start_time": "2023-04-06T12:00:47.864Z"
   },
   {
    "duration": 29,
    "start_time": "2023-04-06T12:01:57.883Z"
   },
   {
    "duration": 43,
    "start_time": "2023-04-06T12:02:28.404Z"
   },
   {
    "duration": 73,
    "start_time": "2023-04-06T12:02:46.345Z"
   },
   {
    "duration": 8,
    "start_time": "2023-04-06T12:02:46.765Z"
   },
   {
    "duration": 4310,
    "start_time": "2023-04-06T12:02:49.676Z"
   },
   {
    "duration": 15,
    "start_time": "2023-04-06T12:04:17.655Z"
   },
   {
    "duration": 30,
    "start_time": "2023-04-06T12:04:27.475Z"
   },
   {
    "duration": 30,
    "start_time": "2023-04-06T12:04:28.842Z"
   },
   {
    "duration": 8,
    "start_time": "2023-04-06T12:04:29.140Z"
   },
   {
    "duration": 4426,
    "start_time": "2023-04-06T12:04:29.586Z"
   },
   {
    "duration": 12,
    "start_time": "2023-04-06T12:04:34.015Z"
   },
   {
    "duration": 3042,
    "start_time": "2023-04-06T12:05:43.060Z"
   },
   {
    "duration": 874,
    "start_time": "2023-04-06T12:05:56.048Z"
   },
   {
    "duration": 4949,
    "start_time": "2023-04-06T12:06:04.039Z"
   },
   {
    "duration": 2530,
    "start_time": "2023-04-06T12:06:14.787Z"
   },
   {
    "duration": 13,
    "start_time": "2023-04-06T12:10:49.870Z"
   },
   {
    "duration": 922,
    "start_time": "2023-04-06T12:11:39.271Z"
   },
   {
    "duration": 30,
    "start_time": "2023-04-06T12:11:46.775Z"
   },
   {
    "duration": 11,
    "start_time": "2023-04-06T12:11:47.256Z"
   },
   {
    "duration": 790,
    "start_time": "2023-04-06T12:11:47.447Z"
   },
   {
    "duration": 3,
    "start_time": "2023-04-06T12:12:01.963Z"
   },
   {
    "duration": 6,
    "start_time": "2023-04-06T12:12:10.970Z"
   },
   {
    "duration": 7,
    "start_time": "2023-04-06T12:13:30.704Z"
   },
   {
    "duration": 6,
    "start_time": "2023-04-06T12:13:45.301Z"
   },
   {
    "duration": 2617,
    "start_time": "2023-04-06T12:13:46.756Z"
   },
   {
    "duration": 9,
    "start_time": "2023-04-06T12:13:51.075Z"
   },
   {
    "duration": 10,
    "start_time": "2023-04-06T12:15:31.089Z"
   },
   {
    "duration": 2603,
    "start_time": "2023-04-06T12:15:32.112Z"
   },
   {
    "duration": 11,
    "start_time": "2023-04-06T12:15:34.717Z"
   },
   {
    "duration": 3029,
    "start_time": "2023-04-06T12:15:53.152Z"
   },
   {
    "duration": 5,
    "start_time": "2023-04-06T12:17:20.324Z"
   },
   {
    "duration": 5,
    "start_time": "2023-04-06T12:17:22.760Z"
   },
   {
    "duration": 3539,
    "start_time": "2023-04-06T12:17:25.076Z"
   },
   {
    "duration": 23,
    "start_time": "2023-04-06T12:17:31.038Z"
   },
   {
    "duration": 11,
    "start_time": "2023-04-06T12:19:12.172Z"
   },
   {
    "duration": 10,
    "start_time": "2023-04-06T12:19:33.260Z"
   },
   {
    "duration": 12,
    "start_time": "2023-04-06T12:20:27.653Z"
   },
   {
    "duration": 12,
    "start_time": "2023-04-06T12:20:52.681Z"
   },
   {
    "duration": 11,
    "start_time": "2023-04-06T12:21:22.585Z"
   },
   {
    "duration": 10,
    "start_time": "2023-04-06T12:21:40.581Z"
   },
   {
    "duration": 30,
    "start_time": "2023-04-06T12:21:57.009Z"
   },
   {
    "duration": 13,
    "start_time": "2023-04-06T12:21:57.998Z"
   },
   {
    "duration": 31,
    "start_time": "2023-04-06T12:21:58.168Z"
   },
   {
    "duration": 13,
    "start_time": "2023-04-06T12:21:58.349Z"
   },
   {
    "duration": 13,
    "start_time": "2023-04-06T12:21:58.499Z"
   },
   {
    "duration": 33,
    "start_time": "2023-04-06T12:22:00.336Z"
   },
   {
    "duration": 12,
    "start_time": "2023-04-06T12:22:00.472Z"
   },
   {
    "duration": 7,
    "start_time": "2023-04-06T12:22:00.626Z"
   },
   {
    "duration": 9,
    "start_time": "2023-04-06T12:22:00.909Z"
   },
   {
    "duration": 5,
    "start_time": "2023-04-06T12:22:01.046Z"
   },
   {
    "duration": 3472,
    "start_time": "2023-04-06T12:22:01.762Z"
   },
   {
    "duration": 29,
    "start_time": "2023-04-06T12:22:05.236Z"
   },
   {
    "duration": 304,
    "start_time": "2023-04-06T12:22:05.267Z"
   },
   {
    "duration": 100,
    "start_time": "2023-04-06T12:22:05.663Z"
   },
   {
    "duration": 3587,
    "start_time": "2023-04-06T12:22:39.036Z"
   },
   {
    "duration": 3436,
    "start_time": "2023-04-06T12:22:49.853Z"
   },
   {
    "duration": 11239,
    "start_time": "2023-04-06T12:29:38.130Z"
   },
   {
    "duration": 10481,
    "start_time": "2023-04-06T12:31:16.675Z"
   },
   {
    "duration": 10493,
    "start_time": "2023-04-06T12:31:35.152Z"
   },
   {
    "duration": 9706,
    "start_time": "2023-04-06T12:32:01.271Z"
   },
   {
    "duration": 13,
    "start_time": "2023-04-06T12:35:07.612Z"
   },
   {
    "duration": 30,
    "start_time": "2023-04-06T12:35:27.355Z"
   },
   {
    "duration": 12,
    "start_time": "2023-04-06T12:35:27.844Z"
   },
   {
    "duration": 8,
    "start_time": "2023-04-06T12:35:27.998Z"
   },
   {
    "duration": 8,
    "start_time": "2023-04-06T12:35:28.300Z"
   },
   {
    "duration": 4,
    "start_time": "2023-04-06T12:35:28.438Z"
   },
   {
    "duration": 10217,
    "start_time": "2023-04-06T12:35:28.884Z"
   },
   {
    "duration": 157,
    "start_time": "2023-04-06T12:35:39.104Z"
   },
   {
    "duration": 198,
    "start_time": "2023-04-06T12:35:39.264Z"
   },
   {
    "duration": 996,
    "start_time": "2023-04-06T12:35:39.465Z"
   },
   {
    "duration": 138,
    "start_time": "2023-04-06T12:36:11.993Z"
   },
   {
    "duration": 29703,
    "start_time": "2023-04-06T12:40:41.740Z"
   },
   {
    "duration": 49,
    "start_time": "2023-04-06T12:43:46.009Z"
   },
   {
    "duration": 129,
    "start_time": "2023-04-06T12:43:48.411Z"
   },
   {
    "duration": 28100,
    "start_time": "2023-04-06T12:44:01.879Z"
   },
   {
    "duration": 27636,
    "start_time": "2023-04-06T12:45:56.101Z"
   },
   {
    "duration": 8,
    "start_time": "2023-04-06T12:48:30.324Z"
   },
   {
    "duration": 16,
    "start_time": "2023-04-06T12:48:44.561Z"
   },
   {
    "duration": 9,
    "start_time": "2023-04-06T12:48:58.907Z"
   },
   {
    "duration": 34,
    "start_time": "2023-04-06T12:49:01.040Z"
   },
   {
    "duration": 40,
    "start_time": "2023-04-06T12:49:01.077Z"
   },
   {
    "duration": 84,
    "start_time": "2023-04-06T12:49:01.119Z"
   },
   {
    "duration": 71,
    "start_time": "2023-04-06T12:49:01.205Z"
   },
   {
    "duration": 35,
    "start_time": "2023-04-06T12:49:01.278Z"
   },
   {
    "duration": 83,
    "start_time": "2023-04-06T12:49:01.315Z"
   },
   {
    "duration": 0,
    "start_time": "2023-04-06T12:49:01.400Z"
   },
   {
    "duration": 0,
    "start_time": "2023-04-06T12:49:01.401Z"
   },
   {
    "duration": 0,
    "start_time": "2023-04-06T12:49:01.402Z"
   },
   {
    "duration": 24,
    "start_time": "2023-04-06T12:49:15.699Z"
   },
   {
    "duration": 17,
    "start_time": "2023-04-06T12:49:59.038Z"
   },
   {
    "duration": 22548,
    "start_time": "2023-04-06T12:51:10.431Z"
   },
   {
    "duration": 22,
    "start_time": "2023-04-06T12:54:24.634Z"
   },
   {
    "duration": 29,
    "start_time": "2023-04-06T12:54:33.961Z"
   },
   {
    "duration": 24387,
    "start_time": "2023-04-06T12:54:42.132Z"
   },
   {
    "duration": 24575,
    "start_time": "2023-04-06T12:56:08.633Z"
   },
   {
    "duration": 46,
    "start_time": "2023-04-06T12:58:17.061Z"
   },
   {
    "duration": 111,
    "start_time": "2023-04-06T12:58:27.255Z"
   },
   {
    "duration": 39,
    "start_time": "2023-04-06T12:58:44.642Z"
   },
   {
    "duration": 41,
    "start_time": "2023-04-06T12:58:51.232Z"
   },
   {
    "duration": 27,
    "start_time": "2023-04-06T12:58:59.371Z"
   },
   {
    "duration": 24644,
    "start_time": "2023-04-06T13:00:35.680Z"
   },
   {
    "duration": 9,
    "start_time": "2023-04-06T13:01:33.832Z"
   },
   {
    "duration": 9,
    "start_time": "2023-04-06T13:01:42.693Z"
   },
   {
    "duration": 6,
    "start_time": "2023-04-06T13:02:29.889Z"
   },
   {
    "duration": 4,
    "start_time": "2023-04-06T13:02:53.950Z"
   },
   {
    "duration": 24258,
    "start_time": "2023-04-06T13:02:58.689Z"
   },
   {
    "duration": 24744,
    "start_time": "2023-04-06T13:03:35.023Z"
   },
   {
    "duration": 115,
    "start_time": "2023-04-06T13:06:00.213Z"
   },
   {
    "duration": 11,
    "start_time": "2023-04-06T13:06:01.746Z"
   },
   {
    "duration": 29,
    "start_time": "2023-04-06T13:06:04.935Z"
   },
   {
    "duration": 27,
    "start_time": "2023-04-06T13:06:11.552Z"
   },
   {
    "duration": 14,
    "start_time": "2023-04-06T13:06:13.980Z"
   },
   {
    "duration": 28,
    "start_time": "2023-04-06T13:07:12.376Z"
   },
   {
    "duration": 14,
    "start_time": "2023-04-06T13:07:14.022Z"
   },
   {
    "duration": 110,
    "start_time": "2023-04-06T13:07:15.415Z"
   },
   {
    "duration": 13,
    "start_time": "2023-04-06T13:07:59.212Z"
   },
   {
    "duration": 11,
    "start_time": "2023-04-06T13:08:30.513Z"
   },
   {
    "duration": 30,
    "start_time": "2023-04-06T13:09:43.303Z"
   },
   {
    "duration": 12,
    "start_time": "2023-04-06T13:09:43.621Z"
   },
   {
    "duration": 8,
    "start_time": "2023-04-06T13:09:43.852Z"
   },
   {
    "duration": 6,
    "start_time": "2023-04-06T13:09:44.185Z"
   },
   {
    "duration": 6,
    "start_time": "2023-04-06T13:09:44.338Z"
   },
   {
    "duration": 7,
    "start_time": "2023-04-06T13:09:44.516Z"
   },
   {
    "duration": 22626,
    "start_time": "2023-04-06T13:10:09.775Z"
   },
   {
    "duration": 118,
    "start_time": "2023-04-06T13:11:01.494Z"
   },
   {
    "duration": 127,
    "start_time": "2023-04-06T13:11:23.201Z"
   },
   {
    "duration": 115,
    "start_time": "2023-04-06T13:11:26.454Z"
   },
   {
    "duration": 30,
    "start_time": "2023-04-06T13:12:01.318Z"
   },
   {
    "duration": 27,
    "start_time": "2023-04-06T13:12:07.228Z"
   },
   {
    "duration": 29,
    "start_time": "2023-04-06T13:12:19.982Z"
   },
   {
    "duration": 28,
    "start_time": "2023-04-06T13:12:28.645Z"
   },
   {
    "duration": 28,
    "start_time": "2023-04-06T13:12:41.280Z"
   },
   {
    "duration": 26,
    "start_time": "2023-04-06T13:12:47.779Z"
   },
   {
    "duration": 34,
    "start_time": "2023-04-06T13:12:57.054Z"
   },
   {
    "duration": 27,
    "start_time": "2023-04-06T13:12:59.186Z"
   },
   {
    "duration": 121,
    "start_time": "2023-04-06T13:13:19.649Z"
   },
   {
    "duration": 116,
    "start_time": "2023-04-06T13:13:22.708Z"
   },
   {
    "duration": 39,
    "start_time": "2023-04-06T13:16:10.477Z"
   },
   {
    "duration": 37,
    "start_time": "2023-04-06T13:16:32.527Z"
   },
   {
    "duration": 27,
    "start_time": "2023-04-06T13:16:47.823Z"
   },
   {
    "duration": 33,
    "start_time": "2023-04-06T13:17:02.042Z"
   },
   {
    "duration": 26,
    "start_time": "2023-04-06T13:17:06.783Z"
   },
   {
    "duration": 31,
    "start_time": "2023-04-06T13:17:24.691Z"
   },
   {
    "duration": 27,
    "start_time": "2023-04-06T13:17:31.026Z"
   },
   {
    "duration": 35,
    "start_time": "2023-04-06T13:17:37.142Z"
   },
   {
    "duration": 42,
    "start_time": "2023-04-06T13:17:49.111Z"
   },
   {
    "duration": 27,
    "start_time": "2023-04-06T13:18:29.989Z"
   },
   {
    "duration": 29,
    "start_time": "2023-04-06T13:18:39.898Z"
   },
   {
    "duration": 3,
    "start_time": "2023-04-06T13:19:55.660Z"
   },
   {
    "duration": 133,
    "start_time": "2023-04-06T13:20:19.785Z"
   },
   {
    "duration": 123,
    "start_time": "2023-04-06T13:20:45.644Z"
   },
   {
    "duration": 119,
    "start_time": "2023-04-06T13:20:55.117Z"
   },
   {
    "duration": 10,
    "start_time": "2023-04-06T13:22:31.947Z"
   },
   {
    "duration": 19,
    "start_time": "2023-04-06T13:22:35.084Z"
   },
   {
    "duration": 18,
    "start_time": "2023-04-06T13:23:00.644Z"
   },
   {
    "duration": 30,
    "start_time": "2023-04-06T13:24:11.483Z"
   },
   {
    "duration": 31,
    "start_time": "2023-04-06T13:24:12.543Z"
   },
   {
    "duration": 13,
    "start_time": "2023-04-06T13:24:12.576Z"
   },
   {
    "duration": 7,
    "start_time": "2023-04-06T13:24:12.591Z"
   },
   {
    "duration": 7,
    "start_time": "2023-04-06T13:24:12.600Z"
   },
   {
    "duration": 7,
    "start_time": "2023-04-06T13:24:12.608Z"
   },
   {
    "duration": 7,
    "start_time": "2023-04-06T13:24:12.617Z"
   },
   {
    "duration": 21821,
    "start_time": "2023-04-06T13:24:12.626Z"
   },
   {
    "duration": 119,
    "start_time": "2023-04-06T13:24:34.449Z"
   },
   {
    "duration": 25,
    "start_time": "2023-04-06T13:24:34.569Z"
   },
   {
    "duration": 144,
    "start_time": "2023-04-06T13:24:34.597Z"
   },
   {
    "duration": 23,
    "start_time": "2023-04-06T13:24:34.743Z"
   },
   {
    "duration": 26,
    "start_time": "2023-04-06T13:24:34.768Z"
   },
   {
    "duration": 31,
    "start_time": "2023-04-06T13:35:55.657Z"
   },
   {
    "duration": 6,
    "start_time": "2023-04-06T13:42:18.347Z"
   },
   {
    "duration": 5,
    "start_time": "2023-04-06T13:42:18.978Z"
   },
   {
    "duration": 5,
    "start_time": "2023-04-06T13:42:19.410Z"
   },
   {
    "duration": 25215,
    "start_time": "2023-04-06T13:42:20.806Z"
   },
   {
    "duration": 132,
    "start_time": "2023-04-06T13:42:46.023Z"
   },
   {
    "duration": 205,
    "start_time": "2023-04-06T13:42:46.157Z"
   },
   {
    "duration": 253,
    "start_time": "2023-04-06T13:42:46.368Z"
   },
   {
    "duration": 19,
    "start_time": "2023-04-06T13:42:46.622Z"
   },
   {
    "duration": 219,
    "start_time": "2023-04-06T13:42:46.643Z"
   },
   {
    "duration": 24137,
    "start_time": "2023-04-06T13:43:52.424Z"
   },
   {
    "duration": 71,
    "start_time": "2023-04-06T13:44:22.064Z"
   },
   {
    "duration": 67,
    "start_time": "2023-04-06T13:44:55.302Z"
   },
   {
    "duration": 18,
    "start_time": "2023-04-06T13:44:55.643Z"
   },
   {
    "duration": 139,
    "start_time": "2023-04-06T13:44:56.023Z"
   },
   {
    "duration": 7,
    "start_time": "2023-04-06T13:45:48.727Z"
   },
   {
    "duration": 5,
    "start_time": "2023-04-06T13:45:49.255Z"
   },
   {
    "duration": 5,
    "start_time": "2023-04-06T13:45:52.757Z"
   },
   {
    "duration": 21404,
    "start_time": "2023-04-06T13:45:53.998Z"
   },
   {
    "duration": 109,
    "start_time": "2023-04-06T13:46:15.404Z"
   },
   {
    "duration": 24,
    "start_time": "2023-04-06T13:46:15.514Z"
   },
   {
    "duration": 70,
    "start_time": "2023-04-06T13:46:15.540Z"
   },
   {
    "duration": 15,
    "start_time": "2023-04-06T13:46:15.612Z"
   },
   {
    "duration": 39,
    "start_time": "2023-04-06T13:46:15.628Z"
   },
   {
    "duration": 7,
    "start_time": "2023-04-06T13:49:17.704Z"
   },
   {
    "duration": 5,
    "start_time": "2023-04-06T13:49:18.059Z"
   },
   {
    "duration": 4,
    "start_time": "2023-04-06T13:49:18.352Z"
   },
   {
    "duration": 22032,
    "start_time": "2023-04-06T13:49:19.701Z"
   },
   {
    "duration": 114,
    "start_time": "2023-04-06T13:49:41.736Z"
   },
   {
    "duration": 32,
    "start_time": "2023-04-06T13:49:41.852Z"
   },
   {
    "duration": 136,
    "start_time": "2023-04-06T13:49:41.886Z"
   },
   {
    "duration": 17,
    "start_time": "2023-04-06T13:49:42.024Z"
   },
   {
    "duration": 42,
    "start_time": "2023-04-06T13:49:42.042Z"
   },
   {
    "duration": 2481,
    "start_time": "2023-04-06T15:38:01.577Z"
   },
   {
    "duration": 11,
    "start_time": "2023-04-06T15:38:04.060Z"
   },
   {
    "duration": 45,
    "start_time": "2023-04-06T15:38:04.072Z"
   },
   {
    "duration": 15,
    "start_time": "2023-04-06T15:38:04.119Z"
   },
   {
    "duration": 15,
    "start_time": "2023-04-06T15:38:04.135Z"
   },
   {
    "duration": 7,
    "start_time": "2023-04-06T15:38:04.151Z"
   },
   {
    "duration": 21157,
    "start_time": "2023-04-06T15:38:04.159Z"
   },
   {
    "duration": 116,
    "start_time": "2023-04-06T15:38:25.317Z"
   },
   {
    "duration": 26,
    "start_time": "2023-04-06T15:38:25.435Z"
   },
   {
    "duration": 128,
    "start_time": "2023-04-06T15:38:25.463Z"
   },
   {
    "duration": 15,
    "start_time": "2023-04-06T15:38:25.593Z"
   },
   {
    "duration": 20,
    "start_time": "2023-04-06T15:38:25.609Z"
   },
   {
    "duration": 1043,
    "start_time": "2023-04-06T15:44:11.786Z"
   },
   {
    "duration": 130,
    "start_time": "2023-04-06T15:44:12.832Z"
   },
   {
    "duration": 32,
    "start_time": "2023-04-06T15:45:15.863Z"
   },
   {
    "duration": 106,
    "start_time": "2023-04-06T16:24:10.199Z"
   },
   {
    "duration": 10,
    "start_time": "2023-04-06T16:24:13.794Z"
   },
   {
    "duration": 32,
    "start_time": "2023-04-06T16:24:34.027Z"
   },
   {
    "duration": 11,
    "start_time": "2023-04-06T16:24:36.429Z"
   },
   {
    "duration": 7,
    "start_time": "2023-04-06T16:24:38.734Z"
   },
   {
    "duration": 11,
    "start_time": "2023-04-06T16:24:44.006Z"
   },
   {
    "duration": 4,
    "start_time": "2023-04-06T16:25:29.978Z"
   },
   {
    "duration": 5,
    "start_time": "2023-04-06T16:25:33.069Z"
   },
   {
    "duration": 5,
    "start_time": "2023-04-06T16:25:33.412Z"
   },
   {
    "duration": 6,
    "start_time": "2023-04-06T16:25:33.968Z"
   },
   {
    "duration": 7,
    "start_time": "2023-04-06T16:25:54.448Z"
   },
   {
    "duration": 107,
    "start_time": "2023-04-06T16:26:27.605Z"
   },
   {
    "duration": 10,
    "start_time": "2023-04-06T16:26:48.096Z"
   },
   {
    "duration": 24,
    "start_time": "2023-04-06T16:27:30.150Z"
   },
   {
    "duration": 19814,
    "start_time": "2023-04-06T16:27:45.415Z"
   },
   {
    "duration": 6,
    "start_time": "2023-04-06T16:28:42.019Z"
   },
   {
    "duration": 19693,
    "start_time": "2023-04-06T16:31:05.339Z"
   },
   {
    "duration": 18998,
    "start_time": "2023-04-06T16:32:40.375Z"
   },
   {
    "duration": 11,
    "start_time": "2023-04-06T16:42:49.141Z"
   },
   {
    "duration": 13,
    "start_time": "2023-04-06T16:43:18.130Z"
   },
   {
    "duration": 98,
    "start_time": "2023-04-06T16:44:03.699Z"
   },
   {
    "duration": 9,
    "start_time": "2023-04-06T16:44:27.170Z"
   },
   {
    "duration": 26,
    "start_time": "2023-04-06T16:44:43.112Z"
   },
   {
    "duration": 25,
    "start_time": "2023-04-06T16:45:00.704Z"
   },
   {
    "duration": 10,
    "start_time": "2023-04-06T16:48:37.333Z"
   },
   {
    "duration": 104,
    "start_time": "2023-04-06T16:48:58.054Z"
   },
   {
    "duration": 9,
    "start_time": "2023-04-06T16:49:21.530Z"
   },
   {
    "duration": 26,
    "start_time": "2023-04-06T16:49:43.871Z"
   },
   {
    "duration": 24,
    "start_time": "2023-04-06T16:50:03.384Z"
   },
   {
    "duration": 9,
    "start_time": "2023-04-06T16:50:09.390Z"
   },
   {
    "duration": 9,
    "start_time": "2023-04-06T16:50:15.602Z"
   },
   {
    "duration": 16,
    "start_time": "2023-04-06T16:50:22.604Z"
   },
   {
    "duration": 119,
    "start_time": "2023-04-06T16:50:37.175Z"
   },
   {
    "duration": 110,
    "start_time": "2023-04-06T16:51:25.045Z"
   },
   {
    "duration": 5,
    "start_time": "2023-04-06T16:53:39.535Z"
   },
   {
    "duration": 8,
    "start_time": "2023-04-06T16:54:01.317Z"
   },
   {
    "duration": 8,
    "start_time": "2023-04-06T16:54:11.365Z"
   },
   {
    "duration": 7,
    "start_time": "2023-04-06T16:54:37.773Z"
   },
   {
    "duration": 4,
    "start_time": "2023-04-06T16:55:02.925Z"
   },
   {
    "duration": 4,
    "start_time": "2023-04-06T16:55:14.341Z"
   },
   {
    "duration": 4,
    "start_time": "2023-04-06T17:16:58.530Z"
   },
   {
    "duration": 22,
    "start_time": "2023-04-06T17:25:57.241Z"
   },
   {
    "duration": 24,
    "start_time": "2023-04-06T17:27:54.786Z"
   },
   {
    "duration": 10,
    "start_time": "2023-04-06T18:12:18.647Z"
   },
   {
    "duration": 35,
    "start_time": "2023-04-06T18:12:58.905Z"
   },
   {
    "duration": 561,
    "start_time": "2023-04-06T18:13:09.183Z"
   },
   {
    "duration": 118,
    "start_time": "2023-04-06T18:13:46.276Z"
   },
   {
    "duration": 69,
    "start_time": "2023-04-06T18:19:27.886Z"
   },
   {
    "duration": 97,
    "start_time": "2023-04-06T18:21:11.150Z"
   },
   {
    "duration": 88,
    "start_time": "2023-04-06T18:35:01.037Z"
   },
   {
    "duration": 91,
    "start_time": "2023-04-06T18:35:42.635Z"
   },
   {
    "duration": 32,
    "start_time": "2023-04-06T18:37:19.110Z"
   },
   {
    "duration": 12,
    "start_time": "2023-04-06T18:37:23.810Z"
   },
   {
    "duration": 10,
    "start_time": "2023-04-06T18:37:24.665Z"
   },
   {
    "duration": 35,
    "start_time": "2023-04-06T18:37:24.894Z"
   }
  ],
  "kernelspec": {
   "display_name": "Python 3 (ipykernel)",
   "language": "python",
   "name": "python3"
  },
  "language_info": {
   "codemirror_mode": {
    "name": "ipython",
    "version": 3
   },
   "file_extension": ".py",
   "mimetype": "text/x-python",
   "name": "python",
   "nbconvert_exporter": "python",
   "pygments_lexer": "ipython3",
   "version": "3.10.9"
  },
  "toc": {
   "base_numbering": 1,
   "nav_menu": {},
   "number_sections": true,
   "sideBar": true,
   "skip_h1_title": true,
   "title_cell": "Table of Contents",
   "title_sidebar": "Contents",
   "toc_cell": false,
   "toc_position": {},
   "toc_section_display": true,
   "toc_window_display": false
  }
 },
 "nbformat": 4,
 "nbformat_minor": 2
}
