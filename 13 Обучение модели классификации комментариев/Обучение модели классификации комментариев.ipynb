{
 "cells": [
  {
   "cell_type": "markdown",
   "metadata": {},
   "source": [
    "# Проект для «Викишоп»"
   ]
  },
  {
   "cell_type": "markdown",
   "metadata": {},
   "source": [
    "Интернет-магазин «Викишоп» запускает новый сервис. Теперь пользователи могут редактировать и дополнять описания товаров, как в вики-сообществах. То есть клиенты предлагают свои правки и комментируют изменения других. Магазину нужен инструмент, который будет искать токсичные комментарии и отправлять их на модерацию. \n",
    "\n",
    "Обучите модель классифицировать комментарии на позитивные и негативные. В вашем распоряжении набор данных с разметкой о токсичности правок.\n",
    "\n",
    "Постройте модель со значением метрики качества *F1* не меньше 0.75. \n",
    "\n",
    "**Инструкция по выполнению проекта**\n",
    "\n",
    "1. Загрузите и подготовьте данные.\n",
    "2. Обучите разные модели. \n",
    "3. Сделайте выводы.\n",
    "\n",
    "Для выполнения проекта применять *BERT* необязательно, но вы можете попробовать.\n",
    "\n",
    "**Описание данных**\n",
    "\n",
    "Данные находятся в файле `toxic_comments.csv`. Столбец *text* в нём содержит текст комментария, а *toxic* — целевой признак."
   ]
  },
  {
   "cell_type": "markdown",
   "metadata": {},
   "source": [
    "Задача - Обучите модель классифицировать комментарии на позитивные и негативные. В вашем распоряжении набор данных с разметкой о токсичности правок.\n",
    "Постройте модель со значением метрики качества F1 не меньше 0.75. "
   ]
  },
  {
   "cell_type": "markdown",
   "metadata": {},
   "source": [
    "Алгоритм решения выглядит так:\n",
    "\n",
    "1. Загрузите и подготовьте данные.\n",
    "2. Обучите разные модели.\n",
    "3. Выводы."
   ]
  },
  {
   "cell_type": "markdown",
   "metadata": {},
   "source": [
    "## Подготовка"
   ]
  },
  {
   "cell_type": "code",
   "execution_count": 1,
   "metadata": {},
   "outputs": [
    {
     "name": "stderr",
     "output_type": "stream",
     "text": [
      "[nltk_data] Downloading package punkt to /home/jovyan/nltk_data...\n",
      "[nltk_data]   Package punkt is already up-to-date!\n",
      "[nltk_data] Downloading package wordnet to /home/jovyan/nltk_data...\n",
      "[nltk_data]   Package wordnet is already up-to-date!\n",
      "[nltk_data] Downloading package stopwords to /home/jovyan/nltk_data...\n",
      "[nltk_data]   Package stopwords is already up-to-date!\n"
     ]
    }
   ],
   "source": [
    "import numpy as np\n",
    "import pandas as pd\n",
    "from tqdm import tqdm\n",
    "from sklearn.pipeline import Pipeline\n",
    "import spacy\n",
    "import re\n",
    "import nltk\n",
    "nltk.download('punkt')\n",
    "nltk.download('wordnet')\n",
    "nltk.download('stopwords')\n",
    "\n",
    "from nltk.stem import WordNetLemmatizer\n",
    "from nltk.corpus import stopwords as nltk_stopwords\n",
    "from sklearn.feature_extraction.text import TfidfVectorizer\n",
    "from sklearn.model_selection import train_test_split, cross_val_score, GridSearchCV\n",
    "from sklearn.linear_model import LogisticRegression, SGDClassifier\n",
    "from sklearn.tree import DecisionTreeClassifier\n",
    "from catboost import CatBoostClassifier\n",
    "from sklearn.metrics import f1_score, precision_score, recall_score, accuracy_score, roc_auc_score, roc_curve\n",
    "from sklearn.utils import shuffle\n",
    "import matplotlib.pyplot as plt\n",
    "import warnings\n",
    "warnings.filterwarnings('ignore')\n",
    "from sklearn.feature_extraction.text import TfidfVectorizer\n",
    "from sklearn.pipeline import Pipeline\n",
    "from tqdm import tqdm\n",
    "from sklearn.ensemble import RandomForestClassifier"
   ]
  },
  {
   "cell_type": "code",
   "execution_count": 2,
   "metadata": {},
   "outputs": [
    {
     "name": "stdout",
     "output_type": "stream",
     "text": [
      "<class 'pandas.core.frame.DataFrame'>\n",
      "RangeIndex: 159292 entries, 0 to 159291\n",
      "Data columns (total 3 columns):\n",
      " #   Column      Non-Null Count   Dtype \n",
      "---  ------      --------------   ----- \n",
      " 0   Unnamed: 0  159292 non-null  int64 \n",
      " 1   text        159292 non-null  object\n",
      " 2   toxic       159292 non-null  int64 \n",
      "dtypes: int64(2), object(1)\n",
      "memory usage: 3.6+ MB\n"
     ]
    }
   ],
   "source": [
    "toxic_comments = pd.read_csv('/datasets/toxic_comments.csv')\n",
    "toxic_comments.info()"
   ]
  },
  {
   "cell_type": "code",
   "execution_count": 3,
   "metadata": {},
   "outputs": [
    {
     "data": {
      "text/html": [
       "<div>\n",
       "<style scoped>\n",
       "    .dataframe tbody tr th:only-of-type {\n",
       "        vertical-align: middle;\n",
       "    }\n",
       "\n",
       "    .dataframe tbody tr th {\n",
       "        vertical-align: top;\n",
       "    }\n",
       "\n",
       "    .dataframe thead th {\n",
       "        text-align: right;\n",
       "    }\n",
       "</style>\n",
       "<table border=\"1\" class=\"dataframe\">\n",
       "  <thead>\n",
       "    <tr style=\"text-align: right;\">\n",
       "      <th></th>\n",
       "      <th>Unnamed: 0</th>\n",
       "      <th>text</th>\n",
       "      <th>toxic</th>\n",
       "    </tr>\n",
       "  </thead>\n",
       "  <tbody>\n",
       "    <tr>\n",
       "      <th>0</th>\n",
       "      <td>0</td>\n",
       "      <td>Explanation\\nWhy the edits made under my usern...</td>\n",
       "      <td>0</td>\n",
       "    </tr>\n",
       "    <tr>\n",
       "      <th>1</th>\n",
       "      <td>1</td>\n",
       "      <td>D'aww! He matches this background colour I'm s...</td>\n",
       "      <td>0</td>\n",
       "    </tr>\n",
       "    <tr>\n",
       "      <th>2</th>\n",
       "      <td>2</td>\n",
       "      <td>Hey man, I'm really not trying to edit war. It...</td>\n",
       "      <td>0</td>\n",
       "    </tr>\n",
       "    <tr>\n",
       "      <th>3</th>\n",
       "      <td>3</td>\n",
       "      <td>\"\\nMore\\nI can't make any real suggestions on ...</td>\n",
       "      <td>0</td>\n",
       "    </tr>\n",
       "    <tr>\n",
       "      <th>4</th>\n",
       "      <td>4</td>\n",
       "      <td>You, sir, are my hero. Any chance you remember...</td>\n",
       "      <td>0</td>\n",
       "    </tr>\n",
       "  </tbody>\n",
       "</table>\n",
       "</div>"
      ],
      "text/plain": [
       "   Unnamed: 0                                               text  toxic\n",
       "0           0  Explanation\\nWhy the edits made under my usern...      0\n",
       "1           1  D'aww! He matches this background colour I'm s...      0\n",
       "2           2  Hey man, I'm really not trying to edit war. It...      0\n",
       "3           3  \"\\nMore\\nI can't make any real suggestions on ...      0\n",
       "4           4  You, sir, are my hero. Any chance you remember...      0"
      ]
     },
     "execution_count": 3,
     "metadata": {},
     "output_type": "execute_result"
    }
   ],
   "source": [
    "toxic_comments.head()"
   ]
  },
  {
   "cell_type": "code",
   "execution_count": 4,
   "metadata": {
    "scrolled": true
   },
   "outputs": [
    {
     "data": {
      "text/plain": [
       "0    143106\n",
       "1     16186\n",
       "Name: toxic, dtype: int64"
      ]
     },
     "metadata": {},
     "output_type": "display_data"
    },
    {
     "data": {
      "text/plain": [
       "8.841344371679229"
      ]
     },
     "execution_count": 4,
     "metadata": {},
     "output_type": "execute_result"
    }
   ],
   "source": [
    "#Посмотрим, сколько у нас токсичных/нетоксичных текстов\n",
    "toxic_count = toxic_comments['toxic'].value_counts()\n",
    "display(toxic_count)\n",
    "\n",
    "#Выведем соотношение\n",
    "class_ratio = toxic_count[0] / toxic_count[1]\n",
    "class_ratio"
   ]
  },
  {
   "cell_type": "markdown",
   "metadata": {},
   "source": [
    "**V2** "
   ]
  },
  {
   "cell_type": "code",
   "execution_count": 5,
   "metadata": {
    "scrolled": true
   },
   "outputs": [
    {
     "name": "stderr",
     "output_type": "stream",
     "text": [
      "100%|██████████| 159292/159292 [20:15<00:00, 131.03it/s]\n"
     ]
    }
   ],
   "source": [
    "tqdm.pandas()\n",
    "\n",
    "nlp = spacy.load('en_core_web_sm', disable=['parser', 'ner'])\n",
    "def lemmatize_text(text):\n",
    "    doc = nlp(text)\n",
    "    lemm_text = \" \".join([token.lemma_ for token in doc])\n",
    "    cleared_text = re.sub(r'[^a-zA-Z]', ' ', lemm_text)\n",
    "    return cleared_text.lower()\n",
    "\n",
    "toxic_comments['lemm_text'] = toxic_comments['text'].progress_apply(lemmatize_text)\n",
    "toxic_comments.drop(['text'], axis=1, inplace=True)\n"
   ]
  },
  {
   "cell_type": "code",
   "execution_count": 6,
   "metadata": {},
   "outputs": [
    {
     "data": {
      "text/html": [
       "<div>\n",
       "<style scoped>\n",
       "    .dataframe tbody tr th:only-of-type {\n",
       "        vertical-align: middle;\n",
       "    }\n",
       "\n",
       "    .dataframe tbody tr th {\n",
       "        vertical-align: top;\n",
       "    }\n",
       "\n",
       "    .dataframe thead th {\n",
       "        text-align: right;\n",
       "    }\n",
       "</style>\n",
       "<table border=\"1\" class=\"dataframe\">\n",
       "  <thead>\n",
       "    <tr style=\"text-align: right;\">\n",
       "      <th></th>\n",
       "      <th>Unnamed: 0</th>\n",
       "      <th>toxic</th>\n",
       "      <th>lemm_text</th>\n",
       "    </tr>\n",
       "  </thead>\n",
       "  <tbody>\n",
       "    <tr>\n",
       "      <th>0</th>\n",
       "      <td>0</td>\n",
       "      <td>0</td>\n",
       "      <td>explanation   why the edit make under my usern...</td>\n",
       "    </tr>\n",
       "    <tr>\n",
       "      <th>1</th>\n",
       "      <td>1</td>\n",
       "      <td>0</td>\n",
       "      <td>d aww   he match this background colour i be s...</td>\n",
       "    </tr>\n",
       "    <tr>\n",
       "      <th>2</th>\n",
       "      <td>2</td>\n",
       "      <td>0</td>\n",
       "      <td>hey man   i be really not try to edit war   it...</td>\n",
       "    </tr>\n",
       "    <tr>\n",
       "      <th>3</th>\n",
       "      <td>3</td>\n",
       "      <td>0</td>\n",
       "      <td>more   i can not make any real suggestion ...</td>\n",
       "    </tr>\n",
       "    <tr>\n",
       "      <th>4</th>\n",
       "      <td>4</td>\n",
       "      <td>0</td>\n",
       "      <td>you   sir   be my hero   any chance you rememb...</td>\n",
       "    </tr>\n",
       "  </tbody>\n",
       "</table>\n",
       "</div>"
      ],
      "text/plain": [
       "   Unnamed: 0  toxic                                          lemm_text\n",
       "0           0      0  explanation   why the edit make under my usern...\n",
       "1           1      0  d aww   he match this background colour i be s...\n",
       "2           2      0  hey man   i be really not try to edit war   it...\n",
       "3           3      0      more   i can not make any real suggestion ...\n",
       "4           4      0  you   sir   be my hero   any chance you rememb..."
      ]
     },
     "execution_count": 6,
     "metadata": {},
     "output_type": "execute_result"
    }
   ],
   "source": [
    "toxic_comments.head()"
   ]
  },
  {
   "cell_type": "code",
   "execution_count": 7,
   "metadata": {
    "scrolled": true
   },
   "outputs": [
    {
     "name": "stdout",
     "output_type": "stream",
     "text": [
      "<class 'pandas.core.frame.DataFrame'>\n",
      "RangeIndex: 159292 entries, 0 to 159291\n",
      "Data columns (total 3 columns):\n",
      " #   Column      Non-Null Count   Dtype \n",
      "---  ------      --------------   ----- \n",
      " 0   Unnamed: 0  159292 non-null  int64 \n",
      " 1   toxic       159292 non-null  int64 \n",
      " 2   lemm_text   159292 non-null  object\n",
      "dtypes: int64(2), object(1)\n",
      "memory usage: 3.6+ MB\n"
     ]
    }
   ],
   "source": [
    "toxic_comments.info()"
   ]
  },
  {
   "cell_type": "markdown",
   "metadata": {},
   "source": [
    "\n",
    "\n"
   ]
  },
  {
   "cell_type": "code",
   "execution_count": 8,
   "metadata": {
    "scrolled": true
   },
   "outputs": [
    {
     "name": "stdout",
     "output_type": "stream",
     "text": [
      "(127433,)\n",
      "(31859,)\n"
     ]
    },
    {
     "name": "stderr",
     "output_type": "stream",
     "text": [
      "[nltk_data] Downloading package stopwords to /home/jovyan/nltk_data...\n",
      "[nltk_data]   Package stopwords is already up-to-date!\n"
     ]
    }
   ],
   "source": [
    "target = toxic_comments['toxic']\n",
    "features = toxic_comments['lemm_text']\n",
    "\n",
    "features_train, features_test, target_train, target_test = train_test_split(features, target, test_size=0.2, random_state=12345)\n",
    "\n",
    "\n",
    "nltk.download('stopwords')\n",
    "stopwords = set(nltk_stopwords.words('english'))\n",
    "\n",
    "print(features_train.shape)\n",
    "print(features_test.shape)\n",
    "\n",
    "cv_counts = 3\n"
   ]
  },
  {
   "cell_type": "markdown",
   "metadata": {},
   "source": [
    "## Обучение"
   ]
  },
  {
   "cell_type": "markdown",
   "metadata": {},
   "source": [
    "**Классификатор LogisticRegression**"
   ]
  },
  {
   "cell_type": "code",
   "execution_count": 9,
   "metadata": {},
   "outputs": [
    {
     "name": "stdout",
     "output_type": "stream",
     "text": [
      "Лучшая F1-мера на обучающей выборке: 0.759828504660053\n"
     ]
    }
   ],
   "source": [
    "pipeline = Pipeline([\n",
    "    ('tfidf', TfidfVectorizer(stop_words=stopwords)),\n",
    "    ('classifier', LogisticRegression(class_weight='balanced'))\n",
    "])\n",
    "\n",
    "# Определение гиперпараметров для поиска по сетке\n",
    "hyperparams = {\n",
    "    'tfidf__stop_words': [stopwords],\n",
    "    'classifier__C': [5, 10, 15]\n",
    "}\n",
    "\n",
    "# Поиск по сетке с использованием кросс-валидации\n",
    "grid_search = GridSearchCV(pipeline, hyperparams, scoring='f1', cv=cv_counts)\n",
    "grid_search.fit(features_train, target_train)\n",
    "\n",
    "# Вычисление F1-меры через grid_search.best_score_\n",
    "cv_f1_LR = grid_search.best_score_\n",
    "print(\"Лучшая F1-мера на обучающей выборке:\", cv_f1_LR)"
   ]
  },
  {
   "cell_type": "markdown",
   "metadata": {},
   "source": [
    "**Классификатор DecisionTreeClassifier**"
   ]
  },
  {
   "cell_type": "code",
   "execution_count": 10,
   "metadata": {},
   "outputs": [
    {
     "name": "stdout",
     "output_type": "stream",
     "text": [
      "Лучшие параметры, найденные на обучающей выборке:\n",
      "{'classifier__max_depth': 9, 'classifier__random_state': 12345, 'tfidf__stop_words': {'have', 'into', 'do', 'few', 'over', 'some', 'the', 'weren', 'yourselves', 'himself', 'with', 'own', \"you're\", 'should', 'has', \"you've\", 'our', \"she's\", 'up', 'is', 'doesn', 'off', 'because', 'themselves', 'again', 'an', 'above', 'under', 'through', 'are', \"doesn't\", \"hasn't\", 'll', 'their', 'while', 'why', 'his', \"don't\", 'mightn', 'doing', 'during', 'had', 'whom', 'am', 'below', 'further', 'no', \"didn't\", 'down', 'shan', 'this', 'of', 'now', 'ours', 'd', \"couldn't\", 't', 'me', 'couldn', 'ourselves', 'your', 'a', 'very', 'same', \"shan't\", 'needn', 'to', 'shouldn', \"isn't\", 'were', 're', \"it's\", 'who', 'where', 'y', 'nor', 'which', 'itself', \"should've\", 'in', 'or', 'wasn', 'was', \"mightn't\", \"wouldn't\", 'at', 'once', 'those', 'm', 'both', 'more', 'be', 'her', 'hadn', 'but', 'other', \"you'd\", \"hadn't\", 'too', 'as', 'all', 's', 'theirs', 'between', 'will', 'yourself', 'so', 'just', 'o', 'by', 'hers', 'haven', 'they', 'i', \"you'll\", 'from', 'been', 'does', \"needn't\", 'you', 'what', 'for', 'did', 'only', 'don', \"weren't\", 'there', 'its', 'such', 'isn', 'out', \"aren't\", 'until', 'aren', 'won', 'hasn', \"won't\", 'it', 'myself', 'before', 'here', 'he', 'mustn', \"haven't\", 'yours', 'can', 'she', 'each', \"shouldn't\", 'that', 'didn', 'after', \"mustn't\", 'them', 'on', 'most', 'having', 'and', 'than', 'these', 'being', 'herself', 'ma', 'if', 'then', 'how', 've', 'not', 'my', \"that'll\", 'about', 'against', 'him', 'any', \"wasn't\", 'when', 'ain', 'wouldn', 'we'}}\n",
      "\n",
      "Лучшая F1-мера на обучающей выборке: 0.5656515945451431\n"
     ]
    }
   ],
   "source": [
    "pipeline = Pipeline([\n",
    "    ('tfidf', TfidfVectorizer(stop_words=stopwords)),\n",
    "    ('classifier', DecisionTreeClassifier(class_weight='balanced'))\n",
    "])\n",
    "\n",
    "# Определение гиперпараметров для поиска по сетке\n",
    "hyperparams = {\n",
    "    'tfidf__stop_words': [stopwords],\n",
    "    'classifier__max_depth': [x for x in range(1, 11, 2)],\n",
    "    'classifier__random_state': [12345]\n",
    "}\n",
    "\n",
    "# Поиск по сетке с использованием кросс-валидации\n",
    "grid_search = GridSearchCV(pipeline, hyperparams, scoring='f1', cv=cv_counts)\n",
    "grid_search.fit(features_train, target_train)\n",
    "\n",
    "# Вывод лучших параметров\n",
    "print(\"Лучшие параметры, найденные на обучающей выборке:\")\n",
    "print(grid_search.best_params_)\n",
    "print()\n",
    "\n",
    "# Вычисление F1-меры для лучших параметров\n",
    "cv_f1_DTC = grid_search.best_score_\n",
    "print(\"Лучшая F1-мера на обучающей выборке:\", cv_f1_DTC)"
   ]
  },
  {
   "cell_type": "markdown",
   "metadata": {},
   "source": [
    "**Классификатор RandomForestClassifier**"
   ]
  },
  {
   "cell_type": "code",
   "execution_count": 11,
   "metadata": {
    "scrolled": false
   },
   "outputs": [
    {
     "name": "stdout",
     "output_type": "stream",
     "text": [
      "F1-мера на кросс-валидации: 0.3732003199151462\n"
     ]
    }
   ],
   "source": [
    "\n",
    "pipeline = Pipeline([\n",
    "    ('tfidf', TfidfVectorizer(stop_words=stopwords)),\n",
    "    ('classifier', RandomForestClassifier(random_state=12345, class_weight='balanced'))\n",
    "])\n",
    "\n",
    "\n",
    "hyperparams = {\n",
    "    'tfidf__stop_words': [stopwords],\n",
    "    'classifier__n_estimators': [100, 200],\n",
    "    'classifier__max_depth': [2, 5, 10]\n",
    "}\n",
    "\n",
    "\n",
    "grid_search = GridSearchCV(pipeline, hyperparams, scoring='f1', cv=cv_counts)\n",
    "grid_search.fit(features_train, target_train)\n",
    "\n",
    "\n",
    "cv_f1 = grid_search.best_score_\n",
    "\n",
    "print(\"F1-мера на кросс-валидации:\", cv_f1)"
   ]
  },
  {
   "cell_type": "code",
   "execution_count": 12,
   "metadata": {
    "scrolled": true
   },
   "outputs": [
    {
     "data": {
      "text/html": [
       "<div>\n",
       "<style scoped>\n",
       "    .dataframe tbody tr th:only-of-type {\n",
       "        vertical-align: middle;\n",
       "    }\n",
       "\n",
       "    .dataframe tbody tr th {\n",
       "        vertical-align: top;\n",
       "    }\n",
       "\n",
       "    .dataframe thead th {\n",
       "        text-align: right;\n",
       "    }\n",
       "</style>\n",
       "<table border=\"1\" class=\"dataframe\">\n",
       "  <thead>\n",
       "    <tr style=\"text-align: right;\">\n",
       "      <th></th>\n",
       "      <th>F1 на CV</th>\n",
       "      <th>Выполнение задачи</th>\n",
       "    </tr>\n",
       "  </thead>\n",
       "  <tbody>\n",
       "    <tr>\n",
       "      <th>LogisticRegression</th>\n",
       "      <td>0.759829</td>\n",
       "      <td>True</td>\n",
       "    </tr>\n",
       "    <tr>\n",
       "      <th>DecisionTreeClassifier</th>\n",
       "      <td>0.565652</td>\n",
       "      <td>False</td>\n",
       "    </tr>\n",
       "    <tr>\n",
       "      <th>RandomForestClassifier</th>\n",
       "      <td>0.373200</td>\n",
       "      <td>False</td>\n",
       "    </tr>\n",
       "  </tbody>\n",
       "</table>\n",
       "</div>"
      ],
      "text/plain": [
       "                        F1 на CV  Выполнение задачи\n",
       "LogisticRegression      0.759829               True\n",
       "DecisionTreeClassifier  0.565652              False\n",
       "RandomForestClassifier  0.373200              False"
      ]
     },
     "execution_count": 12,
     "metadata": {},
     "output_type": "execute_result"
    }
   ],
   "source": [
    "index = ['LogisticRegression',\n",
    "         'DecisionTreeClassifier',\n",
    "         'RandomForestClassifier']\n",
    "data = {'F1 на CV':[cv_f1_LR,\n",
    "                    cv_f1_DTC,\n",
    "                    cv_f1]\n",
    "        }\n",
    "\n",
    "scores_data = pd.DataFrame(data=data, index=index)\n",
    "scores_data['Выполнение задачи'] = scores_data['F1 на CV'] > 0.75\n",
    "scores_data"
   ]
  },
  {
   "cell_type": "markdown",
   "metadata": {},
   "source": [
    "**V3** <div class=\"alert\" style=\"background-color:#ead7f7;color:#8737bf\">\n",
    "    <font size=\"3\">Из всех нам подходит только один - LogisticRegression </font>\n",
    "   \n",
    "</div>"
   ]
  },
  {
   "cell_type": "code",
   "execution_count": 13,
   "metadata": {
    "scrolled": true
   },
   "outputs": [
    {
     "name": "stdout",
     "output_type": "stream",
     "text": [
      "F1-мера на тестовой выборке: 0.7724731182795699\n"
     ]
    }
   ],
   "source": [
    "pipeline = Pipeline([\n",
    "    ('tfidf', TfidfVectorizer(stop_words=stopwords)),\n",
    "    ('classifier', LogisticRegression(class_weight='balanced'))\n",
    "])\n",
    "\n",
    "# Определение гиперпараметров для поиска по сетке\n",
    "hyperparams = {\n",
    "    'tfidf__stop_words': [stopwords],\n",
    "    'classifier__C': [5, 10, 15]\n",
    "}\n",
    "\n",
    "# Поиск по сетке с использованием кросс-валидации\n",
    "grid_search = GridSearchCV(pipeline, hyperparams, scoring='f1', cv=cv_counts)\n",
    "grid_search.fit(features_train, target_train)\n",
    "best_model = grid_search.best_estimator_\n",
    "\n",
    "predictions = best_model.predict(features_test)\n",
    "test_f1 = f1_score(target_test, predictions)\n",
    "print(\"F1-мера на тестовой выборке:\", test_f1)"
   ]
  },
  {
   "cell_type": "markdown",
   "metadata": {},
   "source": [
    "В данной таблице представлены значения метрики F1 на кросс-валидации (CV) и на валидационной выборке для каждой модели. Кроме того, добавлен столбец \"Выполнение задачи\", который указывает, выполнена ли задача (значение F1 на валидации > 0.75). В данном случае, только модель LogisticRegression выполняет поставленную задачу, так как ее F1 на валидации превышает пороговое значение 0.75."
   ]
  },
  {
   "cell_type": "markdown",
   "metadata": {},
   "source": [
    "## Выводы"
   ]
  },
  {
   "cell_type": "markdown",
   "metadata": {},
   "source": [
    " **V3** <div class=\"alert\" style=\"background-color:#ead7f7;color:#8737bf\">\n",
    "    <font size=\"3\">\n",
    "В ходе работы были выполнены следующие шаги:\n",
    "\n",
    "1. Подготовка данных: были подготовлены данные для обучения моделей.\n",
    "\n",
    "2. Балансировка классов: выбран способ балансировки классов в моделях 'balanced', и данные были разделены на обучающую и тестовую выборки.\n",
    "\n",
    "3. Обучение моделей: были обучены различные модели, включая LogisticRegression, DecisionTreeClassifier и RandomForest.\n",
    "\n",
    "Оценка качества моделей: на основе валидационной выборки была выбрана лучшая модель по f1 CV. И протестирована на тестовой выборке.\n",
    "\n",
    "В результате анализа, лучшей моделью оказалась LogisticRegression. CatBoostClassifier может показать высокое качество при длительном обучении на большом объеме данных."
   ]
  }
 ],
 "metadata": {
  "ExecuteTimeLog": [
   {
    "duration": 1767,
    "start_time": "2023-06-18T08:10:44.497Z"
   },
   {
    "duration": 2592,
    "start_time": "2023-06-18T08:10:55.815Z"
   },
   {
    "duration": 9,
    "start_time": "2023-06-18T08:11:00.586Z"
   },
   {
    "duration": 7,
    "start_time": "2023-06-18T08:11:52.652Z"
   },
   {
    "duration": 87,
    "start_time": "2023-06-18T08:12:47.803Z"
   },
   {
    "duration": 6119,
    "start_time": "2023-06-18T08:13:38.153Z"
   },
   {
    "duration": 11192,
    "start_time": "2023-06-18T08:14:28.642Z"
   },
   {
    "duration": 97283,
    "start_time": "2023-06-18T08:14:59.242Z"
   },
   {
    "duration": 81101,
    "start_time": "2023-06-18T08:17:56.323Z"
   },
   {
    "duration": 47773,
    "start_time": "2023-06-18T08:19:36.142Z"
   },
   {
    "duration": 35,
    "start_time": "2023-06-18T08:21:32.341Z"
   },
   {
    "duration": 975,
    "start_time": "2023-06-18T08:21:47.788Z"
   },
   {
    "duration": 28628,
    "start_time": "2023-06-18T08:22:02.279Z"
   },
   {
    "duration": 88,
    "start_time": "2023-06-18T08:22:49.769Z"
   },
   {
    "duration": 82871,
    "start_time": "2023-06-18T08:23:28.942Z"
   },
   {
    "duration": 10,
    "start_time": "2023-06-18T08:25:59.734Z"
   },
   {
    "duration": 73,
    "start_time": "2023-06-18T08:34:29.021Z"
   },
   {
    "duration": 502563,
    "start_time": "2023-06-18T08:35:07.046Z"
   },
   {
    "duration": 42172,
    "start_time": "2023-06-18T08:43:47.833Z"
   },
   {
    "duration": 1628207,
    "start_time": "2023-06-18T08:46:11.961Z"
   },
   {
    "duration": 40908,
    "start_time": "2023-06-18T09:14:49.026Z"
   },
   {
    "duration": 1495086,
    "start_time": "2023-06-18T09:16:23.835Z"
   },
   {
    "duration": 10,
    "start_time": "2023-06-18T09:44:27.071Z"
   },
   {
    "duration": 42759,
    "start_time": "2023-06-18T09:45:43.127Z"
   },
   {
    "duration": 102,
    "start_time": "2023-06-18T09:50:56.144Z"
   },
   {
    "duration": 4,
    "start_time": "2023-06-18T09:56:26.473Z"
   },
   {
    "duration": 812,
    "start_time": "2023-06-18T09:56:26.479Z"
   },
   {
    "duration": 29,
    "start_time": "2023-06-18T09:56:27.292Z"
   },
   {
    "duration": 10,
    "start_time": "2023-06-18T09:56:27.325Z"
   },
   {
    "duration": 4749,
    "start_time": "2023-06-18T09:56:27.336Z"
   },
   {
    "duration": 10786,
    "start_time": "2023-06-18T09:56:32.086Z"
   },
   {
    "duration": 102951,
    "start_time": "2023-06-18T09:56:42.874Z"
   },
   {
    "duration": 86413,
    "start_time": "2023-06-18T09:58:25.829Z"
   },
   {
    "duration": 51586,
    "start_time": "2023-06-18T09:59:52.243Z"
   },
   {
    "duration": 96,
    "start_time": "2023-06-18T10:00:43.833Z"
   },
   {
    "duration": 1003,
    "start_time": "2023-06-18T10:00:43.930Z"
   },
   {
    "duration": 32770,
    "start_time": "2023-06-18T10:00:44.935Z"
   },
   {
    "duration": 90783,
    "start_time": "2023-06-18T10:01:17.706Z"
   },
   {
    "duration": 36,
    "start_time": "2023-06-18T10:02:48.490Z"
   },
   {
    "duration": 511888,
    "start_time": "2023-06-18T10:02:48.527Z"
   },
   {
    "duration": 42010,
    "start_time": "2023-06-18T10:11:20.506Z"
   },
   {
    "duration": 1624555,
    "start_time": "2023-06-18T10:12:02.518Z"
   },
   {
    "duration": 39180,
    "start_time": "2023-06-18T10:39:07.075Z"
   },
   {
    "duration": 2314,
    "start_time": "2023-06-19T09:33:12.856Z"
   },
   {
    "duration": 2740,
    "start_time": "2023-06-19T09:33:15.172Z"
   },
   {
    "duration": 11,
    "start_time": "2023-06-19T09:33:17.913Z"
   },
   {
    "duration": 9,
    "start_time": "2023-06-19T09:33:17.926Z"
   },
   {
    "duration": 94,
    "start_time": "2023-06-19T09:33:17.936Z"
   },
   {
    "duration": 0,
    "start_time": "2023-06-19T09:33:18.031Z"
   },
   {
    "duration": 7,
    "start_time": "2023-06-19T09:33:25.640Z"
   },
   {
    "duration": 988,
    "start_time": "2023-06-19T09:33:30.773Z"
   },
   {
    "duration": 4007,
    "start_time": "2023-06-19T09:33:45.973Z"
   },
   {
    "duration": 862,
    "start_time": "2023-06-19T09:33:49.983Z"
   },
   {
    "duration": 8,
    "start_time": "2023-06-19T09:33:50.846Z"
   },
   {
    "duration": 71,
    "start_time": "2023-06-19T09:33:50.855Z"
   },
   {
    "duration": 850,
    "start_time": "2023-06-19T09:33:50.927Z"
   },
   {
    "duration": 867518,
    "start_time": "2023-06-19T09:34:36.278Z"
   },
   {
    "duration": 0,
    "start_time": "2023-06-19T09:49:03.799Z"
   },
   {
    "duration": 4,
    "start_time": "2023-06-19T09:49:13.189Z"
   },
   {
    "duration": 775,
    "start_time": "2023-06-19T09:49:13.646Z"
   },
   {
    "duration": 7,
    "start_time": "2023-06-19T09:49:14.423Z"
   },
   {
    "duration": 6,
    "start_time": "2023-06-19T09:49:17.885Z"
   },
   {
    "duration": 2200371,
    "start_time": "2023-06-19T09:49:24.273Z"
   },
   {
    "duration": 6790,
    "start_time": "2023-06-19T10:37:13.454Z"
   },
   {
    "duration": 7121,
    "start_time": "2023-06-19T10:40:48.313Z"
   },
   {
    "duration": 103710,
    "start_time": "2023-06-19T10:41:50.301Z"
   },
   {
    "duration": 16,
    "start_time": "2023-06-19T10:49:26.514Z"
   },
   {
    "duration": 121,
    "start_time": "2023-06-19T10:49:36.168Z"
   },
   {
    "duration": 16,
    "start_time": "2023-06-19T10:49:40.212Z"
   },
   {
    "duration": 31,
    "start_time": "2023-06-19T10:52:46.680Z"
   },
   {
    "duration": 106,
    "start_time": "2023-06-19T10:53:05.339Z"
   },
   {
    "duration": 16,
    "start_time": "2023-06-19T10:53:08.419Z"
   },
   {
    "duration": 19,
    "start_time": "2023-06-19T10:53:13.513Z"
   },
   {
    "duration": 5,
    "start_time": "2023-06-19T10:53:16.913Z"
   },
   {
    "duration": 15,
    "start_time": "2023-06-19T10:59:10.528Z"
   },
   {
    "duration": 15,
    "start_time": "2023-06-19T10:59:58.914Z"
   },
   {
    "duration": 16,
    "start_time": "2023-06-19T11:00:52.943Z"
   },
   {
    "duration": 19,
    "start_time": "2023-06-19T11:02:22.311Z"
   },
   {
    "duration": 185,
    "start_time": "2023-06-19T11:02:59.448Z"
   },
   {
    "duration": 202124,
    "start_time": "2023-06-19T11:03:05.921Z"
   },
   {
    "duration": 23,
    "start_time": "2023-06-19T11:06:38.299Z"
   },
   {
    "duration": 6,
    "start_time": "2023-06-19T11:06:52.847Z"
   },
   {
    "duration": 615,
    "start_time": "2023-06-19T11:06:56.931Z"
   },
   {
    "duration": 694,
    "start_time": "2023-06-19T11:08:06.326Z"
   },
   {
    "duration": 639,
    "start_time": "2023-06-19T11:08:19.315Z"
   },
   {
    "duration": 24,
    "start_time": "2023-06-19T11:09:05.816Z"
   },
   {
    "duration": 21,
    "start_time": "2023-06-19T11:10:39.355Z"
   },
   {
    "duration": 18,
    "start_time": "2023-06-19T11:11:01.953Z"
   },
   {
    "duration": 22,
    "start_time": "2023-06-19T11:11:09.745Z"
   },
   {
    "duration": 110,
    "start_time": "2023-06-19T11:12:08.014Z"
   },
   {
    "duration": 184,
    "start_time": "2023-06-19T11:12:13.011Z"
   },
   {
    "duration": 25,
    "start_time": "2023-06-19T11:12:16.212Z"
   },
   {
    "duration": 21,
    "start_time": "2023-06-19T11:12:57.437Z"
   },
   {
    "duration": 21,
    "start_time": "2023-06-19T11:13:06.336Z"
   },
   {
    "duration": 26,
    "start_time": "2023-06-19T11:13:25.295Z"
   },
   {
    "duration": 4,
    "start_time": "2023-06-19T11:13:32.641Z"
   },
   {
    "duration": 745,
    "start_time": "2023-06-19T11:13:33.332Z"
   },
   {
    "duration": 7,
    "start_time": "2023-06-19T11:13:34.259Z"
   },
   {
    "duration": 7,
    "start_time": "2023-06-19T11:13:35.069Z"
   },
   {
    "duration": 4201,
    "start_time": "2023-06-19T11:13:56.587Z"
   },
   {
    "duration": 818,
    "start_time": "2023-06-19T11:14:00.789Z"
   },
   {
    "duration": 12,
    "start_time": "2023-06-19T11:14:01.609Z"
   },
   {
    "duration": 44,
    "start_time": "2023-06-19T11:14:01.623Z"
   },
   {
    "duration": 20600,
    "start_time": "2023-06-19T11:14:01.669Z"
   },
   {
    "duration": 0,
    "start_time": "2023-06-19T11:14:22.271Z"
   },
   {
    "duration": 0,
    "start_time": "2023-06-19T11:14:22.272Z"
   },
   {
    "duration": 0,
    "start_time": "2023-06-19T11:14:22.273Z"
   },
   {
    "duration": 0,
    "start_time": "2023-06-19T11:14:22.274Z"
   },
   {
    "duration": 0,
    "start_time": "2023-06-19T11:14:22.275Z"
   },
   {
    "duration": 0,
    "start_time": "2023-06-19T11:14:22.275Z"
   },
   {
    "duration": 0,
    "start_time": "2023-06-19T11:14:22.276Z"
   },
   {
    "duration": 0,
    "start_time": "2023-06-19T11:14:22.277Z"
   },
   {
    "duration": 0,
    "start_time": "2023-06-19T11:14:22.278Z"
   },
   {
    "duration": 307,
    "start_time": "2023-06-19T11:14:38.559Z"
   },
   {
    "duration": 4,
    "start_time": "2023-06-19T11:15:25.771Z"
   },
   {
    "duration": 14961,
    "start_time": "2023-06-19T11:16:07.972Z"
   },
   {
    "duration": 5,
    "start_time": "2023-06-19T11:16:25.397Z"
   },
   {
    "duration": 833,
    "start_time": "2023-06-19T11:16:25.988Z"
   },
   {
    "duration": 6,
    "start_time": "2023-06-19T11:16:26.823Z"
   },
   {
    "duration": 13,
    "start_time": "2023-06-19T11:16:26.831Z"
   },
   {
    "duration": 28093,
    "start_time": "2023-06-19T11:16:27.771Z"
   },
   {
    "duration": 10932,
    "start_time": "2023-06-19T11:17:00.527Z"
   },
   {
    "duration": 4,
    "start_time": "2023-06-19T11:17:28.819Z"
   },
   {
    "duration": 810,
    "start_time": "2023-06-19T11:17:29.255Z"
   },
   {
    "duration": 7,
    "start_time": "2023-06-19T11:17:30.067Z"
   },
   {
    "duration": 7,
    "start_time": "2023-06-19T11:17:30.144Z"
   },
   {
    "duration": 1002860,
    "start_time": "2023-06-19T11:17:32.163Z"
   },
   {
    "duration": 7,
    "start_time": "2023-06-19T11:41:07.668Z"
   },
   {
    "duration": 6799,
    "start_time": "2023-06-19T11:41:12.206Z"
   },
   {
    "duration": 100647,
    "start_time": "2023-06-19T11:41:24.269Z"
   },
   {
    "duration": 20,
    "start_time": "2023-06-19T11:44:33.031Z"
   },
   {
    "duration": 35,
    "start_time": "2023-06-19T11:44:58.793Z"
   },
   {
    "duration": 28,
    "start_time": "2023-06-19T11:45:21.066Z"
   },
   {
    "duration": 31,
    "start_time": "2023-06-19T11:46:31.692Z"
   },
   {
    "duration": 43,
    "start_time": "2023-06-19T11:46:35.215Z"
   },
   {
    "duration": 40,
    "start_time": "2023-06-19T11:46:38.973Z"
   },
   {
    "duration": 41,
    "start_time": "2023-06-19T11:47:07.019Z"
   },
   {
    "duration": 55,
    "start_time": "2023-06-19T11:47:31.179Z"
   },
   {
    "duration": 58,
    "start_time": "2023-06-19T11:47:35.985Z"
   },
   {
    "duration": 27,
    "start_time": "2023-06-19T11:47:51.851Z"
   },
   {
    "duration": 21,
    "start_time": "2023-06-19T11:48:03.560Z"
   },
   {
    "duration": 253,
    "start_time": "2023-06-19T11:48:48.995Z"
   },
   {
    "duration": 218,
    "start_time": "2023-06-19T11:49:08.673Z"
   },
   {
    "duration": 233,
    "start_time": "2023-06-19T11:49:12.131Z"
   },
   {
    "duration": 16,
    "start_time": "2023-06-19T11:49:26.637Z"
   },
   {
    "duration": 68,
    "start_time": "2023-06-19T11:49:32.223Z"
   },
   {
    "duration": 237,
    "start_time": "2023-06-19T11:50:38.615Z"
   },
   {
    "duration": 3978,
    "start_time": "2023-06-19T11:53:23.891Z"
   },
   {
    "duration": 811,
    "start_time": "2023-06-19T11:53:27.871Z"
   },
   {
    "duration": 27,
    "start_time": "2023-06-19T11:53:28.683Z"
   },
   {
    "duration": 18,
    "start_time": "2023-06-19T11:53:28.711Z"
   },
   {
    "duration": 1001741,
    "start_time": "2023-06-19T11:53:28.730Z"
   },
   {
    "duration": 7,
    "start_time": "2023-06-19T12:10:10.473Z"
   },
   {
    "duration": 48,
    "start_time": "2023-06-19T12:10:10.482Z"
   },
   {
    "duration": 7133,
    "start_time": "2023-06-19T12:10:10.531Z"
   },
   {
    "duration": 112352,
    "start_time": "2023-06-19T12:10:17.666Z"
   },
   {
    "duration": 363,
    "start_time": "2023-06-19T12:12:10.020Z"
   },
   {
    "duration": 0,
    "start_time": "2023-06-19T12:12:10.385Z"
   },
   {
    "duration": 0,
    "start_time": "2023-06-19T12:12:10.385Z"
   },
   {
    "duration": 0,
    "start_time": "2023-06-19T12:12:10.387Z"
   },
   {
    "duration": 0,
    "start_time": "2023-06-19T12:12:10.388Z"
   },
   {
    "duration": 0,
    "start_time": "2023-06-19T12:12:10.389Z"
   },
   {
    "duration": 0,
    "start_time": "2023-06-19T12:12:10.390Z"
   },
   {
    "duration": 31,
    "start_time": "2023-06-19T12:15:28.174Z"
   },
   {
    "duration": 23,
    "start_time": "2023-06-19T12:16:26.164Z"
   },
   {
    "duration": 19,
    "start_time": "2023-06-19T12:18:00.881Z"
   },
   {
    "duration": 17,
    "start_time": "2023-06-19T12:19:37.105Z"
   },
   {
    "duration": 2,
    "start_time": "2023-06-19T12:20:57.833Z"
   },
   {
    "duration": 5,
    "start_time": "2023-06-19T12:23:00.063Z"
   },
   {
    "duration": 19,
    "start_time": "2023-06-19T12:31:07.439Z"
   },
   {
    "duration": 23,
    "start_time": "2023-06-19T12:33:56.417Z"
   },
   {
    "duration": 3446,
    "start_time": "2023-06-19T12:35:06.297Z"
   },
   {
    "duration": 22,
    "start_time": "2023-06-19T12:35:57.022Z"
   },
   {
    "duration": 16587,
    "start_time": "2023-06-19T12:39:46.246Z"
   },
   {
    "duration": 2881,
    "start_time": "2023-06-19T12:40:02.835Z"
   },
   {
    "duration": 15,
    "start_time": "2023-06-19T12:40:05.719Z"
   },
   {
    "duration": 24,
    "start_time": "2023-06-19T12:40:05.735Z"
   },
   {
    "duration": 4133,
    "start_time": "2023-06-19T12:40:59.116Z"
   },
   {
    "duration": 831,
    "start_time": "2023-06-19T12:41:03.250Z"
   },
   {
    "duration": 16,
    "start_time": "2023-06-19T12:41:04.083Z"
   },
   {
    "duration": 76,
    "start_time": "2023-06-19T12:41:04.101Z"
   },
   {
    "duration": 955107,
    "start_time": "2023-06-19T12:41:04.179Z"
   },
   {
    "duration": 6,
    "start_time": "2023-06-19T12:56:59.287Z"
   },
   {
    "duration": 57,
    "start_time": "2023-06-19T12:56:59.299Z"
   },
   {
    "duration": 7609,
    "start_time": "2023-06-19T13:01:38.137Z"
   },
   {
    "duration": 60,
    "start_time": "2023-06-19T13:03:23.234Z"
   },
   {
    "duration": 14660,
    "start_time": "2023-06-19T13:03:29.286Z"
   },
   {
    "duration": 321,
    "start_time": "2023-06-19T13:03:43.949Z"
   },
   {
    "duration": 5,
    "start_time": "2023-06-19T13:04:19.742Z"
   },
   {
    "duration": 2693,
    "start_time": "2023-06-19T13:04:19.748Z"
   },
   {
    "duration": 9,
    "start_time": "2023-06-19T13:04:22.443Z"
   },
   {
    "duration": 6,
    "start_time": "2023-06-19T13:04:22.454Z"
   },
   {
    "duration": 0,
    "start_time": "2023-06-19T13:11:21.241Z"
   },
   {
    "duration": 0,
    "start_time": "2023-06-19T13:11:21.243Z"
   },
   {
    "duration": 0,
    "start_time": "2023-06-19T13:11:21.244Z"
   },
   {
    "duration": 0,
    "start_time": "2023-06-19T13:11:21.245Z"
   },
   {
    "duration": 0,
    "start_time": "2023-06-19T13:11:21.247Z"
   },
   {
    "duration": 0,
    "start_time": "2023-06-19T13:11:21.249Z"
   },
   {
    "duration": 0,
    "start_time": "2023-06-19T13:11:21.252Z"
   },
   {
    "duration": 4,
    "start_time": "2023-06-19T13:11:25.931Z"
   },
   {
    "duration": 779,
    "start_time": "2023-06-19T13:11:27.159Z"
   },
   {
    "duration": 7,
    "start_time": "2023-06-19T13:11:27.940Z"
   },
   {
    "duration": 8,
    "start_time": "2023-06-19T13:11:28.718Z"
   },
   {
    "duration": 935846,
    "start_time": "2023-06-19T13:11:29.728Z"
   },
   {
    "duration": 7,
    "start_time": "2023-06-19T13:27:05.575Z"
   },
   {
    "duration": 57,
    "start_time": "2023-06-19T13:27:05.583Z"
   },
   {
    "duration": 6400,
    "start_time": "2023-06-19T13:29:48.646Z"
   },
   {
    "duration": 107781,
    "start_time": "2023-06-19T13:33:03.531Z"
   },
   {
    "duration": 26,
    "start_time": "2023-06-19T13:35:05.373Z"
   },
   {
    "duration": 107159,
    "start_time": "2023-06-19T13:35:41.453Z"
   },
   {
    "duration": 23,
    "start_time": "2023-06-19T13:37:28.614Z"
   },
   {
    "duration": 21,
    "start_time": "2023-06-19T13:38:38.350Z"
   },
   {
    "duration": 24,
    "start_time": "2023-06-19T13:38:56.345Z"
   },
   {
    "duration": 21,
    "start_time": "2023-06-19T13:39:07.077Z"
   },
   {
    "duration": 360,
    "start_time": "2023-06-19T13:39:17.925Z"
   },
   {
    "duration": 349,
    "start_time": "2023-06-19T13:39:45.214Z"
   },
   {
    "duration": 19,
    "start_time": "2023-06-19T13:53:08.646Z"
   },
   {
    "duration": 466944,
    "start_time": "2023-06-19T13:53:14.958Z"
   },
   {
    "duration": 26,
    "start_time": "2023-06-19T14:02:30.097Z"
   },
   {
    "duration": 19,
    "start_time": "2023-06-19T14:03:25.061Z"
   },
   {
    "duration": 1173,
    "start_time": "2023-06-19T14:03:41.263Z"
   },
   {
    "duration": 34,
    "start_time": "2023-06-19T14:08:31.889Z"
   },
   {
    "duration": 97,
    "start_time": "2023-06-19T14:08:41.036Z"
   },
   {
    "duration": 104,
    "start_time": "2023-06-19T14:08:49.161Z"
   },
   {
    "duration": 1372,
    "start_time": "2023-06-19T14:08:50.969Z"
   },
   {
    "duration": 6295,
    "start_time": "2023-06-19T14:09:03.040Z"
   },
   {
    "duration": 35,
    "start_time": "2023-06-19T14:09:36.880Z"
   },
   {
    "duration": 100,
    "start_time": "2023-06-19T14:10:12.297Z"
   },
   {
    "duration": 38,
    "start_time": "2023-06-19T14:11:06.650Z"
   },
   {
    "duration": 33,
    "start_time": "2023-06-19T14:11:57.524Z"
   },
   {
    "duration": 62,
    "start_time": "2023-06-19T14:11:59.724Z"
   },
   {
    "duration": 1061,
    "start_time": "2023-06-19T14:12:02.134Z"
   },
   {
    "duration": 18,
    "start_time": "2023-06-19T14:12:38.578Z"
   },
   {
    "duration": 1472,
    "start_time": "2023-06-19T14:12:47.174Z"
   },
   {
    "duration": 1037,
    "start_time": "2023-06-19T14:13:10.080Z"
   },
   {
    "duration": 18,
    "start_time": "2023-06-19T14:13:45.512Z"
   },
   {
    "duration": 190,
    "start_time": "2023-06-19T14:14:09.230Z"
   },
   {
    "duration": 30,
    "start_time": "2023-06-19T14:15:01.521Z"
   },
   {
    "duration": 61,
    "start_time": "2023-06-19T14:15:03.430Z"
   },
   {
    "duration": 220,
    "start_time": "2023-06-19T14:15:05.818Z"
   },
   {
    "duration": 460289,
    "start_time": "2023-06-19T14:15:31.137Z"
   },
   {
    "duration": 40,
    "start_time": "2023-06-19T14:29:14.608Z"
   },
   {
    "duration": 25,
    "start_time": "2023-06-19T14:30:56.768Z"
   },
   {
    "duration": 3123,
    "start_time": "2023-06-19T14:31:23.682Z"
   },
   {
    "duration": 1354,
    "start_time": "2023-06-19T14:34:00.381Z"
   },
   {
    "duration": 6322900,
    "start_time": "2023-06-19T14:35:56.430Z"
   },
   {
    "duration": 19,
    "start_time": "2023-06-19T16:39:17.814Z"
   },
   {
    "duration": 31,
    "start_time": "2023-06-19T16:39:42.093Z"
   },
   {
    "duration": 23,
    "start_time": "2023-06-19T16:40:36.912Z"
   },
   {
    "duration": 21,
    "start_time": "2023-06-19T16:40:52.007Z"
   },
   {
    "duration": 21,
    "start_time": "2023-06-19T16:41:03.378Z"
   },
   {
    "duration": 5670,
    "start_time": "2023-06-19T16:41:49.998Z"
   },
   {
    "duration": 748819,
    "start_time": "2023-06-19T16:46:08.539Z"
   },
   {
    "duration": 295644,
    "start_time": "2023-06-19T17:00:35.778Z"
   },
   {
    "duration": 8240,
    "start_time": "2023-06-19T18:07:22.793Z"
   },
   {
    "duration": 2248,
    "start_time": "2023-06-19T18:07:31.034Z"
   },
   {
    "duration": 9,
    "start_time": "2023-06-19T18:07:33.283Z"
   },
   {
    "duration": 84,
    "start_time": "2023-06-19T18:07:33.294Z"
   },
   {
    "duration": 564,
    "start_time": "2023-06-19T18:09:00.228Z"
   },
   {
    "duration": 9,
    "start_time": "2023-06-19T18:09:03.012Z"
   },
   {
    "duration": 767,
    "start_time": "2023-06-19T18:09:03.815Z"
   },
   {
    "duration": 783,
    "start_time": "2023-06-19T18:09:07.030Z"
   },
   {
    "duration": 8,
    "start_time": "2023-06-19T18:09:07.815Z"
   },
   {
    "duration": 7,
    "start_time": "2023-06-19T18:09:12.084Z"
   },
   {
    "duration": 541102,
    "start_time": "2023-06-19T18:10:08.238Z"
   },
   {
    "duration": 916092,
    "start_time": "2023-06-19T18:19:28.098Z"
   },
   {
    "duration": 17,
    "start_time": "2023-06-19T18:37:48.843Z"
   },
   {
    "duration": 6,
    "start_time": "2023-06-19T18:38:08.613Z"
   },
   {
    "duration": 28,
    "start_time": "2023-06-19T18:38:13.357Z"
   },
   {
    "duration": 25,
    "start_time": "2023-06-19T18:38:32.505Z"
   },
   {
    "duration": 27,
    "start_time": "2023-06-19T18:40:13.551Z"
   },
   {
    "duration": 28,
    "start_time": "2023-06-19T18:40:29.376Z"
   },
   {
    "duration": 30,
    "start_time": "2023-06-19T18:41:04.813Z"
   },
   {
    "duration": 295,
    "start_time": "2023-06-19T18:43:06.107Z"
   },
   {
    "duration": 27,
    "start_time": "2023-06-19T18:43:18.777Z"
   },
   {
    "duration": 35,
    "start_time": "2023-06-19T18:43:23.497Z"
   },
   {
    "duration": 203,
    "start_time": "2023-06-19T18:43:26.073Z"
   },
   {
    "duration": 34,
    "start_time": "2023-06-19T18:44:56.123Z"
   },
   {
    "duration": 30,
    "start_time": "2023-06-19T18:44:59.122Z"
   },
   {
    "duration": 89,
    "start_time": "2023-06-19T18:44:59.723Z"
   },
   {
    "duration": 257,
    "start_time": "2023-06-19T18:45:05.196Z"
   },
   {
    "duration": 4,
    "start_time": "2023-06-19T18:46:05.733Z"
   },
   {
    "duration": 1225,
    "start_time": "2023-06-19T18:46:12.380Z"
   },
   {
    "duration": 31,
    "start_time": "2023-06-19T18:46:26.120Z"
   },
   {
    "duration": 794529,
    "start_time": "2023-06-19T18:48:15.970Z"
   },
   {
    "duration": 2635,
    "start_time": "2023-06-19T19:01:38.787Z"
   },
   {
    "duration": 14339626,
    "start_time": "2023-06-19T19:01:51.860Z"
   },
   {
    "duration": 1288,
    "start_time": "2023-06-20T02:24:26.366Z"
   },
   {
    "duration": 86,
    "start_time": "2023-06-20T05:13:56.737Z"
   },
   {
    "duration": 87,
    "start_time": "2023-06-20T05:16:50.943Z"
   },
   {
    "duration": 43,
    "start_time": "2023-06-20T08:26:23.309Z"
   },
   {
    "duration": 5045,
    "start_time": "2023-06-20T08:54:45.115Z"
   },
   {
    "duration": 3507,
    "start_time": "2023-06-20T08:54:53.961Z"
   },
   {
    "duration": 14,
    "start_time": "2023-06-20T08:54:57.471Z"
   },
   {
    "duration": 10,
    "start_time": "2023-06-20T08:54:59.158Z"
   },
   {
    "duration": 1195387,
    "start_time": "2023-06-20T08:55:11.638Z"
   },
   {
    "duration": 10,
    "start_time": "2023-06-20T09:19:37.418Z"
   },
   {
    "duration": 43,
    "start_time": "2023-06-20T09:19:38.160Z"
   },
   {
    "duration": 38,
    "start_time": "2023-06-20T09:19:46.073Z"
   },
   {
    "duration": 191943,
    "start_time": "2023-06-20T09:21:04.025Z"
   },
   {
    "duration": 1506,
    "start_time": "2023-06-20T09:26:07.496Z"
   },
   {
    "duration": 1449196,
    "start_time": "2023-06-20T09:30:12.647Z"
   },
   {
    "duration": 2445,
    "start_time": "2023-06-20T09:59:34.472Z"
   },
   {
    "duration": 5498747,
    "start_time": "2023-06-20T10:00:49.528Z"
   },
   {
    "duration": 9,
    "start_time": "2023-06-20T11:37:56.768Z"
   },
   {
    "duration": 23,
    "start_time": "2023-06-20T11:38:00.903Z"
   },
   {
    "duration": 6,
    "start_time": "2023-06-20T11:38:06.151Z"
   },
   {
    "duration": 4,
    "start_time": "2023-06-20T11:38:24.241Z"
   },
   {
    "duration": 5,
    "start_time": "2023-06-20T11:38:33.434Z"
   },
   {
    "duration": 7,
    "start_time": "2023-06-20T11:39:45.413Z"
   },
   {
    "duration": 9,
    "start_time": "2023-06-20T11:39:58.671Z"
   },
   {
    "duration": 13015,
    "start_time": "2023-06-20T11:41:23.810Z"
   },
   {
    "duration": 12596,
    "start_time": "2023-06-20T11:41:49.983Z"
   },
   {
    "duration": 858541,
    "start_time": "2023-06-20T11:42:33.909Z"
   },
   {
    "duration": 25308,
    "start_time": "2023-06-20T11:57:00.102Z"
   },
   {
    "duration": 7,
    "start_time": "2023-06-20T11:57:33.842Z"
   },
   {
    "duration": 66313,
    "start_time": "2023-06-20T11:57:34.889Z"
   },
   {
    "duration": 303687,
    "start_time": "2023-06-20T11:59:02.351Z"
   },
   {
    "duration": 578608,
    "start_time": "2023-06-20T12:04:52.669Z"
   },
   {
    "duration": 611394,
    "start_time": "2023-06-20T12:53:19.944Z"
   },
   {
    "duration": 6,
    "start_time": "2023-06-20T15:02:02.416Z"
   },
   {
    "duration": 572708,
    "start_time": "2023-06-20T15:10:20.308Z"
   },
   {
    "duration": 557914,
    "start_time": "2023-06-20T15:38:43.757Z"
   },
   {
    "duration": 7,
    "start_time": "2023-06-20T15:52:53.587Z"
   },
   {
    "duration": 70,
    "start_time": "2023-06-20T15:53:07.104Z"
   },
   {
    "duration": 6,
    "start_time": "2023-06-20T15:53:10.649Z"
   },
   {
    "duration": 544341,
    "start_time": "2023-06-20T16:01:29.040Z"
   },
   {
    "duration": 7906,
    "start_time": "2023-06-20T16:15:29.398Z"
   },
   {
    "duration": 561992,
    "start_time": "2023-06-20T16:16:07.541Z"
   },
   {
    "duration": 7706,
    "start_time": "2023-06-20T16:32:45.342Z"
   },
   {
    "duration": 5306,
    "start_time": "2023-06-20T17:32:18.862Z"
   },
   {
    "duration": 3470,
    "start_time": "2023-06-20T17:32:24.170Z"
   },
   {
    "duration": 14,
    "start_time": "2023-06-20T17:32:27.642Z"
   },
   {
    "duration": 8,
    "start_time": "2023-06-20T17:32:27.658Z"
   },
   {
    "duration": 828860,
    "start_time": "2023-06-20T17:32:27.669Z"
   },
   {
    "duration": 0,
    "start_time": "2023-06-20T17:46:16.531Z"
   },
   {
    "duration": 0,
    "start_time": "2023-06-20T17:46:16.532Z"
   },
   {
    "duration": 0,
    "start_time": "2023-06-20T17:46:16.534Z"
   },
   {
    "duration": 0,
    "start_time": "2023-06-20T17:46:16.535Z"
   },
   {
    "duration": 0,
    "start_time": "2023-06-20T17:46:16.536Z"
   },
   {
    "duration": 0,
    "start_time": "2023-06-20T17:46:16.537Z"
   },
   {
    "duration": 11,
    "start_time": "2023-06-20T18:23:12.640Z"
   },
   {
    "duration": 832,
    "start_time": "2023-06-20T18:23:12.653Z"
   },
   {
    "duration": 8,
    "start_time": "2023-06-20T18:23:13.487Z"
   },
   {
    "duration": 8,
    "start_time": "2023-06-20T18:23:13.498Z"
   },
   {
    "duration": 777210,
    "start_time": "2023-06-20T18:23:13.508Z"
   },
   {
    "duration": 0,
    "start_time": "2023-06-20T18:36:10.720Z"
   },
   {
    "duration": 0,
    "start_time": "2023-06-20T18:36:10.722Z"
   },
   {
    "duration": 0,
    "start_time": "2023-06-20T18:36:10.723Z"
   },
   {
    "duration": 0,
    "start_time": "2023-06-20T18:36:10.724Z"
   },
   {
    "duration": 0,
    "start_time": "2023-06-20T18:36:10.726Z"
   },
   {
    "duration": 0,
    "start_time": "2023-06-20T18:36:10.727Z"
   },
   {
    "duration": 278,
    "start_time": "2023-06-20T18:36:17.712Z"
   },
   {
    "duration": 1292890,
    "start_time": "2023-06-20T18:37:40.304Z"
   },
   {
    "duration": 20,
    "start_time": "2023-06-20T19:04:19.619Z"
   },
   {
    "duration": 6,
    "start_time": "2023-06-20T19:04:49.927Z"
   },
   {
    "duration": 21,
    "start_time": "2023-06-20T19:04:54.448Z"
   },
   {
    "duration": 23,
    "start_time": "2023-06-20T19:05:06.638Z"
   },
   {
    "duration": 45,
    "start_time": "2023-06-20T19:05:34.458Z"
   },
   {
    "duration": 465067,
    "start_time": "2023-06-20T19:05:45.490Z"
   },
   {
    "duration": 32569,
    "start_time": "2023-06-20T19:16:26.925Z"
   },
   {
    "duration": 96001,
    "start_time": "2023-06-20T19:17:05.623Z"
   },
   {
    "duration": 133817,
    "start_time": "2023-06-20T19:19:28.510Z"
   },
   {
    "duration": 14,
    "start_time": "2023-06-20T19:57:34.928Z"
   },
   {
    "duration": 128731,
    "start_time": "2023-06-20T19:58:27.244Z"
   },
   {
    "duration": 224,
    "start_time": "2023-06-20T20:08:57.640Z"
   },
   {
    "duration": 187681,
    "start_time": "2023-06-20T20:09:31.423Z"
   },
   {
    "duration": 96,
    "start_time": "2023-06-20T20:18:40.033Z"
   },
   {
    "duration": 102,
    "start_time": "2023-06-20T20:18:57.013Z"
   },
   {
    "duration": 26,
    "start_time": "2023-06-20T20:19:06.893Z"
   },
   {
    "duration": 1257,
    "start_time": "2023-06-20T20:19:16.119Z"
   },
   {
    "duration": 13,
    "start_time": "2023-06-20T20:20:04.306Z"
   },
   {
    "duration": 2011,
    "start_time": "2023-06-20T20:27:16.213Z"
   },
   {
    "duration": 2021,
    "start_time": "2023-06-20T20:27:22.607Z"
   },
   {
    "duration": 36820,
    "start_time": "2023-06-20T20:30:06.455Z"
   },
   {
    "duration": 526447,
    "start_time": "2023-06-20T20:30:55.998Z"
   },
   {
    "duration": 85,
    "start_time": "2023-06-20T20:41:06.049Z"
   },
   {
    "duration": 83,
    "start_time": "2023-06-20T20:42:49.437Z"
   },
   {
    "duration": 86,
    "start_time": "2023-06-20T20:44:54.899Z"
   },
   {
    "duration": 83,
    "start_time": "2023-06-20T20:46:29.633Z"
   },
   {
    "duration": 65,
    "start_time": "2023-06-20T20:49:04.981Z"
   },
   {
    "duration": 77,
    "start_time": "2023-06-20T20:51:55.632Z"
   },
   {
    "duration": 86,
    "start_time": "2023-06-20T20:55:16.011Z"
   },
   {
    "duration": 77,
    "start_time": "2023-06-20T20:57:03.028Z"
   },
   {
    "duration": 81,
    "start_time": "2023-06-20T20:57:07.246Z"
   },
   {
    "duration": 4705,
    "start_time": "2023-06-20T20:59:40.685Z"
   },
   {
    "duration": 855,
    "start_time": "2023-06-20T20:59:45.392Z"
   },
   {
    "duration": 17,
    "start_time": "2023-06-20T20:59:46.258Z"
   },
   {
    "duration": 13,
    "start_time": "2023-06-20T20:59:46.277Z"
   },
   {
    "duration": 1216291,
    "start_time": "2023-06-20T20:59:46.291Z"
   },
   {
    "duration": 9,
    "start_time": "2023-06-20T21:20:02.585Z"
   },
   {
    "duration": 58,
    "start_time": "2023-06-20T21:20:02.596Z"
   },
   {
    "duration": 47,
    "start_time": "2023-06-20T21:20:02.656Z"
   },
   {
    "duration": 473066,
    "start_time": "2023-06-20T21:20:02.705Z"
   },
   {
    "duration": 121273,
    "start_time": "2023-06-20T21:27:55.775Z"
   },
   {
    "duration": 180350,
    "start_time": "2023-06-20T21:29:57.050Z"
   },
   {
    "duration": 16,
    "start_time": "2023-06-20T21:32:57.402Z"
   },
   {
    "duration": 480593,
    "start_time": "2023-06-20T21:32:57.420Z"
   }
  ],
  "kernelspec": {
   "display_name": "Python 3 (ipykernel)",
   "language": "python",
   "name": "python3"
  },
  "language_info": {
   "codemirror_mode": {
    "name": "ipython",
    "version": 3
   },
   "file_extension": ".py",
   "mimetype": "text/x-python",
   "name": "python",
   "nbconvert_exporter": "python",
   "pygments_lexer": "ipython3",
   "version": "3.10.9"
  },
  "toc": {
   "base_numbering": 1,
   "nav_menu": {},
   "number_sections": true,
   "sideBar": true,
   "skip_h1_title": true,
   "title_cell": "Содержание",
   "title_sidebar": "Contents",
   "toc_cell": true,
   "toc_position": {
    "height": "calc(100% - 180px)",
    "left": "10px",
    "top": "150px",
    "width": "302.391px"
   },
   "toc_section_display": true,
   "toc_window_display": false
  }
 },
 "nbformat": 4,
 "nbformat_minor": 2
}
