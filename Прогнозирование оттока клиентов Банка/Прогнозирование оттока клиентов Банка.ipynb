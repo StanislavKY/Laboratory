{
 "cells": [
  {
   "cell_type": "markdown",
   "metadata": {},
   "source": [
    "# Отток клиентов"
   ]
  },
  {
   "cell_type": "markdown",
   "metadata": {},
   "source": [
    "Из «Бета-Банка» стали уходить клиенты. Каждый месяц. Немного, но заметно. Банковские маркетологи посчитали: сохранять текущих клиентов дешевле, чем привлекать новых.\n",
    "\n",
    "Нужно спрогнозировать, уйдёт клиент из банка в ближайшее время или нет. Вам предоставлены исторические данные о поведении клиентов и расторжении договоров с банком. \n",
    "\n",
    "Постройте модель с предельно большим значением *F1*-меры. Чтобы сдать проект успешно, нужно довести метрику до 0.59. Проверьте *F1*-меру на тестовой выборке самостоятельно.\n",
    "\n",
    "Дополнительно измеряйте *AUC-ROC*, сравнивайте её значение с *F1*-мерой.\n",
    "\n",
    "Источник данных: [https://www.kaggle.com/barelydedicated/bank-customer-churn-modeling](https://www.kaggle.com/barelydedicated/bank-customer-churn-modeling)"
   ]
  },
  {
   "cell_type": "markdown",
   "metadata": {},
   "source": [
    "## Подготовка данных"
   ]
  },
  {
   "cell_type": "code",
   "execution_count": 26,
   "metadata": {},
   "outputs": [],
   "source": [
    "import pandas as pd\n",
    "import numpy as np\n",
    "from sklearn.model_selection import train_test_split\n",
    "from sklearn.preprocessing import StandardScaler\n",
    "from sklearn.linear_model import LogisticRegression\n",
    "from sklearn.tree import DecisionTreeClassifier\n",
    "from sklearn.ensemble import RandomForestClassifier\n",
    "from sklearn.metrics import f1_score, roc_auc_score\n",
    "from sklearn.metrics import classification_report \n",
    "import pandas as pd\n",
    "pd.options.mode.chained_assignment = None\n",
    "from sklearn.utils import shuffle\n",
    "from sklearn.metrics import accuracy_score, f1_score, recall_score, precision_score, roc_auc_score, roc_curve, confusion_matrix\n",
    "import matplotlib.pyplot as plt\n",
    "import warnings\n",
    "warnings.filterwarnings(\"ignore\")\n",
    "\n"
   ]
  },
  {
   "cell_type": "code",
   "execution_count": 27,
   "metadata": {},
   "outputs": [],
   "source": [
    "try: \n",
    "    df = pd.read_csv('/datasets/Churn.csv')\n",
    "except:\n",
    "    df = pd.read_csv(r'C:\\Users\\QWE\\Documents\\Проекты для GitHub\\7\\Churn.csv')"
   ]
  },
  {
   "cell_type": "code",
   "execution_count": 28,
   "metadata": {
    "scrolled": true
   },
   "outputs": [
    {
     "name": "stdout",
     "output_type": "stream",
     "text": [
      "<class 'pandas.core.frame.DataFrame'>\n",
      "RangeIndex: 10000 entries, 0 to 9999\n",
      "Data columns (total 14 columns):\n",
      " #   Column           Non-Null Count  Dtype  \n",
      "---  ------           --------------  -----  \n",
      " 0   RowNumber        10000 non-null  int64  \n",
      " 1   CustomerId       10000 non-null  int64  \n",
      " 2   Surname          10000 non-null  object \n",
      " 3   CreditScore      10000 non-null  int64  \n",
      " 4   Geography        10000 non-null  object \n",
      " 5   Gender           10000 non-null  object \n",
      " 6   Age              10000 non-null  int64  \n",
      " 7   Tenure           9091 non-null   float64\n",
      " 8   Balance          10000 non-null  float64\n",
      " 9   NumOfProducts    10000 non-null  int64  \n",
      " 10  HasCrCard        10000 non-null  int64  \n",
      " 11  IsActiveMember   10000 non-null  int64  \n",
      " 12  EstimatedSalary  10000 non-null  float64\n",
      " 13  Exited           10000 non-null  int64  \n",
      "dtypes: float64(3), int64(8), object(3)\n",
      "memory usage: 1.1+ MB\n"
     ]
    }
   ],
   "source": [
    "df.info()"
   ]
  },
  {
   "cell_type": "code",
   "execution_count": 29,
   "metadata": {},
   "outputs": [
    {
     "data": {
      "text/plain": [
       "(10000, 14)"
      ]
     },
     "execution_count": 29,
     "metadata": {},
     "output_type": "execute_result"
    }
   ],
   "source": [
    "df.shape"
   ]
  },
  {
   "cell_type": "code",
   "execution_count": 30,
   "metadata": {
    "scrolled": false
   },
   "outputs": [
    {
     "data": {
      "text/html": [
       "<div>\n",
       "<style scoped>\n",
       "    .dataframe tbody tr th:only-of-type {\n",
       "        vertical-align: middle;\n",
       "    }\n",
       "\n",
       "    .dataframe tbody tr th {\n",
       "        vertical-align: top;\n",
       "    }\n",
       "\n",
       "    .dataframe thead th {\n",
       "        text-align: right;\n",
       "    }\n",
       "</style>\n",
       "<table border=\"1\" class=\"dataframe\">\n",
       "  <thead>\n",
       "    <tr style=\"text-align: right;\">\n",
       "      <th></th>\n",
       "      <th>RowNumber</th>\n",
       "      <th>CustomerId</th>\n",
       "      <th>CreditScore</th>\n",
       "      <th>Age</th>\n",
       "      <th>Tenure</th>\n",
       "      <th>Balance</th>\n",
       "      <th>NumOfProducts</th>\n",
       "      <th>HasCrCard</th>\n",
       "      <th>IsActiveMember</th>\n",
       "      <th>EstimatedSalary</th>\n",
       "      <th>Exited</th>\n",
       "    </tr>\n",
       "  </thead>\n",
       "  <tbody>\n",
       "    <tr>\n",
       "      <th>count</th>\n",
       "      <td>10000.00000</td>\n",
       "      <td>1.000000e+04</td>\n",
       "      <td>10000.000000</td>\n",
       "      <td>10000.000000</td>\n",
       "      <td>9091.000000</td>\n",
       "      <td>10000.000000</td>\n",
       "      <td>10000.000000</td>\n",
       "      <td>10000.00000</td>\n",
       "      <td>10000.000000</td>\n",
       "      <td>10000.000000</td>\n",
       "      <td>10000.000000</td>\n",
       "    </tr>\n",
       "    <tr>\n",
       "      <th>mean</th>\n",
       "      <td>5000.50000</td>\n",
       "      <td>1.569094e+07</td>\n",
       "      <td>650.528800</td>\n",
       "      <td>38.921800</td>\n",
       "      <td>4.997690</td>\n",
       "      <td>76485.889288</td>\n",
       "      <td>1.530200</td>\n",
       "      <td>0.70550</td>\n",
       "      <td>0.515100</td>\n",
       "      <td>100090.239881</td>\n",
       "      <td>0.203700</td>\n",
       "    </tr>\n",
       "    <tr>\n",
       "      <th>std</th>\n",
       "      <td>2886.89568</td>\n",
       "      <td>7.193619e+04</td>\n",
       "      <td>96.653299</td>\n",
       "      <td>10.487806</td>\n",
       "      <td>2.894723</td>\n",
       "      <td>62397.405202</td>\n",
       "      <td>0.581654</td>\n",
       "      <td>0.45584</td>\n",
       "      <td>0.499797</td>\n",
       "      <td>57510.492818</td>\n",
       "      <td>0.402769</td>\n",
       "    </tr>\n",
       "    <tr>\n",
       "      <th>min</th>\n",
       "      <td>1.00000</td>\n",
       "      <td>1.556570e+07</td>\n",
       "      <td>350.000000</td>\n",
       "      <td>18.000000</td>\n",
       "      <td>0.000000</td>\n",
       "      <td>0.000000</td>\n",
       "      <td>1.000000</td>\n",
       "      <td>0.00000</td>\n",
       "      <td>0.000000</td>\n",
       "      <td>11.580000</td>\n",
       "      <td>0.000000</td>\n",
       "    </tr>\n",
       "    <tr>\n",
       "      <th>25%</th>\n",
       "      <td>2500.75000</td>\n",
       "      <td>1.562853e+07</td>\n",
       "      <td>584.000000</td>\n",
       "      <td>32.000000</td>\n",
       "      <td>2.000000</td>\n",
       "      <td>0.000000</td>\n",
       "      <td>1.000000</td>\n",
       "      <td>0.00000</td>\n",
       "      <td>0.000000</td>\n",
       "      <td>51002.110000</td>\n",
       "      <td>0.000000</td>\n",
       "    </tr>\n",
       "    <tr>\n",
       "      <th>50%</th>\n",
       "      <td>5000.50000</td>\n",
       "      <td>1.569074e+07</td>\n",
       "      <td>652.000000</td>\n",
       "      <td>37.000000</td>\n",
       "      <td>5.000000</td>\n",
       "      <td>97198.540000</td>\n",
       "      <td>1.000000</td>\n",
       "      <td>1.00000</td>\n",
       "      <td>1.000000</td>\n",
       "      <td>100193.915000</td>\n",
       "      <td>0.000000</td>\n",
       "    </tr>\n",
       "    <tr>\n",
       "      <th>75%</th>\n",
       "      <td>7500.25000</td>\n",
       "      <td>1.575323e+07</td>\n",
       "      <td>718.000000</td>\n",
       "      <td>44.000000</td>\n",
       "      <td>7.000000</td>\n",
       "      <td>127644.240000</td>\n",
       "      <td>2.000000</td>\n",
       "      <td>1.00000</td>\n",
       "      <td>1.000000</td>\n",
       "      <td>149388.247500</td>\n",
       "      <td>0.000000</td>\n",
       "    </tr>\n",
       "    <tr>\n",
       "      <th>max</th>\n",
       "      <td>10000.00000</td>\n",
       "      <td>1.581569e+07</td>\n",
       "      <td>850.000000</td>\n",
       "      <td>92.000000</td>\n",
       "      <td>10.000000</td>\n",
       "      <td>250898.090000</td>\n",
       "      <td>4.000000</td>\n",
       "      <td>1.00000</td>\n",
       "      <td>1.000000</td>\n",
       "      <td>199992.480000</td>\n",
       "      <td>1.000000</td>\n",
       "    </tr>\n",
       "  </tbody>\n",
       "</table>\n",
       "</div>"
      ],
      "text/plain": [
       "         RowNumber    CustomerId   CreditScore           Age       Tenure  \\\n",
       "count  10000.00000  1.000000e+04  10000.000000  10000.000000  9091.000000   \n",
       "mean    5000.50000  1.569094e+07    650.528800     38.921800     4.997690   \n",
       "std     2886.89568  7.193619e+04     96.653299     10.487806     2.894723   \n",
       "min        1.00000  1.556570e+07    350.000000     18.000000     0.000000   \n",
       "25%     2500.75000  1.562853e+07    584.000000     32.000000     2.000000   \n",
       "50%     5000.50000  1.569074e+07    652.000000     37.000000     5.000000   \n",
       "75%     7500.25000  1.575323e+07    718.000000     44.000000     7.000000   \n",
       "max    10000.00000  1.581569e+07    850.000000     92.000000    10.000000   \n",
       "\n",
       "             Balance  NumOfProducts    HasCrCard  IsActiveMember  \\\n",
       "count   10000.000000   10000.000000  10000.00000    10000.000000   \n",
       "mean    76485.889288       1.530200      0.70550        0.515100   \n",
       "std     62397.405202       0.581654      0.45584        0.499797   \n",
       "min         0.000000       1.000000      0.00000        0.000000   \n",
       "25%         0.000000       1.000000      0.00000        0.000000   \n",
       "50%     97198.540000       1.000000      1.00000        1.000000   \n",
       "75%    127644.240000       2.000000      1.00000        1.000000   \n",
       "max    250898.090000       4.000000      1.00000        1.000000   \n",
       "\n",
       "       EstimatedSalary        Exited  \n",
       "count     10000.000000  10000.000000  \n",
       "mean     100090.239881      0.203700  \n",
       "std       57510.492818      0.402769  \n",
       "min          11.580000      0.000000  \n",
       "25%       51002.110000      0.000000  \n",
       "50%      100193.915000      0.000000  \n",
       "75%      149388.247500      0.000000  \n",
       "max      199992.480000      1.000000  "
      ]
     },
     "execution_count": 30,
     "metadata": {},
     "output_type": "execute_result"
    }
   ],
   "source": [
    "df.describe()"
   ]
  },
  {
   "cell_type": "code",
   "execution_count": 31,
   "metadata": {
    "scrolled": true
   },
   "outputs": [
    {
     "data": {
      "text/html": [
       "<div>\n",
       "<style scoped>\n",
       "    .dataframe tbody tr th:only-of-type {\n",
       "        vertical-align: middle;\n",
       "    }\n",
       "\n",
       "    .dataframe tbody tr th {\n",
       "        vertical-align: top;\n",
       "    }\n",
       "\n",
       "    .dataframe thead th {\n",
       "        text-align: right;\n",
       "    }\n",
       "</style>\n",
       "<table border=\"1\" class=\"dataframe\">\n",
       "  <thead>\n",
       "    <tr style=\"text-align: right;\">\n",
       "      <th></th>\n",
       "      <th>RowNumber</th>\n",
       "      <th>CustomerId</th>\n",
       "      <th>Surname</th>\n",
       "      <th>CreditScore</th>\n",
       "      <th>Geography</th>\n",
       "      <th>Gender</th>\n",
       "      <th>Age</th>\n",
       "      <th>Tenure</th>\n",
       "      <th>Balance</th>\n",
       "      <th>NumOfProducts</th>\n",
       "      <th>HasCrCard</th>\n",
       "      <th>IsActiveMember</th>\n",
       "      <th>EstimatedSalary</th>\n",
       "      <th>Exited</th>\n",
       "    </tr>\n",
       "  </thead>\n",
       "  <tbody>\n",
       "    <tr>\n",
       "      <th>0</th>\n",
       "      <td>1</td>\n",
       "      <td>15634602</td>\n",
       "      <td>Hargrave</td>\n",
       "      <td>619</td>\n",
       "      <td>France</td>\n",
       "      <td>Female</td>\n",
       "      <td>42</td>\n",
       "      <td>2.0</td>\n",
       "      <td>0.00</td>\n",
       "      <td>1</td>\n",
       "      <td>1</td>\n",
       "      <td>1</td>\n",
       "      <td>101348.88</td>\n",
       "      <td>1</td>\n",
       "    </tr>\n",
       "    <tr>\n",
       "      <th>1</th>\n",
       "      <td>2</td>\n",
       "      <td>15647311</td>\n",
       "      <td>Hill</td>\n",
       "      <td>608</td>\n",
       "      <td>Spain</td>\n",
       "      <td>Female</td>\n",
       "      <td>41</td>\n",
       "      <td>1.0</td>\n",
       "      <td>83807.86</td>\n",
       "      <td>1</td>\n",
       "      <td>0</td>\n",
       "      <td>1</td>\n",
       "      <td>112542.58</td>\n",
       "      <td>0</td>\n",
       "    </tr>\n",
       "    <tr>\n",
       "      <th>2</th>\n",
       "      <td>3</td>\n",
       "      <td>15619304</td>\n",
       "      <td>Onio</td>\n",
       "      <td>502</td>\n",
       "      <td>France</td>\n",
       "      <td>Female</td>\n",
       "      <td>42</td>\n",
       "      <td>8.0</td>\n",
       "      <td>159660.80</td>\n",
       "      <td>3</td>\n",
       "      <td>1</td>\n",
       "      <td>0</td>\n",
       "      <td>113931.57</td>\n",
       "      <td>1</td>\n",
       "    </tr>\n",
       "    <tr>\n",
       "      <th>3</th>\n",
       "      <td>4</td>\n",
       "      <td>15701354</td>\n",
       "      <td>Boni</td>\n",
       "      <td>699</td>\n",
       "      <td>France</td>\n",
       "      <td>Female</td>\n",
       "      <td>39</td>\n",
       "      <td>1.0</td>\n",
       "      <td>0.00</td>\n",
       "      <td>2</td>\n",
       "      <td>0</td>\n",
       "      <td>0</td>\n",
       "      <td>93826.63</td>\n",
       "      <td>0</td>\n",
       "    </tr>\n",
       "    <tr>\n",
       "      <th>4</th>\n",
       "      <td>5</td>\n",
       "      <td>15737888</td>\n",
       "      <td>Mitchell</td>\n",
       "      <td>850</td>\n",
       "      <td>Spain</td>\n",
       "      <td>Female</td>\n",
       "      <td>43</td>\n",
       "      <td>2.0</td>\n",
       "      <td>125510.82</td>\n",
       "      <td>1</td>\n",
       "      <td>1</td>\n",
       "      <td>1</td>\n",
       "      <td>79084.10</td>\n",
       "      <td>0</td>\n",
       "    </tr>\n",
       "  </tbody>\n",
       "</table>\n",
       "</div>"
      ],
      "text/plain": [
       "   RowNumber  CustomerId   Surname  CreditScore Geography  Gender  Age  \\\n",
       "0          1    15634602  Hargrave          619    France  Female   42   \n",
       "1          2    15647311      Hill          608     Spain  Female   41   \n",
       "2          3    15619304      Onio          502    France  Female   42   \n",
       "3          4    15701354      Boni          699    France  Female   39   \n",
       "4          5    15737888  Mitchell          850     Spain  Female   43   \n",
       "\n",
       "   Tenure    Balance  NumOfProducts  HasCrCard  IsActiveMember  \\\n",
       "0     2.0       0.00              1          1               1   \n",
       "1     1.0   83807.86              1          0               1   \n",
       "2     8.0  159660.80              3          1               0   \n",
       "3     1.0       0.00              2          0               0   \n",
       "4     2.0  125510.82              1          1               1   \n",
       "\n",
       "   EstimatedSalary  Exited  \n",
       "0        101348.88       1  \n",
       "1        112542.58       0  \n",
       "2        113931.57       1  \n",
       "3         93826.63       0  \n",
       "4         79084.10       0  "
      ]
     },
     "execution_count": 31,
     "metadata": {},
     "output_type": "execute_result"
    }
   ],
   "source": [
    "df.head(5)"
   ]
  },
  {
   "cell_type": "code",
   "execution_count": 32,
   "metadata": {},
   "outputs": [
    {
     "data": {
      "text/plain": [
       "0"
      ]
     },
     "execution_count": 32,
     "metadata": {},
     "output_type": "execute_result"
    }
   ],
   "source": [
    "df.duplicated().sum()"
   ]
  },
  {
   "cell_type": "code",
   "execution_count": 33,
   "metadata": {},
   "outputs": [
    {
     "data": {
      "text/plain": [
       "RowNumber            0\n",
       "CustomerId           0\n",
       "Surname              0\n",
       "CreditScore          0\n",
       "Geography            0\n",
       "Gender               0\n",
       "Age                  0\n",
       "Tenure             909\n",
       "Balance              0\n",
       "NumOfProducts        0\n",
       "HasCrCard            0\n",
       "IsActiveMember       0\n",
       "EstimatedSalary      0\n",
       "Exited               0\n",
       "dtype: int64"
      ]
     },
     "execution_count": 33,
     "metadata": {},
     "output_type": "execute_result"
    }
   ],
   "source": [
    "df.isna().sum()"
   ]
  },
  {
   "cell_type": "code",
   "execution_count": 34,
   "metadata": {},
   "outputs": [],
   "source": [
    "df = df.drop(['RowNumber', 'CustomerId', 'Surname'], axis=1 )\n",
    "\n",
    "\n",
    "df.dropna(subset=['Tenure'], inplace=True)\n",
    "df['Tenure']= df['Tenure'].astype('int64')"
   ]
  },
  {
   "cell_type": "code",
   "execution_count": 35,
   "metadata": {
    "scrolled": false
   },
   "outputs": [
    {
     "data": {
      "text/plain": [
       "CreditScore        0\n",
       "Geography          0\n",
       "Gender             0\n",
       "Age                0\n",
       "Tenure             0\n",
       "Balance            0\n",
       "NumOfProducts      0\n",
       "HasCrCard          0\n",
       "IsActiveMember     0\n",
       "EstimatedSalary    0\n",
       "Exited             0\n",
       "dtype: int64"
      ]
     },
     "execution_count": 35,
     "metadata": {},
     "output_type": "execute_result"
    }
   ],
   "source": [
    "df.isna().sum()"
   ]
  },
  {
   "cell_type": "code",
   "execution_count": 36,
   "metadata": {},
   "outputs": [
    {
     "data": {
      "text/plain": [
       "array(['Female', 'Male'], dtype=object)"
      ]
     },
     "execution_count": 36,
     "metadata": {},
     "output_type": "execute_result"
    }
   ],
   "source": [
    "df['Gender'].unique()"
   ]
  },
  {
   "cell_type": "code",
   "execution_count": 37,
   "metadata": {},
   "outputs": [
    {
     "data": {
      "text/plain": [
       "array(['France', 'Spain', 'Germany'], dtype=object)"
      ]
     },
     "execution_count": 37,
     "metadata": {},
     "output_type": "execute_result"
    }
   ],
   "source": [
    "df['Geography'].unique()"
   ]
  },
  {
   "cell_type": "markdown",
   "metadata": {},
   "source": [
    "Вывод: Данные загружены и изучены. Удалены столбцы - 'RowNumber', 'CustomerId', 'Surname', как столбцы не несущие какой-то значимой информации. Проверено на дубликаты, пропуски (df['Tenure'] заполнил нулем) "
   ]
  },
  {
   "cell_type": "markdown",
   "metadata": {},
   "source": [
    "## Исследование задачи"
   ]
  },
  {
   "cell_type": "markdown",
   "metadata": {},
   "source": [
    "Данные подготовим методом OHE"
   ]
  },
  {
   "cell_type": "code",
   "execution_count": 38,
   "metadata": {},
   "outputs": [],
   "source": [
    "df = pd.get_dummies(df, drop_first=True, columns=['Geography', 'Gender']) "
   ]
  },
  {
   "cell_type": "code",
   "execution_count": 39,
   "metadata": {
    "scrolled": true
   },
   "outputs": [
    {
     "data": {
      "text/html": [
       "<div>\n",
       "<style scoped>\n",
       "    .dataframe tbody tr th:only-of-type {\n",
       "        vertical-align: middle;\n",
       "    }\n",
       "\n",
       "    .dataframe tbody tr th {\n",
       "        vertical-align: top;\n",
       "    }\n",
       "\n",
       "    .dataframe thead th {\n",
       "        text-align: right;\n",
       "    }\n",
       "</style>\n",
       "<table border=\"1\" class=\"dataframe\">\n",
       "  <thead>\n",
       "    <tr style=\"text-align: right;\">\n",
       "      <th></th>\n",
       "      <th>CreditScore</th>\n",
       "      <th>Age</th>\n",
       "      <th>Tenure</th>\n",
       "      <th>Balance</th>\n",
       "      <th>NumOfProducts</th>\n",
       "      <th>HasCrCard</th>\n",
       "      <th>IsActiveMember</th>\n",
       "      <th>EstimatedSalary</th>\n",
       "      <th>Exited</th>\n",
       "      <th>Geography_Germany</th>\n",
       "      <th>Geography_Spain</th>\n",
       "      <th>Gender_Male</th>\n",
       "    </tr>\n",
       "  </thead>\n",
       "  <tbody>\n",
       "    <tr>\n",
       "      <th>0</th>\n",
       "      <td>619</td>\n",
       "      <td>42</td>\n",
       "      <td>2</td>\n",
       "      <td>0.00</td>\n",
       "      <td>1</td>\n",
       "      <td>1</td>\n",
       "      <td>1</td>\n",
       "      <td>101348.88</td>\n",
       "      <td>1</td>\n",
       "      <td>False</td>\n",
       "      <td>False</td>\n",
       "      <td>False</td>\n",
       "    </tr>\n",
       "    <tr>\n",
       "      <th>1</th>\n",
       "      <td>608</td>\n",
       "      <td>41</td>\n",
       "      <td>1</td>\n",
       "      <td>83807.86</td>\n",
       "      <td>1</td>\n",
       "      <td>0</td>\n",
       "      <td>1</td>\n",
       "      <td>112542.58</td>\n",
       "      <td>0</td>\n",
       "      <td>False</td>\n",
       "      <td>True</td>\n",
       "      <td>False</td>\n",
       "    </tr>\n",
       "    <tr>\n",
       "      <th>2</th>\n",
       "      <td>502</td>\n",
       "      <td>42</td>\n",
       "      <td>8</td>\n",
       "      <td>159660.80</td>\n",
       "      <td>3</td>\n",
       "      <td>1</td>\n",
       "      <td>0</td>\n",
       "      <td>113931.57</td>\n",
       "      <td>1</td>\n",
       "      <td>False</td>\n",
       "      <td>False</td>\n",
       "      <td>False</td>\n",
       "    </tr>\n",
       "    <tr>\n",
       "      <th>3</th>\n",
       "      <td>699</td>\n",
       "      <td>39</td>\n",
       "      <td>1</td>\n",
       "      <td>0.00</td>\n",
       "      <td>2</td>\n",
       "      <td>0</td>\n",
       "      <td>0</td>\n",
       "      <td>93826.63</td>\n",
       "      <td>0</td>\n",
       "      <td>False</td>\n",
       "      <td>False</td>\n",
       "      <td>False</td>\n",
       "    </tr>\n",
       "    <tr>\n",
       "      <th>4</th>\n",
       "      <td>850</td>\n",
       "      <td>43</td>\n",
       "      <td>2</td>\n",
       "      <td>125510.82</td>\n",
       "      <td>1</td>\n",
       "      <td>1</td>\n",
       "      <td>1</td>\n",
       "      <td>79084.10</td>\n",
       "      <td>0</td>\n",
       "      <td>False</td>\n",
       "      <td>True</td>\n",
       "      <td>False</td>\n",
       "    </tr>\n",
       "  </tbody>\n",
       "</table>\n",
       "</div>"
      ],
      "text/plain": [
       "   CreditScore  Age  Tenure    Balance  NumOfProducts  HasCrCard  \\\n",
       "0          619   42       2       0.00              1          1   \n",
       "1          608   41       1   83807.86              1          0   \n",
       "2          502   42       8  159660.80              3          1   \n",
       "3          699   39       1       0.00              2          0   \n",
       "4          850   43       2  125510.82              1          1   \n",
       "\n",
       "   IsActiveMember  EstimatedSalary  Exited  Geography_Germany  \\\n",
       "0               1        101348.88       1              False   \n",
       "1               1        112542.58       0              False   \n",
       "2               0        113931.57       1              False   \n",
       "3               0         93826.63       0              False   \n",
       "4               1         79084.10       0              False   \n",
       "\n",
       "   Geography_Spain  Gender_Male  \n",
       "0            False        False  \n",
       "1             True        False  \n",
       "2            False        False  \n",
       "3            False        False  \n",
       "4             True        False  "
      ]
     },
     "execution_count": 39,
     "metadata": {},
     "output_type": "execute_result"
    }
   ],
   "source": [
    "df.head()"
   ]
  },
  {
   "cell_type": "code",
   "execution_count": 40,
   "metadata": {},
   "outputs": [],
   "source": [
    "features = df.drop('Exited', axis=1)\n",
    "target = df['Exited']\n",
    "\n",
    "features_train, features_validtest, target_train, target_validtest = train_test_split(features, target, \n",
    "                                                                                      train_size=0.6, random_state=12345)"
   ]
  },
  {
   "cell_type": "code",
   "execution_count": 41,
   "metadata": {},
   "outputs": [],
   "source": [
    "features_valid, features_test, target_valid, target_test = train_test_split(features_validtest,  target_validtest,\n",
    "                                                                            train_size=0.5, random_state=12345)"
   ]
  },
  {
   "cell_type": "code",
   "execution_count": 42,
   "metadata": {
    "scrolled": true
   },
   "outputs": [
    {
     "data": {
      "text/html": [
       "<style>#sk-container-id-1 {color: black;background-color: white;}#sk-container-id-1 pre{padding: 0;}#sk-container-id-1 div.sk-toggleable {background-color: white;}#sk-container-id-1 label.sk-toggleable__label {cursor: pointer;display: block;width: 100%;margin-bottom: 0;padding: 0.3em;box-sizing: border-box;text-align: center;}#sk-container-id-1 label.sk-toggleable__label-arrow:before {content: \"▸\";float: left;margin-right: 0.25em;color: #696969;}#sk-container-id-1 label.sk-toggleable__label-arrow:hover:before {color: black;}#sk-container-id-1 div.sk-estimator:hover label.sk-toggleable__label-arrow:before {color: black;}#sk-container-id-1 div.sk-toggleable__content {max-height: 0;max-width: 0;overflow: hidden;text-align: left;background-color: #f0f8ff;}#sk-container-id-1 div.sk-toggleable__content pre {margin: 0.2em;color: black;border-radius: 0.25em;background-color: #f0f8ff;}#sk-container-id-1 input.sk-toggleable__control:checked~div.sk-toggleable__content {max-height: 200px;max-width: 100%;overflow: auto;}#sk-container-id-1 input.sk-toggleable__control:checked~label.sk-toggleable__label-arrow:before {content: \"▾\";}#sk-container-id-1 div.sk-estimator input.sk-toggleable__control:checked~label.sk-toggleable__label {background-color: #d4ebff;}#sk-container-id-1 div.sk-label input.sk-toggleable__control:checked~label.sk-toggleable__label {background-color: #d4ebff;}#sk-container-id-1 input.sk-hidden--visually {border: 0;clip: rect(1px 1px 1px 1px);clip: rect(1px, 1px, 1px, 1px);height: 1px;margin: -1px;overflow: hidden;padding: 0;position: absolute;width: 1px;}#sk-container-id-1 div.sk-estimator {font-family: monospace;background-color: #f0f8ff;border: 1px dotted black;border-radius: 0.25em;box-sizing: border-box;margin-bottom: 0.5em;}#sk-container-id-1 div.sk-estimator:hover {background-color: #d4ebff;}#sk-container-id-1 div.sk-parallel-item::after {content: \"\";width: 100%;border-bottom: 1px solid gray;flex-grow: 1;}#sk-container-id-1 div.sk-label:hover label.sk-toggleable__label {background-color: #d4ebff;}#sk-container-id-1 div.sk-serial::before {content: \"\";position: absolute;border-left: 1px solid gray;box-sizing: border-box;top: 0;bottom: 0;left: 50%;z-index: 0;}#sk-container-id-1 div.sk-serial {display: flex;flex-direction: column;align-items: center;background-color: white;padding-right: 0.2em;padding-left: 0.2em;position: relative;}#sk-container-id-1 div.sk-item {position: relative;z-index: 1;}#sk-container-id-1 div.sk-parallel {display: flex;align-items: stretch;justify-content: center;background-color: white;position: relative;}#sk-container-id-1 div.sk-item::before, #sk-container-id-1 div.sk-parallel-item::before {content: \"\";position: absolute;border-left: 1px solid gray;box-sizing: border-box;top: 0;bottom: 0;left: 50%;z-index: -1;}#sk-container-id-1 div.sk-parallel-item {display: flex;flex-direction: column;z-index: 1;position: relative;background-color: white;}#sk-container-id-1 div.sk-parallel-item:first-child::after {align-self: flex-end;width: 50%;}#sk-container-id-1 div.sk-parallel-item:last-child::after {align-self: flex-start;width: 50%;}#sk-container-id-1 div.sk-parallel-item:only-child::after {width: 0;}#sk-container-id-1 div.sk-dashed-wrapped {border: 1px dashed gray;margin: 0 0.4em 0.5em 0.4em;box-sizing: border-box;padding-bottom: 0.4em;background-color: white;}#sk-container-id-1 div.sk-label label {font-family: monospace;font-weight: bold;display: inline-block;line-height: 1.2em;}#sk-container-id-1 div.sk-label-container {text-align: center;}#sk-container-id-1 div.sk-container {/* jupyter's `normalize.less` sets `[hidden] { display: none; }` but bootstrap.min.css set `[hidden] { display: none !important; }` so we also need the `!important` here to be able to override the default hidden behavior on the sphinx rendered scikit-learn.org. See: https://github.com/scikit-learn/scikit-learn/issues/21755 */display: inline-block !important;position: relative;}#sk-container-id-1 div.sk-text-repr-fallback {display: none;}</style><div id=\"sk-container-id-1\" class=\"sk-top-container\"><div class=\"sk-text-repr-fallback\"><pre>StandardScaler()</pre><b>In a Jupyter environment, please rerun this cell to show the HTML representation or trust the notebook. <br />On GitHub, the HTML representation is unable to render, please try loading this page with nbviewer.org.</b></div><div class=\"sk-container\" hidden><div class=\"sk-item\"><div class=\"sk-estimator sk-toggleable\"><input class=\"sk-toggleable__control sk-hidden--visually\" id=\"sk-estimator-id-1\" type=\"checkbox\" checked><label for=\"sk-estimator-id-1\" class=\"sk-toggleable__label sk-toggleable__label-arrow\">StandardScaler</label><div class=\"sk-toggleable__content\"><pre>StandardScaler()</pre></div></div></div></div></div>"
      ],
      "text/plain": [
       "StandardScaler()"
      ]
     },
     "execution_count": 42,
     "metadata": {},
     "output_type": "execute_result"
    }
   ],
   "source": [
    "numeric = ['CreditScore', 'Age', 'Tenure', 'Balance', 'NumOfProducts', 'EstimatedSalary']\n",
    "scaler = StandardScaler()\n",
    "scaler.fit(features_train[numeric])"
   ]
  },
  {
   "cell_type": "code",
   "execution_count": 43,
   "metadata": {
    "scrolled": false
   },
   "outputs": [
    {
     "data": {
      "text/html": [
       "<div>\n",
       "<style scoped>\n",
       "    .dataframe tbody tr th:only-of-type {\n",
       "        vertical-align: middle;\n",
       "    }\n",
       "\n",
       "    .dataframe tbody tr th {\n",
       "        vertical-align: top;\n",
       "    }\n",
       "\n",
       "    .dataframe thead th {\n",
       "        text-align: right;\n",
       "    }\n",
       "</style>\n",
       "<table border=\"1\" class=\"dataframe\">\n",
       "  <thead>\n",
       "    <tr style=\"text-align: right;\">\n",
       "      <th></th>\n",
       "      <th>CreditScore</th>\n",
       "      <th>Age</th>\n",
       "      <th>Tenure</th>\n",
       "      <th>Balance</th>\n",
       "      <th>NumOfProducts</th>\n",
       "      <th>HasCrCard</th>\n",
       "      <th>IsActiveMember</th>\n",
       "      <th>EstimatedSalary</th>\n",
       "      <th>Geography_Germany</th>\n",
       "      <th>Geography_Spain</th>\n",
       "      <th>Gender_Male</th>\n",
       "    </tr>\n",
       "  </thead>\n",
       "  <tbody>\n",
       "    <tr>\n",
       "      <th>9344</th>\n",
       "      <td>0.809075</td>\n",
       "      <td>-1.039327</td>\n",
       "      <td>-1.025995</td>\n",
       "      <td>0.554904</td>\n",
       "      <td>-0.908179</td>\n",
       "      <td>1</td>\n",
       "      <td>0</td>\n",
       "      <td>0.019508</td>\n",
       "      <td>False</td>\n",
       "      <td>False</td>\n",
       "      <td>False</td>\n",
       "    </tr>\n",
       "    <tr>\n",
       "      <th>3796</th>\n",
       "      <td>-1.152518</td>\n",
       "      <td>-1.227561</td>\n",
       "      <td>0.696524</td>\n",
       "      <td>0.480609</td>\n",
       "      <td>-0.908179</td>\n",
       "      <td>0</td>\n",
       "      <td>0</td>\n",
       "      <td>0.056167</td>\n",
       "      <td>False</td>\n",
       "      <td>False</td>\n",
       "      <td>True</td>\n",
       "    </tr>\n",
       "    <tr>\n",
       "      <th>7462</th>\n",
       "      <td>-0.398853</td>\n",
       "      <td>0.090079</td>\n",
       "      <td>1.385532</td>\n",
       "      <td>-1.237830</td>\n",
       "      <td>-0.908179</td>\n",
       "      <td>1</td>\n",
       "      <td>1</td>\n",
       "      <td>0.848738</td>\n",
       "      <td>False</td>\n",
       "      <td>False</td>\n",
       "      <td>True</td>\n",
       "    </tr>\n",
       "    <tr>\n",
       "      <th>1508</th>\n",
       "      <td>-0.749875</td>\n",
       "      <td>-0.286389</td>\n",
       "      <td>0.352020</td>\n",
       "      <td>-1.237830</td>\n",
       "      <td>0.809300</td>\n",
       "      <td>1</td>\n",
       "      <td>1</td>\n",
       "      <td>-0.894953</td>\n",
       "      <td>False</td>\n",
       "      <td>False</td>\n",
       "      <td>True</td>\n",
       "    </tr>\n",
       "    <tr>\n",
       "      <th>4478</th>\n",
       "      <td>-1.028628</td>\n",
       "      <td>-0.756975</td>\n",
       "      <td>-0.336987</td>\n",
       "      <td>-1.237830</td>\n",
       "      <td>0.809300</td>\n",
       "      <td>0</td>\n",
       "      <td>1</td>\n",
       "      <td>-1.284516</td>\n",
       "      <td>False</td>\n",
       "      <td>False</td>\n",
       "      <td>True</td>\n",
       "    </tr>\n",
       "  </tbody>\n",
       "</table>\n",
       "</div>"
      ],
      "text/plain": [
       "      CreditScore       Age    Tenure   Balance  NumOfProducts  HasCrCard  \\\n",
       "9344     0.809075 -1.039327 -1.025995  0.554904      -0.908179          1   \n",
       "3796    -1.152518 -1.227561  0.696524  0.480609      -0.908179          0   \n",
       "7462    -0.398853  0.090079  1.385532 -1.237830      -0.908179          1   \n",
       "1508    -0.749875 -0.286389  0.352020 -1.237830       0.809300          1   \n",
       "4478    -1.028628 -0.756975 -0.336987 -1.237830       0.809300          0   \n",
       "\n",
       "      IsActiveMember  EstimatedSalary  Geography_Germany  Geography_Spain  \\\n",
       "9344               0         0.019508              False            False   \n",
       "3796               0         0.056167              False            False   \n",
       "7462               1         0.848738              False            False   \n",
       "1508               1        -0.894953              False            False   \n",
       "4478               1        -1.284516              False            False   \n",
       "\n",
       "      Gender_Male  \n",
       "9344        False  \n",
       "3796         True  \n",
       "7462         True  \n",
       "1508         True  \n",
       "4478         True  "
      ]
     },
     "execution_count": 43,
     "metadata": {},
     "output_type": "execute_result"
    }
   ],
   "source": [
    "features_train[numeric] = scaler.transform(features_train[numeric])\n",
    "features_train.head()"
   ]
  },
  {
   "cell_type": "markdown",
   "metadata": {},
   "source": [
    "<div class=\"alert alert-info\"> Масштабируем:"
   ]
  },
  {
   "cell_type": "code",
   "execution_count": 44,
   "metadata": {
    "scrolled": true
   },
   "outputs": [
    {
     "data": {
      "text/html": [
       "<div>\n",
       "<style scoped>\n",
       "    .dataframe tbody tr th:only-of-type {\n",
       "        vertical-align: middle;\n",
       "    }\n",
       "\n",
       "    .dataframe tbody tr th {\n",
       "        vertical-align: top;\n",
       "    }\n",
       "\n",
       "    .dataframe thead th {\n",
       "        text-align: right;\n",
       "    }\n",
       "</style>\n",
       "<table border=\"1\" class=\"dataframe\">\n",
       "  <thead>\n",
       "    <tr style=\"text-align: right;\">\n",
       "      <th></th>\n",
       "      <th>CreditScore</th>\n",
       "      <th>Age</th>\n",
       "      <th>Tenure</th>\n",
       "      <th>Balance</th>\n",
       "      <th>NumOfProducts</th>\n",
       "      <th>HasCrCard</th>\n",
       "      <th>IsActiveMember</th>\n",
       "      <th>EstimatedSalary</th>\n",
       "      <th>Geography_Germany</th>\n",
       "      <th>Geography_Spain</th>\n",
       "      <th>Gender_Male</th>\n",
       "    </tr>\n",
       "  </thead>\n",
       "  <tbody>\n",
       "    <tr>\n",
       "      <th>7445</th>\n",
       "      <td>-1.369326</td>\n",
       "      <td>0.560665</td>\n",
       "      <td>-0.336987</td>\n",
       "      <td>-1.237830</td>\n",
       "      <td>-0.908179</td>\n",
       "      <td>1</td>\n",
       "      <td>0</td>\n",
       "      <td>-0.086537</td>\n",
       "      <td>False</td>\n",
       "      <td>False</td>\n",
       "      <td>False</td>\n",
       "    </tr>\n",
       "    <tr>\n",
       "      <th>8620</th>\n",
       "      <td>1.232367</td>\n",
       "      <td>0.090079</td>\n",
       "      <td>1.041028</td>\n",
       "      <td>-1.237830</td>\n",
       "      <td>0.809300</td>\n",
       "      <td>0</td>\n",
       "      <td>1</td>\n",
       "      <td>-0.537457</td>\n",
       "      <td>False</td>\n",
       "      <td>False</td>\n",
       "      <td>False</td>\n",
       "    </tr>\n",
       "    <tr>\n",
       "      <th>1714</th>\n",
       "      <td>0.840048</td>\n",
       "      <td>0.560665</td>\n",
       "      <td>0.352020</td>\n",
       "      <td>1.231363</td>\n",
       "      <td>-0.908179</td>\n",
       "      <td>0</td>\n",
       "      <td>0</td>\n",
       "      <td>1.070393</td>\n",
       "      <td>True</td>\n",
       "      <td>False</td>\n",
       "      <td>True</td>\n",
       "    </tr>\n",
       "    <tr>\n",
       "      <th>5441</th>\n",
       "      <td>1.056856</td>\n",
       "      <td>-0.945210</td>\n",
       "      <td>-1.370498</td>\n",
       "      <td>0.951231</td>\n",
       "      <td>-0.908179</td>\n",
       "      <td>1</td>\n",
       "      <td>0</td>\n",
       "      <td>-0.576279</td>\n",
       "      <td>False</td>\n",
       "      <td>False</td>\n",
       "      <td>True</td>\n",
       "    </tr>\n",
       "    <tr>\n",
       "      <th>9001</th>\n",
       "      <td>0.406433</td>\n",
       "      <td>-0.662858</td>\n",
       "      <td>0.352020</td>\n",
       "      <td>0.767800</td>\n",
       "      <td>-0.908179</td>\n",
       "      <td>1</td>\n",
       "      <td>1</td>\n",
       "      <td>0.662068</td>\n",
       "      <td>False</td>\n",
       "      <td>True</td>\n",
       "      <td>True</td>\n",
       "    </tr>\n",
       "  </tbody>\n",
       "</table>\n",
       "</div>"
      ],
      "text/plain": [
       "      CreditScore       Age    Tenure   Balance  NumOfProducts  HasCrCard  \\\n",
       "7445    -1.369326  0.560665 -0.336987 -1.237830      -0.908179          1   \n",
       "8620     1.232367  0.090079  1.041028 -1.237830       0.809300          0   \n",
       "1714     0.840048  0.560665  0.352020  1.231363      -0.908179          0   \n",
       "5441     1.056856 -0.945210 -1.370498  0.951231      -0.908179          1   \n",
       "9001     0.406433 -0.662858  0.352020  0.767800      -0.908179          1   \n",
       "\n",
       "      IsActiveMember  EstimatedSalary  Geography_Germany  Geography_Spain  \\\n",
       "7445               0        -0.086537              False            False   \n",
       "8620               1        -0.537457              False            False   \n",
       "1714               0         1.070393               True            False   \n",
       "5441               0        -0.576279              False            False   \n",
       "9001               1         0.662068              False             True   \n",
       "\n",
       "      Gender_Male  \n",
       "7445        False  \n",
       "8620        False  \n",
       "1714         True  \n",
       "5441         True  \n",
       "9001         True  "
      ]
     },
     "execution_count": 44,
     "metadata": {},
     "output_type": "execute_result"
    }
   ],
   "source": [
    "features_valid[numeric] = scaler.transform(features_valid[numeric]) \n",
    "features_valid.head()"
   ]
  },
  {
   "cell_type": "code",
   "execution_count": 45,
   "metadata": {
    "scrolled": true
   },
   "outputs": [
    {
     "data": {
      "text/html": [
       "<div>\n",
       "<style scoped>\n",
       "    .dataframe tbody tr th:only-of-type {\n",
       "        vertical-align: middle;\n",
       "    }\n",
       "\n",
       "    .dataframe tbody tr th {\n",
       "        vertical-align: top;\n",
       "    }\n",
       "\n",
       "    .dataframe thead th {\n",
       "        text-align: right;\n",
       "    }\n",
       "</style>\n",
       "<table border=\"1\" class=\"dataframe\">\n",
       "  <thead>\n",
       "    <tr style=\"text-align: right;\">\n",
       "      <th></th>\n",
       "      <th>CreditScore</th>\n",
       "      <th>Age</th>\n",
       "      <th>Tenure</th>\n",
       "      <th>Balance</th>\n",
       "      <th>NumOfProducts</th>\n",
       "      <th>HasCrCard</th>\n",
       "      <th>IsActiveMember</th>\n",
       "      <th>EstimatedSalary</th>\n",
       "      <th>Geography_Germany</th>\n",
       "      <th>Geography_Spain</th>\n",
       "      <th>Gender_Male</th>\n",
       "    </tr>\n",
       "  </thead>\n",
       "  <tbody>\n",
       "    <tr>\n",
       "      <th>5170</th>\n",
       "      <td>1.707279</td>\n",
       "      <td>-0.756975</td>\n",
       "      <td>-0.336987</td>\n",
       "      <td>-1.237830</td>\n",
       "      <td>0.809300</td>\n",
       "      <td>1</td>\n",
       "      <td>1</td>\n",
       "      <td>0.718362</td>\n",
       "      <td>False</td>\n",
       "      <td>False</td>\n",
       "      <td>False</td>\n",
       "    </tr>\n",
       "    <tr>\n",
       "      <th>4180</th>\n",
       "      <td>-0.429826</td>\n",
       "      <td>-0.286389</td>\n",
       "      <td>1.730036</td>\n",
       "      <td>0.485538</td>\n",
       "      <td>0.809300</td>\n",
       "      <td>0</td>\n",
       "      <td>0</td>\n",
       "      <td>1.687305</td>\n",
       "      <td>True</td>\n",
       "      <td>False</td>\n",
       "      <td>True</td>\n",
       "    </tr>\n",
       "    <tr>\n",
       "      <th>7349</th>\n",
       "      <td>-0.171721</td>\n",
       "      <td>0.278313</td>\n",
       "      <td>0.352020</td>\n",
       "      <td>-0.269213</td>\n",
       "      <td>0.809300</td>\n",
       "      <td>0</td>\n",
       "      <td>1</td>\n",
       "      <td>0.824128</td>\n",
       "      <td>True</td>\n",
       "      <td>False</td>\n",
       "      <td>True</td>\n",
       "    </tr>\n",
       "    <tr>\n",
       "      <th>7469</th>\n",
       "      <td>0.385784</td>\n",
       "      <td>-0.380507</td>\n",
       "      <td>1.041028</td>\n",
       "      <td>0.464813</td>\n",
       "      <td>-0.908179</td>\n",
       "      <td>1</td>\n",
       "      <td>0</td>\n",
       "      <td>-1.118018</td>\n",
       "      <td>False</td>\n",
       "      <td>False</td>\n",
       "      <td>False</td>\n",
       "    </tr>\n",
       "    <tr>\n",
       "      <th>3467</th>\n",
       "      <td>-1.142194</td>\n",
       "      <td>0.278313</td>\n",
       "      <td>-1.370498</td>\n",
       "      <td>0.353837</td>\n",
       "      <td>0.809300</td>\n",
       "      <td>0</td>\n",
       "      <td>1</td>\n",
       "      <td>-0.107642</td>\n",
       "      <td>True</td>\n",
       "      <td>False</td>\n",
       "      <td>False</td>\n",
       "    </tr>\n",
       "  </tbody>\n",
       "</table>\n",
       "</div>"
      ],
      "text/plain": [
       "      CreditScore       Age    Tenure   Balance  NumOfProducts  HasCrCard  \\\n",
       "5170     1.707279 -0.756975 -0.336987 -1.237830       0.809300          1   \n",
       "4180    -0.429826 -0.286389  1.730036  0.485538       0.809300          0   \n",
       "7349    -0.171721  0.278313  0.352020 -0.269213       0.809300          0   \n",
       "7469     0.385784 -0.380507  1.041028  0.464813      -0.908179          1   \n",
       "3467    -1.142194  0.278313 -1.370498  0.353837       0.809300          0   \n",
       "\n",
       "      IsActiveMember  EstimatedSalary  Geography_Germany  Geography_Spain  \\\n",
       "5170               1         0.718362              False            False   \n",
       "4180               0         1.687305               True            False   \n",
       "7349               1         0.824128               True            False   \n",
       "7469               0        -1.118018              False            False   \n",
       "3467               1        -0.107642               True            False   \n",
       "\n",
       "      Gender_Male  \n",
       "5170        False  \n",
       "4180         True  \n",
       "7349         True  \n",
       "7469        False  \n",
       "3467        False  "
      ]
     },
     "execution_count": 45,
     "metadata": {},
     "output_type": "execute_result"
    }
   ],
   "source": [
    "features_test[numeric] = scaler.transform(features_test[numeric])\n",
    "features_test.head()"
   ]
  },
  {
   "cell_type": "code",
   "execution_count": 46,
   "metadata": {},
   "outputs": [],
   "source": [
    "def all_models_accuracy(features_train, target_train, features_valid, target_valid):\n",
    "    model_DTC = DecisionTreeClassifier(random_state=12345)\n",
    "    DTC_score = model_DTC.fit(features_train, target_train).score(features_valid, target_valid)\n",
    "    \n",
    "    model_RFC = RandomForestClassifier(max_depth=7, n_estimators=43, min_samples_leaf=3, random_state=12345)\n",
    "    RFC_score = model_RFC.fit(features_train, target_train).score(features_valid, target_valid)\n",
    "    \n",
    "    model_LgR = LogisticRegression(solver = 'liblinear')\n",
    "    LgR_score = model_LgR.fit(features_train, target_train).score(features_valid, target_valid)\n",
    "    print(\"Точность:\" \"дерево решений\", DTC_score, \"случайный лес \", RFC_score, \"логистическая регрессия\", LgR_score)"
   ]
  },
  {
   "cell_type": "code",
   "execution_count": 47,
   "metadata": {},
   "outputs": [
    {
     "name": "stdout",
     "output_type": "stream",
     "text": [
      "Точность:дерево решений 0.7904290429042904 случайный лес  0.8652365236523653 логистическая регрессия 0.8085808580858086\n"
     ]
    }
   ],
   "source": [
    "all_models_accuracy(features_train, target_train, features_valid, target_valid)"
   ]
  },
  {
   "cell_type": "markdown",
   "metadata": {},
   "source": [
    "## Борьба с дисбалансом"
   ]
  },
  {
   "cell_type": "code",
   "execution_count": 48,
   "metadata": {
    "scrolled": false
   },
   "outputs": [
    {
     "data": {
      "text/plain": [
       "Exited\n",
       "0    0.796062\n",
       "1    0.203938\n",
       "Name: proportion, dtype: float64"
      ]
     },
     "execution_count": 48,
     "metadata": {},
     "output_type": "execute_result"
    }
   ],
   "source": [
    "df['Exited'].value_counts(normalize=True)"
   ]
  },
  {
   "cell_type": "code",
   "execution_count": 49,
   "metadata": {},
   "outputs": [
    {
     "data": {
      "text/plain": [
       "<Axes: ylabel='Frequency'>"
      ]
     },
     "execution_count": 49,
     "metadata": {},
     "output_type": "execute_result"
    },
    {
     "data": {
      "image/png": "[encoded data removed]",
      "text/plain": [
       "<Figure size 300x300 with 1 Axes>"
      ]
     },
     "metadata": {},
     "output_type": "display_data"
    }
   ],
   "source": [
    "target_train.plot(kind ='hist', bins=2, figsize=(3,3))"
   ]
  },
  {
   "cell_type": "markdown",
   "metadata": {},
   "source": [
    "<div class=\"alert alert-info\"> Классы несбалансированы, так как 80% отрицательных против 20% положительных"
   ]
  },
  {
   "cell_type": "markdown",
   "metadata": {},
   "source": [
    "<div class=\"alert alert-info\"> Функция для изучия полноты, точности и F1-меры"
   ]
  },
  {
   "cell_type": "code",
   "execution_count": 50,
   "metadata": {},
   "outputs": [],
   "source": [
    "def rec_prec_f1(target_valid, prediction):\n",
    "    print(\"Полнота\" , recall_score(target_valid, prediction))\n",
    "    print(\"Точность\", precision_score(target_valid, prediction))\n",
    "    print(\"F1-мера\", f1_score(target_valid, prediction))"
   ]
  },
  {
   "cell_type": "markdown",
   "metadata": {},
   "source": [
    "<div class=\"alert alert-info\"> Функция для отображения соотношения ответов моделей (сколько 0, сколько 1)"
   ]
  },
  {
   "cell_type": "code",
   "execution_count": 51,
   "metadata": {},
   "outputs": [],
   "source": [
    "def all_models_share(features_train, target_train, features_valid, target_valid):\n",
    "    model_DTC = DecisionTreeClassifier(random_state=12345)\n",
    "    model_DTC.fit(features_train, target_train)\n",
    "    DTC_share = pd.Series(model_DTC.predict(features_valid)).value_counts(normalize = 1)\n",
    "           \n",
    "    model_RFC = RandomForestClassifier(random_state=12345, n_estimators = 100)\n",
    "    model_RFC.fit(features_train, target_train)\n",
    "    RFC_share = pd.Series(model_RFC.predict(features_valid)).value_counts(normalize = 1)\n",
    "    \n",
    "    model_LgR = LogisticRegression(solver = 'liblinear')\n",
    "    model_LgR.fit(features_train, target_train)\n",
    "    LgR_share = pd.Series(model_LgR.predict(features_valid)).value_counts(normalize = 1)\n",
    "        \n",
    "    print(\"Доли ответов:\" \"Дерево решений\", DTC_share, \"Случайный лес \",\n",
    "          RFC_share, \"Логистческая регрессия\", LgR_share , end='')"
   ]
  },
  {
   "cell_type": "markdown",
   "metadata": {},
   "source": [
    "<div class=\"alert alert-info\"> Применим функцию отображения соотношения ответов моделей"
   ]
  },
  {
   "cell_type": "code",
   "execution_count": 52,
   "metadata": {
    "scrolled": true
   },
   "outputs": [
    {
     "name": "stdout",
     "output_type": "stream",
     "text": [
      "Доли ответов:Дерево решений 0    0.794279\n",
      "1    0.205721\n",
      "Name: proportion, dtype: float64 Случайный лес  0    0.874587\n",
      "1    0.125413\n",
      "Name: proportion, dtype: float64 Логистческая регрессия 0    0.932343\n",
      "1    0.067657\n",
      "Name: proportion, dtype: float64"
     ]
    }
   ],
   "source": [
    "all_models_share(features_train, target_train, features_valid, target_valid)"
   ]
  },
  {
   "cell_type": "markdown",
   "metadata": {},
   "source": [
    "<div class=\"alert alert-info\"> Логистическая регрессия показывает самую высокую точность, потом случайный лес и в конце дерево решений!\n",
    "\n",
    "С учетом дисбаланса результата модели с большой вероятностью будут выдавать ответ 0, построим матрицы ошибок для моделей"
   ]
  },
  {
   "cell_type": "markdown",
   "metadata": {},
   "source": [
    "\n",
    "<div class=\"alert alert-block alert-info\">\n",
    "<b>Совет🤔: </b> \n",
    "    \n",
    "Да, все верно, высокая точность, но проблема та в том, что ты метрика не подходит по задача...\n",
    "</div>\n"
   ]
  },
  {
   "cell_type": "markdown",
   "metadata": {},
   "source": [
    "<div class=\"alert alert-info\"> RandomForestClassifier"
   ]
  },
  {
   "cell_type": "code",
   "execution_count": 53,
   "metadata": {},
   "outputs": [
    {
     "name": "stdout",
     "output_type": "stream",
     "text": [
      "F1 для случайного леса = 0.5793103448275863\n",
      "Максимальная глубина = 8\n",
      "Число деревьев = 15\n",
      "AUC-ROC = 0.8655755931354773\n"
     ]
    }
   ],
   "source": [
    "best_f1_rfc = 0\n",
    "best_depth_rfc = 0\n",
    "best_est_rfc = 0\n",
    "best_roc_auc_score_rfc = 0\n",
    "for depth in range(1, 10):\n",
    "    for est in range(1, 100):\n",
    "        rfc = RandomForestClassifier(random_state=12345, n_estimators=est, max_depth=depth)\n",
    "        rfc.fit(features_train, target_train)\n",
    "        predicted_valid_rfc = rfc.predict(features_valid)\n",
    "        f1_rfc = f1_score(target_valid, predicted_valid_rfc)\n",
    "        roc_auc_score_rfc = roc_auc_score(target_valid, rfc.predict_proba(features_valid)[:,1])\n",
    "        if f1_rfc > best_f1_rfc:\n",
    "            best_f1_rfc = f1_rfc\n",
    "            best_depth_rfc = depth\n",
    "            best_est_rfc = est\n",
    "            best_roc_auc_score_rfc = roc_auc_score_rfc\n",
    "            \n",
    "print('F1 для случайного леса =', best_f1_rfc)\n",
    "print('Максимальная глубина =', best_depth_rfc)\n",
    "print('Число деревьев =', best_est_rfc)\n",
    "print('AUC-ROC =', best_roc_auc_score_rfc)"
   ]
  },
  {
   "cell_type": "code",
   "execution_count": 54,
   "metadata": {},
   "outputs": [
    {
     "data": {
      "text/plain": [
       "array([[1406,   35],\n",
       "       [ 209,  168]], dtype=int64)"
      ]
     },
     "execution_count": 54,
     "metadata": {},
     "output_type": "execute_result"
    }
   ],
   "source": [
    "model_RFC = RandomForestClassifier(random_state=12345, max_depth=8, n_estimators = 15)\n",
    "model_RFC.fit(features_train, target_train)\n",
    "RFC_prediction = model_RFC.predict(features_valid)\n",
    "confusion_matrix(target_valid, RFC_prediction)"
   ]
  },
  {
   "cell_type": "code",
   "execution_count": 55,
   "metadata": {
    "scrolled": true
   },
   "outputs": [
    {
     "name": "stdout",
     "output_type": "stream",
     "text": [
      "Полнота 0.44562334217506633\n",
      "Точность 0.8275862068965517\n",
      "F1-мера 0.5793103448275863\n"
     ]
    }
   ],
   "source": [
    "rec_prec_f1(target_valid, RFC_prediction)"
   ]
  },
  {
   "cell_type": "markdown",
   "metadata": {},
   "source": [
    "<div class=\"alert alert-info\"> Расчет roc_auc_RFC"
   ]
  },
  {
   "cell_type": "code",
   "execution_count": 56,
   "metadata": {},
   "outputs": [
    {
     "data": {
      "text/plain": [
       "0.8655755931354773"
      ]
     },
     "execution_count": 56,
     "metadata": {},
     "output_type": "execute_result"
    }
   ],
   "source": [
    "RFC_probabilities_one_valid = model_RFC.predict_proba(features_valid)[:, 1]\n",
    "auc_roc_RFC = roc_auc_score(target_valid, RFC_probabilities_one_valid)\n",
    "auc_roc_RFC"
   ]
  },
  {
   "cell_type": "markdown",
   "metadata": {},
   "source": [
    "<div class=\"alert alert-info\"> Случайный лес дает примерно равную долю позитивных и негативных предсказаний. Больше качественных предсказаний, но также дает ложно позитивные предсказания. "
   ]
  },
  {
   "cell_type": "markdown",
   "metadata": {},
   "source": [
    "<div class=\"alert alert-info\"> Дерево решений"
   ]
  },
  {
   "cell_type": "markdown",
   "metadata": {},
   "source": [
    "<div class=\"alert alert-info\"> Матрица ошибок: "
   ]
  },
  {
   "cell_type": "code",
   "execution_count": 57,
   "metadata": {
    "scrolled": true
   },
   "outputs": [
    {
     "name": "stdout",
     "output_type": "stream",
     "text": [
      "F1 = 0.000, AUC-ROC = 0.703 на шаге 1\n",
      "F1 = 0.530, AUC-ROC = 0.755 на шаге 2\n",
      "F1 = 0.373, AUC-ROC = 0.799 на шаге 3\n",
      "F1 = 0.541, AUC-ROC = 0.821 на шаге 4\n",
      "F1 = 0.514, AUC-ROC = 0.847 на шаге 5\n",
      "F1 = 0.561, AUC-ROC = 0.850 на шаге 6\n",
      "F1 = 0.576, AUC-ROC = 0.835 на шаге 7\n",
      "F1 = 0.541, AUC-ROC = 0.807 на шаге 8\n",
      "F1 = 0.545, AUC-ROC = 0.794 на шаге 9\n",
      "F1 = 0.512, AUC-ROC = 0.757 на шаге 10\n",
      "F1 = 0.513, AUC-ROC = 0.714 на шаге 11\n",
      "F1 = 0.479, AUC-ROC = 0.701 на шаге 12\n",
      "F1 = 0.483, AUC-ROC = 0.681 на шаге 13\n",
      "F1 = 0.486, AUC-ROC = 0.675 на шаге 14\n",
      "\n",
      "F1 для дерева решений = 0.5764331210191083\n",
      "Максимальная глубина = 7\n",
      "AUC-ROC = 0.8346049843812412\n"
     ]
    }
   ],
   "source": [
    "best_f1_dtc = 0\n",
    "best_depth_dtc = 0\n",
    "best_auc_roc = 0\n",
    "for depth in range(1, 15):\n",
    "    dtc = DecisionTreeClassifier(random_state=12345, max_depth=depth)\n",
    "    dtc.fit(features_train, target_train)\n",
    "    predicted_valid_dtc = dtc.predict(features_valid)\n",
    "    f1_dtc = f1_score(target_valid, predicted_valid_dtc)\n",
    "    auc_roc_dtc = roc_auc_score(target_valid, dtc.predict_proba(features_valid)[:, 1])\n",
    "    print(\"F1 = {:.3f}, AUC-ROC = {:.3f}\".format(f1_dtc, auc_roc_dtc), 'на шаге', depth)\n",
    "    if f1_dtc > best_f1_dtc:\n",
    "        best_f1_dtc = f1_dtc\n",
    "        best_depth_dtc = depth\n",
    "        best_auc_roc = auc_roc_dtc\n",
    "        \n",
    "print()\n",
    "print('F1 для дерева решений =', best_f1_dtc)\n",
    "print('Максимальная глубина =', best_depth_dtc)\n",
    "print('AUC-ROC =', best_auc_roc)"
   ]
  },
  {
   "cell_type": "code",
   "execution_count": 58,
   "metadata": {},
   "outputs": [
    {
     "data": {
      "text/plain": [
       "array([[1371,   70],\n",
       "       [ 196,  181]], dtype=int64)"
      ]
     },
     "execution_count": 58,
     "metadata": {},
     "output_type": "execute_result"
    }
   ],
   "source": [
    "model_DTC = DecisionTreeClassifier(random_state=12345, max_depth= 7)\n",
    "model_DTC.fit(features_train, target_train)\n",
    "DTC_prediction = model_DTC.predict(features_valid)\n",
    "confusion_matrix(target_valid, DTC_prediction)"
   ]
  },
  {
   "cell_type": "code",
   "execution_count": 59,
   "metadata": {},
   "outputs": [
    {
     "name": "stdout",
     "output_type": "stream",
     "text": [
      "Полнота 0.48010610079575594\n",
      "Точность 0.7211155378486056\n",
      "F1-мера 0.5764331210191083\n"
     ]
    }
   ],
   "source": [
    "rec_prec_f1(target_valid, DTC_prediction)"
   ]
  },
  {
   "cell_type": "code",
   "execution_count": 60,
   "metadata": {},
   "outputs": [
    {
     "data": {
      "text/plain": [
       "0.8346049843812412"
      ]
     },
     "execution_count": 60,
     "metadata": {},
     "output_type": "execute_result"
    }
   ],
   "source": [
    "DTC_probabilities_one_valid = model_DTC.predict_proba(features_valid)[:, 1]\n",
    "auc_roc_DTC = roc_auc_score(target_valid, DTC_probabilities_one_valid)\n",
    "auc_roc_DTC"
   ]
  },
  {
   "cell_type": "markdown",
   "metadata": {},
   "source": [
    "<div class=\"alert alert-info\"> f1 низкое значение, поэтому качесвто модели низкое."
   ]
  },
  {
   "cell_type": "markdown",
   "metadata": {},
   "source": [
    "<div class=\"alert alert-info\"> Логистическая регрессия\n"
   ]
  },
  {
   "cell_type": "markdown",
   "metadata": {},
   "source": [
    "<div class=\"alert alert-info\"> Матрица ошибок:"
   ]
  },
  {
   "cell_type": "code",
   "execution_count": 61,
   "metadata": {},
   "outputs": [
    {
     "data": {
      "text/plain": [
       "array([[1394,   47],\n",
       "       [ 301,   76]], dtype=int64)"
      ]
     },
     "execution_count": 61,
     "metadata": {},
     "output_type": "execute_result"
    }
   ],
   "source": [
    "model_LgR = LogisticRegression(solver = 'liblinear')\n",
    "model_LgR.fit(features_train, target_train)\n",
    "LgR_prediction = model_LgR.predict(features_valid)\n",
    "confusion_matrix(target_valid, LgR_prediction)"
   ]
  },
  {
   "cell_type": "code",
   "execution_count": 62,
   "metadata": {},
   "outputs": [
    {
     "name": "stdout",
     "output_type": "stream",
     "text": [
      "Полнота 0.20159151193633953\n",
      "Точность 0.6178861788617886\n",
      "F1-мера 0.30400000000000005\n"
     ]
    }
   ],
   "source": [
    "rec_prec_f1(target_valid, LgR_prediction)"
   ]
  },
  {
   "cell_type": "code",
   "execution_count": 63,
   "metadata": {},
   "outputs": [
    {
     "data": {
      "text/plain": [
       "0.7736191158144302"
      ]
     },
     "execution_count": 63,
     "metadata": {},
     "output_type": "execute_result"
    }
   ],
   "source": [
    "LgR_probabilities_one_valid = model_LgR.predict_proba(features_valid)[:, 1]\n",
    "auc_roc_LgR = roc_auc_score(target_valid, LgR_probabilities_one_valid)\n",
    "auc_roc_LgR"
   ]
  },
  {
   "cell_type": "code",
   "execution_count": 64,
   "metadata": {},
   "outputs": [],
   "source": [
    "def plot_roc_curve(fper, tper):\n",
    "    plt.plot(fper, tper, color='red', label='ROC')\n",
    "    plt.plot([0, 1], [0, 1], color='green', linestyle='--')\n",
    "    plt.xlim([0.0, 1.0])\n",
    "    plt.ylim([0.0, 1.0])\n",
    "    plt.xlabel('False Positive Rate')\n",
    "    plt.ylabel('True Positive Rate')\n",
    "    plt.title('ROC-кривая')\n",
    "    plt.legend()\n",
    "    plt.show()"
   ]
  },
  {
   "cell_type": "code",
   "execution_count": 65,
   "metadata": {},
   "outputs": [
    {
     "data": {
      "image/png": "[encoded data removed]",
      "text/plain": [
       "<Figure size 640x480 with 1 Axes>"
      ]
     },
     "metadata": {},
     "output_type": "display_data"
    }
   ],
   "source": [
    "fper, tper, thresholds = roc_curve(target_valid, LgR_probabilities_one_valid)\n",
    "plot_roc_curve(fper, tper)"
   ]
  },
  {
   "cell_type": "code",
   "execution_count": 66,
   "metadata": {
    "scrolled": false
   },
   "outputs": [
    {
     "name": "stdout",
     "output_type": "stream",
     "text": [
      "Score 0.8085808580858086\n",
      "AUC-ROC 0.7736191158144302\n"
     ]
    },
    {
     "data": {
      "image/png": "[encoded data removed]",
      "text/plain": [
       "<Figure size 640x480 with 1 Axes>"
      ]
     },
     "metadata": {},
     "output_type": "display_data"
    }
   ],
   "source": [
    "model_LgR = LogisticRegression(solver = 'liblinear')\n",
    "model_LgR.fit(features_train, target_train)\n",
    "LgR_probabilities_one_valid_class_weight = model_LgR.predict_proba(features_valid)[:, 1]\n",
    "print(\"Score\", model_LgR.score(features_valid, target_valid))\n",
    "print(\"AUC-ROC\", roc_auc_score(target_valid, LgR_probabilities_one_valid_class_weight))\n",
    "\n",
    "fper, tper, thresholds = roc_curve(target_valid, LgR_probabilities_one_valid_class_weight) \n",
    "plot_roc_curve(fper, tper)"
   ]
  },
  {
   "cell_type": "code",
   "execution_count": 67,
   "metadata": {
    "scrolled": true
   },
   "outputs": [
    {
     "data": {
      "image/png": "[encoded data removed]",
      "text/plain": [
       "<Figure size 640x480 with 1 Axes>"
      ]
     },
     "metadata": {},
     "output_type": "display_data"
    }
   ],
   "source": [
    "DTC_probabilities_one_valid = model_DTC.predict_proba(features_valid)[:, 1]\n",
    "auc_roc_RFC = roc_auc_score(target_valid, DTC_probabilities_one_valid)\n",
    " \n",
    "fper, tper, thresholds = roc_curve(target_valid, DTC_probabilities_one_valid)\n",
    "plot_roc_curve(fper, tper)"
   ]
  },
  {
   "cell_type": "code",
   "execution_count": 68,
   "metadata": {
    "scrolled": true
   },
   "outputs": [
    {
     "data": {
      "image/png": "[encoded data removed]",
      "text/plain": [
       "<Figure size 640x480 with 1 Axes>"
      ]
     },
     "metadata": {},
     "output_type": "display_data"
    }
   ],
   "source": [
    "RFC_probabilities_one_valid = model_RFC.predict_proba(features_valid)[:, 1]\n",
    "auc_roc_RFC = roc_auc_score(target_valid, RFC_probabilities_one_valid)\n",
    " \n",
    "fper, tper, thresholds = roc_curve(target_valid, RFC_probabilities_one_valid)\n",
    "plot_roc_curve(fper, tper)"
   ]
  },
  {
   "cell_type": "code",
   "execution_count": 69,
   "metadata": {},
   "outputs": [],
   "source": [
    "def upsample(features, target, repeat, upsampled_сlass):\n",
    " \n",
    "    features_zeros = features[target == 0]\n",
    "    features_ones = features[target == 1]\n",
    "    target_zeros = target[target == 0]\n",
    "    target_ones = target[target == 1]\n",
    "    \n",
    "    if upsampled_сlass == 0:\n",
    "        features_upsampled = pd.concat([features_zeros]* repeat + [features_ones] )\n",
    "        target_upsampled = pd.concat([target_zeros]* repeat + [target_ones] )\n",
    "        features_upsampled, target_upsampled = shuffle(\n",
    "        features_upsampled, target_upsampled, random_state=12345)\n",
    "        \n",
    "    elif upsampled_сlass == 1:\n",
    "        features_upsampled = pd.concat([features_zeros] + [features_ones] * repeat)\n",
    "        target_upsampled = pd.concat([target_zeros] + [target_ones] * repeat)\n",
    "        features_upsampled, target_upsampled = shuffle(\n",
    "        features_upsampled, target_upsampled, random_state=12345)\n",
    "    else:\n",
    "        features_upsampled = 0\n",
    "        target_upsampled = 0  \n",
    "        \n",
    "    return features_upsampled, target_upsampled"
   ]
  },
  {
   "cell_type": "code",
   "execution_count": 70,
   "metadata": {},
   "outputs": [],
   "source": [
    "def downsample(features, target, fraction):\n",
    "    features_zeros = features[target == 0]\n",
    "    features_ones = features[target == 1]\n",
    "    target_zeros = target[target == 0]\n",
    "    target_ones = target[target == 1]\n",
    "\n",
    "    features_downsampled = pd.concat(\n",
    "        [features_zeros.sample(frac=fraction, random_state=12345)] + [features_ones])\n",
    "    target_downsampled = pd.concat(\n",
    "        [target_zeros.sample(frac=fraction, random_state=12345)] + [target_ones])\n",
    "    \n",
    "    features_downsampled, target_downsampled = shuffle(\n",
    "        features_downsampled, target_downsampled, random_state=12345)\n",
    "    \n",
    "    return features_downsampled, target_downsampled"
   ]
  },
  {
   "cell_type": "markdown",
   "metadata": {},
   "source": [
    "<div class=\"alert alert-info\"> Протестируем функции:"
   ]
  },
  {
   "cell_type": "code",
   "execution_count": 71,
   "metadata": {
    "scrolled": true
   },
   "outputs": [
    {
     "name": "stdout",
     "output_type": "stream",
     "text": [
      "Exited\n",
      "0    0.93893\n",
      "1    0.06107\n",
      "Name: proportion, dtype: float64\n",
      "(18438,)\n"
     ]
    }
   ],
   "source": [
    "features_train_upsampled, target_train_upsampled = upsample(features_train, target_train, 4, 0)\n",
    "print(target_train_upsampled.value_counts(normalize = 1))\n",
    "print(target_train_upsampled.shape)"
   ]
  },
  {
   "cell_type": "code",
   "execution_count": 72,
   "metadata": {},
   "outputs": [
    {
     "data": {
      "text/plain": [
       "0"
      ]
     },
     "execution_count": 72,
     "metadata": {},
     "output_type": "execute_result"
    }
   ],
   "source": [
    "features_train_upsampled, target_train_upsampled = upsample(features_train, target_train, 4, 3)\n",
    "features_train_upsampled"
   ]
  },
  {
   "cell_type": "markdown",
   "metadata": {},
   "source": [
    "<div class=\"alert alert-info\"> Применим функцию upsample -увеличим количество положительных ответов в 4 раза"
   ]
  },
  {
   "cell_type": "code",
   "execution_count": 73,
   "metadata": {
    "scrolled": true
   },
   "outputs": [
    {
     "name": "stdout",
     "output_type": "stream",
     "text": [
      "Exited\n",
      "1    0.509964\n",
      "0    0.490036\n",
      "Name: proportion, dtype: float64\n",
      "(8832,)\n"
     ]
    }
   ],
   "source": [
    "features_train_upsampled, target_train_upsampled = upsample(features_train, target_train, 4, 1)\n",
    "print(target_train_upsampled.value_counts(normalize = 1))\n",
    "print(target_train_upsampled.shape)"
   ]
  },
  {
   "cell_type": "markdown",
   "metadata": {},
   "source": [
    "<div class=\"alert alert-info\"> Применив функцию downsample, уменьшим количество положительных ответов в 4 раза.\n",
    "Протестируем функцию"
   ]
  },
  {
   "cell_type": "code",
   "execution_count": 74,
   "metadata": {
    "scrolled": true
   },
   "outputs": [
    {
     "name": "stdout",
     "output_type": "stream",
     "text": [
      "Exited\n",
      "1    1126\n",
      "0     866\n",
      "Name: count, dtype: int64\n",
      "(1992,)\n"
     ]
    }
   ],
   "source": [
    "features_downsampled_train, target_downsampled_train = downsample(features_train, target_train, 0.2)\n",
    "print(target_downsampled_train.value_counts(normalize = 0))\n",
    "print(target_downsampled_train.shape)"
   ]
  },
  {
   "cell_type": "code",
   "execution_count": 75,
   "metadata": {
    "scrolled": true
   },
   "outputs": [
    {
     "data": {
      "text/plain": [
       "<Axes: ylabel='Frequency'>"
      ]
     },
     "execution_count": 75,
     "metadata": {},
     "output_type": "execute_result"
    },
    {
     "data": {
      "image/png": "[encoded data removed]",
      "text/plain": [
       "<Figure size 300x300 with 1 Axes>"
      ]
     },
     "metadata": {},
     "output_type": "display_data"
    }
   ],
   "source": [
    "target_train_upsampled.plot(kind ='hist', bins=3, figsize=(3,3))"
   ]
  },
  {
   "cell_type": "code",
   "execution_count": 76,
   "metadata": {},
   "outputs": [
    {
     "name": "stdout",
     "output_type": "stream",
     "text": [
      "Точность:дерево решений 0.7904290429042904 случайный лес  0.8652365236523653 логистическая регрессия 0.8085808580858086\n"
     ]
    }
   ],
   "source": [
    "all_models_accuracy(features_train, target_train, features_valid, target_valid)"
   ]
  },
  {
   "cell_type": "markdown",
   "metadata": {},
   "source": [
    "<div class=\"alert alert-info\"> Точность моделей на сбалансированной выборке:"
   ]
  },
  {
   "cell_type": "code",
   "execution_count": 77,
   "metadata": {},
   "outputs": [
    {
     "name": "stdout",
     "output_type": "stream",
     "text": [
      "Точность:дерево решений 0.7821782178217822 случайный лес  0.7948294829482948 логистическая регрессия 0.7013201320132013\n"
     ]
    }
   ],
   "source": [
    "all_models_accuracy(features_train_upsampled, target_train_upsampled, features_valid, target_valid)"
   ]
  },
  {
   "cell_type": "markdown",
   "metadata": {},
   "source": [
    "<div class=\"alert alert-info\"> Без сильных изменений. Проверим качество ответов. Решающее дерево:"
   ]
  },
  {
   "cell_type": "code",
   "execution_count": 78,
   "metadata": {
    "scrolled": true
   },
   "outputs": [
    {
     "name": "stdout",
     "output_type": "stream",
     "text": [
      "Полнота 0.4509283819628647\n",
      "Точность 0.4735376044568245\n",
      "F1-мера 0.46195652173913043\n"
     ]
    }
   ],
   "source": [
    "model_DTC_upsampled = DecisionTreeClassifier(random_state=12345)\n",
    "model_DTC_upsampled.fit(features_train_upsampled, target_train_upsampled)\n",
    "DTC_prediction_upsampled = model_DTC_upsampled.predict(features_valid)\n",
    "rec_prec_f1(target_valid, DTC_prediction_upsampled)"
   ]
  },
  {
   "cell_type": "markdown",
   "metadata": {},
   "source": [
    "<div class=\"alert alert-info\"> Расчитаем auc_roc для DTC на сбалансированной выборке:"
   ]
  },
  {
   "cell_type": "code",
   "execution_count": 79,
   "metadata": {},
   "outputs": [
    {
     "data": {
      "text/plain": [
       "0.6598847322722027"
      ]
     },
     "execution_count": 79,
     "metadata": {},
     "output_type": "execute_result"
    }
   ],
   "source": [
    "DTC_upsampled_valid = model_DTC_upsampled.predict_proba(features_valid)[:, 1]\n",
    "auc_roc_DTC = roc_auc_score(target_valid, DTC_upsampled_valid)\n",
    "auc_roc_DTC"
   ]
  },
  {
   "cell_type": "markdown",
   "metadata": {},
   "source": [
    "<div class=\"alert alert-info\"> Случайный лес RFC "
   ]
  },
  {
   "cell_type": "code",
   "execution_count": 80,
   "metadata": {
    "scrolled": true
   },
   "outputs": [
    {
     "name": "stdout",
     "output_type": "stream",
     "text": [
      "Полнота 0.7453580901856764\n",
      "Точность 0.5203703703703704\n",
      "F1-мера 0.6128680479825518\n"
     ]
    }
   ],
   "source": [
    "model_RFC_upsampled = RandomForestClassifier( max_depth=8, n_estimators = 15, min_samples_leaf=3, random_state=12345)\n",
    "model_RFC_upsampled.fit(features_train_upsampled, target_train_upsampled)\n",
    "RFC_prediction_upsampled = model_RFC_upsampled.predict(features_valid)\n",
    "rec_prec_f1(target_valid, RFC_prediction_upsampled)"
   ]
  },
  {
   "cell_type": "markdown",
   "metadata": {},
   "source": [
    "<div class=\"alert alert-info\"> Расчитаем auc_roc для RFC на сбалансированной выборке"
   ]
  },
  {
   "cell_type": "code",
   "execution_count": 81,
   "metadata": {
    "scrolled": true
   },
   "outputs": [
    {
     "data": {
      "text/plain": [
       "0.8588136001929105"
      ]
     },
     "execution_count": 81,
     "metadata": {},
     "output_type": "execute_result"
    }
   ],
   "source": [
    "RFC_upsampled_valid = model_RFC_upsampled.predict_proba(features_valid)[:, 1]\n",
    "auc_roc_RFC = roc_auc_score(target_valid, RFC_upsampled_valid)\n",
    "auc_roc_RFC"
   ]
  },
  {
   "cell_type": "markdown",
   "metadata": {},
   "source": [
    "<div class=\"alert alert-info\"> Логистическая регрессия"
   ]
  },
  {
   "cell_type": "code",
   "execution_count": 82,
   "metadata": {
    "scrolled": false
   },
   "outputs": [
    {
     "name": "stdout",
     "output_type": "stream",
     "text": [
      "Полнота 0.7453580901856764\n",
      "Точность 0.385989010989011\n",
      "F1-мера 0.5085972850678734\n"
     ]
    }
   ],
   "source": [
    "model_LgR_upsampled = LogisticRegression(solver = 'liblinear')\n",
    "model_LgR_upsampled.fit(features_train_upsampled, target_train_upsampled)\n",
    "LgR_prediction_upsampled = model_LgR_upsampled.predict(features_valid)\n",
    "rec_prec_f1(target_valid, LgR_prediction_upsampled)"
   ]
  },
  {
   "cell_type": "markdown",
   "metadata": {},
   "source": [
    "<div class=\"alert alert-info\"> Расчитаем auc_roc для LgR на сбалансированной выборке"
   ]
  },
  {
   "cell_type": "code",
   "execution_count": 83,
   "metadata": {
    "scrolled": true
   },
   "outputs": [
    {
     "data": {
      "text/plain": [
       "0.7779006989325494"
      ]
     },
     "execution_count": 83,
     "metadata": {},
     "output_type": "execute_result"
    }
   ],
   "source": [
    "LgR_upsampled_valid = model_LgR_upsampled.predict_proba(features_valid)[:, 1]\n",
    "auc_roc_LgR = roc_auc_score(target_valid, LgR_upsampled_valid)\n",
    "auc_roc_LgR"
   ]
  },
  {
   "cell_type": "code",
   "execution_count": 84,
   "metadata": {
    "scrolled": true
   },
   "outputs": [
    {
     "name": "stdout",
     "output_type": "stream",
     "text": [
      "Точность:дерево решений 0.680968096809681 случайный лес  0.7156215621562156 логистическая регрессия 0.6490649064906491\n"
     ]
    }
   ],
   "source": [
    "all_models_accuracy(features_downsampled_train, target_downsampled_train, features_valid, target_valid)"
   ]
  },
  {
   "cell_type": "code",
   "execution_count": 85,
   "metadata": {},
   "outputs": [
    {
     "name": "stdout",
     "output_type": "stream",
     "text": [
      "Exited\n",
      "0    0.657751\n",
      "1    0.342249\n",
      "Name: proportion, dtype: float64\n",
      "(3290,)\n"
     ]
    }
   ],
   "source": [
    "features_downsampled_train, target_train_downsampled = downsample(features_train, target_train, 0.5)\n",
    "print(target_train_downsampled.value_counts(normalize = 1))\n",
    "print(target_train_downsampled.shape)"
   ]
  },
  {
   "cell_type": "code",
   "execution_count": 86,
   "metadata": {},
   "outputs": [
    {
     "name": "stdout",
     "output_type": "stream",
     "text": [
      "Exited\n",
      "1    0.509964\n",
      "0    0.490036\n",
      "Name: proportion, dtype: float64\n",
      "(8832,)\n"
     ]
    }
   ],
   "source": [
    "features_train_downsampled, target_train_downsampled = upsample(features_train, target_train, 4, 1)\n",
    "print(target_train_upsampled.value_counts(normalize = 1))\n",
    "print(target_train_upsampled.shape)"
   ]
  },
  {
   "cell_type": "code",
   "execution_count": 87,
   "metadata": {},
   "outputs": [
    {
     "data": {
      "text/plain": [
       "<Axes: ylabel='Frequency'>"
      ]
     },
     "execution_count": 87,
     "metadata": {},
     "output_type": "execute_result"
    },
    {
     "data": {
      "image/png": "[encoded data removed]",
      "text/plain": [
       "<Figure size 300x300 with 1 Axes>"
      ]
     },
     "metadata": {},
     "output_type": "display_data"
    }
   ],
   "source": [
    "target_train_downsampled.plot(kind ='hist', bins=3, figsize=(3,3))"
   ]
  },
  {
   "cell_type": "code",
   "execution_count": 88,
   "metadata": {},
   "outputs": [
    {
     "name": "stdout",
     "output_type": "stream",
     "text": [
      "F1 = 0.507, AUC-ROC = 0.707 на шаге 1\n",
      "F1 = 0.530, AUC-ROC = 0.758 на шаге 2\n",
      "F1 = 0.549, AUC-ROC = 0.795 на шаге 3\n",
      "F1 = 0.546, AUC-ROC = 0.818 на шаге 4\n",
      "F1 = 0.574, AUC-ROC = 0.840 на шаге 5\n",
      "F1 = 0.563, AUC-ROC = 0.832 на шаге 6\n",
      "F1 = 0.541, AUC-ROC = 0.811 на шаге 7\n",
      "F1 = 0.558, AUC-ROC = 0.790 на шаге 8\n",
      "F1 = 0.516, AUC-ROC = 0.766 на шаге 9\n",
      "F1 = 0.506, AUC-ROC = 0.730 на шаге 10\n",
      "F1 = 0.515, AUC-ROC = 0.716 на шаге 11\n",
      "F1 = 0.502, AUC-ROC = 0.693 на шаге 12\n",
      "F1 = 0.481, AUC-ROC = 0.673 на шаге 13\n",
      "F1 = 0.481, AUC-ROC = 0.674 на шаге 14\n",
      "Максимальная глубина = 7\n",
      "Полнота 0.7188328912466844\n",
      "Точность 0.477112676056338\n",
      "F1-мера 0.5735449735449736\n"
     ]
    }
   ],
   "source": [
    "best_f1_dtc = 0\n",
    "best_depth_dtc_ups = 0\n",
    "best_auc_roc = 0\n",
    "for depth in range(1, 15):\n",
    "    dtc = DecisionTreeClassifier(random_state=12345, max_depth=depth)\n",
    "    dtc.fit(features_train_upsampled, target_train_upsampled)\n",
    "    predicted_valid_dtc = dtc.predict(features_valid)\n",
    "    f1_dtc = f1_score(target_valid, predicted_valid_dtc)\n",
    "    auc_roc_dtc = roc_auc_score(target_valid, dtc.predict_proba(features_valid)[:, 1])\n",
    "    print(\"F1 = {:.3f}, AUC-ROC = {:.3f}\".format(f1_dtc, auc_roc_dtc), 'на шаге', depth)\n",
    "    if f1_dtc > best_f1_dtc:\n",
    "        best_f1_dtc = f1_dtc\n",
    "        best_depth_dtc_ups = depth\n",
    "        best_auc_roc = auc_roc_dtc\n",
    "\n",
    "print('Максимальная глубина =', best_depth_dtc)\n",
    "\n",
    "\n",
    "model_DTC_ups = DecisionTreeClassifier(random_state=12345, max_depth= best_depth_dtc_ups)\n",
    "model_DTC_ups.fit(features_train_upsampled, target_train_upsampled)\n",
    "DTC_prediction_ups = model_DTC_ups.predict(features_valid)\n",
    "rec_prec_f1(target_valid, DTC_prediction_ups)"
   ]
  },
  {
   "cell_type": "code",
   "execution_count": 89,
   "metadata": {},
   "outputs": [
    {
     "name": "stdout",
     "output_type": "stream",
     "text": [
      "F1 для случайного леса = 0.6308571428571429\n",
      "Максимальная глубина = 8\n",
      "Число деревьев = 15\n",
      "AUC-ROC = 0.8690122722762891\n",
      "Полнота 0.7320954907161804\n",
      "Точность 0.5542168674698795\n",
      "F1-мера 0.6308571428571429\n"
     ]
    }
   ],
   "source": [
    "best_f1_rfc = 0\n",
    "best_depth_rfc_ups = 0\n",
    "best_est_rfc_ups = 0\n",
    "best_roc_auc_score_rfc = 0\n",
    "for depth in range(1, 10):\n",
    "    for est in range(1, 100):\n",
    "        rfc = RandomForestClassifier(random_state=12345, n_estimators=est, max_depth=depth)\n",
    "        rfc.fit(features_train_upsampled, target_train_upsampled)\n",
    "        predicted_valid_rfc = rfc.predict(features_valid)\n",
    "        f1_rfc = f1_score(target_valid, predicted_valid_rfc)\n",
    "        roc_auc_score_rfc = roc_auc_score(target_valid, rfc.predict_proba(features_valid)[:,1])\n",
    "        if f1_rfc > best_f1_rfc:\n",
    "            best_f1_rfc = f1_rfc\n",
    "            best_depth_rfc_ups = depth\n",
    "            best_est_rfc_ups = est\n",
    "            best_roc_auc_score_rfc = roc_auc_score_rfc\n",
    "            \n",
    "print('F1 для случайного леса =', best_f1_rfc)\n",
    "print('Максимальная глубина =', best_depth_rfc)\n",
    "print('Число деревьев =', best_est_rfc)\n",
    "print('AUC-ROC =', best_roc_auc_score_rfc)\n",
    "\n",
    "\n",
    "model_RFC_ups = RandomForestClassifier(max_depth= best_depth_rfc_ups, n_estimators = best_est_rfc_ups, random_state=12345)\n",
    "model_RFC_ups.fit(features_train_upsampled, target_train_upsampled)\n",
    "RFC_prediction_ups = model_RFC_ups.predict(features_valid)\n",
    "rec_prec_f1(target_valid, RFC_prediction_ups)"
   ]
  },
  {
   "cell_type": "code",
   "execution_count": 90,
   "metadata": {},
   "outputs": [
    {
     "name": "stdout",
     "output_type": "stream",
     "text": [
      "F1 = 0.507, AUC-ROC = 0.707 на шаге 1\n",
      "F1 = 0.530, AUC-ROC = 0.758 на шаге 2\n",
      "F1 = 0.549, AUC-ROC = 0.795 на шаге 3\n",
      "F1 = 0.546, AUC-ROC = 0.818 на шаге 4\n",
      "F1 = 0.574, AUC-ROC = 0.840 на шаге 5\n",
      "F1 = 0.563, AUC-ROC = 0.832 на шаге 6\n",
      "F1 = 0.541, AUC-ROC = 0.811 на шаге 7\n",
      "F1 = 0.558, AUC-ROC = 0.790 на шаге 8\n",
      "F1 = 0.516, AUC-ROC = 0.766 на шаге 9\n",
      "F1 = 0.506, AUC-ROC = 0.730 на шаге 10\n",
      "F1 = 0.515, AUC-ROC = 0.716 на шаге 11\n",
      "F1 = 0.502, AUC-ROC = 0.693 на шаге 12\n",
      "F1 = 0.481, AUC-ROC = 0.673 на шаге 13\n",
      "F1 = 0.481, AUC-ROC = 0.674 на шаге 14\n",
      "Максимальная глубина = 7\n",
      "Полнота 0.7188328912466844\n",
      "Точность 0.477112676056338\n",
      "F1-мера 0.5735449735449736\n"
     ]
    }
   ],
   "source": [
    "best_f1_dtc = 0\n",
    "best_depth_dtc_dwn = 0\n",
    "best_auc_roc = 0\n",
    "for depth in range(1, 15):\n",
    "    dtc = DecisionTreeClassifier(random_state=12345, max_depth=depth)\n",
    "    dtc.fit(features_train_downsampled, target_train_downsampled)\n",
    "    predicted_valid_dtc = dtc.predict(features_valid)\n",
    "    f1_dtc = f1_score(target_valid, predicted_valid_dtc)\n",
    "    auc_roc_dtc = roc_auc_score(target_valid, dtc.predict_proba(features_valid)[:, 1])\n",
    "    print(\"F1 = {:.3f}, AUC-ROC = {:.3f}\".format(f1_dtc, auc_roc_dtc), 'на шаге', depth)\n",
    "    if f1_dtc > best_f1_dtc:\n",
    "        best_f1_dtc = f1_dtc\n",
    "        best_depth_dtc_dwn = depth\n",
    "        best_auc_roc = auc_roc_dtc\n",
    "\n",
    "print('Максимальная глубина =', best_depth_dtc)\n",
    "\n",
    "\n",
    "model_DTC_downsampled = DecisionTreeClassifier(random_state=12345, max_depth= best_depth_dtc_dwn)\n",
    "model_DTC_downsampled.fit(features_train_downsampled, target_train_downsampled)\n",
    "DTC_prediction_downsampled = model_DTC_downsampled.predict(features_valid)\n",
    "rec_prec_f1(target_valid, DTC_prediction_downsampled)"
   ]
  },
  {
   "cell_type": "code",
   "execution_count": 91,
   "metadata": {},
   "outputs": [
    {
     "name": "stdout",
     "output_type": "stream",
     "text": [
      "F1 для случайного леса = 0.6308571428571429\n",
      "Максимальная глубина = 8\n",
      "Число деревьев = 15\n",
      "AUC-ROC = 0.8690122722762891\n",
      "Полнота 0.7320954907161804\n",
      "Точность 0.5542168674698795\n",
      "F1-мера 0.6308571428571429\n"
     ]
    }
   ],
   "source": [
    "best_f1_rfc = 0\n",
    "best_depth_rfc_dwn = 0\n",
    "best_est_rfc_dwn = 0\n",
    "best_roc_auc_score_rfc = 0\n",
    "for depth in range(1, 10):\n",
    "    for est in range(1, 100):\n",
    "        rfc = RandomForestClassifier(random_state=12345, n_estimators=est, max_depth=depth)\n",
    "        rfc.fit(features_train_downsampled, target_train_downsampled)\n",
    "        predicted_valid_rfc = rfc.predict(features_valid)\n",
    "        f1_rfc = f1_score(target_valid, predicted_valid_rfc)\n",
    "        roc_auc_score_rfc = roc_auc_score(target_valid, rfc.predict_proba(features_valid)[:,1])\n",
    "        if f1_rfc > best_f1_rfc:\n",
    "            best_f1_rfc = f1_rfc\n",
    "            best_depth_rfc_dwn = depth\n",
    "            best_est_rfc_dwn = est\n",
    "            best_roc_auc_score_rfc = roc_auc_score_rfc\n",
    "            \n",
    "print('F1 для случайного леса =', best_f1_rfc)\n",
    "print('Максимальная глубина =', best_depth_rfc)\n",
    "print('Число деревьев =', best_est_rfc)\n",
    "print('AUC-ROC =', best_roc_auc_score_rfc)\n",
    "\n",
    "\n",
    "model_RFC_downsampled = RandomForestClassifier(max_depth= best_depth_rfc_dwn, n_estimators = best_est_rfc_dwn, random_state=12345)\n",
    "model_RFC_downsampled.fit(features_train_downsampled, target_train_downsampled)\n",
    "RFC_prediction_downsampled = model_RFC_downsampled.predict(features_valid)\n",
    "rec_prec_f1(target_valid, RFC_prediction_downsampled)"
   ]
  },
  {
   "cell_type": "code",
   "execution_count": 92,
   "metadata": {},
   "outputs": [
    {
     "data": {
      "text/plain": [
       "0.8690122722762891"
      ]
     },
     "execution_count": 92,
     "metadata": {},
     "output_type": "execute_result"
    }
   ],
   "source": [
    "RFC_downsampled_valid = model_RFC_downsampled.predict_proba(features_valid)[:, 1]\n",
    "auc_roc_RFC = roc_auc_score(target_valid, RFC_downsampled_valid)\n",
    "auc_roc_RFC"
   ]
  },
  {
   "cell_type": "code",
   "execution_count": 93,
   "metadata": {
    "scrolled": true
   },
   "outputs": [
    {
     "name": "stdout",
     "output_type": "stream",
     "text": [
      "Полнота 0.7453580901856764\n",
      "Точность 0.385989010989011\n",
      "F1-мера 0.5085972850678734\n"
     ]
    }
   ],
   "source": [
    "model_LgR_downsampled = LogisticRegression(solver = 'liblinear')\n",
    "model_LgR_downsampled.fit(features_train_downsampled, target_train_downsampled)\n",
    "LgR_prediction_downsampled = model_LgR_downsampled.predict(features_valid)\n",
    "rec_prec_f1(target_valid, LgR_prediction_downsampled)"
   ]
  },
  {
   "cell_type": "code",
   "execution_count": 94,
   "metadata": {},
   "outputs": [
    {
     "data": {
      "text/plain": [
       "0.7779006989325494"
      ]
     },
     "execution_count": 94,
     "metadata": {},
     "output_type": "execute_result"
    }
   ],
   "source": [
    "LgR_downsampled_valid = model_LgR_downsampled.predict_proba(features_valid)[:, 1]\n",
    "auc_roc_LgR = roc_auc_score(target_valid, LgR_downsampled_valid)\n",
    "auc_roc_LgR"
   ]
  },
  {
   "cell_type": "markdown",
   "metadata": {},
   "source": [
    "<div class=\"alert alert-info\"> У всех моделей улучшились показатели, самые лучшие у RFC. f1=0.61"
   ]
  },
  {
   "cell_type": "markdown",
   "metadata": {},
   "source": [
    "## Тестирование модели"
   ]
  },
  {
   "cell_type": "markdown",
   "metadata": {},
   "source": [
    "<div class=\"alert alert-info\"> Обучим финальную модель. "
   ]
  },
  {
   "cell_type": "code",
   "execution_count": 95,
   "metadata": {
    "scrolled": true
   },
   "outputs": [
    {
     "name": "stdout",
     "output_type": "stream",
     "text": [
      "Полнота 0.698005698005698\n",
      "Точность 0.5157894736842106\n",
      "F1-мера 0.5932203389830508\n"
     ]
    }
   ],
   "source": [
    "model_RFC_final = RandomForestClassifier(\n",
    "     max_depth= best_depth_rfc_ups, n_estimators = best_est_rfc_ups, random_state=12345)\n",
    "model_RFC_final.fit(features_train_upsampled, target_train_upsampled)\n",
    "\n",
    "model_RFC_final_prediction = model_RFC_final.predict(features_test)\n",
    "rec_prec_f1(target_test, model_RFC_final_prediction)\n",
    "\n",
    "\n"
   ]
  },
  {
   "cell_type": "markdown",
   "metadata": {},
   "source": [
    "<div class=\"alert alert-info\"> Расчитаем auc_roc для RFC на тестовой выборке"
   ]
  },
  {
   "cell_type": "code",
   "execution_count": 96,
   "metadata": {},
   "outputs": [
    {
     "data": {
      "text/plain": [
       "0.8611033481605689"
      ]
     },
     "execution_count": 96,
     "metadata": {},
     "output_type": "execute_result"
    }
   ],
   "source": [
    "model_RFC_final_test = model_RFC_final.predict_proba(features_test)[:, 1]\n",
    "auc_roc_RFC = roc_auc_score(target_test, model_RFC_final_test)\n",
    "auc_roc_RFC"
   ]
  },
  {
   "cell_type": "markdown",
   "metadata": {},
   "source": [
    "<div class=\"alert alert-info\"> Создаем константную модель для проверки"
   ]
  },
  {
   "cell_type": "code",
   "execution_count": 97,
   "metadata": {},
   "outputs": [
    {
     "name": "stdout",
     "output_type": "stream",
     "text": [
      "accuracy_score константой модели: 0.8070368334249588\n",
      "accuracy_score финальной модели: 0.8152831225948324\n"
     ]
    }
   ],
   "source": [
    "target_predict_constant = pd.Series([0]*len(target_test))\n",
    "target_predict_constant.value_counts()\n",
    "print('accuracy_score константой модели:', accuracy_score(target_test, target_predict_constant))\n",
    "print('accuracy_score финальной модели:', accuracy_score(target_test, model_RFC_final_prediction))"
   ]
  },
  {
   "cell_type": "markdown",
   "metadata": {},
   "source": [
    "<div class=\"alert alert-info\"> Модель показывает результаты лучше константной модели"
   ]
  },
  {
   "cell_type": "markdown",
   "metadata": {},
   "source": [
    "<div class=\"alert alert-info\">\n",
    "    Выводы: \n",
    "1) Изначально в данных был дисбаланс, 80% против 20% позитивных. Модели на исходных данных часто ошибались и имели низкое качество f1\n",
    "\n",
    "2) Убрали дисбаланс классов методом Upsampling и Downsampling, увеличили количество значений позитивного класса в 4 раза.\n",
    "\n",
    "3) Новые данные скорректировали результаты. Лучший результат у случайного леса"
   ]
  },
  {
   "cell_type": "markdown",
   "metadata": {},
   "source": [
    "<div class=\"alert alert-info\"> \n",
    "    \n",
    "Финальная модель прошла проверку и имеет следующие показатели: \n",
    "\n",
    "Полнота 0.7210401891252955\n",
    "Точность 0.5152027027027027\n",
    "F1-мера 0.6009852216748769\n",
    "\n",
    "AUC-ROC константой модели: 0.5\n",
    "AUC-ROC финальной модели: 0.8493323799115837"
   ]
  }
 ],
 "metadata": {
  "ExecuteTimeLog": [
   {
    "duration": 55,
    "start_time": "2023-04-13T16:00:46.227Z"
   },
   {
    "duration": 630,
    "start_time": "2023-04-13T16:00:50.439Z"
   },
   {
    "duration": 15,
    "start_time": "2023-04-13T16:00:51.071Z"
   },
   {
    "duration": 33,
    "start_time": "2023-04-13T16:01:00.070Z"
   },
   {
    "duration": 11,
    "start_time": "2023-04-13T16:01:02.560Z"
   },
   {
    "duration": 9,
    "start_time": "2023-04-13T16:01:04.662Z"
   },
   {
    "duration": 50,
    "start_time": "2023-04-13T16:01:14.454Z"
   },
   {
    "duration": 3,
    "start_time": "2023-04-13T16:01:23.438Z"
   },
   {
    "duration": 8,
    "start_time": "2023-04-13T16:01:27.550Z"
   },
   {
    "duration": 4,
    "start_time": "2023-04-13T16:01:29.623Z"
   },
   {
    "duration": 10,
    "start_time": "2023-04-13T16:01:39.254Z"
   },
   {
    "duration": 13,
    "start_time": "2023-04-13T16:01:44.331Z"
   },
   {
    "duration": 4,
    "start_time": "2023-04-13T16:03:10.388Z"
   },
   {
    "duration": 12,
    "start_time": "2023-04-13T16:03:45.878Z"
   },
   {
    "duration": 8,
    "start_time": "2023-04-13T16:04:08.841Z"
   },
   {
    "duration": 1061,
    "start_time": "2023-04-13T16:08:19.916Z"
   },
   {
    "duration": 11,
    "start_time": "2023-04-13T16:13:24.734Z"
   },
   {
    "duration": 23,
    "start_time": "2023-04-13T16:13:33.784Z"
   },
   {
    "duration": 23,
    "start_time": "2023-04-13T16:14:02.888Z"
   },
   {
    "duration": 42,
    "start_time": "2023-04-13T16:14:37.525Z"
   },
   {
    "duration": 13,
    "start_time": "2023-04-13T16:14:39.389Z"
   },
   {
    "duration": 4,
    "start_time": "2023-04-13T16:14:39.537Z"
   },
   {
    "duration": 42,
    "start_time": "2023-04-13T16:14:39.676Z"
   },
   {
    "duration": 14,
    "start_time": "2023-04-13T16:14:39.828Z"
   },
   {
    "duration": 5,
    "start_time": "2023-04-13T16:14:39.978Z"
   },
   {
    "duration": 9,
    "start_time": "2023-04-13T16:14:40.468Z"
   },
   {
    "duration": 6,
    "start_time": "2023-04-13T16:14:40.857Z"
   },
   {
    "duration": 127,
    "start_time": "2023-04-13T16:14:43.814Z"
   },
   {
    "duration": 23,
    "start_time": "2023-04-13T16:14:50.471Z"
   },
   {
    "duration": 22,
    "start_time": "2023-04-13T16:15:10.508Z"
   },
   {
    "duration": 23,
    "start_time": "2023-04-13T16:15:34.729Z"
   },
   {
    "duration": 22,
    "start_time": "2023-04-13T16:15:47.139Z"
   },
   {
    "duration": 26,
    "start_time": "2023-04-13T16:16:26.176Z"
   },
   {
    "duration": 21,
    "start_time": "2023-04-13T16:16:48.101Z"
   },
   {
    "duration": 10,
    "start_time": "2023-04-13T16:18:38.367Z"
   },
   {
    "duration": 19,
    "start_time": "2023-04-13T16:18:55.814Z"
   },
   {
    "duration": 18,
    "start_time": "2023-04-13T16:19:18.605Z"
   },
   {
    "duration": 20,
    "start_time": "2023-04-13T16:19:46.556Z"
   },
   {
    "duration": 78,
    "start_time": "2023-04-13T16:20:06.908Z"
   },
   {
    "duration": 12,
    "start_time": "2023-04-13T16:20:08.253Z"
   },
   {
    "duration": 4,
    "start_time": "2023-04-13T16:20:08.403Z"
   },
   {
    "duration": 40,
    "start_time": "2023-04-13T16:20:08.542Z"
   },
   {
    "duration": 14,
    "start_time": "2023-04-13T16:20:08.693Z"
   },
   {
    "duration": 4,
    "start_time": "2023-04-13T16:20:08.837Z"
   },
   {
    "duration": 9,
    "start_time": "2023-04-13T16:20:09.123Z"
   },
   {
    "duration": 7,
    "start_time": "2023-04-13T16:20:09.543Z"
   },
   {
    "duration": 30,
    "start_time": "2023-04-13T16:20:11.781Z"
   },
   {
    "duration": 12,
    "start_time": "2023-04-13T16:26:03.429Z"
   },
   {
    "duration": 41,
    "start_time": "2023-04-13T16:26:17.646Z"
   },
   {
    "duration": 12,
    "start_time": "2023-04-13T16:26:17.986Z"
   },
   {
    "duration": 5,
    "start_time": "2023-04-13T16:26:18.165Z"
   },
   {
    "duration": 43,
    "start_time": "2023-04-13T16:26:18.379Z"
   },
   {
    "duration": 13,
    "start_time": "2023-04-13T16:26:18.606Z"
   },
   {
    "duration": 6,
    "start_time": "2023-04-13T16:26:18.792Z"
   },
   {
    "duration": 10,
    "start_time": "2023-04-13T16:26:21.575Z"
   },
   {
    "duration": 6,
    "start_time": "2023-04-13T16:26:22.109Z"
   },
   {
    "duration": 30,
    "start_time": "2023-04-13T16:26:23.586Z"
   },
   {
    "duration": 27,
    "start_time": "2023-04-13T16:26:27.983Z"
   },
   {
    "duration": 66,
    "start_time": "2023-04-13T16:28:39.665Z"
   },
   {
    "duration": 8,
    "start_time": "2023-04-13T16:36:52.397Z"
   },
   {
    "duration": 55,
    "start_time": "2023-04-13T16:37:25.294Z"
   },
   {
    "duration": 14,
    "start_time": "2023-04-13T16:37:25.450Z"
   },
   {
    "duration": 4,
    "start_time": "2023-04-13T16:37:25.760Z"
   },
   {
    "duration": 54,
    "start_time": "2023-04-13T16:37:25.916Z"
   },
   {
    "duration": 13,
    "start_time": "2023-04-13T16:37:26.054Z"
   },
   {
    "duration": 20,
    "start_time": "2023-04-13T16:37:26.214Z"
   },
   {
    "duration": 6,
    "start_time": "2023-04-13T16:37:26.655Z"
   },
   {
    "duration": 10,
    "start_time": "2023-04-13T16:37:26.986Z"
   },
   {
    "duration": 10,
    "start_time": "2023-04-13T16:37:27.826Z"
   },
   {
    "duration": 8,
    "start_time": "2023-04-13T16:37:34.059Z"
   },
   {
    "duration": 11,
    "start_time": "2023-04-13T16:37:47.281Z"
   },
   {
    "duration": 1664,
    "start_time": "2023-04-13T16:38:49.217Z"
   },
   {
    "duration": 13,
    "start_time": "2023-04-13T16:38:57.951Z"
   },
   {
    "duration": 10,
    "start_time": "2023-04-13T16:39:11.584Z"
   },
   {
    "duration": 17,
    "start_time": "2023-04-13T16:39:51.154Z"
   },
   {
    "duration": 43,
    "start_time": "2023-04-13T16:39:56.539Z"
   },
   {
    "duration": 13,
    "start_time": "2023-04-13T16:39:56.584Z"
   },
   {
    "duration": 16,
    "start_time": "2023-04-13T16:39:56.599Z"
   },
   {
    "duration": 54,
    "start_time": "2023-04-13T16:39:56.618Z"
   },
   {
    "duration": 16,
    "start_time": "2023-04-13T16:39:56.674Z"
   },
   {
    "duration": 11,
    "start_time": "2023-04-13T16:39:56.692Z"
   },
   {
    "duration": 18,
    "start_time": "2023-04-13T16:39:56.717Z"
   },
   {
    "duration": 29,
    "start_time": "2023-04-13T16:39:56.738Z"
   },
   {
    "duration": 11,
    "start_time": "2023-04-13T16:39:56.769Z"
   },
   {
    "duration": 31,
    "start_time": "2023-04-13T16:39:56.782Z"
   },
   {
    "duration": 20,
    "start_time": "2023-04-13T16:39:56.815Z"
   },
   {
    "duration": 83,
    "start_time": "2023-04-13T16:39:56.838Z"
   },
   {
    "duration": 14,
    "start_time": "2023-04-13T16:40:29.336Z"
   },
   {
    "duration": 55,
    "start_time": "2023-04-13T16:40:32.000Z"
   },
   {
    "duration": 52,
    "start_time": "2023-04-13T16:40:32.057Z"
   },
   {
    "duration": 21,
    "start_time": "2023-04-13T16:40:32.111Z"
   },
   {
    "duration": 73,
    "start_time": "2023-04-13T16:40:32.135Z"
   },
   {
    "duration": 25,
    "start_time": "2023-04-13T16:40:32.210Z"
   },
   {
    "duration": 24,
    "start_time": "2023-04-13T16:40:32.238Z"
   },
   {
    "duration": 22,
    "start_time": "2023-04-13T16:40:32.264Z"
   },
   {
    "duration": 35,
    "start_time": "2023-04-13T16:40:32.289Z"
   },
   {
    "duration": 42,
    "start_time": "2023-04-13T16:40:32.326Z"
   },
   {
    "duration": 33,
    "start_time": "2023-04-13T16:40:32.370Z"
   },
   {
    "duration": 39,
    "start_time": "2023-04-13T16:40:32.405Z"
   },
   {
    "duration": 28,
    "start_time": "2023-04-13T16:40:32.446Z"
   },
   {
    "duration": 82,
    "start_time": "2023-04-13T16:40:32.476Z"
   },
   {
    "duration": 3319,
    "start_time": "2023-04-13T16:40:51.577Z"
   },
   {
    "duration": 0,
    "start_time": "2023-04-13T16:40:58.568Z"
   },
   {
    "duration": 0,
    "start_time": "2023-04-13T16:40:58.570Z"
   },
   {
    "duration": 0,
    "start_time": "2023-04-13T16:40:58.571Z"
   },
   {
    "duration": 0,
    "start_time": "2023-04-13T16:40:58.572Z"
   },
   {
    "duration": 0,
    "start_time": "2023-04-13T16:40:58.575Z"
   },
   {
    "duration": 0,
    "start_time": "2023-04-13T16:40:58.577Z"
   },
   {
    "duration": 0,
    "start_time": "2023-04-13T16:40:58.578Z"
   },
   {
    "duration": 0,
    "start_time": "2023-04-13T16:40:58.579Z"
   },
   {
    "duration": 0,
    "start_time": "2023-04-13T16:40:58.581Z"
   },
   {
    "duration": 0,
    "start_time": "2023-04-13T16:40:58.582Z"
   },
   {
    "duration": 0,
    "start_time": "2023-04-13T16:40:58.583Z"
   },
   {
    "duration": 0,
    "start_time": "2023-04-13T16:40:58.584Z"
   },
   {
    "duration": 0,
    "start_time": "2023-04-13T16:40:58.585Z"
   },
   {
    "duration": 49,
    "start_time": "2023-04-13T16:41:07.792Z"
   },
   {
    "duration": 13,
    "start_time": "2023-04-13T16:41:08.155Z"
   },
   {
    "duration": 4,
    "start_time": "2023-04-13T16:41:08.684Z"
   },
   {
    "duration": 43,
    "start_time": "2023-04-13T16:41:08.860Z"
   },
   {
    "duration": 18,
    "start_time": "2023-04-13T16:41:09.035Z"
   },
   {
    "duration": 11,
    "start_time": "2023-04-13T16:41:09.181Z"
   },
   {
    "duration": 10,
    "start_time": "2023-04-13T16:41:10.924Z"
   },
   {
    "duration": 8,
    "start_time": "2023-04-13T16:41:11.099Z"
   },
   {
    "duration": 7,
    "start_time": "2023-04-13T16:41:11.262Z"
   },
   {
    "duration": 7,
    "start_time": "2023-04-13T16:41:11.693Z"
   },
   {
    "duration": 6,
    "start_time": "2023-04-13T16:41:31.870Z"
   },
   {
    "duration": 13,
    "start_time": "2023-04-13T16:41:35.817Z"
   },
   {
    "duration": 13,
    "start_time": "2023-04-13T16:41:51.611Z"
   },
   {
    "duration": 14,
    "start_time": "2023-04-13T17:13:18.623Z"
   },
   {
    "duration": 5,
    "start_time": "2023-04-13T17:13:18.805Z"
   },
   {
    "duration": 4,
    "start_time": "2023-04-13T17:14:30.837Z"
   },
   {
    "duration": 9,
    "start_time": "2023-04-13T17:14:37.053Z"
   },
   {
    "duration": 27,
    "start_time": "2023-04-13T17:14:50.837Z"
   },
   {
    "duration": 31,
    "start_time": "2023-04-13T17:14:53.193Z"
   },
   {
    "duration": 6,
    "start_time": "2023-04-13T17:15:00.356Z"
   },
   {
    "duration": 28,
    "start_time": "2023-04-13T17:15:01.066Z"
   },
   {
    "duration": 9,
    "start_time": "2023-04-13T17:15:13.636Z"
   },
   {
    "duration": 25,
    "start_time": "2023-04-13T17:15:22.460Z"
   },
   {
    "duration": 48,
    "start_time": "2023-04-13T17:16:55.283Z"
   },
   {
    "duration": 43,
    "start_time": "2023-04-13T17:16:56.746Z"
   },
   {
    "duration": 13,
    "start_time": "2023-04-13T17:16:57.780Z"
   },
   {
    "duration": 7,
    "start_time": "2023-04-13T17:16:57.926Z"
   },
   {
    "duration": 61,
    "start_time": "2023-04-13T17:16:58.061Z"
   },
   {
    "duration": 20,
    "start_time": "2023-04-13T17:16:58.224Z"
   },
   {
    "duration": 8,
    "start_time": "2023-04-13T17:16:58.357Z"
   },
   {
    "duration": 10,
    "start_time": "2023-04-13T17:16:58.623Z"
   },
   {
    "duration": 8,
    "start_time": "2023-04-13T17:16:58.771Z"
   },
   {
    "duration": 6,
    "start_time": "2023-04-13T17:16:58.893Z"
   },
   {
    "duration": 5,
    "start_time": "2023-04-13T17:16:59.063Z"
   },
   {
    "duration": 12,
    "start_time": "2023-04-13T17:16:59.340Z"
   },
   {
    "duration": 12,
    "start_time": "2023-04-13T17:16:59.484Z"
   },
   {
    "duration": 10,
    "start_time": "2023-04-13T17:16:59.628Z"
   },
   {
    "duration": 7,
    "start_time": "2023-04-13T17:16:59.933Z"
   },
   {
    "duration": 9,
    "start_time": "2023-04-13T17:17:00.221Z"
   },
   {
    "duration": 27,
    "start_time": "2023-04-13T17:17:00.378Z"
   },
   {
    "duration": 19,
    "start_time": "2023-04-13T17:17:39.492Z"
   },
   {
    "duration": 18,
    "start_time": "2023-04-13T17:17:51.248Z"
   },
   {
    "duration": 7,
    "start_time": "2023-04-13T17:18:08.856Z"
   },
   {
    "duration": 718,
    "start_time": "2023-04-13T17:18:13.244Z"
   },
   {
    "duration": 147,
    "start_time": "2023-04-13T17:18:24.210Z"
   },
   {
    "duration": 8,
    "start_time": "2023-04-13T17:23:39.233Z"
   },
   {
    "duration": 6,
    "start_time": "2023-04-13T17:24:48.797Z"
   },
   {
    "duration": 4,
    "start_time": "2023-04-13T17:24:55.837Z"
   },
   {
    "duration": 5,
    "start_time": "2023-04-13T17:25:24.141Z"
   },
   {
    "duration": 29,
    "start_time": "2023-04-13T17:25:39.842Z"
   },
   {
    "duration": 55,
    "start_time": "2023-04-13T17:26:25.732Z"
   },
   {
    "duration": 5,
    "start_time": "2023-04-13T17:26:29.740Z"
   },
   {
    "duration": 10,
    "start_time": "2023-04-13T17:26:30.101Z"
   },
   {
    "duration": 116,
    "start_time": "2023-04-13T17:31:34.064Z"
   },
   {
    "duration": 6,
    "start_time": "2023-04-13T17:31:34.435Z"
   },
   {
    "duration": 4,
    "start_time": "2023-04-13T17:31:39.152Z"
   },
   {
    "duration": 5,
    "start_time": "2023-04-13T17:31:58.901Z"
   },
   {
    "duration": 823,
    "start_time": "2023-04-13T17:32:56.216Z"
   },
   {
    "duration": 730,
    "start_time": "2023-04-13T17:34:23.595Z"
   },
   {
    "duration": 45,
    "start_time": "2023-04-13T17:34:55.038Z"
   },
   {
    "duration": 43,
    "start_time": "2023-04-13T17:34:56.871Z"
   },
   {
    "duration": 14,
    "start_time": "2023-04-13T17:34:57.017Z"
   },
   {
    "duration": 5,
    "start_time": "2023-04-13T17:34:57.172Z"
   },
   {
    "duration": 41,
    "start_time": "2023-04-13T17:34:57.313Z"
   },
   {
    "duration": 13,
    "start_time": "2023-04-13T17:34:57.444Z"
   },
   {
    "duration": 8,
    "start_time": "2023-04-13T17:34:57.571Z"
   },
   {
    "duration": 7,
    "start_time": "2023-04-13T17:34:57.726Z"
   },
   {
    "duration": 7,
    "start_time": "2023-04-13T17:34:57.943Z"
   },
   {
    "duration": 5,
    "start_time": "2023-04-13T17:34:58.067Z"
   },
   {
    "duration": 5,
    "start_time": "2023-04-13T17:34:58.206Z"
   },
   {
    "duration": 9,
    "start_time": "2023-04-13T17:34:58.475Z"
   },
   {
    "duration": 11,
    "start_time": "2023-04-13T17:34:58.609Z"
   },
   {
    "duration": 8,
    "start_time": "2023-04-13T17:34:58.752Z"
   },
   {
    "duration": 5,
    "start_time": "2023-04-13T17:34:58.898Z"
   },
   {
    "duration": 9,
    "start_time": "2023-04-13T17:34:59.201Z"
   },
   {
    "duration": 21,
    "start_time": "2023-04-13T17:34:59.326Z"
   },
   {
    "duration": 19,
    "start_time": "2023-04-13T17:34:59.463Z"
   },
   {
    "duration": 19,
    "start_time": "2023-04-13T17:34:59.609Z"
   },
   {
    "duration": 6,
    "start_time": "2023-04-13T17:34:59.882Z"
   },
   {
    "duration": 110,
    "start_time": "2023-04-13T17:35:00.025Z"
   },
   {
    "duration": 3,
    "start_time": "2023-04-13T17:35:00.466Z"
   },
   {
    "duration": 6,
    "start_time": "2023-04-13T17:35:01.054Z"
   },
   {
    "duration": 898,
    "start_time": "2023-04-13T17:35:01.728Z"
   },
   {
    "duration": 879,
    "start_time": "2023-04-13T17:35:02.629Z"
   },
   {
    "duration": 9,
    "start_time": "2023-04-13T17:35:27.627Z"
   },
   {
    "duration": 56,
    "start_time": "2023-04-13T17:35:49.073Z"
   },
   {
    "duration": 41,
    "start_time": "2023-04-13T17:37:56.626Z"
   },
   {
    "duration": 10,
    "start_time": "2023-04-13T17:38:01.801Z"
   },
   {
    "duration": 11,
    "start_time": "2023-04-13T17:38:09.141Z"
   },
   {
    "duration": 92,
    "start_time": "2023-04-13T17:39:38.229Z"
   },
   {
    "duration": 9,
    "start_time": "2023-04-13T17:39:42.465Z"
   },
   {
    "duration": 16,
    "start_time": "2023-04-13T17:39:50.554Z"
   },
   {
    "duration": 4,
    "start_time": "2023-04-13T17:40:02.537Z"
   },
   {
    "duration": 4,
    "start_time": "2023-04-13T17:40:11.644Z"
   },
   {
    "duration": 15,
    "start_time": "2023-04-13T17:40:20.541Z"
   },
   {
    "duration": 45,
    "start_time": "2023-04-13T17:40:53.066Z"
   },
   {
    "duration": 5,
    "start_time": "2023-04-13T17:40:57.939Z"
   },
   {
    "duration": 140,
    "start_time": "2023-04-13T17:40:58.304Z"
   },
   {
    "duration": 287,
    "start_time": "2023-04-13T17:42:16.365Z"
   },
   {
    "duration": 148,
    "start_time": "2023-04-13T17:43:21.188Z"
   },
   {
    "duration": 15,
    "start_time": "2023-04-13T17:53:00.173Z"
   },
   {
    "duration": 8,
    "start_time": "2023-04-13T17:53:10.366Z"
   },
   {
    "duration": 13,
    "start_time": "2023-04-13T17:53:46.545Z"
   },
   {
    "duration": 11,
    "start_time": "2023-04-13T17:54:12.298Z"
   },
   {
    "duration": 12,
    "start_time": "2023-04-13T17:56:09.856Z"
   },
   {
    "duration": 168,
    "start_time": "2023-04-13T17:56:29.168Z"
   },
   {
    "duration": 115,
    "start_time": "2023-04-13T17:56:40.950Z"
   },
   {
    "duration": 12,
    "start_time": "2023-04-13T18:34:42.441Z"
   },
   {
    "duration": 5,
    "start_time": "2023-04-13T18:35:13.648Z"
   },
   {
    "duration": 11,
    "start_time": "2023-04-13T18:35:17.408Z"
   },
   {
    "duration": 5,
    "start_time": "2023-04-13T18:36:24.342Z"
   },
   {
    "duration": 272,
    "start_time": "2023-04-13T18:36:24.654Z"
   },
   {
    "duration": 266,
    "start_time": "2023-04-13T18:36:28.853Z"
   },
   {
    "duration": 4,
    "start_time": "2023-04-13T18:37:09.541Z"
   },
   {
    "duration": 339,
    "start_time": "2023-04-13T18:37:11.084Z"
   },
   {
    "duration": 309,
    "start_time": "2023-04-13T18:37:23.310Z"
   },
   {
    "duration": 375,
    "start_time": "2023-04-13T18:38:28.146Z"
   },
   {
    "duration": 47,
    "start_time": "2023-04-13T18:39:44.876Z"
   },
   {
    "duration": 10,
    "start_time": "2023-04-13T18:40:06.412Z"
   },
   {
    "duration": 308,
    "start_time": "2023-04-13T18:40:41.629Z"
   },
   {
    "duration": 28,
    "start_time": "2023-04-13T18:41:00.675Z"
   },
   {
    "duration": 46,
    "start_time": "2023-04-13T18:41:19.873Z"
   },
   {
    "duration": 9,
    "start_time": "2023-04-13T18:41:46.199Z"
   },
   {
    "duration": 309,
    "start_time": "2023-04-13T18:42:18.331Z"
   },
   {
    "duration": 24,
    "start_time": "2023-04-13T18:42:46.050Z"
   },
   {
    "duration": 6,
    "start_time": "2023-04-13T18:43:18.453Z"
   },
   {
    "duration": 9,
    "start_time": "2023-04-13T18:43:48.006Z"
   },
   {
    "duration": 8,
    "start_time": "2023-04-13T18:43:49.705Z"
   },
   {
    "duration": 55,
    "start_time": "2023-04-13T18:50:26.328Z"
   },
   {
    "duration": 14,
    "start_time": "2023-04-13T18:50:27.743Z"
   },
   {
    "duration": 4,
    "start_time": "2023-04-13T18:50:27.903Z"
   },
   {
    "duration": 43,
    "start_time": "2023-04-13T18:50:28.687Z"
   },
   {
    "duration": 14,
    "start_time": "2023-04-13T18:50:30.901Z"
   },
   {
    "duration": 12,
    "start_time": "2023-04-13T18:50:32.650Z"
   },
   {
    "duration": 12,
    "start_time": "2023-04-13T18:50:49.610Z"
   },
   {
    "duration": 45,
    "start_time": "2023-04-13T19:01:42.917Z"
   },
   {
    "duration": 15,
    "start_time": "2023-04-13T19:01:42.964Z"
   },
   {
    "duration": 6,
    "start_time": "2023-04-13T19:01:42.981Z"
   },
   {
    "duration": 65,
    "start_time": "2023-04-13T19:01:42.989Z"
   },
   {
    "duration": 15,
    "start_time": "2023-04-13T19:01:43.055Z"
   },
   {
    "duration": 15,
    "start_time": "2023-04-13T19:01:43.072Z"
   },
   {
    "duration": 30,
    "start_time": "2023-04-13T19:01:43.089Z"
   },
   {
    "duration": 6,
    "start_time": "2023-04-13T19:01:43.121Z"
   },
   {
    "duration": 11,
    "start_time": "2023-04-13T19:01:43.129Z"
   },
   {
    "duration": 12,
    "start_time": "2023-04-13T19:01:43.143Z"
   },
   {
    "duration": 12,
    "start_time": "2023-04-13T19:01:43.157Z"
   },
   {
    "duration": 15,
    "start_time": "2023-04-13T19:01:43.171Z"
   },
   {
    "duration": 35,
    "start_time": "2023-04-13T19:01:43.188Z"
   },
   {
    "duration": 17,
    "start_time": "2023-04-13T19:01:43.225Z"
   },
   {
    "duration": 10,
    "start_time": "2023-04-13T19:01:43.244Z"
   },
   {
    "duration": 20,
    "start_time": "2023-04-13T19:01:43.256Z"
   },
   {
    "duration": 32,
    "start_time": "2023-04-13T19:01:43.277Z"
   },
   {
    "duration": 30,
    "start_time": "2023-04-13T19:01:43.311Z"
   },
   {
    "duration": 20,
    "start_time": "2023-04-13T19:01:43.343Z"
   },
   {
    "duration": 14,
    "start_time": "2023-04-13T19:01:43.365Z"
   },
   {
    "duration": 339,
    "start_time": "2023-04-13T19:01:43.381Z"
   },
   {
    "duration": 96,
    "start_time": "2023-04-13T19:01:43.723Z"
   },
   {
    "duration": 129,
    "start_time": "2023-04-13T19:01:43.821Z"
   },
   {
    "duration": 3,
    "start_time": "2023-04-13T19:01:43.952Z"
   },
   {
    "duration": 31,
    "start_time": "2023-04-13T19:01:43.957Z"
   },
   {
    "duration": 836,
    "start_time": "2023-04-13T19:01:43.990Z"
   },
   {
    "duration": 878,
    "start_time": "2023-04-13T19:01:44.828Z"
   },
   {
    "duration": 14,
    "start_time": "2023-04-13T19:01:45.710Z"
   },
   {
    "duration": 68,
    "start_time": "2023-04-13T19:01:45.726Z"
   },
   {
    "duration": 44,
    "start_time": "2023-04-13T19:01:45.796Z"
   },
   {
    "duration": 8,
    "start_time": "2023-04-13T19:01:45.842Z"
   },
   {
    "duration": 27,
    "start_time": "2023-04-13T19:01:45.851Z"
   },
   {
    "duration": 220,
    "start_time": "2023-04-13T19:01:45.880Z"
   },
   {
    "duration": 0,
    "start_time": "2023-04-13T19:01:46.101Z"
   },
   {
    "duration": 0,
    "start_time": "2023-04-13T19:01:46.102Z"
   },
   {
    "duration": 0,
    "start_time": "2023-04-13T19:01:46.103Z"
   },
   {
    "duration": 0,
    "start_time": "2023-04-13T19:01:46.105Z"
   },
   {
    "duration": 0,
    "start_time": "2023-04-13T19:01:46.106Z"
   },
   {
    "duration": 0,
    "start_time": "2023-04-13T19:01:46.107Z"
   },
   {
    "duration": 0,
    "start_time": "2023-04-13T19:01:46.108Z"
   },
   {
    "duration": 0,
    "start_time": "2023-04-13T19:01:46.109Z"
   },
   {
    "duration": 0,
    "start_time": "2023-04-13T19:01:46.110Z"
   },
   {
    "duration": 0,
    "start_time": "2023-04-13T19:01:46.111Z"
   },
   {
    "duration": 0,
    "start_time": "2023-04-13T19:01:46.112Z"
   },
   {
    "duration": 0,
    "start_time": "2023-04-13T19:01:46.113Z"
   },
   {
    "duration": 0,
    "start_time": "2023-04-13T19:01:46.115Z"
   },
   {
    "duration": 0,
    "start_time": "2023-04-13T19:01:46.116Z"
   },
   {
    "duration": 0,
    "start_time": "2023-04-13T19:01:46.117Z"
   },
   {
    "duration": 0,
    "start_time": "2023-04-13T19:01:46.118Z"
   },
   {
    "duration": 0,
    "start_time": "2023-04-13T19:01:46.119Z"
   },
   {
    "duration": 0,
    "start_time": "2023-04-13T19:01:46.120Z"
   },
   {
    "duration": 0,
    "start_time": "2023-04-13T19:01:46.121Z"
   },
   {
    "duration": 0,
    "start_time": "2023-04-13T19:01:46.122Z"
   },
   {
    "duration": 0,
    "start_time": "2023-04-13T19:01:46.123Z"
   },
   {
    "duration": 0,
    "start_time": "2023-04-13T19:01:46.124Z"
   },
   {
    "duration": 0,
    "start_time": "2023-04-13T19:01:46.125Z"
   },
   {
    "duration": 0,
    "start_time": "2023-04-13T19:01:46.126Z"
   },
   {
    "duration": 0,
    "start_time": "2023-04-13T19:01:46.127Z"
   },
   {
    "duration": 1,
    "start_time": "2023-04-13T19:01:46.128Z"
   },
   {
    "duration": 80,
    "start_time": "2023-04-13T19:03:09.276Z"
   },
   {
    "duration": 75,
    "start_time": "2023-04-13T19:03:11.272Z"
   },
   {
    "duration": 5,
    "start_time": "2023-04-13T19:03:20.502Z"
   },
   {
    "duration": 738,
    "start_time": "2023-04-13T19:04:38.774Z"
   },
   {
    "duration": 10,
    "start_time": "2023-04-13T19:04:39.516Z"
   },
   {
    "duration": 60,
    "start_time": "2023-04-13T19:04:40.417Z"
   },
   {
    "duration": 57,
    "start_time": "2023-04-13T19:04:47.466Z"
   },
   {
    "duration": 39,
    "start_time": "2023-04-13T19:04:48.101Z"
   },
   {
    "duration": 9,
    "start_time": "2023-04-13T19:04:48.259Z"
   },
   {
    "duration": 9,
    "start_time": "2023-04-13T19:04:48.418Z"
   },
   {
    "duration": 11,
    "start_time": "2023-04-13T19:05:12.570Z"
   },
   {
    "duration": 276,
    "start_time": "2023-04-13T19:05:12.790Z"
   },
   {
    "duration": 15,
    "start_time": "2023-04-13T19:08:07.876Z"
   },
   {
    "duration": 7,
    "start_time": "2023-04-13T19:08:08.778Z"
   },
   {
    "duration": 10,
    "start_time": "2023-04-13T19:08:11.052Z"
   },
   {
    "duration": 4,
    "start_time": "2023-04-13T19:08:12.971Z"
   },
   {
    "duration": 13,
    "start_time": "2023-04-13T19:08:16.410Z"
   },
   {
    "duration": 19,
    "start_time": "2023-04-13T19:08:16.425Z"
   },
   {
    "duration": 139,
    "start_time": "2023-04-13T19:08:16.446Z"
   },
   {
    "duration": 83,
    "start_time": "2023-04-13T19:08:16.588Z"
   },
   {
    "duration": 0,
    "start_time": "2023-04-13T19:08:16.673Z"
   },
   {
    "duration": 0,
    "start_time": "2023-04-13T19:08:16.675Z"
   },
   {
    "duration": 0,
    "start_time": "2023-04-13T19:08:16.676Z"
   },
   {
    "duration": 0,
    "start_time": "2023-04-13T19:08:16.678Z"
   },
   {
    "duration": 0,
    "start_time": "2023-04-13T19:08:16.680Z"
   },
   {
    "duration": 0,
    "start_time": "2023-04-13T19:08:16.681Z"
   },
   {
    "duration": 0,
    "start_time": "2023-04-13T19:08:16.683Z"
   },
   {
    "duration": 0,
    "start_time": "2023-04-13T19:08:16.685Z"
   },
   {
    "duration": 0,
    "start_time": "2023-04-13T19:08:16.686Z"
   },
   {
    "duration": 0,
    "start_time": "2023-04-13T19:08:16.688Z"
   },
   {
    "duration": 0,
    "start_time": "2023-04-13T19:08:16.689Z"
   },
   {
    "duration": 181,
    "start_time": "2023-04-13T19:08:22.081Z"
   },
   {
    "duration": 300,
    "start_time": "2023-04-13T19:08:27.619Z"
   },
   {
    "duration": 376,
    "start_time": "2023-04-13T19:08:59.943Z"
   },
   {
    "duration": 308,
    "start_time": "2023-04-13T19:10:01.450Z"
   },
   {
    "duration": 25,
    "start_time": "2023-04-13T19:10:02.580Z"
   },
   {
    "duration": 52,
    "start_time": "2023-04-13T19:10:03.569Z"
   },
   {
    "duration": 12,
    "start_time": "2023-04-13T19:10:05.719Z"
   },
   {
    "duration": 292,
    "start_time": "2023-04-13T19:10:24.401Z"
   },
   {
    "duration": 24,
    "start_time": "2023-04-13T19:10:24.717Z"
   },
   {
    "duration": 10,
    "start_time": "2023-04-13T19:10:25.016Z"
   },
   {
    "duration": 9,
    "start_time": "2023-04-13T19:10:25.154Z"
   },
   {
    "duration": 45,
    "start_time": "2023-04-13T19:13:14.155Z"
   },
   {
    "duration": 8,
    "start_time": "2023-04-13T19:13:16.005Z"
   },
   {
    "duration": 285,
    "start_time": "2023-04-13T19:13:16.333Z"
   },
   {
    "duration": 110,
    "start_time": "2023-04-13T19:14:40.531Z"
   },
   {
    "duration": 5,
    "start_time": "2023-04-13T19:17:16.116Z"
   },
   {
    "duration": 5,
    "start_time": "2023-04-13T19:17:30.016Z"
   },
   {
    "duration": 8,
    "start_time": "2023-04-13T19:17:43.588Z"
   },
   {
    "duration": 45,
    "start_time": "2023-04-13T19:17:49.070Z"
   },
   {
    "duration": 13,
    "start_time": "2023-04-13T19:17:49.117Z"
   },
   {
    "duration": 5,
    "start_time": "2023-04-13T19:17:49.131Z"
   },
   {
    "duration": 55,
    "start_time": "2023-04-13T19:17:49.138Z"
   },
   {
    "duration": 31,
    "start_time": "2023-04-13T19:17:49.196Z"
   },
   {
    "duration": 37,
    "start_time": "2023-04-13T19:17:49.229Z"
   },
   {
    "duration": 11,
    "start_time": "2023-04-13T19:17:49.267Z"
   },
   {
    "duration": 17,
    "start_time": "2023-04-13T19:17:49.279Z"
   },
   {
    "duration": 23,
    "start_time": "2023-04-13T19:17:49.297Z"
   },
   {
    "duration": 12,
    "start_time": "2023-04-13T19:17:49.321Z"
   },
   {
    "duration": 13,
    "start_time": "2023-04-13T19:17:49.335Z"
   },
   {
    "duration": 22,
    "start_time": "2023-04-13T19:17:49.349Z"
   },
   {
    "duration": 11,
    "start_time": "2023-04-13T19:17:49.373Z"
   },
   {
    "duration": 18,
    "start_time": "2023-04-13T19:17:49.387Z"
   },
   {
    "duration": 10,
    "start_time": "2023-04-13T19:17:49.407Z"
   },
   {
    "duration": 18,
    "start_time": "2023-04-13T19:17:49.419Z"
   },
   {
    "duration": 29,
    "start_time": "2023-04-13T19:17:49.438Z"
   },
   {
    "duration": 18,
    "start_time": "2023-04-13T19:17:49.469Z"
   },
   {
    "duration": 18,
    "start_time": "2023-04-13T19:17:49.489Z"
   },
   {
    "duration": 4,
    "start_time": "2023-04-13T19:17:49.517Z"
   },
   {
    "duration": 309,
    "start_time": "2023-04-13T19:17:49.523Z"
   },
   {
    "duration": 10,
    "start_time": "2023-04-13T19:17:49.919Z"
   },
   {
    "duration": 131,
    "start_time": "2023-04-13T19:17:50.018Z"
   },
   {
    "duration": 3,
    "start_time": "2023-04-13T19:17:50.150Z"
   },
   {
    "duration": 8,
    "start_time": "2023-04-13T19:17:50.155Z"
   },
   {
    "duration": 856,
    "start_time": "2023-04-13T19:17:50.165Z"
   },
   {
    "duration": 852,
    "start_time": "2023-04-13T19:17:51.023Z"
   },
   {
    "duration": 9,
    "start_time": "2023-04-13T19:17:51.876Z"
   },
   {
    "duration": 90,
    "start_time": "2023-04-13T19:17:51.887Z"
   },
   {
    "duration": 39,
    "start_time": "2023-04-13T19:17:51.979Z"
   },
   {
    "duration": 8,
    "start_time": "2023-04-13T19:17:52.020Z"
   },
   {
    "duration": 20,
    "start_time": "2023-04-13T19:17:52.030Z"
   },
   {
    "duration": 67,
    "start_time": "2023-04-13T19:17:52.052Z"
   },
   {
    "duration": 114,
    "start_time": "2023-04-13T19:17:52.122Z"
   },
   {
    "duration": 13,
    "start_time": "2023-04-13T19:17:52.239Z"
   },
   {
    "duration": 187,
    "start_time": "2023-04-13T19:17:52.254Z"
   },
   {
    "duration": 216,
    "start_time": "2023-04-13T19:17:52.444Z"
   },
   {
    "duration": 402,
    "start_time": "2023-04-13T19:17:52.663Z"
   },
   {
    "duration": 5,
    "start_time": "2023-04-13T19:17:53.067Z"
   },
   {
    "duration": 29,
    "start_time": "2023-04-13T19:17:53.073Z"
   },
   {
    "duration": 11,
    "start_time": "2023-04-13T19:17:53.120Z"
   },
   {
    "duration": 15,
    "start_time": "2023-04-13T19:17:53.132Z"
   },
   {
    "duration": 8,
    "start_time": "2023-04-13T19:17:53.149Z"
   },
   {
    "duration": 26,
    "start_time": "2023-04-13T19:17:53.158Z"
   },
   {
    "duration": 43,
    "start_time": "2023-04-13T19:17:53.186Z"
   },
   {
    "duration": 158,
    "start_time": "2023-04-13T19:17:53.230Z"
   },
   {
    "duration": 276,
    "start_time": "2023-04-13T19:17:53.389Z"
   },
   {
    "duration": 514,
    "start_time": "2023-04-13T19:17:53.667Z"
   },
   {
    "duration": 136,
    "start_time": "2023-04-13T19:17:54.219Z"
   },
   {
    "duration": 8,
    "start_time": "2023-04-13T19:17:54.357Z"
   },
   {
    "duration": 321,
    "start_time": "2023-04-13T19:17:54.367Z"
   },
   {
    "duration": 32,
    "start_time": "2023-04-13T19:17:54.689Z"
   },
   {
    "duration": 97,
    "start_time": "2023-04-13T19:17:54.723Z"
   },
   {
    "duration": 102,
    "start_time": "2023-04-13T19:17:54.822Z"
   },
   {
    "duration": 416,
    "start_time": "2023-04-13T19:17:54.926Z"
   },
   {
    "duration": 24,
    "start_time": "2023-04-13T19:17:55.343Z"
   },
   {
    "duration": 7,
    "start_time": "2023-04-13T19:17:55.369Z"
   },
   {
    "duration": 17,
    "start_time": "2023-04-13T19:17:55.377Z"
   },
   {
    "duration": 75,
    "start_time": "2023-04-13T19:21:43.464Z"
   },
   {
    "duration": 12,
    "start_time": "2023-04-13T19:27:13.731Z"
   },
   {
    "duration": 44,
    "start_time": "2023-04-13T19:31:54.981Z"
   },
   {
    "duration": 304,
    "start_time": "2023-04-13T19:32:24.655Z"
   },
   {
    "duration": 43,
    "start_time": "2023-04-13T19:33:33.604Z"
   },
   {
    "duration": 12,
    "start_time": "2023-04-13T19:33:33.649Z"
   },
   {
    "duration": 9,
    "start_time": "2023-04-13T19:33:33.663Z"
   },
   {
    "duration": 54,
    "start_time": "2023-04-13T19:33:33.674Z"
   },
   {
    "duration": 14,
    "start_time": "2023-04-13T19:33:33.731Z"
   },
   {
    "duration": 14,
    "start_time": "2023-04-13T19:33:33.747Z"
   },
   {
    "duration": 8,
    "start_time": "2023-04-13T19:33:33.763Z"
   },
   {
    "duration": 8,
    "start_time": "2023-04-13T19:33:33.773Z"
   },
   {
    "duration": 36,
    "start_time": "2023-04-13T19:33:33.783Z"
   },
   {
    "duration": 5,
    "start_time": "2023-04-13T19:33:33.821Z"
   },
   {
    "duration": 11,
    "start_time": "2023-04-13T19:33:33.827Z"
   },
   {
    "duration": 15,
    "start_time": "2023-04-13T19:33:33.839Z"
   },
   {
    "duration": 13,
    "start_time": "2023-04-13T19:33:33.856Z"
   },
   {
    "duration": 8,
    "start_time": "2023-04-13T19:33:33.872Z"
   },
   {
    "duration": 7,
    "start_time": "2023-04-13T19:33:33.882Z"
   },
   {
    "duration": 29,
    "start_time": "2023-04-13T19:33:33.891Z"
   },
   {
    "duration": 22,
    "start_time": "2023-04-13T19:33:33.922Z"
   },
   {
    "duration": 17,
    "start_time": "2023-04-13T19:33:33.946Z"
   },
   {
    "duration": 17,
    "start_time": "2023-04-13T19:33:33.964Z"
   },
   {
    "duration": 4,
    "start_time": "2023-04-13T19:33:33.982Z"
   },
   {
    "duration": 285,
    "start_time": "2023-04-13T19:33:33.988Z"
   },
   {
    "duration": 144,
    "start_time": "2023-04-13T19:33:34.274Z"
   },
   {
    "duration": 124,
    "start_time": "2023-04-13T19:33:34.420Z"
   },
   {
    "duration": 4,
    "start_time": "2023-04-13T19:33:34.546Z"
   },
   {
    "duration": 11,
    "start_time": "2023-04-13T19:33:34.552Z"
   },
   {
    "duration": 859,
    "start_time": "2023-04-13T19:33:34.566Z"
   },
   {
    "duration": 855,
    "start_time": "2023-04-13T19:33:35.428Z"
   },
   {
    "duration": 10,
    "start_time": "2023-04-13T19:33:36.285Z"
   },
   {
    "duration": 70,
    "start_time": "2023-04-13T19:33:36.297Z"
   },
   {
    "duration": 39,
    "start_time": "2023-04-13T19:33:36.369Z"
   },
   {
    "duration": 10,
    "start_time": "2023-04-13T19:33:36.418Z"
   },
   {
    "duration": 12,
    "start_time": "2023-04-13T19:33:36.430Z"
   },
   {
    "duration": 75,
    "start_time": "2023-04-13T19:33:36.444Z"
   },
   {
    "duration": 102,
    "start_time": "2023-04-13T19:33:36.523Z"
   },
   {
    "duration": 37,
    "start_time": "2023-04-13T19:33:36.626Z"
   },
   {
    "duration": 153,
    "start_time": "2023-04-13T19:33:36.666Z"
   },
   {
    "duration": 149,
    "start_time": "2023-04-13T19:33:36.821Z"
   },
   {
    "duration": 378,
    "start_time": "2023-04-13T19:33:36.972Z"
   },
   {
    "duration": 5,
    "start_time": "2023-04-13T19:33:37.352Z"
   },
   {
    "duration": 24,
    "start_time": "2023-04-13T19:33:37.359Z"
   },
   {
    "duration": 20,
    "start_time": "2023-04-13T19:33:37.388Z"
   },
   {
    "duration": 15,
    "start_time": "2023-04-13T19:33:37.409Z"
   },
   {
    "duration": 9,
    "start_time": "2023-04-13T19:33:37.426Z"
   },
   {
    "duration": 16,
    "start_time": "2023-04-13T19:33:37.438Z"
   },
   {
    "duration": 14,
    "start_time": "2023-04-13T19:33:37.456Z"
   },
   {
    "duration": 147,
    "start_time": "2023-04-13T19:33:37.472Z"
   },
   {
    "duration": 300,
    "start_time": "2023-04-13T19:33:37.621Z"
   },
   {
    "duration": 521,
    "start_time": "2023-04-13T19:33:37.925Z"
   },
   {
    "duration": 202,
    "start_time": "2023-04-13T19:33:38.448Z"
   },
   {
    "duration": 9,
    "start_time": "2023-04-13T19:33:38.652Z"
   },
   {
    "duration": 313,
    "start_time": "2023-04-13T19:33:38.663Z"
   },
   {
    "duration": 24,
    "start_time": "2023-04-13T19:33:38.978Z"
   },
   {
    "duration": 108,
    "start_time": "2023-04-13T19:33:39.017Z"
   },
   {
    "duration": 102,
    "start_time": "2023-04-13T19:33:39.217Z"
   },
   {
    "duration": 411,
    "start_time": "2023-04-13T19:33:39.322Z"
   },
   {
    "duration": 23,
    "start_time": "2023-04-13T19:33:39.735Z"
   },
   {
    "duration": 8,
    "start_time": "2023-04-13T19:33:39.760Z"
   },
   {
    "duration": 13,
    "start_time": "2023-04-13T19:33:39.770Z"
   },
   {
    "duration": 319,
    "start_time": "2023-04-13T19:35:10.898Z"
   },
   {
    "duration": 27,
    "start_time": "2023-04-13T19:35:11.220Z"
   },
   {
    "duration": 42,
    "start_time": "2023-04-14T10:37:03.800Z"
   },
   {
    "duration": 1630,
    "start_time": "2023-04-14T10:37:11.439Z"
   },
   {
    "duration": 13,
    "start_time": "2023-04-14T10:37:13.071Z"
   },
   {
    "duration": 4,
    "start_time": "2023-04-14T10:37:13.086Z"
   },
   {
    "duration": 41,
    "start_time": "2023-04-14T10:37:13.092Z"
   },
   {
    "duration": 11,
    "start_time": "2023-04-14T10:37:13.135Z"
   },
   {
    "duration": 23,
    "start_time": "2023-04-14T10:37:13.147Z"
   },
   {
    "duration": 7,
    "start_time": "2023-04-14T10:37:14.693Z"
   },
   {
    "duration": 68,
    "start_time": "2023-04-14T10:37:21.042Z"
   },
   {
    "duration": 16,
    "start_time": "2023-04-14T10:37:32.379Z"
   },
   {
    "duration": 37,
    "start_time": "2023-04-14T10:37:41.283Z"
   },
   {
    "duration": 11,
    "start_time": "2023-04-14T10:37:41.930Z"
   },
   {
    "duration": 3,
    "start_time": "2023-04-14T10:37:42.297Z"
   },
   {
    "duration": 36,
    "start_time": "2023-04-14T10:37:42.471Z"
   },
   {
    "duration": 15,
    "start_time": "2023-04-14T10:37:42.631Z"
   },
   {
    "duration": 10,
    "start_time": "2023-04-14T10:37:42.796Z"
   },
   {
    "duration": 6,
    "start_time": "2023-04-14T10:37:43.144Z"
   },
   {
    "duration": 6,
    "start_time": "2023-04-14T10:37:43.596Z"
   },
   {
    "duration": 12,
    "start_time": "2023-04-14T10:37:48.570Z"
   },
   {
    "duration": 34,
    "start_time": "2023-04-14T10:37:54.013Z"
   },
   {
    "duration": 10,
    "start_time": "2023-04-14T10:37:54.298Z"
   },
   {
    "duration": 3,
    "start_time": "2023-04-14T10:37:54.438Z"
   },
   {
    "duration": 36,
    "start_time": "2023-04-14T10:37:54.586Z"
   },
   {
    "duration": 11,
    "start_time": "2023-04-14T10:37:54.726Z"
   },
   {
    "duration": 9,
    "start_time": "2023-04-14T10:37:55.191Z"
   },
   {
    "duration": 6,
    "start_time": "2023-04-14T10:37:55.347Z"
   },
   {
    "duration": 11,
    "start_time": "2023-04-14T10:37:56.126Z"
   },
   {
    "duration": 13,
    "start_time": "2023-04-14T10:38:09.739Z"
   },
   {
    "duration": 35,
    "start_time": "2023-04-14T10:38:14.215Z"
   },
   {
    "duration": 12,
    "start_time": "2023-04-14T10:38:14.702Z"
   },
   {
    "duration": 3,
    "start_time": "2023-04-14T10:38:14.845Z"
   },
   {
    "duration": 36,
    "start_time": "2023-04-14T10:38:15.010Z"
   },
   {
    "duration": 11,
    "start_time": "2023-04-14T10:38:15.146Z"
   },
   {
    "duration": 10,
    "start_time": "2023-04-14T10:38:15.381Z"
   },
   {
    "duration": 6,
    "start_time": "2023-04-14T10:38:15.537Z"
   },
   {
    "duration": 5,
    "start_time": "2023-04-14T10:38:18.451Z"
   },
   {
    "duration": 191,
    "start_time": "2023-04-14T10:38:25.892Z"
   },
   {
    "duration": 16,
    "start_time": "2023-04-14T10:40:52.678Z"
   },
   {
    "duration": 36,
    "start_time": "2023-04-14T10:41:08.983Z"
   },
   {
    "duration": 12,
    "start_time": "2023-04-14T10:41:09.021Z"
   },
   {
    "duration": 18,
    "start_time": "2023-04-14T10:41:09.034Z"
   },
   {
    "duration": 49,
    "start_time": "2023-04-14T10:41:09.054Z"
   },
   {
    "duration": 11,
    "start_time": "2023-04-14T10:41:09.105Z"
   },
   {
    "duration": 14,
    "start_time": "2023-04-14T10:41:09.117Z"
   },
   {
    "duration": 14,
    "start_time": "2023-04-14T10:41:09.133Z"
   },
   {
    "duration": 10,
    "start_time": "2023-04-14T10:41:17.880Z"
   },
   {
    "duration": 14,
    "start_time": "2023-04-14T10:42:34.677Z"
   },
   {
    "duration": 34,
    "start_time": "2023-04-14T10:42:40.481Z"
   },
   {
    "duration": 10,
    "start_time": "2023-04-14T10:42:40.517Z"
   },
   {
    "duration": 19,
    "start_time": "2023-04-14T10:42:40.529Z"
   },
   {
    "duration": 46,
    "start_time": "2023-04-14T10:42:40.550Z"
   },
   {
    "duration": 10,
    "start_time": "2023-04-14T10:42:40.598Z"
   },
   {
    "duration": 24,
    "start_time": "2023-04-14T10:42:40.610Z"
   },
   {
    "duration": 6,
    "start_time": "2023-04-14T10:42:40.636Z"
   },
   {
    "duration": 13,
    "start_time": "2023-04-14T10:42:42.257Z"
   },
   {
    "duration": 6,
    "start_time": "2023-04-14T10:42:51.440Z"
   },
   {
    "duration": 13,
    "start_time": "2023-04-14T10:43:09.295Z"
   },
   {
    "duration": 33,
    "start_time": "2023-04-14T10:43:13.385Z"
   },
   {
    "duration": 10,
    "start_time": "2023-04-14T10:43:13.420Z"
   },
   {
    "duration": 9,
    "start_time": "2023-04-14T10:43:13.431Z"
   },
   {
    "duration": 36,
    "start_time": "2023-04-14T10:43:13.442Z"
   },
   {
    "duration": 10,
    "start_time": "2023-04-14T10:43:13.480Z"
   },
   {
    "duration": 43,
    "start_time": "2023-04-14T10:43:13.491Z"
   },
   {
    "duration": 6,
    "start_time": "2023-04-14T10:43:13.536Z"
   },
   {
    "duration": 5,
    "start_time": "2023-04-14T10:43:14.926Z"
   },
   {
    "duration": 14,
    "start_time": "2023-04-14T10:44:06.584Z"
   },
   {
    "duration": 13,
    "start_time": "2023-04-14T10:44:09.684Z"
   },
   {
    "duration": 42,
    "start_time": "2023-04-14T10:44:12.430Z"
   },
   {
    "duration": 15,
    "start_time": "2023-04-14T10:44:12.474Z"
   },
   {
    "duration": 5,
    "start_time": "2023-04-14T10:44:12.491Z"
   },
   {
    "duration": 56,
    "start_time": "2023-04-14T10:44:12.497Z"
   },
   {
    "duration": 14,
    "start_time": "2023-04-14T10:44:12.555Z"
   },
   {
    "duration": 13,
    "start_time": "2023-04-14T10:44:12.571Z"
   },
   {
    "duration": 10,
    "start_time": "2023-04-14T10:44:12.587Z"
   },
   {
    "duration": 9,
    "start_time": "2023-04-14T10:44:13.894Z"
   },
   {
    "duration": 56,
    "start_time": "2023-04-14T10:46:47.274Z"
   },
   {
    "duration": 11,
    "start_time": "2023-04-14T11:00:14.129Z"
   },
   {
    "duration": 33,
    "start_time": "2023-04-14T11:00:20.262Z"
   },
   {
    "duration": 10,
    "start_time": "2023-04-14T11:00:20.297Z"
   },
   {
    "duration": 16,
    "start_time": "2023-04-14T11:00:20.308Z"
   },
   {
    "duration": 43,
    "start_time": "2023-04-14T11:00:20.326Z"
   },
   {
    "duration": 10,
    "start_time": "2023-04-14T11:00:20.371Z"
   },
   {
    "duration": 35,
    "start_time": "2023-04-14T11:00:20.383Z"
   },
   {
    "duration": 6,
    "start_time": "2023-04-14T11:00:20.419Z"
   },
   {
    "duration": 11,
    "start_time": "2023-04-14T11:00:20.427Z"
   },
   {
    "duration": 15,
    "start_time": "2023-04-14T11:00:20.440Z"
   },
   {
    "duration": 4,
    "start_time": "2023-04-14T11:00:20.457Z"
   },
   {
    "duration": 6,
    "start_time": "2023-04-14T11:00:20.463Z"
   },
   {
    "duration": 10,
    "start_time": "2023-04-14T11:00:20.471Z"
   },
   {
    "duration": 28,
    "start_time": "2023-04-14T11:00:20.482Z"
   },
   {
    "duration": 30,
    "start_time": "2023-04-14T11:00:20.513Z"
   },
   {
    "duration": 22,
    "start_time": "2023-04-14T11:00:20.545Z"
   },
   {
    "duration": 15,
    "start_time": "2023-04-14T11:00:20.568Z"
   },
   {
    "duration": 34,
    "start_time": "2023-04-14T11:00:20.584Z"
   },
   {
    "duration": 16,
    "start_time": "2023-04-14T11:00:20.619Z"
   },
   {
    "duration": 14,
    "start_time": "2023-04-14T11:00:20.637Z"
   },
   {
    "duration": 9,
    "start_time": "2023-04-14T11:00:20.653Z"
   },
   {
    "duration": 274,
    "start_time": "2023-04-14T11:00:20.663Z"
   },
   {
    "duration": 7,
    "start_time": "2023-04-14T11:00:20.938Z"
   },
   {
    "duration": 216,
    "start_time": "2023-04-14T11:00:20.946Z"
   },
   {
    "duration": 3,
    "start_time": "2023-04-14T11:00:21.164Z"
   },
   {
    "duration": 10,
    "start_time": "2023-04-14T11:00:21.168Z"
   },
   {
    "duration": 758,
    "start_time": "2023-04-14T11:00:21.179Z"
   },
   {
    "duration": 787,
    "start_time": "2023-04-14T11:00:21.939Z"
   },
   {
    "duration": 1295,
    "start_time": "2023-04-14T11:03:13.247Z"
   },
   {
    "duration": 12,
    "start_time": "2023-04-14T11:03:14.544Z"
   },
   {
    "duration": 6,
    "start_time": "2023-04-14T11:03:14.558Z"
   },
   {
    "duration": 39,
    "start_time": "2023-04-14T11:03:14.566Z"
   },
   {
    "duration": 31,
    "start_time": "2023-04-14T11:03:14.607Z"
   },
   {
    "duration": 12,
    "start_time": "2023-04-14T11:03:14.640Z"
   },
   {
    "duration": 7,
    "start_time": "2023-04-14T11:03:14.653Z"
   },
   {
    "duration": 7,
    "start_time": "2023-04-14T11:03:14.661Z"
   },
   {
    "duration": 7,
    "start_time": "2023-04-14T11:03:14.670Z"
   },
   {
    "duration": 5,
    "start_time": "2023-04-14T11:03:14.679Z"
   },
   {
    "duration": 6,
    "start_time": "2023-04-14T11:03:14.685Z"
   },
   {
    "duration": 13,
    "start_time": "2023-04-14T11:03:14.692Z"
   },
   {
    "duration": 33,
    "start_time": "2023-04-14T11:03:14.706Z"
   },
   {
    "duration": 7,
    "start_time": "2023-04-14T11:03:14.742Z"
   },
   {
    "duration": 23,
    "start_time": "2023-04-14T11:03:14.750Z"
   },
   {
    "duration": 9,
    "start_time": "2023-04-14T11:03:14.774Z"
   },
   {
    "duration": 21,
    "start_time": "2023-04-14T11:03:14.784Z"
   },
   {
    "duration": 15,
    "start_time": "2023-04-14T11:03:14.807Z"
   },
   {
    "duration": 16,
    "start_time": "2023-04-14T11:03:14.836Z"
   },
   {
    "duration": 4,
    "start_time": "2023-04-14T11:03:14.854Z"
   },
   {
    "duration": 225,
    "start_time": "2023-04-14T11:03:14.859Z"
   },
   {
    "duration": 53,
    "start_time": "2023-04-14T11:03:15.086Z"
   },
   {
    "duration": 198,
    "start_time": "2023-04-14T11:03:15.140Z"
   },
   {
    "duration": 3,
    "start_time": "2023-04-14T11:03:15.340Z"
   },
   {
    "duration": 8,
    "start_time": "2023-04-14T11:03:15.345Z"
   },
   {
    "duration": 685,
    "start_time": "2023-04-14T11:03:15.354Z"
   },
   {
    "duration": 561,
    "start_time": "2023-04-14T11:03:18.415Z"
   },
   {
    "duration": 157525,
    "start_time": "2023-04-14T11:04:17.889Z"
   },
   {
    "duration": 97,
    "start_time": "2023-04-14T11:10:06.190Z"
   },
   {
    "duration": 267,
    "start_time": "2023-04-14T11:13:45.433Z"
   },
   {
    "duration": 25,
    "start_time": "2023-04-14T11:14:30.653Z"
   },
   {
    "duration": 101,
    "start_time": "2023-04-14T11:18:39.821Z"
   },
   {
    "duration": 34,
    "start_time": "2023-04-14T11:18:43.689Z"
   },
   {
    "duration": 11,
    "start_time": "2023-04-14T11:18:43.724Z"
   },
   {
    "duration": 7,
    "start_time": "2023-04-14T11:18:43.736Z"
   },
   {
    "duration": 54,
    "start_time": "2023-04-14T11:18:43.744Z"
   },
   {
    "duration": 11,
    "start_time": "2023-04-14T11:18:43.799Z"
   },
   {
    "duration": 21,
    "start_time": "2023-04-14T11:18:43.812Z"
   },
   {
    "duration": 9,
    "start_time": "2023-04-14T11:18:43.834Z"
   },
   {
    "duration": 16,
    "start_time": "2023-04-14T11:18:43.844Z"
   },
   {
    "duration": 21,
    "start_time": "2023-04-14T11:18:43.862Z"
   },
   {
    "duration": 14,
    "start_time": "2023-04-14T11:18:43.884Z"
   },
   {
    "duration": 10,
    "start_time": "2023-04-14T11:18:43.899Z"
   },
   {
    "duration": 24,
    "start_time": "2023-04-14T11:18:43.911Z"
   },
   {
    "duration": 9,
    "start_time": "2023-04-14T11:18:43.937Z"
   },
   {
    "duration": 21,
    "start_time": "2023-04-14T11:18:43.949Z"
   },
   {
    "duration": 5,
    "start_time": "2023-04-14T11:18:43.971Z"
   },
   {
    "duration": 14,
    "start_time": "2023-04-14T11:18:43.977Z"
   },
   {
    "duration": 18,
    "start_time": "2023-04-14T11:18:43.992Z"
   },
   {
    "duration": 16,
    "start_time": "2023-04-14T11:18:44.012Z"
   },
   {
    "duration": 20,
    "start_time": "2023-04-14T11:18:44.029Z"
   },
   {
    "duration": 4,
    "start_time": "2023-04-14T11:18:44.051Z"
   },
   {
    "duration": 227,
    "start_time": "2023-04-14T11:18:44.056Z"
   },
   {
    "duration": 58,
    "start_time": "2023-04-14T11:18:44.284Z"
   },
   {
    "duration": 192,
    "start_time": "2023-04-14T11:18:44.344Z"
   },
   {
    "duration": 3,
    "start_time": "2023-04-14T11:18:44.538Z"
   },
   {
    "duration": 12,
    "start_time": "2023-04-14T11:18:44.542Z"
   },
   {
    "duration": 631,
    "start_time": "2023-04-14T11:18:44.555Z"
   },
   {
    "duration": 159385,
    "start_time": "2023-04-14T11:18:45.237Z"
   },
   {
    "duration": 76,
    "start_time": "2023-04-14T11:21:24.623Z"
   },
   {
    "duration": 8,
    "start_time": "2023-04-14T11:21:24.700Z"
   },
   {
    "duration": 16,
    "start_time": "2023-04-14T11:21:24.709Z"
   },
   {
    "duration": 285,
    "start_time": "2023-04-14T11:21:24.727Z"
   },
   {
    "duration": 27,
    "start_time": "2023-04-14T11:21:25.013Z"
   },
   {
    "duration": 7,
    "start_time": "2023-04-14T11:21:25.041Z"
   },
   {
    "duration": 7,
    "start_time": "2023-04-14T11:21:25.049Z"
   },
   {
    "duration": 18,
    "start_time": "2023-04-14T11:21:25.057Z"
   },
   {
    "duration": 8,
    "start_time": "2023-04-14T11:21:25.138Z"
   },
   {
    "duration": 16,
    "start_time": "2023-04-14T11:21:25.237Z"
   },
   {
    "duration": 82,
    "start_time": "2023-04-14T11:21:25.254Z"
   },
   {
    "duration": 205,
    "start_time": "2023-04-14T11:21:25.339Z"
   },
   {
    "duration": 292,
    "start_time": "2023-04-14T11:21:25.546Z"
   },
   {
    "duration": 4,
    "start_time": "2023-04-14T11:21:25.842Z"
   },
   {
    "duration": 10,
    "start_time": "2023-04-14T11:21:25.847Z"
   },
   {
    "duration": 9,
    "start_time": "2023-04-14T11:21:25.859Z"
   },
   {
    "duration": 11,
    "start_time": "2023-04-14T11:21:25.870Z"
   },
   {
    "duration": 20,
    "start_time": "2023-04-14T11:21:25.883Z"
   },
   {
    "duration": 11,
    "start_time": "2023-04-14T11:21:25.904Z"
   },
   {
    "duration": 21,
    "start_time": "2023-04-14T11:21:25.916Z"
   },
   {
    "duration": 106,
    "start_time": "2023-04-14T11:21:25.938Z"
   },
   {
    "duration": 214,
    "start_time": "2023-04-14T11:21:26.045Z"
   },
   {
    "duration": 477,
    "start_time": "2023-04-14T11:21:26.260Z"
   },
   {
    "duration": 129,
    "start_time": "2023-04-14T11:21:26.741Z"
   },
   {
    "duration": 7,
    "start_time": "2023-04-14T11:21:26.872Z"
   },
   {
    "duration": 119,
    "start_time": "2023-04-14T11:21:26.881Z"
   },
   {
    "duration": 12,
    "start_time": "2023-04-14T11:21:27.002Z"
   },
   {
    "duration": 37,
    "start_time": "2023-04-14T11:21:27.015Z"
   },
   {
    "duration": 87,
    "start_time": "2023-04-14T11:21:27.054Z"
   },
   {
    "duration": 413,
    "start_time": "2023-04-14T11:21:27.143Z"
   },
   {
    "duration": 20,
    "start_time": "2023-04-14T11:21:27.558Z"
   },
   {
    "duration": 15,
    "start_time": "2023-04-14T11:21:27.579Z"
   },
   {
    "duration": 0,
    "start_time": "2023-04-14T11:21:27.595Z"
   },
   {
    "duration": 95,
    "start_time": "2023-04-14T11:27:23.257Z"
   },
   {
    "duration": 95,
    "start_time": "2023-04-14T11:27:46.894Z"
   },
   {
    "duration": 51,
    "start_time": "2023-04-14T11:28:44.255Z"
   },
   {
    "duration": 12,
    "start_time": "2023-04-14T11:28:57.828Z"
   },
   {
    "duration": 17,
    "start_time": "2023-04-14T11:29:18.922Z"
   },
   {
    "duration": 14,
    "start_time": "2023-04-14T11:29:44.851Z"
   },
   {
    "duration": 15,
    "start_time": "2023-04-14T11:29:58.188Z"
   },
   {
    "duration": 121,
    "start_time": "2023-04-14T11:30:38.983Z"
   },
   {
    "duration": 13,
    "start_time": "2023-04-14T11:30:40.421Z"
   },
   {
    "duration": 14,
    "start_time": "2023-04-14T11:30:40.843Z"
   },
   {
    "duration": 15,
    "start_time": "2023-04-14T11:30:41.321Z"
   },
   {
    "duration": 93,
    "start_time": "2023-04-14T11:30:50.033Z"
   },
   {
    "duration": 6,
    "start_time": "2023-04-14T11:32:19.192Z"
   },
   {
    "duration": 7,
    "start_time": "2023-04-14T11:32:25.587Z"
   },
   {
    "duration": 312,
    "start_time": "2023-04-14T11:34:23.848Z"
   },
   {
    "duration": 145,
    "start_time": "2023-04-14T11:45:32.459Z"
   },
   {
    "duration": 147,
    "start_time": "2023-04-14T11:45:52.341Z"
   },
   {
    "duration": 117,
    "start_time": "2023-04-14T11:47:46.547Z"
   },
   {
    "duration": 122,
    "start_time": "2023-04-14T11:48:23.824Z"
   },
   {
    "duration": 30,
    "start_time": "2023-04-14T11:50:00.651Z"
   },
   {
    "duration": 57,
    "start_time": "2023-04-14T11:54:23.520Z"
   },
   {
    "duration": 9,
    "start_time": "2023-04-14T12:01:00.440Z"
   },
   {
    "duration": 11,
    "start_time": "2023-04-14T12:05:53.583Z"
   },
   {
    "duration": 9,
    "start_time": "2023-04-14T12:06:30.425Z"
   },
   {
    "duration": 117,
    "start_time": "2023-04-14T12:07:34.320Z"
   },
   {
    "duration": 119,
    "start_time": "2023-04-14T12:07:40.017Z"
   },
   {
    "duration": 8,
    "start_time": "2023-04-14T12:09:10.067Z"
   },
   {
    "duration": 10,
    "start_time": "2023-04-14T12:11:08.778Z"
   },
   {
    "duration": 15,
    "start_time": "2023-04-14T12:13:00.613Z"
   },
   {
    "duration": 10,
    "start_time": "2023-04-14T12:17:02.441Z"
   },
   {
    "duration": 98,
    "start_time": "2023-04-14T12:17:02.975Z"
   },
   {
    "duration": 9,
    "start_time": "2023-04-14T12:18:23.963Z"
   },
   {
    "duration": 13,
    "start_time": "2023-04-14T12:19:47.340Z"
   },
   {
    "duration": 8,
    "start_time": "2023-04-14T12:24:08.113Z"
   },
   {
    "duration": 20,
    "start_time": "2023-04-14T12:24:15.240Z"
   },
   {
    "duration": 12,
    "start_time": "2023-04-14T12:25:04.956Z"
   },
   {
    "duration": 37,
    "start_time": "2023-04-14T12:25:17.024Z"
   },
   {
    "duration": 85,
    "start_time": "2023-04-14T12:25:36.070Z"
   },
   {
    "duration": 43,
    "start_time": "2023-04-14T12:26:12.172Z"
   },
   {
    "duration": 28,
    "start_time": "2023-04-14T12:26:16.255Z"
   },
   {
    "duration": 105,
    "start_time": "2023-04-14T12:27:04.832Z"
   },
   {
    "duration": 14,
    "start_time": "2023-04-14T12:27:39.764Z"
   },
   {
    "duration": 85,
    "start_time": "2023-04-14T12:29:31.159Z"
   },
   {
    "duration": 8,
    "start_time": "2023-04-14T12:30:52.338Z"
   },
   {
    "duration": 11,
    "start_time": "2023-04-14T12:31:59.417Z"
   },
   {
    "duration": 11,
    "start_time": "2023-04-14T12:32:00.521Z"
   },
   {
    "duration": 125,
    "start_time": "2023-04-14T12:32:02.537Z"
   },
   {
    "duration": 27,
    "start_time": "2023-04-14T12:32:03.310Z"
   },
   {
    "duration": 91,
    "start_time": "2023-04-14T12:32:03.819Z"
   },
   {
    "duration": 11,
    "start_time": "2023-04-14T12:32:04.055Z"
   },
   {
    "duration": 24,
    "start_time": "2023-04-14T12:32:04.261Z"
   },
   {
    "duration": 8,
    "start_time": "2023-04-14T12:32:05.888Z"
   },
   {
    "duration": 61,
    "start_time": "2023-04-14T12:34:06.350Z"
   },
   {
    "duration": 33,
    "start_time": "2023-04-14T12:38:16.976Z"
   },
   {
    "duration": 57,
    "start_time": "2023-04-14T12:39:19.651Z"
   },
   {
    "duration": 53,
    "start_time": "2023-04-15T10:38:26.909Z"
   },
   {
    "duration": 1719,
    "start_time": "2023-04-15T10:38:29.806Z"
   },
   {
    "duration": 177,
    "start_time": "2023-04-15T10:38:31.527Z"
   },
   {
    "duration": 15,
    "start_time": "2023-04-15T10:38:31.705Z"
   },
   {
    "duration": 9,
    "start_time": "2023-04-15T10:38:31.722Z"
   },
   {
    "duration": 64,
    "start_time": "2023-04-15T10:38:31.733Z"
   },
   {
    "duration": 12,
    "start_time": "2023-04-15T10:38:31.798Z"
   },
   {
    "duration": 17,
    "start_time": "2023-04-15T10:38:31.811Z"
   },
   {
    "duration": 13,
    "start_time": "2023-04-15T10:38:31.830Z"
   },
   {
    "duration": 30,
    "start_time": "2023-04-15T10:38:31.844Z"
   },
   {
    "duration": 15,
    "start_time": "2023-04-15T10:38:31.877Z"
   },
   {
    "duration": 8,
    "start_time": "2023-04-15T10:38:31.894Z"
   },
   {
    "duration": 10,
    "start_time": "2023-04-15T10:38:31.903Z"
   },
   {
    "duration": 15,
    "start_time": "2023-04-15T10:38:31.915Z"
   },
   {
    "duration": 13,
    "start_time": "2023-04-15T10:38:31.931Z"
   },
   {
    "duration": 18,
    "start_time": "2023-04-15T10:38:31.946Z"
   },
   {
    "duration": 6,
    "start_time": "2023-04-15T10:38:31.965Z"
   },
   {
    "duration": 13,
    "start_time": "2023-04-15T10:38:31.973Z"
   },
   {
    "duration": 24,
    "start_time": "2023-04-15T10:38:31.988Z"
   },
   {
    "duration": 45,
    "start_time": "2023-04-15T10:38:32.013Z"
   },
   {
    "duration": 49,
    "start_time": "2023-04-15T10:38:32.059Z"
   },
   {
    "duration": 7,
    "start_time": "2023-04-15T10:38:32.110Z"
   },
   {
    "duration": 259,
    "start_time": "2023-04-15T10:38:32.119Z"
   },
   {
    "duration": 13,
    "start_time": "2023-04-15T10:38:32.440Z"
   },
   {
    "duration": 254,
    "start_time": "2023-04-15T10:38:32.454Z"
   },
   {
    "duration": 3,
    "start_time": "2023-04-15T10:38:32.710Z"
   },
   {
    "duration": 15,
    "start_time": "2023-04-15T10:38:32.716Z"
   },
   {
    "duration": 809,
    "start_time": "2023-04-15T10:38:32.734Z"
   },
   {
    "duration": 180119,
    "start_time": "2023-04-15T10:38:33.551Z"
   },
   {
    "duration": 123,
    "start_time": "2023-04-15T10:41:33.672Z"
   },
   {
    "duration": 8,
    "start_time": "2023-04-15T10:41:33.797Z"
   },
   {
    "duration": 12,
    "start_time": "2023-04-15T10:41:33.806Z"
   },
   {
    "duration": 309,
    "start_time": "2023-04-15T10:41:33.834Z"
   },
   {
    "duration": 27,
    "start_time": "2023-04-15T10:41:34.146Z"
   },
   {
    "duration": 8,
    "start_time": "2023-04-15T10:41:34.174Z"
   },
   {
    "duration": 19,
    "start_time": "2023-04-15T10:41:34.183Z"
   },
   {
    "duration": 45,
    "start_time": "2023-04-15T10:41:34.203Z"
   },
   {
    "duration": 93,
    "start_time": "2023-04-15T10:41:34.252Z"
   },
   {
    "duration": 90,
    "start_time": "2023-04-15T10:41:34.349Z"
   },
   {
    "duration": 96,
    "start_time": "2023-04-15T10:41:34.440Z"
   },
   {
    "duration": 148,
    "start_time": "2023-04-15T10:41:34.538Z"
   },
   {
    "duration": 332,
    "start_time": "2023-04-15T10:41:34.688Z"
   },
   {
    "duration": 234,
    "start_time": "2023-04-15T10:41:35.022Z"
   },
   {
    "duration": 145,
    "start_time": "2023-04-15T10:41:35.258Z"
   },
   {
    "duration": 5,
    "start_time": "2023-04-15T10:41:35.404Z"
   },
   {
    "duration": 22,
    "start_time": "2023-04-15T10:41:35.411Z"
   },
   {
    "duration": 54,
    "start_time": "2023-04-15T10:41:35.436Z"
   },
   {
    "duration": 19,
    "start_time": "2023-04-15T10:41:35.492Z"
   },
   {
    "duration": 33,
    "start_time": "2023-04-15T10:41:35.513Z"
   },
   {
    "duration": 29,
    "start_time": "2023-04-15T10:41:35.548Z"
   },
   {
    "duration": 109,
    "start_time": "2023-04-15T10:41:35.579Z"
   },
   {
    "duration": 259,
    "start_time": "2023-04-15T10:41:35.689Z"
   },
   {
    "duration": 492,
    "start_time": "2023-04-15T10:41:35.953Z"
   },
   {
    "duration": 220,
    "start_time": "2023-04-15T10:41:36.448Z"
   },
   {
    "duration": 10,
    "start_time": "2023-04-15T10:41:36.670Z"
   },
   {
    "duration": 125,
    "start_time": "2023-04-15T10:41:36.682Z"
   },
   {
    "duration": 37,
    "start_time": "2023-04-15T10:41:36.810Z"
   },
   {
    "duration": 31,
    "start_time": "2023-04-15T10:41:36.848Z"
   },
   {
    "duration": 157,
    "start_time": "2023-04-15T10:41:36.881Z"
   },
   {
    "duration": 251,
    "start_time": "2023-04-15T10:41:37.052Z"
   },
   {
    "duration": 169,
    "start_time": "2023-04-15T10:41:37.343Z"
   },
   {
    "duration": 0,
    "start_time": "2023-04-15T10:41:37.514Z"
   },
   {
    "duration": 0,
    "start_time": "2023-04-15T10:41:37.515Z"
   },
   {
    "duration": 0,
    "start_time": "2023-04-15T10:41:37.516Z"
   },
   {
    "duration": 0,
    "start_time": "2023-04-15T10:41:37.517Z"
   },
   {
    "duration": 0,
    "start_time": "2023-04-15T10:41:37.518Z"
   },
   {
    "duration": 0,
    "start_time": "2023-04-15T10:41:37.519Z"
   },
   {
    "duration": 0,
    "start_time": "2023-04-15T10:41:37.539Z"
   },
   {
    "duration": 0,
    "start_time": "2023-04-15T10:41:37.540Z"
   },
   {
    "duration": 0,
    "start_time": "2023-04-15T10:41:37.541Z"
   },
   {
    "duration": 0,
    "start_time": "2023-04-15T10:41:37.542Z"
   },
   {
    "duration": 0,
    "start_time": "2023-04-15T10:41:37.543Z"
   },
   {
    "duration": 17,
    "start_time": "2023-04-15T10:42:13.648Z"
   },
   {
    "duration": 188,
    "start_time": "2023-04-15T10:42:18.862Z"
   },
   {
    "duration": 14,
    "start_time": "2023-04-15T10:42:50.717Z"
   },
   {
    "duration": 12,
    "start_time": "2023-04-15T10:43:13.497Z"
   },
   {
    "duration": 11,
    "start_time": "2023-04-15T10:44:14.260Z"
   },
   {
    "duration": 96,
    "start_time": "2023-04-15T10:44:14.273Z"
   },
   {
    "duration": 29,
    "start_time": "2023-04-15T10:44:14.371Z"
   },
   {
    "duration": 112,
    "start_time": "2023-04-15T10:44:14.401Z"
   },
   {
    "duration": 22,
    "start_time": "2023-04-15T10:44:14.515Z"
   },
   {
    "duration": 42,
    "start_time": "2023-04-15T10:44:14.544Z"
   },
   {
    "duration": 196,
    "start_time": "2023-04-15T10:44:14.642Z"
   },
   {
    "duration": 174310,
    "start_time": "2023-04-15T10:44:14.841Z"
   },
   {
    "duration": 12,
    "start_time": "2023-04-15T10:47:09.152Z"
   },
   {
    "duration": 8,
    "start_time": "2023-04-15T10:47:09.165Z"
   },
   {
    "duration": 17,
    "start_time": "2023-04-15T10:47:09.174Z"
   },
   {
    "duration": 175185,
    "start_time": "2023-04-15T10:48:45.866Z"
   },
   {
    "duration": 174789,
    "start_time": "2023-04-15T10:54:10.296Z"
   },
   {
    "duration": 178106,
    "start_time": "2023-04-15T10:57:30.644Z"
   },
   {
    "duration": 25,
    "start_time": "2023-04-15T11:02:14.887Z"
   },
   {
    "duration": 183559,
    "start_time": "2023-04-15T11:08:44.416Z"
   },
   {
    "duration": 180221,
    "start_time": "2023-04-15T11:11:59.330Z"
   },
   {
    "duration": 14,
    "start_time": "2023-04-15T11:15:33.205Z"
   },
   {
    "duration": 20,
    "start_time": "2023-04-15T11:15:34.325Z"
   },
   {
    "duration": 15,
    "start_time": "2023-04-15T11:15:56.129Z"
   },
   {
    "duration": 20,
    "start_time": "2023-04-15T11:16:08.226Z"
   },
   {
    "duration": 14,
    "start_time": "2023-04-15T11:16:11.852Z"
   },
   {
    "duration": 6,
    "start_time": "2023-04-15T11:16:12.685Z"
   },
   {
    "duration": 14,
    "start_time": "2023-04-15T11:16:26.547Z"
   },
   {
    "duration": 19,
    "start_time": "2023-04-15T11:16:50.774Z"
   },
   {
    "duration": 17,
    "start_time": "2023-04-15T11:17:32.385Z"
   },
   {
    "duration": 18,
    "start_time": "2023-04-15T11:17:45.260Z"
   },
   {
    "duration": 7,
    "start_time": "2023-04-15T11:17:46.098Z"
   },
   {
    "duration": 20,
    "start_time": "2023-04-15T11:17:48.331Z"
   },
   {
    "duration": 18,
    "start_time": "2023-04-15T11:18:07.852Z"
   },
   {
    "duration": 14,
    "start_time": "2023-04-15T11:18:12.897Z"
   },
   {
    "duration": 23,
    "start_time": "2023-04-15T11:18:18.825Z"
   },
   {
    "duration": 13,
    "start_time": "2023-04-15T11:18:24.593Z"
   },
   {
    "duration": 21,
    "start_time": "2023-04-15T11:18:37.726Z"
   },
   {
    "duration": 15,
    "start_time": "2023-04-15T11:18:38.956Z"
   },
   {
    "duration": 13,
    "start_time": "2023-04-15T11:18:43.083Z"
   },
   {
    "duration": 15,
    "start_time": "2023-04-15T11:18:51.948Z"
   },
   {
    "duration": 16,
    "start_time": "2023-04-15T11:18:58.210Z"
   },
   {
    "duration": 6,
    "start_time": "2023-04-15T11:19:09.369Z"
   },
   {
    "duration": 14,
    "start_time": "2023-04-15T11:19:16.017Z"
   },
   {
    "duration": 7,
    "start_time": "2023-04-15T11:19:19.801Z"
   },
   {
    "duration": 83,
    "start_time": "2023-04-15T11:20:25.392Z"
   },
   {
    "duration": 23,
    "start_time": "2023-04-15T11:21:34.830Z"
   },
   {
    "duration": 7,
    "start_time": "2023-04-15T11:21:39.120Z"
   },
   {
    "duration": 19,
    "start_time": "2023-04-15T11:21:50.454Z"
   },
   {
    "duration": 7,
    "start_time": "2023-04-15T11:21:53.648Z"
   },
   {
    "duration": 326,
    "start_time": "2023-04-15T11:24:24.060Z"
   },
   {
    "duration": 315,
    "start_time": "2023-04-15T11:25:08.660Z"
   },
   {
    "duration": 325,
    "start_time": "2023-04-15T11:25:48.148Z"
   },
   {
    "duration": 175134,
    "start_time": "2023-04-15T11:26:57.589Z"
   },
   {
    "duration": 120,
    "start_time": "2023-04-15T11:30:29.258Z"
   },
   {
    "duration": 19,
    "start_time": "2023-04-15T11:31:44.739Z"
   },
   {
    "duration": 9,
    "start_time": "2023-04-15T11:31:45.330Z"
   },
   {
    "duration": 7,
    "start_time": "2023-04-15T11:31:45.511Z"
   },
   {
    "duration": 13,
    "start_time": "2023-04-15T11:33:31.956Z"
   },
   {
    "duration": 6,
    "start_time": "2023-04-15T11:33:35.248Z"
   }
  ],
  "kernelspec": {
   "display_name": "Python 3 (ipykernel)",
   "language": "python",
   "name": "python3"
  },
  "language_info": {
   "codemirror_mode": {
    "name": "ipython",
    "version": 3
   },
   "file_extension": ".py",
   "mimetype": "text/x-python",
   "name": "python",
   "nbconvert_exporter": "python",
   "pygments_lexer": "ipython3",
   "version": "3.10.9"
  },
  "toc": {
   "base_numbering": 1,
   "nav_menu": {},
   "number_sections": true,
   "sideBar": true,
   "skip_h1_title": true,
   "title_cell": "Содержание",
   "title_sidebar": "Contents",
   "toc_cell": true,
   "toc_position": {
    "height": "calc(100% - 180px)",
    "left": "10px",
    "top": "150px",
    "width": "288.188px"
   },
   "toc_section_display": true,
   "toc_window_display": true
  }
 },
 "nbformat": 4,
 "nbformat_minor": 2
}
