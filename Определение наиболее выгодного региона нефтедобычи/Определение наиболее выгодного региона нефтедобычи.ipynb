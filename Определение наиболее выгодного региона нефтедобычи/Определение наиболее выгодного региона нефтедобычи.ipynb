{
 "cells": [
  {
   "cell_type": "markdown",
   "metadata": {},
   "source": [
    "# Выбор локации для скважины"
   ]
  },
  {
   "cell_type": "markdown",
   "metadata": {},
   "source": [
    "Допустим, вы работаете в добывающей компании «ГлавРосГосНефть». Нужно решить, где бурить новую скважину.\n",
    "\n",
    "Вам предоставлены пробы нефти в трёх регионах: в каждом 10 000 месторождений, где измерили качество нефти и объём её запасов. Постройте модель машинного обучения, которая поможет определить регион, где добыча принесёт наибольшую прибыль. Проанализируйте возможную прибыль и риски техникой *Bootstrap.*\n",
    "\n",
    "Шаги для выбора локации:\n",
    "\n",
    "- В избранном регионе ищут месторождения, для каждого определяют значения признаков;\n",
    "- Строят модель и оценивают объём запасов;\n",
    "- Выбирают месторождения с самым высокими оценками значений. Количество месторождений зависит от бюджета компании и стоимости разработки одной скважины;\n",
    "- Прибыль равна суммарной прибыли отобранных месторождений."
   ]
  },
  {
   "cell_type": "markdown",
   "metadata": {},
   "source": [
    "## Загрузка и подготовка данных"
   ]
  },
  {
   "cell_type": "markdown",
   "metadata": {},
   "source": [
    "<div class=\"alert alert-block alert-warning\"> Здравствуйте! Задача построить модель машинного обучения, которая поможет определить регион, где добыча принесёт наибольшую прибыль. Необходимые шаги прописаны в инструкции, пойдем по порядку. Сначала ознакомимся с данными, проверим их и дальше приступлю к модели. \n",
    "    Сначала подгружаю необходимые библиотеки и загружаю данные для ознакомления."
   ]
  },
  {
   "cell_type": "code",
   "execution_count": 98,
   "metadata": {},
   "outputs": [],
   "source": [
    "import pandas as pd\n",
    "import matplotlib.pyplot as plt\n",
    "import numpy as np\n",
    "from sklearn.linear_model import LinearRegression\n",
    "from sklearn.model_selection import train_test_split\n",
    "from sklearn.metrics import mean_squared_error\n",
    "\n",
    "import warnings\n",
    "warnings.filterwarnings('ignore')\n"
   ]
  },
  {
   "cell_type": "code",
   "execution_count": 99,
   "metadata": {},
   "outputs": [],
   "source": [
    "try: \n",
    "    df1 = pd.read_csv('/datasets/geo_data_0.csv')\n",
    "\n",
    "    df2 = pd.read_csv('/datasets/geo_data_1.csv')\n",
    "\n",
    "    df3 = pd.read_csv('/datasets/geo_data_2.csv')\n",
    "except: \n",
    "    df1 = pd.read_csv(r\"C:\\Users\\QWE\\Documents\\Проекты для GitHub\\8\\geo_data_0.csv\")\n",
    "\n",
    "    df2 = pd.read_csv(r\"C:\\Users\\QWE\\Documents\\Проекты для GitHub\\8\\geo_data_1.csv\")\n",
    "\n",
    "    df3 = pd.read_csv(r\"C:\\Users\\QWE\\Documents\\Проекты для GitHub\\8\\geo_data_2.csv\")"
   ]
  },
  {
   "cell_type": "code",
   "execution_count": 100,
   "metadata": {
    "scrolled": false
   },
   "outputs": [
    {
     "data": {
      "text/html": [
       "<div>\n",
       "<style scoped>\n",
       "    .dataframe tbody tr th:only-of-type {\n",
       "        vertical-align: middle;\n",
       "    }\n",
       "\n",
       "    .dataframe tbody tr th {\n",
       "        vertical-align: top;\n",
       "    }\n",
       "\n",
       "    .dataframe thead th {\n",
       "        text-align: right;\n",
       "    }\n",
       "</style>\n",
       "<table border=\"1\" class=\"dataframe\">\n",
       "  <thead>\n",
       "    <tr style=\"text-align: right;\">\n",
       "      <th></th>\n",
       "      <th>id</th>\n",
       "      <th>f0</th>\n",
       "      <th>f1</th>\n",
       "      <th>f2</th>\n",
       "      <th>product</th>\n",
       "    </tr>\n",
       "  </thead>\n",
       "  <tbody>\n",
       "    <tr>\n",
       "      <th>0</th>\n",
       "      <td>txEyH</td>\n",
       "      <td>0.705745</td>\n",
       "      <td>-0.497823</td>\n",
       "      <td>1.221170</td>\n",
       "      <td>105.280062</td>\n",
       "    </tr>\n",
       "    <tr>\n",
       "      <th>1</th>\n",
       "      <td>2acmU</td>\n",
       "      <td>1.334711</td>\n",
       "      <td>-0.340164</td>\n",
       "      <td>4.365080</td>\n",
       "      <td>73.037750</td>\n",
       "    </tr>\n",
       "    <tr>\n",
       "      <th>2</th>\n",
       "      <td>409Wp</td>\n",
       "      <td>1.022732</td>\n",
       "      <td>0.151990</td>\n",
       "      <td>1.419926</td>\n",
       "      <td>85.265647</td>\n",
       "    </tr>\n",
       "    <tr>\n",
       "      <th>3</th>\n",
       "      <td>iJLyR</td>\n",
       "      <td>-0.032172</td>\n",
       "      <td>0.139033</td>\n",
       "      <td>2.978566</td>\n",
       "      <td>168.620776</td>\n",
       "    </tr>\n",
       "    <tr>\n",
       "      <th>4</th>\n",
       "      <td>Xdl7t</td>\n",
       "      <td>1.988431</td>\n",
       "      <td>0.155413</td>\n",
       "      <td>4.751769</td>\n",
       "      <td>154.036647</td>\n",
       "    </tr>\n",
       "  </tbody>\n",
       "</table>\n",
       "</div>"
      ],
      "text/plain": [
       "      id        f0        f1        f2     product\n",
       "0  txEyH  0.705745 -0.497823  1.221170  105.280062\n",
       "1  2acmU  1.334711 -0.340164  4.365080   73.037750\n",
       "2  409Wp  1.022732  0.151990  1.419926   85.265647\n",
       "3  iJLyR -0.032172  0.139033  2.978566  168.620776\n",
       "4  Xdl7t  1.988431  0.155413  4.751769  154.036647"
      ]
     },
     "execution_count": 100,
     "metadata": {},
     "output_type": "execute_result"
    }
   ],
   "source": [
    "df1.head(5)"
   ]
  },
  {
   "cell_type": "code",
   "execution_count": 101,
   "metadata": {},
   "outputs": [],
   "source": [
    "df1 = df1.drop(['id'], axis=1)\n",
    " "
   ]
  },
  {
   "cell_type": "code",
   "execution_count": 102,
   "metadata": {
    "scrolled": false
   },
   "outputs": [
    {
     "data": {
      "text/html": [
       "<div>\n",
       "<style scoped>\n",
       "    .dataframe tbody tr th:only-of-type {\n",
       "        vertical-align: middle;\n",
       "    }\n",
       "\n",
       "    .dataframe tbody tr th {\n",
       "        vertical-align: top;\n",
       "    }\n",
       "\n",
       "    .dataframe thead th {\n",
       "        text-align: right;\n",
       "    }\n",
       "</style>\n",
       "<table border=\"1\" class=\"dataframe\">\n",
       "  <thead>\n",
       "    <tr style=\"text-align: right;\">\n",
       "      <th></th>\n",
       "      <th>id</th>\n",
       "      <th>f0</th>\n",
       "      <th>f1</th>\n",
       "      <th>f2</th>\n",
       "      <th>product</th>\n",
       "    </tr>\n",
       "  </thead>\n",
       "  <tbody>\n",
       "    <tr>\n",
       "      <th>0</th>\n",
       "      <td>kBEdx</td>\n",
       "      <td>-15.001348</td>\n",
       "      <td>-8.276000</td>\n",
       "      <td>-0.005876</td>\n",
       "      <td>3.179103</td>\n",
       "    </tr>\n",
       "    <tr>\n",
       "      <th>1</th>\n",
       "      <td>62mP7</td>\n",
       "      <td>14.272088</td>\n",
       "      <td>-3.475083</td>\n",
       "      <td>0.999183</td>\n",
       "      <td>26.953261</td>\n",
       "    </tr>\n",
       "    <tr>\n",
       "      <th>2</th>\n",
       "      <td>vyE1P</td>\n",
       "      <td>6.263187</td>\n",
       "      <td>-5.948386</td>\n",
       "      <td>5.001160</td>\n",
       "      <td>134.766305</td>\n",
       "    </tr>\n",
       "    <tr>\n",
       "      <th>3</th>\n",
       "      <td>KcrkZ</td>\n",
       "      <td>-13.081196</td>\n",
       "      <td>-11.506057</td>\n",
       "      <td>4.999415</td>\n",
       "      <td>137.945408</td>\n",
       "    </tr>\n",
       "    <tr>\n",
       "      <th>4</th>\n",
       "      <td>AHL4O</td>\n",
       "      <td>12.702195</td>\n",
       "      <td>-8.147433</td>\n",
       "      <td>5.004363</td>\n",
       "      <td>134.766305</td>\n",
       "    </tr>\n",
       "  </tbody>\n",
       "</table>\n",
       "</div>"
      ],
      "text/plain": [
       "      id         f0         f1        f2     product\n",
       "0  kBEdx -15.001348  -8.276000 -0.005876    3.179103\n",
       "1  62mP7  14.272088  -3.475083  0.999183   26.953261\n",
       "2  vyE1P   6.263187  -5.948386  5.001160  134.766305\n",
       "3  KcrkZ -13.081196 -11.506057  4.999415  137.945408\n",
       "4  AHL4O  12.702195  -8.147433  5.004363  134.766305"
      ]
     },
     "execution_count": 102,
     "metadata": {},
     "output_type": "execute_result"
    }
   ],
   "source": [
    "df2.head(5)"
   ]
  },
  {
   "cell_type": "code",
   "execution_count": 103,
   "metadata": {},
   "outputs": [],
   "source": [
    "df2 = df2.drop(['id'], axis=1)"
   ]
  },
  {
   "cell_type": "code",
   "execution_count": 104,
   "metadata": {
    "scrolled": true
   },
   "outputs": [
    {
     "data": {
      "text/html": [
       "<div>\n",
       "<style scoped>\n",
       "    .dataframe tbody tr th:only-of-type {\n",
       "        vertical-align: middle;\n",
       "    }\n",
       "\n",
       "    .dataframe tbody tr th {\n",
       "        vertical-align: top;\n",
       "    }\n",
       "\n",
       "    .dataframe thead th {\n",
       "        text-align: right;\n",
       "    }\n",
       "</style>\n",
       "<table border=\"1\" class=\"dataframe\">\n",
       "  <thead>\n",
       "    <tr style=\"text-align: right;\">\n",
       "      <th></th>\n",
       "      <th>id</th>\n",
       "      <th>f0</th>\n",
       "      <th>f1</th>\n",
       "      <th>f2</th>\n",
       "      <th>product</th>\n",
       "    </tr>\n",
       "  </thead>\n",
       "  <tbody>\n",
       "    <tr>\n",
       "      <th>0</th>\n",
       "      <td>fwXo0</td>\n",
       "      <td>-1.146987</td>\n",
       "      <td>0.963328</td>\n",
       "      <td>-0.828965</td>\n",
       "      <td>27.758673</td>\n",
       "    </tr>\n",
       "    <tr>\n",
       "      <th>1</th>\n",
       "      <td>WJtFt</td>\n",
       "      <td>0.262778</td>\n",
       "      <td>0.269839</td>\n",
       "      <td>-2.530187</td>\n",
       "      <td>56.069697</td>\n",
       "    </tr>\n",
       "    <tr>\n",
       "      <th>2</th>\n",
       "      <td>ovLUW</td>\n",
       "      <td>0.194587</td>\n",
       "      <td>0.289035</td>\n",
       "      <td>-5.586433</td>\n",
       "      <td>62.871910</td>\n",
       "    </tr>\n",
       "    <tr>\n",
       "      <th>3</th>\n",
       "      <td>q6cA6</td>\n",
       "      <td>2.236060</td>\n",
       "      <td>-0.553760</td>\n",
       "      <td>0.930038</td>\n",
       "      <td>114.572842</td>\n",
       "    </tr>\n",
       "    <tr>\n",
       "      <th>4</th>\n",
       "      <td>WPMUX</td>\n",
       "      <td>-0.515993</td>\n",
       "      <td>1.716266</td>\n",
       "      <td>5.899011</td>\n",
       "      <td>149.600746</td>\n",
       "    </tr>\n",
       "  </tbody>\n",
       "</table>\n",
       "</div>"
      ],
      "text/plain": [
       "      id        f0        f1        f2     product\n",
       "0  fwXo0 -1.146987  0.963328 -0.828965   27.758673\n",
       "1  WJtFt  0.262778  0.269839 -2.530187   56.069697\n",
       "2  ovLUW  0.194587  0.289035 -5.586433   62.871910\n",
       "3  q6cA6  2.236060 -0.553760  0.930038  114.572842\n",
       "4  WPMUX -0.515993  1.716266  5.899011  149.600746"
      ]
     },
     "execution_count": 104,
     "metadata": {},
     "output_type": "execute_result"
    }
   ],
   "source": [
    "df3.head(5)"
   ]
  },
  {
   "cell_type": "code",
   "execution_count": 105,
   "metadata": {},
   "outputs": [],
   "source": [
    "df3 = df3.drop(['id'], axis=1)"
   ]
  },
  {
   "cell_type": "code",
   "execution_count": 106,
   "metadata": {
    "scrolled": true
   },
   "outputs": [
    {
     "data": {
      "text/html": [
       "<div>\n",
       "<style scoped>\n",
       "    .dataframe tbody tr th:only-of-type {\n",
       "        vertical-align: middle;\n",
       "    }\n",
       "\n",
       "    .dataframe tbody tr th {\n",
       "        vertical-align: top;\n",
       "    }\n",
       "\n",
       "    .dataframe thead th {\n",
       "        text-align: right;\n",
       "    }\n",
       "</style>\n",
       "<table border=\"1\" class=\"dataframe\">\n",
       "  <thead>\n",
       "    <tr style=\"text-align: right;\">\n",
       "      <th></th>\n",
       "      <th>f0</th>\n",
       "      <th>f1</th>\n",
       "      <th>f2</th>\n",
       "      <th>product</th>\n",
       "    </tr>\n",
       "  </thead>\n",
       "  <tbody>\n",
       "    <tr>\n",
       "      <th>count</th>\n",
       "      <td>100000.000000</td>\n",
       "      <td>100000.000000</td>\n",
       "      <td>100000.000000</td>\n",
       "      <td>100000.000000</td>\n",
       "    </tr>\n",
       "    <tr>\n",
       "      <th>mean</th>\n",
       "      <td>0.500419</td>\n",
       "      <td>0.250143</td>\n",
       "      <td>2.502647</td>\n",
       "      <td>92.500000</td>\n",
       "    </tr>\n",
       "    <tr>\n",
       "      <th>std</th>\n",
       "      <td>0.871832</td>\n",
       "      <td>0.504433</td>\n",
       "      <td>3.248248</td>\n",
       "      <td>44.288691</td>\n",
       "    </tr>\n",
       "    <tr>\n",
       "      <th>min</th>\n",
       "      <td>-1.408605</td>\n",
       "      <td>-0.848218</td>\n",
       "      <td>-12.088328</td>\n",
       "      <td>0.000000</td>\n",
       "    </tr>\n",
       "    <tr>\n",
       "      <th>25%</th>\n",
       "      <td>-0.072580</td>\n",
       "      <td>-0.200881</td>\n",
       "      <td>0.287748</td>\n",
       "      <td>56.497507</td>\n",
       "    </tr>\n",
       "    <tr>\n",
       "      <th>50%</th>\n",
       "      <td>0.502360</td>\n",
       "      <td>0.250252</td>\n",
       "      <td>2.515969</td>\n",
       "      <td>91.849972</td>\n",
       "    </tr>\n",
       "    <tr>\n",
       "      <th>75%</th>\n",
       "      <td>1.073581</td>\n",
       "      <td>0.700646</td>\n",
       "      <td>4.715088</td>\n",
       "      <td>128.564089</td>\n",
       "    </tr>\n",
       "    <tr>\n",
       "      <th>max</th>\n",
       "      <td>2.362331</td>\n",
       "      <td>1.343769</td>\n",
       "      <td>16.003790</td>\n",
       "      <td>185.364347</td>\n",
       "    </tr>\n",
       "  </tbody>\n",
       "</table>\n",
       "</div>"
      ],
      "text/plain": [
       "                  f0             f1             f2        product\n",
       "count  100000.000000  100000.000000  100000.000000  100000.000000\n",
       "mean        0.500419       0.250143       2.502647      92.500000\n",
       "std         0.871832       0.504433       3.248248      44.288691\n",
       "min        -1.408605      -0.848218     -12.088328       0.000000\n",
       "25%        -0.072580      -0.200881       0.287748      56.497507\n",
       "50%         0.502360       0.250252       2.515969      91.849972\n",
       "75%         1.073581       0.700646       4.715088     128.564089\n",
       "max         2.362331       1.343769      16.003790     185.364347"
      ]
     },
     "execution_count": 106,
     "metadata": {},
     "output_type": "execute_result"
    }
   ],
   "source": [
    "df1.describe()"
   ]
  },
  {
   "cell_type": "code",
   "execution_count": 107,
   "metadata": {},
   "outputs": [
    {
     "data": {
      "text/html": [
       "<div>\n",
       "<style scoped>\n",
       "    .dataframe tbody tr th:only-of-type {\n",
       "        vertical-align: middle;\n",
       "    }\n",
       "\n",
       "    .dataframe tbody tr th {\n",
       "        vertical-align: top;\n",
       "    }\n",
       "\n",
       "    .dataframe thead th {\n",
       "        text-align: right;\n",
       "    }\n",
       "</style>\n",
       "<table border=\"1\" class=\"dataframe\">\n",
       "  <thead>\n",
       "    <tr style=\"text-align: right;\">\n",
       "      <th></th>\n",
       "      <th>f0</th>\n",
       "      <th>f1</th>\n",
       "      <th>f2</th>\n",
       "      <th>product</th>\n",
       "    </tr>\n",
       "  </thead>\n",
       "  <tbody>\n",
       "    <tr>\n",
       "      <th>count</th>\n",
       "      <td>100000.000000</td>\n",
       "      <td>100000.000000</td>\n",
       "      <td>100000.000000</td>\n",
       "      <td>100000.000000</td>\n",
       "    </tr>\n",
       "    <tr>\n",
       "      <th>mean</th>\n",
       "      <td>1.141296</td>\n",
       "      <td>-4.796579</td>\n",
       "      <td>2.494541</td>\n",
       "      <td>68.825000</td>\n",
       "    </tr>\n",
       "    <tr>\n",
       "      <th>std</th>\n",
       "      <td>8.965932</td>\n",
       "      <td>5.119872</td>\n",
       "      <td>1.703572</td>\n",
       "      <td>45.944423</td>\n",
       "    </tr>\n",
       "    <tr>\n",
       "      <th>min</th>\n",
       "      <td>-31.609576</td>\n",
       "      <td>-26.358598</td>\n",
       "      <td>-0.018144</td>\n",
       "      <td>0.000000</td>\n",
       "    </tr>\n",
       "    <tr>\n",
       "      <th>25%</th>\n",
       "      <td>-6.298551</td>\n",
       "      <td>-8.267985</td>\n",
       "      <td>1.000021</td>\n",
       "      <td>26.953261</td>\n",
       "    </tr>\n",
       "    <tr>\n",
       "      <th>50%</th>\n",
       "      <td>1.153055</td>\n",
       "      <td>-4.813172</td>\n",
       "      <td>2.011479</td>\n",
       "      <td>57.085625</td>\n",
       "    </tr>\n",
       "    <tr>\n",
       "      <th>75%</th>\n",
       "      <td>8.621015</td>\n",
       "      <td>-1.332816</td>\n",
       "      <td>3.999904</td>\n",
       "      <td>107.813044</td>\n",
       "    </tr>\n",
       "    <tr>\n",
       "      <th>max</th>\n",
       "      <td>29.421755</td>\n",
       "      <td>18.734063</td>\n",
       "      <td>5.019721</td>\n",
       "      <td>137.945408</td>\n",
       "    </tr>\n",
       "  </tbody>\n",
       "</table>\n",
       "</div>"
      ],
      "text/plain": [
       "                  f0             f1             f2        product\n",
       "count  100000.000000  100000.000000  100000.000000  100000.000000\n",
       "mean        1.141296      -4.796579       2.494541      68.825000\n",
       "std         8.965932       5.119872       1.703572      45.944423\n",
       "min       -31.609576     -26.358598      -0.018144       0.000000\n",
       "25%        -6.298551      -8.267985       1.000021      26.953261\n",
       "50%         1.153055      -4.813172       2.011479      57.085625\n",
       "75%         8.621015      -1.332816       3.999904     107.813044\n",
       "max        29.421755      18.734063       5.019721     137.945408"
      ]
     },
     "execution_count": 107,
     "metadata": {},
     "output_type": "execute_result"
    }
   ],
   "source": [
    "df2.describe()"
   ]
  },
  {
   "cell_type": "code",
   "execution_count": 108,
   "metadata": {},
   "outputs": [
    {
     "data": {
      "text/html": [
       "<div>\n",
       "<style scoped>\n",
       "    .dataframe tbody tr th:only-of-type {\n",
       "        vertical-align: middle;\n",
       "    }\n",
       "\n",
       "    .dataframe tbody tr th {\n",
       "        vertical-align: top;\n",
       "    }\n",
       "\n",
       "    .dataframe thead th {\n",
       "        text-align: right;\n",
       "    }\n",
       "</style>\n",
       "<table border=\"1\" class=\"dataframe\">\n",
       "  <thead>\n",
       "    <tr style=\"text-align: right;\">\n",
       "      <th></th>\n",
       "      <th>f0</th>\n",
       "      <th>f1</th>\n",
       "      <th>f2</th>\n",
       "      <th>product</th>\n",
       "    </tr>\n",
       "  </thead>\n",
       "  <tbody>\n",
       "    <tr>\n",
       "      <th>count</th>\n",
       "      <td>100000.000000</td>\n",
       "      <td>100000.000000</td>\n",
       "      <td>100000.000000</td>\n",
       "      <td>100000.000000</td>\n",
       "    </tr>\n",
       "    <tr>\n",
       "      <th>mean</th>\n",
       "      <td>0.002023</td>\n",
       "      <td>-0.002081</td>\n",
       "      <td>2.495128</td>\n",
       "      <td>95.000000</td>\n",
       "    </tr>\n",
       "    <tr>\n",
       "      <th>std</th>\n",
       "      <td>1.732045</td>\n",
       "      <td>1.730417</td>\n",
       "      <td>3.473445</td>\n",
       "      <td>44.749921</td>\n",
       "    </tr>\n",
       "    <tr>\n",
       "      <th>min</th>\n",
       "      <td>-8.760004</td>\n",
       "      <td>-7.084020</td>\n",
       "      <td>-11.970335</td>\n",
       "      <td>0.000000</td>\n",
       "    </tr>\n",
       "    <tr>\n",
       "      <th>25%</th>\n",
       "      <td>-1.162288</td>\n",
       "      <td>-1.174820</td>\n",
       "      <td>0.130359</td>\n",
       "      <td>59.450441</td>\n",
       "    </tr>\n",
       "    <tr>\n",
       "      <th>50%</th>\n",
       "      <td>0.009424</td>\n",
       "      <td>-0.009482</td>\n",
       "      <td>2.484236</td>\n",
       "      <td>94.925613</td>\n",
       "    </tr>\n",
       "    <tr>\n",
       "      <th>75%</th>\n",
       "      <td>1.158535</td>\n",
       "      <td>1.163678</td>\n",
       "      <td>4.858794</td>\n",
       "      <td>130.595027</td>\n",
       "    </tr>\n",
       "    <tr>\n",
       "      <th>max</th>\n",
       "      <td>7.238262</td>\n",
       "      <td>7.844801</td>\n",
       "      <td>16.739402</td>\n",
       "      <td>190.029838</td>\n",
       "    </tr>\n",
       "  </tbody>\n",
       "</table>\n",
       "</div>"
      ],
      "text/plain": [
       "                  f0             f1             f2        product\n",
       "count  100000.000000  100000.000000  100000.000000  100000.000000\n",
       "mean        0.002023      -0.002081       2.495128      95.000000\n",
       "std         1.732045       1.730417       3.473445      44.749921\n",
       "min        -8.760004      -7.084020     -11.970335       0.000000\n",
       "25%        -1.162288      -1.174820       0.130359      59.450441\n",
       "50%         0.009424      -0.009482       2.484236      94.925613\n",
       "75%         1.158535       1.163678       4.858794     130.595027\n",
       "max         7.238262       7.844801      16.739402     190.029838"
      ]
     },
     "execution_count": 108,
     "metadata": {},
     "output_type": "execute_result"
    }
   ],
   "source": [
    "df3.describe()"
   ]
  },
  {
   "cell_type": "code",
   "execution_count": 109,
   "metadata": {},
   "outputs": [
    {
     "name": "stdout",
     "output_type": "stream",
     "text": [
      "<class 'pandas.core.frame.DataFrame'>\n",
      "RangeIndex: 100000 entries, 0 to 99999\n",
      "Data columns (total 4 columns):\n",
      " #   Column   Non-Null Count   Dtype  \n",
      "---  ------   --------------   -----  \n",
      " 0   f0       100000 non-null  float64\n",
      " 1   f1       100000 non-null  float64\n",
      " 2   f2       100000 non-null  float64\n",
      " 3   product  100000 non-null  float64\n",
      "dtypes: float64(4)\n",
      "memory usage: 3.1 MB\n"
     ]
    }
   ],
   "source": [
    "df1.info()"
   ]
  },
  {
   "cell_type": "code",
   "execution_count": 110,
   "metadata": {},
   "outputs": [
    {
     "name": "stdout",
     "output_type": "stream",
     "text": [
      "<class 'pandas.core.frame.DataFrame'>\n",
      "RangeIndex: 100000 entries, 0 to 99999\n",
      "Data columns (total 4 columns):\n",
      " #   Column   Non-Null Count   Dtype  \n",
      "---  ------   --------------   -----  \n",
      " 0   f0       100000 non-null  float64\n",
      " 1   f1       100000 non-null  float64\n",
      " 2   f2       100000 non-null  float64\n",
      " 3   product  100000 non-null  float64\n",
      "dtypes: float64(4)\n",
      "memory usage: 3.1 MB\n"
     ]
    }
   ],
   "source": [
    "df2.info()"
   ]
  },
  {
   "cell_type": "code",
   "execution_count": 111,
   "metadata": {
    "scrolled": false
   },
   "outputs": [
    {
     "name": "stdout",
     "output_type": "stream",
     "text": [
      "<class 'pandas.core.frame.DataFrame'>\n",
      "RangeIndex: 100000 entries, 0 to 99999\n",
      "Data columns (total 4 columns):\n",
      " #   Column   Non-Null Count   Dtype  \n",
      "---  ------   --------------   -----  \n",
      " 0   f0       100000 non-null  float64\n",
      " 1   f1       100000 non-null  float64\n",
      " 2   f2       100000 non-null  float64\n",
      " 3   product  100000 non-null  float64\n",
      "dtypes: float64(4)\n",
      "memory usage: 3.1 MB\n"
     ]
    }
   ],
   "source": [
    "df3.info()"
   ]
  },
  {
   "cell_type": "code",
   "execution_count": 112,
   "metadata": {},
   "outputs": [
    {
     "data": {
      "text/plain": [
       "0"
      ]
     },
     "execution_count": 112,
     "metadata": {},
     "output_type": "execute_result"
    }
   ],
   "source": [
    "df1.duplicated().sum()"
   ]
  },
  {
   "cell_type": "code",
   "execution_count": 113,
   "metadata": {},
   "outputs": [
    {
     "data": {
      "text/plain": [
       "0"
      ]
     },
     "execution_count": 113,
     "metadata": {},
     "output_type": "execute_result"
    }
   ],
   "source": [
    "df2.duplicated().sum()"
   ]
  },
  {
   "cell_type": "code",
   "execution_count": 114,
   "metadata": {},
   "outputs": [
    {
     "data": {
      "text/plain": [
       "0"
      ]
     },
     "execution_count": 114,
     "metadata": {},
     "output_type": "execute_result"
    }
   ],
   "source": [
    "df3.duplicated().sum()"
   ]
  },
  {
   "cell_type": "markdown",
   "metadata": {},
   "source": [
    "<div class=\"alert alert-block alert-warning\"> Пропусков и дубликатов нет. \n",
    "        Далее построим гистограммы по запасам нефти: "
   ]
  },
  {
   "cell_type": "code",
   "execution_count": 115,
   "metadata": {},
   "outputs": [],
   "source": [
    "def hist(data, bins, xlim_max, ylim_max):\n",
    "    plt.figure(figsize=[10, 6])\n",
    "    plt.hist(data, bins=bins)\n",
    "    plt.xlim([0, xlim_max])\n",
    "    plt.ylim([0, ylim_max])\n",
    "    \n",
    "    plt.xlabel('Объем количества нефти на скважину (тыс/бар.)')\n",
    "    plt.ylabel('Количество скавжин') \n",
    "    plt.title('Гистограмма распределения скважин по объему')"
   ]
  },
  {
   "cell_type": "code",
   "execution_count": 116,
   "metadata": {},
   "outputs": [
    {
     "data": {
      "image/png": "[encoded data removed]",
      "text/plain": [
       "<Figure size 1000x600 with 1 Axes>"
      ]
     },
     "metadata": {},
     "output_type": "display_data"
    }
   ],
   "source": [
    "hist(df1['product'], 200, 190, 1000)"
   ]
  },
  {
   "cell_type": "code",
   "execution_count": 117,
   "metadata": {
    "scrolled": true
   },
   "outputs": [
    {
     "data": {
      "image/png": "[encoded data removed]",
      "text/plain": [
       "<Figure size 1000x600 with 1 Axes>"
      ]
     },
     "metadata": {},
     "output_type": "display_data"
    }
   ],
   "source": [
    "hist(df2['product'], 50, 140, 10000)"
   ]
  },
  {
   "cell_type": "markdown",
   "metadata": {},
   "source": [
    "<div class=\"alert alert-block alert-warning\"> На графике видно что есть нулевывые значения, далее посчитаю их. "
   ]
  },
  {
   "cell_type": "code",
   "execution_count": 118,
   "metadata": {
    "scrolled": false
   },
   "outputs": [
    {
     "data": {
      "image/png": "[encoded data removed]",
      "text/plain": [
       "<Figure size 1000x600 with 1 Axes>"
      ]
     },
     "metadata": {},
     "output_type": "display_data"
    }
   ],
   "source": [
    "hist(df3['product'], 200, 195, 1000)"
   ]
  },
  {
   "cell_type": "markdown",
   "metadata": {},
   "source": [
    "<div class=\"alert alert-block alert-warning\"> Посчитаем количество нулей в данных"
   ]
  },
  {
   "cell_type": "code",
   "execution_count": 119,
   "metadata": {},
   "outputs": [],
   "source": [
    "def null_in_data(df, null):\n",
    "    null = df[df[null] == 0][null].count()\n",
    "    dolya = null / df.shape[0]\n",
    "    print('Количество нулевых значений в колонке: ', null)\n",
    "    print('Доля нулевых значений', dolya)\n",
    "    "
   ]
  },
  {
   "cell_type": "code",
   "execution_count": 120,
   "metadata": {},
   "outputs": [
    {
     "name": "stdout",
     "output_type": "stream",
     "text": [
      "Количество нулевых значений в колонке:  1\n",
      "Доля нулевых значений 1e-05\n"
     ]
    }
   ],
   "source": [
    "null_in_data(df1, 'product') "
   ]
  },
  {
   "cell_type": "code",
   "execution_count": 121,
   "metadata": {},
   "outputs": [
    {
     "name": "stdout",
     "output_type": "stream",
     "text": [
      "Количество нулевых значений в колонке:  8235\n",
      "Доля нулевых значений 0.08235\n"
     ]
    }
   ],
   "source": [
    "null_in_data(df2, 'product') "
   ]
  },
  {
   "cell_type": "code",
   "execution_count": 122,
   "metadata": {
    "scrolled": true
   },
   "outputs": [
    {
     "name": "stdout",
     "output_type": "stream",
     "text": [
      "Количество нулевых значений в колонке:  1\n",
      "Доля нулевых значений 1e-05\n"
     ]
    }
   ],
   "source": [
    "null_in_data(df3, 'product') "
   ]
  },
  {
   "cell_type": "markdown",
   "metadata": {},
   "source": [
    "<div class=\"alert alert-block alert-warning\"> Во втором регионе по данным вижно что около 8% скважин имеют нулевые значения. Возможно это были разведовательные скважины, для вскрытия нефтяного пласта при геологоразведке. ( у меня нефтяное образование первое, геологоразвдека нефти и газа) "
   ]
  },
  {
   "cell_type": "markdown",
   "metadata": {},
   "source": [
    "## Обучение и проверка модели"
   ]
  },
  {
   "cell_type": "markdown",
   "metadata": {},
   "source": [
    "<div class=\"alert alert-block alert-warning\"> Для разбивки данных на выборки: "
   ]
  },
  {
   "cell_type": "code",
   "execution_count": 123,
   "metadata": {},
   "outputs": [],
   "source": [
    "def test_split(df, target):\n",
    "    features = df.drop([target], axis = 1)\n",
    "    target = df[target]\n",
    "    \n",
    "    features_train, features_valid, target_train, target_valid = train_test_split(features, target, \n",
    "                                                                                  test_size=0.25, random_state=12345)\n",
    "    return features_train, features_valid, target_train, target_valid"
   ]
  },
  {
   "cell_type": "code",
   "execution_count": 124,
   "metadata": {},
   "outputs": [],
   "source": [
    "features_train1, features_valid1, target_train1, target_valid1 = test_split(df1, 'product')\n"
   ]
  },
  {
   "cell_type": "code",
   "execution_count": 125,
   "metadata": {
    "scrolled": true
   },
   "outputs": [
    {
     "name": "stdout",
     "output_type": "stream",
     "text": [
      "RMSE:  37.5794217150813\n"
     ]
    }
   ],
   "source": [
    "model = LinearRegression()\n",
    "\n",
    "model.fit(features_train1,target_train1)\n",
    "predicted_target1 = model.predict(features_valid1)\n",
    "print('RMSE: ', mean_squared_error(target_valid1, predicted_target1)**0.5)"
   ]
  },
  {
   "cell_type": "code",
   "execution_count": 126,
   "metadata": {},
   "outputs": [],
   "source": [
    "features_train2, features_valid2, target_train2, target_valid2 = test_split(df2, 'product')\n"
   ]
  },
  {
   "cell_type": "code",
   "execution_count": 127,
   "metadata": {},
   "outputs": [
    {
     "name": "stdout",
     "output_type": "stream",
     "text": [
      "RMSE:  0.8930992867756169\n"
     ]
    }
   ],
   "source": [
    "model = LinearRegression()\n",
    "\n",
    "model.fit(features_train2, target_train2)\n",
    "predicted_target2 = model.predict(features_valid2)\n",
    "print('RMSE: ', mean_squared_error(target_valid2, predicted_target2)**0.5)"
   ]
  },
  {
   "cell_type": "code",
   "execution_count": 128,
   "metadata": {},
   "outputs": [],
   "source": [
    "features_train3, features_valid3, target_train3, target_valid3 = test_split(df3, 'product')\n"
   ]
  },
  {
   "cell_type": "code",
   "execution_count": 129,
   "metadata": {},
   "outputs": [
    {
     "name": "stdout",
     "output_type": "stream",
     "text": [
      "RMSE:  40.02970873393434\n"
     ]
    }
   ],
   "source": [
    "model = LinearRegression()\n",
    "\n",
    "model.fit(features_train3,target_train3)\n",
    "predicted_target3 = model.predict(features_valid3)\n",
    "print('RMSE: ', mean_squared_error(target_valid3, predicted_target3)**0.5)"
   ]
  },
  {
   "cell_type": "code",
   "execution_count": 130,
   "metadata": {},
   "outputs": [
    {
     "name": "stdout",
     "output_type": "stream",
     "text": [
      "RMSE:  37.5794217150813\n"
     ]
    }
   ],
   "source": [
    "model = LinearRegression()\n",
    "\n",
    "model.fit(features_train1,target_train1)\n",
    "predicted_target1 = model.predict(features_valid1)\n",
    "print('RMSE: ', mean_squared_error(target_valid1, predicted_target1)**0.5)"
   ]
  },
  {
   "cell_type": "code",
   "execution_count": 131,
   "metadata": {},
   "outputs": [],
   "source": [
    "model = LinearRegression()\n",
    "\n",
    "def predict(df, targets): \n",
    "    features = df.drop([targets], axis=1)\n",
    "    target = df[targets]\n",
    "    \n",
    "    features_train, features_valid, target_train, target_valid = train_test_split(features, target, test_size=0.25, random_state=12345)\n",
    "    \n",
    "    model.fit(features_train, target_train)\n",
    "    predicted_target = model.predict(features_valid)\n",
    "    data = {'real' : target_valid, 'predicted': predicted_target}\n",
    "    Data_Frame = pd.DataFrame(data, columns = ['real', 'predicted'])\n",
    "    rmse = mean_squared_error(target_valid, predicted_target)**0.5\n",
    "    mean = Data_Frame['predicted'].mean()\n",
    "    oil = Data_Frame['predicted'].sum()\n",
    "    return Data_Frame, rmse, mean, oil"
   ]
  },
  {
   "cell_type": "code",
   "execution_count": 132,
   "metadata": {
    "scrolled": true
   },
   "outputs": [
    {
     "name": "stdout",
     "output_type": "stream",
     "text": [
      "             real  predicted\n",
      "71751   10.038645  95.894952\n",
      "80493  114.551489  77.572583\n",
      "2655   132.603635  77.892640\n",
      "53233  169.072125  90.175134\n",
      "91141  122.325180  70.510088\n",
      "RMSE : 37.5794217150813\n",
      "средний запас :  92.59256778438035\n"
     ]
    }
   ],
   "source": [
    "df1_predicted, df1_rmse, df1_predicted_mean, df1_predicted_sum = predict(df1, 'product')\n",
    "print(df1_predicted.head())\n",
    "print('RMSE :', df1_rmse)\n",
    "print('средний запас : ', df1_predicted_mean)"
   ]
  },
  {
   "cell_type": "code",
   "execution_count": 133,
   "metadata": {},
   "outputs": [
    {
     "name": "stdout",
     "output_type": "stream",
     "text": [
      "            real  predicted\n",
      "71751  80.859783  82.663314\n",
      "80493  53.906522  54.431786\n",
      "2655   30.132364  29.748760\n",
      "53233  53.906522  53.552133\n",
      "91141   0.000000   1.243856\n",
      "RMSE : 0.8930992867756169\n",
      "средний запас :  68.728546895446\n"
     ]
    }
   ],
   "source": [
    "df2_predicted, df2_rmse, df2_predicted_mean, df2_predicted_sum = predict(df2, 'product')\n",
    "print(df2_predicted.head())\n",
    "print('RMSE :', df2_rmse)\n",
    "print('средний запас : ', df2_predicted_mean)"
   ]
  },
  {
   "cell_type": "code",
   "execution_count": 134,
   "metadata": {
    "scrolled": true
   },
   "outputs": [
    {
     "name": "stdout",
     "output_type": "stream",
     "text": [
      "             real   predicted\n",
      "71751   61.212375   93.599633\n",
      "80493   41.850118   75.105159\n",
      "2655    57.776581   90.066809\n",
      "53233  100.053761  105.162375\n",
      "91141  109.897122  115.303310\n",
      "RMSE : 40.02970873393434\n",
      "средний запас :  94.96504596800492\n"
     ]
    }
   ],
   "source": [
    "df3_predicted, df3_rmse, df3_predicted_mean, df3_predicted_sum = predict(df3, 'product')\n",
    "print(df3_predicted.head())\n",
    "print('RMSE :', df3_rmse)\n",
    "print('средний запас : ', df3_predicted_mean)"
   ]
  },
  {
   "cell_type": "code",
   "execution_count": 135,
   "metadata": {
    "scrolled": true
   },
   "outputs": [
    {
     "name": "stdout",
     "output_type": "stream",
     "text": [
      "Суммарный предсказанный запас в 1 регионе  2314814.194609509\n",
      "Суммарный реальный запас в 1 регионе  2301964.918520732\n",
      "\n",
      "Суммарный предсказанный запас в 2 регионе  1718213.67238615\n",
      "Суммарный реальный запас в 2 регионе  1718078.4006089992\n",
      "\n",
      "Суммарный предсказанный запас в 3 регионе  2374126.149200123\n",
      "Суммарный реальный запас в 3 регионе  2372105.8202213594\n"
     ]
    }
   ],
   "source": [
    "print('Суммарный предсказанный запас в 1 регионе ', df1_predicted_sum)\n",
    "print('Суммарный реальный запас в 1 регионе ', df1_predicted['real'].sum())\n",
    "print()\n",
    "print('Суммарный предсказанный запас в 2 регионе ', df2_predicted_sum)\n",
    "print('Суммарный реальный запас в 2 регионе ', df2_predicted['real'].sum())\n",
    "print()\n",
    "print('Суммарный предсказанный запас в 3 регионе ', df3_predicted_sum)\n",
    "print('Суммарный реальный запас в 3 регионе ', df3_predicted['real'].sum())"
   ]
  },
  {
   "cell_type": "markdown",
   "metadata": {},
   "source": [
    "<div class=\"alert alert-block alert-warning\"> Модель обучена и сработала. Изменение парамаетров не требуется. А данные предсказанных запасов и реальных очень близки. Лучше всего модель сработала во 2 регионе, RMSE - 0.893. "
   ]
  },
  {
   "cell_type": "markdown",
   "metadata": {},
   "source": [
    "## Подготовка к расчёту прибыли"
   ]
  },
  {
   "cell_type": "markdown",
   "metadata": {},
   "source": [
    "<div class=\"alert alert-block alert-warning\"> Рассчитваем разработку на 200 скважин и среднее количество нефти для безубыточной разработки в регонах. "
   ]
  },
  {
   "cell_type": "code",
   "execution_count": 136,
   "metadata": {},
   "outputs": [
    {
     "name": "stdout",
     "output_type": "stream",
     "text": [
      "Средняя прибыль на скважину - 50000000.0 тыс.руб.\n",
      "Средний объем нефти на скважину  - 111.11111111111111 тыс. баррелей\n",
      "Средний объем нефти в регионе - 22222.222222222223 тыс. баррелей\n"
     ]
    }
   ],
   "source": [
    "budget = 10000000000\n",
    "well = 500\n",
    "best_well = 200 \n",
    "barrel_price = 450000\n",
    "\n",
    "average_profit_per_well = budget / best_well\n",
    "print('Средняя прибыль на скважину -', average_profit_per_well, 'тыс.руб.')\n",
    "\n",
    "average_barrels_per_well = average_profit_per_well  / barrel_price\n",
    "print('Средний объем нефти на скважину  -',average_barrels_per_well, 'тыс. баррелей')\n",
    "\n",
    "average_barrels = budget / barrel_price\n",
    "print('Средний объем нефти в регионе -', average_barrels, 'тыс. баррелей')"
   ]
  },
  {
   "cell_type": "code",
   "execution_count": 137,
   "metadata": {},
   "outputs": [
    {
     "name": "stdout",
     "output_type": "stream",
     "text": [
      "Средний запас нефти на скважину в 1 регионе 92.50000000000001\n",
      "Средний запас нефти на скважину в 2 регионе 68.82500000000002\n",
      "Средний запас нефти на скважину в 3 регионе 95.00000000000004\n"
     ]
    }
   ],
   "source": [
    "print('Средний запас нефти на скважину в 1 регионе', df1['product'].mean())\n",
    "print('Средний запас нефти на скважину в 2 регионе', df2['product'].mean())\n",
    "print('Средний запас нефти на скважину в 3 регионе', df3['product'].mean())"
   ]
  },
  {
   "cell_type": "code",
   "execution_count": 138,
   "metadata": {
    "scrolled": true
   },
   "outputs": [
    {
     "data": {
      "image/png": "[encoded data removed]",
      "text/plain": [
       "<Figure size 1000x600 with 1 Axes>"
      ]
     },
     "metadata": {},
     "output_type": "display_data"
    }
   ],
   "source": [
    "hist(df1_predicted['predicted'], 200, 190, 490)"
   ]
  },
  {
   "cell_type": "code",
   "execution_count": 139,
   "metadata": {},
   "outputs": [
    {
     "data": {
      "image/png": "[encoded data removed]",
      "text/plain": [
       "<Figure size 1000x600 with 1 Axes>"
      ]
     },
     "metadata": {},
     "output_type": "display_data"
    }
   ],
   "source": [
    "hist(df2_predicted['predicted'], 20, 150, 4500)"
   ]
  },
  {
   "cell_type": "code",
   "execution_count": 140,
   "metadata": {
    "scrolled": true
   },
   "outputs": [
    {
     "data": {
      "image/png": "[encoded data removed]",
      "text/plain": [
       "<Figure size 1000x600 with 1 Axes>"
      ]
     },
     "metadata": {},
     "output_type": "display_data"
    }
   ],
   "source": [
    "hist(df3_predicted['predicted'], 200, 190, 450)"
   ]
  },
  {
   "cell_type": "markdown",
   "metadata": {},
   "source": [
    "<div class=\"alert alert-block alert-warning\"> \n",
    "     Можно сказать что в 1 и 3 регионе кол-во нефти в среднем на скважину больше, чем во 2. Далее досчитаем риски и прибыли \n",
    "    \n",
    "    1) Средний запас нефти на скважину в 1 регионе 92.\n",
    "    \n",
    "    2) Средний запас нефти на скважину в 2 регионе 68.\n",
    "    \n",
    "    3) Средний запас нефти на скважину в 3 регионе 95.\n",
    "    \n",
    "         "
   ]
  },
  {
   "cell_type": "markdown",
   "metadata": {},
   "source": [
    "## Расчёт прибыли и рисков "
   ]
  },
  {
   "cell_type": "code",
   "execution_count": 141,
   "metadata": {},
   "outputs": [],
   "source": [
    "def oil_profit(target, probabilities, count):\n",
    "    probs_sorted = probabilities.sort_values(ascending=False)\n",
    "    selected = target[probs_sorted.index][:count]\n",
    "    return barrel_price * selected.sum() - budget"
   ]
  },
  {
   "cell_type": "code",
   "execution_count": 142,
   "metadata": {},
   "outputs": [],
   "source": [
    "state = np.random.RandomState(12345)\n",
    "def bootstrap_1000(target, probs):\n",
    "    values=[]\n",
    "    lost = 0\n",
    "    for i in range(1000):\n",
    "        target_sample = target.sample(replace=True, random_state=state, n=well)\n",
    "        probs_sample = probs[target_sample.index]\n",
    "        profit = oil_profit(target, probs_sample, best_well)\n",
    "        if profit < 0:\n",
    "            lost +=1\n",
    "        values.append(profit)\n",
    "    \n",
    "    values = pd.Series(values)\n",
    "    lower = values.quantile(0.025)\n",
    "    upper = values.quantile(0.975)\n",
    "    average = values.mean()\n",
    "    risk = lost / 1000\n",
    "    return average, lower, upper, risk"
   ]
  },
  {
   "cell_type": "code",
   "execution_count": 143,
   "metadata": {
    "scrolled": true
   },
   "outputs": [
    {
     "name": "stdout",
     "output_type": "stream",
     "text": [
      "Данные по региону №1.\n",
      "Средняя прибыль по региону = 396164984.80 тыс.руб.\n",
      "95% доверительный интервал от -111215545.89 до 909766941.55 тыс.руб.\n",
      "Процент риска 6.90%\n"
     ]
    }
   ],
   "source": [
    "average_1, lower_1, upper_1, risk_1 = bootstrap_1000(df1_predicted['real'], df1_predicted['predicted'])\n",
    "print('Данные по региону №1.')\n",
    "print('Средняя прибыль по региону = {:.2f} тыс.руб.'.format(average_1))\n",
    "print('95% доверительный интервал от {:.2f} до {:.2f} тыс.руб.'.format(lower_1, upper_1))\n",
    "print('Процент риска {:.2%}'.format(risk_1))"
   ]
  },
  {
   "cell_type": "code",
   "execution_count": 144,
   "metadata": {},
   "outputs": [
    {
     "name": "stdout",
     "output_type": "stream",
     "text": [
      "Данные по региону №2.\n",
      "Средняя прибыль по региону = 461155817.28 тыс.руб.\n",
      "95% доверительный интервал от 78050810.75 до 862952060.26 тыс.руб.\n",
      "Процент риска 0.70%\n"
     ]
    }
   ],
   "source": [
    "average_2, lower_2, upper_2, risk_2 = bootstrap_1000(df2_predicted['real'], df2_predicted['predicted'])\n",
    "print('Данные по региону №2.')\n",
    "print('Средняя прибыль по региону = {:.2f} тыс.руб.'.format(average_2))\n",
    "print('95% доверительный интервал от {:.2f} до {:.2f} тыс.руб.'.format(lower_2, upper_2))\n",
    "print('Процент риска {:.2%}'.format(risk_2))"
   ]
  },
  {
   "cell_type": "code",
   "execution_count": 145,
   "metadata": {},
   "outputs": [
    {
     "name": "stdout",
     "output_type": "stream",
     "text": [
      "Данные по региону №3.\n",
      "Средняя прибыль по региону = 392950475.17 тыс.руб.\n",
      "95% доверительный интервал от -112227625.38 до 934562914.55 тыс.руб.\n",
      "Процент риска 6.50%\n"
     ]
    }
   ],
   "source": [
    "average_3, lower_3, upper_3, risk_3  = bootstrap_1000(df3_predicted['real'], df3_predicted['predicted'])\n",
    "print('Данные по региону №3.')\n",
    "print('Средняя прибыль по региону = {:.2f} тыс.руб.'.format(average_3))\n",
    "print('95% доверительный интервал от {:.2f} до {:.2f} тыс.руб.'.format(lower_3, upper_3))\n",
    "print('Процент риска {:.2%}'.format(risk_3))"
   ]
  },
  {
   "cell_type": "markdown",
   "metadata": {},
   "source": [
    "<div class=\"alert alert-block alert-warning\"> В 1 и 3 регионе слишком большие риски - 7.2 и 7.4% . Во втором регионе 1.3%, что удовлетворяет условиям задачи. Довреительный интервал показывает что, при практически при любом выбре скважин, разработка принесет прибыль."
   ]
  },
  {
   "cell_type": "markdown",
   "metadata": {},
   "source": [
    "<div class=\"alert alert-block alert-warning\"> 1. Данные изучены\n",
    "2. Модель обучена и построена \n",
    "3. Посчитана прибыли в регионе через фукнцию\n",
    "4. Вывод по итогу работы\n"
   ]
  }
 ],
 "metadata": {
  "ExecuteTimeLog": [
   {
    "duration": 56,
    "start_time": "2023-04-16T10:52:41.099Z"
   },
   {
    "duration": 59,
    "start_time": "2023-04-16T10:52:43.446Z"
   },
   {
    "duration": 1476,
    "start_time": "2023-04-16T10:52:49.713Z"
   },
   {
    "duration": 4,
    "start_time": "2023-04-16T10:52:59.741Z"
   },
   {
    "duration": 4,
    "start_time": "2023-04-16T10:53:01.897Z"
   },
   {
    "duration": 910,
    "start_time": "2023-04-16T10:53:04.125Z"
   },
   {
    "duration": 15,
    "start_time": "2023-04-16T10:53:16.801Z"
   },
   {
    "duration": 18,
    "start_time": "2023-04-16T10:53:22.124Z"
   },
   {
    "duration": 12,
    "start_time": "2023-04-16T10:53:26.502Z"
   },
   {
    "duration": 12,
    "start_time": "2023-04-16T10:54:07.644Z"
   },
   {
    "duration": 12,
    "start_time": "2023-04-16T10:54:15.313Z"
   },
   {
    "duration": 9,
    "start_time": "2023-04-16T10:54:20.150Z"
   },
   {
    "duration": 34,
    "start_time": "2023-04-16T10:54:42.724Z"
   },
   {
    "duration": 42,
    "start_time": "2023-04-16T10:54:51.410Z"
   },
   {
    "duration": 39,
    "start_time": "2023-04-16T10:54:54.603Z"
   },
   {
    "duration": 18,
    "start_time": "2023-04-16T10:55:21.514Z"
   },
   {
    "duration": 69,
    "start_time": "2023-04-16T10:55:25.792Z"
   },
   {
    "duration": 47,
    "start_time": "2023-04-16T10:55:30.111Z"
   },
   {
    "duration": 44,
    "start_time": "2023-04-16T10:55:33.740Z"
   },
   {
    "duration": 57,
    "start_time": "2023-04-16T10:56:56.908Z"
   },
   {
    "duration": 23,
    "start_time": "2023-04-16T10:57:14.415Z"
   },
   {
    "duration": 55,
    "start_time": "2023-04-16T16:16:18.511Z"
   },
   {
    "duration": 6,
    "start_time": "2023-04-16T16:16:33.410Z"
   },
   {
    "duration": 495,
    "start_time": "2023-04-16T16:17:00.711Z"
   },
   {
    "duration": 413,
    "start_time": "2023-04-16T16:17:36.935Z"
   },
   {
    "duration": 573,
    "start_time": "2023-04-16T16:17:44.245Z"
   },
   {
    "duration": 402,
    "start_time": "2023-04-16T16:17:50.343Z"
   },
   {
    "duration": 409,
    "start_time": "2023-04-16T16:17:59.832Z"
   },
   {
    "duration": 475,
    "start_time": "2023-04-16T16:18:12.919Z"
   },
   {
    "duration": 382,
    "start_time": "2023-04-16T16:18:20.548Z"
   },
   {
    "duration": 430,
    "start_time": "2023-04-16T16:18:24.344Z"
   },
   {
    "duration": 195,
    "start_time": "2023-04-16T16:18:45.525Z"
   },
   {
    "duration": 203,
    "start_time": "2023-04-16T16:18:52.110Z"
   },
   {
    "duration": 219,
    "start_time": "2023-04-16T16:18:56.408Z"
   },
   {
    "duration": 482,
    "start_time": "2023-04-16T16:19:30.007Z"
   },
   {
    "duration": 393,
    "start_time": "2023-04-16T16:19:36.525Z"
   },
   {
    "duration": 3,
    "start_time": "2023-04-16T19:10:51.162Z"
   },
   {
    "duration": 3,
    "start_time": "2023-04-16T19:10:52.312Z"
   },
   {
    "duration": 3,
    "start_time": "2023-04-16T19:11:13.610Z"
   },
   {
    "duration": 6,
    "start_time": "2023-04-16T19:11:27.110Z"
   },
   {
    "duration": 3,
    "start_time": "2023-04-16T19:13:25.079Z"
   },
   {
    "duration": 12,
    "start_time": "2023-04-16T19:13:51.468Z"
   },
   {
    "duration": 12,
    "start_time": "2023-04-16T19:14:14.130Z"
   },
   {
    "duration": 10,
    "start_time": "2023-04-16T19:14:22.409Z"
   },
   {
    "duration": 13,
    "start_time": "2023-04-16T19:14:32.046Z"
   },
   {
    "duration": 3,
    "start_time": "2023-04-16T19:14:48.980Z"
   },
   {
    "duration": 9,
    "start_time": "2023-04-16T19:14:51.076Z"
   },
   {
    "duration": 5,
    "start_time": "2023-04-16T19:15:36.134Z"
   },
   {
    "duration": 44,
    "start_time": "2023-04-16T19:16:14.626Z"
   },
   {
    "duration": 45,
    "start_time": "2023-04-16T19:16:19.530Z"
   },
   {
    "duration": 55,
    "start_time": "2023-04-16T19:16:24.126Z"
   },
   {
    "duration": 50,
    "start_time": "2023-04-16T19:16:26.837Z"
   },
   {
    "duration": 147,
    "start_time": "2023-04-16T19:16:31.276Z"
   },
   {
    "duration": 55,
    "start_time": "2023-04-16T19:16:39.074Z"
   },
   {
    "duration": 9,
    "start_time": "2023-04-16T19:16:42.980Z"
   },
   {
    "duration": 11,
    "start_time": "2023-04-16T19:17:02.540Z"
   },
   {
    "duration": 14,
    "start_time": "2023-04-16T19:18:23.872Z"
   },
   {
    "duration": 12,
    "start_time": "2023-04-16T19:18:38.675Z"
   },
   {
    "duration": 8,
    "start_time": "2023-04-16T19:18:43.826Z"
   },
   {
    "duration": 11,
    "start_time": "2023-04-16T19:19:14.677Z"
   },
   {
    "duration": 12,
    "start_time": "2023-04-16T19:19:43.483Z"
   },
   {
    "duration": 8,
    "start_time": "2023-04-16T19:19:47.386Z"
   },
   {
    "duration": 11,
    "start_time": "2023-04-16T19:20:32.214Z"
   },
   {
    "duration": 11,
    "start_time": "2023-04-16T19:20:34.673Z"
   },
   {
    "duration": 11,
    "start_time": "2023-04-16T19:20:45.818Z"
   },
   {
    "duration": 9,
    "start_time": "2023-04-16T19:20:51.814Z"
   },
   {
    "duration": 9,
    "start_time": "2023-04-16T19:21:01.630Z"
   },
   {
    "duration": 10,
    "start_time": "2023-04-16T19:21:01.862Z"
   },
   {
    "duration": 8,
    "start_time": "2023-04-16T19:21:27.818Z"
   },
   {
    "duration": 5,
    "start_time": "2023-04-16T19:21:35.583Z"
   },
   {
    "duration": 6,
    "start_time": "2023-04-16T19:21:40.186Z"
   },
   {
    "duration": 5,
    "start_time": "2023-04-16T19:21:43.248Z"
   },
   {
    "duration": 8,
    "start_time": "2023-04-16T19:21:51.954Z"
   },
   {
    "duration": 3,
    "start_time": "2023-04-16T19:21:54.126Z"
   },
   {
    "duration": 3,
    "start_time": "2023-04-16T19:21:54.526Z"
   },
   {
    "duration": 5,
    "start_time": "2023-04-16T19:21:56.154Z"
   },
   {
    "duration": 7,
    "start_time": "2023-04-16T19:21:57.514Z"
   },
   {
    "duration": 5,
    "start_time": "2023-04-16T19:21:58.772Z"
   },
   {
    "duration": 3,
    "start_time": "2023-04-16T20:41:41.110Z"
   },
   {
    "duration": 4,
    "start_time": "2023-04-16T20:41:46.614Z"
   },
   {
    "duration": 30,
    "start_time": "2023-04-16T20:43:09.228Z"
   },
   {
    "duration": 29,
    "start_time": "2023-04-16T20:43:38.716Z"
   },
   {
    "duration": 24,
    "start_time": "2023-04-16T20:43:53.237Z"
   },
   {
    "duration": 3,
    "start_time": "2023-04-16T20:44:07.514Z"
   },
   {
    "duration": 34,
    "start_time": "2023-04-16T20:44:10.940Z"
   },
   {
    "duration": 24,
    "start_time": "2023-04-16T20:44:21.429Z"
   },
   {
    "duration": 30,
    "start_time": "2023-04-16T20:49:25.470Z"
   },
   {
    "duration": 5,
    "start_time": "2023-04-16T20:50:17.420Z"
   },
   {
    "duration": 24,
    "start_time": "2023-04-16T20:50:26.682Z"
   },
   {
    "duration": 29,
    "start_time": "2023-04-16T20:50:40.655Z"
   },
   {
    "duration": 36,
    "start_time": "2023-04-16T20:50:40.818Z"
   },
   {
    "duration": 44,
    "start_time": "2023-04-16T20:50:41.156Z"
   },
   {
    "duration": 18,
    "start_time": "2023-04-16T20:50:41.894Z"
   },
   {
    "duration": 3,
    "start_time": "2023-04-16T20:50:57.482Z"
   },
   {
    "duration": 375,
    "start_time": "2023-04-16T20:50:57.857Z"
   },
   {
    "duration": 10,
    "start_time": "2023-04-16T20:50:58.315Z"
   },
   {
    "duration": 9,
    "start_time": "2023-04-16T20:50:58.722Z"
   },
   {
    "duration": 10,
    "start_time": "2023-04-16T20:50:58.918Z"
   },
   {
    "duration": 36,
    "start_time": "2023-04-16T20:50:59.256Z"
   },
   {
    "duration": 36,
    "start_time": "2023-04-16T20:51:03.003Z"
   },
   {
    "duration": 33,
    "start_time": "2023-04-16T20:51:03.163Z"
   },
   {
    "duration": 34,
    "start_time": "2023-04-16T20:51:03.919Z"
   },
   {
    "duration": 13,
    "start_time": "2023-04-16T20:51:10.820Z"
   },
   {
    "duration": 395,
    "start_time": "2023-04-16T20:51:39.823Z"
   },
   {
    "duration": 16,
    "start_time": "2023-04-16T20:51:43.060Z"
   },
   {
    "duration": 12,
    "start_time": "2023-04-16T20:51:49.953Z"
   },
   {
    "duration": 13,
    "start_time": "2023-04-16T20:51:56.995Z"
   },
   {
    "duration": 8,
    "start_time": "2023-04-16T20:51:58.954Z"
   },
   {
    "duration": 8,
    "start_time": "2023-04-16T20:51:59.859Z"
   },
   {
    "duration": 3,
    "start_time": "2023-04-16T20:52:07.922Z"
   },
   {
    "duration": 351,
    "start_time": "2023-04-16T20:52:08.316Z"
   },
   {
    "duration": 8,
    "start_time": "2023-04-16T20:52:08.669Z"
   },
   {
    "duration": 6,
    "start_time": "2023-04-16T20:52:19.040Z"
   },
   {
    "duration": 7,
    "start_time": "2023-04-16T20:52:31.833Z"
   },
   {
    "duration": 6,
    "start_time": "2023-04-16T20:52:47.642Z"
   },
   {
    "duration": 13,
    "start_time": "2023-04-16T20:52:49.259Z"
   },
   {
    "duration": 34,
    "start_time": "2023-04-16T20:52:49.419Z"
   },
   {
    "duration": 37,
    "start_time": "2023-04-16T20:52:49.567Z"
   },
   {
    "duration": 13,
    "start_time": "2023-04-16T20:53:03.773Z"
   },
   {
    "duration": 9,
    "start_time": "2023-04-16T20:53:11.616Z"
   },
   {
    "duration": 12,
    "start_time": "2023-04-16T20:53:16.261Z"
   },
   {
    "duration": 8,
    "start_time": "2023-04-16T20:53:16.619Z"
   },
   {
    "duration": 359,
    "start_time": "2023-04-16T20:53:20.172Z"
   },
   {
    "duration": 10,
    "start_time": "2023-04-16T20:53:20.614Z"
   },
   {
    "duration": 5,
    "start_time": "2023-04-16T20:53:21.163Z"
   },
   {
    "duration": 9,
    "start_time": "2023-04-16T20:53:21.829Z"
   },
   {
    "duration": 6,
    "start_time": "2023-04-16T20:53:22.318Z"
   },
   {
    "duration": 8,
    "start_time": "2023-04-16T20:53:22.820Z"
   },
   {
    "duration": 5,
    "start_time": "2023-04-16T20:53:24.579Z"
   },
   {
    "duration": 40,
    "start_time": "2023-04-16T20:53:26.675Z"
   },
   {
    "duration": 40,
    "start_time": "2023-04-16T20:53:26.868Z"
   },
   {
    "duration": 30,
    "start_time": "2023-04-16T20:53:27.040Z"
   },
   {
    "duration": 23,
    "start_time": "2023-04-16T20:53:27.202Z"
   },
   {
    "duration": 9,
    "start_time": "2023-04-16T20:53:27.334Z"
   },
   {
    "duration": 9,
    "start_time": "2023-04-16T20:53:28.068Z"
   },
   {
    "duration": 31,
    "start_time": "2023-04-16T20:53:33.109Z"
   },
   {
    "duration": 21,
    "start_time": "2023-04-16T20:53:33.543Z"
   },
   {
    "duration": 26,
    "start_time": "2023-04-16T20:53:33.724Z"
   },
   {
    "duration": 4,
    "start_time": "2023-04-16T20:53:33.904Z"
   },
   {
    "duration": 387,
    "start_time": "2023-04-16T20:53:34.062Z"
   },
   {
    "duration": 203,
    "start_time": "2023-04-16T20:53:34.779Z"
   },
   {
    "duration": 484,
    "start_time": "2023-04-16T20:53:35.130Z"
   },
   {
    "duration": 3,
    "start_time": "2023-04-16T20:53:35.622Z"
   },
   {
    "duration": 6,
    "start_time": "2023-04-16T20:53:35.626Z"
   },
   {
    "duration": 5,
    "start_time": "2023-04-16T20:53:35.646Z"
   },
   {
    "duration": 6,
    "start_time": "2023-04-16T20:53:37.065Z"
   },
   {
    "duration": 3,
    "start_time": "2023-04-16T20:53:37.618Z"
   },
   {
    "duration": 14,
    "start_time": "2023-04-16T20:53:38.019Z"
   },
   {
    "duration": 119,
    "start_time": "2023-04-16T20:53:38.581Z"
   },
   {
    "duration": 4,
    "start_time": "2023-04-16T20:53:59.315Z"
   },
   {
    "duration": 3,
    "start_time": "2023-04-16T20:54:03.282Z"
   },
   {
    "duration": 10,
    "start_time": "2023-04-16T20:54:03.456Z"
   },
   {
    "duration": 21,
    "start_time": "2023-04-16T20:54:03.715Z"
   },
   {
    "duration": 8,
    "start_time": "2023-04-16T20:55:17.128Z"
   },
   {
    "duration": 10,
    "start_time": "2023-04-16T20:55:48.026Z"
   },
   {
    "duration": 12,
    "start_time": "2023-04-16T20:55:48.637Z"
   },
   {
    "duration": 12,
    "start_time": "2023-04-16T20:56:01.714Z"
   },
   {
    "duration": 14,
    "start_time": "2023-04-16T20:56:02.156Z"
   },
   {
    "duration": 13,
    "start_time": "2023-04-16T20:57:44.653Z"
   },
   {
    "duration": 69,
    "start_time": "2023-04-16T21:11:39.766Z"
   },
   {
    "duration": 4,
    "start_time": "2023-04-16T21:11:47.268Z"
   },
   {
    "duration": 51,
    "start_time": "2023-04-16T21:13:41.451Z"
   },
   {
    "duration": 27,
    "start_time": "2023-04-16T21:14:37.647Z"
   },
   {
    "duration": 26,
    "start_time": "2023-04-16T21:15:01.460Z"
   },
   {
    "duration": 27,
    "start_time": "2023-04-16T21:15:17.173Z"
   },
   {
    "duration": 120,
    "start_time": "2023-04-16T21:15:21.779Z"
   },
   {
    "duration": 9,
    "start_time": "2023-04-16T21:15:57.843Z"
   },
   {
    "duration": 799,
    "start_time": "2023-04-16T21:16:01.050Z"
   },
   {
    "duration": 7,
    "start_time": "2023-04-16T21:16:11.242Z"
   },
   {
    "duration": 6,
    "start_time": "2023-04-16T21:16:43.919Z"
   },
   {
    "duration": 15,
    "start_time": "2023-04-16T21:17:22.627Z"
   },
   {
    "duration": 3,
    "start_time": "2023-04-16T21:20:16.883Z"
   },
   {
    "duration": 1535,
    "start_time": "2023-04-17T12:34:38.355Z"
   },
   {
    "duration": 1668,
    "start_time": "2023-04-17T12:34:39.892Z"
   },
   {
    "duration": 13,
    "start_time": "2023-04-17T12:34:41.562Z"
   },
   {
    "duration": 24,
    "start_time": "2023-04-17T12:34:41.576Z"
   },
   {
    "duration": 22,
    "start_time": "2023-04-17T12:34:41.604Z"
   },
   {
    "duration": 28,
    "start_time": "2023-04-17T12:34:41.628Z"
   },
   {
    "duration": 20,
    "start_time": "2023-04-17T12:34:41.658Z"
   },
   {
    "duration": 20,
    "start_time": "2023-04-17T12:34:41.680Z"
   },
   {
    "duration": 52,
    "start_time": "2023-04-17T12:34:41.701Z"
   },
   {
    "duration": 38,
    "start_time": "2023-04-17T12:34:41.754Z"
   },
   {
    "duration": 39,
    "start_time": "2023-04-17T12:34:41.794Z"
   },
   {
    "duration": 32,
    "start_time": "2023-04-17T12:34:41.835Z"
   },
   {
    "duration": 13,
    "start_time": "2023-04-17T12:34:41.869Z"
   },
   {
    "duration": 21,
    "start_time": "2023-04-17T12:34:41.885Z"
   },
   {
    "duration": 30,
    "start_time": "2023-04-17T12:34:41.908Z"
   },
   {
    "duration": 38,
    "start_time": "2023-04-17T12:34:41.940Z"
   },
   {
    "duration": 29,
    "start_time": "2023-04-17T12:34:41.980Z"
   },
   {
    "duration": 4,
    "start_time": "2023-04-17T12:34:42.011Z"
   },
   {
    "duration": 416,
    "start_time": "2023-04-17T12:34:42.017Z"
   },
   {
    "duration": 210,
    "start_time": "2023-04-17T12:34:42.435Z"
   },
   {
    "duration": 466,
    "start_time": "2023-04-17T12:34:42.646Z"
   },
   {
    "duration": 3,
    "start_time": "2023-04-17T12:34:43.114Z"
   },
   {
    "duration": 25,
    "start_time": "2023-04-17T12:34:43.119Z"
   },
   {
    "duration": 41,
    "start_time": "2023-04-17T12:34:43.146Z"
   },
   {
    "duration": 78,
    "start_time": "2023-04-17T12:34:43.189Z"
   },
   {
    "duration": 22,
    "start_time": "2023-04-17T12:34:43.269Z"
   },
   {
    "duration": 55,
    "start_time": "2023-04-17T12:34:43.292Z"
   },
   {
    "duration": 110,
    "start_time": "2023-04-17T12:34:43.349Z"
   },
   {
    "duration": 100,
    "start_time": "2023-04-17T12:34:43.462Z"
   },
   {
    "duration": 15,
    "start_time": "2023-04-17T12:34:43.564Z"
   },
   {
    "duration": 89,
    "start_time": "2023-04-17T12:34:43.585Z"
   },
   {
    "duration": 20,
    "start_time": "2023-04-17T12:34:43.760Z"
   },
   {
    "duration": 176,
    "start_time": "2023-04-17T12:34:43.783Z"
   },
   {
    "duration": 8,
    "start_time": "2023-04-17T12:34:43.961Z"
   },
   {
    "duration": 187,
    "start_time": "2023-04-17T12:34:43.973Z"
   },
   {
    "duration": 204,
    "start_time": "2023-04-17T12:34:44.162Z"
   },
   {
    "duration": 193,
    "start_time": "2023-04-17T12:34:44.368Z"
   },
   {
    "duration": 99,
    "start_time": "2023-04-17T12:34:44.563Z"
   },
   {
    "duration": 3,
    "start_time": "2023-04-17T12:34:44.664Z"
   },
   {
    "duration": 107,
    "start_time": "2023-04-17T12:36:29.383Z"
   },
   {
    "duration": 10,
    "start_time": "2023-04-17T12:37:02.182Z"
   },
   {
    "duration": 5,
    "start_time": "2023-04-17T12:37:08.945Z"
   },
   {
    "duration": 6,
    "start_time": "2023-04-17T12:37:22.510Z"
   },
   {
    "duration": 6,
    "start_time": "2023-04-17T12:37:45.710Z"
   },
   {
    "duration": 6,
    "start_time": "2023-04-17T12:38:09.165Z"
   },
   {
    "duration": 6,
    "start_time": "2023-04-17T12:38:48.724Z"
   },
   {
    "duration": 5,
    "start_time": "2023-04-17T12:38:57.650Z"
   },
   {
    "duration": 6,
    "start_time": "2023-04-17T12:39:58.125Z"
   },
   {
    "duration": 6,
    "start_time": "2023-04-17T12:40:56.041Z"
   },
   {
    "duration": 843,
    "start_time": "2023-04-17T12:41:02.076Z"
   },
   {
    "duration": 391,
    "start_time": "2023-04-17T12:41:37.507Z"
   },
   {
    "duration": 167,
    "start_time": "2023-04-17T12:41:59.268Z"
   },
   {
    "duration": 189,
    "start_time": "2023-04-17T12:42:04.522Z"
   },
   {
    "duration": 397,
    "start_time": "2023-04-17T12:42:20.477Z"
   },
   {
    "duration": 518,
    "start_time": "2023-04-17T12:42:24.827Z"
   },
   {
    "duration": 430,
    "start_time": "2023-04-17T12:42:36.954Z"
   },
   {
    "duration": 379,
    "start_time": "2023-04-17T12:42:41.036Z"
   },
   {
    "duration": 4,
    "start_time": "2023-04-17T12:43:50.413Z"
   },
   {
    "duration": 83,
    "start_time": "2023-04-17T12:44:00.331Z"
   },
   {
    "duration": 5,
    "start_time": "2023-04-17T12:44:09.179Z"
   },
   {
    "duration": 15,
    "start_time": "2023-04-17T12:45:17.515Z"
   },
   {
    "duration": 6,
    "start_time": "2023-04-17T12:45:28.521Z"
   },
   {
    "duration": 5,
    "start_time": "2023-04-17T12:45:28.970Z"
   },
   {
    "duration": 5,
    "start_time": "2023-04-17T12:45:29.635Z"
   },
   {
    "duration": 7,
    "start_time": "2023-04-17T12:45:53.652Z"
   },
   {
    "duration": 13,
    "start_time": "2023-04-17T12:45:59.898Z"
   },
   {
    "duration": 7,
    "start_time": "2023-04-17T12:46:41.210Z"
   },
   {
    "duration": 20,
    "start_time": "2023-04-17T12:46:44.758Z"
   },
   {
    "duration": 6,
    "start_time": "2023-04-17T12:46:52.443Z"
   },
   {
    "duration": 6,
    "start_time": "2023-04-17T12:46:54.943Z"
   },
   {
    "duration": 7,
    "start_time": "2023-04-17T12:46:55.229Z"
   },
   {
    "duration": 18,
    "start_time": "2023-04-17T12:46:56.713Z"
   },
   {
    "duration": 4,
    "start_time": "2023-04-17T12:47:29.209Z"
   },
   {
    "duration": 3,
    "start_time": "2023-04-17T12:47:29.480Z"
   },
   {
    "duration": 3,
    "start_time": "2023-04-17T12:47:29.757Z"
   },
   {
    "duration": 8,
    "start_time": "2023-04-17T12:47:31.768Z"
   },
   {
    "duration": 946,
    "start_time": "2023-04-17T12:47:33.208Z"
   },
   {
    "duration": 944,
    "start_time": "2023-04-17T12:50:52.534Z"
   },
   {
    "duration": 8,
    "start_time": "2023-04-17T12:51:08.759Z"
   },
   {
    "duration": 5,
    "start_time": "2023-04-17T12:51:09.224Z"
   },
   {
    "duration": 910,
    "start_time": "2023-04-17T12:51:11.099Z"
   },
   {
    "duration": 5,
    "start_time": "2023-04-17T12:51:47.878Z"
   },
   {
    "duration": 980,
    "start_time": "2023-04-17T12:51:49.715Z"
   },
   {
    "duration": 931,
    "start_time": "2023-04-17T12:52:16.110Z"
   },
   {
    "duration": 930,
    "start_time": "2023-04-17T12:52:39.679Z"
   },
   {
    "duration": 5,
    "start_time": "2023-04-17T12:53:14.598Z"
   },
   {
    "duration": 973,
    "start_time": "2023-04-17T12:53:16.207Z"
   },
   {
    "duration": 5,
    "start_time": "2023-04-17T12:54:00.405Z"
   },
   {
    "duration": 6,
    "start_time": "2023-04-17T12:54:01.077Z"
   },
   {
    "duration": 931,
    "start_time": "2023-04-17T12:54:02.757Z"
   },
   {
    "duration": 926,
    "start_time": "2023-04-17T12:54:43.173Z"
   },
   {
    "duration": 744,
    "start_time": "2023-04-17T12:56:07.173Z"
   },
   {
    "duration": 968,
    "start_time": "2023-04-17T12:56:24.210Z"
   },
   {
    "duration": 957,
    "start_time": "2023-04-17T12:56:39.612Z"
   },
   {
    "duration": 900,
    "start_time": "2023-04-17T12:56:49.948Z"
   },
   {
    "duration": 907,
    "start_time": "2023-04-17T12:56:52.684Z"
   },
   {
    "duration": 947,
    "start_time": "2023-04-17T12:57:10.884Z"
   },
   {
    "duration": 927,
    "start_time": "2023-04-17T12:57:13.393Z"
   },
   {
    "duration": 965,
    "start_time": "2023-04-17T12:57:30.911Z"
   },
   {
    "duration": 907,
    "start_time": "2023-04-17T12:57:48.124Z"
   },
   {
    "duration": 972,
    "start_time": "2023-04-17T12:58:07.458Z"
   },
   {
    "duration": 937,
    "start_time": "2023-04-17T12:58:12.067Z"
   },
   {
    "duration": 932,
    "start_time": "2023-04-17T12:58:31.871Z"
   },
   {
    "duration": 945,
    "start_time": "2023-04-17T12:58:43.428Z"
   },
   {
    "duration": 936,
    "start_time": "2023-04-17T12:59:01.899Z"
   },
   {
    "duration": 937,
    "start_time": "2023-04-17T12:59:07.578Z"
   },
   {
    "duration": 956,
    "start_time": "2023-04-17T12:59:10.603Z"
   },
   {
    "duration": 50,
    "start_time": "2023-04-17T13:00:50.839Z"
   },
   {
    "duration": 55,
    "start_time": "2023-04-17T13:08:30.398Z"
   },
   {
    "duration": 53,
    "start_time": "2023-04-17T13:08:33.847Z"
   },
   {
    "duration": 46,
    "start_time": "2023-04-17T13:14:40.114Z"
   },
   {
    "duration": 49,
    "start_time": "2023-04-17T13:29:04.274Z"
   },
   {
    "duration": 81,
    "start_time": "2023-04-17T16:31:56.012Z"
   },
   {
    "duration": 45,
    "start_time": "2023-04-17T17:08:55.076Z"
   }
  ],
  "kernelspec": {
   "display_name": "Python 3 (ipykernel)",
   "language": "python",
   "name": "python3"
  },
  "language_info": {
   "codemirror_mode": {
    "name": "ipython",
    "version": 3
   },
   "file_extension": ".py",
   "mimetype": "text/x-python",
   "name": "python",
   "nbconvert_exporter": "python",
   "pygments_lexer": "ipython3",
   "version": "3.10.9"
  },
  "toc": {
   "base_numbering": 1,
   "nav_menu": {},
   "number_sections": true,
   "sideBar": true,
   "skip_h1_title": true,
   "title_cell": "Table of Contents",
   "title_sidebar": "Contents",
   "toc_cell": false,
   "toc_position": {},
   "toc_section_display": true,
   "toc_window_display": false
  }
 },
 "nbformat": 4,
 "nbformat_minor": 2
}
