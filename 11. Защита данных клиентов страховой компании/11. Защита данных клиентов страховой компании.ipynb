{
 "cells": [
  {
   "cell_type": "markdown",
   "metadata": {
    "toc": true
   },
   "source": [
    "<h1>Содержание<span class=\"tocSkip\"></span></h1>\n",
    "<div class=\"toc\"><ul class=\"toc-item\"><li><span><a href=\"#Загрузка-данных\" data-toc-modified-id=\"Загрузка-данных-1\"><span class=\"toc-item-num\">1&nbsp;&nbsp;</span>Загрузка данных</a></span></li><li><span><a href=\"#Умножение-матриц\" data-toc-modified-id=\"Умножение-матриц-2\"><span class=\"toc-item-num\">2&nbsp;&nbsp;</span>Умножение матриц</a></span></li><li><span><a href=\"#Алгоритм-преобразования\" data-toc-modified-id=\"Алгоритм-преобразования-3\"><span class=\"toc-item-num\">3&nbsp;&nbsp;</span>Алгоритм преобразования</a></span></li><li><span><a href=\"#Проверка-алгоритма\" data-toc-modified-id=\"Проверка-алгоритма-4\"><span class=\"toc-item-num\">4&nbsp;&nbsp;</span>Проверка алгоритма</a></span></li><li><span><a href=\"#Чек-лист-проверки\" data-toc-modified-id=\"Чек-лист-проверки-5\"><span class=\"toc-item-num\">5&nbsp;&nbsp;</span>Чек-лист проверки</a></span></li></ul></div>"
   ]
  },
  {
   "cell_type": "markdown",
   "metadata": {},
   "source": [
    "# Защита персональных данных клиентов"
   ]
  },
  {
   "cell_type": "markdown",
   "metadata": {},
   "source": [
    "Вам нужно защитить данные клиентов страховой компании «Хоть потоп». Разработайте такой метод преобразования данных, чтобы по ним было сложно восстановить персональную информацию. Обоснуйте корректность его работы.\n",
    "\n",
    "Нужно защитить данные, чтобы при преобразовании качество моделей машинного обучения не ухудшилось. Подбирать наилучшую модель не требуется."
   ]
  },
  {
   "cell_type": "markdown",
   "metadata": {},
   "source": [
    "## Загрузка данных"
   ]
  },
  {
   "cell_type": "markdown",
   "metadata": {},
   "source": [
    "<div class=\"alert alert-block alert-warning\">\n",
    " Задание - нужно защитить данные клиентов страховой компании «Хоть потоп». Разработайте такой метод преобразования данных, чтобы по ним было сложно восстановить персональную информацию.\n",
    "\n",
    "План работу: \n",
    "    1. Загрузим и изучим данные. \n",
    "    2. Ответить на вопросы\n",
    "    3. Проверить и сделать выводы\n",
    "</div>"
   ]
  },
  {
   "cell_type": "code",
   "execution_count": 1,
   "metadata": {},
   "outputs": [],
   "source": [
    "import pandas as pd\n",
    "import numpy as np\n",
    "from sklearn.model_selection import train_test_split\n",
    "from sklearn.preprocessing import StandardScaler\n",
    "from sklearn.pipeline import Pipeline\n",
    "from sklearn.linear_model import LinearRegression\n",
    "from sklearn.metrics import r2_score\n",
    "\n"
   ]
  },
  {
   "cell_type": "code",
   "execution_count": 2,
   "metadata": {
    "scrolled": true
   },
   "outputs": [
    {
     "name": "stdout",
     "output_type": "stream",
     "text": [
      "<class 'pandas.core.frame.DataFrame'>\n",
      "RangeIndex: 5000 entries, 0 to 4999\n",
      "Data columns (total 5 columns):\n",
      " #   Column             Non-Null Count  Dtype  \n",
      "---  ------             --------------  -----  \n",
      " 0   Пол                5000 non-null   int64  \n",
      " 1   Возраст            5000 non-null   float64\n",
      " 2   Зарплата           5000 non-null   float64\n",
      " 3   Члены семьи        5000 non-null   int64  \n",
      " 4   Страховые выплаты  5000 non-null   int64  \n",
      "dtypes: float64(2), int64(3)\n",
      "memory usage: 195.4 KB\n"
     ]
    }
   ],
   "source": [
    "insurance_df = pd.read_csv('/datasets/insurance.csv')\n",
    "insurance_df.info()"
   ]
  },
  {
   "cell_type": "code",
   "execution_count": 3,
   "metadata": {
    "scrolled": true
   },
   "outputs": [
    {
     "data": {
      "text/html": [
       "<div>\n",
       "<style scoped>\n",
       "    .dataframe tbody tr th:only-of-type {\n",
       "        vertical-align: middle;\n",
       "    }\n",
       "\n",
       "    .dataframe tbody tr th {\n",
       "        vertical-align: top;\n",
       "    }\n",
       "\n",
       "    .dataframe thead th {\n",
       "        text-align: right;\n",
       "    }\n",
       "</style>\n",
       "<table border=\"1\" class=\"dataframe\">\n",
       "  <thead>\n",
       "    <tr style=\"text-align: right;\">\n",
       "      <th></th>\n",
       "      <th>Пол</th>\n",
       "      <th>Возраст</th>\n",
       "      <th>Зарплата</th>\n",
       "      <th>Члены семьи</th>\n",
       "      <th>Страховые выплаты</th>\n",
       "    </tr>\n",
       "  </thead>\n",
       "  <tbody>\n",
       "    <tr>\n",
       "      <th>0</th>\n",
       "      <td>1</td>\n",
       "      <td>41.0</td>\n",
       "      <td>49600.0</td>\n",
       "      <td>1</td>\n",
       "      <td>0</td>\n",
       "    </tr>\n",
       "    <tr>\n",
       "      <th>1</th>\n",
       "      <td>0</td>\n",
       "      <td>46.0</td>\n",
       "      <td>38000.0</td>\n",
       "      <td>1</td>\n",
       "      <td>1</td>\n",
       "    </tr>\n",
       "    <tr>\n",
       "      <th>2</th>\n",
       "      <td>0</td>\n",
       "      <td>29.0</td>\n",
       "      <td>21000.0</td>\n",
       "      <td>0</td>\n",
       "      <td>0</td>\n",
       "    </tr>\n",
       "  </tbody>\n",
       "</table>\n",
       "</div>"
      ],
      "text/plain": [
       "   Пол  Возраст  Зарплата  Члены семьи  Страховые выплаты\n",
       "0    1     41.0   49600.0            1                  0\n",
       "1    0     46.0   38000.0            1                  1\n",
       "2    0     29.0   21000.0            0                  0"
      ]
     },
     "execution_count": 3,
     "metadata": {},
     "output_type": "execute_result"
    }
   ],
   "source": [
    "insurance_df.head(3)"
   ]
  },
  {
   "cell_type": "code",
   "execution_count": 4,
   "metadata": {},
   "outputs": [],
   "source": [
    "insurance_df['Возраст'] = pd.to_numeric(insurance_df['Возраст'], downcast='integer')\n",
    "insurance_df['Зарплата'] = pd.to_numeric(insurance_df['Зарплата'], downcast='integer')"
   ]
  },
  {
   "cell_type": "code",
   "execution_count": 5,
   "metadata": {
    "scrolled": true
   },
   "outputs": [
    {
     "data": {
      "text/html": [
       "<div>\n",
       "<style scoped>\n",
       "    .dataframe tbody tr th:only-of-type {\n",
       "        vertical-align: middle;\n",
       "    }\n",
       "\n",
       "    .dataframe tbody tr th {\n",
       "        vertical-align: top;\n",
       "    }\n",
       "\n",
       "    .dataframe thead th {\n",
       "        text-align: right;\n",
       "    }\n",
       "</style>\n",
       "<table border=\"1\" class=\"dataframe\">\n",
       "  <thead>\n",
       "    <tr style=\"text-align: right;\">\n",
       "      <th></th>\n",
       "      <th>Пол</th>\n",
       "      <th>Возраст</th>\n",
       "      <th>Зарплата</th>\n",
       "      <th>Члены семьи</th>\n",
       "      <th>Страховые выплаты</th>\n",
       "    </tr>\n",
       "  </thead>\n",
       "  <tbody>\n",
       "    <tr>\n",
       "      <th>0</th>\n",
       "      <td>1</td>\n",
       "      <td>41</td>\n",
       "      <td>49600.0</td>\n",
       "      <td>1</td>\n",
       "      <td>0</td>\n",
       "    </tr>\n",
       "    <tr>\n",
       "      <th>1</th>\n",
       "      <td>0</td>\n",
       "      <td>46</td>\n",
       "      <td>38000.0</td>\n",
       "      <td>1</td>\n",
       "      <td>1</td>\n",
       "    </tr>\n",
       "    <tr>\n",
       "      <th>2</th>\n",
       "      <td>0</td>\n",
       "      <td>29</td>\n",
       "      <td>21000.0</td>\n",
       "      <td>0</td>\n",
       "      <td>0</td>\n",
       "    </tr>\n",
       "  </tbody>\n",
       "</table>\n",
       "</div>"
      ],
      "text/plain": [
       "   Пол  Возраст  Зарплата  Члены семьи  Страховые выплаты\n",
       "0    1       41   49600.0            1                  0\n",
       "1    0       46   38000.0            1                  1\n",
       "2    0       29   21000.0            0                  0"
      ]
     },
     "execution_count": 5,
     "metadata": {},
     "output_type": "execute_result"
    }
   ],
   "source": [
    "insurance_df.head(3)"
   ]
  },
  {
   "cell_type": "code",
   "execution_count": 6,
   "metadata": {},
   "outputs": [],
   "source": [
    "insurance_df[['Зарплата', 'Возраст']] = insurance_df[['Зарплата', 'Возраст']].astype('int')"
   ]
  },
  {
   "cell_type": "markdown",
   "metadata": {},
   "source": [
    "<div class=\"alert alert-block alert-warning\"> Проверим данные и напишем функцию для определения уникальных значений </div>"
   ]
  },
  {
   "cell_type": "code",
   "execution_count": 7,
   "metadata": {},
   "outputs": [],
   "source": [
    "def show_rows(data_frame):\n",
    "    for column in data_frame.columns:\n",
    "        print('Уникальные значения столбца', column)\n",
    "        print(data_frame[column].unique())\n",
    "    print('Количество пропусков в столбце')    \n",
    "    print(data_frame.isna().mean())"
   ]
  },
  {
   "cell_type": "code",
   "execution_count": 8,
   "metadata": {},
   "outputs": [
    {
     "name": "stdout",
     "output_type": "stream",
     "text": [
      "Уникальные значения столбца Пол\n",
      "[1 0]\n",
      "Уникальные значения столбца Возраст\n",
      "[41 46 29 21 28 43 39 25 36 32 38 23 40 34 26 42 27 33 47 30 19 31 22 20\n",
      " 24 18 37 48 45 44 52 49 35 56 65 55 57 54 50 53 51 58 59 60 61 62]\n",
      "Уникальные значения столбца Зарплата\n",
      "[49600 38000 21000 41700 26100 41000 39700 38600 49700 51700 36600 29300\n",
      " 39500 55000 43700 23300 48900 33200 36900 43500 36100 26600 48700 40400\n",
      " 38400 34600 34800 36800 42200 46300 30300 51000 28100 64800 30400 45300\n",
      " 38300 49500 19400 40200 31700 69200 33100 31600 34500 38700 39600 42400\n",
      " 34900 30500 24200 49900 14300 47000 44800 43800 42700 35400 57200 29600\n",
      " 37400 48100 33700 61800 39400 15600 52600 37600 52500 32700 51600 60900\n",
      " 41800 47400 26500 45900 35700 34300 26700 25700 33300 31100 31500 42100\n",
      " 37300 42500 27300 46800 33500 44300 41600 53900 40100 44600 45000 32000\n",
      " 38200 33000 38500 51800 33800 46400 43200 31800 50200 35100 30700 45800\n",
      " 49300 42800 33600 50300 34000 36400 44900 43600 54600 52800 29700 39000\n",
      " 44100 31900 37700 35200 43100 51300 47500 40800 26800 64900 35900 31200\n",
      " 39900 43300 33900 40700 44700 53400 30600 56000 35600 55200 40600 48300\n",
      " 50800 41200 44200 44400 40500 39800 16600 48400 25100 23100 32100 31000\n",
      " 42900 46700 26000 55900 52000 41500 49400 60300 45600 49000 37500 21900\n",
      " 45100 47900 54300 32400 41300 44500 23200 37900 48000 52100 45700 29900\n",
      " 42600 45200 36000 46500 23800 30200 24400 32800 29000 43400 51500 61700\n",
      " 45400 50700 36200 41900 27900 47200 48800 55100 48200 35500 35000 43900\n",
      " 40000 22000 40300 36300 49800 25600 42300 54900 25500 32900 36700 38900\n",
      " 24700 28800 22900 47300 14500 28700 44000 34100 53000 59300 28500 47100\n",
      " 41400 58900 17500 54200 43000 29800 20000 13800 27500 67700 28000 37100\n",
      "  8900 14600 56200 38800 27700 50500 58400 34700 34400 49100 50900 28200\n",
      " 61500 32500 25900  9800 28300 41100 62000 32600 37200 53800 24000 53600\n",
      " 54800 59600 20200 21700 29200 38100 20700 32300 21200 62100 54000 24500\n",
      " 51900 47800 56100 55300 58100 28900 39100 58000 27200 24600 30100 57100\n",
      " 60100 22200 47700 24900 37800 52700 34200 18700 42000 26300 22600 30900\n",
      " 35800 30800 51100 53300 46200 24100 54700 51200 62300 51400 40900 23400\n",
      " 35300 55800 33400 21300 30000 56700 46900  5300 39200 57500 31300 53700\n",
      " 21600 50000 36500 16400 15900 65099 59900 63200 26200 61200 48500 32200\n",
      " 29100 50100 22700 28600 23500 23700 19600 17800 50600 57900 22500 22100\n",
      " 58300 64099 25000 60400 59100 37000 62400 29500 25800 25400 26900 21500\n",
      " 52200 46600 57300 46100 19300 18900 31400 28400 29400 17600 13900 52400\n",
      " 11300 46000 60500 58700 58200 24800 63700 60600 20400 26400 55600 57000\n",
      " 45500 48600 57600 52900 62800 17000 56500 52300 18400 63300 12900 27000\n",
      " 55700 39300 27800 18300 56300 59800 24300 14400 13400 17900 47600 54500\n",
      " 54400 23900 13000 19900 55400 22800 61000 57400 23000 20500 53200 18100\n",
      " 25300 59500 18200 50400 21100 20900 27400 17300 60700 70600 17700 19700\n",
      " 49200 63100 59200 14700 53100 21800 68000 16500 71400 10000 55500 54100\n",
      " 56400 20600 66300 18800 11000 66100 27100 57800 53500 19200 58500 64000\n",
      " 63600 23600 25200 19100 18600 57700 62700 56600 21400 58800 68400 17100\n",
      " 13300 68500 56900 64400 27600 67200 16200 58600 62200 16000 79000 22300\n",
      " 11200 71600 61300 70500 67100 59000 13500 16700 15700 60000 17400 63400\n",
      " 61900 65200 62600 14100 20100 63800 15100 70000 60200 20300 65900 15200\n",
      " 63500 13200 68900 12200  6000 74800 59700 10800 19000 10600 69400 15000\n",
      " 75200 62500 16300 20800  7400 65300 61400 56800]\n",
      "Уникальные значения столбца Члены семьи\n",
      "[1 0 2 4 3 5 6]\n",
      "Уникальные значения столбца Страховые выплаты\n",
      "[0 1 2 3 5 4]\n",
      "Количество пропусков в столбце\n",
      "Пол                  0.0\n",
      "Возраст              0.0\n",
      "Зарплата             0.0\n",
      "Члены семьи          0.0\n",
      "Страховые выплаты    0.0\n",
      "dtype: float64\n"
     ]
    }
   ],
   "source": [
    "show_rows(insurance_df)"
   ]
  },
  {
   "cell_type": "markdown",
   "metadata": {},
   "source": [
    "## Умножение матриц"
   ]
  },
  {
   "cell_type": "markdown",
   "metadata": {},
   "source": [
    "В этом задании вы можете записывать формулы в *Jupyter Notebook.*\n",
    "\n",
    "Чтобы записать формулу внутри текста, окружите её символами доллара \\\\$; если снаружи —  двойными символами \\\\$\\\\$. Эти формулы записываются на языке вёрстки *LaTeX.* \n",
    "\n",
    "Для примера мы записали формулы линейной регрессии. Можете их скопировать и отредактировать, чтобы решить задачу.\n",
    "\n",
    "Работать в *LaTeX* необязательно."
   ]
  },
  {
   "cell_type": "markdown",
   "metadata": {},
   "source": [
    "Обозначения:\n",
    "\n",
    "- $X$ — матрица признаков (нулевой столбец состоит из единиц)\n",
    "\n",
    "- $y$ — вектор целевого признака\n",
    "\n",
    "- $P$ — матрица, на которую умножаются признаки\n",
    "\n",
    "- $w$ — вектор весов линейной регрессии (нулевой элемент равен сдвигу)"
   ]
  },
  {
   "cell_type": "markdown",
   "metadata": {},
   "source": [
    "Предсказания:\n",
    "\n",
    "$$\n",
    "a = Xw\n",
    "$$\n",
    "\n",
    "Задача обучения:\n",
    "\n",
    "$$\n",
    "w = \\arg\\min_w MSE(Xw, y)\n",
    "$$\n",
    "\n",
    "Формула обучения:\n",
    "\n",
    "$$\n",
    "w = (X^T X)^{-1} X^T y\n",
    "$$"
   ]
  },
  {
   "cell_type": "markdown",
   "metadata": {},
   "source": [
    "**Обоснование:**\n",
    "\n",
    "Используемые свойства:\n",
    "$$\n",
    "(AB)^T=B^T A^T\n",
    "$$\n",
    "$$\n",
    "(AB)^{-1} = B^{-1} A^{-1}\n",
    "$$\n",
    "$$\n",
    "A A^{-1} = A^{-1} A = E\n",
    "$$\n",
    "$$\n",
    "AE = EA = A\n",
    "$$\n",
    "Доказательство:\n",
    "$$\n",
    "a = Xw = XEw = XPP^{-1}w = (XP)P^{-1}w = (XP)w'\n",
    "$$\n",
    "\\\n",
    "Требуется доказать, что предсказания не изменятся, имеем  $a =  Xw$,   $a' = X'w'$\n",
    "\\\n",
    "\\\n",
    "$$\n",
    "    w = (X^T X)^{-1} X^T y\n",
    "$$\n",
    "\\\n",
    "$$\n",
    "w' = ((XP)^T XP)^{-1} (XP)^T y\n",
    "$$\n",
    "$$\n",
    "w' = (P^T (X^T X) P)^{-1} (XP)^T y\n",
    "$$\n",
    "$$\n",
    "w' = (P^T (X^T X) P)^{-1} P^T X^T y\n",
    "$$\n",
    "\n"
   ]
  },
  {
   "cell_type": "markdown",
   "metadata": {},
   "source": [
    "**Ответ:** Если мы умножаем признаки на обратимую матрицу, значение предсказаний линейной регрессии не изменяется.\n",
    "\n",
    "**Обоснование:** В ответе выше обоснование, что если мы умножим признаки на обратимую матрицу, значение предсказаний линейной регрессии не меняется."
   ]
  },
  {
   "cell_type": "markdown",
   "metadata": {},
   "source": [
    "## Алгоритм преобразования"
   ]
  },
  {
   "cell_type": "markdown",
   "metadata": {},
   "source": [
    "**Алгоритм**\n",
    "\n",
    "Для обеспечения безопасности данных мы будем использовать специальный метод, при котором матрица признаков будет умножаться на другую матрицу, которая будет выбираться случайным образом и обладать особым свойством - быть обратимой. Это можно сравнить с использованием одноразового кода, который генерируется на втором этапе процесса идентификации для повышения безопасности. В результате умножения матрицы признаков на обратимую матрицу, данные останутся зашифрованными, обеспечивая дополнительный уровень защиты."
   ]
  },
  {
   "cell_type": "markdown",
   "metadata": {},
   "source": [
    "**Обоснование**\n",
    "\n",
    "Свойство обратных матриц и умножения"
   ]
  },
  {
   "cell_type": "markdown",
   "metadata": {},
   "source": [
    "## Проверка алгоритма"
   ]
  },
  {
   "cell_type": "markdown",
   "metadata": {},
   "source": [
    "<div class=\"alert alert-block alert-warning\"> Выделим признаки и целевой признак </div>"
   ]
  },
  {
   "cell_type": "code",
   "execution_count": 9,
   "metadata": {},
   "outputs": [],
   "source": [
    "features = insurance_df.drop('Страховые выплаты',axis=1)\n",
    "target = insurance_df['Страховые выплаты']"
   ]
  },
  {
   "cell_type": "markdown",
   "metadata": {},
   "source": [
    "<div class=\"alert alert-block alert-warning\"> Создаем выборки обучения и тест </div>"
   ]
  },
  {
   "cell_type": "code",
   "execution_count": 10,
   "metadata": {},
   "outputs": [],
   "source": [
    "features_train, features_test, target_train, target_test = train_test_split(\n",
    "    features, target, test_size=0.25, random_state=12345)"
   ]
  },
  {
   "cell_type": "markdown",
   "metadata": {},
   "source": [
    "<div class=\"alert alert-block alert-warning\">  Модель с исходными признаками без преобразования </div>"
   ]
  },
  {
   "cell_type": "code",
   "execution_count": 11,
   "metadata": {
    "scrolled": true
   },
   "outputs": [
    {
     "name": "stdout",
     "output_type": "stream",
     "text": [
      "R2 = 0.4352275684083322\n"
     ]
    }
   ],
   "source": [
    "model = LinearRegression()\n",
    "model.fit(features_train, target_train)\n",
    "R2_LR_origin_data = r2_score(target_test, model.predict(features_test))\n",
    "print(\"R2 =\", R2_LR_origin_data)"
   ]
  },
  {
   "cell_type": "markdown",
   "metadata": {},
   "source": [
    "<div class=\"alert alert-block alert-warning\">  Модель с отмасштабированными признаками без преобразования </div>"
   ]
  },
  {
   "cell_type": "code",
   "execution_count": 12,
   "metadata": {},
   "outputs": [
    {
     "name": "stdout",
     "output_type": "stream",
     "text": [
      "R2 = 0.43522756840833376\n"
     ]
    }
   ],
   "source": [
    "regressor = LinearRegression()\n",
    "scaller = StandardScaler()\n",
    "pipeline = Pipeline([(\"standard_scaller\", scaller),(\"linear_regression\", regressor)])\n",
    "pipeline.fit(features_train, target_train)\n",
    "R2_LR_origin_data_scaled = r2_score(target_test, pipeline.predict(features_test))\n",
    "print(\"R2 =\", R2_LR_origin_data_scaled)"
   ]
  },
  {
   "cell_type": "markdown",
   "metadata": {},
   "source": [
    "<div class=\"alert alert-block alert-warning\">  Создадим рандомную матрицу-ключ </div>"
   ]
  },
  {
   "cell_type": "code",
   "execution_count": 13,
   "metadata": {},
   "outputs": [
    {
     "data": {
      "text/plain": [
       "array([[-0.08097166,  0.07403123, -0.17755928,  0.15268942],\n",
       "       [ 0.20647773, -0.01735107,  0.08849046, -0.16078658],\n",
       "       [-0.13360324, -0.1064199 , -0.05725853,  0.28050896],\n",
       "       [ 0.04048583,  0.10584153,  0.16020821, -0.21920185]])"
      ]
     },
     "execution_count": 13,
     "metadata": {},
     "output_type": "execute_result"
    }
   ],
   "source": [
    "n = features.shape[1]\n",
    "crypto_matrix = np.random.randint(1,10, (n,n))\n",
    "# Защищенные признаки\n",
    "crypto_features = features\n",
    "crypted_features = crypto_features @ crypto_matrix\n",
    "np.linalg.inv(crypto_matrix)"
   ]
  },
  {
   "cell_type": "code",
   "execution_count": 14,
   "metadata": {
    "scrolled": true
   },
   "outputs": [
    {
     "data": {
      "text/html": [
       "<div>\n",
       "<style scoped>\n",
       "    .dataframe tbody tr th:only-of-type {\n",
       "        vertical-align: middle;\n",
       "    }\n",
       "\n",
       "    .dataframe tbody tr th {\n",
       "        vertical-align: top;\n",
       "    }\n",
       "\n",
       "    .dataframe thead th {\n",
       "        text-align: right;\n",
       "    }\n",
       "</style>\n",
       "<table border=\"1\" class=\"dataframe\">\n",
       "  <thead>\n",
       "    <tr style=\"text-align: right;\">\n",
       "      <th></th>\n",
       "      <th>Пол</th>\n",
       "      <th>Возраст</th>\n",
       "      <th>Зарплата</th>\n",
       "      <th>Члены семьи</th>\n",
       "    </tr>\n",
       "  </thead>\n",
       "  <tbody>\n",
       "    <tr>\n",
       "      <th>0</th>\n",
       "      <td>1</td>\n",
       "      <td>41</td>\n",
       "      <td>49600</td>\n",
       "      <td>1</td>\n",
       "    </tr>\n",
       "    <tr>\n",
       "      <th>1</th>\n",
       "      <td>0</td>\n",
       "      <td>46</td>\n",
       "      <td>38000</td>\n",
       "      <td>1</td>\n",
       "    </tr>\n",
       "    <tr>\n",
       "      <th>2</th>\n",
       "      <td>0</td>\n",
       "      <td>29</td>\n",
       "      <td>21000</td>\n",
       "      <td>0</td>\n",
       "    </tr>\n",
       "    <tr>\n",
       "      <th>3</th>\n",
       "      <td>0</td>\n",
       "      <td>21</td>\n",
       "      <td>41700</td>\n",
       "      <td>2</td>\n",
       "    </tr>\n",
       "    <tr>\n",
       "      <th>4</th>\n",
       "      <td>1</td>\n",
       "      <td>28</td>\n",
       "      <td>26100</td>\n",
       "      <td>0</td>\n",
       "    </tr>\n",
       "  </tbody>\n",
       "</table>\n",
       "</div>"
      ],
      "text/plain": [
       "   Пол  Возраст  Зарплата  Члены семьи\n",
       "0    1       41     49600            1\n",
       "1    0       46     38000            1\n",
       "2    0       29     21000            0\n",
       "3    0       21     41700            2\n",
       "4    1       28     26100            0"
      ]
     },
     "metadata": {},
     "output_type": "display_data"
    },
    {
     "data": {
      "text/html": [
       "<div>\n",
       "<style scoped>\n",
       "    .dataframe tbody tr th:only-of-type {\n",
       "        vertical-align: middle;\n",
       "    }\n",
       "\n",
       "    .dataframe tbody tr th {\n",
       "        vertical-align: top;\n",
       "    }\n",
       "\n",
       "    .dataframe thead th {\n",
       "        text-align: right;\n",
       "    }\n",
       "</style>\n",
       "<table border=\"1\" class=\"dataframe\">\n",
       "  <thead>\n",
       "    <tr style=\"text-align: right;\">\n",
       "      <th></th>\n",
       "      <th>0</th>\n",
       "      <th>1</th>\n",
       "      <th>2</th>\n",
       "      <th>3</th>\n",
       "    </tr>\n",
       "  </thead>\n",
       "  <tbody>\n",
       "    <tr>\n",
       "      <th>0</th>\n",
       "      <td>49980</td>\n",
       "      <td>198621</td>\n",
       "      <td>397018</td>\n",
       "      <td>397177</td>\n",
       "    </tr>\n",
       "    <tr>\n",
       "      <th>1</th>\n",
       "      <td>38420</td>\n",
       "      <td>152237</td>\n",
       "      <td>304239</td>\n",
       "      <td>304420</td>\n",
       "    </tr>\n",
       "    <tr>\n",
       "      <th>2</th>\n",
       "      <td>21261</td>\n",
       "      <td>84145</td>\n",
       "      <td>168145</td>\n",
       "      <td>168261</td>\n",
       "    </tr>\n",
       "    <tr>\n",
       "      <th>3</th>\n",
       "      <td>41901</td>\n",
       "      <td>166919</td>\n",
       "      <td>333723</td>\n",
       "      <td>333801</td>\n",
       "    </tr>\n",
       "    <tr>\n",
       "      <th>4</th>\n",
       "      <td>26357</td>\n",
       "      <td>104549</td>\n",
       "      <td>208944</td>\n",
       "      <td>209054</td>\n",
       "    </tr>\n",
       "  </tbody>\n",
       "</table>\n",
       "</div>"
      ],
      "text/plain": [
       "       0       1       2       3\n",
       "0  49980  198621  397018  397177\n",
       "1  38420  152237  304239  304420\n",
       "2  21261   84145  168145  168261\n",
       "3  41901  166919  333723  333801\n",
       "4  26357  104549  208944  209054"
      ]
     },
     "metadata": {},
     "output_type": "display_data"
    },
    {
     "data": {
      "text/plain": [
       "array([[5, 9, 4, 2],\n",
       "       [9, 5, 5, 9],\n",
       "       [1, 4, 8, 8],\n",
       "       [6, 7, 9, 6]])"
      ]
     },
     "execution_count": 14,
     "metadata": {},
     "output_type": "execute_result"
    }
   ],
   "source": [
    "display(features.head())\n",
    "display(crypted_features.head())\n",
    "crypto_matrix"
   ]
  },
  {
   "cell_type": "code",
   "execution_count": 15,
   "metadata": {},
   "outputs": [],
   "source": [
    "features_train, features_test, target_train, target_test = train_test_split(\n",
    "    crypted_features, target, test_size=0.25, random_state=12345)"
   ]
  },
  {
   "cell_type": "markdown",
   "metadata": {},
   "source": [
    "<div class=\"alert alert-block alert-warning\">  Модель с исходными признаками без преобразования </div>"
   ]
  },
  {
   "cell_type": "code",
   "execution_count": 16,
   "metadata": {
    "scrolled": true
   },
   "outputs": [
    {
     "name": "stdout",
     "output_type": "stream",
     "text": [
      "R2 = 0.4352275684083615\n"
     ]
    }
   ],
   "source": [
    "model = LinearRegression()\n",
    "model.fit(features_train, target_train)\n",
    "R2_LR_cipher_data = r2_score(target_test, model.predict(features_test))\n",
    "print(\"R2 =\", R2_LR_cipher_data)"
   ]
  },
  {
   "cell_type": "markdown",
   "metadata": {},
   "source": [
    "<div class=\"alert alert-block alert-warning\">  Модель с отмасштабированными признаками без преобразования</div>"
   ]
  },
  {
   "cell_type": "code",
   "execution_count": 17,
   "metadata": {},
   "outputs": [
    {
     "name": "stdout",
     "output_type": "stream",
     "text": [
      "R2 = 0.43522756840831944\n"
     ]
    }
   ],
   "source": [
    "regressor = LinearRegression()\n",
    "scaller = StandardScaler()\n",
    "pipeline = Pipeline([(\"standard_scaller\", scaller),(\"linear_regression\", regressor)])\n",
    "pipeline.fit(features_train, target_train)\n",
    "R2_LR_cipher_data_scaled = r2_score(target_test, pipeline.predict(features_test))\n",
    "print(\"R2 =\", R2_LR_cipher_data_scaled)"
   ]
  },
  {
   "cell_type": "code",
   "execution_count": 18,
   "metadata": {
    "scrolled": true
   },
   "outputs": [
    {
     "data": {
      "text/html": [
       "<div>\n",
       "<style scoped>\n",
       "    .dataframe tbody tr th:only-of-type {\n",
       "        vertical-align: middle;\n",
       "    }\n",
       "\n",
       "    .dataframe tbody tr th {\n",
       "        vertical-align: top;\n",
       "    }\n",
       "\n",
       "    .dataframe thead th {\n",
       "        text-align: right;\n",
       "    }\n",
       "</style>\n",
       "<table border=\"1\" class=\"dataframe\">\n",
       "  <thead>\n",
       "    <tr style=\"text-align: right;\">\n",
       "      <th></th>\n",
       "      <th>R2</th>\n",
       "    </tr>\n",
       "  </thead>\n",
       "  <tbody>\n",
       "    <tr>\n",
       "      <th>Качество на исходных данных</th>\n",
       "      <td>0.435228</td>\n",
       "    </tr>\n",
       "    <tr>\n",
       "      <th>Качество на исходных данных c масштабом</th>\n",
       "      <td>0.435228</td>\n",
       "    </tr>\n",
       "    <tr>\n",
       "      <th>Качество на преобразованных признаках</th>\n",
       "      <td>0.435228</td>\n",
       "    </tr>\n",
       "    <tr>\n",
       "      <th>Качество на преобразованных признаках с масштабом</th>\n",
       "      <td>0.435228</td>\n",
       "    </tr>\n",
       "  </tbody>\n",
       "</table>\n",
       "</div>"
      ],
      "text/plain": [
       "                                                         R2\n",
       "Качество на исходных данных                        0.435228\n",
       "Качество на исходных данных c масштабом            0.435228\n",
       "Качество на преобразованных признаках              0.435228\n",
       "Качество на преобразованных признаках с масштабом  0.435228"
      ]
     },
     "execution_count": 18,
     "metadata": {},
     "output_type": "execute_result"
    }
   ],
   "source": [
    "result = pd.DataFrame(data= [R2_LR_origin_data_scaled,\n",
    "                      R2_LR_origin_data,\n",
    "                      R2_LR_cipher_data,\n",
    "                      R2_LR_cipher_data_scaled], \n",
    "                      columns=['R2'], \n",
    "                      index=['Качество на исходных данных',\n",
    "                            'Качество на исходных данных c масштабом',\n",
    "                            'Качество на преобразованных признаках',\n",
    "                            'Качество на преобразованных признаках с масштабом'])\n",
    "result"
   ]
  },
  {
   "cell_type": "markdown",
   "metadata": {},
   "source": [
    "<div class=\"alert alert-block alert-warning\">\n",
    "    \n",
    "1. Была проведена загрузка данных и их анализ.\n",
    "    \n",
    "2. Был разработан алгоритм преобразования данных, который был применен к исходной матрице.\n",
    "    \n",
    "3. После применения алгоритма преобразования, были получены новые данные в виде исходной матрицы, умноженной на обратимую \n",
    "    матрицу.\n",
    "    \n",
    "4. При сравнении качества линейной регрессии, полученной на основе исходной матрицы и матрицы, умноженной на обратимую матрицу, \n",
    "мы пришли к выводу, что качество осталось неизменным. \n",
    "Этот факт был подтвержден как теоретически с помощью формулы, так и практически с использованием метрики R2.\n",
    "    <div>"
   ]
  }
 ],
 "metadata": {
  "ExecuteTimeLog": [
   {
    "duration": 523,
    "start_time": "2023-06-07T18:04:13.892Z"
   },
   {
    "duration": 119,
    "start_time": "2023-06-07T18:04:22.050Z"
   },
   {
    "duration": 29,
    "start_time": "2023-06-07T18:05:02.161Z"
   },
   {
    "duration": 746,
    "start_time": "2023-06-07T18:05:19.677Z"
   },
   {
    "duration": 29,
    "start_time": "2023-06-07T18:05:43.195Z"
   },
   {
    "duration": 65,
    "start_time": "2023-06-07T18:08:41.673Z"
   },
   {
    "duration": 45,
    "start_time": "2023-06-07T18:08:46.560Z"
   },
   {
    "duration": 35,
    "start_time": "2023-06-07T18:09:37.880Z"
   },
   {
    "duration": 19,
    "start_time": "2023-06-07T18:09:51.353Z"
   },
   {
    "duration": 9,
    "start_time": "2023-06-07T18:10:23.968Z"
   },
   {
    "duration": 8,
    "start_time": "2023-06-07T18:10:35.877Z"
   },
   {
    "duration": 5,
    "start_time": "2023-06-07T18:10:46.469Z"
   },
   {
    "duration": 48,
    "start_time": "2023-06-07T18:52:52.826Z"
   },
   {
    "duration": 4,
    "start_time": "2023-06-07T18:59:22.892Z"
   },
   {
    "duration": 9,
    "start_time": "2023-06-07T18:59:47.688Z"
   },
   {
    "duration": 9,
    "start_time": "2023-06-07T18:59:50.356Z"
   },
   {
    "duration": 8,
    "start_time": "2023-06-07T18:59:50.791Z"
   },
   {
    "duration": 4,
    "start_time": "2023-06-07T18:59:56.286Z"
   },
   {
    "duration": 6,
    "start_time": "2023-06-07T18:59:58.357Z"
   },
   {
    "duration": 9,
    "start_time": "2023-06-07T18:59:59.728Z"
   },
   {
    "duration": 11,
    "start_time": "2023-06-07T19:00:04.837Z"
   },
   {
    "duration": 6,
    "start_time": "2023-06-07T19:00:15.301Z"
   },
   {
    "duration": 12,
    "start_time": "2023-06-07T19:00:36.285Z"
   },
   {
    "duration": 5,
    "start_time": "2023-06-07T19:00:53.403Z"
   },
   {
    "duration": 8,
    "start_time": "2023-06-07T19:00:59.967Z"
   },
   {
    "duration": 11,
    "start_time": "2023-06-07T19:01:07.252Z"
   },
   {
    "duration": 8,
    "start_time": "2023-06-07T19:01:15.916Z"
   },
   {
    "duration": 63,
    "start_time": "2023-06-07T19:04:17.211Z"
   },
   {
    "duration": 4,
    "start_time": "2023-06-07T19:07:22.913Z"
   },
   {
    "duration": 10,
    "start_time": "2023-06-07T19:07:27.432Z"
   },
   {
    "duration": 57,
    "start_time": "2023-06-07T19:08:23.752Z"
   },
   {
    "duration": 49,
    "start_time": "2023-06-07T19:09:13.431Z"
   },
   {
    "duration": 38,
    "start_time": "2023-06-07T19:09:34.232Z"
   },
   {
    "duration": 10,
    "start_time": "2023-06-07T19:10:31.677Z"
   },
   {
    "duration": 55,
    "start_time": "2023-06-07T19:10:31.938Z"
   },
   {
    "duration": 47,
    "start_time": "2023-06-07T19:11:05.504Z"
   },
   {
    "duration": 6,
    "start_time": "2023-06-07T19:11:10.039Z"
   },
   {
    "duration": 6,
    "start_time": "2023-06-07T19:11:52.068Z"
   },
   {
    "duration": 14,
    "start_time": "2023-06-07T19:11:52.318Z"
   },
   {
    "duration": 5,
    "start_time": "2023-06-07T19:11:53.020Z"
   },
   {
    "duration": 43,
    "start_time": "2023-06-07T19:12:25.947Z"
   },
   {
    "duration": 10,
    "start_time": "2023-06-07T19:12:31.040Z"
   },
   {
    "duration": 13,
    "start_time": "2023-06-07T19:13:04.528Z"
   },
   {
    "duration": 8,
    "start_time": "2023-06-07T19:13:19.022Z"
   },
   {
    "duration": 60,
    "start_time": "2023-06-07T19:13:31.079Z"
   },
   {
    "duration": 1049,
    "start_time": "2023-06-07T19:15:14.566Z"
   },
   {
    "duration": 37,
    "start_time": "2023-06-07T19:15:15.617Z"
   },
   {
    "duration": 14,
    "start_time": "2023-06-07T19:15:15.655Z"
   },
   {
    "duration": 24,
    "start_time": "2023-06-07T19:15:15.671Z"
   },
   {
    "duration": 18,
    "start_time": "2023-06-07T19:15:15.697Z"
   },
   {
    "duration": 18,
    "start_time": "2023-06-07T19:15:15.717Z"
   },
   {
    "duration": 23,
    "start_time": "2023-06-07T19:15:15.737Z"
   },
   {
    "duration": 13,
    "start_time": "2023-06-07T19:15:15.762Z"
   },
   {
    "duration": 4,
    "start_time": "2023-06-07T19:15:15.776Z"
   },
   {
    "duration": 8,
    "start_time": "2023-06-07T19:15:15.782Z"
   },
   {
    "duration": 13,
    "start_time": "2023-06-07T19:15:15.792Z"
   },
   {
    "duration": 10,
    "start_time": "2023-06-07T19:15:15.806Z"
   },
   {
    "duration": 5,
    "start_time": "2023-06-07T19:15:15.818Z"
   },
   {
    "duration": 99,
    "start_time": "2023-06-07T19:15:15.859Z"
   },
   {
    "duration": 5,
    "start_time": "2023-06-07T19:15:15.960Z"
   },
   {
    "duration": 13,
    "start_time": "2023-06-07T19:15:15.967Z"
   },
   {
    "duration": 11,
    "start_time": "2023-06-07T19:15:15.981Z"
   },
   {
    "duration": 7,
    "start_time": "2023-06-07T19:15:15.994Z"
   },
   {
    "duration": 134,
    "start_time": "2023-06-08T19:38:44.988Z"
   },
   {
    "duration": 181,
    "start_time": "2023-06-08T19:54:30.352Z"
   }
  ],
  "kernelspec": {
   "display_name": "Python 3 (ipykernel)",
   "language": "python",
   "name": "python3"
  },
  "language_info": {
   "codemirror_mode": {
    "name": "ipython",
    "version": 3
   },
   "file_extension": ".py",
   "mimetype": "text/x-python",
   "name": "python",
   "nbconvert_exporter": "python",
   "pygments_lexer": "ipython3",
   "version": "3.10.9"
  },
  "toc": {
   "base_numbering": 1,
   "nav_menu": {},
   "number_sections": true,
   "sideBar": true,
   "skip_h1_title": true,
   "title_cell": "Содержание",
   "title_sidebar": "Contents",
   "toc_cell": true,
   "toc_position": {},
   "toc_section_display": true,
   "toc_window_display": true
  }
 },
 "nbformat": 4,
 "nbformat_minor": 2
}
